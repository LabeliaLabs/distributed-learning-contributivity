{
  "cells": [
    {
      "cell_type": "markdown",
      "metadata": {
        "id": "GX9JiNefdWAd",
        "colab_type": "text"
      },
      "source": [
        "## Clone repo and install requirements"
      ]
    },
    {
      "cell_type": "code",
      "metadata": {
        "id": "pul85ozdtasN",
        "colab_type": "code",
        "colab": {
          "base_uri": "https://localhost:8080/",
          "height": 136
        },
        "outputId": "aabd7864-fe7c-4c9e-a814-134efd8e606d"
      },
      "source": [
        "!git clone https://github.com/SubstraFoundation/distributed-learning-contributivity"
      ],
      "execution_count": 1,
      "outputs": [
        {
          "output_type": "stream",
          "text": [
            "Cloning into 'distributed-learning-contributivity'...\n",
            "remote: Enumerating objects: 193, done.\u001b[K\n",
            "remote: Counting objects: 100% (193/193), done.\u001b[K\n",
            "remote: Compressing objects: 100% (144/144), done.\u001b[K\n",
            "remote: Total 2707 (delta 117), reused 109 (delta 49), pack-reused 2514\u001b[K\n",
            "Receiving objects: 100% (2707/2707), 5.36 MiB | 27.32 MiB/s, done.\n",
            "Resolving deltas: 100% (1788/1788), done.\n"
          ],
          "name": "stdout"
        }
      ]
    },
    {
      "cell_type": "code",
      "metadata": {
        "id": "euLe_4YHt6If",
        "colab_type": "code",
        "colab": {
          "base_uri": "https://localhost:8080/",
          "height": 153
        },
        "outputId": "97ac115e-2b07-42be-d452-a25d81abd757"
      },
      "source": [
        "%cd distributed-learning-contributivity/\n",
        "!ls "
      ],
      "execution_count": 2,
      "outputs": [
        {
          "output_type": "stream",
          "text": [
            "/content/distributed-learning-contributivity\n",
            "config_quick_debug.yml\timg\t\t\t   requirements.txt\n",
            "config.yml\t\tLICENSE\t\t\t   run_experiment.ipynb\n",
            "constants.py\t\tmain.py\t\t\t   saved_experiments\n",
            "CONTRIBUTING.md\t\tmulti_partner_learning.py  scenario.py\n",
            "contributivity.py\tnotebooks\t\t   shapley_value\n",
            "dataset.py\t\tpartner.py\t\t   utils.py\n",
            "datasets\t\tREADME.md\n"
          ],
          "name": "stdout"
        }
      ]
    },
    {
      "cell_type": "code",
      "metadata": {
        "id": "4s0E0H4mt2GB",
        "colab_type": "code",
        "colab": {
          "base_uri": "https://localhost:8080/",
          "height": 1000
        },
        "outputId": "314525b0-e78d-46de-dbfa-dce1a1678d32"
      },
      "source": [
        "!pip install -r requirements.txt"
      ],
      "execution_count": 3,
      "outputs": [
        {
          "output_type": "stream",
          "text": [
            "Requirement already satisfied: Keras==2.3.1 in /usr/local/lib/python3.6/dist-packages (from -r requirements.txt (line 1)) (2.3.1)\n",
            "Collecting matplotlib==3.1.3\n",
            "\u001b[?25l  Downloading https://files.pythonhosted.org/packages/7e/07/4b361d6d0f4e08942575f83a11d33f36897e1aae4279046606dd1808778a/matplotlib-3.1.3-cp36-cp36m-manylinux1_x86_64.whl (13.1MB)\n",
            "\u001b[K     |████████████████████████████████| 13.1MB 237kB/s \n",
            "\u001b[?25hCollecting numpy==1.18.1\n",
            "\u001b[?25l  Downloading https://files.pythonhosted.org/packages/62/20/4d43e141b5bc426ba38274933ef8e76e85c7adea2c321ecf9ebf7421cedf/numpy-1.18.1-cp36-cp36m-manylinux1_x86_64.whl (20.1MB)\n",
            "\u001b[K     |████████████████████████████████| 20.2MB 74.5MB/s \n",
            "\u001b[?25hRequirement already satisfied: scipy==1.4.1 in /usr/local/lib/python3.6/dist-packages (from -r requirements.txt (line 4)) (1.4.1)\n",
            "Collecting scikit-learn==0.22.1\n",
            "\u001b[?25l  Downloading https://files.pythonhosted.org/packages/d1/48/e9fa9e252abcd1447eff6f9257636af31758a6e46fd5ce5d3c879f6907cb/scikit_learn-0.22.1-cp36-cp36m-manylinux1_x86_64.whl (7.0MB)\n",
            "\u001b[K     |████████████████████████████████| 7.1MB 49.9MB/s \n",
            "\u001b[?25hCollecting pandas==0.25.3\n",
            "\u001b[?25l  Downloading https://files.pythonhosted.org/packages/52/3f/f6a428599e0d4497e1595030965b5ba455fd8ade6e977e3c819973c4b41d/pandas-0.25.3-cp36-cp36m-manylinux1_x86_64.whl (10.4MB)\n",
            "\u001b[K     |████████████████████████████████| 10.4MB 51.8MB/s \n",
            "\u001b[?25hCollecting seaborn==0.10.0\n",
            "\u001b[?25l  Downloading https://files.pythonhosted.org/packages/70/bd/5e6bf595fe6ee0f257ae49336dd180768c1ed3d7c7155b2fdf894c1c808a/seaborn-0.10.0-py3-none-any.whl (215kB)\n",
            "\u001b[K     |████████████████████████████████| 225kB 54.3MB/s \n",
            "\u001b[?25hCollecting loguru==0.4.1\n",
            "\u001b[?25l  Downloading https://files.pythonhosted.org/packages/b2/f4/2c8b94025c6e30bdb331c7ee628dc152771845aedff35f0365c2a4dacd42/loguru-0.4.1-py3-none-any.whl (54kB)\n",
            "\u001b[K     |████████████████████████████████| 61kB 10.4MB/s \n",
            "\u001b[?25hCollecting tensorflow==2.1.0\n",
            "\u001b[?25l  Downloading https://files.pythonhosted.org/packages/85/d4/c0cd1057b331bc38b65478302114194bd8e1b9c2bbc06e300935c0e93d90/tensorflow-2.1.0-cp36-cp36m-manylinux2010_x86_64.whl (421.8MB)\n",
            "\u001b[K     |████████████████████████████████| 421.8MB 26kB/s \n",
            "\u001b[?25hCollecting ruamel.yaml~=0.16.10\n",
            "\u001b[?25l  Downloading https://files.pythonhosted.org/packages/a6/92/59af3e38227b9cc14520bf1e59516d99ceca53e3b8448094248171e9432b/ruamel.yaml-0.16.10-py2.py3-none-any.whl (111kB)\n",
            "\u001b[K     |████████████████████████████████| 112kB 54.2MB/s \n",
            "\u001b[?25hRequirement already satisfied: keras-preprocessing>=1.0.5 in /usr/local/lib/python3.6/dist-packages (from Keras==2.3.1->-r requirements.txt (line 1)) (1.1.2)\n",
            "Requirement already satisfied: h5py in /usr/local/lib/python3.6/dist-packages (from Keras==2.3.1->-r requirements.txt (line 1)) (2.10.0)\n",
            "Requirement already satisfied: six>=1.9.0 in /usr/local/lib/python3.6/dist-packages (from Keras==2.3.1->-r requirements.txt (line 1)) (1.12.0)\n",
            "Requirement already satisfied: keras-applications>=1.0.6 in /usr/local/lib/python3.6/dist-packages (from Keras==2.3.1->-r requirements.txt (line 1)) (1.0.8)\n",
            "Requirement already satisfied: pyyaml in /usr/local/lib/python3.6/dist-packages (from Keras==2.3.1->-r requirements.txt (line 1)) (3.13)\n",
            "Requirement already satisfied: pyparsing!=2.0.4,!=2.1.2,!=2.1.6,>=2.0.1 in /usr/local/lib/python3.6/dist-packages (from matplotlib==3.1.3->-r requirements.txt (line 2)) (2.4.7)\n",
            "Requirement already satisfied: python-dateutil>=2.1 in /usr/local/lib/python3.6/dist-packages (from matplotlib==3.1.3->-r requirements.txt (line 2)) (2.8.1)\n",
            "Requirement already satisfied: kiwisolver>=1.0.1 in /usr/local/lib/python3.6/dist-packages (from matplotlib==3.1.3->-r requirements.txt (line 2)) (1.2.0)\n",
            "Requirement already satisfied: cycler>=0.10 in /usr/local/lib/python3.6/dist-packages (from matplotlib==3.1.3->-r requirements.txt (line 2)) (0.10.0)\n",
            "Requirement already satisfied: joblib>=0.11 in /usr/local/lib/python3.6/dist-packages (from scikit-learn==0.22.1->-r requirements.txt (line 5)) (0.15.1)\n",
            "Requirement already satisfied: pytz>=2017.2 in /usr/local/lib/python3.6/dist-packages (from pandas==0.25.3->-r requirements.txt (line 6)) (2018.9)\n",
            "Collecting aiocontextvars>=0.2.0; python_version < \"3.7\"\n",
            "  Downloading https://files.pythonhosted.org/packages/db/c1/7a723e8d988de0a2e623927396e54b6831b68cb80dce468c945b849a9385/aiocontextvars-0.2.2-py2.py3-none-any.whl\n",
            "Requirement already satisfied: opt-einsum>=2.3.2 in /usr/local/lib/python3.6/dist-packages (from tensorflow==2.1.0->-r requirements.txt (line 9)) (3.2.1)\n",
            "Requirement already satisfied: termcolor>=1.1.0 in /usr/local/lib/python3.6/dist-packages (from tensorflow==2.1.0->-r requirements.txt (line 9)) (1.1.0)\n",
            "Requirement already satisfied: protobuf>=3.8.0 in /usr/local/lib/python3.6/dist-packages (from tensorflow==2.1.0->-r requirements.txt (line 9)) (3.10.0)\n",
            "Requirement already satisfied: astor>=0.6.0 in /usr/local/lib/python3.6/dist-packages (from tensorflow==2.1.0->-r requirements.txt (line 9)) (0.8.1)\n",
            "Collecting tensorflow-estimator<2.2.0,>=2.1.0rc0\n",
            "\u001b[?25l  Downloading https://files.pythonhosted.org/packages/18/90/b77c328a1304437ab1310b463e533fa7689f4bfc41549593056d812fab8e/tensorflow_estimator-2.1.0-py2.py3-none-any.whl (448kB)\n",
            "\u001b[K     |████████████████████████████████| 450kB 55.3MB/s \n",
            "\u001b[?25hRequirement already satisfied: wheel>=0.26; python_version >= \"3\" in /usr/local/lib/python3.6/dist-packages (from tensorflow==2.1.0->-r requirements.txt (line 9)) (0.34.2)\n",
            "Requirement already satisfied: wrapt>=1.11.1 in /usr/local/lib/python3.6/dist-packages (from tensorflow==2.1.0->-r requirements.txt (line 9)) (1.12.1)\n",
            "Collecting gast==0.2.2\n",
            "  Downloading https://files.pythonhosted.org/packages/4e/35/11749bf99b2d4e3cceb4d55ca22590b0d7c2c62b9de38ac4a4a7f4687421/gast-0.2.2.tar.gz\n",
            "Requirement already satisfied: absl-py>=0.7.0 in /usr/local/lib/python3.6/dist-packages (from tensorflow==2.1.0->-r requirements.txt (line 9)) (0.9.0)\n",
            "Requirement already satisfied: google-pasta>=0.1.6 in /usr/local/lib/python3.6/dist-packages (from tensorflow==2.1.0->-r requirements.txt (line 9)) (0.2.0)\n",
            "Requirement already satisfied: grpcio>=1.8.6 in /usr/local/lib/python3.6/dist-packages (from tensorflow==2.1.0->-r requirements.txt (line 9)) (1.29.0)\n",
            "Collecting tensorboard<2.2.0,>=2.1.0\n",
            "\u001b[?25l  Downloading https://files.pythonhosted.org/packages/d9/41/bbf49b61370e4f4d245d4c6051dfb6db80cec672605c91b1652ac8cc3d38/tensorboard-2.1.1-py3-none-any.whl (3.8MB)\n",
            "\u001b[K     |████████████████████████████████| 3.9MB 47.8MB/s \n",
            "\u001b[?25hCollecting ruamel.yaml.clib>=0.1.2; platform_python_implementation == \"CPython\" and python_version < \"3.9\"\n",
            "\u001b[?25l  Downloading https://files.pythonhosted.org/packages/53/77/4bcd63f362bcb6c8f4f06253c11f9772f64189bf08cf3f40c5ccbda9e561/ruamel.yaml.clib-0.2.0-cp36-cp36m-manylinux1_x86_64.whl (548kB)\n",
            "\u001b[K     |████████████████████████████████| 552kB 50.3MB/s \n",
            "\u001b[?25hCollecting contextvars==2.4; python_version < \"3.7\"\n",
            "  Downloading https://files.pythonhosted.org/packages/83/96/55b82d9f13763be9d672622e1b8106c85acb83edd7cc2fa5bc67cd9877e9/contextvars-2.4.tar.gz\n",
            "Requirement already satisfied: setuptools in /usr/local/lib/python3.6/dist-packages (from protobuf>=3.8.0->tensorflow==2.1.0->-r requirements.txt (line 9)) (47.1.1)\n",
            "Requirement already satisfied: werkzeug>=0.11.15 in /usr/local/lib/python3.6/dist-packages (from tensorboard<2.2.0,>=2.1.0->tensorflow==2.1.0->-r requirements.txt (line 9)) (1.0.1)\n",
            "Requirement already satisfied: google-auth<2,>=1.6.3 in /usr/local/lib/python3.6/dist-packages (from tensorboard<2.2.0,>=2.1.0->tensorflow==2.1.0->-r requirements.txt (line 9)) (1.7.2)\n",
            "Requirement already satisfied: markdown>=2.6.8 in /usr/local/lib/python3.6/dist-packages (from tensorboard<2.2.0,>=2.1.0->tensorflow==2.1.0->-r requirements.txt (line 9)) (3.2.2)\n",
            "Requirement already satisfied: google-auth-oauthlib<0.5,>=0.4.1 in /usr/local/lib/python3.6/dist-packages (from tensorboard<2.2.0,>=2.1.0->tensorflow==2.1.0->-r requirements.txt (line 9)) (0.4.1)\n",
            "Requirement already satisfied: requests<3,>=2.21.0 in /usr/local/lib/python3.6/dist-packages (from tensorboard<2.2.0,>=2.1.0->tensorflow==2.1.0->-r requirements.txt (line 9)) (2.23.0)\n",
            "Collecting immutables>=0.9\n",
            "\u001b[?25l  Downloading https://files.pythonhosted.org/packages/99/e0/ea6fd4697120327d26773b5a84853f897a68e33d3f9376b00a8ff96e4f63/immutables-0.14-cp36-cp36m-manylinux1_x86_64.whl (98kB)\n",
            "\u001b[K     |████████████████████████████████| 102kB 13.7MB/s \n",
            "\u001b[?25hRequirement already satisfied: pyasn1-modules>=0.2.1 in /usr/local/lib/python3.6/dist-packages (from google-auth<2,>=1.6.3->tensorboard<2.2.0,>=2.1.0->tensorflow==2.1.0->-r requirements.txt (line 9)) (0.2.8)\n",
            "Requirement already satisfied: rsa<4.1,>=3.1.4 in /usr/local/lib/python3.6/dist-packages (from google-auth<2,>=1.6.3->tensorboard<2.2.0,>=2.1.0->tensorflow==2.1.0->-r requirements.txt (line 9)) (4.0)\n",
            "Requirement already satisfied: cachetools<3.2,>=2.0.0 in /usr/local/lib/python3.6/dist-packages (from google-auth<2,>=1.6.3->tensorboard<2.2.0,>=2.1.0->tensorflow==2.1.0->-r requirements.txt (line 9)) (3.1.1)\n",
            "Requirement already satisfied: importlib-metadata; python_version < \"3.8\" in /usr/local/lib/python3.6/dist-packages (from markdown>=2.6.8->tensorboard<2.2.0,>=2.1.0->tensorflow==2.1.0->-r requirements.txt (line 9)) (1.6.0)\n",
            "Requirement already satisfied: requests-oauthlib>=0.7.0 in /usr/local/lib/python3.6/dist-packages (from google-auth-oauthlib<0.5,>=0.4.1->tensorboard<2.2.0,>=2.1.0->tensorflow==2.1.0->-r requirements.txt (line 9)) (1.3.0)\n",
            "Requirement already satisfied: urllib3!=1.25.0,!=1.25.1,<1.26,>=1.21.1 in /usr/local/lib/python3.6/dist-packages (from requests<3,>=2.21.0->tensorboard<2.2.0,>=2.1.0->tensorflow==2.1.0->-r requirements.txt (line 9)) (1.24.3)\n",
            "Requirement already satisfied: chardet<4,>=3.0.2 in /usr/local/lib/python3.6/dist-packages (from requests<3,>=2.21.0->tensorboard<2.2.0,>=2.1.0->tensorflow==2.1.0->-r requirements.txt (line 9)) (3.0.4)\n",
            "Requirement already satisfied: idna<3,>=2.5 in /usr/local/lib/python3.6/dist-packages (from requests<3,>=2.21.0->tensorboard<2.2.0,>=2.1.0->tensorflow==2.1.0->-r requirements.txt (line 9)) (2.9)\n",
            "Requirement already satisfied: certifi>=2017.4.17 in /usr/local/lib/python3.6/dist-packages (from requests<3,>=2.21.0->tensorboard<2.2.0,>=2.1.0->tensorflow==2.1.0->-r requirements.txt (line 9)) (2020.4.5.1)\n",
            "Requirement already satisfied: pyasn1<0.5.0,>=0.4.6 in /usr/local/lib/python3.6/dist-packages (from pyasn1-modules>=0.2.1->google-auth<2,>=1.6.3->tensorboard<2.2.0,>=2.1.0->tensorflow==2.1.0->-r requirements.txt (line 9)) (0.4.8)\n",
            "Requirement already satisfied: zipp>=0.5 in /usr/local/lib/python3.6/dist-packages (from importlib-metadata; python_version < \"3.8\"->markdown>=2.6.8->tensorboard<2.2.0,>=2.1.0->tensorflow==2.1.0->-r requirements.txt (line 9)) (3.1.0)\n",
            "Requirement already satisfied: oauthlib>=3.0.0 in /usr/local/lib/python3.6/dist-packages (from requests-oauthlib>=0.7.0->google-auth-oauthlib<0.5,>=0.4.1->tensorboard<2.2.0,>=2.1.0->tensorflow==2.1.0->-r requirements.txt (line 9)) (3.1.0)\n",
            "Building wheels for collected packages: gast, contextvars\n",
            "  Building wheel for gast (setup.py) ... \u001b[?25l\u001b[?25hdone\n",
            "  Created wheel for gast: filename=gast-0.2.2-cp36-none-any.whl size=7540 sha256=66710344ba899e9558b89df307a9890b498cf5382d7280e698ff296d854eba25\n",
            "  Stored in directory: /root/.cache/pip/wheels/5c/2e/7e/a1d4d4fcebe6c381f378ce7743a3ced3699feb89bcfbdadadd\n",
            "  Building wheel for contextvars (setup.py) ... \u001b[?25l\u001b[?25hdone\n",
            "  Created wheel for contextvars: filename=contextvars-2.4-cp36-none-any.whl size=7666 sha256=3e958c2a5af6258e1425abfa1b154349e64b0146a851fa5b7c7c12ad55249ad6\n",
            "  Stored in directory: /root/.cache/pip/wheels/a5/7d/68/1ebae2668bda2228686e3c1cf16f2c2384cea6e9334ad5f6de\n",
            "Successfully built gast contextvars\n",
            "\u001b[31mERROR: tensorflow-probability 0.10.0 has requirement gast>=0.3.2, but you'll have gast 0.2.2 which is incompatible.\u001b[0m\n",
            "\u001b[31mERROR: google-colab 1.0.0 has requirement pandas~=1.0.0; python_version >= \"3.0\", but you'll have pandas 0.25.3 which is incompatible.\u001b[0m\n",
            "\u001b[31mERROR: datascience 0.10.6 has requirement folium==0.2.1, but you'll have folium 0.8.3 which is incompatible.\u001b[0m\n",
            "\u001b[31mERROR: albumentations 0.1.12 has requirement imgaug<0.2.7,>=0.2.5, but you'll have imgaug 0.2.9 which is incompatible.\u001b[0m\n",
            "Installing collected packages: numpy, matplotlib, scikit-learn, pandas, seaborn, immutables, contextvars, aiocontextvars, loguru, tensorflow-estimator, gast, tensorboard, tensorflow, ruamel.yaml.clib, ruamel.yaml\n",
            "  Found existing installation: numpy 1.18.5\n",
            "    Uninstalling numpy-1.18.5:\n",
            "      Successfully uninstalled numpy-1.18.5\n",
            "  Found existing installation: matplotlib 3.2.1\n",
            "    Uninstalling matplotlib-3.2.1:\n",
            "      Successfully uninstalled matplotlib-3.2.1\n",
            "  Found existing installation: scikit-learn 0.22.2.post1\n",
            "    Uninstalling scikit-learn-0.22.2.post1:\n",
            "      Successfully uninstalled scikit-learn-0.22.2.post1\n",
            "  Found existing installation: pandas 1.0.4\n",
            "    Uninstalling pandas-1.0.4:\n",
            "      Successfully uninstalled pandas-1.0.4\n",
            "  Found existing installation: seaborn 0.10.1\n",
            "    Uninstalling seaborn-0.10.1:\n",
            "      Successfully uninstalled seaborn-0.10.1\n",
            "  Found existing installation: tensorflow-estimator 2.2.0\n",
            "    Uninstalling tensorflow-estimator-2.2.0:\n",
            "      Successfully uninstalled tensorflow-estimator-2.2.0\n",
            "  Found existing installation: gast 0.3.3\n",
            "    Uninstalling gast-0.3.3:\n",
            "      Successfully uninstalled gast-0.3.3\n",
            "  Found existing installation: tensorboard 2.2.2\n",
            "    Uninstalling tensorboard-2.2.2:\n",
            "      Successfully uninstalled tensorboard-2.2.2\n",
            "  Found existing installation: tensorflow 2.2.0\n",
            "    Uninstalling tensorflow-2.2.0:\n",
            "      Successfully uninstalled tensorflow-2.2.0\n",
            "Successfully installed aiocontextvars-0.2.2 contextvars-2.4 gast-0.2.2 immutables-0.14 loguru-0.4.1 matplotlib-3.1.3 numpy-1.18.1 pandas-0.25.3 ruamel.yaml-0.16.10 ruamel.yaml.clib-0.2.0 scikit-learn-0.22.1 seaborn-0.10.0 tensorboard-2.1.1 tensorflow-2.1.0 tensorflow-estimator-2.1.0\n"
          ],
          "name": "stdout"
        },
        {
          "output_type": "display_data",
          "data": {
            "application/vnd.colab-display-data+json": {
              "pip_warning": {
                "packages": [
                  "matplotlib",
                  "mpl_toolkits",
                  "numpy",
                  "pandas"
                ]
              }
            }
          },
          "metadata": {
            "tags": []
          }
        }
      ]
    },
    {
      "cell_type": "markdown",
      "metadata": {
        "id": "0aob8HOydfCb",
        "colab_type": "text"
      },
      "source": [
        "## Specify config file and launch computations"
      ]
    },
    {
      "cell_type": "code",
      "metadata": {
        "id": "jp4uqQrTYtrW",
        "colab_type": "code",
        "colab": {}
      },
      "source": [
        "document = \"\"\"\n",
        "experiment_name: debug_config\n",
        "n_repeats: 1\n",
        "scenario_params_list:\n",
        " - dataset_name:\n",
        "    - 'mnist'\n",
        "   partners_count:\n",
        "    - 3\n",
        "   amounts_per_partner: \n",
        "    - [0.2, 0.5, 0.3]\n",
        "   samples_split_option: \n",
        "    - 'random'\n",
        "   multi_partner_learning_approach:\n",
        "    - 'fedavg'\n",
        "   aggregation_weighting:\n",
        "    - 'uniform'\n",
        "   gradient_updates_per_pass_count:\n",
        "    - 5\n",
        "\"\"\""
      ],
      "execution_count": 4,
      "outputs": []
    },
    {
      "cell_type": "code",
      "metadata": {
        "id": "u7_ROZypYjb9",
        "colab_type": "code",
        "colab": {
          "base_uri": "https://localhost:8080/",
          "height": 323
        },
        "outputId": "22c33796-b5c0-4c44-f156-ce04800d015d"
      },
      "source": [
        "f = open(\"config.yml\", \"w\")\n",
        "f.write(document)\n",
        "f.close()\n",
        "\n",
        "!cat config.yml"
      ],
      "execution_count": 5,
      "outputs": [
        {
          "output_type": "stream",
          "text": [
            "\n",
            "experiment_name: debug_config\n",
            "n_repeats: 1\n",
            "scenario_params_list:\n",
            " - dataset_name:\n",
            "    - 'mnist'\n",
            "   partners_count:\n",
            "    - 3\n",
            "   amounts_per_partner: \n",
            "    - [0.2, 0.5, 0.3]\n",
            "   samples_split_option: \n",
            "    - 'random'\n",
            "   multi_partner_learning_approach:\n",
            "    - 'fedavg'\n",
            "   aggregation_weighting:\n",
            "    - 'uniform'\n",
            "   gradient_updates_per_pass_count:\n",
            "    - 5\n"
          ],
          "name": "stdout"
        }
      ]
    },
    {
      "cell_type": "code",
      "metadata": {
        "id": "pjADhIB5umEG",
        "colab_type": "code",
        "colab": {
          "base_uri": "https://localhost:8080/",
          "height": 1000
        },
        "outputId": "88f6f2bb-bb75-4981-d9fd-0f23ca0f3125"
      },
      "source": [
        "!python main.py"
      ],
      "execution_count": 6,
      "outputs": [
        {
          "output_type": "stream",
          "text": [
            "2020-06-17 11:20:06.244503: W tensorflow/stream_executor/platform/default/dso_loader.cc:55] Could not load dynamic library 'libnvinfer.so.6'; dlerror: libnvinfer.so.6: cannot open shared object file: No such file or directory; LD_LIBRARY_PATH: /usr/lib64-nvidia\n",
            "2020-06-17 11:20:06.244642: W tensorflow/stream_executor/platform/default/dso_loader.cc:55] Could not load dynamic library 'libnvinfer_plugin.so.6'; dlerror: libnvinfer_plugin.so.6: cannot open shared object file: No such file or directory; LD_LIBRARY_PATH: /usr/lib64-nvidia\n",
            "2020-06-17 11:20:06.244661: W tensorflow/compiler/tf2tensorrt/utils/py_utils.cc:30] Cannot dlopen some TensorRT libraries. If you would like to use Nvidia GPU with TensorRT, please make sure the missing libraries mentioned above are installed properly.\n",
            "Using TensorFlow backend.\n",
            "Downloading data from https://s3.amazonaws.com/img-datasets/mnist.npz\n",
            "11493376/11490434 [==============================] - 0s 0us/step\n",
            "Downloading data from https://www.cs.toronto.edu/~kriz/cifar-10-python.tar.gz\n",
            "170500096/170498071 [==============================] - 2s 0us/step\n",
            "\u001b[32m2020-06-17 11:20:12.944\u001b[0m | \u001b[1mINFO    \u001b[0m | \u001b[36m__main__\u001b[0m:\u001b[36mget_config_from_file\u001b[0m:\u001b[36m200\u001b[0m - \u001b[1mUsing default config file: config.yml\u001b[0m\n",
            "\u001b[32m2020-06-17 11:20:12.944\u001b[0m | \u001b[1mINFO    \u001b[0m | \u001b[36mutils\u001b[0m:\u001b[36mload_cfg\u001b[0m:\u001b[36m25\u001b[0m - \u001b[1mLoading experiment yaml file\u001b[0m\n",
            "\u001b[32m2020-06-17 11:20:12.946\u001b[0m | \u001b[1mINFO    \u001b[0m | \u001b[36mutils\u001b[0m:\u001b[36mload_cfg\u001b[0m:\u001b[36m32\u001b[0m - \u001b[1m{'experiment_name': 'debug_config', 'n_repeats': 1, 'scenario_params_list': [{'dataset_name': ['mnist'], 'partners_count': [3], 'amounts_per_partner': [[0.2, 0.5, 0.3]], 'samples_split_option': ['random'], 'multi_partner_learning_approach': ['fedavg'], 'aggregation_weighting': ['uniform'], 'gradient_updates_per_pass_count': [5]}]}\u001b[0m\n",
            "\u001b[32m2020-06-17 11:20:12.946\u001b[0m | \u001b[1mINFO    \u001b[0m | \u001b[36mutils\u001b[0m:\u001b[36minit_result_folder\u001b[0m:\u001b[36m91\u001b[0m - \u001b[1mInit result folder\u001b[0m\n",
            "\u001b[32m2020-06-17 11:20:12.947\u001b[0m | \u001b[1mINFO    \u001b[0m | \u001b[36mutils\u001b[0m:\u001b[36minit_result_folder\u001b[0m:\u001b[36m109\u001b[0m - \u001b[1mexperiment folder /content/distributed-learning-contributivity/experiments/debug_config_2020-06-17_11h20 created.\u001b[0m\n",
            "\u001b[32m2020-06-17 11:20:12.947\u001b[0m | \u001b[1mINFO    \u001b[0m | \u001b[36mutils\u001b[0m:\u001b[36minit_result_folder\u001b[0m:\u001b[36m114\u001b[0m - \u001b[1mResult folder initiated\u001b[0m\n",
            "\u001b[32m2020-06-17 11:20:12.947\u001b[0m | \u001b[1mINFO    \u001b[0m | \u001b[36mutils\u001b[0m:\u001b[36mget_scenario_params_list\u001b[0m:\u001b[36m75\u001b[0m - \u001b[1mNumber of scenario(s) configured: 1\u001b[0m\n",
            "\u001b[32m2020-06-17 11:20:13.162\u001b[0m | \u001b[1mINFO    \u001b[0m | \u001b[36m__main__\u001b[0m:\u001b[36mmain\u001b[0m:\u001b[36m49\u001b[0m - \u001b[1mScenario 1/1: {'dataset_name': 'mnist', 'partners_count': 3, 'amounts_per_partner': [0.2, 0.5, 0.3], 'samples_split_option': 'random', 'multi_partner_learning_approach': 'fedavg', 'aggregation_weighting': 'uniform', 'gradient_updates_per_pass_count': 5}\u001b[0m\n",
            "2020-06-17 11:20:13.170770: I tensorflow/stream_executor/platform/default/dso_loader.cc:44] Successfully opened dynamic library libcuda.so.1\n",
            "2020-06-17 11:20:13.212375: I tensorflow/stream_executor/cuda/cuda_gpu_executor.cc:981] successful NUMA node read from SysFS had negative value (-1), but there must be at least one NUMA node, so returning NUMA node zero\n",
            "2020-06-17 11:20:13.212921: I tensorflow/core/common_runtime/gpu/gpu_device.cc:1555] Found device 0 with properties: \n",
            "pciBusID: 0000:00:04.0 name: Tesla P100-PCIE-16GB computeCapability: 6.0\n",
            "coreClock: 1.3285GHz coreCount: 56 deviceMemorySize: 15.90GiB deviceMemoryBandwidth: 681.88GiB/s\n",
            "2020-06-17 11:20:13.213223: I tensorflow/stream_executor/platform/default/dso_loader.cc:44] Successfully opened dynamic library libcudart.so.10.1\n",
            "2020-06-17 11:20:13.442898: I tensorflow/stream_executor/platform/default/dso_loader.cc:44] Successfully opened dynamic library libcublas.so.10\n",
            "2020-06-17 11:20:13.562579: I tensorflow/stream_executor/platform/default/dso_loader.cc:44] Successfully opened dynamic library libcufft.so.10\n",
            "2020-06-17 11:20:13.594574: I tensorflow/stream_executor/platform/default/dso_loader.cc:44] Successfully opened dynamic library libcurand.so.10\n",
            "2020-06-17 11:20:13.850933: I tensorflow/stream_executor/platform/default/dso_loader.cc:44] Successfully opened dynamic library libcusolver.so.10\n",
            "2020-06-17 11:20:13.889622: I tensorflow/stream_executor/platform/default/dso_loader.cc:44] Successfully opened dynamic library libcusparse.so.10\n",
            "2020-06-17 11:20:14.384761: I tensorflow/stream_executor/platform/default/dso_loader.cc:44] Successfully opened dynamic library libcudnn.so.7\n",
            "2020-06-17 11:20:14.385049: I tensorflow/stream_executor/cuda/cuda_gpu_executor.cc:981] successful NUMA node read from SysFS had negative value (-1), but there must be at least one NUMA node, so returning NUMA node zero\n",
            "2020-06-17 11:20:14.385984: I tensorflow/stream_executor/cuda/cuda_gpu_executor.cc:981] successful NUMA node read from SysFS had negative value (-1), but there must be at least one NUMA node, so returning NUMA node zero\n",
            "2020-06-17 11:20:14.386553: I tensorflow/core/common_runtime/gpu/gpu_device.cc:1697] Adding visible gpu devices: 0\n",
            "\u001b[32m2020-06-17 11:20:14.386\u001b[0m | \u001b[1mINFO    \u001b[0m | \u001b[36m__main__\u001b[0m:\u001b[36minit_GPU_config\u001b[0m:\u001b[36m116\u001b[0m - \u001b[1mFound GPU: /physical_device:GPU:0\u001b[0m\n",
            "\u001b[32m2020-06-17 11:20:14.387\u001b[0m | \u001b[1mINFO    \u001b[0m | \u001b[36m__main__\u001b[0m:\u001b[36mmain\u001b[0m:\u001b[36m68\u001b[0m - \u001b[1mRepeat 1/1\u001b[0m\n",
            "\u001b[32m2020-06-17 11:20:14.387\u001b[0m | \u001b[1mINFO    \u001b[0m | \u001b[36m__main__\u001b[0m:\u001b[36mmain\u001b[0m:\u001b[36m72\u001b[0m - \u001b[1mScenario 1/1\u001b[0m\n",
            "\u001b[32m2020-06-17 11:20:14.388\u001b[0m | \u001b[1mINFO    \u001b[0m | \u001b[36m__main__\u001b[0m:\u001b[36mmain\u001b[0m:\u001b[36m73\u001b[0m - \u001b[1mCurrent params:\u001b[0m\n",
            "\u001b[32m2020-06-17 11:20:14.388\u001b[0m | \u001b[1mINFO    \u001b[0m | \u001b[36m__main__\u001b[0m:\u001b[36mmain\u001b[0m:\u001b[36m74\u001b[0m - \u001b[1m{'dataset_name': 'mnist', 'partners_count': 3, 'amounts_per_partner': [0.2, 0.5, 0.3], 'samples_split_option': 'random', 'multi_partner_learning_approach': 'fedavg', 'aggregation_weighting': 'uniform', 'gradient_updates_per_pass_count': 5}\u001b[0m\n",
            "\u001b[32m2020-06-17 11:20:14.434\u001b[0m | \u001b[1mINFO    \u001b[0m | \u001b[36mscenario\u001b[0m:\u001b[36m__init__\u001b[0m:\u001b[36m246\u001b[0m - \u001b[1m### Description of data scenario configured:\u001b[0m\n",
            "\u001b[32m2020-06-17 11:20:14.434\u001b[0m | \u001b[1mINFO    \u001b[0m | \u001b[36mscenario\u001b[0m:\u001b[36m__init__\u001b[0m:\u001b[36m247\u001b[0m - \u001b[1m   Number of partners defined: 3\u001b[0m\n",
            "\u001b[32m2020-06-17 11:20:14.434\u001b[0m | \u001b[1mINFO    \u001b[0m | \u001b[36mscenario\u001b[0m:\u001b[36m__init__\u001b[0m:\u001b[36m248\u001b[0m - \u001b[1m   Data distribution scenario chosen: random\u001b[0m\n",
            "\u001b[32m2020-06-17 11:20:14.434\u001b[0m | \u001b[1mINFO    \u001b[0m | \u001b[36mscenario\u001b[0m:\u001b[36m__init__\u001b[0m:\u001b[36m249\u001b[0m - \u001b[1m   Test data distribution scenario chosen: global\u001b[0m\n",
            "\u001b[32m2020-06-17 11:20:14.435\u001b[0m | \u001b[1mINFO    \u001b[0m | \u001b[36mscenario\u001b[0m:\u001b[36m__init__\u001b[0m:\u001b[36m250\u001b[0m - \u001b[1m   Multi-partner learning approach: fedavg\u001b[0m\n",
            "\u001b[32m2020-06-17 11:20:14.435\u001b[0m | \u001b[1mINFO    \u001b[0m | \u001b[36mscenario\u001b[0m:\u001b[36m__init__\u001b[0m:\u001b[36m251\u001b[0m - \u001b[1m   Weighting option: uniform\u001b[0m\n",
            "\u001b[32m2020-06-17 11:20:14.435\u001b[0m | \u001b[1mINFO    \u001b[0m | \u001b[36mscenario\u001b[0m:\u001b[36m__init__\u001b[0m:\u001b[36m252\u001b[0m - \u001b[1m   Iterations parameters: 40 epochs > 20 mini-batches > 5 gradient updates per pass\u001b[0m\n",
            "\u001b[32m2020-06-17 11:20:14.435\u001b[0m | \u001b[1mINFO    \u001b[0m | \u001b[36mscenario\u001b[0m:\u001b[36m__init__\u001b[0m:\u001b[36m258\u001b[0m - \u001b[1m### Data loaded: mnist\u001b[0m\n",
            "\u001b[32m2020-06-17 11:20:14.435\u001b[0m | \u001b[1mINFO    \u001b[0m | \u001b[36mscenario\u001b[0m:\u001b[36m__init__\u001b[0m:\u001b[36m259\u001b[0m - \u001b[1m   48000 train data with 48000 labels\u001b[0m\n",
            "\u001b[32m2020-06-17 11:20:14.436\u001b[0m | \u001b[1mINFO    \u001b[0m | \u001b[36mscenario\u001b[0m:\u001b[36m__init__\u001b[0m:\u001b[36m260\u001b[0m - \u001b[1m   12000 val data with 12000 labels\u001b[0m\n",
            "\u001b[32m2020-06-17 11:20:14.436\u001b[0m | \u001b[1mINFO    \u001b[0m | \u001b[36mscenario\u001b[0m:\u001b[36m__init__\u001b[0m:\u001b[36m261\u001b[0m - \u001b[1m   10000 test data with 10000 labels\u001b[0m\n",
            "\u001b[32m2020-06-17 11:20:14.484\u001b[0m | \u001b[1mINFO    \u001b[0m | \u001b[36mscenario\u001b[0m:\u001b[36msplit_data\u001b[0m:\u001b[36m492\u001b[0m - \u001b[1m### Splitting data among partners:\u001b[0m\n",
            "\u001b[32m2020-06-17 11:20:14.484\u001b[0m | \u001b[1mINFO    \u001b[0m | \u001b[36mscenario\u001b[0m:\u001b[36msplit_data\u001b[0m:\u001b[36m493\u001b[0m - \u001b[1m   Simple split performed.\u001b[0m\n",
            "\u001b[32m2020-06-17 11:20:14.484\u001b[0m | \u001b[1mINFO    \u001b[0m | \u001b[36mscenario\u001b[0m:\u001b[36msplit_data\u001b[0m:\u001b[36m494\u001b[0m - \u001b[1m   Nb of samples split amongst partners: 48000\u001b[0m\n",
            "\u001b[32m2020-06-17 11:20:14.485\u001b[0m | \u001b[1mINFO    \u001b[0m | \u001b[36mscenario\u001b[0m:\u001b[36msplit_data\u001b[0m:\u001b[36m496\u001b[0m - \u001b[1m   Partner #0: 9600 samples with labels [0, 1, 2, 3, 4, 5, 6, 7, 8, 9]\u001b[0m\n",
            "\u001b[32m2020-06-17 11:20:14.485\u001b[0m | \u001b[1mINFO    \u001b[0m | \u001b[36mscenario\u001b[0m:\u001b[36msplit_data\u001b[0m:\u001b[36m496\u001b[0m - \u001b[1m   Partner #1: 24000 samples with labels [0, 1, 2, 3, 4, 5, 6, 7, 8, 9]\u001b[0m\n",
            "\u001b[32m2020-06-17 11:20:14.485\u001b[0m | \u001b[1mINFO    \u001b[0m | \u001b[36mscenario\u001b[0m:\u001b[36msplit_data\u001b[0m:\u001b[36m496\u001b[0m - \u001b[1m   Partner #2: 14400 samples with labels [0, 1, 2, 3, 4, 5, 6, 7, 8, 9]\u001b[0m\n",
            "\u001b[32m2020-06-17 11:20:14.794\u001b[0m | \u001b[1mINFO    \u001b[0m | \u001b[36mmulti_partner_learning\u001b[0m:\u001b[36mcompute_test_score\u001b[0m:\u001b[36m142\u001b[0m - \u001b[1m## Training and evaluating model on partners with ids: ['#0', '#1', '#2']\u001b[0m\n",
            "2020-06-17 11:20:14.863293: I tensorflow/core/platform/cpu_feature_guard.cc:142] Your CPU supports instructions that this TensorFlow binary was not compiled to use: AVX2 FMA\n",
            "2020-06-17 11:20:14.867377: I tensorflow/core/platform/profile_utils/cpu_utils.cc:94] CPU Frequency: 2300000000 Hz\n",
            "2020-06-17 11:20:14.867704: I tensorflow/compiler/xla/service/service.cc:168] XLA service 0x208ca00 initialized for platform Host (this does not guarantee that XLA will be used). Devices:\n",
            "2020-06-17 11:20:14.867739: I tensorflow/compiler/xla/service/service.cc:176]   StreamExecutor device (0): Host, Default Version\n",
            "2020-06-17 11:20:14.985076: I tensorflow/stream_executor/cuda/cuda_gpu_executor.cc:981] successful NUMA node read from SysFS had negative value (-1), but there must be at least one NUMA node, so returning NUMA node zero\n",
            "2020-06-17 11:20:14.985763: I tensorflow/compiler/xla/service/service.cc:168] XLA service 0x208c840 initialized for platform CUDA (this does not guarantee that XLA will be used). Devices:\n",
            "2020-06-17 11:20:14.985796: I tensorflow/compiler/xla/service/service.cc:176]   StreamExecutor device (0): Tesla P100-PCIE-16GB, Compute Capability 6.0\n",
            "2020-06-17 11:20:14.986889: I tensorflow/stream_executor/cuda/cuda_gpu_executor.cc:981] successful NUMA node read from SysFS had negative value (-1), but there must be at least one NUMA node, so returning NUMA node zero\n",
            "2020-06-17 11:20:14.987421: I tensorflow/core/common_runtime/gpu/gpu_device.cc:1555] Found device 0 with properties: \n",
            "pciBusID: 0000:00:04.0 name: Tesla P100-PCIE-16GB computeCapability: 6.0\n",
            "coreClock: 1.3285GHz coreCount: 56 deviceMemorySize: 15.90GiB deviceMemoryBandwidth: 681.88GiB/s\n",
            "2020-06-17 11:20:14.987513: I tensorflow/stream_executor/platform/default/dso_loader.cc:44] Successfully opened dynamic library libcudart.so.10.1\n",
            "2020-06-17 11:20:14.987542: I tensorflow/stream_executor/platform/default/dso_loader.cc:44] Successfully opened dynamic library libcublas.so.10\n",
            "2020-06-17 11:20:14.987568: I tensorflow/stream_executor/platform/default/dso_loader.cc:44] Successfully opened dynamic library libcufft.so.10\n",
            "2020-06-17 11:20:14.987589: I tensorflow/stream_executor/platform/default/dso_loader.cc:44] Successfully opened dynamic library libcurand.so.10\n",
            "2020-06-17 11:20:14.987608: I tensorflow/stream_executor/platform/default/dso_loader.cc:44] Successfully opened dynamic library libcusolver.so.10\n",
            "2020-06-17 11:20:14.987631: I tensorflow/stream_executor/platform/default/dso_loader.cc:44] Successfully opened dynamic library libcusparse.so.10\n",
            "2020-06-17 11:20:14.987653: I tensorflow/stream_executor/platform/default/dso_loader.cc:44] Successfully opened dynamic library libcudnn.so.7\n",
            "2020-06-17 11:20:14.987751: I tensorflow/stream_executor/cuda/cuda_gpu_executor.cc:981] successful NUMA node read from SysFS had negative value (-1), but there must be at least one NUMA node, so returning NUMA node zero\n",
            "2020-06-17 11:20:14.988353: I tensorflow/stream_executor/cuda/cuda_gpu_executor.cc:981] successful NUMA node read from SysFS had negative value (-1), but there must be at least one NUMA node, so returning NUMA node zero\n",
            "2020-06-17 11:20:14.988836: I tensorflow/core/common_runtime/gpu/gpu_device.cc:1697] Adding visible gpu devices: 0\n",
            "2020-06-17 11:20:14.988901: I tensorflow/stream_executor/platform/default/dso_loader.cc:44] Successfully opened dynamic library libcudart.so.10.1\n",
            "2020-06-17 11:20:14.993233: I tensorflow/core/common_runtime/gpu/gpu_device.cc:1096] Device interconnect StreamExecutor with strength 1 edge matrix:\n",
            "2020-06-17 11:20:14.993261: I tensorflow/core/common_runtime/gpu/gpu_device.cc:1102]      0 \n",
            "2020-06-17 11:20:14.993271: I tensorflow/core/common_runtime/gpu/gpu_device.cc:1115] 0:   N \n",
            "2020-06-17 11:20:14.993384: I tensorflow/stream_executor/cuda/cuda_gpu_executor.cc:981] successful NUMA node read from SysFS had negative value (-1), but there must be at least one NUMA node, so returning NUMA node zero\n",
            "2020-06-17 11:20:14.993962: I tensorflow/stream_executor/cuda/cuda_gpu_executor.cc:981] successful NUMA node read from SysFS had negative value (-1), but there must be at least one NUMA node, so returning NUMA node zero\n",
            "2020-06-17 11:20:14.994466: W tensorflow/core/common_runtime/gpu/gpu_bfc_allocator.cc:39] Overriding allow_growth setting because the TF_FORCE_GPU_ALLOW_GROWTH environment variable is set. Original config value was 0.\n",
            "2020-06-17 11:20:14.994512: I tensorflow/core/common_runtime/gpu/gpu_device.cc:1241] Created TensorFlow device (/job:localhost/replica:0/task:0/device:GPU:0 with 4096 MB memory) -> physical GPU (device: 0, name: Tesla P100-PCIE-16GB, pci bus id: 0000:00:04.0, compute capability: 6.0)\n",
            "2020-06-17 11:20:15.906461: I tensorflow/stream_executor/platform/default/dso_loader.cc:44] Successfully opened dynamic library libcublas.so.10\n",
            "2020-06-17 11:20:17.328441: I tensorflow/stream_executor/platform/default/dso_loader.cc:44] Successfully opened dynamic library libcudnn.so.7\n",
            "\u001b[32m2020-06-17 11:21:23.518\u001b[0m | \u001b[1mINFO    \u001b[0m | \u001b[36mmulti_partner_learning\u001b[0m:\u001b[36mcompute_test_score\u001b[0m:\u001b[36m191\u001b[0m - \u001b[1m   Model evaluation at the end of the epoch: ['0.114', '0.967']\u001b[0m\n",
            "\u001b[32m2020-06-17 11:22:25.317\u001b[0m | \u001b[1mINFO    \u001b[0m | \u001b[36mmulti_partner_learning\u001b[0m:\u001b[36mcompute_test_score\u001b[0m:\u001b[36m191\u001b[0m - \u001b[1m   Model evaluation at the end of the epoch: ['0.071', '0.978']\u001b[0m\n",
            "\u001b[32m2020-06-17 11:23:28.200\u001b[0m | \u001b[1mINFO    \u001b[0m | \u001b[36mmulti_partner_learning\u001b[0m:\u001b[36mcompute_test_score\u001b[0m:\u001b[36m191\u001b[0m - \u001b[1m   Model evaluation at the end of the epoch: ['0.060', '0.981']\u001b[0m\n",
            "\u001b[32m2020-06-17 11:24:31.914\u001b[0m | \u001b[1mINFO    \u001b[0m | \u001b[36mmulti_partner_learning\u001b[0m:\u001b[36mcompute_test_score\u001b[0m:\u001b[36m191\u001b[0m - \u001b[1m   Model evaluation at the end of the epoch: ['0.052', '0.984']\u001b[0m\n",
            "\u001b[32m2020-06-17 11:25:35.922\u001b[0m | \u001b[1mINFO    \u001b[0m | \u001b[36mmulti_partner_learning\u001b[0m:\u001b[36mcompute_test_score\u001b[0m:\u001b[36m191\u001b[0m - \u001b[1m   Model evaluation at the end of the epoch: ['0.053', '0.984']\u001b[0m\n",
            "\u001b[32m2020-06-17 11:26:39.017\u001b[0m | \u001b[1mINFO    \u001b[0m | \u001b[36mmulti_partner_learning\u001b[0m:\u001b[36mcompute_test_score\u001b[0m:\u001b[36m191\u001b[0m - \u001b[1m   Model evaluation at the end of the epoch: ['0.045', '0.988']\u001b[0m\n",
            "\u001b[32m2020-06-17 11:27:42.763\u001b[0m | \u001b[1mINFO    \u001b[0m | \u001b[36mmulti_partner_learning\u001b[0m:\u001b[36mcompute_test_score\u001b[0m:\u001b[36m191\u001b[0m - \u001b[1m   Model evaluation at the end of the epoch: ['0.042', '0.988']\u001b[0m\n",
            "\u001b[32m2020-06-17 11:28:46.228\u001b[0m | \u001b[1mINFO    \u001b[0m | \u001b[36mmulti_partner_learning\u001b[0m:\u001b[36mcompute_test_score\u001b[0m:\u001b[36m191\u001b[0m - \u001b[1m   Model evaluation at the end of the epoch: ['0.047', '0.988']\u001b[0m\n",
            "\u001b[32m2020-06-17 11:29:50.533\u001b[0m | \u001b[1mINFO    \u001b[0m | \u001b[36mmulti_partner_learning\u001b[0m:\u001b[36mcompute_test_score\u001b[0m:\u001b[36m191\u001b[0m - \u001b[1m   Model evaluation at the end of the epoch: ['0.044', '0.987']\u001b[0m\n",
            "\u001b[32m2020-06-17 11:30:54.015\u001b[0m | \u001b[1mINFO    \u001b[0m | \u001b[36mmulti_partner_learning\u001b[0m:\u001b[36mcompute_test_score\u001b[0m:\u001b[36m191\u001b[0m - \u001b[1m   Model evaluation at the end of the epoch: ['0.044', '0.989']\u001b[0m\n",
            "\u001b[32m2020-06-17 11:30:54.016\u001b[0m | \u001b[1mINFO    \u001b[0m | \u001b[36mmulti_partner_learning\u001b[0m:\u001b[36mcompute_test_score\u001b[0m:\u001b[36m207\u001b[0m - \u001b[1m### Evaluating model on test data:\u001b[0m\n",
            "\u001b[32m2020-06-17 11:30:54.170\u001b[0m | \u001b[1mINFO    \u001b[0m | \u001b[36mmulti_partner_learning\u001b[0m:\u001b[36mcompute_test_score\u001b[0m:\u001b[36m210\u001b[0m - \u001b[1m   Model metrics names: ['loss', 'accuracy']\u001b[0m\n",
            "\u001b[32m2020-06-17 11:30:54.170\u001b[0m | \u001b[1mINFO    \u001b[0m | \u001b[36mmulti_partner_learning\u001b[0m:\u001b[36mcompute_test_score\u001b[0m:\u001b[36m211\u001b[0m - \u001b[1m   Model metrics values: ['0.033', '0.990']\u001b[0m\n",
            "\u001b[32m2020-06-17 11:30:54.459\u001b[0m | \u001b[1mINFO    \u001b[0m | \u001b[36mmulti_partner_learning\u001b[0m:\u001b[36mcompute_test_score\u001b[0m:\u001b[36m219\u001b[0m - \u001b[1mTraining and evaluation on multiple partners: done.\u001b[0m\n",
            "\u001b[32m2020-06-17 11:30:54.479\u001b[0m | \u001b[1mINFO    \u001b[0m | \u001b[36m__main__\u001b[0m:\u001b[36mmain\u001b[0m:\u001b[36m92\u001b[0m - \u001b[1mResults saved to experiments/debug_config_2020-06-17_11h20/results.csv\u001b[0m\n"
          ],
          "name": "stdout"
        }
      ]
    },
    {
      "cell_type": "markdown",
      "metadata": {
        "id": "ibDX4HBEdQA1",
        "colab_type": "text"
      },
      "source": [
        "# Analyse results"
      ]
    },
    {
      "cell_type": "code",
      "metadata": {
        "id": "k7XOTNVztasS",
        "colab_type": "code",
        "colab": {
          "base_uri": "https://localhost:8080/",
          "height": 34
        },
        "outputId": "60dbdc76-0522-4a5d-bdee-bcc2e4347625"
      },
      "source": [
        "import pandas as pd\n",
        "import numpy as np\n",
        "import seaborn as sns\n",
        "import matplotlib.pyplot as plt\n",
        "from pathlib import Path\n",
        "root_folder = Path(\"experiments\")\n",
        "\n",
        "# Get latest generated folder\n",
        "subfolder_list = [f for f in root_folder.iterdir()]\n",
        "subfolder_list_creation_time = [f.stat().st_ctime for f in subfolder_list]\n",
        "latest_subfolder_idx =  subfolder_list_creation_time.index(max(subfolder_list_creation_time))\n",
        "experiment_path = subfolder_list[latest_subfolder_idx]\n",
        "\n",
        "# Read CSV results\n",
        "df = pd.read_csv(experiment_path / \"results.csv\")\n",
        "print(experiment_path)"
      ],
      "execution_count": 7,
      "outputs": [
        {
          "output_type": "stream",
          "text": [
            "experiments/debug_config_2020-06-17_11h20\n"
          ],
          "name": "stdout"
        }
      ]
    },
    {
      "cell_type": "code",
      "metadata": {
        "scrolled": false,
        "id": "fVofsusHtasU",
        "colab_type": "code",
        "colab": {
          "base_uri": "https://localhost:8080/",
          "height": 340
        },
        "outputId": "d3896439-a9db-49cd-bf58-59e8412f7fc6"
      },
      "source": [
        "# Config file\n",
        "with open(experiment_path / \"config.yml\") as f:\n",
        "     print(f.read())"
      ],
      "execution_count": 8,
      "outputs": [
        {
          "output_type": "stream",
          "text": [
            "\n",
            "experiment_name: debug_config\n",
            "n_repeats: 1\n",
            "scenario_params_list:\n",
            " - dataset_name:\n",
            "    - 'mnist'\n",
            "   partners_count:\n",
            "    - 3\n",
            "   amounts_per_partner: \n",
            "    - [0.2, 0.5, 0.3]\n",
            "   samples_split_option: \n",
            "    - 'random'\n",
            "   multi_partner_learning_approach:\n",
            "    - 'fedavg'\n",
            "   aggregation_weighting:\n",
            "    - 'uniform'\n",
            "   gradient_updates_per_pass_count:\n",
            "    - 5\n",
            "\n"
          ],
          "name": "stdout"
        }
      ]
    },
    {
      "cell_type": "code",
      "metadata": {
        "id": "JPUA_E9atasX",
        "colab_type": "code",
        "colab": {
          "base_uri": "https://localhost:8080/",
          "height": 510
        },
        "outputId": "3b906a9f-666b-4dcc-8830-e8a0e086f35b"
      },
      "source": [
        "experiment_path\n",
        "df.info()"
      ],
      "execution_count": 9,
      "outputs": [
        {
          "output_type": "stream",
          "text": [
            "<class 'pandas.core.frame.DataFrame'>\n",
            "RangeIndex: 1 entries, 0 to 0\n",
            "Data columns (total 22 columns):\n",
            " #   Column                           Non-Null Count  Dtype  \n",
            "---  ------                           --------------  -----  \n",
            " 0   aggregation_weighting            1 non-null      object \n",
            " 1   amounts_per_partner              1 non-null      object \n",
            " 2   dataset_name                     1 non-null      object \n",
            " 3   epoch_count                      1 non-null      float64\n",
            " 4   final_relative_nb_samples        1 non-null      object \n",
            " 5   gradient_updates_per_pass_count  1 non-null      float64\n",
            " 6   is_early_stopping                1 non-null      float64\n",
            " 7   learning_computation_time_sec    1 non-null      float64\n",
            " 8   minibatch_count                  1 non-null      float64\n",
            " 9   mpl_nb_epochs_done               1 non-null      float64\n",
            " 10  mpl_test_score                   1 non-null      float64\n",
            " 11  multi_partner_learning_approach  1 non-null      object \n",
            " 12  nb_samples_used                  1 non-null      float64\n",
            " 13  partners_count                   1 non-null      float64\n",
            " 14  samples_split_option             1 non-null      object \n",
            " 15  scenario_name                    1 non-null      object \n",
            " 16  short_scenario_name              1 non-null      object \n",
            " 17  single_partner_test_mode         1 non-null      object \n",
            " 18  test_data_samples_count          1 non-null      float64\n",
            " 19  train_data_samples_count         1 non-null      float64\n",
            " 20  random_state                     1 non-null      int64  \n",
            " 21  scenario_id                      1 non-null      int64  \n",
            "dtypes: float64(11), int64(2), object(9)\n",
            "memory usage: 304.0+ bytes\n"
          ],
          "name": "stdout"
        }
      ]
    },
    {
      "cell_type": "code",
      "metadata": {
        "id": "GrLBU9G9tasZ",
        "colab_type": "code",
        "colab": {
          "base_uri": "https://localhost:8080/",
          "height": 578
        },
        "outputId": "0d9ceda7-17ac-4b07-a74d-fc49a7c1cf35"
      },
      "source": [
        "scenario_ids = df.scenario_id.unique()\n",
        "random_states = df.random_state.unique()\n",
        "samples_split_option_list = df.samples_split_option.unique()\n",
        "amounts_per_partner_list = df.amounts_per_partner.unique()\n",
        "gradient_updates_per_pass_count_list = df.gradient_updates_per_pass_count.unique()\n",
        "dataset_name_list = df.dataset_name.unique()\n",
        "\n",
        "print('Random state', random_states)\n",
        "print('Scenario id', scenario_ids)\n",
        "print('amounts_per_partner', amounts_per_partner_list)\n",
        "print()\n",
        "\n",
        "df.info()\n"
      ],
      "execution_count": 10,
      "outputs": [
        {
          "output_type": "stream",
          "text": [
            "Random state [0]\n",
            "Scenario id [0]\n",
            "amounts_per_partner ['[0.2, 0.5, 0.3]']\n",
            "\n",
            "<class 'pandas.core.frame.DataFrame'>\n",
            "RangeIndex: 1 entries, 0 to 0\n",
            "Data columns (total 22 columns):\n",
            " #   Column                           Non-Null Count  Dtype  \n",
            "---  ------                           --------------  -----  \n",
            " 0   aggregation_weighting            1 non-null      object \n",
            " 1   amounts_per_partner              1 non-null      object \n",
            " 2   dataset_name                     1 non-null      object \n",
            " 3   epoch_count                      1 non-null      float64\n",
            " 4   final_relative_nb_samples        1 non-null      object \n",
            " 5   gradient_updates_per_pass_count  1 non-null      float64\n",
            " 6   is_early_stopping                1 non-null      float64\n",
            " 7   learning_computation_time_sec    1 non-null      float64\n",
            " 8   minibatch_count                  1 non-null      float64\n",
            " 9   mpl_nb_epochs_done               1 non-null      float64\n",
            " 10  mpl_test_score                   1 non-null      float64\n",
            " 11  multi_partner_learning_approach  1 non-null      object \n",
            " 12  nb_samples_used                  1 non-null      float64\n",
            " 13  partners_count                   1 non-null      float64\n",
            " 14  samples_split_option             1 non-null      object \n",
            " 15  scenario_name                    1 non-null      object \n",
            " 16  short_scenario_name              1 non-null      object \n",
            " 17  single_partner_test_mode         1 non-null      object \n",
            " 18  test_data_samples_count          1 non-null      float64\n",
            " 19  train_data_samples_count         1 non-null      float64\n",
            " 20  random_state                     1 non-null      int64  \n",
            " 21  scenario_id                      1 non-null      int64  \n",
            "dtypes: float64(11), int64(2), object(9)\n",
            "memory usage: 304.0+ bytes\n"
          ],
          "name": "stdout"
        }
      ]
    },
    {
      "cell_type": "code",
      "metadata": {
        "id": "pg3Ioa06tasb",
        "colab_type": "code",
        "colab": {
          "base_uri": "https://localhost:8080/",
          "height": 34
        },
        "outputId": "ab1d243d-2a2c-4504-f161-5887393012ad"
      },
      "source": [
        "df[\"computation_time_minutes\"] = df.learning_computation_time_sec / 60\n",
        "df.short_scenario_name = df.samples_split_option + df.amounts_per_partner + ' mb ' + df.minibatch_count.astype(str)\n",
        "df.short_scenario_name.unique()\n",
        "#df.contributivity_method = df.contributivity_method.str.replace('values', '')"
      ],
      "execution_count": 11,
      "outputs": [
        {
          "output_type": "execute_result",
          "data": {
            "text/plain": [
              "array(['random[0.2, 0.5, 0.3] mb 20.0'], dtype=object)"
            ]
          },
          "metadata": {
            "tags": []
          },
          "execution_count": 11
        }
      ]
    },
    {
      "cell_type": "code",
      "metadata": {
        "id": "82S7eu69tase",
        "colab_type": "code",
        "colab": {}
      },
      "source": [
        "# Helper function for plot\n",
        "def get_x_tick_amount(df, scenario_id, partners_ids):\n",
        "    \n",
        "    x_ticks = []\n",
        "    for partner_id in partners_ids:\n",
        "        current_df = df[(df.scenario_id == scenario_id) & (df.partner_id == partner_id)]\n",
        "        amount = current_df.amount_per_partner.unique()\n",
        "\n",
        "        assert(len(amount) == 1)\n",
        "        amount = amount[0]\n",
        "    \n",
        "        x_ticks.append('partner_' + str(partner_id) + ' ' + str(amount))\n",
        "    return x_ticks"
      ],
      "execution_count": 12,
      "outputs": []
    },
    {
      "cell_type": "code",
      "metadata": {
        "scrolled": false,
        "id": "qiQKZiOhtasg",
        "colab_type": "code",
        "colab": {
          "base_uri": "https://localhost:8080/",
          "height": 1000
        },
        "outputId": "88b88366-ec31-4954-ed68-f7b75a927dca"
      },
      "source": [
        "# Plot loop\n",
        "\n",
        "\n",
        "for dataset_name in dataset_name_list:\n",
        "\n",
        "    current_df = df[(df.dataset_name == dataset_name)]\n",
        "    title = dataset_name\n",
        "    sns.set(style=\"ticks\")\n",
        "    #current_df.info()\n",
        "    print(\"################################################\")\n",
        "    print(dataset_name)\n",
        "\n",
        "    plt.figure(figsize=(10, 6), dpi=120)\n",
        "    plt.title(title)\n",
        "    ax = sns.boxplot(x=\"samples_split_option\", y=\"mpl_test_score\", hue=\"multi_partner_learning_approach\",\n",
        "                       data=current_df)# medianprops={'color':'yellow'})\n",
        "    plt.ylim([0, 1])\n",
        "\n",
        "    plt.figure(figsize=(10, 6), dpi=120)\n",
        "    plt.title(title)\n",
        "    ax = sns.boxplot(x=\"samples_split_option\", y=\"mpl_nb_epochs_done\", hue=\"multi_partner_learning_approach\",\n",
        "                       data=current_df)\n",
        "    plt.ylim([0, 50])\n",
        "\n",
        "\n",
        "    ax = plt.figure(figsize=(10, 6), dpi=120)\n",
        "    plt.title(title)\n",
        "    sns.boxplot(x=\"samples_split_option\", y=\"computation_time_minutes\", hue=\"multi_partner_learning_approach\",\n",
        "                      data=current_df)\n",
        "    plt.ylim(bottom=0)\n",
        "\n",
        "\n",
        "    plt.show()\n"
      ],
      "execution_count": 13,
      "outputs": [
        {
          "output_type": "stream",
          "text": [
            "################################################\n",
            "mnist\n"
          ],
          "name": "stdout"
        },
        {
          "output_type": "display_data",
          "data": {
            "image/png": "[encoded data removed]",
            "text/plain": [
              "<Figure size 1200x720 with 1 Axes>"
            ]
          },
          "metadata": {
            "tags": []
          }
        },
        {
          "output_type": "display_data",
          "data": {
            "image/png": "[encoded data removed]",
            "text/plain": [
              "<Figure size 1200x720 with 1 Axes>"
            ]
          },
          "metadata": {
            "tags": []
          }
        },
        {
          "output_type": "display_data",
          "data": {
            "image/png": "[encoded data removed]",
            "text/plain": [
              "<Figure size 1200x720 with 1 Axes>"
            ]
          },
          "metadata": {
            "tags": []
          }
        }
      ]
    },
    {
      "cell_type": "code",
      "metadata": {
        "scrolled": false,
        "id": "ryty8Jnktasi",
        "colab_type": "code",
        "colab": {}
      },
      "source": [
        ""
      ],
      "execution_count": 13,
      "outputs": []
    },
    {
      "cell_type": "code",
      "metadata": {
        "id": "nWZYI9FQtasn",
        "colab_type": "code",
        "colab": {}
      },
      "source": [
        ""
      ],
      "execution_count": 13,
      "outputs": []
    },
    {
      "cell_type": "code",
      "metadata": {
        "id": "G1z7oBl9tasp",
        "colab_type": "code",
        "colab": {}
      },
      "source": [
        ""
      ],
      "execution_count": 13,
      "outputs": []
    }
  ],
  "metadata": {
    "kernelspec": {
      "display_name": "Python 3",
      "language": "python",
      "name": "python3"
    },
    "language_info": {
      "codemirror_mode": {
        "name": "ipython",
        "version": 3
      },
      "file_extension": ".py",
      "mimetype": "text/x-python",
      "name": "python",
      "nbconvert_exporter": "python",
      "pygments_lexer": "ipython3",
      "version": "3.7.4"
    },
    "colab": {
      "name": "run_experiment_on_google_collab.ipynb",
      "provenance": [],
      "collapsed_sections": []
    },
    "accelerator": "GPU"
  },
  "nbformat": 4,
  "nbformat_minor": 0
}