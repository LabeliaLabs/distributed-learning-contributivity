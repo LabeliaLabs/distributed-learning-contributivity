{
 "cells": [
  {
   "cell_type": "markdown",
   "metadata": {
    "colab_type": "text",
    "id": "1H1pfmz1ddPG"
   },
   "source": [
    "# Tutorial 1 : Run a first scenario\n",
    "\n",
    "## 1 - Prerequisites\n",
    "\n",
    "In order to run this example, you'll need to:\n",
    "\n",
    "* use python 3.7 +\n",
    "* install requirements from the requirements.txt file\n",
    "* install this package https://test.pypi.org/project/mplc/\n"
   ]
  },
  {
   "cell_type": "code",
   "execution_count": null,
   "metadata": {
    "pycharm": {
     "name": "#%%\n"
    }
   },
   "outputs": [],
   "source": [
    "!pip install mplc\n"
   ]
  },
  {
   "cell_type": "markdown",
   "metadata": {
    "colab_type": "text",
    "id": "FdlQm3XvBiOM",
    "pycharm": {
     "name": "#%% md\n"
    }
   },
   "source": [
    "### Training parameters \n",
    "\n",
    "There are several parameters influencing how the collaborative and distributed learning is done over the datasets of the partners. The firsts we will be interested in are `epoch_count`, `minibatch_count`, and `gradient_updates_per_pass_count`. The following schema introduces well these definitions : \n",
    "\n",
    "\n",
    "![Schema epochs mini-batches gradient updates](../../img/epoch_minibatch_gradientupdates.png)\n",
    "\n",
    "After a training iteration over a given mini-batch, the individual models of each partner are aggregated in a way that can be parametrized by `aggregation_weighting`. Here, we use the default value `'uniform'`. See the [documentation](../../doc/documentation.md) for more details.\n",
    "\n",
    "The `multi_partner_learning_approach` parameter defines the multi-partner learning approach, among the approcach implemented. The full list and description of the different approachs usable are descripted in the documentation, here we will use the default value `'fedavg'`, which stands for federated averaging. Its functionnement is described by the following schema:\n",
    "![Schema fedavg](../../img/collaborative_rounds_fedavg.png)\n",
    "\n",
    "For tutorial purposes, we will change the default `epoch_count`, `minibatch_count` values to 10 epochs, and 3 minibatches. "
   ]
  },
  {
   "cell_type": "code",
   "execution_count": 15,
   "metadata": {
    "colab": {
     "base_uri": "https://localhost:8080/",
     "height": 218
    },
    "colab_type": "code",
    "id": "iyMTIyinBiOM",
    "outputId": "a6676f6b-50d7-4f3d-98e7-688799895e3f",
    "pycharm": {
     "name": "#%%\n"
    }
   },
   "outputs": [
    {
     "name": "stderr",
     "output_type": "stream",
     "text": [
      "2020-09-18 11:01:31.280 | DEBUG    | subtest.scenario:__init__:118 - Dataset selected: mnist\n",
      "2020-09-18 11:01:31.281 | DEBUG    | subtest.scenario:__init__:131 - Computation use the full dataset for scenario #1\n",
      "2020-09-18 11:01:31.282 | INFO     | subtest.scenario:__init__:299 - ### Description of data scenario configured:\n",
      "2020-09-18 11:01:31.283 | INFO     | subtest.scenario:__init__:300 -    Number of partners defined: 3\n",
      "2020-09-18 11:01:31.284 | INFO     | subtest.scenario:__init__:301 -    Data distribution scenario chosen: random\n",
      "2020-09-18 11:01:31.285 | INFO     | subtest.scenario:__init__:302 -    Multi-partner learning approach: fedavg\n",
      "2020-09-18 11:01:31.285 | INFO     | subtest.scenario:__init__:303 -    Weighting option: uniform\n",
      "2020-09-18 11:01:31.286 | INFO     | subtest.scenario:__init__:304 -    Iterations parameters: 10 epochs > 3 mini-batches > 8 gradient updates per pass\n",
      "2020-09-18 11:01:31.287 | INFO     | subtest.scenario:__init__:310 - ### Data loaded: mnist\n",
      "2020-09-18 11:01:31.287 | INFO     | subtest.scenario:__init__:311 -    54000 train data with 54000 labels\n",
      "2020-09-18 11:01:31.289 | INFO     | subtest.scenario:__init__:312 -    6000 val data with 6000 labels\n",
      "2020-09-18 11:01:31.289 | INFO     | subtest.scenario:__init__:313 -    10000 test data with 10000 labels\n"
     ]
    }
   ],
   "source": [
    "from mplc.scenario import Scenario\n",
    "my_scenario = Scenario(partners_count = 3,\n",
    "                            amounts_per_partner = [0.2, 0.5, 0.3],\n",
    "                            epoch_count = 10,\n",
    "                            minibatch_count = 3\n",
    "                            )"
   ]
  },
  {
   "cell_type": "markdown",
   "metadata": {
    "colab_type": "text",
    "id": "rVLFZNorddPk",
    "pycharm": {
     "name": "#%% md\n"
    }
   },
   "source": [
    "## 5 - Run your scenario\n",
    "\n",
    "The actual training phase of our federated learning example ! \n",
    "\n",
    "As mplc relies on tensorflow, you can use GPU, if you have one avaible. By default, mplc tries to initialize a GPU when imported"
   ]
  },
  {
   "cell_type": "code",
   "execution_count": 16,
   "metadata": {
    "colab": {
     "base_uri": "https://localhost:8080/",
     "height": 1000
    },
    "colab_type": "code",
    "id": "5HA_xIvsddPl",
    "outputId": "ea66feef-c405-4808-8c0e-82cbe043c348",
    "pycharm": {
     "name": "#%%\n"
    }
   },
   "outputs": [
    {
     "name": "stderr",
     "output_type": "stream",
     "text": [
      "2020-09-18 11:01:33.011 | INFO     | subtest.utils:init_gpu_config:144 - No GPU found\n",
      "2020-09-18 11:01:40.048 | INFO     | subtest.scenario:split_data:553 - ### Splitting data among partners:\n",
      "2020-09-18 11:01:40.049 | INFO     | subtest.scenario:split_data:554 -    Simple split performed.\n",
      "2020-09-18 11:01:40.049 | INFO     | subtest.scenario:split_data:555 -    Nb of samples split amongst partners: 43740\n",
      "2020-09-18 11:01:40.050 | INFO     | subtest.scenario:split_data:557 -    Partner #0: 8748 samples with labels [0, 1, 2, 3, 4, 5, 6, 7, 8, 9]\n",
      "2020-09-18 11:01:40.051 | INFO     | subtest.scenario:split_data:557 -    Partner #1: 21870 samples with labels [0, 1, 2, 3, 4, 5, 6, 7, 8, 9]\n",
      "2020-09-18 11:01:40.052 | INFO     | subtest.scenario:split_data:557 -    Partner #2: 13122 samples with labels [0, 1, 2, 3, 4, 5, 6, 7, 8, 9]\n",
      "2020-09-18 11:01:52.634 | DEBUG    | subtest.scenario:compute_batch_sizes:601 -    Compute batch sizes, partner #0: 364\n",
      "2020-09-18 11:01:52.635 | DEBUG    | subtest.scenario:compute_batch_sizes:601 -    Compute batch sizes, partner #1: 911\n",
      "2020-09-18 11:01:52.636 | DEBUG    | subtest.scenario:compute_batch_sizes:601 -    Compute batch sizes, partner #2: 546\n",
      "2020-09-18 11:01:52.637 | DEBUG    | subtest.scenario:preprocess_scenarios_data:621 -    Partner #0: done.\n",
      "2020-09-18 11:01:52.637 | DEBUG    | subtest.scenario:preprocess_scenarios_data:621 -    Partner #1: done.\n",
      "2020-09-18 11:01:52.639 | DEBUG    | subtest.scenario:preprocess_scenarios_data:621 -    Partner #2: done.\n",
      "2020-09-18 11:01:52.639 | DEBUG    | subtest.multi_partner_learning:__init__:78 - MultiPartnerLearning object instantiated.\n",
      "2020-09-18 11:01:52.640 | INFO     | subtest.multi_partner_learning:compute_test_score:136 - ## Training and evaluating model on partners with ids: ['#0', '#1', '#2']\n",
      "2020-09-18 11:01:52.731 | DEBUG    | subtest.multi_partner_learning:compute_collaborative_round_fedavg:289 - Start new fedavg collaborative round ...\n",
      "2020-09-18 11:01:52.732 | INFO     | subtest.multi_partner_learning:compute_collaborative_round_fedavg:301 - (fedavg) Very first minibatch of epoch n°0, init new models for each partner\n",
      "2020-09-18 11:01:59.946 | DEBUG    | subtest.multi_partner_learning:log_collaborative_round_partner_result:628 - Epoch 00/09 > Minibatch 00/02 > Partner id #0 (0/2) > val_acc: 0.79\n",
      "2020-09-18 11:02:10.122 | DEBUG    | subtest.multi_partner_learning:log_collaborative_round_partner_result:628 - Epoch 00/09 > Minibatch 00/02 > Partner id #1 (1/2) > val_acc: 0.78\n",
      "2020-09-18 11:02:17.071 | DEBUG    | subtest.multi_partner_learning:log_collaborative_round_partner_result:628 - Epoch 00/09 > Minibatch 00/02 > Partner id #2 (2/2) > val_acc: 0.78\n",
      "2020-09-18 11:02:17.077 | DEBUG    | subtest.multi_partner_learning:compute_collaborative_round_fedavg:336 - End of fedavg collaborative round.\n",
      "2020-09-18 11:02:17.078 | DEBUG    | subtest.multi_partner_learning:compute_collaborative_round_fedavg:289 - Start new fedavg collaborative round ...\n",
      "2020-09-18 11:02:17.080 | INFO     | subtest.multi_partner_learning:compute_collaborative_round_fedavg:304 - (fedavg) Minibatch n°1 of epoch n°0, init aggregated model for each partner with models from previous round\n",
      "2020-09-18 11:02:24.834 | DEBUG    | subtest.multi_partner_learning:log_collaborative_round_partner_result:628 - Epoch 00/09 > Minibatch 01/02 > Partner id #0 (0/2) > val_acc: 0.85\n",
      "2020-09-18 11:02:37.119 | DEBUG    | subtest.multi_partner_learning:log_collaborative_round_partner_result:628 - Epoch 00/09 > Minibatch 01/02 > Partner id #1 (1/2) > val_acc: 0.83\n",
      "2020-09-18 11:02:46.391 | DEBUG    | subtest.multi_partner_learning:log_collaborative_round_partner_result:628 - Epoch 00/09 > Minibatch 01/02 > Partner id #2 (2/2) > val_acc: 0.84\n",
      "2020-09-18 11:02:46.407 | DEBUG    | subtest.multi_partner_learning:compute_collaborative_round_fedavg:336 - End of fedavg collaborative round.\n",
      "2020-09-18 11:02:46.411 | DEBUG    | subtest.multi_partner_learning:compute_collaborative_round_fedavg:289 - Start new fedavg collaborative round ...\n",
      "2020-09-18 11:02:46.414 | INFO     | subtest.multi_partner_learning:compute_collaborative_round_fedavg:304 - (fedavg) Minibatch n°2 of epoch n°0, init aggregated model for each partner with models from previous round\n",
      "2020-09-18 11:02:57.618 | DEBUG    | subtest.multi_partner_learning:log_collaborative_round_partner_result:628 - Epoch 00/09 > Minibatch 02/02 > Partner id #0 (0/2) > val_acc: 0.89\n",
      "2020-09-18 11:03:10.177 | DEBUG    | subtest.multi_partner_learning:log_collaborative_round_partner_result:628 - Epoch 00/09 > Minibatch 02/02 > Partner id #1 (1/2) > val_acc: 0.9\n",
      "2020-09-18 11:03:18.412 | DEBUG    | subtest.multi_partner_learning:log_collaborative_round_partner_result:628 - Epoch 00/09 > Minibatch 02/02 > Partner id #2 (2/2) > val_acc: 0.84\n",
      "2020-09-18 11:03:18.422 | DEBUG    | subtest.multi_partner_learning:compute_collaborative_round_fedavg:336 - End of fedavg collaborative round.\n",
      "2020-09-18 11:03:20.668 | INFO     | subtest.multi_partner_learning:compute_test_score:188 -    Model evaluation at the end of the epoch: ['0.413', '0.885']\n",
      "2020-09-18 11:03:20.670 | DEBUG    | subtest.multi_partner_learning:compute_test_score:191 -       Checking if early stopping criteria are met:\n",
      "2020-09-18 11:03:20.671 | DEBUG    | subtest.multi_partner_learning:compute_test_score:201 -          -> Early stopping criteria are not met, continuing with training.\n",
      "2020-09-18 11:03:20.818 | DEBUG    | subtest.multi_partner_learning:compute_collaborative_round_fedavg:289 - Start new fedavg collaborative round ...\n",
      "2020-09-18 11:03:20.819 | INFO     | subtest.multi_partner_learning:compute_collaborative_round_fedavg:304 - (fedavg) Minibatch n°0 of epoch n°1, init aggregated model for each partner with models from previous round\n",
      "2020-09-18 11:03:30.070 | DEBUG    | subtest.multi_partner_learning:log_collaborative_round_partner_result:628 - Epoch 01/09 > Minibatch 00/02 > Partner id #0 (0/2) > val_acc: 0.86\n",
      "2020-09-18 11:03:44.785 | DEBUG    | subtest.multi_partner_learning:log_collaborative_round_partner_result:628 - Epoch 01/09 > Minibatch 00/02 > Partner id #1 (1/2) > val_acc: 0.9\n",
      "2020-09-18 11:03:52.682 | DEBUG    | subtest.multi_partner_learning:log_collaborative_round_partner_result:628 - Epoch 01/09 > Minibatch 00/02 > Partner id #2 (2/2) > val_acc: 0.88\n",
      "2020-09-18 11:03:52.691 | DEBUG    | subtest.multi_partner_learning:compute_collaborative_round_fedavg:336 - End of fedavg collaborative round.\n",
      "2020-09-18 11:03:52.693 | DEBUG    | subtest.multi_partner_learning:compute_collaborative_round_fedavg:289 - Start new fedavg collaborative round ...\n",
      "2020-09-18 11:03:52.694 | INFO     | subtest.multi_partner_learning:compute_collaborative_round_fedavg:304 - (fedavg) Minibatch n°1 of epoch n°1, init aggregated model for each partner with models from previous round\n",
      "2020-09-18 11:04:01.211 | DEBUG    | subtest.multi_partner_learning:log_collaborative_round_partner_result:628 - Epoch 01/09 > Minibatch 01/02 > Partner id #0 (0/2) > val_acc: 0.91\n",
      "2020-09-18 11:04:12.921 | DEBUG    | subtest.multi_partner_learning:log_collaborative_round_partner_result:628 - Epoch 01/09 > Minibatch 01/02 > Partner id #1 (1/2) > val_acc: 0.92\n",
      "2020-09-18 11:04:20.722 | DEBUG    | subtest.multi_partner_learning:log_collaborative_round_partner_result:628 - Epoch 01/09 > Minibatch 01/02 > Partner id #2 (2/2) > val_acc: 0.91\n",
      "2020-09-18 11:04:20.731 | DEBUG    | subtest.multi_partner_learning:compute_collaborative_round_fedavg:336 - End of fedavg collaborative round.\n",
      "2020-09-18 11:04:20.734 | DEBUG    | subtest.multi_partner_learning:compute_collaborative_round_fedavg:289 - Start new fedavg collaborative round ...\n",
      "2020-09-18 11:04:20.735 | INFO     | subtest.multi_partner_learning:compute_collaborative_round_fedavg:304 - (fedavg) Minibatch n°2 of epoch n°1, init aggregated model for each partner with models from previous round\n",
      "2020-09-18 11:04:29.334 | DEBUG    | subtest.multi_partner_learning:log_collaborative_round_partner_result:628 - Epoch 01/09 > Minibatch 02/02 > Partner id #0 (0/2) > val_acc: 0.94\n",
      "2020-09-18 11:04:42.612 | DEBUG    | subtest.multi_partner_learning:log_collaborative_round_partner_result:628 - Epoch 01/09 > Minibatch 02/02 > Partner id #1 (1/2) > val_acc: 0.94\n"
     ]
    },
    {
     "name": "stderr",
     "output_type": "stream",
     "text": [
      "2020-09-18 11:04:51.294 | DEBUG    | subtest.multi_partner_learning:log_collaborative_round_partner_result:628 - Epoch 01/09 > Minibatch 02/02 > Partner id #2 (2/2) > val_acc: 0.94\n",
      "2020-09-18 11:04:51.303 | DEBUG    | subtest.multi_partner_learning:compute_collaborative_round_fedavg:336 - End of fedavg collaborative round.\n",
      "2020-09-18 11:04:53.417 | INFO     | subtest.multi_partner_learning:compute_test_score:188 -    Model evaluation at the end of the epoch: ['0.193', '0.944']\n",
      "2020-09-18 11:04:53.419 | DEBUG    | subtest.multi_partner_learning:compute_test_score:191 -       Checking if early stopping criteria are met:\n",
      "2020-09-18 11:04:53.420 | DEBUG    | subtest.multi_partner_learning:compute_test_score:201 -          -> Early stopping criteria are not met, continuing with training.\n",
      "2020-09-18 11:04:53.608 | DEBUG    | subtest.multi_partner_learning:compute_collaborative_round_fedavg:289 - Start new fedavg collaborative round ...\n",
      "2020-09-18 11:04:53.610 | INFO     | subtest.multi_partner_learning:compute_collaborative_round_fedavg:304 - (fedavg) Minibatch n°0 of epoch n°2, init aggregated model for each partner with models from previous round\n",
      "2020-09-18 11:05:02.493 | DEBUG    | subtest.multi_partner_learning:log_collaborative_round_partner_result:628 - Epoch 02/09 > Minibatch 00/02 > Partner id #0 (0/2) > val_acc: 0.95\n",
      "2020-09-18 11:05:14.491 | DEBUG    | subtest.multi_partner_learning:log_collaborative_round_partner_result:628 - Epoch 02/09 > Minibatch 00/02 > Partner id #1 (1/2) > val_acc: 0.95\n",
      "2020-09-18 11:05:22.709 | DEBUG    | subtest.multi_partner_learning:log_collaborative_round_partner_result:628 - Epoch 02/09 > Minibatch 00/02 > Partner id #2 (2/2) > val_acc: 0.94\n",
      "2020-09-18 11:05:22.717 | DEBUG    | subtest.multi_partner_learning:compute_collaborative_round_fedavg:336 - End of fedavg collaborative round.\n",
      "2020-09-18 11:05:22.720 | DEBUG    | subtest.multi_partner_learning:compute_collaborative_round_fedavg:289 - Start new fedavg collaborative round ...\n",
      "2020-09-18 11:05:22.721 | INFO     | subtest.multi_partner_learning:compute_collaborative_round_fedavg:304 - (fedavg) Minibatch n°1 of epoch n°2, init aggregated model for each partner with models from previous round\n",
      "2020-09-18 11:05:31.872 | DEBUG    | subtest.multi_partner_learning:log_collaborative_round_partner_result:628 - Epoch 02/09 > Minibatch 01/02 > Partner id #0 (0/2) > val_acc: 0.95\n",
      "2020-09-18 11:05:43.659 | DEBUG    | subtest.multi_partner_learning:log_collaborative_round_partner_result:628 - Epoch 02/09 > Minibatch 01/02 > Partner id #1 (1/2) > val_acc: 0.96\n",
      "2020-09-18 11:05:51.822 | DEBUG    | subtest.multi_partner_learning:log_collaborative_round_partner_result:628 - Epoch 02/09 > Minibatch 01/02 > Partner id #2 (2/2) > val_acc: 0.96\n",
      "2020-09-18 11:05:51.830 | DEBUG    | subtest.multi_partner_learning:compute_collaborative_round_fedavg:336 - End of fedavg collaborative round.\n",
      "2020-09-18 11:05:51.832 | DEBUG    | subtest.multi_partner_learning:compute_collaborative_round_fedavg:289 - Start new fedavg collaborative round ...\n",
      "2020-09-18 11:05:51.833 | INFO     | subtest.multi_partner_learning:compute_collaborative_round_fedavg:304 - (fedavg) Minibatch n°2 of epoch n°2, init aggregated model for each partner with models from previous round\n",
      "2020-09-18 11:06:01.344 | DEBUG    | subtest.multi_partner_learning:log_collaborative_round_partner_result:628 - Epoch 02/09 > Minibatch 02/02 > Partner id #0 (0/2) > val_acc: 0.96\n",
      "2020-09-18 11:06:13.015 | DEBUG    | subtest.multi_partner_learning:log_collaborative_round_partner_result:628 - Epoch 02/09 > Minibatch 02/02 > Partner id #1 (1/2) > val_acc: 0.95\n",
      "2020-09-18 11:06:21.708 | DEBUG    | subtest.multi_partner_learning:log_collaborative_round_partner_result:628 - Epoch 02/09 > Minibatch 02/02 > Partner id #2 (2/2) > val_acc: 0.95\n",
      "2020-09-18 11:06:21.716 | DEBUG    | subtest.multi_partner_learning:compute_collaborative_round_fedavg:336 - End of fedavg collaborative round.\n",
      "2020-09-18 11:06:23.822 | INFO     | subtest.multi_partner_learning:compute_test_score:188 -    Model evaluation at the end of the epoch: ['0.118', '0.966']\n",
      "2020-09-18 11:06:23.823 | DEBUG    | subtest.multi_partner_learning:compute_test_score:191 -       Checking if early stopping criteria are met:\n",
      "2020-09-18 11:06:23.825 | DEBUG    | subtest.multi_partner_learning:compute_test_score:201 -          -> Early stopping criteria are not met, continuing with training.\n",
      "2020-09-18 11:06:23.990 | DEBUG    | subtest.multi_partner_learning:compute_collaborative_round_fedavg:289 - Start new fedavg collaborative round ...\n",
      "2020-09-18 11:06:23.991 | INFO     | subtest.multi_partner_learning:compute_collaborative_round_fedavg:304 - (fedavg) Minibatch n°0 of epoch n°3, init aggregated model for each partner with models from previous round\n",
      "2020-09-18 11:06:33.403 | DEBUG    | subtest.multi_partner_learning:log_collaborative_round_partner_result:628 - Epoch 03/09 > Minibatch 00/02 > Partner id #0 (0/2) > val_acc: 0.95\n",
      "2020-09-18 11:06:45.396 | DEBUG    | subtest.multi_partner_learning:log_collaborative_round_partner_result:628 - Epoch 03/09 > Minibatch 00/02 > Partner id #1 (1/2) > val_acc: 0.97\n",
      "2020-09-18 11:06:53.635 | DEBUG    | subtest.multi_partner_learning:log_collaborative_round_partner_result:628 - Epoch 03/09 > Minibatch 00/02 > Partner id #2 (2/2) > val_acc: 0.97\n",
      "2020-09-18 11:06:53.643 | DEBUG    | subtest.multi_partner_learning:compute_collaborative_round_fedavg:336 - End of fedavg collaborative round.\n",
      "2020-09-18 11:06:53.645 | DEBUG    | subtest.multi_partner_learning:compute_collaborative_round_fedavg:289 - Start new fedavg collaborative round ...\n",
      "2020-09-18 11:06:53.648 | INFO     | subtest.multi_partner_learning:compute_collaborative_round_fedavg:304 - (fedavg) Minibatch n°1 of epoch n°3, init aggregated model for each partner with models from previous round\n",
      "2020-09-18 11:07:02.476 | DEBUG    | subtest.multi_partner_learning:log_collaborative_round_partner_result:628 - Epoch 03/09 > Minibatch 01/02 > Partner id #0 (0/2) > val_acc: 0.97\n",
      "2020-09-18 11:07:14.090 | DEBUG    | subtest.multi_partner_learning:log_collaborative_round_partner_result:628 - Epoch 03/09 > Minibatch 01/02 > Partner id #1 (1/2) > val_acc: 0.97\n",
      "2020-09-18 11:07:22.272 | DEBUG    | subtest.multi_partner_learning:log_collaborative_round_partner_result:628 - Epoch 03/09 > Minibatch 01/02 > Partner id #2 (2/2) > val_acc: 0.97\n",
      "2020-09-18 11:07:22.282 | DEBUG    | subtest.multi_partner_learning:compute_collaborative_round_fedavg:336 - End of fedavg collaborative round.\n",
      "2020-09-18 11:07:22.284 | DEBUG    | subtest.multi_partner_learning:compute_collaborative_round_fedavg:289 - Start new fedavg collaborative round ...\n",
      "2020-09-18 11:07:22.285 | INFO     | subtest.multi_partner_learning:compute_collaborative_round_fedavg:304 - (fedavg) Minibatch n°2 of epoch n°3, init aggregated model for each partner with models from previous round\n",
      "2020-09-18 11:07:31.485 | DEBUG    | subtest.multi_partner_learning:log_collaborative_round_partner_result:628 - Epoch 03/09 > Minibatch 02/02 > Partner id #0 (0/2) > val_acc: 0.97\n",
      "2020-09-18 11:07:43.083 | DEBUG    | subtest.multi_partner_learning:log_collaborative_round_partner_result:628 - Epoch 03/09 > Minibatch 02/02 > Partner id #1 (1/2) > val_acc: 0.98\n",
      "2020-09-18 11:07:51.216 | DEBUG    | subtest.multi_partner_learning:log_collaborative_round_partner_result:628 - Epoch 03/09 > Minibatch 02/02 > Partner id #2 (2/2) > val_acc: 0.97\n",
      "2020-09-18 11:07:51.226 | DEBUG    | subtest.multi_partner_learning:compute_collaborative_round_fedavg:336 - End of fedavg collaborative round.\n",
      "2020-09-18 11:07:53.361 | INFO     | subtest.multi_partner_learning:compute_test_score:188 -    Model evaluation at the end of the epoch: ['0.082', '0.978']\n",
      "2020-09-18 11:07:53.362 | DEBUG    | subtest.multi_partner_learning:compute_test_score:191 -       Checking if early stopping criteria are met:\n",
      "2020-09-18 11:07:53.363 | DEBUG    | subtest.multi_partner_learning:compute_test_score:201 -          -> Early stopping criteria are not met, continuing with training.\n",
      "2020-09-18 11:07:53.525 | DEBUG    | subtest.multi_partner_learning:compute_collaborative_round_fedavg:289 - Start new fedavg collaborative round ...\n"
     ]
    },
    {
     "name": "stderr",
     "output_type": "stream",
     "text": [
      "2020-09-18 11:07:53.526 | INFO     | subtest.multi_partner_learning:compute_collaborative_round_fedavg:304 - (fedavg) Minibatch n°0 of epoch n°4, init aggregated model for each partner with models from previous round\n",
      "2020-09-18 11:08:02.261 | DEBUG    | subtest.multi_partner_learning:log_collaborative_round_partner_result:628 - Epoch 04/09 > Minibatch 00/02 > Partner id #0 (0/2) > val_acc: 0.97\n",
      "2020-09-18 11:08:13.919 | DEBUG    | subtest.multi_partner_learning:log_collaborative_round_partner_result:628 - Epoch 04/09 > Minibatch 00/02 > Partner id #1 (1/2) > val_acc: 0.98\n",
      "2020-09-18 11:08:24.898 | DEBUG    | subtest.multi_partner_learning:log_collaborative_round_partner_result:628 - Epoch 04/09 > Minibatch 00/02 > Partner id #2 (2/2) > val_acc: 0.97\n",
      "2020-09-18 11:08:24.912 | DEBUG    | subtest.multi_partner_learning:compute_collaborative_round_fedavg:336 - End of fedavg collaborative round.\n",
      "2020-09-18 11:08:24.915 | DEBUG    | subtest.multi_partner_learning:compute_collaborative_round_fedavg:289 - Start new fedavg collaborative round ...\n",
      "2020-09-18 11:08:24.922 | INFO     | subtest.multi_partner_learning:compute_collaborative_round_fedavg:304 - (fedavg) Minibatch n°1 of epoch n°4, init aggregated model for each partner with models from previous round\n",
      "2020-09-18 11:08:38.729 | DEBUG    | subtest.multi_partner_learning:log_collaborative_round_partner_result:628 - Epoch 04/09 > Minibatch 01/02 > Partner id #0 (0/2) > val_acc: 0.98\n",
      "2020-09-18 11:08:52.666 | DEBUG    | subtest.multi_partner_learning:log_collaborative_round_partner_result:628 - Epoch 04/09 > Minibatch 01/02 > Partner id #1 (1/2) > val_acc: 0.98\n",
      "2020-09-18 11:09:02.954 | DEBUG    | subtest.multi_partner_learning:log_collaborative_round_partner_result:628 - Epoch 04/09 > Minibatch 01/02 > Partner id #2 (2/2) > val_acc: 0.97\n",
      "2020-09-18 11:09:02.967 | DEBUG    | subtest.multi_partner_learning:compute_collaborative_round_fedavg:336 - End of fedavg collaborative round.\n",
      "2020-09-18 11:09:02.970 | DEBUG    | subtest.multi_partner_learning:compute_collaborative_round_fedavg:289 - Start new fedavg collaborative round ...\n",
      "2020-09-18 11:09:02.972 | INFO     | subtest.multi_partner_learning:compute_collaborative_round_fedavg:304 - (fedavg) Minibatch n°2 of epoch n°4, init aggregated model for each partner with models from previous round\n",
      "2020-09-18 11:09:14.724 | DEBUG    | subtest.multi_partner_learning:log_collaborative_round_partner_result:628 - Epoch 04/09 > Minibatch 02/02 > Partner id #0 (0/2) > val_acc: 0.97\n",
      "2020-09-18 11:09:28.006 | DEBUG    | subtest.multi_partner_learning:log_collaborative_round_partner_result:628 - Epoch 04/09 > Minibatch 02/02 > Partner id #1 (1/2) > val_acc: 0.97\n",
      "2020-09-18 11:09:37.064 | DEBUG    | subtest.multi_partner_learning:log_collaborative_round_partner_result:628 - Epoch 04/09 > Minibatch 02/02 > Partner id #2 (2/2) > val_acc: 0.97\n",
      "2020-09-18 11:09:37.072 | DEBUG    | subtest.multi_partner_learning:compute_collaborative_round_fedavg:336 - End of fedavg collaborative round.\n",
      "2020-09-18 11:09:39.786 | INFO     | subtest.multi_partner_learning:compute_test_score:188 -    Model evaluation at the end of the epoch: ['0.064', '0.982']\n",
      "2020-09-18 11:09:39.788 | DEBUG    | subtest.multi_partner_learning:compute_test_score:191 -       Checking if early stopping criteria are met:\n",
      "2020-09-18 11:09:39.789 | DEBUG    | subtest.multi_partner_learning:compute_test_score:201 -          -> Early stopping criteria are not met, continuing with training.\n",
      "2020-09-18 11:09:39.983 | DEBUG    | subtest.multi_partner_learning:compute_collaborative_round_fedavg:289 - Start new fedavg collaborative round ...\n",
      "2020-09-18 11:09:39.984 | INFO     | subtest.multi_partner_learning:compute_collaborative_round_fedavg:304 - (fedavg) Minibatch n°0 of epoch n°5, init aggregated model for each partner with models from previous round\n",
      "2020-09-18 11:09:50.289 | DEBUG    | subtest.multi_partner_learning:log_collaborative_round_partner_result:628 - Epoch 05/09 > Minibatch 00/02 > Partner id #0 (0/2) > val_acc: 0.98\n",
      "2020-09-18 11:10:02.400 | DEBUG    | subtest.multi_partner_learning:log_collaborative_round_partner_result:628 - Epoch 05/09 > Minibatch 00/02 > Partner id #1 (1/2) > val_acc: 0.98\n",
      "2020-09-18 11:10:10.582 | DEBUG    | subtest.multi_partner_learning:log_collaborative_round_partner_result:628 - Epoch 05/09 > Minibatch 00/02 > Partner id #2 (2/2) > val_acc: 0.98\n",
      "2020-09-18 11:10:10.592 | DEBUG    | subtest.multi_partner_learning:compute_collaborative_round_fedavg:336 - End of fedavg collaborative round.\n",
      "2020-09-18 11:10:10.594 | DEBUG    | subtest.multi_partner_learning:compute_collaborative_round_fedavg:289 - Start new fedavg collaborative round ...\n",
      "2020-09-18 11:10:10.595 | INFO     | subtest.multi_partner_learning:compute_collaborative_round_fedavg:304 - (fedavg) Minibatch n°1 of epoch n°5, init aggregated model for each partner with models from previous round\n",
      "2020-09-18 11:10:19.795 | DEBUG    | subtest.multi_partner_learning:log_collaborative_round_partner_result:628 - Epoch 05/09 > Minibatch 01/02 > Partner id #0 (0/2) > val_acc: 0.97\n",
      "2020-09-18 11:10:31.480 | DEBUG    | subtest.multi_partner_learning:log_collaborative_round_partner_result:628 - Epoch 05/09 > Minibatch 01/02 > Partner id #1 (1/2) > val_acc: 0.98\n",
      "2020-09-18 11:10:39.672 | DEBUG    | subtest.multi_partner_learning:log_collaborative_round_partner_result:628 - Epoch 05/09 > Minibatch 01/02 > Partner id #2 (2/2) > val_acc: 0.97\n",
      "2020-09-18 11:10:39.680 | DEBUG    | subtest.multi_partner_learning:compute_collaborative_round_fedavg:336 - End of fedavg collaborative round.\n",
      "2020-09-18 11:10:39.681 | DEBUG    | subtest.multi_partner_learning:compute_collaborative_round_fedavg:289 - Start new fedavg collaborative round ...\n",
      "2020-09-18 11:10:39.683 | INFO     | subtest.multi_partner_learning:compute_collaborative_round_fedavg:304 - (fedavg) Minibatch n°2 of epoch n°5, init aggregated model for each partner with models from previous round\n",
      "2020-09-18 11:10:48.379 | DEBUG    | subtest.multi_partner_learning:log_collaborative_round_partner_result:628 - Epoch 05/09 > Minibatch 02/02 > Partner id #0 (0/2) > val_acc: 0.98\n",
      "2020-09-18 11:11:02.065 | DEBUG    | subtest.multi_partner_learning:log_collaborative_round_partner_result:628 - Epoch 05/09 > Minibatch 02/02 > Partner id #1 (1/2) > val_acc: 0.98\n",
      "2020-09-18 11:11:11.060 | DEBUG    | subtest.multi_partner_learning:log_collaborative_round_partner_result:628 - Epoch 05/09 > Minibatch 02/02 > Partner id #2 (2/2) > val_acc: 0.98\n",
      "2020-09-18 11:11:11.070 | DEBUG    | subtest.multi_partner_learning:compute_collaborative_round_fedavg:336 - End of fedavg collaborative round.\n",
      "2020-09-18 11:11:13.158 | INFO     | subtest.multi_partner_learning:compute_test_score:188 -    Model evaluation at the end of the epoch: ['0.053', '0.985']\n",
      "2020-09-18 11:11:13.159 | DEBUG    | subtest.multi_partner_learning:compute_test_score:191 -       Checking if early stopping criteria are met:\n",
      "2020-09-18 11:11:13.161 | DEBUG    | subtest.multi_partner_learning:compute_test_score:201 -          -> Early stopping criteria are not met, continuing with training.\n",
      "2020-09-18 11:11:13.317 | DEBUG    | subtest.multi_partner_learning:compute_collaborative_round_fedavg:289 - Start new fedavg collaborative round ...\n",
      "2020-09-18 11:11:13.319 | INFO     | subtest.multi_partner_learning:compute_collaborative_round_fedavg:304 - (fedavg) Minibatch n°0 of epoch n°6, init aggregated model for each partner with models from previous round\n",
      "2020-09-18 11:11:22.471 | DEBUG    | subtest.multi_partner_learning:log_collaborative_round_partner_result:628 - Epoch 06/09 > Minibatch 00/02 > Partner id #0 (0/2) > val_acc: 0.98\n",
      "2020-09-18 11:11:34.953 | DEBUG    | subtest.multi_partner_learning:log_collaborative_round_partner_result:628 - Epoch 06/09 > Minibatch 00/02 > Partner id #1 (1/2) > val_acc: 0.97\n",
      "2020-09-18 11:11:43.650 | DEBUG    | subtest.multi_partner_learning:log_collaborative_round_partner_result:628 - Epoch 06/09 > Minibatch 00/02 > Partner id #2 (2/2) > val_acc: 0.98\n",
      "2020-09-18 11:11:43.657 | DEBUG    | subtest.multi_partner_learning:compute_collaborative_round_fedavg:336 - End of fedavg collaborative round.\n",
      "2020-09-18 11:11:43.661 | DEBUG    | subtest.multi_partner_learning:compute_collaborative_round_fedavg:289 - Start new fedavg collaborative round ...\n"
     ]
    },
    {
     "name": "stderr",
     "output_type": "stream",
     "text": [
      "2020-09-18 11:11:43.663 | INFO     | subtest.multi_partner_learning:compute_collaborative_round_fedavg:304 - (fedavg) Minibatch n°1 of epoch n°6, init aggregated model for each partner with models from previous round\n",
      "2020-09-18 11:11:53.296 | DEBUG    | subtest.multi_partner_learning:log_collaborative_round_partner_result:628 - Epoch 06/09 > Minibatch 01/02 > Partner id #0 (0/2) > val_acc: 0.97\n",
      "2020-09-18 11:12:05.787 | DEBUG    | subtest.multi_partner_learning:log_collaborative_round_partner_result:628 - Epoch 06/09 > Minibatch 01/02 > Partner id #1 (1/2) > val_acc: 0.97\n",
      "2020-09-18 11:12:14.921 | DEBUG    | subtest.multi_partner_learning:log_collaborative_round_partner_result:628 - Epoch 06/09 > Minibatch 01/02 > Partner id #2 (2/2) > val_acc: 0.98\n",
      "2020-09-18 11:12:14.930 | DEBUG    | subtest.multi_partner_learning:compute_collaborative_round_fedavg:336 - End of fedavg collaborative round.\n",
      "2020-09-18 11:12:14.932 | DEBUG    | subtest.multi_partner_learning:compute_collaborative_round_fedavg:289 - Start new fedavg collaborative round ...\n",
      "2020-09-18 11:12:14.934 | INFO     | subtest.multi_partner_learning:compute_collaborative_round_fedavg:304 - (fedavg) Minibatch n°2 of epoch n°6, init aggregated model for each partner with models from previous round\n",
      "2020-09-18 11:12:23.795 | DEBUG    | subtest.multi_partner_learning:log_collaborative_round_partner_result:628 - Epoch 06/09 > Minibatch 02/02 > Partner id #0 (0/2) > val_acc: 0.98\n",
      "2020-09-18 11:12:34.379 | DEBUG    | subtest.multi_partner_learning:log_collaborative_round_partner_result:628 - Epoch 06/09 > Minibatch 02/02 > Partner id #1 (1/2) > val_acc: 0.98\n",
      "2020-09-18 11:12:41.449 | DEBUG    | subtest.multi_partner_learning:log_collaborative_round_partner_result:628 - Epoch 06/09 > Minibatch 02/02 > Partner id #2 (2/2) > val_acc: 0.98\n",
      "2020-09-18 11:12:41.456 | DEBUG    | subtest.multi_partner_learning:compute_collaborative_round_fedavg:336 - End of fedavg collaborative round.\n",
      "2020-09-18 11:12:43.290 | INFO     | subtest.multi_partner_learning:compute_test_score:188 -    Model evaluation at the end of the epoch: ['0.047', '0.987']\n",
      "2020-09-18 11:12:43.292 | DEBUG    | subtest.multi_partner_learning:compute_test_score:191 -       Checking if early stopping criteria are met:\n",
      "2020-09-18 11:12:43.293 | DEBUG    | subtest.multi_partner_learning:compute_test_score:201 -          -> Early stopping criteria are not met, continuing with training.\n",
      "2020-09-18 11:12:43.427 | DEBUG    | subtest.multi_partner_learning:compute_collaborative_round_fedavg:289 - Start new fedavg collaborative round ...\n",
      "2020-09-18 11:12:43.428 | INFO     | subtest.multi_partner_learning:compute_collaborative_round_fedavg:304 - (fedavg) Minibatch n°0 of epoch n°7, init aggregated model for each partner with models from previous round\n",
      "2020-09-18 11:12:50.800 | DEBUG    | subtest.multi_partner_learning:log_collaborative_round_partner_result:628 - Epoch 07/09 > Minibatch 00/02 > Partner id #0 (0/2) > val_acc: 0.98\n",
      "2020-09-18 11:13:00.517 | DEBUG    | subtest.multi_partner_learning:log_collaborative_round_partner_result:628 - Epoch 07/09 > Minibatch 00/02 > Partner id #1 (1/2) > val_acc: 0.98\n",
      "2020-09-18 11:13:07.338 | DEBUG    | subtest.multi_partner_learning:log_collaborative_round_partner_result:628 - Epoch 07/09 > Minibatch 00/02 > Partner id #2 (2/2) > val_acc: 0.98\n",
      "2020-09-18 11:13:07.345 | DEBUG    | subtest.multi_partner_learning:compute_collaborative_round_fedavg:336 - End of fedavg collaborative round.\n",
      "2020-09-18 11:13:07.346 | DEBUG    | subtest.multi_partner_learning:compute_collaborative_round_fedavg:289 - Start new fedavg collaborative round ...\n",
      "2020-09-18 11:13:07.347 | INFO     | subtest.multi_partner_learning:compute_collaborative_round_fedavg:304 - (fedavg) Minibatch n°1 of epoch n°7, init aggregated model for each partner with models from previous round\n",
      "2020-09-18 11:13:14.737 | DEBUG    | subtest.multi_partner_learning:log_collaborative_round_partner_result:628 - Epoch 07/09 > Minibatch 01/02 > Partner id #0 (0/2) > val_acc: 0.98\n",
      "2020-09-18 11:13:26.375 | DEBUG    | subtest.multi_partner_learning:log_collaborative_round_partner_result:628 - Epoch 07/09 > Minibatch 01/02 > Partner id #1 (1/2) > val_acc: 0.98\n",
      "2020-09-18 11:13:33.532 | DEBUG    | subtest.multi_partner_learning:log_collaborative_round_partner_result:628 - Epoch 07/09 > Minibatch 01/02 > Partner id #2 (2/2) > val_acc: 0.98\n",
      "2020-09-18 11:13:33.540 | DEBUG    | subtest.multi_partner_learning:compute_collaborative_round_fedavg:336 - End of fedavg collaborative round.\n",
      "2020-09-18 11:13:33.542 | DEBUG    | subtest.multi_partner_learning:compute_collaborative_round_fedavg:289 - Start new fedavg collaborative round ...\n",
      "2020-09-18 11:13:33.543 | INFO     | subtest.multi_partner_learning:compute_collaborative_round_fedavg:304 - (fedavg) Minibatch n°2 of epoch n°7, init aggregated model for each partner with models from previous round\n",
      "2020-09-18 11:13:41.009 | DEBUG    | subtest.multi_partner_learning:log_collaborative_round_partner_result:628 - Epoch 07/09 > Minibatch 02/02 > Partner id #0 (0/2) > val_acc: 0.98\n",
      "2020-09-18 11:13:50.728 | DEBUG    | subtest.multi_partner_learning:log_collaborative_round_partner_result:628 - Epoch 07/09 > Minibatch 02/02 > Partner id #1 (1/2) > val_acc: 0.98\n",
      "2020-09-18 11:13:57.531 | DEBUG    | subtest.multi_partner_learning:log_collaborative_round_partner_result:628 - Epoch 07/09 > Minibatch 02/02 > Partner id #2 (2/2) > val_acc: 0.98\n",
      "2020-09-18 11:13:57.538 | DEBUG    | subtest.multi_partner_learning:compute_collaborative_round_fedavg:336 - End of fedavg collaborative round.\n",
      "2020-09-18 11:13:59.355 | INFO     | subtest.multi_partner_learning:compute_test_score:188 -    Model evaluation at the end of the epoch: ['0.046', '0.988']\n",
      "2020-09-18 11:13:59.357 | DEBUG    | subtest.multi_partner_learning:compute_test_score:191 -       Checking if early stopping criteria are met:\n",
      "2020-09-18 11:13:59.358 | DEBUG    | subtest.multi_partner_learning:compute_test_score:201 -          -> Early stopping criteria are not met, continuing with training.\n",
      "2020-09-18 11:13:59.481 | DEBUG    | subtest.multi_partner_learning:compute_collaborative_round_fedavg:289 - Start new fedavg collaborative round ...\n",
      "2020-09-18 11:13:59.482 | INFO     | subtest.multi_partner_learning:compute_collaborative_round_fedavg:304 - (fedavg) Minibatch n°0 of epoch n°8, init aggregated model for each partner with models from previous round\n",
      "2020-09-18 11:14:07.582 | DEBUG    | subtest.multi_partner_learning:log_collaborative_round_partner_result:628 - Epoch 08/09 > Minibatch 00/02 > Partner id #0 (0/2) > val_acc: 0.98\n",
      "2020-09-18 11:14:17.315 | DEBUG    | subtest.multi_partner_learning:log_collaborative_round_partner_result:628 - Epoch 08/09 > Minibatch 00/02 > Partner id #1 (1/2) > val_acc: 0.98\n",
      "2020-09-18 11:14:25.330 | DEBUG    | subtest.multi_partner_learning:log_collaborative_round_partner_result:628 - Epoch 08/09 > Minibatch 00/02 > Partner id #2 (2/2) > val_acc: 0.97\n",
      "2020-09-18 11:14:25.339 | DEBUG    | subtest.multi_partner_learning:compute_collaborative_round_fedavg:336 - End of fedavg collaborative round.\n",
      "2020-09-18 11:14:25.342 | DEBUG    | subtest.multi_partner_learning:compute_collaborative_round_fedavg:289 - Start new fedavg collaborative round ...\n",
      "2020-09-18 11:14:25.343 | INFO     | subtest.multi_partner_learning:compute_collaborative_round_fedavg:304 - (fedavg) Minibatch n°1 of epoch n°8, init aggregated model for each partner with models from previous round\n",
      "2020-09-18 11:14:34.159 | DEBUG    | subtest.multi_partner_learning:log_collaborative_round_partner_result:628 - Epoch 08/09 > Minibatch 01/02 > Partner id #0 (0/2) > val_acc: 0.98\n",
      "2020-09-18 11:14:45.783 | DEBUG    | subtest.multi_partner_learning:log_collaborative_round_partner_result:628 - Epoch 08/09 > Minibatch 01/02 > Partner id #1 (1/2) > val_acc: 0.99\n",
      "2020-09-18 11:14:54.212 | DEBUG    | subtest.multi_partner_learning:log_collaborative_round_partner_result:628 - Epoch 08/09 > Minibatch 01/02 > Partner id #2 (2/2) > val_acc: 0.98\n",
      "2020-09-18 11:14:54.222 | DEBUG    | subtest.multi_partner_learning:compute_collaborative_round_fedavg:336 - End of fedavg collaborative round.\n",
      "2020-09-18 11:14:54.224 | DEBUG    | subtest.multi_partner_learning:compute_collaborative_round_fedavg:289 - Start new fedavg collaborative round ...\n"
     ]
    },
    {
     "name": "stderr",
     "output_type": "stream",
     "text": [
      "2020-09-18 11:14:54.225 | INFO     | subtest.multi_partner_learning:compute_collaborative_round_fedavg:304 - (fedavg) Minibatch n°2 of epoch n°8, init aggregated model for each partner with models from previous round\n",
      "2020-09-18 11:15:03.015 | DEBUG    | subtest.multi_partner_learning:log_collaborative_round_partner_result:628 - Epoch 08/09 > Minibatch 02/02 > Partner id #0 (0/2) > val_acc: 0.98\n",
      "2020-09-18 11:15:14.639 | DEBUG    | subtest.multi_partner_learning:log_collaborative_round_partner_result:628 - Epoch 08/09 > Minibatch 02/02 > Partner id #1 (1/2) > val_acc: 0.98\n",
      "2020-09-18 11:15:22.753 | DEBUG    | subtest.multi_partner_learning:log_collaborative_round_partner_result:628 - Epoch 08/09 > Minibatch 02/02 > Partner id #2 (2/2) > val_acc: 0.98\n",
      "2020-09-18 11:15:22.761 | DEBUG    | subtest.multi_partner_learning:compute_collaborative_round_fedavg:336 - End of fedavg collaborative round.\n",
      "2020-09-18 11:15:24.878 | INFO     | subtest.multi_partner_learning:compute_test_score:188 -    Model evaluation at the end of the epoch: ['0.047', '0.986']\n",
      "2020-09-18 11:15:24.880 | DEBUG    | subtest.multi_partner_learning:compute_test_score:191 -       Checking if early stopping criteria are met:\n",
      "2020-09-18 11:15:24.884 | DEBUG    | subtest.multi_partner_learning:compute_test_score:201 -          -> Early stopping criteria are not met, continuing with training.\n",
      "2020-09-18 11:15:25.031 | DEBUG    | subtest.multi_partner_learning:compute_collaborative_round_fedavg:289 - Start new fedavg collaborative round ...\n",
      "2020-09-18 11:15:25.034 | INFO     | subtest.multi_partner_learning:compute_collaborative_round_fedavg:304 - (fedavg) Minibatch n°0 of epoch n°9, init aggregated model for each partner with models from previous round\n",
      "2020-09-18 11:15:34.391 | DEBUG    | subtest.multi_partner_learning:log_collaborative_round_partner_result:628 - Epoch 09/09 > Minibatch 00/02 > Partner id #0 (0/2) > val_acc: 0.98\n",
      "2020-09-18 11:15:46.466 | DEBUG    | subtest.multi_partner_learning:log_collaborative_round_partner_result:628 - Epoch 09/09 > Minibatch 00/02 > Partner id #1 (1/2) > val_acc: 0.99\n",
      "2020-09-18 11:15:55.001 | DEBUG    | subtest.multi_partner_learning:log_collaborative_round_partner_result:628 - Epoch 09/09 > Minibatch 00/02 > Partner id #2 (2/2) > val_acc: 0.98\n",
      "2020-09-18 11:15:55.008 | DEBUG    | subtest.multi_partner_learning:compute_collaborative_round_fedavg:336 - End of fedavg collaborative round.\n",
      "2020-09-18 11:15:55.011 | DEBUG    | subtest.multi_partner_learning:compute_collaborative_round_fedavg:289 - Start new fedavg collaborative round ...\n",
      "2020-09-18 11:15:55.014 | INFO     | subtest.multi_partner_learning:compute_collaborative_round_fedavg:304 - (fedavg) Minibatch n°1 of epoch n°9, init aggregated model for each partner with models from previous round\n",
      "2020-09-18 11:16:04.437 | DEBUG    | subtest.multi_partner_learning:log_collaborative_round_partner_result:628 - Epoch 09/09 > Minibatch 01/02 > Partner id #0 (0/2) > val_acc: 0.98\n",
      "2020-09-18 11:16:16.499 | DEBUG    | subtest.multi_partner_learning:log_collaborative_round_partner_result:628 - Epoch 09/09 > Minibatch 01/02 > Partner id #1 (1/2) > val_acc: 0.98\n",
      "2020-09-18 11:16:25.310 | DEBUG    | subtest.multi_partner_learning:log_collaborative_round_partner_result:628 - Epoch 09/09 > Minibatch 01/02 > Partner id #2 (2/2) > val_acc: 0.99\n",
      "2020-09-18 11:16:25.317 | DEBUG    | subtest.multi_partner_learning:compute_collaborative_round_fedavg:336 - End of fedavg collaborative round.\n",
      "2020-09-18 11:16:25.319 | DEBUG    | subtest.multi_partner_learning:compute_collaborative_round_fedavg:289 - Start new fedavg collaborative round ...\n",
      "2020-09-18 11:16:25.320 | INFO     | subtest.multi_partner_learning:compute_collaborative_round_fedavg:304 - (fedavg) Minibatch n°2 of epoch n°9, init aggregated model for each partner with models from previous round\n",
      "2020-09-18 11:16:34.269 | DEBUG    | subtest.multi_partner_learning:log_collaborative_round_partner_result:628 - Epoch 09/09 > Minibatch 02/02 > Partner id #0 (0/2) > val_acc: 0.98\n",
      "2020-09-18 11:16:46.422 | DEBUG    | subtest.multi_partner_learning:log_collaborative_round_partner_result:628 - Epoch 09/09 > Minibatch 02/02 > Partner id #1 (1/2) > val_acc: 0.98\n",
      "2020-09-18 11:16:54.651 | DEBUG    | subtest.multi_partner_learning:log_collaborative_round_partner_result:628 - Epoch 09/09 > Minibatch 02/02 > Partner id #2 (2/2) > val_acc: 0.98\n",
      "2020-09-18 11:16:54.661 | DEBUG    | subtest.multi_partner_learning:compute_collaborative_round_fedavg:336 - End of fedavg collaborative round.\n",
      "2020-09-18 11:16:56.880 | INFO     | subtest.multi_partner_learning:compute_test_score:188 -    Model evaluation at the end of the epoch: ['0.046', '0.987']\n",
      "2020-09-18 11:16:56.882 | DEBUG    | subtest.multi_partner_learning:compute_test_score:191 -       Checking if early stopping criteria are met:\n",
      "2020-09-18 11:16:56.884 | DEBUG    | subtest.multi_partner_learning:compute_test_score:201 -          -> Early stopping criteria are not met, continuing with training.\n",
      "2020-09-18 11:16:56.887 | INFO     | subtest.multi_partner_learning:compute_test_score:204 - ### Evaluating model on test data:\n",
      "2020-09-18 11:17:00.054 | INFO     | subtest.multi_partner_learning:compute_test_score:206 -    Model metrics names: ['loss', 'accuracy']\n",
      "2020-09-18 11:17:00.057 | INFO     | subtest.multi_partner_learning:compute_test_score:207 -    Model metrics values: ['0.038', '0.988']\n",
      "C:\\Users\\arthu\\Anaconda3\\envs\\distributed-learning-contributivity\\lib\\site-packages\\numpy\\core\\_asarray.py:136: VisibleDeprecationWarning: Creating an ndarray from ragged nested sequences (which is a list-or-tuple of lists-or-tuples-or ndarrays with different lengths or shapes) is deprecated. If you meant to do this, you must specify 'dtype=object' when creating the ndarray\n",
      "  return array(a, dtype, copy=False, order=order, subok=True)\n",
      "2020-09-18 11:17:00.859 | INFO     | subtest.multi_partner_learning:compute_test_score:218 - Training and evaluation on multiple partners: done.\n"
     ]
    },
    {
     "data": {
      "text/plain": [
       "0"
      ]
     },
     "execution_count": 16,
     "metadata": {},
     "output_type": "execute_result"
    }
   ],
   "source": [
    "my_scenario.run()"
   ]
  },
  {
   "cell_type": "markdown",
   "metadata": {
    "colab_type": "text",
    "id": "MeWcWlC5ddPn",
    "pycharm": {
     "name": "#%% md\n"
    }
   },
   "source": [
    "## 6 - Explore the results\n",
    "\n",
    "A scenario can be exported to dataframe format, to see the different parameters, and some results. "
   ]
  },
  {
   "cell_type": "code",
   "execution_count": 36,
   "metadata": {
    "colab": {
     "base_uri": "https://localhost:8080/",
     "height": 114
    },
    "colab_type": "code",
    "id": "X67YaGm3ddPn",
    "outputId": "b4f5fe49-64f8-4ddb-f6a4-12a48672c508",
    "pycharm": {
     "name": "#%%\n"
    }
   },
   "outputs": [
    {
     "data": {
      "text/html": [
       "<div>\n",
       "<style scoped>\n",
       "    .dataframe tbody tr th:only-of-type {\n",
       "        vertical-align: middle;\n",
       "    }\n",
       "\n",
       "    .dataframe tbody tr th {\n",
       "        vertical-align: top;\n",
       "    }\n",
       "\n",
       "    .dataframe thead th {\n",
       "        text-align: right;\n",
       "    }\n",
       "</style>\n",
       "<table border=\"1\" class=\"dataframe\">\n",
       "  <thead>\n",
       "    <tr style=\"text-align: right;\">\n",
       "      <th></th>\n",
       "      <th>aggregation_weighting</th>\n",
       "      <th>dataset_fraction_per_partner</th>\n",
       "      <th>dataset_name</th>\n",
       "      <th>epoch_count</th>\n",
       "      <th>final_relative_nb_samples</th>\n",
       "      <th>gradient_updates_per_pass_count</th>\n",
       "      <th>is_early_stopping</th>\n",
       "      <th>learning_computation_time_sec</th>\n",
       "      <th>minibatch_count</th>\n",
       "      <th>mpl_nb_epochs_done</th>\n",
       "      <th>mpl_test_score</th>\n",
       "      <th>multi_partner_learning_approach</th>\n",
       "      <th>nb_samples_used</th>\n",
       "      <th>partners_count</th>\n",
       "      <th>samples_split_description</th>\n",
       "      <th>scenario_name</th>\n",
       "      <th>short_scenario_name</th>\n",
       "      <th>test_data_samples_count</th>\n",
       "      <th>train_data_samples_count</th>\n",
       "    </tr>\n",
       "  </thead>\n",
       "  <tbody>\n",
       "    <tr>\n",
       "      <th>0</th>\n",
       "      <td>uniform</td>\n",
       "      <td>[0.2, 0.5, 0.3]</td>\n",
       "      <td>mnist</td>\n",
       "      <td>10.0</td>\n",
       "      <td>[0.2, 0.5, 0.3]</td>\n",
       "      <td>8.0</td>\n",
       "      <td>1.0</td>\n",
       "      <td>908.220228</td>\n",
       "      <td>3.0</td>\n",
       "      <td>10.0</td>\n",
       "      <td>0.988</td>\n",
       "      <td>fedavg</td>\n",
       "      <td>43740.0</td>\n",
       "      <td>3.0</td>\n",
       "      <td>random</td>\n",
       "      <td>scenario_1_repeat_1_2020-09-18_11h01_86e</td>\n",
       "      <td>3 [0.2, 0.5, 0.3]</td>\n",
       "      <td>10000.0</td>\n",
       "      <td>54000.0</td>\n",
       "    </tr>\n",
       "  </tbody>\n",
       "</table>\n",
       "</div>"
      ],
      "text/plain": [
       "  aggregation_weighting dataset_fraction_per_partner dataset_name  \\\n",
       "0               uniform              [0.2, 0.5, 0.3]        mnist   \n",
       "\n",
       "   epoch_count final_relative_nb_samples  gradient_updates_per_pass_count  \\\n",
       "0         10.0           [0.2, 0.5, 0.3]                              8.0   \n",
       "\n",
       "   is_early_stopping  learning_computation_time_sec  minibatch_count  \\\n",
       "0                1.0                     908.220228              3.0   \n",
       "\n",
       "   mpl_nb_epochs_done  mpl_test_score multi_partner_learning_approach  \\\n",
       "0                10.0           0.988                          fedavg   \n",
       "\n",
       "   nb_samples_used  partners_count samples_split_description  \\\n",
       "0          43740.0             3.0                    random   \n",
       "\n",
       "                              scenario_name short_scenario_name  \\\n",
       "0  scenario_1_repeat_1_2020-09-18_11h01_86e   3 [0.2, 0.5, 0.3]   \n",
       "\n",
       "   test_data_samples_count  train_data_samples_count  \n",
       "0                  10000.0                   54000.0  "
      ]
     },
     "execution_count": 36,
     "metadata": {},
     "output_type": "execute_result"
    }
   ],
   "source": [
    "import numpy as np\n",
    "import pandas as pd\n",
    "import seaborn as sns\n",
    "import matplotlib.pyplot as plt\n",
    "sns.set()\n",
    "\n",
    "df_results = my_scenario.to_dataframe()\n",
    "df_results.head()"
   ]
  },
  {
   "cell_type": "markdown",
   "metadata": {
    "colab_type": "text",
    "id": "XW_EH1fxddPp",
    "pycharm": {
     "name": "#%% md\n"
    }
   },
   "source": [
    " First, our federated model score (computed on the global test set)"
   ]
  },
  {
   "cell_type": "code",
   "execution_count": 37,
   "metadata": {
    "colab": {
     "base_uri": "https://localhost:8080/",
     "height": 50
    },
    "colab_type": "code",
    "id": "hUBKGXfXddPp",
    "outputId": "0bf25f09-9a27-4097-c9f2-ddb84766e21a",
    "pycharm": {
     "name": "#%%\n"
    }
   },
   "outputs": [
    {
     "name": "stdout",
     "output_type": "stream",
     "text": [
      "Approach used : fedavg\n",
      "Model accuracy : 0.9879999756813049\n"
     ]
    }
   ],
   "source": [
    "print(\"Approach used :\", df_results.multi_partner_learning_approach[0])\n",
    "print(\"Model accuracy :\", df_results.mpl_test_score[0])"
   ]
  },
  {
   "cell_type": "markdown",
   "metadata": {
    "pycharm": {
     "name": "#%% md\n"
    }
   },
   "source": [
    "Let's see how our loss behaves (here the loss is computed on the global validation set)"
   ]
  },
  {
   "cell_type": "code",
   "execution_count": 39,
   "metadata": {
    "pycharm": {
     "name": "#%%\n"
    }
   },
   "outputs": [
    {
     "data": {
      "text/plain": [
       "Text(0.5, 1.0, 'Loss on the collaborative model')"
      ]
     },
     "execution_count": 39,
     "metadata": {},
     "output_type": "execute_result"
    },
    {
     "data": {
      "image/png": "[encoded data removed]",
      "text/plain": [
       "<Figure size 432x288 with 1 Axes>"
      ]
     },
     "metadata": {},
     "output_type": "display_data"
    }
   ],
   "source": [
    "losses = my_scenario.mpl.history.history['mpl_model']['val_loss'][:,-1]  # All the epoch, and the last minibatch\n",
    "epochs = np.arange(my_scenario.epoch_count)\n",
    "ax = plt.plot(epochs, losses)\n",
    "plt.xlabel('epochs')\n",
    "plt.ylabel('loss')\n",
    "plt.title('Loss on the collaborative model')"
   ]
  },
  {
   "cell_type": "markdown",
   "metadata": {
    "pycharm": {
     "name": "#%% md\n"
    }
   },
   "source": [
    "One can be interested on the behaviour of the accuracy score of each partner through the epochs. \n",
    "These information are stored in the history.history dictionnary. The structure of the dictionnary is the following : score\\[partner_id]\\[metric_key][epoch_index, minibatch_index\\]\n",
    "\n",
    "The available metric_key are `'accuracy'`, `'loss'`, `'val_accuracy'`, `'val_loss'`. Metrics prefixed with `'val_'` are computed on validation dataset, and the other on the training dataset.\n",
    "\n",
    "For instance, if you want the accuracy on the training dataset for the partner 1 at the epoch 5, minibatch 0, you can use the following code :"
   ]
  },
  {
   "cell_type": "code",
   "execution_count": null,
   "outputs": [],
   "source": [
    "my_scenario.mpl.history.history[1]['accuracy'][5,0]"
   ],
   "metadata": {
    "collapsed": false,
    "pycharm": {
     "name": "#%%\n"
    }
   }
  },
  {
   "cell_type": "markdown",
   "source": [
    "Another key avaible on the dictionary, at the partner level, is `'mpl_model'`. You can use it to access to the `'val_accuracy'`, `'val_loss'` computed with the global model, at the end of each minibatch.\n",
    "\n",
    "As this object is quite complexe to handle, and complexe analysis can be tricky to compute on it, this object can be converted to a more user-friendly pandas' DataFrame."
   ],
   "metadata": {
    "collapsed": false,
    "pycharm": {
     "name": "#%% md\n"
    }
   }
  },
  {
   "cell_type": "code",
   "execution_count": 64,
   "metadata": {
    "pycharm": {
     "name": "#%%\n"
    }
   },
   "outputs": [],
   "source": [
    "history_df = my_scenario.mpl.history.partners_to_dataframe()\n",
    "history_df.groupby(\"Partner\").describe()"
   ]
  },
  {
   "cell_type": "markdown",
   "source": [
    "From this dataframe, you are able to do requests and analysis as complexe as you want.\n",
    "What about the validation loss per Partners through the epochs ? (on the last minibatch)\n"
   ],
   "metadata": {
    "collapsed": false,
    "pycharm": {
     "name": "#%% md\n"
    }
   }
  },
  {
   "cell_type": "code",
   "execution_count": 66,
   "metadata": {
    "pycharm": {
     "name": "#%%\n"
    }
   },
   "outputs": [
    {
     "data": {
      "text/html": [
       "<div>\n",
       "<style scoped>\n",
       "    .dataframe tbody tr th:only-of-type {\n",
       "        vertical-align: middle;\n",
       "    }\n",
       "\n",
       "    .dataframe tbody tr th {\n",
       "        vertical-align: top;\n",
       "    }\n",
       "\n",
       "    .dataframe thead th {\n",
       "        text-align: right;\n",
       "    }\n",
       "</style>\n",
       "<table border=\"1\" class=\"dataframe\">\n",
       "  <thead>\n",
       "    <tr style=\"text-align: right;\">\n",
       "      <th></th>\n",
       "      <th>partner 0</th>\n",
       "      <th>partner 1</th>\n",
       "      <th>partner 2</th>\n",
       "    </tr>\n",
       "  </thead>\n",
       "  <tbody>\n",
       "    <tr>\n",
       "      <th>0</th>\n",
       "      <td>0.843778</td>\n",
       "      <td>0.835444</td>\n",
       "      <td>0.819556</td>\n",
       "    </tr>\n",
       "    <tr>\n",
       "      <th>1</th>\n",
       "      <td>0.898833</td>\n",
       "      <td>0.922333</td>\n",
       "      <td>0.910111</td>\n",
       "    </tr>\n",
       "    <tr>\n",
       "      <th>2</th>\n",
       "      <td>0.955667</td>\n",
       "      <td>0.952278</td>\n",
       "      <td>0.950278</td>\n",
       "    </tr>\n",
       "    <tr>\n",
       "      <th>3</th>\n",
       "      <td>0.962889</td>\n",
       "      <td>0.971333</td>\n",
       "      <td>0.969000</td>\n",
       "    </tr>\n",
       "    <tr>\n",
       "      <th>4</th>\n",
       "      <td>0.973444</td>\n",
       "      <td>0.975056</td>\n",
       "      <td>0.971444</td>\n",
       "    </tr>\n",
       "    <tr>\n",
       "      <th>5</th>\n",
       "      <td>0.975889</td>\n",
       "      <td>0.980000</td>\n",
       "      <td>0.977389</td>\n",
       "    </tr>\n",
       "    <tr>\n",
       "      <th>6</th>\n",
       "      <td>0.976056</td>\n",
       "      <td>0.976667</td>\n",
       "      <td>0.980056</td>\n",
       "    </tr>\n",
       "    <tr>\n",
       "      <th>7</th>\n",
       "      <td>0.982389</td>\n",
       "      <td>0.982833</td>\n",
       "      <td>0.981500</td>\n",
       "    </tr>\n",
       "    <tr>\n",
       "      <th>8</th>\n",
       "      <td>0.982000</td>\n",
       "      <td>0.983056</td>\n",
       "      <td>0.977778</td>\n",
       "    </tr>\n",
       "    <tr>\n",
       "      <th>9</th>\n",
       "      <td>0.980556</td>\n",
       "      <td>0.984833</td>\n",
       "      <td>0.982778</td>\n",
       "    </tr>\n",
       "  </tbody>\n",
       "</table>\n",
       "</div>"
      ],
      "text/plain": [
       "   partner 0  partner 1  partner 2\n",
       "0   0.843778   0.835444   0.819556\n",
       "1   0.898833   0.922333   0.910111\n",
       "2   0.955667   0.952278   0.950278\n",
       "3   0.962889   0.971333   0.969000\n",
       "4   0.973444   0.975056   0.971444\n",
       "5   0.975889   0.980000   0.977389\n",
       "6   0.976056   0.976667   0.980056\n",
       "7   0.982389   0.982833   0.981500\n",
       "8   0.982000   0.983056   0.977778\n",
       "9   0.980556   0.984833   0.982778"
      ]
     },
     "execution_count": 66,
     "metadata": {},
     "output_type": "execute_result"
    }
   ],
   "source": [
    "losses_per_partners = history_df[history_df.Minibatch==2].pivot(index='Epoch', columns='Partner', values='val_loss')\n",
    "losses_per_partners"
   ]
  },
  {
   "cell_type": "markdown",
   "source": [
    "Nice graphics are always more comfortable than brut dataframe, so let's plot it.\n"
   ],
   "metadata": {
    "collapsed": false,
    "pycharm": {
     "name": "#%% md\n"
    }
   }
  },
  {
   "cell_type": "code",
   "execution_count": 69,
   "metadata": {
    "pycharm": {
     "name": "#%%\n"
    }
   },
   "outputs": [
    {
     "data": {
      "text/plain": [
       "<seaborn.axisgrid.FacetGrid at 0x16d9c5f1788>"
      ]
     },
     "execution_count": 69,
     "metadata": {},
     "output_type": "execute_result"
    },
    {
     "data": {
      "image/png": "[encoded data removed]",
      "text/plain": [
       "<Figure size 443.85x360 with 1 Axes>"
      ]
     },
     "metadata": {},
     "output_type": "display_data"
    }
   ],
   "source": [
    "ax =sns.relplot(data=losses_per_partners, kind=\"line\")\n",
    "ax.set(xlabel='epochs', ylabel='Loss', title='Losses evolution through the epochs')"
   ]
  },
  {
   "cell_type": "markdown",
   "metadata": {
    "pycharm": {
     "name": "#%% md\n"
    }
   },
   "source": [
    "What about the accuracy ? On the validation dataset."
   ]
  },
  {
   "cell_type": "code",
   "execution_count": 75,
   "metadata": {
    "pycharm": {
     "name": "#%%\n"
    }
   },
   "outputs": [
    {
     "data": {
      "text/html": [
       "<div>\n",
       "<style scoped>\n",
       "    .dataframe tbody tr th:only-of-type {\n",
       "        vertical-align: middle;\n",
       "    }\n",
       "\n",
       "    .dataframe tbody tr th {\n",
       "        vertical-align: top;\n",
       "    }\n",
       "\n",
       "    .dataframe thead th {\n",
       "        text-align: right;\n",
       "    }\n",
       "</style>\n",
       "<table border=\"1\" class=\"dataframe\">\n",
       "  <thead>\n",
       "    <tr style=\"text-align: right;\">\n",
       "      <th></th>\n",
       "      <th>partner 0</th>\n",
       "      <th>partner 1</th>\n",
       "      <th>partner 2</th>\n",
       "      <th>collective model</th>\n",
       "    </tr>\n",
       "  </thead>\n",
       "  <tbody>\n",
       "    <tr>\n",
       "      <th>0</th>\n",
       "      <td>0.843778</td>\n",
       "      <td>0.835444</td>\n",
       "      <td>0.819556</td>\n",
       "      <td>0.673917</td>\n",
       "    </tr>\n",
       "    <tr>\n",
       "      <th>1</th>\n",
       "      <td>0.898833</td>\n",
       "      <td>0.922333</td>\n",
       "      <td>0.910111</td>\n",
       "      <td>0.914500</td>\n",
       "    </tr>\n",
       "    <tr>\n",
       "      <th>2</th>\n",
       "      <td>0.955667</td>\n",
       "      <td>0.952278</td>\n",
       "      <td>0.950278</td>\n",
       "      <td>0.956583</td>\n",
       "    </tr>\n",
       "    <tr>\n",
       "      <th>3</th>\n",
       "      <td>0.962889</td>\n",
       "      <td>0.971333</td>\n",
       "      <td>0.969000</td>\n",
       "      <td>0.972375</td>\n",
       "    </tr>\n",
       "    <tr>\n",
       "      <th>4</th>\n",
       "      <td>0.973444</td>\n",
       "      <td>0.975056</td>\n",
       "      <td>0.971444</td>\n",
       "      <td>0.979417</td>\n",
       "    </tr>\n",
       "    <tr>\n",
       "      <th>5</th>\n",
       "      <td>0.975889</td>\n",
       "      <td>0.980000</td>\n",
       "      <td>0.977389</td>\n",
       "      <td>0.982958</td>\n",
       "    </tr>\n",
       "    <tr>\n",
       "      <th>6</th>\n",
       "      <td>0.976056</td>\n",
       "      <td>0.976667</td>\n",
       "      <td>0.980056</td>\n",
       "      <td>0.984375</td>\n",
       "    </tr>\n",
       "    <tr>\n",
       "      <th>7</th>\n",
       "      <td>0.982389</td>\n",
       "      <td>0.982833</td>\n",
       "      <td>0.981500</td>\n",
       "      <td>0.987000</td>\n",
       "    </tr>\n",
       "    <tr>\n",
       "      <th>8</th>\n",
       "      <td>0.982000</td>\n",
       "      <td>0.983056</td>\n",
       "      <td>0.977778</td>\n",
       "      <td>0.986292</td>\n",
       "    </tr>\n",
       "    <tr>\n",
       "      <th>9</th>\n",
       "      <td>0.980556</td>\n",
       "      <td>0.984833</td>\n",
       "      <td>0.982778</td>\n",
       "      <td>0.987000</td>\n",
       "    </tr>\n",
       "  </tbody>\n",
       "</table>\n",
       "</div>"
      ],
      "text/plain": [
       "   partner 0  partner 1  partner 2  collective model\n",
       "0   0.843778   0.835444   0.819556          0.673917\n",
       "1   0.898833   0.922333   0.910111          0.914500\n",
       "2   0.955667   0.952278   0.950278          0.956583\n",
       "3   0.962889   0.971333   0.969000          0.972375\n",
       "4   0.973444   0.975056   0.971444          0.979417\n",
       "5   0.975889   0.980000   0.977389          0.982958\n",
       "6   0.976056   0.976667   0.980056          0.984375\n",
       "7   0.982389   0.982833   0.981500          0.987000\n",
       "8   0.982000   0.983056   0.977778          0.986292\n",
       "9   0.980556   0.984833   0.982778          0.987000"
      ]
     },
     "execution_count": 75,
     "metadata": {},
     "output_type": "execute_result"
    }
   ],
   "source": [
    "acc_per_partner = history_df[history_df.Minibatch==2].pivot(index='Epoch', columns='Partner', values='val_accuracy')\n",
    "ax = sns.relplot(data=acc_per_partner, kind=\"line\")\n",
    "ax.set(xlabel='epochs', ylabel='accuracy', title='Accuracy evolution through the epochs')"
   ]
  },
  {
   "cell_type": "markdown",
   "metadata": {
    "pycharm": {
     "name": "#%% md\n"
    }
   },
   "source": [
    "Another interesting result could be the comportment of the collective model, compared to the partners' models"
   ]
  },
  {
   "cell_type": "code",
   "execution_count": null,
   "outputs": [],
   "source": [
    "score_mpl_model = my_scenario.mpl.history.history['mpl_model']['val_accuracy'][:,-1]\n",
    "acc_per_partner['collective model'] = score_mpl_model\n",
    "acc_per_partner"
   ],
   "metadata": {
    "collapsed": false,
    "pycharm": {
     "name": "#%%\n"
    }
   }
  },
  {
   "cell_type": "code",
   "execution_count": null,
   "outputs": [],
   "source": [
    "ax = sns.relplot(data = acc_per_partner, kind=\"line\")\n",
    "ax.set(xlabel='epochs', ylabel='accuracy', title='Accuracy evolution through the epochs')"
   ],
   "metadata": {
    "collapsed": false,
    "pycharm": {
     "name": "#%%\n"
    }
   }
  },
  {
   "cell_type": "markdown",
   "metadata": {
    "pycharm": {
     "name": "#%% md\n"
    }
   },
   "source": [
    "One can denote that the local models are better at start, but after few epochs, the collective model shows better abilities to generalize. "
   ]
  },
  {
   "cell_type": "code",
   "execution_count": 78,
   "metadata": {
    "pycharm": {
     "name": "#%%\n"
    }
   },
   "outputs": [
    {
     "data": {
      "text/plain": [
       "<seaborn.axisgrid.FacetGrid at 0x16d9d02c7c8>"
      ]
     },
     "execution_count": 78,
     "metadata": {},
     "output_type": "execute_result"
    },
    {
     "data": {
      "image/png": "[encoded data removed]",
      "text/plain": [
       "<Figure size 478.225x360 with 1 Axes>"
      ]
     },
     "metadata": {},
     "output_type": "display_data"
    }
   ],
   "source": [
    "ax = sns.relplot(data = acc_per_partner.iloc[2:], kind=\"line\")\n",
    "ax.set(xlabel='epochs', ylabel='accuracy', title='Accuracy evolution through the epochs')"
   ]
  },
  {
   "cell_type": "markdown",
   "metadata": {
    "colab_type": "text",
    "id": "99jaKK2LddPr",
    "pycharm": {
     "name": "#%% md\n"
    }
   },
   "source": [
    "## 7 - Extract the model \n",
    "\n",
    "Finally, we can extract our model, use it a bit, on the test set for instance, and save it for later"
   ]
  },
  {
   "cell_type": "code",
   "execution_count": 79,
   "metadata": {
    "colab": {},
    "colab_type": "code",
    "id": "9wIdoS_bddPr",
    "pycharm": {
     "name": "#%%\n"
    }
   },
   "outputs": [],
   "source": [
    "model = my_scenario.mpl.build_model()\n",
    "model.summary()"
   ]
  },
  {
   "cell_type": "code",
   "execution_count": 80,
   "metadata": {
    "colab": {
     "base_uri": "https://localhost:8080/",
     "height": 52
    },
    "colab_type": "code",
    "id": "M4azOyxqddPu",
    "outputId": "3a4a8904-f156-4e96-b29b-1ff5c7faa60b"
   },
   "outputs": [
    {
     "name": "stdout",
     "output_type": "stream",
     "text": [
      "10000/10000 [==============================] - 3s 339us/step\n"
     ]
    },
    {
     "data": {
      "text/plain": [
       "[0.03768708155953791, 0.9879999756813049]"
      ]
     },
     "execution_count": 80,
     "metadata": {},
     "output_type": "execute_result"
    }
   ],
   "source": [
    "x_test = my_scenario.dataset.x_test\n",
    "y_test = my_scenario.dataset.y_test\n",
    "model.evaluate(x_test, y_test)"
   ]
  },
  {
   "cell_type": "markdown",
   "metadata": {
    "colab_type": "text",
    "id": "VheE9NyxddPw",
    "pycharm": {
     "name": "#%% md\n"
    }
   },
   "source": [
    "# That's it !\n",
    "\n",
    "Now you can explore our other tutorials for a better snapshot of what can be done with our library!\n",
    "\n",
    "This work is collaborative, enthusiasts are welcome to comment open issues and PRs or open new ones.\n",
    "\n",
    "Should you be interested in this open effort and would like to share any question, suggestion or input, you can use the following channels:\n",
    "\n",
    "- This Github repository (issues or PRs)\n",
    "- Substra Foundation's [Slack workspace](https://substra-workspace.slack.com/join/shared_invite/zt-cpyedcab-FHYgpy08efKJ2FCadE2yCA), channel `#workgroup-mpl-contributivity`\n",
    "- Email: hello@substra.org\n",
    "\n",
    " ![logo Substra Foundation](./img/substra_logo_couleur_rvb_w150px.png)\n"
   ]
  }
 ],
 "metadata": {
  "accelerator": "GPU",
  "colab": {
   "collapsed_sections": [],
   "name": "1 _INTRO_MNIST.ipynb",
   "provenance": []
  },
  "kernelspec": {
   "display_name": "Python 3",
   "language": "python",
   "name": "python3"
  },
  "language_info": {
   "codemirror_mode": {
    "name": "ipython",
    "version": 3
   },
   "file_extension": ".py",
   "mimetype": "text/x-python",
   "name": "python",
   "nbconvert_exporter": "python",
   "pygments_lexer": "ipython3",
   "version": "3.7.6"
  }
 },
 "nbformat": 4,
 "nbformat_minor": 1
}