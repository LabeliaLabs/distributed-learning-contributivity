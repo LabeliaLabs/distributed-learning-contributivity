{
 "cells": [
  {
   "cell_type": "markdown",
   "metadata": {},
   "source": [
    "# MNIST \n",
    "\n",
    "This exemple is an implementation of federated learning using Substra's Distributed Learning Contributivity.\n",
    "\n",
    "This is based on both [existing resources on MNIST](https://medium.com/@mjbhobe/mnist-digits-classification-with-keras-ed6c2374bd0e) and [precedent implementation of this dataset for the standalone application](https://github.com/SubstraFoundation/distributed-learning-contributivity/blob/master/datasets/dataset_mnist.py).\n",
    "\n",
    "This notebook will be focused on importing manually the dataset, do a bit of preprocessing and build our objects to run a collaborative round.\n",
    "\n",
    "\n",
    "## Prerequisites\n",
    "\n",
    "In order to run this example, you'll need to:\n",
    "\n",
    "* use python 3.7 +\n",
    "* install requierements from the requirements.txt file\n",
    "* install this package https://test.pypi.org/project/pkg-test-distributed-learning-contributivity/0.0.5/\n",
    "\n"
   ]
  },
  {
   "cell_type": "code",
   "execution_count": 21,
   "metadata": {},
   "outputs": [],
   "source": [
    "# imports\n",
    "import numpy as np\n",
    "from pathlib import Path\n",
    "import pandas as pd\n",
    "import seaborn as sns\n",
    "sns.set()\n",
    "\n",
    "from keras.models import Sequential\n",
    "from keras.layers import Dense, Dropout, Activation, Flatten, Conv2D, MaxPooling2D\n",
    "from keras.utils import np_utils\n",
    "from keras.datasets import mnist\n",
    "\n",
    "# Object and methodes needed in order to run a collaborative round\n",
    "from pkg.dataset import Dataset\n",
    "from pkg.scenario import Scenario\n",
    "from pkg.main import run_scenario"
   ]
  },
  {
   "cell_type": "code",
   "execution_count": 20,
   "metadata": {},
   "outputs": [
    {
     "name": "stdout",
     "output_type": "stream",
     "text": [
      "Collecting https://github.com/SubstraFoundation/distributed-learning-contributivity/archive/Package-implementation.zip\n",
      "  Using cached https://github.com/SubstraFoundation/distributed-learning-contributivity/archive/Package-implementation.zip\n",
      "Requirement already satisfied (use --upgrade to upgrade): pkg-test-distributed-learning-contributivity==0.0.4 from https://github.com/SubstraFoundation/distributed-learning-contributivity/archive/Package-implementation.zip in c:\\programdata\\anaconda3\\lib\\site-packages\n",
      "Requirement already satisfied: Keras==2.3.1 in c:\\programdata\\anaconda3\\lib\\site-packages (from pkg-test-distributed-learning-contributivity==0.0.4) (2.3.1)\n",
      "Requirement already satisfied: matplotlib==3.1.3 in c:\\programdata\\anaconda3\\lib\\site-packages (from pkg-test-distributed-learning-contributivity==0.0.4) (3.1.3)\n",
      "Requirement already satisfied: numpy==1.19.0 in c:\\programdata\\anaconda3\\lib\\site-packages (from pkg-test-distributed-learning-contributivity==0.0.4) (1.19.0)\n",
      "Requirement already satisfied: scipy==1.4.1 in c:\\programdata\\anaconda3\\lib\\site-packages (from pkg-test-distributed-learning-contributivity==0.0.4) (1.4.1)\n",
      "Requirement already satisfied: scikit-learn==0.22.1 in c:\\programdata\\anaconda3\\lib\\site-packages (from pkg-test-distributed-learning-contributivity==0.0.4) (0.22.1)\n",
      "Requirement already satisfied: pandas==1.0.5 in c:\\programdata\\anaconda3\\lib\\site-packages (from pkg-test-distributed-learning-contributivity==0.0.4) (1.0.5)\n",
      "Requirement already satisfied: seaborn==0.10.0 in c:\\programdata\\anaconda3\\lib\\site-packages (from pkg-test-distributed-learning-contributivity==0.0.4) (0.10.0)\n",
      "Requirement already satisfied: loguru==0.4.1 in c:\\programdata\\anaconda3\\lib\\site-packages (from pkg-test-distributed-learning-contributivity==0.0.4) (0.4.1)\n",
      "Requirement already satisfied: tensorflow==2.2.0 in c:\\programdata\\anaconda3\\lib\\site-packages (from pkg-test-distributed-learning-contributivity==0.0.4) (2.2.0)\n",
      "Requirement already satisfied: ruamel.yaml==0.16.10 in c:\\programdata\\anaconda3\\lib\\site-packages (from pkg-test-distributed-learning-contributivity==0.0.4) (0.16.10)\n",
      "Requirement already satisfied: pytest==5.4.3 in c:\\programdata\\anaconda3\\lib\\site-packages (from pkg-test-distributed-learning-contributivity==0.0.4) (5.4.3)\n",
      "Requirement already satisfied: h5py in c:\\programdata\\anaconda3\\lib\\site-packages (from Keras==2.3.1->pkg-test-distributed-learning-contributivity==0.0.4) (2.10.0)\n",
      "Requirement already satisfied: pyyaml in c:\\programdata\\anaconda3\\lib\\site-packages (from Keras==2.3.1->pkg-test-distributed-learning-contributivity==0.0.4) (5.3)\n",
      "Requirement already satisfied: keras-applications>=1.0.6 in c:\\programdata\\anaconda3\\lib\\site-packages (from Keras==2.3.1->pkg-test-distributed-learning-contributivity==0.0.4) (1.0.8)\n",
      "Requirement already satisfied: keras-preprocessing>=1.0.5 in c:\\programdata\\anaconda3\\lib\\site-packages (from Keras==2.3.1->pkg-test-distributed-learning-contributivity==0.0.4) (1.1.2)\n",
      "Requirement already satisfied: six>=1.9.0 in c:\\programdata\\anaconda3\\lib\\site-packages (from Keras==2.3.1->pkg-test-distributed-learning-contributivity==0.0.4) (1.14.0)\n",
      "Requirement already satisfied: cycler>=0.10 in c:\\programdata\\anaconda3\\lib\\site-packages (from matplotlib==3.1.3->pkg-test-distributed-learning-contributivity==0.0.4) (0.10.0)\n",
      "Requirement already satisfied: kiwisolver>=1.0.1 in c:\\programdata\\anaconda3\\lib\\site-packages (from matplotlib==3.1.3->pkg-test-distributed-learning-contributivity==0.0.4) (1.1.0)\n",
      "Requirement already satisfied: python-dateutil>=2.1 in c:\\programdata\\anaconda3\\lib\\site-packages (from matplotlib==3.1.3->pkg-test-distributed-learning-contributivity==0.0.4) (2.8.1)\n",
      "Requirement already satisfied: pyparsing!=2.0.4,!=2.1.2,!=2.1.6,>=2.0.1 in c:\\programdata\\anaconda3\\lib\\site-packages (from matplotlib==3.1.3->pkg-test-distributed-learning-contributivity==0.0.4) (2.4.6)\n",
      "Requirement already satisfied: joblib>=0.11 in c:\\programdata\\anaconda3\\lib\\site-packages (from scikit-learn==0.22.1->pkg-test-distributed-learning-contributivity==0.0.4) (0.14.1)\n",
      "Requirement already satisfied: pytz>=2017.2 in c:\\programdata\\anaconda3\\lib\\site-packages (from pandas==1.0.5->pkg-test-distributed-learning-contributivity==0.0.4) (2019.3)\n",
      "Requirement already satisfied: win32-setctime>=1.0.0; sys_platform == \"win32\" in c:\\programdata\\anaconda3\\lib\\site-packages (from loguru==0.4.1->pkg-test-distributed-learning-contributivity==0.0.4) (1.0.1)\n",
      "Requirement already satisfied: colorama>=0.3.4; sys_platform == \"win32\" in c:\\programdata\\anaconda3\\lib\\site-packages (from loguru==0.4.1->pkg-test-distributed-learning-contributivity==0.0.4) (0.4.3)\n",
      "Requirement already satisfied: absl-py>=0.7.0 in c:\\programdata\\anaconda3\\lib\\site-packages (from tensorflow==2.2.0->pkg-test-distributed-learning-contributivity==0.0.4) (0.9.0)\n",
      "Requirement already satisfied: tensorboard<2.3.0,>=2.2.0 in c:\\programdata\\anaconda3\\lib\\site-packages (from tensorflow==2.2.0->pkg-test-distributed-learning-contributivity==0.0.4) (2.2.2)\n",
      "Requirement already satisfied: protobuf>=3.8.0 in c:\\programdata\\anaconda3\\lib\\site-packages (from tensorflow==2.2.0->pkg-test-distributed-learning-contributivity==0.0.4) (3.12.2)\n",
      "Requirement already satisfied: termcolor>=1.1.0 in c:\\programdata\\anaconda3\\lib\\site-packages (from tensorflow==2.2.0->pkg-test-distributed-learning-contributivity==0.0.4) (1.1.0)\n",
      "Requirement already satisfied: gast==0.3.3 in c:\\programdata\\anaconda3\\lib\\site-packages (from tensorflow==2.2.0->pkg-test-distributed-learning-contributivity==0.0.4) (0.3.3)\n",
      "Requirement already satisfied: grpcio>=1.8.6 in c:\\programdata\\anaconda3\\lib\\site-packages (from tensorflow==2.2.0->pkg-test-distributed-learning-contributivity==0.0.4) (1.30.0)\n",
      "Requirement already satisfied: wheel>=0.26; python_version >= \"3\" in c:\\programdata\\anaconda3\\lib\\site-packages (from tensorflow==2.2.0->pkg-test-distributed-learning-contributivity==0.0.4) (0.34.2)\n",
      "Requirement already satisfied: astunparse==1.6.3 in c:\\programdata\\anaconda3\\lib\\site-packages (from tensorflow==2.2.0->pkg-test-distributed-learning-contributivity==0.0.4) (1.6.3)\n",
      "Requirement already satisfied: opt-einsum>=2.3.2 in c:\\programdata\\anaconda3\\lib\\site-packages (from tensorflow==2.2.0->pkg-test-distributed-learning-contributivity==0.0.4) (3.2.1)\n",
      "Requirement already satisfied: tensorflow-estimator<2.3.0,>=2.2.0 in c:\\programdata\\anaconda3\\lib\\site-packages (from tensorflow==2.2.0->pkg-test-distributed-learning-contributivity==0.0.4) (2.2.0)\n",
      "Requirement already satisfied: google-pasta>=0.1.8 in c:\\programdata\\anaconda3\\lib\\site-packages (from tensorflow==2.2.0->pkg-test-distributed-learning-contributivity==0.0.4) (0.2.0)\n",
      "Requirement already satisfied: wrapt>=1.11.1 in c:\\programdata\\anaconda3\\lib\\site-packages (from tensorflow==2.2.0->pkg-test-distributed-learning-contributivity==0.0.4) (1.11.2)\n",
      "Requirement already satisfied: ruamel.yaml.clib>=0.1.2; platform_python_implementation == \"CPython\" and python_version < \"3.9\" in c:\\programdata\\anaconda3\\lib\\site-packages (from ruamel.yaml==0.16.10->pkg-test-distributed-learning-contributivity==0.0.4) (0.2.0)\n",
      "Requirement already satisfied: atomicwrites>=1.0; sys_platform == \"win32\" in c:\\programdata\\anaconda3\\lib\\site-packages (from pytest==5.4.3->pkg-test-distributed-learning-contributivity==0.0.4) (1.3.0)\n",
      "Requirement already satisfied: packaging in c:\\programdata\\anaconda3\\lib\\site-packages (from pytest==5.4.3->pkg-test-distributed-learning-contributivity==0.0.4) (20.1)\n",
      "Requirement already satisfied: pluggy<1.0,>=0.12 in c:\\programdata\\anaconda3\\lib\\site-packages (from pytest==5.4.3->pkg-test-distributed-learning-contributivity==0.0.4) (0.13.1)\n",
      "Requirement already satisfied: wcwidth in c:\\programdata\\anaconda3\\lib\\site-packages (from pytest==5.4.3->pkg-test-distributed-learning-contributivity==0.0.4) (0.1.8)\n",
      "Requirement already satisfied: attrs>=17.4.0 in c:\\programdata\\anaconda3\\lib\\site-packages (from pytest==5.4.3->pkg-test-distributed-learning-contributivity==0.0.4) (19.3.0)\n",
      "Requirement already satisfied: py>=1.5.0 in c:\\programdata\\anaconda3\\lib\\site-packages (from pytest==5.4.3->pkg-test-distributed-learning-contributivity==0.0.4) (1.8.1)\n",
      "Requirement already satisfied: more-itertools>=4.0.0 in c:\\programdata\\anaconda3\\lib\\site-packages (from pytest==5.4.3->pkg-test-distributed-learning-contributivity==0.0.4) (8.2.0)\n",
      "Requirement already satisfied: importlib-metadata>=0.12; python_version < \"3.8\" in c:\\programdata\\anaconda3\\lib\\site-packages (from pytest==5.4.3->pkg-test-distributed-learning-contributivity==0.0.4) (1.5.0)\n",
      "Requirement already satisfied: setuptools in c:\\programdata\\anaconda3\\lib\\site-packages (from kiwisolver>=1.0.1->matplotlib==3.1.3->pkg-test-distributed-learning-contributivity==0.0.4) (45.2.0.post20200210)\n",
      "Requirement already satisfied: tensorboard-plugin-wit>=1.6.0 in c:\\programdata\\anaconda3\\lib\\site-packages (from tensorboard<2.3.0,>=2.2.0->tensorflow==2.2.0->pkg-test-distributed-learning-contributivity==0.0.4) (1.7.0)\n",
      "Requirement already satisfied: google-auth<2,>=1.6.3 in c:\\programdata\\anaconda3\\lib\\site-packages (from tensorboard<2.3.0,>=2.2.0->tensorflow==2.2.0->pkg-test-distributed-learning-contributivity==0.0.4) (1.18.0)\n",
      "Requirement already satisfied: werkzeug>=0.11.15 in c:\\programdata\\anaconda3\\lib\\site-packages (from tensorboard<2.3.0,>=2.2.0->tensorflow==2.2.0->pkg-test-distributed-learning-contributivity==0.0.4) (1.0.0)\n",
      "Requirement already satisfied: google-auth-oauthlib<0.5,>=0.4.1 in c:\\programdata\\anaconda3\\lib\\site-packages (from tensorboard<2.3.0,>=2.2.0->tensorflow==2.2.0->pkg-test-distributed-learning-contributivity==0.0.4) (0.4.1)\n",
      "Requirement already satisfied: requests<3,>=2.21.0 in c:\\programdata\\anaconda3\\lib\\site-packages (from tensorboard<2.3.0,>=2.2.0->tensorflow==2.2.0->pkg-test-distributed-learning-contributivity==0.0.4) (2.22.0)\n",
      "Requirement already satisfied: markdown>=2.6.8 in c:\\programdata\\anaconda3\\lib\\site-packages (from tensorboard<2.3.0,>=2.2.0->tensorflow==2.2.0->pkg-test-distributed-learning-contributivity==0.0.4) (3.2.2)\n",
      "Requirement already satisfied: zipp>=0.5 in c:\\programdata\\anaconda3\\lib\\site-packages (from importlib-metadata>=0.12; python_version < \"3.8\"->pytest==5.4.3->pkg-test-distributed-learning-contributivity==0.0.4) (2.2.0)\n",
      "Requirement already satisfied: pyasn1-modules>=0.2.1 in c:\\programdata\\anaconda3\\lib\\site-packages (from google-auth<2,>=1.6.3->tensorboard<2.3.0,>=2.2.0->tensorflow==2.2.0->pkg-test-distributed-learning-contributivity==0.0.4) (0.2.8)\n",
      "Requirement already satisfied: rsa<5,>=3.1.4; python_version >= \"3\" in c:\\programdata\\anaconda3\\lib\\site-packages (from google-auth<2,>=1.6.3->tensorboard<2.3.0,>=2.2.0->tensorflow==2.2.0->pkg-test-distributed-learning-contributivity==0.0.4) (4.6)\n",
      "Requirement already satisfied: cachetools<5.0,>=2.0.0 in c:\\programdata\\anaconda3\\lib\\site-packages (from google-auth<2,>=1.6.3->tensorboard<2.3.0,>=2.2.0->tensorflow==2.2.0->pkg-test-distributed-learning-contributivity==0.0.4) (4.1.1)\n",
      "Requirement already satisfied: requests-oauthlib>=0.7.0 in c:\\programdata\\anaconda3\\lib\\site-packages (from google-auth-oauthlib<0.5,>=0.4.1->tensorboard<2.3.0,>=2.2.0->tensorflow==2.2.0->pkg-test-distributed-learning-contributivity==0.0.4) (1.3.0)\n",
      "Requirement already satisfied: chardet<3.1.0,>=3.0.2 in c:\\programdata\\anaconda3\\lib\\site-packages (from requests<3,>=2.21.0->tensorboard<2.3.0,>=2.2.0->tensorflow==2.2.0->pkg-test-distributed-learning-contributivity==0.0.4) (3.0.4)\n",
      "Requirement already satisfied: certifi>=2017.4.17 in c:\\programdata\\anaconda3\\lib\\site-packages (from requests<3,>=2.21.0->tensorboard<2.3.0,>=2.2.0->tensorflow==2.2.0->pkg-test-distributed-learning-contributivity==0.0.4) (2019.11.28)\n",
      "Requirement already satisfied: idna<2.9,>=2.5 in c:\\programdata\\anaconda3\\lib\\site-packages (from requests<3,>=2.21.0->tensorboard<2.3.0,>=2.2.0->tensorflow==2.2.0->pkg-test-distributed-learning-contributivity==0.0.4) (2.8)\n",
      "Requirement already satisfied: urllib3!=1.25.0,!=1.25.1,<1.26,>=1.21.1 in c:\\programdata\\anaconda3\\lib\\site-packages (from requests<3,>=2.21.0->tensorboard<2.3.0,>=2.2.0->tensorflow==2.2.0->pkg-test-distributed-learning-contributivity==0.0.4) (1.25.8)\n",
      "Requirement already satisfied: pyasn1<0.5.0,>=0.4.6 in c:\\programdata\\anaconda3\\lib\\site-packages (from pyasn1-modules>=0.2.1->google-auth<2,>=1.6.3->tensorboard<2.3.0,>=2.2.0->tensorflow==2.2.0->pkg-test-distributed-learning-contributivity==0.0.4) (0.4.8)\n",
      "Requirement already satisfied: oauthlib>=3.0.0 in c:\\programdata\\anaconda3\\lib\\site-packages (from requests-oauthlib>=0.7.0->google-auth-oauthlib<0.5,>=0.4.1->tensorboard<2.3.0,>=2.2.0->tensorflow==2.2.0->pkg-test-distributed-learning-contributivity==0.0.4) (3.1.0)\n",
      "Building wheels for collected packages: pkg-test-distributed-learning-contributivity\n",
      "  Building wheel for pkg-test-distributed-learning-contributivity (setup.py): started\n",
      "  Building wheel for pkg-test-distributed-learning-contributivity (setup.py): finished with status 'done'\n",
      "  Created wheel for pkg-test-distributed-learning-contributivity: filename=pkg_test_distributed_learning_contributivity-0.0.4-py3-none-any.whl size=18116 sha256=91dbf9abfd7b30dbe59dd7b604f117e101904e08e644c8c8b766663b45450a99\n",
      "  Stored in directory: c:\\users\\aygalic\\appdata\\local\\pip\\cache\\wheels\\a9\\a2\\9b\\7290326fea0810e5658be967313f1e6b85d4a6e123e6d62d97\n",
      "Successfully built pkg-test-distributed-learning-contributivity\n"
     ]
    }
   ],
   "source": [
    "!pip install https://github.com/SubstraFoundation/distributed-learning-contributivity/archive/Package-implementation.zip"
   ]
  },
  {
   "cell_type": "code",
   "execution_count": 22,
   "metadata": {},
   "outputs": [
    {
     "ename": "ModuleNotFoundError",
     "evalue": "No module named 'pkg_test_distributed_learning_contributivity'",
     "output_type": "error",
     "traceback": [
      "\u001b[1;31m---------------------------------------------------------------------------\u001b[0m",
      "\u001b[1;31mModuleNotFoundError\u001b[0m                       Traceback (most recent call last)",
      "\u001b[1;32m<ipython-input-22-4bc4a5ebe61a>\u001b[0m in \u001b[0;36m<module>\u001b[1;34m\u001b[0m\n\u001b[1;32m----> 1\u001b[1;33m \u001b[1;32mimport\u001b[0m \u001b[0mpkg_test_distributed_learning_contributivity\u001b[0m \u001b[1;32mas\u001b[0m \u001b[0mtestcontrib\u001b[0m\u001b[1;33m\u001b[0m\u001b[1;33m\u001b[0m\u001b[0m\n\u001b[0m\u001b[0;32m      2\u001b[0m \u001b[0mhelp\u001b[0m\u001b[1;33m(\u001b[0m\u001b[0mtestcontrib\u001b[0m \u001b[1;33m)\u001b[0m\u001b[1;33m\u001b[0m\u001b[1;33m\u001b[0m\u001b[0m\n",
      "\u001b[1;31mModuleNotFoundError\u001b[0m: No module named 'pkg_test_distributed_learning_contributivity'"
     ]
    }
   ],
   "source": [
    "import pkg_test_distributed_learning_contributivity as testcontrib \n",
    "help(testcontrib )"
   ]
  },
  {
   "cell_type": "code",
   "execution_count": 16,
   "metadata": {},
   "outputs": [
    {
     "name": "stdout",
     "output_type": "stream",
     "text": [
      "Note: you may need to restart the kernel to use updated packages.\n"
     ]
    },
    {
     "name": "stderr",
     "output_type": "stream",
     "text": [
      "ERROR: Could not open requirements file: [Errno 2] No such file or directory: 'requirements.txt'\n"
     ]
    }
   ],
   "source": [
    "pip install -r requirements.txt"
   ]
  },
  {
   "cell_type": "code",
   "execution_count": 17,
   "metadata": {},
   "outputs": [
    {
     "name": "stdout",
     "output_type": "stream",
     "text": [
      "Requirement already satisfied: Keras==2.3.1 in c:\\programdata\\anaconda3\\lib\\site-packages (from -r ../../requirements.txt (line 1)) (2.3.1)\n",
      "Requirement already satisfied: matplotlib==3.1.3 in c:\\programdata\\anaconda3\\lib\\site-packages (from -r ../../requirements.txt (line 2)) (3.1.3)\n",
      "Requirement already satisfied: numpy==1.19.0 in c:\\programdata\\anaconda3\\lib\\site-packages (from -r ../../requirements.txt (line 3)) (1.19.0)\n",
      "Requirement already satisfied: scipy==1.4.1 in c:\\programdata\\anaconda3\\lib\\site-packages (from -r ../../requirements.txt (line 4)) (1.4.1)\n",
      "Requirement already satisfied: scikit-learn==0.22.1 in c:\\programdata\\anaconda3\\lib\\site-packages (from -r ../../requirements.txt (line 5)) (0.22.1)\n",
      "Requirement already satisfied: pandas==1.0.5 in c:\\programdata\\anaconda3\\lib\\site-packages (from -r ../../requirements.txt (line 6)) (1.0.5)\n",
      "Requirement already satisfied: seaborn==0.10.0 in c:\\programdata\\anaconda3\\lib\\site-packages (from -r ../../requirements.txt (line 7)) (0.10.0)\n",
      "Requirement already satisfied: loguru==0.4.1 in c:\\programdata\\anaconda3\\lib\\site-packages (from -r ../../requirements.txt (line 8)) (0.4.1)\n",
      "Requirement already satisfied: tensorflow==2.2.0 in c:\\programdata\\anaconda3\\lib\\site-packages (from -r ../../requirements.txt (line 9)) (2.2.0)\n",
      "Requirement already satisfied: ruamel.yaml==0.16.10 in c:\\programdata\\anaconda3\\lib\\site-packages (from -r ../../requirements.txt (line 10)) (0.16.10)\n",
      "Requirement already satisfied: pytest==5.4.3 in c:\\programdata\\anaconda3\\lib\\site-packages (from -r ../../requirements.txt (line 11)) (5.4.3)\n",
      "Requirement already satisfied: six>=1.9.0 in c:\\programdata\\anaconda3\\lib\\site-packages (from Keras==2.3.1->-r ../../requirements.txt (line 1)) (1.14.0)\n",
      "Requirement already satisfied: keras-preprocessing>=1.0.5 in c:\\programdata\\anaconda3\\lib\\site-packages (from Keras==2.3.1->-r ../../requirements.txt (line 1)) (1.1.2)\n",
      "Requirement already satisfied: pyyaml in c:\\programdata\\anaconda3\\lib\\site-packages (from Keras==2.3.1->-r ../../requirements.txt (line 1)) (5.3)\n",
      "Requirement already satisfied: h5py in c:\\programdata\\anaconda3\\lib\\site-packages (from Keras==2.3.1->-r ../../requirements.txt (line 1)) (2.10.0)\n",
      "Requirement already satisfied: keras-applications>=1.0.6 in c:\\programdata\\anaconda3\\lib\\site-packages (from Keras==2.3.1->-r ../../requirements.txt (line 1)) (1.0.8)\n",
      "Requirement already satisfied: python-dateutil>=2.1 in c:\\programdata\\anaconda3\\lib\\site-packages (from matplotlib==3.1.3->-r ../../requirements.txt (line 2)) (2.8.1)\n",
      "Requirement already satisfied: kiwisolver>=1.0.1 in c:\\programdata\\anaconda3\\lib\\site-packages (from matplotlib==3.1.3->-r ../../requirements.txt (line 2)) (1.1.0)\n",
      "Requirement already satisfied: pyparsing!=2.0.4,!=2.1.2,!=2.1.6,>=2.0.1 in c:\\programdata\\anaconda3\\lib\\site-packages (from matplotlib==3.1.3->-r ../../requirements.txt (line 2)) (2.4.6)\n",
      "Requirement already satisfied: cycler>=0.10 in c:\\programdata\\anaconda3\\lib\\site-packages (from matplotlib==3.1.3->-r ../../requirements.txt (line 2)) (0.10.0)\n",
      "Requirement already satisfied: joblib>=0.11 in c:\\programdata\\anaconda3\\lib\\site-packages (from scikit-learn==0.22.1->-r ../../requirements.txt (line 5)) (0.14.1)\n",
      "Requirement already satisfied: pytz>=2017.2 in c:\\programdata\\anaconda3\\lib\\site-packages (from pandas==1.0.5->-r ../../requirements.txt (line 6)) (2019.3)\n",
      "Requirement already satisfied: colorama>=0.3.4; sys_platform == \"win32\" in c:\\programdata\\anaconda3\\lib\\site-packages (from loguru==0.4.1->-r ../../requirements.txt (line 8)) (0.4.3)\n",
      "Requirement already satisfied: win32-setctime>=1.0.0; sys_platform == \"win32\" in c:\\programdata\\anaconda3\\lib\\site-packages (from loguru==0.4.1->-r ../../requirements.txt (line 8)) (1.0.1)\n",
      "Requirement already satisfied: termcolor>=1.1.0 in c:\\programdata\\anaconda3\\lib\\site-packages (from tensorflow==2.2.0->-r ../../requirements.txt (line 9)) (1.1.0)\n",
      "Requirement already satisfied: tensorboard<2.3.0,>=2.2.0 in c:\\programdata\\anaconda3\\lib\\site-packages (from tensorflow==2.2.0->-r ../../requirements.txt (line 9)) (2.2.2)\n",
      "Requirement already satisfied: astunparse==1.6.3 in c:\\programdata\\anaconda3\\lib\\site-packages (from tensorflow==2.2.0->-r ../../requirements.txt (line 9)) (1.6.3)\n",
      "Requirement already satisfied: absl-py>=0.7.0 in c:\\programdata\\anaconda3\\lib\\site-packages (from tensorflow==2.2.0->-r ../../requirements.txt (line 9)) (0.9.0)\n",
      "Requirement already satisfied: protobuf>=3.8.0 in c:\\programdata\\anaconda3\\lib\\site-packages (from tensorflow==2.2.0->-r ../../requirements.txt (line 9)) (3.12.2)\n",
      "Requirement already satisfied: wrapt>=1.11.1 in c:\\programdata\\anaconda3\\lib\\site-packages (from tensorflow==2.2.0->-r ../../requirements.txt (line 9)) (1.11.2)\n",
      "Requirement already satisfied: tensorflow-estimator<2.3.0,>=2.2.0 in c:\\programdata\\anaconda3\\lib\\site-packages (from tensorflow==2.2.0->-r ../../requirements.txt (line 9)) (2.2.0)\n",
      "Requirement already satisfied: grpcio>=1.8.6 in c:\\programdata\\anaconda3\\lib\\site-packages (from tensorflow==2.2.0->-r ../../requirements.txt (line 9)) (1.30.0)\n",
      "Requirement already satisfied: gast==0.3.3 in c:\\programdata\\anaconda3\\lib\\site-packages (from tensorflow==2.2.0->-r ../../requirements.txt (line 9)) (0.3.3)\n",
      "Requirement already satisfied: opt-einsum>=2.3.2 in c:\\programdata\\anaconda3\\lib\\site-packages (from tensorflow==2.2.0->-r ../../requirements.txt (line 9)) (3.2.1)\n",
      "Requirement already satisfied: google-pasta>=0.1.8 in c:\\programdata\\anaconda3\\lib\\site-packages (from tensorflow==2.2.0->-r ../../requirements.txt (line 9)) (0.2.0)\n",
      "Requirement already satisfied: wheel>=0.26; python_version >= \"3\" in c:\\programdata\\anaconda3\\lib\\site-packages (from tensorflow==2.2.0->-r ../../requirements.txt (line 9)) (0.34.2)\n",
      "Requirement already satisfied: ruamel.yaml.clib>=0.1.2; platform_python_implementation == \"CPython\" and python_version < \"3.9\" in c:\\programdata\\anaconda3\\lib\\site-packages (from ruamel.yaml==0.16.10->-r ../../requirements.txt (line 10)) (0.2.0)\n",
      "Requirement already satisfied: py>=1.5.0 in c:\\programdata\\anaconda3\\lib\\site-packages (from pytest==5.4.3->-r ../../requirements.txt (line 11)) (1.8.1)\n",
      "Requirement already satisfied: pluggy<1.0,>=0.12 in c:\\programdata\\anaconda3\\lib\\site-packages (from pytest==5.4.3->-r ../../requirements.txt (line 11)) (0.13.1)\n",
      "Requirement already satisfied: packaging in c:\\programdata\\anaconda3\\lib\\site-packages (from pytest==5.4.3->-r ../../requirements.txt (line 11)) (20.1)\n",
      "Requirement already satisfied: attrs>=17.4.0 in c:\\programdata\\anaconda3\\lib\\site-packages (from pytest==5.4.3->-r ../../requirements.txt (line 11)) (19.3.0)\n",
      "Requirement already satisfied: wcwidth in c:\\programdata\\anaconda3\\lib\\site-packages (from pytest==5.4.3->-r ../../requirements.txt (line 11)) (0.1.8)\n",
      "Requirement already satisfied: more-itertools>=4.0.0 in c:\\programdata\\anaconda3\\lib\\site-packages (from pytest==5.4.3->-r ../../requirements.txt (line 11)) (8.2.0)\n",
      "Requirement already satisfied: importlib-metadata>=0.12; python_version < \"3.8\" in c:\\programdata\\anaconda3\\lib\\site-packages (from pytest==5.4.3->-r ../../requirements.txt (line 11)) (1.5.0)\n",
      "Requirement already satisfied: atomicwrites>=1.0; sys_platform == \"win32\" in c:\\programdata\\anaconda3\\lib\\site-packages (from pytest==5.4.3->-r ../../requirements.txt (line 11)) (1.3.0)\n",
      "Requirement already satisfied: setuptools in c:\\programdata\\anaconda3\\lib\\site-packages (from kiwisolver>=1.0.1->matplotlib==3.1.3->-r ../../requirements.txt (line 2)) (45.2.0.post20200210)\n",
      "Requirement already satisfied: requests<3,>=2.21.0 in c:\\programdata\\anaconda3\\lib\\site-packages (from tensorboard<2.3.0,>=2.2.0->tensorflow==2.2.0->-r ../../requirements.txt (line 9)) (2.22.0)\n",
      "Requirement already satisfied: google-auth-oauthlib<0.5,>=0.4.1 in c:\\programdata\\anaconda3\\lib\\site-packages (from tensorboard<2.3.0,>=2.2.0->tensorflow==2.2.0->-r ../../requirements.txt (line 9)) (0.4.1)\n",
      "Requirement already satisfied: tensorboard-plugin-wit>=1.6.0 in c:\\programdata\\anaconda3\\lib\\site-packages (from tensorboard<2.3.0,>=2.2.0->tensorflow==2.2.0->-r ../../requirements.txt (line 9)) (1.7.0)\n",
      "Requirement already satisfied: google-auth<2,>=1.6.3 in c:\\programdata\\anaconda3\\lib\\site-packages (from tensorboard<2.3.0,>=2.2.0->tensorflow==2.2.0->-r ../../requirements.txt (line 9)) (1.18.0)\n",
      "Requirement already satisfied: werkzeug>=0.11.15 in c:\\programdata\\anaconda3\\lib\\site-packages (from tensorboard<2.3.0,>=2.2.0->tensorflow==2.2.0->-r ../../requirements.txt (line 9)) (1.0.0)\n",
      "Requirement already satisfied: markdown>=2.6.8 in c:\\programdata\\anaconda3\\lib\\site-packages (from tensorboard<2.3.0,>=2.2.0->tensorflow==2.2.0->-r ../../requirements.txt (line 9)) (3.2.2)\n",
      "Requirement already satisfied: zipp>=0.5 in c:\\programdata\\anaconda3\\lib\\site-packages (from importlib-metadata>=0.12; python_version < \"3.8\"->pytest==5.4.3->-r ../../requirements.txt (line 11)) (2.2.0)\n",
      "Requirement already satisfied: certifi>=2017.4.17 in c:\\programdata\\anaconda3\\lib\\site-packages (from requests<3,>=2.21.0->tensorboard<2.3.0,>=2.2.0->tensorflow==2.2.0->-r ../../requirements.txt (line 9)) (2019.11.28)\n",
      "Requirement already satisfied: urllib3!=1.25.0,!=1.25.1,<1.26,>=1.21.1 in c:\\programdata\\anaconda3\\lib\\site-packages (from requests<3,>=2.21.0->tensorboard<2.3.0,>=2.2.0->tensorflow==2.2.0->-r ../../requirements.txt (line 9)) (1.25.8)\n",
      "Requirement already satisfied: chardet<3.1.0,>=3.0.2 in c:\\programdata\\anaconda3\\lib\\site-packages (from requests<3,>=2.21.0->tensorboard<2.3.0,>=2.2.0->tensorflow==2.2.0->-r ../../requirements.txt (line 9)) (3.0.4)\n",
      "Requirement already satisfied: idna<2.9,>=2.5 in c:\\programdata\\anaconda3\\lib\\site-packages (from requests<3,>=2.21.0->tensorboard<2.3.0,>=2.2.0->tensorflow==2.2.0->-r ../../requirements.txt (line 9)) (2.8)\n",
      "Requirement already satisfied: requests-oauthlib>=0.7.0 in c:\\programdata\\anaconda3\\lib\\site-packages (from google-auth-oauthlib<0.5,>=0.4.1->tensorboard<2.3.0,>=2.2.0->tensorflow==2.2.0->-r ../../requirements.txt (line 9)) (1.3.0)\n",
      "Requirement already satisfied: cachetools<5.0,>=2.0.0 in c:\\programdata\\anaconda3\\lib\\site-packages (from google-auth<2,>=1.6.3->tensorboard<2.3.0,>=2.2.0->tensorflow==2.2.0->-r ../../requirements.txt (line 9)) (4.1.1)\n",
      "Requirement already satisfied: pyasn1-modules>=0.2.1 in c:\\programdata\\anaconda3\\lib\\site-packages (from google-auth<2,>=1.6.3->tensorboard<2.3.0,>=2.2.0->tensorflow==2.2.0->-r ../../requirements.txt (line 9)) (0.2.8)\n",
      "Requirement already satisfied: rsa<5,>=3.1.4; python_version >= \"3\" in c:\\programdata\\anaconda3\\lib\\site-packages (from google-auth<2,>=1.6.3->tensorboard<2.3.0,>=2.2.0->tensorflow==2.2.0->-r ../../requirements.txt (line 9)) (4.6)\n",
      "Requirement already satisfied: oauthlib>=3.0.0 in c:\\programdata\\anaconda3\\lib\\site-packages (from requests-oauthlib>=0.7.0->google-auth-oauthlib<0.5,>=0.4.1->tensorboard<2.3.0,>=2.2.0->tensorflow==2.2.0->-r ../../requirements.txt (line 9)) (3.1.0)\n",
      "Requirement already satisfied: pyasn1<0.5.0,>=0.4.6 in c:\\programdata\\anaconda3\\lib\\site-packages (from pyasn1-modules>=0.2.1->google-auth<2,>=1.6.3->tensorboard<2.3.0,>=2.2.0->tensorflow==2.2.0->-r ../../requirements.txt (line 9)) (0.4.8)\n"
     ]
    }
   ],
   "source": [
    "!pip install -r ../../requirements.txt\n"
   ]
  },
  {
   "cell_type": "markdown",
   "metadata": {},
   "source": [
    "# Create custom scenario handling mandatory parametters\n",
    "\n",
    "These parametter describe how many partners will be created and how much proportion they will have in the dataset.\n",
    "\n",
    "We can use more advanced samples split options in order to finely tune the data distribution between partners."
   ]
  },
  {
   "cell_type": "code",
   "execution_count": 2,
   "metadata": {},
   "outputs": [],
   "source": [
    "scenario_params = {\n",
    "    'partners_count': 3,\n",
    "    'amounts_per_partner': [0.2, 0.5, 0.3],\n",
    "}"
   ]
  },
  {
   "cell_type": "markdown",
   "metadata": {},
   "source": [
    "# Set values for optinal parametters\n",
    "\n",
    "We want our training to go for 10 epochs and 3 minibatches per epoch."
   ]
  },
  {
   "cell_type": "code",
   "execution_count": 3,
   "metadata": {},
   "outputs": [],
   "source": [
    "scenario_params['epoch_count'] = 10\n",
    "scenario_params['minibatch_count'] = 3"
   ]
  },
  {
   "cell_type": "markdown",
   "metadata": {},
   "source": [
    "#### Every other parametter will be set to its default value\n",
    "\n",
    "We might consider :\n",
    "\n",
    "- Datas will be split randomly between partner\n",
    "- The learning approach is 'fedavg' for federated averaging \n",
    "- Weights will be averaged uniformally, different weights can be applyed for each partner\n",
    "\n",
    "The learning approachs are built-in paramatter that can be set easly. There are currrently 4 differents approachs.\n",
    "\n",
    "\n",
    "#### More details at : https://github.com/SubstraFoundation/distributed-learning-contributivity"
   ]
  },
  {
   "cell_type": "markdown",
   "metadata": {},
   "source": [
    "# Define scenario\n",
    "\n",
    "We specify our experiment path used to output graphs and results.\n",
    "\n",
    "We can now create the scenario that will handle every parametter"
   ]
  },
  {
   "cell_type": "code",
   "execution_count": 4,
   "metadata": {},
   "outputs": [
    {
     "name": "stderr",
     "output_type": "stream",
     "text": [
      "2020-08-12 15:12:43.712 | DEBUG    | pkg.scenario:__init__:52 - Dataset selected: mnist\n",
      "2020-08-12 15:12:43.712 | DEBUG    | pkg.scenario:__init__:87 - Computation use the full dataset for scenario #1\n",
      "2020-08-12 15:12:43.769 | INFO     | pkg.scenario:__init__:279 - ### Description of data scenario configured:\n",
      "2020-08-12 15:12:43.769 | INFO     | pkg.scenario:__init__:280 -    Number of partners defined: 3\n",
      "2020-08-12 15:12:43.769 | INFO     | pkg.scenario:__init__:281 -    Data distribution scenario chosen: random\n",
      "2020-08-12 15:12:43.769 | INFO     | pkg.scenario:__init__:282 -    Multi-partner learning approach: fedavg\n",
      "2020-08-12 15:12:43.769 | INFO     | pkg.scenario:__init__:283 -    Weighting option: uniform\n",
      "2020-08-12 15:12:43.782 | INFO     | pkg.scenario:__init__:284 -    Iterations parameters: 10 epochs > 3 mini-batches > 8 gradient updates per pass\n",
      "2020-08-12 15:12:43.782 | INFO     | pkg.scenario:__init__:290 - ### Data loaded: mnist\n",
      "2020-08-12 15:12:43.783 | INFO     | pkg.scenario:__init__:291 -    48000 train data with 48000 labels\n",
      "2020-08-12 15:12:43.783 | INFO     | pkg.scenario:__init__:292 -    12000 val data with 12000 labels\n",
      "2020-08-12 15:12:43.783 | INFO     | pkg.scenario:__init__:293 -    10000 test data with 10000 labels\n"
     ]
    }
   ],
   "source": [
    "experiment_path = Path(r\"C:\\GitHub\\distributed-learning-contributivity\\experiments\\MNIST_experiment\")\n",
    "\n",
    "current_scenario = Scenario(\n",
    "        scenario_params,\n",
    "        experiment_path\n",
    "    )"
   ]
  },
  {
   "cell_type": "markdown",
   "metadata": {},
   "source": [
    "# Create Data Set\n",
    "\n",
    "For this experiment we use the well known MNIST dataset.\n",
    "\n",
    "This exemple is also avilable using the standalone app specifying in the config file : dataset_name: - 'mnist'"
   ]
  },
  {
   "cell_type": "code",
   "execution_count": 5,
   "metadata": {},
   "outputs": [],
   "source": [
    "(X_train, y_train), (X_test, y_test) = mnist.load_data()\n",
    "\n",
    "X_train = X_train.reshape(X_train.shape[0],  28, 28, 1)\n",
    "X_test = X_test.reshape(X_test.shape[0], 28, 28, 1)\n",
    "X_train = X_train.astype('float32')\n",
    "X_test = X_test.astype('float32')\n",
    "X_train /= 255\n",
    "X_test /= 255\n",
    "\n",
    "input_shape = (28, 28, 1)\n",
    "num_classes = 10"
   ]
  },
  {
   "cell_type": "markdown",
   "metadata": {},
   "source": [
    "# Create Preprocessing function"
   ]
  },
  {
   "cell_type": "code",
   "execution_count": 6,
   "metadata": {},
   "outputs": [],
   "source": [
    "def preprocess_dataset_labels(y):\n",
    "    y = np_utils.to_categorical(y, 10)\n",
    "    return y"
   ]
  },
  {
   "cell_type": "markdown",
   "metadata": {},
   "source": [
    "# Create Model"
   ]
  },
  {
   "cell_type": "code",
   "execution_count": 7,
   "metadata": {},
   "outputs": [],
   "source": [
    "def generate_new_model_for_dataset():\n",
    "    model = Sequential()\n",
    "    # add Convolutional layers\n",
    "    model.add(Conv2D(filters=32, kernel_size=(3,3), activation='relu', padding='same',\n",
    "                     input_shape=input_shape))\n",
    "    model.add(MaxPooling2D(pool_size=(2,2)))\n",
    "    model.add(Conv2D(filters=64, kernel_size=(3,3), activation='relu', padding='same'))\n",
    "    model.add(MaxPooling2D(pool_size=(2,2)))\n",
    "    model.add(Conv2D(filters=64, kernel_size=(3,3), activation='relu', padding='same'))\n",
    "    model.add(MaxPooling2D(pool_size=(2,2)))    \n",
    "    model.add(Flatten())\n",
    "    # Densely connected layers\n",
    "    model.add(Dense(128, activation='relu'))\n",
    "    # output layer\n",
    "    model.add(Dense(num_classes, activation='softmax'))\n",
    "    # compile with adam optimizer & categorical_crossentropy loss function\n",
    "    model.compile(optimizer='adam', loss='categorical_crossentropy', metrics=['accuracy'])\n",
    "    return model"
   ]
  },
  {
   "cell_type": "markdown",
   "metadata": {},
   "source": [
    "# Assignate dataset to scenario"
   ]
  },
  {
   "cell_type": "code",
   "execution_count": 8,
   "metadata": {},
   "outputs": [],
   "source": [
    "current_scenario.dataset = Dataset(\n",
    "    \"my_dataset\",\n",
    "    X_train,\n",
    "    X_test,\n",
    "    y_train,\n",
    "    y_test,\n",
    "    input_shape,\n",
    "    num_classes,\n",
    "    preprocess_dataset_labels,\n",
    "    generate_new_model_for_dataset\n",
    ")\n",
    "\n",
    "# Legacy\n",
    "current_scenario.partners_list = []"
   ]
  },
  {
   "cell_type": "markdown",
   "metadata": {},
   "source": [
    "# Split train and validation sets\n",
    "\n",
    "This is a mandatory step to provide an unbiaised evaluation of the model performance."
   ]
  },
  {
   "cell_type": "code",
   "execution_count": 9,
   "metadata": {},
   "outputs": [],
   "source": [
    "current_scenario.dataset.train_val_split()"
   ]
  },
  {
   "cell_type": "markdown",
   "metadata": {},
   "source": [
    "# Run scenario\n",
    "\n",
    "The actual training phase of our federated learning exemple ! "
   ]
  },
  {
   "cell_type": "code",
   "execution_count": 11,
   "metadata": {},
   "outputs": [
    {
     "name": "stderr",
     "output_type": "stream",
     "text": [
      "2020-08-12 15:12:44.401 | INFO     | pkg.scenario:split_data:534 - ### Splitting data among partners:\n",
      "2020-08-12 15:12:44.402 | INFO     | pkg.scenario:split_data:535 -    Simple split performed.\n",
      "2020-08-12 15:12:44.402 | INFO     | pkg.scenario:split_data:536 -    Nb of samples split amongst partners: 38880\n",
      "2020-08-12 15:12:44.402 | INFO     | pkg.scenario:split_data:538 -    Partner #0: 7776 samples with labels [0, 1, 2, 3, 4, 5, 6, 7, 8, 9]\n",
      "2020-08-12 15:12:44.403 | INFO     | pkg.scenario:split_data:538 -    Partner #1: 19440 samples with labels [0, 1, 2, 3, 4, 5, 6, 7, 8, 9]\n",
      "2020-08-12 15:12:44.403 | INFO     | pkg.scenario:split_data:538 -    Partner #2: 11664 samples with labels [0, 1, 2, 3, 4, 5, 6, 7, 8, 9]\n",
      "2020-08-12 15:12:44.547 | DEBUG    | pkg.scenario:compute_batch_sizes:582 -    Compute batch sizes, partner #0: 324\n",
      "2020-08-12 15:12:44.548 | DEBUG    | pkg.scenario:compute_batch_sizes:582 -    Compute batch sizes, partner #1: 810\n",
      "2020-08-12 15:12:44.549 | DEBUG    | pkg.scenario:compute_batch_sizes:582 -    Compute batch sizes, partner #2: 486\n",
      "2020-08-12 15:12:44.549 | DEBUG    | pkg.scenario:preprocess_scenarios_data:587 - ## Pre-processing datasets of the scenario for keras CNN:\n",
      "2020-08-12 15:12:44.550 | DEBUG    | pkg.scenario:preprocess_scenarios_data:591 -    Central early stopping validation set: done.\n",
      "2020-08-12 15:12:44.551 | DEBUG    | pkg.scenario:preprocess_scenarios_data:593 -    Central testset: done.\n",
      "2020-08-12 15:12:44.552 | DEBUG    | pkg.scenario:preprocess_scenarios_data:615 -    Partner #0: done.\n",
      "2020-08-12 15:12:44.553 | DEBUG    | pkg.scenario:preprocess_scenarios_data:615 -    Partner #1: done.\n",
      "2020-08-12 15:12:44.554 | DEBUG    | pkg.scenario:preprocess_scenarios_data:615 -    Partner #2: done.\n",
      "2020-08-12 15:12:44.554 | DEBUG    | pkg.multi_partner_learning:__init__:69 - MultiPartnerLearning object instantiated.\n",
      "2020-08-12 15:12:44.555 | INFO     | pkg.multi_partner_learning:compute_test_score:135 - ## Training and evaluating model on partners with ids: ['#0', '#1', '#2']\n",
      "2020-08-12 15:12:44.603 | DEBUG    | pkg.multi_partner_learning:compute_collaborative_round_fedavg:259 - Start new fedavg collaborative round ...\n",
      "2020-08-12 15:12:44.603 | DEBUG    | pkg.multi_partner_learning:compute_collaborative_round_fedavg:268 - (fedavg) Very first minibatch of epoch n°0, init new models for each partner\n",
      "2020-08-12 15:12:50.036 | DEBUG    | pkg.multi_partner_learning:log_collaborative_round_partner_result:513 - Epoch 00/09 > Minibatch 00/02 > Partner id #0 (0/2) > val_acc: 0.59\n",
      "2020-08-12 15:12:51.232 | DEBUG    | pkg.multi_partner_learning:log_collaborative_round_partner_result:513 - Epoch 00/09 > Minibatch 00/02 > Partner id #1 (1/2) > val_acc: 0.54\n",
      "2020-08-12 15:12:52.261 | DEBUG    | pkg.multi_partner_learning:log_collaborative_round_partner_result:513 - Epoch 00/09 > Minibatch 00/02 > Partner id #2 (2/2) > val_acc: 0.49\n",
      "2020-08-12 15:12:52.264 | DEBUG    | pkg.multi_partner_learning:compute_collaborative_round_fedavg:303 - End of fedavg collaborative round.\n",
      "2020-08-12 15:12:52.264 | DEBUG    | pkg.multi_partner_learning:compute_collaborative_round_fedavg:259 - Start new fedavg collaborative round ...\n",
      "2020-08-12 15:12:52.265 | DEBUG    | pkg.multi_partner_learning:compute_collaborative_round_fedavg:271 - (fedavg) Minibatch n°1 of epoch n°0, init aggregated model for each partner with models from previous round\n",
      "2020-08-12 15:12:53.339 | DEBUG    | pkg.multi_partner_learning:log_collaborative_round_partner_result:513 - Epoch 00/09 > Minibatch 01/02 > Partner id #0 (0/2) > val_acc: 0.73\n",
      "2020-08-12 15:12:54.063 | DEBUG    | pkg.multi_partner_learning:log_collaborative_round_partner_result:513 - Epoch 00/09 > Minibatch 01/02 > Partner id #1 (1/2) > val_acc: 0.74\n",
      "2020-08-12 15:12:54.760 | DEBUG    | pkg.multi_partner_learning:log_collaborative_round_partner_result:513 - Epoch 00/09 > Minibatch 01/02 > Partner id #2 (2/2) > val_acc: 0.74\n",
      "2020-08-12 15:12:54.763 | DEBUG    | pkg.multi_partner_learning:compute_collaborative_round_fedavg:303 - End of fedavg collaborative round.\n",
      "2020-08-12 15:12:54.763 | DEBUG    | pkg.multi_partner_learning:compute_collaborative_round_fedavg:259 - Start new fedavg collaborative round ...\n",
      "2020-08-12 15:12:54.764 | DEBUG    | pkg.multi_partner_learning:compute_collaborative_round_fedavg:271 - (fedavg) Minibatch n°2 of epoch n°0, init aggregated model for each partner with models from previous round\n",
      "2020-08-12 15:12:55.887 | DEBUG    | pkg.multi_partner_learning:log_collaborative_round_partner_result:513 - Epoch 00/09 > Minibatch 02/02 > Partner id #0 (0/2) > val_acc: 0.76\n",
      "2020-08-12 15:12:56.604 | DEBUG    | pkg.multi_partner_learning:log_collaborative_round_partner_result:513 - Epoch 00/09 > Minibatch 02/02 > Partner id #1 (1/2) > val_acc: 0.78\n",
      "2020-08-12 15:12:57.307 | DEBUG    | pkg.multi_partner_learning:log_collaborative_round_partner_result:513 - Epoch 00/09 > Minibatch 02/02 > Partner id #2 (2/2) > val_acc: 0.79\n",
      "2020-08-12 15:12:57.310 | DEBUG    | pkg.multi_partner_learning:compute_collaborative_round_fedavg:303 - End of fedavg collaborative round.\n",
      "2020-08-12 15:12:57.589 | INFO     | pkg.multi_partner_learning:compute_test_score:184 -    Model evaluation at the end of the epoch: ['0.714', '0.801']\n",
      "2020-08-12 15:12:57.590 | DEBUG    | pkg.multi_partner_learning:compute_test_score:187 -       Checking if early stopping criteria are met:\n",
      "2020-08-12 15:12:57.591 | DEBUG    | pkg.multi_partner_learning:compute_test_score:197 -          -> Early stopping criteria are not met, continuing with training.\n",
      "2020-08-12 15:12:57.648 | DEBUG    | pkg.multi_partner_learning:compute_collaborative_round_fedavg:259 - Start new fedavg collaborative round ...\n",
      "2020-08-12 15:12:57.649 | DEBUG    | pkg.multi_partner_learning:compute_collaborative_round_fedavg:271 - (fedavg) Minibatch n°0 of epoch n°1, init aggregated model for each partner with models from previous round\n",
      "2020-08-12 15:12:58.681 | DEBUG    | pkg.multi_partner_learning:log_collaborative_round_partner_result:513 - Epoch 01/09 > Minibatch 00/02 > Partner id #0 (0/2) > val_acc: 0.84\n",
      "2020-08-12 15:12:59.436 | DEBUG    | pkg.multi_partner_learning:log_collaborative_round_partner_result:513 - Epoch 01/09 > Minibatch 00/02 > Partner id #1 (1/2) > val_acc: 0.75\n",
      "2020-08-12 15:13:00.121 | DEBUG    | pkg.multi_partner_learning:log_collaborative_round_partner_result:513 - Epoch 01/09 > Minibatch 00/02 > Partner id #2 (2/2) > val_acc: 0.82\n",
      "2020-08-12 15:13:00.134 | DEBUG    | pkg.multi_partner_learning:compute_collaborative_round_fedavg:303 - End of fedavg collaborative round.\n",
      "2020-08-12 15:13:00.134 | DEBUG    | pkg.multi_partner_learning:compute_collaborative_round_fedavg:259 - Start new fedavg collaborative round ...\n",
      "2020-08-12 15:13:00.135 | DEBUG    | pkg.multi_partner_learning:compute_collaborative_round_fedavg:271 - (fedavg) Minibatch n°1 of epoch n°1, init aggregated model for each partner with models from previous round\n",
      "2020-08-12 15:13:01.254 | DEBUG    | pkg.multi_partner_learning:log_collaborative_round_partner_result:513 - Epoch 01/09 > Minibatch 01/02 > Partner id #0 (0/2) > val_acc: 0.85\n",
      "2020-08-12 15:13:01.964 | DEBUG    | pkg.multi_partner_learning:log_collaborative_round_partner_result:513 - Epoch 01/09 > Minibatch 01/02 > Partner id #1 (1/2) > val_acc: 0.87\n",
      "2020-08-12 15:13:02.654 | DEBUG    | pkg.multi_partner_learning:log_collaborative_round_partner_result:513 - Epoch 01/09 > Minibatch 01/02 > Partner id #2 (2/2) > val_acc: 0.86\n",
      "2020-08-12 15:13:02.668 | DEBUG    | pkg.multi_partner_learning:compute_collaborative_round_fedavg:303 - End of fedavg collaborative round.\n",
      "2020-08-12 15:13:02.668 | DEBUG    | pkg.multi_partner_learning:compute_collaborative_round_fedavg:259 - Start new fedavg collaborative round ...\n",
      "2020-08-12 15:13:02.669 | DEBUG    | pkg.multi_partner_learning:compute_collaborative_round_fedavg:271 - (fedavg) Minibatch n°2 of epoch n°1, init aggregated model for each partner with models from previous round\n",
      "2020-08-12 15:13:03.667 | DEBUG    | pkg.multi_partner_learning:log_collaborative_round_partner_result:513 - Epoch 01/09 > Minibatch 02/02 > Partner id #0 (0/2) > val_acc: 0.87\n",
      "2020-08-12 15:13:04.393 | DEBUG    | pkg.multi_partner_learning:log_collaborative_round_partner_result:513 - Epoch 01/09 > Minibatch 02/02 > Partner id #1 (1/2) > val_acc: 0.85\n"
     ]
    },
    {
     "name": "stderr",
     "output_type": "stream",
     "text": [
      "2020-08-12 15:13:05.074 | DEBUG    | pkg.multi_partner_learning:log_collaborative_round_partner_result:513 - Epoch 01/09 > Minibatch 02/02 > Partner id #2 (2/2) > val_acc: 0.88\n",
      "2020-08-12 15:13:05.089 | DEBUG    | pkg.multi_partner_learning:compute_collaborative_round_fedavg:303 - End of fedavg collaborative round.\n",
      "2020-08-12 15:13:05.350 | INFO     | pkg.multi_partner_learning:compute_test_score:184 -    Model evaluation at the end of the epoch: ['0.368', '0.896']\n",
      "2020-08-12 15:13:05.350 | DEBUG    | pkg.multi_partner_learning:compute_test_score:187 -       Checking if early stopping criteria are met:\n",
      "2020-08-12 15:13:05.350 | DEBUG    | pkg.multi_partner_learning:compute_test_score:197 -          -> Early stopping criteria are not met, continuing with training.\n",
      "2020-08-12 15:13:05.409 | DEBUG    | pkg.multi_partner_learning:compute_collaborative_round_fedavg:259 - Start new fedavg collaborative round ...\n",
      "2020-08-12 15:13:05.409 | DEBUG    | pkg.multi_partner_learning:compute_collaborative_round_fedavg:271 - (fedavg) Minibatch n°0 of epoch n°2, init aggregated model for each partner with models from previous round\n",
      "2020-08-12 15:13:06.590 | DEBUG    | pkg.multi_partner_learning:log_collaborative_round_partner_result:513 - Epoch 02/09 > Minibatch 00/02 > Partner id #0 (0/2) > val_acc: 0.9\n",
      "2020-08-12 15:13:07.319 | DEBUG    | pkg.multi_partner_learning:log_collaborative_round_partner_result:513 - Epoch 02/09 > Minibatch 00/02 > Partner id #1 (1/2) > val_acc: 0.89\n",
      "2020-08-12 15:13:07.995 | DEBUG    | pkg.multi_partner_learning:log_collaborative_round_partner_result:513 - Epoch 02/09 > Minibatch 00/02 > Partner id #2 (2/2) > val_acc: 0.9\n",
      "2020-08-12 15:13:08.013 | DEBUG    | pkg.multi_partner_learning:compute_collaborative_round_fedavg:303 - End of fedavg collaborative round.\n",
      "2020-08-12 15:13:08.013 | DEBUG    | pkg.multi_partner_learning:compute_collaborative_round_fedavg:259 - Start new fedavg collaborative round ...\n",
      "2020-08-12 15:13:08.014 | DEBUG    | pkg.multi_partner_learning:compute_collaborative_round_fedavg:271 - (fedavg) Minibatch n°1 of epoch n°2, init aggregated model for each partner with models from previous round\n",
      "2020-08-12 15:13:09.011 | DEBUG    | pkg.multi_partner_learning:log_collaborative_round_partner_result:513 - Epoch 02/09 > Minibatch 01/02 > Partner id #0 (0/2) > val_acc: 0.9\n",
      "2020-08-12 15:13:09.739 | DEBUG    | pkg.multi_partner_learning:log_collaborative_round_partner_result:513 - Epoch 02/09 > Minibatch 01/02 > Partner id #1 (1/2) > val_acc: 0.9\n",
      "2020-08-12 15:13:10.433 | DEBUG    | pkg.multi_partner_learning:log_collaborative_round_partner_result:513 - Epoch 02/09 > Minibatch 01/02 > Partner id #2 (2/2) > val_acc: 0.92\n",
      "2020-08-12 15:13:10.436 | DEBUG    | pkg.multi_partner_learning:compute_collaborative_round_fedavg:303 - End of fedavg collaborative round.\n",
      "2020-08-12 15:13:10.436 | DEBUG    | pkg.multi_partner_learning:compute_collaborative_round_fedavg:259 - Start new fedavg collaborative round ...\n",
      "2020-08-12 15:13:10.437 | DEBUG    | pkg.multi_partner_learning:compute_collaborative_round_fedavg:271 - (fedavg) Minibatch n°2 of epoch n°2, init aggregated model for each partner with models from previous round\n",
      "2020-08-12 15:13:11.430 | DEBUG    | pkg.multi_partner_learning:log_collaborative_round_partner_result:513 - Epoch 02/09 > Minibatch 02/02 > Partner id #0 (0/2) > val_acc: 0.91\n",
      "2020-08-12 15:13:12.286 | DEBUG    | pkg.multi_partner_learning:log_collaborative_round_partner_result:513 - Epoch 02/09 > Minibatch 02/02 > Partner id #1 (1/2) > val_acc: 0.91\n",
      "2020-08-12 15:13:12.980 | DEBUG    | pkg.multi_partner_learning:log_collaborative_round_partner_result:513 - Epoch 02/09 > Minibatch 02/02 > Partner id #2 (2/2) > val_acc: 0.9\n",
      "2020-08-12 15:13:12.984 | DEBUG    | pkg.multi_partner_learning:compute_collaborative_round_fedavg:303 - End of fedavg collaborative round.\n",
      "2020-08-12 15:13:13.246 | INFO     | pkg.multi_partner_learning:compute_test_score:184 -    Model evaluation at the end of the epoch: ['0.288', '0.916']\n",
      "2020-08-12 15:13:13.246 | DEBUG    | pkg.multi_partner_learning:compute_test_score:187 -       Checking if early stopping criteria are met:\n",
      "2020-08-12 15:13:13.246 | DEBUG    | pkg.multi_partner_learning:compute_test_score:197 -          -> Early stopping criteria are not met, continuing with training.\n",
      "2020-08-12 15:13:13.316 | DEBUG    | pkg.multi_partner_learning:compute_collaborative_round_fedavg:259 - Start new fedavg collaborative round ...\n",
      "2020-08-12 15:13:13.317 | DEBUG    | pkg.multi_partner_learning:compute_collaborative_round_fedavg:271 - (fedavg) Minibatch n°0 of epoch n°3, init aggregated model for each partner with models from previous round\n",
      "2020-08-12 15:13:14.298 | DEBUG    | pkg.multi_partner_learning:log_collaborative_round_partner_result:513 - Epoch 03/09 > Minibatch 00/02 > Partner id #0 (0/2) > val_acc: 0.94\n",
      "2020-08-12 15:13:15.027 | DEBUG    | pkg.multi_partner_learning:log_collaborative_round_partner_result:513 - Epoch 03/09 > Minibatch 00/02 > Partner id #1 (1/2) > val_acc: 0.94\n",
      "2020-08-12 15:13:15.716 | DEBUG    | pkg.multi_partner_learning:log_collaborative_round_partner_result:513 - Epoch 03/09 > Minibatch 00/02 > Partner id #2 (2/2) > val_acc: 0.92\n",
      "2020-08-12 15:13:15.725 | DEBUG    | pkg.multi_partner_learning:compute_collaborative_round_fedavg:303 - End of fedavg collaborative round.\n",
      "2020-08-12 15:13:15.727 | DEBUG    | pkg.multi_partner_learning:compute_collaborative_round_fedavg:259 - Start new fedavg collaborative round ...\n",
      "2020-08-12 15:13:15.727 | DEBUG    | pkg.multi_partner_learning:compute_collaborative_round_fedavg:271 - (fedavg) Minibatch n°1 of epoch n°3, init aggregated model for each partner with models from previous round\n",
      "2020-08-12 15:13:16.729 | DEBUG    | pkg.multi_partner_learning:log_collaborative_round_partner_result:513 - Epoch 03/09 > Minibatch 01/02 > Partner id #0 (0/2) > val_acc: 0.91\n",
      "2020-08-12 15:13:17.486 | DEBUG    | pkg.multi_partner_learning:log_collaborative_round_partner_result:513 - Epoch 03/09 > Minibatch 01/02 > Partner id #1 (1/2) > val_acc: 0.94\n",
      "2020-08-12 15:13:18.353 | DEBUG    | pkg.multi_partner_learning:log_collaborative_round_partner_result:513 - Epoch 03/09 > Minibatch 01/02 > Partner id #2 (2/2) > val_acc: 0.93\n",
      "2020-08-12 15:13:18.357 | DEBUG    | pkg.multi_partner_learning:compute_collaborative_round_fedavg:303 - End of fedavg collaborative round.\n",
      "2020-08-12 15:13:18.357 | DEBUG    | pkg.multi_partner_learning:compute_collaborative_round_fedavg:259 - Start new fedavg collaborative round ...\n",
      "2020-08-12 15:13:18.358 | DEBUG    | pkg.multi_partner_learning:compute_collaborative_round_fedavg:271 - (fedavg) Minibatch n°2 of epoch n°3, init aggregated model for each partner with models from previous round\n",
      "2020-08-12 15:13:19.375 | DEBUG    | pkg.multi_partner_learning:log_collaborative_round_partner_result:513 - Epoch 03/09 > Minibatch 02/02 > Partner id #0 (0/2) > val_acc: 0.93\n",
      "2020-08-12 15:13:20.120 | DEBUG    | pkg.multi_partner_learning:log_collaborative_round_partner_result:513 - Epoch 03/09 > Minibatch 02/02 > Partner id #1 (1/2) > val_acc: 0.94\n",
      "2020-08-12 15:13:20.806 | DEBUG    | pkg.multi_partner_learning:log_collaborative_round_partner_result:513 - Epoch 03/09 > Minibatch 02/02 > Partner id #2 (2/2) > val_acc: 0.94\n",
      "2020-08-12 15:13:20.815 | DEBUG    | pkg.multi_partner_learning:compute_collaborative_round_fedavg:303 - End of fedavg collaborative round.\n",
      "2020-08-12 15:13:21.095 | INFO     | pkg.multi_partner_learning:compute_test_score:184 -    Model evaluation at the end of the epoch: ['0.185', '0.944']\n",
      "2020-08-12 15:13:21.096 | DEBUG    | pkg.multi_partner_learning:compute_test_score:187 -       Checking if early stopping criteria are met:\n",
      "2020-08-12 15:13:21.096 | DEBUG    | pkg.multi_partner_learning:compute_test_score:197 -          -> Early stopping criteria are not met, continuing with training.\n",
      "2020-08-12 15:13:21.153 | DEBUG    | pkg.multi_partner_learning:compute_collaborative_round_fedavg:259 - Start new fedavg collaborative round ...\n",
      "2020-08-12 15:13:21.154 | DEBUG    | pkg.multi_partner_learning:compute_collaborative_round_fedavg:271 - (fedavg) Minibatch n°0 of epoch n°4, init aggregated model for each partner with models from previous round\n"
     ]
    },
    {
     "name": "stderr",
     "output_type": "stream",
     "text": [
      "2020-08-12 15:13:22.152 | DEBUG    | pkg.multi_partner_learning:log_collaborative_round_partner_result:513 - Epoch 04/09 > Minibatch 00/02 > Partner id #0 (0/2) > val_acc: 0.95\n",
      "2020-08-12 15:13:22.900 | DEBUG    | pkg.multi_partner_learning:log_collaborative_round_partner_result:513 - Epoch 04/09 > Minibatch 00/02 > Partner id #1 (1/2) > val_acc: 0.94\n",
      "2020-08-12 15:13:23.594 | DEBUG    | pkg.multi_partner_learning:log_collaborative_round_partner_result:513 - Epoch 04/09 > Minibatch 00/02 > Partner id #2 (2/2) > val_acc: 0.95\n",
      "2020-08-12 15:13:23.597 | DEBUG    | pkg.multi_partner_learning:compute_collaborative_round_fedavg:303 - End of fedavg collaborative round.\n",
      "2020-08-12 15:13:23.598 | DEBUG    | pkg.multi_partner_learning:compute_collaborative_round_fedavg:259 - Start new fedavg collaborative round ...\n",
      "2020-08-12 15:13:23.598 | DEBUG    | pkg.multi_partner_learning:compute_collaborative_round_fedavg:271 - (fedavg) Minibatch n°1 of epoch n°4, init aggregated model for each partner with models from previous round\n",
      "2020-08-12 15:13:24.590 | DEBUG    | pkg.multi_partner_learning:log_collaborative_round_partner_result:513 - Epoch 04/09 > Minibatch 01/02 > Partner id #0 (0/2) > val_acc: 0.94\n",
      "2020-08-12 15:13:25.551 | DEBUG    | pkg.multi_partner_learning:log_collaborative_round_partner_result:513 - Epoch 04/09 > Minibatch 01/02 > Partner id #1 (1/2) > val_acc: 0.95\n",
      "2020-08-12 15:13:26.248 | DEBUG    | pkg.multi_partner_learning:log_collaborative_round_partner_result:513 - Epoch 04/09 > Minibatch 01/02 > Partner id #2 (2/2) > val_acc: 0.95\n",
      "2020-08-12 15:13:26.251 | DEBUG    | pkg.multi_partner_learning:compute_collaborative_round_fedavg:303 - End of fedavg collaborative round.\n",
      "2020-08-12 15:13:26.251 | DEBUG    | pkg.multi_partner_learning:compute_collaborative_round_fedavg:259 - Start new fedavg collaborative round ...\n",
      "2020-08-12 15:13:26.252 | DEBUG    | pkg.multi_partner_learning:compute_collaborative_round_fedavg:271 - (fedavg) Minibatch n°2 of epoch n°4, init aggregated model for each partner with models from previous round\n",
      "2020-08-12 15:13:27.262 | DEBUG    | pkg.multi_partner_learning:log_collaborative_round_partner_result:513 - Epoch 04/09 > Minibatch 02/02 > Partner id #0 (0/2) > val_acc: 0.95\n",
      "2020-08-12 15:13:27.990 | DEBUG    | pkg.multi_partner_learning:log_collaborative_round_partner_result:513 - Epoch 04/09 > Minibatch 02/02 > Partner id #1 (1/2) > val_acc: 0.95\n",
      "2020-08-12 15:13:28.686 | DEBUG    | pkg.multi_partner_learning:log_collaborative_round_partner_result:513 - Epoch 04/09 > Minibatch 02/02 > Partner id #2 (2/2) > val_acc: 0.96\n",
      "2020-08-12 15:13:28.689 | DEBUG    | pkg.multi_partner_learning:compute_collaborative_round_fedavg:303 - End of fedavg collaborative round.\n",
      "2020-08-12 15:13:28.965 | INFO     | pkg.multi_partner_learning:compute_test_score:184 -    Model evaluation at the end of the epoch: ['0.148', '0.956']\n",
      "2020-08-12 15:13:28.965 | DEBUG    | pkg.multi_partner_learning:compute_test_score:187 -       Checking if early stopping criteria are met:\n",
      "2020-08-12 15:13:28.965 | DEBUG    | pkg.multi_partner_learning:compute_test_score:197 -          -> Early stopping criteria are not met, continuing with training.\n",
      "2020-08-12 15:13:29.013 | DEBUG    | pkg.multi_partner_learning:compute_collaborative_round_fedavg:259 - Start new fedavg collaborative round ...\n",
      "2020-08-12 15:13:29.013 | DEBUG    | pkg.multi_partner_learning:compute_collaborative_round_fedavg:271 - (fedavg) Minibatch n°0 of epoch n°5, init aggregated model for each partner with models from previous round\n",
      "2020-08-12 15:13:30.019 | DEBUG    | pkg.multi_partner_learning:log_collaborative_round_partner_result:513 - Epoch 05/09 > Minibatch 00/02 > Partner id #0 (0/2) > val_acc: 0.96\n",
      "2020-08-12 15:13:30.757 | DEBUG    | pkg.multi_partner_learning:log_collaborative_round_partner_result:513 - Epoch 05/09 > Minibatch 00/02 > Partner id #1 (1/2) > val_acc: 0.95\n",
      "2020-08-12 15:13:31.623 | DEBUG    | pkg.multi_partner_learning:log_collaborative_round_partner_result:513 - Epoch 05/09 > Minibatch 00/02 > Partner id #2 (2/2) > val_acc: 0.96\n",
      "2020-08-12 15:13:31.626 | DEBUG    | pkg.multi_partner_learning:compute_collaborative_round_fedavg:303 - End of fedavg collaborative round.\n",
      "2020-08-12 15:13:31.627 | DEBUG    | pkg.multi_partner_learning:compute_collaborative_round_fedavg:259 - Start new fedavg collaborative round ...\n",
      "2020-08-12 15:13:31.627 | DEBUG    | pkg.multi_partner_learning:compute_collaborative_round_fedavg:271 - (fedavg) Minibatch n°1 of epoch n°5, init aggregated model for each partner with models from previous round\n",
      "2020-08-12 15:13:32.636 | DEBUG    | pkg.multi_partner_learning:log_collaborative_round_partner_result:513 - Epoch 05/09 > Minibatch 01/02 > Partner id #0 (0/2) > val_acc: 0.95\n",
      "2020-08-12 15:13:33.380 | DEBUG    | pkg.multi_partner_learning:log_collaborative_round_partner_result:513 - Epoch 05/09 > Minibatch 01/02 > Partner id #1 (1/2) > val_acc: 0.96\n",
      "2020-08-12 15:13:34.073 | DEBUG    | pkg.multi_partner_learning:log_collaborative_round_partner_result:513 - Epoch 05/09 > Minibatch 01/02 > Partner id #2 (2/2) > val_acc: 0.96\n",
      "2020-08-12 15:13:34.082 | DEBUG    | pkg.multi_partner_learning:compute_collaborative_round_fedavg:303 - End of fedavg collaborative round.\n",
      "2020-08-12 15:13:34.083 | DEBUG    | pkg.multi_partner_learning:compute_collaborative_round_fedavg:259 - Start new fedavg collaborative round ...\n",
      "2020-08-12 15:13:34.083 | DEBUG    | pkg.multi_partner_learning:compute_collaborative_round_fedavg:271 - (fedavg) Minibatch n°2 of epoch n°5, init aggregated model for each partner with models from previous round\n",
      "2020-08-12 15:13:35.085 | DEBUG    | pkg.multi_partner_learning:log_collaborative_round_partner_result:513 - Epoch 05/09 > Minibatch 02/02 > Partner id #0 (0/2) > val_acc: 0.97\n",
      "2020-08-12 15:13:35.808 | DEBUG    | pkg.multi_partner_learning:log_collaborative_round_partner_result:513 - Epoch 05/09 > Minibatch 02/02 > Partner id #1 (1/2) > val_acc: 0.97\n",
      "2020-08-12 15:13:36.505 | DEBUG    | pkg.multi_partner_learning:log_collaborative_round_partner_result:513 - Epoch 05/09 > Minibatch 02/02 > Partner id #2 (2/2) > val_acc: 0.95\n",
      "2020-08-12 15:13:36.509 | DEBUG    | pkg.multi_partner_learning:compute_collaborative_round_fedavg:303 - End of fedavg collaborative round.\n",
      "2020-08-12 15:13:36.787 | INFO     | pkg.multi_partner_learning:compute_test_score:184 -    Model evaluation at the end of the epoch: ['0.111', '0.967']\n",
      "2020-08-12 15:13:36.787 | DEBUG    | pkg.multi_partner_learning:compute_test_score:187 -       Checking if early stopping criteria are met:\n",
      "2020-08-12 15:13:36.787 | DEBUG    | pkg.multi_partner_learning:compute_test_score:197 -          -> Early stopping criteria are not met, continuing with training.\n",
      "2020-08-12 15:13:36.844 | DEBUG    | pkg.multi_partner_learning:compute_collaborative_round_fedavg:259 - Start new fedavg collaborative round ...\n",
      "2020-08-12 15:13:36.845 | DEBUG    | pkg.multi_partner_learning:compute_collaborative_round_fedavg:271 - (fedavg) Minibatch n°0 of epoch n°6, init aggregated model for each partner with models from previous round\n",
      "2020-08-12 15:13:38.052 | DEBUG    | pkg.multi_partner_learning:log_collaborative_round_partner_result:513 - Epoch 06/09 > Minibatch 00/02 > Partner id #0 (0/2) > val_acc: 0.96\n",
      "2020-08-12 15:13:38.789 | DEBUG    | pkg.multi_partner_learning:log_collaborative_round_partner_result:513 - Epoch 06/09 > Minibatch 00/02 > Partner id #1 (1/2) > val_acc: 0.97\n",
      "2020-08-12 15:13:39.485 | DEBUG    | pkg.multi_partner_learning:log_collaborative_round_partner_result:513 - Epoch 06/09 > Minibatch 00/02 > Partner id #2 (2/2) > val_acc: 0.97\n",
      "2020-08-12 15:13:39.488 | DEBUG    | pkg.multi_partner_learning:compute_collaborative_round_fedavg:303 - End of fedavg collaborative round.\n",
      "2020-08-12 15:13:39.488 | DEBUG    | pkg.multi_partner_learning:compute_collaborative_round_fedavg:259 - Start new fedavg collaborative round ...\n",
      "2020-08-12 15:13:39.489 | DEBUG    | pkg.multi_partner_learning:compute_collaborative_round_fedavg:271 - (fedavg) Minibatch n°1 of epoch n°6, init aggregated model for each partner with models from previous round\n",
      "2020-08-12 15:13:40.498 | DEBUG    | pkg.multi_partner_learning:log_collaborative_round_partner_result:513 - Epoch 06/09 > Minibatch 01/02 > Partner id #0 (0/2) > val_acc: 0.97\n"
     ]
    },
    {
     "name": "stderr",
     "output_type": "stream",
     "text": [
      "2020-08-12 15:13:41.250 | DEBUG    | pkg.multi_partner_learning:log_collaborative_round_partner_result:513 - Epoch 06/09 > Minibatch 01/02 > Partner id #1 (1/2) > val_acc: 0.97\n",
      "2020-08-12 15:13:41.990 | DEBUG    | pkg.multi_partner_learning:log_collaborative_round_partner_result:513 - Epoch 06/09 > Minibatch 01/02 > Partner id #2 (2/2) > val_acc: 0.97\n",
      "2020-08-12 15:13:41.993 | DEBUG    | pkg.multi_partner_learning:compute_collaborative_round_fedavg:303 - End of fedavg collaborative round.\n",
      "2020-08-12 15:13:41.994 | DEBUG    | pkg.multi_partner_learning:compute_collaborative_round_fedavg:259 - Start new fedavg collaborative round ...\n",
      "2020-08-12 15:13:41.994 | DEBUG    | pkg.multi_partner_learning:compute_collaborative_round_fedavg:271 - (fedavg) Minibatch n°2 of epoch n°6, init aggregated model for each partner with models from previous round\n",
      "2020-08-12 15:13:43.201 | DEBUG    | pkg.multi_partner_learning:log_collaborative_round_partner_result:513 - Epoch 06/09 > Minibatch 02/02 > Partner id #0 (0/2) > val_acc: 0.97\n",
      "2020-08-12 15:13:43.984 | DEBUG    | pkg.multi_partner_learning:log_collaborative_round_partner_result:513 - Epoch 06/09 > Minibatch 02/02 > Partner id #1 (1/2) > val_acc: 0.97\n",
      "2020-08-12 15:13:44.757 | DEBUG    | pkg.multi_partner_learning:log_collaborative_round_partner_result:513 - Epoch 06/09 > Minibatch 02/02 > Partner id #2 (2/2) > val_acc: 0.97\n",
      "2020-08-12 15:13:44.760 | DEBUG    | pkg.multi_partner_learning:compute_collaborative_round_fedavg:303 - End of fedavg collaborative round.\n",
      "2020-08-12 15:13:45.075 | INFO     | pkg.multi_partner_learning:compute_test_score:184 -    Model evaluation at the end of the epoch: ['0.096', '0.973']\n",
      "2020-08-12 15:13:45.076 | DEBUG    | pkg.multi_partner_learning:compute_test_score:187 -       Checking if early stopping criteria are met:\n",
      "2020-08-12 15:13:45.076 | DEBUG    | pkg.multi_partner_learning:compute_test_score:197 -          -> Early stopping criteria are not met, continuing with training.\n",
      "2020-08-12 15:13:45.135 | DEBUG    | pkg.multi_partner_learning:compute_collaborative_round_fedavg:259 - Start new fedavg collaborative round ...\n",
      "2020-08-12 15:13:45.136 | DEBUG    | pkg.multi_partner_learning:compute_collaborative_round_fedavg:271 - (fedavg) Minibatch n°0 of epoch n°7, init aggregated model for each partner with models from previous round\n",
      "2020-08-12 15:13:46.210 | DEBUG    | pkg.multi_partner_learning:log_collaborative_round_partner_result:513 - Epoch 07/09 > Minibatch 00/02 > Partner id #0 (0/2) > val_acc: 0.97\n",
      "2020-08-12 15:13:46.940 | DEBUG    | pkg.multi_partner_learning:log_collaborative_round_partner_result:513 - Epoch 07/09 > Minibatch 00/02 > Partner id #1 (1/2) > val_acc: 0.96\n",
      "2020-08-12 15:13:47.647 | DEBUG    | pkg.multi_partner_learning:log_collaborative_round_partner_result:513 - Epoch 07/09 > Minibatch 00/02 > Partner id #2 (2/2) > val_acc: 0.97\n",
      "2020-08-12 15:13:47.650 | DEBUG    | pkg.multi_partner_learning:compute_collaborative_round_fedavg:303 - End of fedavg collaborative round.\n",
      "2020-08-12 15:13:47.651 | DEBUG    | pkg.multi_partner_learning:compute_collaborative_round_fedavg:259 - Start new fedavg collaborative round ...\n",
      "2020-08-12 15:13:47.651 | DEBUG    | pkg.multi_partner_learning:compute_collaborative_round_fedavg:271 - (fedavg) Minibatch n°1 of epoch n°7, init aggregated model for each partner with models from previous round\n",
      "2020-08-12 15:13:48.733 | DEBUG    | pkg.multi_partner_learning:log_collaborative_round_partner_result:513 - Epoch 07/09 > Minibatch 01/02 > Partner id #0 (0/2) > val_acc: 0.96\n",
      "2020-08-12 15:13:49.461 | DEBUG    | pkg.multi_partner_learning:log_collaborative_round_partner_result:513 - Epoch 07/09 > Minibatch 01/02 > Partner id #1 (1/2) > val_acc: 0.97\n",
      "2020-08-12 15:13:50.336 | DEBUG    | pkg.multi_partner_learning:log_collaborative_round_partner_result:513 - Epoch 07/09 > Minibatch 01/02 > Partner id #2 (2/2) > val_acc: 0.97\n",
      "2020-08-12 15:13:50.347 | DEBUG    | pkg.multi_partner_learning:compute_collaborative_round_fedavg:303 - End of fedavg collaborative round.\n",
      "2020-08-12 15:13:50.348 | DEBUG    | pkg.multi_partner_learning:compute_collaborative_round_fedavg:259 - Start new fedavg collaborative round ...\n",
      "2020-08-12 15:13:50.348 | DEBUG    | pkg.multi_partner_learning:compute_collaborative_round_fedavg:271 - (fedavg) Minibatch n°2 of epoch n°7, init aggregated model for each partner with models from previous round\n",
      "2020-08-12 15:13:51.401 | DEBUG    | pkg.multi_partner_learning:log_collaborative_round_partner_result:513 - Epoch 07/09 > Minibatch 02/02 > Partner id #0 (0/2) > val_acc: 0.97\n",
      "2020-08-12 15:13:52.144 | DEBUG    | pkg.multi_partner_learning:log_collaborative_round_partner_result:513 - Epoch 07/09 > Minibatch 02/02 > Partner id #1 (1/2) > val_acc: 0.98\n",
      "2020-08-12 15:13:52.889 | DEBUG    | pkg.multi_partner_learning:log_collaborative_round_partner_result:513 - Epoch 07/09 > Minibatch 02/02 > Partner id #2 (2/2) > val_acc: 0.97\n",
      "2020-08-12 15:13:52.892 | DEBUG    | pkg.multi_partner_learning:compute_collaborative_round_fedavg:303 - End of fedavg collaborative round.\n",
      "2020-08-12 15:13:53.177 | INFO     | pkg.multi_partner_learning:compute_test_score:184 -    Model evaluation at the end of the epoch: ['0.085', '0.977']\n",
      "2020-08-12 15:13:53.177 | DEBUG    | pkg.multi_partner_learning:compute_test_score:187 -       Checking if early stopping criteria are met:\n",
      "2020-08-12 15:13:53.178 | DEBUG    | pkg.multi_partner_learning:compute_test_score:197 -          -> Early stopping criteria are not met, continuing with training.\n",
      "2020-08-12 15:13:53.236 | DEBUG    | pkg.multi_partner_learning:compute_collaborative_round_fedavg:259 - Start new fedavg collaborative round ...\n",
      "2020-08-12 15:13:53.236 | DEBUG    | pkg.multi_partner_learning:compute_collaborative_round_fedavg:271 - (fedavg) Minibatch n°0 of epoch n°8, init aggregated model for each partner with models from previous round\n",
      "2020-08-12 15:13:54.306 | DEBUG    | pkg.multi_partner_learning:log_collaborative_round_partner_result:513 - Epoch 08/09 > Minibatch 00/02 > Partner id #0 (0/2) > val_acc: 0.97\n",
      "2020-08-12 15:13:55.043 | DEBUG    | pkg.multi_partner_learning:log_collaborative_round_partner_result:513 - Epoch 08/09 > Minibatch 00/02 > Partner id #1 (1/2) > val_acc: 0.97\n",
      "2020-08-12 15:13:55.734 | DEBUG    | pkg.multi_partner_learning:log_collaborative_round_partner_result:513 - Epoch 08/09 > Minibatch 00/02 > Partner id #2 (2/2) > val_acc: 0.98\n",
      "2020-08-12 15:13:55.739 | DEBUG    | pkg.multi_partner_learning:compute_collaborative_round_fedavg:303 - End of fedavg collaborative round.\n",
      "2020-08-12 15:13:55.739 | DEBUG    | pkg.multi_partner_learning:compute_collaborative_round_fedavg:259 - Start new fedavg collaborative round ...\n",
      "2020-08-12 15:13:55.740 | DEBUG    | pkg.multi_partner_learning:compute_collaborative_round_fedavg:271 - (fedavg) Minibatch n°1 of epoch n°8, init aggregated model for each partner with models from previous round\n",
      "2020-08-12 15:13:56.933 | DEBUG    | pkg.multi_partner_learning:log_collaborative_round_partner_result:513 - Epoch 08/09 > Minibatch 01/02 > Partner id #0 (0/2) > val_acc: 0.97\n",
      "2020-08-12 15:13:57.690 | DEBUG    | pkg.multi_partner_learning:log_collaborative_round_partner_result:513 - Epoch 08/09 > Minibatch 01/02 > Partner id #1 (1/2) > val_acc: 0.98\n",
      "2020-08-12 15:13:58.402 | DEBUG    | pkg.multi_partner_learning:log_collaborative_round_partner_result:513 - Epoch 08/09 > Minibatch 01/02 > Partner id #2 (2/2) > val_acc: 0.98\n",
      "2020-08-12 15:13:58.405 | DEBUG    | pkg.multi_partner_learning:compute_collaborative_round_fedavg:303 - End of fedavg collaborative round.\n",
      "2020-08-12 15:13:58.406 | DEBUG    | pkg.multi_partner_learning:compute_collaborative_round_fedavg:259 - Start new fedavg collaborative round ...\n",
      "2020-08-12 15:13:58.406 | DEBUG    | pkg.multi_partner_learning:compute_collaborative_round_fedavg:271 - (fedavg) Minibatch n°2 of epoch n°8, init aggregated model for each partner with models from previous round\n",
      "2020-08-12 15:13:59.435 | DEBUG    | pkg.multi_partner_learning:log_collaborative_round_partner_result:513 - Epoch 08/09 > Minibatch 02/02 > Partner id #0 (0/2) > val_acc: 0.97\n",
      "2020-08-12 15:14:00.198 | DEBUG    | pkg.multi_partner_learning:log_collaborative_round_partner_result:513 - Epoch 08/09 > Minibatch 02/02 > Partner id #1 (1/2) > val_acc: 0.98\n"
     ]
    },
    {
     "name": "stderr",
     "output_type": "stream",
     "text": [
      "2020-08-12 15:14:00.947 | DEBUG    | pkg.multi_partner_learning:log_collaborative_round_partner_result:513 - Epoch 08/09 > Minibatch 02/02 > Partner id #2 (2/2) > val_acc: 0.97\n",
      "2020-08-12 15:14:00.950 | DEBUG    | pkg.multi_partner_learning:compute_collaborative_round_fedavg:303 - End of fedavg collaborative round.\n",
      "2020-08-12 15:14:01.256 | INFO     | pkg.multi_partner_learning:compute_test_score:184 -    Model evaluation at the end of the epoch: ['0.071', '0.979']\n",
      "2020-08-12 15:14:01.257 | DEBUG    | pkg.multi_partner_learning:compute_test_score:187 -       Checking if early stopping criteria are met:\n",
      "2020-08-12 15:14:01.257 | DEBUG    | pkg.multi_partner_learning:compute_test_score:197 -          -> Early stopping criteria are not met, continuing with training.\n",
      "2020-08-12 15:14:01.319 | DEBUG    | pkg.multi_partner_learning:compute_collaborative_round_fedavg:259 - Start new fedavg collaborative round ...\n",
      "2020-08-12 15:14:01.319 | DEBUG    | pkg.multi_partner_learning:compute_collaborative_round_fedavg:271 - (fedavg) Minibatch n°0 of epoch n°9, init aggregated model for each partner with models from previous round\n",
      "2020-08-12 15:14:02.608 | DEBUG    | pkg.multi_partner_learning:log_collaborative_round_partner_result:513 - Epoch 09/09 > Minibatch 00/02 > Partner id #0 (0/2) > val_acc: 0.97\n",
      "2020-08-12 15:14:03.383 | DEBUG    | pkg.multi_partner_learning:log_collaborative_round_partner_result:513 - Epoch 09/09 > Minibatch 00/02 > Partner id #1 (1/2) > val_acc: 0.98\n",
      "2020-08-12 15:14:04.113 | DEBUG    | pkg.multi_partner_learning:log_collaborative_round_partner_result:513 - Epoch 09/09 > Minibatch 00/02 > Partner id #2 (2/2) > val_acc: 0.97\n",
      "2020-08-12 15:14:04.116 | DEBUG    | pkg.multi_partner_learning:compute_collaborative_round_fedavg:303 - End of fedavg collaborative round.\n",
      "2020-08-12 15:14:04.117 | DEBUG    | pkg.multi_partner_learning:compute_collaborative_round_fedavg:259 - Start new fedavg collaborative round ...\n",
      "2020-08-12 15:14:04.117 | DEBUG    | pkg.multi_partner_learning:compute_collaborative_round_fedavg:271 - (fedavg) Minibatch n°1 of epoch n°9, init aggregated model for each partner with models from previous round\n",
      "2020-08-12 15:14:05.146 | DEBUG    | pkg.multi_partner_learning:log_collaborative_round_partner_result:513 - Epoch 09/09 > Minibatch 01/02 > Partner id #0 (0/2) > val_acc: 0.98\n",
      "2020-08-12 15:14:05.873 | DEBUG    | pkg.multi_partner_learning:log_collaborative_round_partner_result:513 - Epoch 09/09 > Minibatch 01/02 > Partner id #1 (1/2) > val_acc: 0.98\n",
      "2020-08-12 15:14:06.554 | DEBUG    | pkg.multi_partner_learning:log_collaborative_round_partner_result:513 - Epoch 09/09 > Minibatch 01/02 > Partner id #2 (2/2) > val_acc: 0.97\n",
      "2020-08-12 15:14:06.567 | DEBUG    | pkg.multi_partner_learning:compute_collaborative_round_fedavg:303 - End of fedavg collaborative round.\n",
      "2020-08-12 15:14:06.567 | DEBUG    | pkg.multi_partner_learning:compute_collaborative_round_fedavg:259 - Start new fedavg collaborative round ...\n",
      "2020-08-12 15:14:06.568 | DEBUG    | pkg.multi_partner_learning:compute_collaborative_round_fedavg:271 - (fedavg) Minibatch n°2 of epoch n°9, init aggregated model for each partner with models from previous round\n",
      "2020-08-12 15:14:07.569 | DEBUG    | pkg.multi_partner_learning:log_collaborative_round_partner_result:513 - Epoch 09/09 > Minibatch 02/02 > Partner id #0 (0/2) > val_acc: 0.98\n",
      "2020-08-12 15:14:08.417 | DEBUG    | pkg.multi_partner_learning:log_collaborative_round_partner_result:513 - Epoch 09/09 > Minibatch 02/02 > Partner id #1 (1/2) > val_acc: 0.98\n",
      "2020-08-12 15:14:09.126 | DEBUG    | pkg.multi_partner_learning:log_collaborative_round_partner_result:513 - Epoch 09/09 > Minibatch 02/02 > Partner id #2 (2/2) > val_acc: 0.98\n",
      "2020-08-12 15:14:09.129 | DEBUG    | pkg.multi_partner_learning:compute_collaborative_round_fedavg:303 - End of fedavg collaborative round.\n",
      "2020-08-12 15:14:09.400 | INFO     | pkg.multi_partner_learning:compute_test_score:184 -    Model evaluation at the end of the epoch: ['0.070', '0.979']\n",
      "2020-08-12 15:14:09.400 | DEBUG    | pkg.multi_partner_learning:compute_test_score:187 -       Checking if early stopping criteria are met:\n",
      "2020-08-12 15:14:09.400 | DEBUG    | pkg.multi_partner_learning:compute_test_score:197 -          -> Early stopping criteria are not met, continuing with training.\n",
      "2020-08-12 15:14:09.400 | INFO     | pkg.multi_partner_learning:compute_test_score:200 - ### Evaluating model on test data:\n",
      "2020-08-12 15:14:09.596 | INFO     | pkg.multi_partner_learning:compute_test_score:203 -    Model metrics names: ['loss', 'accuracy']\n",
      "2020-08-12 15:14:09.596 | INFO     | pkg.multi_partner_learning:compute_test_score:204 -    Model metrics values: ['0.058', '0.980']\n",
      "2020-08-12 15:14:09.733 | INFO     | pkg.multi_partner_learning:compute_test_score:212 - Training and evaluation on multiple partners: done.\n"
     ]
    },
    {
     "data": {
      "text/plain": [
       "0"
      ]
     },
     "execution_count": 11,
     "metadata": {},
     "output_type": "execute_result"
    }
   ],
   "source": [
    "run_scenario(current_scenario)"
   ]
  },
  {
   "cell_type": "markdown",
   "metadata": {},
   "source": [
    "# Results\n",
    "\n",
    "We can see every parametter used pre and post training."
   ]
  },
  {
   "cell_type": "code",
   "execution_count": 12,
   "metadata": {},
   "outputs": [
    {
     "name": "stdout",
     "output_type": "stream",
     "text": [
      "Index(['aggregation_weighting', 'dataset_fraction_per_partner', 'dataset_name',\n",
      "       'epoch_count', 'final_relative_nb_samples',\n",
      "       'gradient_updates_per_pass_count', 'is_early_stopping',\n",
      "       'learning_computation_time_sec', 'minibatch_count',\n",
      "       'mpl_nb_epochs_done', 'mpl_test_score',\n",
      "       'multi_partner_learning_approach', 'nb_samples_used', 'partners_count',\n",
      "       'samples_split_description', 'scenario_name', 'short_scenario_name',\n",
      "       'test_data_samples_count', 'train_data_samples_count'],\n",
      "      dtype='object')\n"
     ]
    }
   ],
   "source": [
    "df_results = current_scenario.to_dataframe()\n",
    "print(df_results.columns)"
   ]
  },
  {
   "cell_type": "markdown",
   "metadata": {},
   "source": [
    "#### Our score :"
   ]
  },
  {
   "cell_type": "code",
   "execution_count": 28,
   "metadata": {},
   "outputs": [
    {
     "name": "stdout",
     "output_type": "stream",
     "text": [
      "Approach used : fedavg\n",
      "Model accuracy : 0.9804999828338623\n",
      "0    uniform\n",
      "Name: aggregation_weighting, dtype: object\n"
     ]
    }
   ],
   "source": [
    "print(\"Approach used :\", df_results.multi_partner_learning_approach[0])\n",
    "print(\"Model accuracy :\", df_results.mpl_test_score[0])\n",
    "print(df_results.aggregation_weighting)"
   ]
  },
  {
   "cell_type": "markdown",
   "metadata": {},
   "source": [
    "## Extract model \n",
    "\n",
    "We can extract our model and save it for actual use"
   ]
  },
  {
   "cell_type": "code",
   "execution_count": 14,
   "metadata": {},
   "outputs": [],
   "source": [
    "model = current_scenario.mpl.get_model()"
   ]
  },
  {
   "cell_type": "code",
   "execution_count": 15,
   "metadata": {},
   "outputs": [
    {
     "name": "stdout",
     "output_type": "stream",
     "text": [
      "10000/10000 [==============================] - 1s 71us/step\n"
     ]
    },
    {
     "data": {
      "text/plain": [
       "[0.05818021780708805, 0.9804999828338623]"
      ]
     },
     "execution_count": 15,
     "metadata": {},
     "output_type": "execute_result"
    }
   ],
   "source": [
    "model.evaluate(X_test, preprocess_dataset_labels(y_test))"
   ]
  },
  {
   "cell_type": "markdown",
   "metadata": {},
   "source": [
    "## Let's play  a bit more with results\n",
    "\n",
    "First, let's see how our loss behaves"
   ]
  },
  {
   "cell_type": "code",
   "execution_count": 126,
   "metadata": {},
   "outputs": [
    {
     "name": "stdout",
     "output_type": "stream",
     "text": [
      "[0.7136906730333964, 0.3681321729024251, 0.2882021575768789, 0.18469586106141408, 0.14808411701520283, 0.11127827968200048, 0.09617510481675466, 0.08512519872188568, 0.07142640631397565, 0.06951372652252515]\n"
     ]
    }
   ],
   "source": [
    "losses = current_scenario.mpl.loss_collective_models\n",
    "print(losses)"
   ]
  },
  {
   "cell_type": "code",
   "execution_count": 127,
   "metadata": {},
   "outputs": [
    {
     "data": {
      "text/plain": [
       "<matplotlib.axes._subplots.AxesSubplot at 0x18a78a62548>"
      ]
     },
     "execution_count": 127,
     "metadata": {},
     "output_type": "execute_result"
    },
    {
     "data": {
      "image/png": "[encoded data removed]",
      "text/plain": [
       "<Figure size 432x288 with 1 Axes>"
      ]
     },
     "metadata": {},
     "output_type": "display_data"
    }
   ],
   "source": [
    "y = range(len(losses))\n",
    "x = losses\n",
    "\n",
    "sns.lineplot(x=x, y=y)        "
   ]
  },
  {
   "cell_type": "markdown",
   "metadata": {},
   "source": [
    "### Let's see how our accuracy score goes between each partner and compare it with aggregated model performance"
   ]
  },
  {
   "cell_type": "code",
   "execution_count": 128,
   "metadata": {},
   "outputs": [
    {
     "name": "stdout",
     "output_type": "stream",
     "text": [
      "[[[0.59200001 0.53775001 0.49266666]\n",
      "  [0.73066664 0.73991668 0.73925   ]\n",
      "  [0.75616664 0.77783334 0.79116666]]\n",
      "\n",
      " [[0.83666664 0.74833333 0.824     ]\n",
      "  [0.85208333 0.87108332 0.85966665]\n",
      "  [0.86691666 0.84541667 0.87774998]]\n",
      "\n",
      " [[0.89850003 0.88674998 0.89983332]\n",
      "  [0.90291667 0.89766669 0.91616666]\n",
      "  [0.91291666 0.91074997 0.8955    ]]\n",
      "\n",
      " [[0.93691665 0.93683332 0.92466664]\n",
      "  [0.90841669 0.93858331 0.93024999]\n",
      "  [0.93066669 0.94408333 0.93833333]]\n",
      "\n",
      " [[0.94666666 0.94041669 0.94950002]\n",
      "  [0.94316667 0.95408332 0.94774997]\n",
      "  [0.94708335 0.95433331 0.95541668]]\n",
      "\n",
      " [[0.95875001 0.95050001 0.96249998]\n",
      "  [0.95266664 0.9605     0.95583332]\n",
      "  [0.96558332 0.96724999 0.95225   ]]\n",
      "\n",
      " [[0.96366668 0.97025001 0.96600002]\n",
      "  [0.96691668 0.96625    0.96583331]\n",
      "  [0.96766669 0.96600002 0.97149998]]\n",
      "\n",
      " [[0.96799999 0.96375    0.96899998]\n",
      "  [0.96383333 0.97191668 0.97399998]\n",
      "  [0.96716666 0.97591668 0.97483331]]\n",
      "\n",
      " [[0.96991664 0.97283334 0.97566664]\n",
      "  [0.96775001 0.97516668 0.97533333]\n",
      "  [0.97441667 0.97608334 0.97474998]]\n",
      "\n",
      " [[0.97391665 0.97716665 0.9740833 ]\n",
      "  [0.97624999 0.97941667 0.97483331]\n",
      "  [0.97549999 0.97600001 0.97666669]]]\n"
     ]
    }
   ],
   "source": [
    "x= current_scenario.mpl.score_matrix_per_partner\n",
    "print(x)"
   ]
  },
  {
   "cell_type": "markdown",
   "metadata": {},
   "source": [
    "This is a lot of information to deal with, for now, we will only work with the first minibatch of each epoch"
   ]
  },
  {
   "cell_type": "code",
   "execution_count": 131,
   "metadata": {},
   "outputs": [
    {
     "name": "stdout",
     "output_type": "stream",
     "text": [
      "[[0.59200001 0.73066664 0.75616664]\n",
      " [0.83666664 0.85208333 0.86691666]\n",
      " [0.89850003 0.90291667 0.91291666]\n",
      " [0.93691665 0.90841669 0.93066669]\n",
      " [0.94666666 0.94316667 0.94708335]\n",
      " [0.95875001 0.95266664 0.96558332]\n",
      " [0.96366668 0.96691668 0.96766669]\n",
      " [0.96799999 0.96383333 0.96716666]\n",
      " [0.96991664 0.96775001 0.97441667]\n",
      " [0.97391665 0.97624999 0.97549999]]\n"
     ]
    }
   ],
   "source": [
    "x = x[:,:,0]\n",
    "print(x)"
   ]
  },
  {
   "cell_type": "markdown",
   "metadata": {},
   "source": [
    "now let's pack this information in a single dataframe"
   ]
  },
  {
   "cell_type": "code",
   "execution_count": 152,
   "metadata": {},
   "outputs": [
    {
     "data": {
      "text/plain": [
       "<seaborn.axisgrid.FacetGrid at 0x18a9c8ba608>"
      ]
     },
     "execution_count": 152,
     "metadata": {},
     "output_type": "execute_result"
    },
    {
     "data": {
      "image/png": "[encoded data removed]",
      "text/plain": [
       "<Figure size 443.85x360 with 1 Axes>"
      ]
     },
     "metadata": {},
     "output_type": "display_data"
    }
   ],
   "source": [
    "p0 = (x[:,0])\n",
    "p1 = (x[:,1])\n",
    "p2 = (x[:,2])\n",
    "\n",
    "d = {\n",
    "    'partner 0' : p0,\n",
    "    'partner 1' : p1,\n",
    "    'partner 2' : p2\n",
    "}\n",
    "\n",
    "df = pd.DataFrame(d)\n",
    "\n",
    "\n",
    "sns.relplot(data = df, kind = \"line\")"
   ]
  },
  {
   "cell_type": "markdown",
   "metadata": {},
   "source": [
    "### Now let's compare this result to our averaged model"
   ]
  },
  {
   "cell_type": "code",
   "execution_count": 161,
   "metadata": {},
   "outputs": [
    {
     "name": "stdout",
     "output_type": "stream",
     "text": [
      "[[0.06566667 0.55699998 0.74991667 0.80133331]\n",
      " [0.80133331 0.81225002 0.86766666 0.89574999]\n",
      " [0.89574999 0.90466666 0.91600001 0.91600001]\n",
      " [0.91600001 0.94016665 0.93891668 0.94408333]\n",
      " [0.94408333 0.95099998 0.95608336 0.95583332]\n",
      " [0.95583332 0.96149999 0.96399999 0.96708333]\n",
      " [0.96708333 0.97091669 0.97033334 0.97316664]\n",
      " [0.97316664 0.97108334 0.97783333 0.97658336]\n",
      " [0.97658336 0.97708333 0.9795     0.97891665]\n",
      " [0.97891665 0.97991669 0.98083335 0.97891665]]\n"
     ]
    }
   ],
   "source": [
    "x_collective = current_scenario.mpl.score_matrix_collective_models\n",
    "\n",
    "print(x_collective)\n",
    "\n"
   ]
  },
  {
   "cell_type": "markdown",
   "metadata": {},
   "source": [
    "We will just focus ourselves on the first mini batch of each epoch again"
   ]
  },
  {
   "cell_type": "code",
   "execution_count": 162,
   "metadata": {},
   "outputs": [
    {
     "name": "stdout",
     "output_type": "stream",
     "text": [
      "          0\n",
      "0  0.065667\n",
      "1  0.801333\n",
      "2  0.895750\n",
      "3  0.916000\n",
      "4  0.944083\n",
      "5  0.955833\n",
      "6  0.967083\n",
      "7  0.973167\n",
      "8  0.976583\n",
      "9  0.978917\n"
     ]
    },
    {
     "data": {
      "text/plain": [
       "<seaborn.axisgrid.FacetGrid at 0x18a8313d2c8>"
      ]
     },
     "execution_count": 162,
     "metadata": {},
     "output_type": "execute_result"
    },
    {
     "data": {
      "image/png": "[encoded data removed]",
      "text/plain": [
       "<Figure size 405.725x360 with 1 Axes>"
      ]
     },
     "metadata": {},
     "output_type": "display_data"
    }
   ],
   "source": [
    "x_collective = x_collective[:,0]\n",
    "\n",
    "df_collective = pd.DataFrame(x_collective)\n",
    "\n",
    "\n",
    "print(df_collective)\n",
    "\n",
    "sns.relplot(data = df_collective, kind = \"line\")"
   ]
  },
  {
   "cell_type": "markdown",
   "metadata": {},
   "source": [
    "### Now let's compare this model to each partner's model :"
   ]
  },
  {
   "cell_type": "code",
   "execution_count": 163,
   "metadata": {},
   "outputs": [],
   "source": [
    "d = {\n",
    "    'partner 0' : p0,\n",
    "    'partner 1' : p1,\n",
    "    'partner 2' : p2,\n",
    "    'Averaged model' : x_collective\n",
    "}"
   ]
  },
  {
   "cell_type": "code",
   "execution_count": 164,
   "metadata": {},
   "outputs": [
    {
     "data": {
      "text/plain": [
       "<seaborn.axisgrid.FacetGrid at 0x18a81e860c8>"
      ]
     },
     "execution_count": 164,
     "metadata": {},
     "output_type": "execute_result"
    },
    {
     "data": {
      "image/png": "[encoded data removed]",
      "text/plain": [
       "<Figure size 479.975x360 with 1 Axes>"
      ]
     },
     "metadata": {},
     "output_type": "display_data"
    }
   ],
   "source": [
    "df = pd.DataFrame(d)\n",
    "\n",
    "\n",
    "sns.relplot(data = df, kind = \"line\")"
   ]
  },
  {
   "cell_type": "markdown",
   "metadata": {},
   "source": [
    "### Let's ommit the begining"
   ]
  },
  {
   "cell_type": "code",
   "execution_count": 166,
   "metadata": {},
   "outputs": [
    {
     "data": {
      "text/plain": [
       "<seaborn.axisgrid.FacetGrid at 0x18a9c84ad48>"
      ]
     },
     "execution_count": 166,
     "metadata": {},
     "output_type": "execute_result"
    },
    {
     "data": {
      "image/png": "[encoded data removed]",
      "text/plain": [
       "<Figure size 479.975x360 with 1 Axes>"
      ]
     },
     "metadata": {},
     "output_type": "display_data"
    }
   ],
   "source": [
    "df = df.iloc[3:]\n",
    "sns.relplot(data = df, kind = \"line\")"
   ]
  },
  {
   "cell_type": "markdown",
   "metadata": {},
   "source": [
    "# The averaged model seems to perform poorly at the start but become better as the training continues"
   ]
  },
  {
   "cell_type": "code",
   "execution_count": null,
   "metadata": {},
   "outputs": [],
   "source": []
  }
 ],
 "metadata": {
  "kernelspec": {
   "display_name": "Python 3",
   "language": "python",
   "name": "python3"
  },
  "language_info": {
   "codemirror_mode": {
    "name": "ipython",
    "version": 3
   },
   "file_extension": ".py",
   "mimetype": "text/x-python",
   "name": "python",
   "nbconvert_exporter": "python",
   "pygments_lexer": "ipython3",
   "version": "3.7.6"
  }
 },
 "nbformat": 4,
 "nbformat_minor": 4
}
