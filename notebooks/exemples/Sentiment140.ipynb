{
 "cells": [
  {
   "cell_type": "markdown",
   "metadata": {},
   "source": [
    "# Sentiment140\n",
    "\n",
    "On this noteboook, we try to predict the polarity of a twitt.\n",
    "\n",
    "https://medium.com/@alyafey22/sentiment-classification-from-keras-to-the-browser-7eda0d87cdc6"
   ]
  },
  {
   "cell_type": "code",
   "execution_count": 1,
   "metadata": {},
   "outputs": [
    {
     "name": "stderr",
     "output_type": "stream",
     "text": [
      "Using TensorFlow backend.\n"
     ]
    }
   ],
   "source": [
    "# imports\n",
    "import matplotlib.pyplot as plt\n",
    "from loguru import logger\n",
    "import tensorflow as tf\n",
    "import pandas as pd \n",
    "from sklearn.model_selection import train_test_split\n",
    "\n",
    "from pathlib import Path\n",
    "\n",
    "import numpy as np\n",
    " \n",
    "from keras.models import Sequential\n",
    "from keras.layers import Dense, Dropout, Activation, Flatten, GRU, Embedding\n",
    "from keras.layers import Conv2D, MaxPooling2D\n",
    "from keras.utils import np_utils\n",
    "from keras.datasets import mnist\n",
    "import re\n"
   ]
  },
  {
   "cell_type": "code",
   "execution_count": 2,
   "metadata": {},
   "outputs": [],
   "source": [
    "from pkg import constants\n",
    "from pkg import main\n",
    "from pkg import multi_partner_learning\n",
    "from pkg import scenario\n",
    "from pkg import utils\n",
    "from pkg.dataset import Dataset"
   ]
  },
  {
   "cell_type": "markdown",
   "metadata": {},
   "source": [
    "# Download and unzip data if needed"
   ]
  },
  {
   "cell_type": "code",
   "execution_count": null,
   "metadata": {},
   "outputs": [],
   "source": [
    "!curl https://cs.stanford.edu/people/alecmgo/trainingandtestdata.zip --output trainingandtestdata.zip\n",
    "!unzip trainingandtestdata.zip"
   ]
  },
  {
   "cell_type": "markdown",
   "metadata": {},
   "source": [
    "# Load it"
   ]
  },
  {
   "cell_type": "code",
   "execution_count": 3,
   "metadata": {},
   "outputs": [],
   "source": [
    "df_train = pd.read_csv(\"training.1600000.processed.noemoticon.csv\", encoding = \"raw_unicode_escape\", header=None)\n",
    "df_test = pd.read_csv(\"testdata.manual.2009.06.14.csv\", encoding = \"raw_unicode_escape\",  header=None)\n",
    "\n",
    "\n",
    "\n",
    "df_train.columns = [\"polarity\", \"id\", \"date\", \"query\", \"user\", \"text\"]\n",
    "df_test.columns = [\"polarity\", \"id\", \"date\", \"query\", \"user\", \"text\"]\n",
    "\n",
    "# We keep only a fraction of the whole dataset\n",
    "\n",
    "df_train = df_train.sample(frac = 0.1)\n",
    "\n",
    "x = df_train[\"text\"]\n",
    "y = df_train[\"polarity\"]"
   ]
  },
  {
   "cell_type": "markdown",
   "metadata": {},
   "source": [
    "# Preprocessing functions"
   ]
  },
  {
   "cell_type": "code",
   "execution_count": 4,
   "metadata": {},
   "outputs": [],
   "source": [
    "def process(txt):\n",
    "    out = re.sub(r'[^a-zA-Z0-9\\s]', '', txt)\n",
    "    out = out.split()\n",
    "    out = [word.lower() for word in out]\n",
    "    return out\n",
    "\n",
    "def getMax(data):\n",
    "    max_tokens = 0 \n",
    "    for txt in data:\n",
    "        if max_tokens < len(txt.split()):\n",
    "            max_tokens = len(txt.split())\n",
    "    return max_tokens\n",
    "\n",
    "\n",
    "def tokenize(thresh = 5):\n",
    "    count  = dict()\n",
    "    idx = 1\n",
    "    word_index = dict()\n",
    "    for txt in x:\n",
    "        words = process(txt)\n",
    "        for word in words:\n",
    "            if word in count.keys():\n",
    "                count[word] += 1\n",
    "            else:\n",
    "                count[word]  = 1\n",
    "    most_counts = [word for word in count.keys() if count[word]>=thresh]\n",
    "    for word in most_counts:\n",
    "        word_index[word] = idx\n",
    "        idx+=1\n",
    "    return word_index\n",
    "\n",
    "\n",
    "def create_sequences(data):\n",
    "    tokens = []\n",
    "    for txt in data:\n",
    "        words = process(txt)\n",
    "        seq = [0] * max_tokens\n",
    "        i = 0 \n",
    "        for word in words:\n",
    "            start = max_tokens-len(words)\n",
    "            if word.lower() in word_index.keys():\n",
    "                seq[i+start] = word_index[word]\n",
    "            i+=1\n",
    "        tokens.append(seq)        \n",
    "    return np.array(tokens)\n",
    "\n",
    "def preprocess_dataset_labels(y):\n",
    "    #y = np_utils.to_categorical(y, num_classes)\n",
    "    y = np.array([e/4 for e in y])\n",
    "    return y"
   ]
  },
  {
   "cell_type": "code",
   "execution_count": 5,
   "metadata": {},
   "outputs": [
    {
     "name": "stdout",
     "output_type": "stream",
     "text": [
      "length of the dictionary  15086\n",
      "max token  39\n",
      "num classes 2\n"
     ]
    }
   ],
   "source": [
    "max_tokens = getMax(x)\n",
    "\n",
    "\n",
    "num_words = None\n",
    "word_index = tokenize()\n",
    "num_words = len(word_index)\n",
    "\n",
    "input_shape = max_tokens\n",
    "num_classes = len(np.unique(y))\n",
    "\n",
    "\n",
    "print('length of the dictionary ',len(word_index))\n",
    "print('max token ', max_tokens) \n",
    "print('num classes', num_classes)"
   ]
  },
  {
   "cell_type": "markdown",
   "metadata": {},
   "source": [
    "# Let's see how our preprocessing works"
   ]
  },
  {
   "cell_type": "code",
   "execution_count": 6,
   "metadata": {},
   "outputs": [
    {
     "data": {
      "text/plain": [
       "['this', 'is', 'a', 'test']"
      ]
     },
     "execution_count": 6,
     "metadata": {},
     "output_type": "execute_result"
    }
   ],
   "source": [
    "process(\"Th**is. is -a- #test \")"
   ]
  },
  {
   "cell_type": "code",
   "execution_count": 7,
   "metadata": {},
   "outputs": [
    {
     "name": "stdout",
     "output_type": "stream",
     "text": [
      "[[   0    0    0    0    0    0    0    0    0    0    0    0    0    0\n",
      "     0    0    0    0    0    0    0    0    0    0    0    0    0    0\n",
      "     0    0    0    0    0    0    0   37   96  123 2424]]\n"
     ]
    }
   ],
   "source": [
    "print(create_sequences([\"Th**is. is -a- #test \"]))"
   ]
  },
  {
   "cell_type": "markdown",
   "metadata": {},
   "source": [
    "# Create custom scenario from mandatory parametters"
   ]
  },
  {
   "cell_type": "code",
   "execution_count": 8,
   "metadata": {},
   "outputs": [],
   "source": [
    "scenario_params = {\n",
    "    'partners_count': 3,\n",
    "    'amounts_per_partner': [0.2, 0.5, 0.3],\n",
    "}"
   ]
  },
  {
   "cell_type": "markdown",
   "metadata": {},
   "source": [
    "# Set values for optinal parametters"
   ]
  },
  {
   "cell_type": "code",
   "execution_count": 9,
   "metadata": {},
   "outputs": [],
   "source": [
    "scenario_params['epoch_count'] = 10\n",
    "scenario_params['minibatch_count'] = 3"
   ]
  },
  {
   "cell_type": "markdown",
   "metadata": {},
   "source": [
    "#### Every other parametter will be set to its default value"
   ]
  },
  {
   "cell_type": "code",
   "execution_count": 10,
   "metadata": {},
   "outputs": [],
   "source": [
    "experiment_path = Path(r\"C:\\GitHub\\distributed-learning-contributivity\\experiments\\nlp\")"
   ]
  },
  {
   "cell_type": "code",
   "execution_count": 11,
   "metadata": {},
   "outputs": [
    {
     "name": "stderr",
     "output_type": "stream",
     "text": [
      "2020-08-10 13:26:46.543 | DEBUG    | pkg.scenario:__init__:52 - Dataset selected: mnist\n",
      "2020-08-10 13:26:46.544 | DEBUG    | pkg.scenario:__init__:87 - Computation use the full dataset for scenario #1\n",
      "2020-08-10 13:26:46.619 | INFO     | pkg.scenario:__init__:279 - ### Description of data scenario configured:\n",
      "2020-08-10 13:26:46.620 | INFO     | pkg.scenario:__init__:280 -    Number of partners defined: 3\n",
      "2020-08-10 13:26:46.620 | INFO     | pkg.scenario:__init__:281 -    Data distribution scenario chosen: random\n",
      "2020-08-10 13:26:46.621 | INFO     | pkg.scenario:__init__:282 -    Multi-partner learning approach: fedavg\n",
      "2020-08-10 13:26:46.621 | INFO     | pkg.scenario:__init__:283 -    Weighting option: uniform\n",
      "2020-08-10 13:26:46.622 | INFO     | pkg.scenario:__init__:284 -    Iterations parameters: 10 epochs > 3 mini-batches > 8 gradient updates per pass\n",
      "2020-08-10 13:26:46.622 | INFO     | pkg.scenario:__init__:290 - ### Data loaded: mnist\n",
      "2020-08-10 13:26:46.623 | INFO     | pkg.scenario:__init__:291 -    48000 train data with 48000 labels\n",
      "2020-08-10 13:26:46.623 | INFO     | pkg.scenario:__init__:292 -    12000 val data with 12000 labels\n",
      "2020-08-10 13:26:46.624 | INFO     | pkg.scenario:__init__:293 -    10000 test data with 10000 labels\n"
     ]
    }
   ],
   "source": [
    "current_scenario = scenario.Scenario(\n",
    "        scenario_params,\n",
    "        experiment_path\n",
    "    )"
   ]
  },
  {
   "cell_type": "markdown",
   "metadata": {},
   "source": [
    "# Create Data Set"
   ]
  },
  {
   "cell_type": "code",
   "execution_count": 12,
   "metadata": {},
   "outputs": [],
   "source": [
    "(X_train, X_test) = train_test_split(create_sequences(x), shuffle = False)\n",
    "(y_train, y_test) = train_test_split(y, shuffle = False)\n",
    "\n"
   ]
  },
  {
   "cell_type": "code",
   "execution_count": 13,
   "metadata": {},
   "outputs": [],
   "source": [
    "# idk\n",
    "\n",
    "X_train = np.array(X_train)\n",
    "X_test = np.array(X_test)\n",
    "y_train = np.array(y_train)\n",
    "y_test = np.array(y_test)"
   ]
  },
  {
   "cell_type": "code",
   "execution_count": 14,
   "metadata": {},
   "outputs": [
    {
     "name": "stdout",
     "output_type": "stream",
     "text": [
      "[0 0 0 0 0 0 0 0 0 0 0 0 0 0 0 0 0 0 0 0 0 0 0 0 0 0 0 0 0 0 0 1 2 3 4 5 6\n",
      " 7 8]\n",
      "0\n"
     ]
    }
   ],
   "source": [
    "print(X_train[0])\n",
    "print(y_train[0])"
   ]
  },
  {
   "cell_type": "markdown",
   "metadata": {},
   "source": [
    "# Create Model"
   ]
  },
  {
   "cell_type": "code",
   "execution_count": 15,
   "metadata": {},
   "outputs": [],
   "source": [
    "def generate_new_model_for_dataset():\n",
    "    model = Sequential()\n",
    "    embedding_size = 8\n",
    "    model.add(Embedding(input_dim=num_words,\n",
    "                    output_dim=embedding_size,\n",
    "                    input_length=max_tokens,\n",
    "                    name='layer_embedding'))\n",
    "\n",
    "    model.add(GRU(units=16, name = \"gru_1\",return_sequences=True))\n",
    "    model.add(GRU(units=8, name = \"gru_2\" ,return_sequences=True))\n",
    "    model.add(GRU(units=4, name= \"gru_3\"))\n",
    "    model.add(Dense(1, activation='sigmoid',name=\"dense_1\"))\n",
    "    model.compile(loss='binary_crossentropy',\n",
    "              optimizer=\"Adam\",\n",
    "              metrics=['accuracy'])\n",
    "    return model"
   ]
  },
  {
   "cell_type": "markdown",
   "metadata": {},
   "source": [
    "# Assignate dataset to scenario"
   ]
  },
  {
   "cell_type": "code",
   "execution_count": 16,
   "metadata": {},
   "outputs": [],
   "source": [
    "current_scenario.dataset = Dataset(\n",
    "    \"my_dataset\",\n",
    "    X_train,\n",
    "    X_test,\n",
    "    y_train,\n",
    "    y_test,\n",
    "    input_shape,\n",
    "    num_classes,\n",
    "    preprocess_dataset_labels,\n",
    "    generate_new_model_for_dataset\n",
    ")"
   ]
  },
  {
   "cell_type": "code",
   "execution_count": 17,
   "metadata": {},
   "outputs": [
    {
     "name": "stdout",
     "output_type": "stream",
     "text": [
      "my_dataset\n"
     ]
    }
   ],
   "source": [
    "# Check Scenario name\n",
    "print(current_scenario.dataset.name)"
   ]
  },
  {
   "cell_type": "markdown",
   "metadata": {},
   "source": [
    "# Split train and validation sets"
   ]
  },
  {
   "cell_type": "code",
   "execution_count": 18,
   "metadata": {},
   "outputs": [],
   "source": [
    "current_scenario.dataset.train_val_split()"
   ]
  },
  {
   "cell_type": "markdown",
   "metadata": {},
   "source": [
    "# Legacy "
   ]
  },
  {
   "cell_type": "code",
   "execution_count": 19,
   "metadata": {},
   "outputs": [],
   "source": [
    "current_scenario.partners_list = []"
   ]
  },
  {
   "cell_type": "markdown",
   "metadata": {},
   "source": [
    "# Run scenario"
   ]
  },
  {
   "cell_type": "code",
   "execution_count": 20,
   "metadata": {},
   "outputs": [
    {
     "name": "stderr",
     "output_type": "stream",
     "text": [
      "2020-08-10 13:26:48.999 | INFO     | pkg.scenario:split_data:534 - ### Splitting data among partners:\n",
      "2020-08-10 13:26:49.000 | INFO     | pkg.scenario:split_data:535 -    Simple split performed.\n",
      "2020-08-10 13:26:49.000 | INFO     | pkg.scenario:split_data:536 -    Nb of samples split amongst partners: 77760\n",
      "2020-08-10 13:26:49.000 | INFO     | pkg.scenario:split_data:538 -    Partner #0: 15552 samples with labels [0, 4]\n",
      "2020-08-10 13:26:49.001 | INFO     | pkg.scenario:split_data:538 -    Partner #1: 38880 samples with labels [0, 4]\n",
      "2020-08-10 13:26:49.002 | INFO     | pkg.scenario:split_data:538 -    Partner #2: 23328 samples with labels [0, 4]\n",
      "2020-08-10 13:26:49.145 | DEBUG    | pkg.scenario:compute_batch_sizes:582 -    Compute batch sizes, partner #0: 648\n",
      "2020-08-10 13:26:49.146 | DEBUG    | pkg.scenario:compute_batch_sizes:582 -    Compute batch sizes, partner #1: 1620\n",
      "2020-08-10 13:26:49.147 | DEBUG    | pkg.scenario:compute_batch_sizes:582 -    Compute batch sizes, partner #2: 972\n",
      "2020-08-10 13:26:49.147 | DEBUG    | pkg.scenario:preprocess_scenarios_data:587 - ## Pre-processing datasets of the scenario for keras CNN:\n",
      "2020-08-10 13:26:49.159 | DEBUG    | pkg.scenario:preprocess_scenarios_data:591 -    Central early stopping validation set: done.\n",
      "2020-08-10 13:26:49.182 | DEBUG    | pkg.scenario:preprocess_scenarios_data:593 -    Central testset: done.\n",
      "2020-08-10 13:26:49.192 | DEBUG    | pkg.scenario:preprocess_scenarios_data:615 -    Partner #0: done.\n",
      "2020-08-10 13:26:49.218 | DEBUG    | pkg.scenario:preprocess_scenarios_data:615 -    Partner #1: done.\n",
      "2020-08-10 13:26:49.233 | DEBUG    | pkg.scenario:preprocess_scenarios_data:615 -    Partner #2: done.\n",
      "2020-08-10 13:26:49.233 | DEBUG    | pkg.multi_partner_learning:__init__:69 - MultiPartnerLearning object instantiated.\n",
      "2020-08-10 13:26:49.234 | INFO     | pkg.multi_partner_learning:compute_test_score:135 - ## Training and evaluating model on partners with ids: ['#0', '#1', '#2']\n",
      "2020-08-10 13:26:49.270 | DEBUG    | pkg.multi_partner_learning:compute_collaborative_round_fedavg:259 - Start new fedavg collaborative round ...\n",
      "2020-08-10 13:26:49.271 | DEBUG    | pkg.multi_partner_learning:compute_collaborative_round_fedavg:268 - (fedavg) Very first minibatch of epoch n°0, init new models for each partner\n",
      "C:\\ProgramData\\Anaconda3\\lib\\site-packages\\tensorflow\\python\\framework\\indexed_slices.py:434: UserWarning: Converting sparse IndexedSlices to a dense Tensor of unknown shape. This may consume a large amount of memory.\n",
      "  \"Converting sparse IndexedSlices to a dense Tensor of unknown shape. \"\n",
      "2020-08-10 13:27:05.491 | DEBUG    | pkg.multi_partner_learning:log_collaborative_round_partner_result:513 - Epoch 00/09 > Minibatch 00/02 > Partner id #0 (0/2) > val_acc: 0.53\n",
      "2020-08-10 13:27:10.740 | DEBUG    | pkg.multi_partner_learning:log_collaborative_round_partner_result:513 - Epoch 00/09 > Minibatch 00/02 > Partner id #1 (1/2) > val_acc: 0.5\n",
      "2020-08-10 13:27:16.415 | DEBUG    | pkg.multi_partner_learning:log_collaborative_round_partner_result:513 - Epoch 00/09 > Minibatch 00/02 > Partner id #2 (2/2) > val_acc: 0.5\n",
      "2020-08-10 13:27:16.419 | DEBUG    | pkg.multi_partner_learning:compute_collaborative_round_fedavg:303 - End of fedavg collaborative round.\n",
      "2020-08-10 13:27:16.419 | DEBUG    | pkg.multi_partner_learning:compute_collaborative_round_fedavg:259 - Start new fedavg collaborative round ...\n",
      "2020-08-10 13:27:16.420 | DEBUG    | pkg.multi_partner_learning:compute_collaborative_round_fedavg:271 - (fedavg) Minibatch n°1 of epoch n°0, init aggregated model for each partner with models from previous round\n",
      "2020-08-10 13:27:24.704 | DEBUG    | pkg.multi_partner_learning:log_collaborative_round_partner_result:513 - Epoch 00/09 > Minibatch 01/02 > Partner id #0 (0/2) > val_acc: 0.5\n",
      "2020-08-10 13:27:30.004 | DEBUG    | pkg.multi_partner_learning:log_collaborative_round_partner_result:513 - Epoch 00/09 > Minibatch 01/02 > Partner id #1 (1/2) > val_acc: 0.58\n",
      "2020-08-10 13:27:35.643 | DEBUG    | pkg.multi_partner_learning:log_collaborative_round_partner_result:513 - Epoch 00/09 > Minibatch 01/02 > Partner id #2 (2/2) > val_acc: 0.55\n",
      "2020-08-10 13:27:35.646 | DEBUG    | pkg.multi_partner_learning:compute_collaborative_round_fedavg:303 - End of fedavg collaborative round.\n",
      "2020-08-10 13:27:35.647 | DEBUG    | pkg.multi_partner_learning:compute_collaborative_round_fedavg:259 - Start new fedavg collaborative round ...\n",
      "2020-08-10 13:27:35.647 | DEBUG    | pkg.multi_partner_learning:compute_collaborative_round_fedavg:271 - (fedavg) Minibatch n°2 of epoch n°0, init aggregated model for each partner with models from previous round\n",
      "2020-08-10 13:27:43.960 | DEBUG    | pkg.multi_partner_learning:log_collaborative_round_partner_result:513 - Epoch 00/09 > Minibatch 02/02 > Partner id #0 (0/2) > val_acc: 0.54\n",
      "2020-08-10 13:27:49.155 | DEBUG    | pkg.multi_partner_learning:log_collaborative_round_partner_result:513 - Epoch 00/09 > Minibatch 02/02 > Partner id #1 (1/2) > val_acc: 0.57\n",
      "2020-08-10 13:27:54.810 | DEBUG    | pkg.multi_partner_learning:log_collaborative_round_partner_result:513 - Epoch 00/09 > Minibatch 02/02 > Partner id #2 (2/2) > val_acc: 0.62\n",
      "2020-08-10 13:27:54.813 | DEBUG    | pkg.multi_partner_learning:compute_collaborative_round_fedavg:303 - End of fedavg collaborative round.\n",
      "2020-08-10 13:27:56.896 | INFO     | pkg.multi_partner_learning:compute_test_score:184 -    Model evaluation at the end of the epoch: ['0.691', '0.591']\n",
      "2020-08-10 13:27:56.897 | DEBUG    | pkg.multi_partner_learning:compute_test_score:187 -       Checking if early stopping criteria are met:\n",
      "2020-08-10 13:27:56.897 | DEBUG    | pkg.multi_partner_learning:compute_test_score:197 -          -> Early stopping criteria are not met, continuing with training.\n",
      "2020-08-10 13:27:56.909 | DEBUG    | pkg.multi_partner_learning:compute_collaborative_round_fedavg:259 - Start new fedavg collaborative round ...\n",
      "2020-08-10 13:27:56.910 | DEBUG    | pkg.multi_partner_learning:compute_collaborative_round_fedavg:271 - (fedavg) Minibatch n°0 of epoch n°1, init aggregated model for each partner with models from previous round\n",
      "2020-08-10 13:28:05.043 | DEBUG    | pkg.multi_partner_learning:log_collaborative_round_partner_result:513 - Epoch 01/09 > Minibatch 00/02 > Partner id #0 (0/2) > val_acc: 0.55\n",
      "2020-08-10 13:28:10.356 | DEBUG    | pkg.multi_partner_learning:log_collaborative_round_partner_result:513 - Epoch 01/09 > Minibatch 00/02 > Partner id #1 (1/2) > val_acc: 0.57\n",
      "2020-08-10 13:28:16.329 | DEBUG    | pkg.multi_partner_learning:log_collaborative_round_partner_result:513 - Epoch 01/09 > Minibatch 00/02 > Partner id #2 (2/2) > val_acc: 0.61\n",
      "2020-08-10 13:28:16.332 | DEBUG    | pkg.multi_partner_learning:compute_collaborative_round_fedavg:303 - End of fedavg collaborative round.\n",
      "2020-08-10 13:28:16.333 | DEBUG    | pkg.multi_partner_learning:compute_collaborative_round_fedavg:259 - Start new fedavg collaborative round ...\n",
      "2020-08-10 13:28:16.333 | DEBUG    | pkg.multi_partner_learning:compute_collaborative_round_fedavg:271 - (fedavg) Minibatch n°1 of epoch n°1, init aggregated model for each partner with models from previous round\n",
      "2020-08-10 13:28:24.623 | DEBUG    | pkg.multi_partner_learning:log_collaborative_round_partner_result:513 - Epoch 01/09 > Minibatch 01/02 > Partner id #0 (0/2) > val_acc: 0.63\n",
      "2020-08-10 13:28:29.916 | DEBUG    | pkg.multi_partner_learning:log_collaborative_round_partner_result:513 - Epoch 01/09 > Minibatch 01/02 > Partner id #1 (1/2) > val_acc: 0.64\n",
      "2020-08-10 13:28:35.280 | DEBUG    | pkg.multi_partner_learning:log_collaborative_round_partner_result:513 - Epoch 01/09 > Minibatch 01/02 > Partner id #2 (2/2) > val_acc: 0.63\n",
      "2020-08-10 13:28:35.283 | DEBUG    | pkg.multi_partner_learning:compute_collaborative_round_fedavg:303 - End of fedavg collaborative round.\n",
      "2020-08-10 13:28:35.284 | DEBUG    | pkg.multi_partner_learning:compute_collaborative_round_fedavg:259 - Start new fedavg collaborative round ...\n",
      "2020-08-10 13:28:35.284 | DEBUG    | pkg.multi_partner_learning:compute_collaborative_round_fedavg:271 - (fedavg) Minibatch n°2 of epoch n°1, init aggregated model for each partner with models from previous round\n"
     ]
    },
    {
     "name": "stderr",
     "output_type": "stream",
     "text": [
      "2020-08-10 13:28:43.491 | DEBUG    | pkg.multi_partner_learning:log_collaborative_round_partner_result:513 - Epoch 01/09 > Minibatch 02/02 > Partner id #0 (0/2) > val_acc: 0.63\n",
      "2020-08-10 13:28:48.700 | DEBUG    | pkg.multi_partner_learning:log_collaborative_round_partner_result:513 - Epoch 01/09 > Minibatch 02/02 > Partner id #1 (1/2) > val_acc: 0.64\n",
      "2020-08-10 13:28:54.429 | DEBUG    | pkg.multi_partner_learning:log_collaborative_round_partner_result:513 - Epoch 01/09 > Minibatch 02/02 > Partner id #2 (2/2) > val_acc: 0.64\n",
      "2020-08-10 13:28:54.433 | DEBUG    | pkg.multi_partner_learning:compute_collaborative_round_fedavg:303 - End of fedavg collaborative round.\n",
      "2020-08-10 13:28:56.584 | INFO     | pkg.multi_partner_learning:compute_test_score:184 -    Model evaluation at the end of the epoch: ['0.683', '0.635']\n",
      "2020-08-10 13:28:56.585 | DEBUG    | pkg.multi_partner_learning:compute_test_score:187 -       Checking if early stopping criteria are met:\n",
      "2020-08-10 13:28:56.586 | DEBUG    | pkg.multi_partner_learning:compute_test_score:197 -          -> Early stopping criteria are not met, continuing with training.\n",
      "2020-08-10 13:28:56.598 | DEBUG    | pkg.multi_partner_learning:compute_collaborative_round_fedavg:259 - Start new fedavg collaborative round ...\n",
      "2020-08-10 13:28:56.599 | DEBUG    | pkg.multi_partner_learning:compute_collaborative_round_fedavg:271 - (fedavg) Minibatch n°0 of epoch n°2, init aggregated model for each partner with models from previous round\n",
      "2020-08-10 13:29:04.729 | DEBUG    | pkg.multi_partner_learning:log_collaborative_round_partner_result:513 - Epoch 02/09 > Minibatch 00/02 > Partner id #0 (0/2) > val_acc: 0.64\n",
      "2020-08-10 13:29:10.934 | DEBUG    | pkg.multi_partner_learning:log_collaborative_round_partner_result:513 - Epoch 02/09 > Minibatch 00/02 > Partner id #1 (1/2) > val_acc: 0.63\n",
      "2020-08-10 13:29:16.491 | DEBUG    | pkg.multi_partner_learning:log_collaborative_round_partner_result:513 - Epoch 02/09 > Minibatch 00/02 > Partner id #2 (2/2) > val_acc: 0.63\n",
      "2020-08-10 13:29:16.495 | DEBUG    | pkg.multi_partner_learning:compute_collaborative_round_fedavg:303 - End of fedavg collaborative round.\n",
      "2020-08-10 13:29:16.496 | DEBUG    | pkg.multi_partner_learning:compute_collaborative_round_fedavg:259 - Start new fedavg collaborative round ...\n",
      "2020-08-10 13:29:16.496 | DEBUG    | pkg.multi_partner_learning:compute_collaborative_round_fedavg:271 - (fedavg) Minibatch n°1 of epoch n°2, init aggregated model for each partner with models from previous round\n",
      "2020-08-10 13:29:24.771 | DEBUG    | pkg.multi_partner_learning:log_collaborative_round_partner_result:513 - Epoch 02/09 > Minibatch 01/02 > Partner id #0 (0/2) > val_acc: 0.64\n",
      "2020-08-10 13:29:30.927 | DEBUG    | pkg.multi_partner_learning:log_collaborative_round_partner_result:513 - Epoch 02/09 > Minibatch 01/02 > Partner id #1 (1/2) > val_acc: 0.64\n",
      "2020-08-10 13:29:36.430 | DEBUG    | pkg.multi_partner_learning:log_collaborative_round_partner_result:513 - Epoch 02/09 > Minibatch 01/02 > Partner id #2 (2/2) > val_acc: 0.63\n",
      "2020-08-10 13:29:36.435 | DEBUG    | pkg.multi_partner_learning:compute_collaborative_round_fedavg:303 - End of fedavg collaborative round.\n",
      "2020-08-10 13:29:36.436 | DEBUG    | pkg.multi_partner_learning:compute_collaborative_round_fedavg:259 - Start new fedavg collaborative round ...\n",
      "2020-08-10 13:29:36.436 | DEBUG    | pkg.multi_partner_learning:compute_collaborative_round_fedavg:271 - (fedavg) Minibatch n°2 of epoch n°2, init aggregated model for each partner with models from previous round\n",
      "2020-08-10 13:29:44.522 | DEBUG    | pkg.multi_partner_learning:log_collaborative_round_partner_result:513 - Epoch 02/09 > Minibatch 02/02 > Partner id #0 (0/2) > val_acc: 0.65\n",
      "2020-08-10 13:29:50.150 | DEBUG    | pkg.multi_partner_learning:log_collaborative_round_partner_result:513 - Epoch 02/09 > Minibatch 02/02 > Partner id #1 (1/2) > val_acc: 0.64\n",
      "2020-08-10 13:29:56.402 | DEBUG    | pkg.multi_partner_learning:log_collaborative_round_partner_result:513 - Epoch 02/09 > Minibatch 02/02 > Partner id #2 (2/2) > val_acc: 0.64\n",
      "2020-08-10 13:29:56.406 | DEBUG    | pkg.multi_partner_learning:compute_collaborative_round_fedavg:303 - End of fedavg collaborative round.\n",
      "2020-08-10 13:29:58.698 | INFO     | pkg.multi_partner_learning:compute_test_score:184 -    Model evaluation at the end of the epoch: ['0.661', '0.645']\n",
      "2020-08-10 13:29:58.699 | DEBUG    | pkg.multi_partner_learning:compute_test_score:187 -       Checking if early stopping criteria are met:\n",
      "2020-08-10 13:29:58.700 | DEBUG    | pkg.multi_partner_learning:compute_test_score:197 -          -> Early stopping criteria are not met, continuing with training.\n",
      "2020-08-10 13:29:58.713 | DEBUG    | pkg.multi_partner_learning:compute_collaborative_round_fedavg:259 - Start new fedavg collaborative round ...\n",
      "2020-08-10 13:29:58.714 | DEBUG    | pkg.multi_partner_learning:compute_collaborative_round_fedavg:271 - (fedavg) Minibatch n°0 of epoch n°3, init aggregated model for each partner with models from previous round\n",
      "2020-08-10 13:30:07.296 | DEBUG    | pkg.multi_partner_learning:log_collaborative_round_partner_result:513 - Epoch 03/09 > Minibatch 00/02 > Partner id #0 (0/2) > val_acc: 0.64\n",
      "2020-08-10 13:30:13.163 | DEBUG    | pkg.multi_partner_learning:log_collaborative_round_partner_result:513 - Epoch 03/09 > Minibatch 00/02 > Partner id #1 (1/2) > val_acc: 0.65\n",
      "2020-08-10 13:30:19.059 | DEBUG    | pkg.multi_partner_learning:log_collaborative_round_partner_result:513 - Epoch 03/09 > Minibatch 00/02 > Partner id #2 (2/2) > val_acc: 0.65\n",
      "2020-08-10 13:30:19.063 | DEBUG    | pkg.multi_partner_learning:compute_collaborative_round_fedavg:303 - End of fedavg collaborative round.\n",
      "2020-08-10 13:30:19.064 | DEBUG    | pkg.multi_partner_learning:compute_collaborative_round_fedavg:259 - Start new fedavg collaborative round ...\n",
      "2020-08-10 13:30:19.065 | DEBUG    | pkg.multi_partner_learning:compute_collaborative_round_fedavg:271 - (fedavg) Minibatch n°1 of epoch n°3, init aggregated model for each partner with models from previous round\n",
      "2020-08-10 13:30:28.493 | DEBUG    | pkg.multi_partner_learning:log_collaborative_round_partner_result:513 - Epoch 03/09 > Minibatch 01/02 > Partner id #0 (0/2) > val_acc: 0.66\n",
      "2020-08-10 13:30:33.695 | DEBUG    | pkg.multi_partner_learning:log_collaborative_round_partner_result:513 - Epoch 03/09 > Minibatch 01/02 > Partner id #1 (1/2) > val_acc: 0.66\n",
      "2020-08-10 13:30:39.153 | DEBUG    | pkg.multi_partner_learning:log_collaborative_round_partner_result:513 - Epoch 03/09 > Minibatch 01/02 > Partner id #2 (2/2) > val_acc: 0.66\n",
      "2020-08-10 13:30:39.157 | DEBUG    | pkg.multi_partner_learning:compute_collaborative_round_fedavg:303 - End of fedavg collaborative round.\n",
      "2020-08-10 13:30:39.157 | DEBUG    | pkg.multi_partner_learning:compute_collaborative_round_fedavg:259 - Start new fedavg collaborative round ...\n",
      "2020-08-10 13:30:39.158 | DEBUG    | pkg.multi_partner_learning:compute_collaborative_round_fedavg:271 - (fedavg) Minibatch n°2 of epoch n°3, init aggregated model for each partner with models from previous round\n",
      "2020-08-10 13:30:47.543 | DEBUG    | pkg.multi_partner_learning:log_collaborative_round_partner_result:513 - Epoch 03/09 > Minibatch 02/02 > Partner id #0 (0/2) > val_acc: 0.67\n",
      "2020-08-10 13:30:53.172 | DEBUG    | pkg.multi_partner_learning:log_collaborative_round_partner_result:513 - Epoch 03/09 > Minibatch 02/02 > Partner id #1 (1/2) > val_acc: 0.67\n",
      "2020-08-10 13:30:58.913 | DEBUG    | pkg.multi_partner_learning:log_collaborative_round_partner_result:513 - Epoch 03/09 > Minibatch 02/02 > Partner id #2 (2/2) > val_acc: 0.67\n",
      "2020-08-10 13:30:58.917 | DEBUG    | pkg.multi_partner_learning:compute_collaborative_round_fedavg:303 - End of fedavg collaborative round.\n",
      "2020-08-10 13:31:01.201 | INFO     | pkg.multi_partner_learning:compute_test_score:184 -    Model evaluation at the end of the epoch: ['0.623', '0.672']\n",
      "2020-08-10 13:31:01.202 | DEBUG    | pkg.multi_partner_learning:compute_test_score:187 -       Checking if early stopping criteria are met:\n",
      "2020-08-10 13:31:01.202 | DEBUG    | pkg.multi_partner_learning:compute_test_score:197 -          -> Early stopping criteria are not met, continuing with training.\n"
     ]
    },
    {
     "name": "stderr",
     "output_type": "stream",
     "text": [
      "2020-08-10 13:31:01.214 | DEBUG    | pkg.multi_partner_learning:compute_collaborative_round_fedavg:259 - Start new fedavg collaborative round ...\n",
      "2020-08-10 13:31:01.215 | DEBUG    | pkg.multi_partner_learning:compute_collaborative_round_fedavg:271 - (fedavg) Minibatch n°0 of epoch n°4, init aggregated model for each partner with models from previous round\n",
      "2020-08-10 13:31:09.917 | DEBUG    | pkg.multi_partner_learning:log_collaborative_round_partner_result:513 - Epoch 04/09 > Minibatch 00/02 > Partner id #0 (0/2) > val_acc: 0.68\n",
      "2020-08-10 13:31:15.754 | DEBUG    | pkg.multi_partner_learning:log_collaborative_round_partner_result:513 - Epoch 04/09 > Minibatch 00/02 > Partner id #1 (1/2) > val_acc: 0.69\n",
      "2020-08-10 13:31:22.560 | DEBUG    | pkg.multi_partner_learning:log_collaborative_round_partner_result:513 - Epoch 04/09 > Minibatch 00/02 > Partner id #2 (2/2) > val_acc: 0.68\n",
      "2020-08-10 13:31:22.564 | DEBUG    | pkg.multi_partner_learning:compute_collaborative_round_fedavg:303 - End of fedavg collaborative round.\n",
      "2020-08-10 13:31:22.565 | DEBUG    | pkg.multi_partner_learning:compute_collaborative_round_fedavg:259 - Start new fedavg collaborative round ...\n",
      "2020-08-10 13:31:22.566 | DEBUG    | pkg.multi_partner_learning:compute_collaborative_round_fedavg:271 - (fedavg) Minibatch n°1 of epoch n°4, init aggregated model for each partner with models from previous round\n",
      "2020-08-10 13:31:31.455 | DEBUG    | pkg.multi_partner_learning:log_collaborative_round_partner_result:513 - Epoch 04/09 > Minibatch 01/02 > Partner id #0 (0/2) > val_acc: 0.7\n",
      "2020-08-10 13:31:37.022 | DEBUG    | pkg.multi_partner_learning:log_collaborative_round_partner_result:513 - Epoch 04/09 > Minibatch 01/02 > Partner id #1 (1/2) > val_acc: 0.7\n",
      "2020-08-10 13:31:42.895 | DEBUG    | pkg.multi_partner_learning:log_collaborative_round_partner_result:513 - Epoch 04/09 > Minibatch 01/02 > Partner id #2 (2/2) > val_acc: 0.7\n",
      "2020-08-10 13:31:42.899 | DEBUG    | pkg.multi_partner_learning:compute_collaborative_round_fedavg:303 - End of fedavg collaborative round.\n",
      "2020-08-10 13:31:42.899 | DEBUG    | pkg.multi_partner_learning:compute_collaborative_round_fedavg:259 - Start new fedavg collaborative round ...\n",
      "2020-08-10 13:31:42.900 | DEBUG    | pkg.multi_partner_learning:compute_collaborative_round_fedavg:271 - (fedavg) Minibatch n°2 of epoch n°4, init aggregated model for each partner with models from previous round\n",
      "2020-08-10 13:31:51.750 | DEBUG    | pkg.multi_partner_learning:log_collaborative_round_partner_result:513 - Epoch 04/09 > Minibatch 02/02 > Partner id #0 (0/2) > val_acc: 0.72\n",
      "2020-08-10 13:31:57.232 | DEBUG    | pkg.multi_partner_learning:log_collaborative_round_partner_result:513 - Epoch 04/09 > Minibatch 02/02 > Partner id #1 (1/2) > val_acc: 0.72\n",
      "2020-08-10 13:32:02.907 | DEBUG    | pkg.multi_partner_learning:log_collaborative_round_partner_result:513 - Epoch 04/09 > Minibatch 02/02 > Partner id #2 (2/2) > val_acc: 0.72\n",
      "2020-08-10 13:32:02.911 | DEBUG    | pkg.multi_partner_learning:compute_collaborative_round_fedavg:303 - End of fedavg collaborative round.\n",
      "2020-08-10 13:32:05.073 | INFO     | pkg.multi_partner_learning:compute_test_score:184 -    Model evaluation at the end of the epoch: ['0.574', '0.720']\n",
      "2020-08-10 13:32:05.074 | DEBUG    | pkg.multi_partner_learning:compute_test_score:187 -       Checking if early stopping criteria are met:\n",
      "2020-08-10 13:32:05.074 | DEBUG    | pkg.multi_partner_learning:compute_test_score:197 -          -> Early stopping criteria are not met, continuing with training.\n",
      "2020-08-10 13:32:05.087 | DEBUG    | pkg.multi_partner_learning:compute_collaborative_round_fedavg:259 - Start new fedavg collaborative round ...\n",
      "2020-08-10 13:32:05.087 | DEBUG    | pkg.multi_partner_learning:compute_collaborative_round_fedavg:271 - (fedavg) Minibatch n°0 of epoch n°5, init aggregated model for each partner with models from previous round\n",
      "2020-08-10 13:32:13.250 | DEBUG    | pkg.multi_partner_learning:log_collaborative_round_partner_result:513 - Epoch 05/09 > Minibatch 00/02 > Partner id #0 (0/2) > val_acc: 0.73\n",
      "2020-08-10 13:32:19.836 | DEBUG    | pkg.multi_partner_learning:log_collaborative_round_partner_result:513 - Epoch 05/09 > Minibatch 00/02 > Partner id #1 (1/2) > val_acc: 0.73\n",
      "2020-08-10 13:32:25.695 | DEBUG    | pkg.multi_partner_learning:log_collaborative_round_partner_result:513 - Epoch 05/09 > Minibatch 00/02 > Partner id #2 (2/2) > val_acc: 0.73\n",
      "2020-08-10 13:32:25.699 | DEBUG    | pkg.multi_partner_learning:compute_collaborative_round_fedavg:303 - End of fedavg collaborative round.\n",
      "2020-08-10 13:32:25.700 | DEBUG    | pkg.multi_partner_learning:compute_collaborative_round_fedavg:259 - Start new fedavg collaborative round ...\n",
      "2020-08-10 13:32:25.700 | DEBUG    | pkg.multi_partner_learning:compute_collaborative_round_fedavg:271 - (fedavg) Minibatch n°1 of epoch n°5, init aggregated model for each partner with models from previous round\n",
      "2020-08-10 13:32:34.285 | DEBUG    | pkg.multi_partner_learning:log_collaborative_round_partner_result:513 - Epoch 05/09 > Minibatch 01/02 > Partner id #0 (0/2) > val_acc: 0.74\n",
      "2020-08-10 13:32:40.560 | DEBUG    | pkg.multi_partner_learning:log_collaborative_round_partner_result:513 - Epoch 05/09 > Minibatch 01/02 > Partner id #1 (1/2) > val_acc: 0.74\n",
      "2020-08-10 13:32:46.654 | DEBUG    | pkg.multi_partner_learning:log_collaborative_round_partner_result:513 - Epoch 05/09 > Minibatch 01/02 > Partner id #2 (2/2) > val_acc: 0.74\n",
      "2020-08-10 13:32:46.659 | DEBUG    | pkg.multi_partner_learning:compute_collaborative_round_fedavg:303 - End of fedavg collaborative round.\n",
      "2020-08-10 13:32:46.660 | DEBUG    | pkg.multi_partner_learning:compute_collaborative_round_fedavg:259 - Start new fedavg collaborative round ...\n",
      "2020-08-10 13:32:46.661 | DEBUG    | pkg.multi_partner_learning:compute_collaborative_round_fedavg:271 - (fedavg) Minibatch n°2 of epoch n°5, init aggregated model for each partner with models from previous round\n",
      "2020-08-10 13:32:55.187 | DEBUG    | pkg.multi_partner_learning:log_collaborative_round_partner_result:513 - Epoch 05/09 > Minibatch 02/02 > Partner id #0 (0/2) > val_acc: 0.75\n",
      "2020-08-10 13:33:00.615 | DEBUG    | pkg.multi_partner_learning:log_collaborative_round_partner_result:513 - Epoch 05/09 > Minibatch 02/02 > Partner id #1 (1/2) > val_acc: 0.74\n",
      "2020-08-10 13:33:06.629 | DEBUG    | pkg.multi_partner_learning:log_collaborative_round_partner_result:513 - Epoch 05/09 > Minibatch 02/02 > Partner id #2 (2/2) > val_acc: 0.74\n",
      "2020-08-10 13:33:06.633 | DEBUG    | pkg.multi_partner_learning:compute_collaborative_round_fedavg:303 - End of fedavg collaborative round.\n",
      "2020-08-10 13:33:08.785 | INFO     | pkg.multi_partner_learning:compute_test_score:184 -    Model evaluation at the end of the epoch: ['0.546', '0.744']\n",
      "2020-08-10 13:33:08.786 | DEBUG    | pkg.multi_partner_learning:compute_test_score:187 -       Checking if early stopping criteria are met:\n",
      "2020-08-10 13:33:08.786 | DEBUG    | pkg.multi_partner_learning:compute_test_score:197 -          -> Early stopping criteria are not met, continuing with training.\n",
      "2020-08-10 13:33:08.799 | DEBUG    | pkg.multi_partner_learning:compute_collaborative_round_fedavg:259 - Start new fedavg collaborative round ...\n",
      "2020-08-10 13:33:08.800 | DEBUG    | pkg.multi_partner_learning:compute_collaborative_round_fedavg:271 - (fedavg) Minibatch n°0 of epoch n°6, init aggregated model for each partner with models from previous round\n",
      "2020-08-10 13:33:16.702 | DEBUG    | pkg.multi_partner_learning:log_collaborative_round_partner_result:513 - Epoch 06/09 > Minibatch 00/02 > Partner id #0 (0/2) > val_acc: 0.75\n",
      "2020-08-10 13:33:21.869 | DEBUG    | pkg.multi_partner_learning:log_collaborative_round_partner_result:513 - Epoch 06/09 > Minibatch 00/02 > Partner id #1 (1/2) > val_acc: 0.74\n",
      "2020-08-10 13:33:27.210 | DEBUG    | pkg.multi_partner_learning:log_collaborative_round_partner_result:513 - Epoch 06/09 > Minibatch 00/02 > Partner id #2 (2/2) > val_acc: 0.74\n",
      "2020-08-10 13:33:27.213 | DEBUG    | pkg.multi_partner_learning:compute_collaborative_round_fedavg:303 - End of fedavg collaborative round.\n",
      "2020-08-10 13:33:27.214 | DEBUG    | pkg.multi_partner_learning:compute_collaborative_round_fedavg:259 - Start new fedavg collaborative round ...\n"
     ]
    },
    {
     "name": "stderr",
     "output_type": "stream",
     "text": [
      "2020-08-10 13:33:27.214 | DEBUG    | pkg.multi_partner_learning:compute_collaborative_round_fedavg:271 - (fedavg) Minibatch n°1 of epoch n°6, init aggregated model for each partner with models from previous round\n",
      "2020-08-10 13:33:36.535 | DEBUG    | pkg.multi_partner_learning:log_collaborative_round_partner_result:513 - Epoch 06/09 > Minibatch 01/02 > Partner id #0 (0/2) > val_acc: 0.74\n",
      "2020-08-10 13:33:42.275 | DEBUG    | pkg.multi_partner_learning:log_collaborative_round_partner_result:513 - Epoch 06/09 > Minibatch 01/02 > Partner id #1 (1/2) > val_acc: 0.76\n",
      "2020-08-10 13:33:48.197 | DEBUG    | pkg.multi_partner_learning:log_collaborative_round_partner_result:513 - Epoch 06/09 > Minibatch 01/02 > Partner id #2 (2/2) > val_acc: 0.75\n",
      "2020-08-10 13:33:48.201 | DEBUG    | pkg.multi_partner_learning:compute_collaborative_round_fedavg:303 - End of fedavg collaborative round.\n",
      "2020-08-10 13:33:48.203 | DEBUG    | pkg.multi_partner_learning:compute_collaborative_round_fedavg:259 - Start new fedavg collaborative round ...\n",
      "2020-08-10 13:33:48.204 | DEBUG    | pkg.multi_partner_learning:compute_collaborative_round_fedavg:271 - (fedavg) Minibatch n°2 of epoch n°6, init aggregated model for each partner with models from previous round\n",
      "2020-08-10 13:33:56.880 | DEBUG    | pkg.multi_partner_learning:log_collaborative_round_partner_result:513 - Epoch 06/09 > Minibatch 02/02 > Partner id #0 (0/2) > val_acc: 0.75\n",
      "2020-08-10 13:34:02.835 | DEBUG    | pkg.multi_partner_learning:log_collaborative_round_partner_result:513 - Epoch 06/09 > Minibatch 02/02 > Partner id #1 (1/2) > val_acc: 0.76\n",
      "2020-08-10 13:34:08.508 | DEBUG    | pkg.multi_partner_learning:log_collaborative_round_partner_result:513 - Epoch 06/09 > Minibatch 02/02 > Partner id #2 (2/2) > val_acc: 0.76\n",
      "2020-08-10 13:34:08.511 | DEBUG    | pkg.multi_partner_learning:compute_collaborative_round_fedavg:303 - End of fedavg collaborative round.\n",
      "2020-08-10 13:34:10.686 | INFO     | pkg.multi_partner_learning:compute_test_score:184 -    Model evaluation at the end of the epoch: ['0.529', '0.753']\n",
      "2020-08-10 13:34:10.687 | DEBUG    | pkg.multi_partner_learning:compute_test_score:187 -       Checking if early stopping criteria are met:\n",
      "2020-08-10 13:34:10.687 | DEBUG    | pkg.multi_partner_learning:compute_test_score:197 -          -> Early stopping criteria are not met, continuing with training.\n",
      "2020-08-10 13:34:10.701 | DEBUG    | pkg.multi_partner_learning:compute_collaborative_round_fedavg:259 - Start new fedavg collaborative round ...\n",
      "2020-08-10 13:34:10.702 | DEBUG    | pkg.multi_partner_learning:compute_collaborative_round_fedavg:271 - (fedavg) Minibatch n°0 of epoch n°7, init aggregated model for each partner with models from previous round\n",
      "2020-08-10 13:34:18.885 | DEBUG    | pkg.multi_partner_learning:log_collaborative_round_partner_result:513 - Epoch 07/09 > Minibatch 00/02 > Partner id #0 (0/2) > val_acc: 0.76\n",
      "2020-08-10 13:34:24.483 | DEBUG    | pkg.multi_partner_learning:log_collaborative_round_partner_result:513 - Epoch 07/09 > Minibatch 00/02 > Partner id #1 (1/2) > val_acc: 0.76\n",
      "2020-08-10 13:34:30.343 | DEBUG    | pkg.multi_partner_learning:log_collaborative_round_partner_result:513 - Epoch 07/09 > Minibatch 00/02 > Partner id #2 (2/2) > val_acc: 0.76\n",
      "2020-08-10 13:34:30.347 | DEBUG    | pkg.multi_partner_learning:compute_collaborative_round_fedavg:303 - End of fedavg collaborative round.\n",
      "2020-08-10 13:34:30.348 | DEBUG    | pkg.multi_partner_learning:compute_collaborative_round_fedavg:259 - Start new fedavg collaborative round ...\n",
      "2020-08-10 13:34:30.348 | DEBUG    | pkg.multi_partner_learning:compute_collaborative_round_fedavg:271 - (fedavg) Minibatch n°1 of epoch n°7, init aggregated model for each partner with models from previous round\n",
      "2020-08-10 13:34:39.708 | DEBUG    | pkg.multi_partner_learning:log_collaborative_round_partner_result:513 - Epoch 07/09 > Minibatch 01/02 > Partner id #0 (0/2) > val_acc: 0.75\n",
      "2020-08-10 13:34:45.355 | DEBUG    | pkg.multi_partner_learning:log_collaborative_round_partner_result:513 - Epoch 07/09 > Minibatch 01/02 > Partner id #1 (1/2) > val_acc: 0.76\n",
      "2020-08-10 13:34:51.059 | DEBUG    | pkg.multi_partner_learning:log_collaborative_round_partner_result:513 - Epoch 07/09 > Minibatch 01/02 > Partner id #2 (2/2) > val_acc: 0.76\n",
      "2020-08-10 13:34:51.063 | DEBUG    | pkg.multi_partner_learning:compute_collaborative_round_fedavg:303 - End of fedavg collaborative round.\n",
      "2020-08-10 13:34:51.064 | DEBUG    | pkg.multi_partner_learning:compute_collaborative_round_fedavg:259 - Start new fedavg collaborative round ...\n",
      "2020-08-10 13:34:51.064 | DEBUG    | pkg.multi_partner_learning:compute_collaborative_round_fedavg:271 - (fedavg) Minibatch n°2 of epoch n°7, init aggregated model for each partner with models from previous round\n",
      "2020-08-10 13:34:59.957 | DEBUG    | pkg.multi_partner_learning:log_collaborative_round_partner_result:513 - Epoch 07/09 > Minibatch 02/02 > Partner id #0 (0/2) > val_acc: 0.76\n",
      "2020-08-10 13:35:05.698 | DEBUG    | pkg.multi_partner_learning:log_collaborative_round_partner_result:513 - Epoch 07/09 > Minibatch 02/02 > Partner id #1 (1/2) > val_acc: 0.76\n",
      "2020-08-10 13:35:11.902 | DEBUG    | pkg.multi_partner_learning:log_collaborative_round_partner_result:513 - Epoch 07/09 > Minibatch 02/02 > Partner id #2 (2/2) > val_acc: 0.76\n",
      "2020-08-10 13:35:11.907 | DEBUG    | pkg.multi_partner_learning:compute_collaborative_round_fedavg:303 - End of fedavg collaborative round.\n",
      "2020-08-10 13:35:14.200 | INFO     | pkg.multi_partner_learning:compute_test_score:184 -    Model evaluation at the end of the epoch: ['0.516', '0.761']\n",
      "2020-08-10 13:35:14.201 | DEBUG    | pkg.multi_partner_learning:compute_test_score:187 -       Checking if early stopping criteria are met:\n",
      "2020-08-10 13:35:14.202 | DEBUG    | pkg.multi_partner_learning:compute_test_score:197 -          -> Early stopping criteria are not met, continuing with training.\n",
      "2020-08-10 13:35:14.215 | DEBUG    | pkg.multi_partner_learning:compute_collaborative_round_fedavg:259 - Start new fedavg collaborative round ...\n",
      "2020-08-10 13:35:14.216 | DEBUG    | pkg.multi_partner_learning:compute_collaborative_round_fedavg:271 - (fedavg) Minibatch n°0 of epoch n°8, init aggregated model for each partner with models from previous round\n",
      "2020-08-10 13:35:22.324 | DEBUG    | pkg.multi_partner_learning:log_collaborative_round_partner_result:513 - Epoch 08/09 > Minibatch 00/02 > Partner id #0 (0/2) > val_acc: 0.76\n",
      "2020-08-10 13:35:28.976 | DEBUG    | pkg.multi_partner_learning:log_collaborative_round_partner_result:513 - Epoch 08/09 > Minibatch 00/02 > Partner id #1 (1/2) > val_acc: 0.77\n",
      "2020-08-10 13:35:34.744 | DEBUG    | pkg.multi_partner_learning:log_collaborative_round_partner_result:513 - Epoch 08/09 > Minibatch 00/02 > Partner id #2 (2/2) > val_acc: 0.76\n",
      "2020-08-10 13:35:34.748 | DEBUG    | pkg.multi_partner_learning:compute_collaborative_round_fedavg:303 - End of fedavg collaborative round.\n",
      "2020-08-10 13:35:34.749 | DEBUG    | pkg.multi_partner_learning:compute_collaborative_round_fedavg:259 - Start new fedavg collaborative round ...\n",
      "2020-08-10 13:35:34.750 | DEBUG    | pkg.multi_partner_learning:compute_collaborative_round_fedavg:271 - (fedavg) Minibatch n°1 of epoch n°8, init aggregated model for each partner with models from previous round\n",
      "2020-08-10 13:35:42.888 | DEBUG    | pkg.multi_partner_learning:log_collaborative_round_partner_result:513 - Epoch 08/09 > Minibatch 01/02 > Partner id #0 (0/2) > val_acc: 0.76\n",
      "2020-08-10 13:35:48.643 | DEBUG    | pkg.multi_partner_learning:log_collaborative_round_partner_result:513 - Epoch 08/09 > Minibatch 01/02 > Partner id #1 (1/2) > val_acc: 0.76\n",
      "2020-08-10 13:35:54.166 | DEBUG    | pkg.multi_partner_learning:log_collaborative_round_partner_result:513 - Epoch 08/09 > Minibatch 01/02 > Partner id #2 (2/2) > val_acc: 0.77\n",
      "2020-08-10 13:35:54.169 | DEBUG    | pkg.multi_partner_learning:compute_collaborative_round_fedavg:303 - End of fedavg collaborative round.\n",
      "2020-08-10 13:35:54.170 | DEBUG    | pkg.multi_partner_learning:compute_collaborative_round_fedavg:259 - Start new fedavg collaborative round ...\n",
      "2020-08-10 13:35:54.170 | DEBUG    | pkg.multi_partner_learning:compute_collaborative_round_fedavg:271 - (fedavg) Minibatch n°2 of epoch n°8, init aggregated model for each partner with models from previous round\n"
     ]
    },
    {
     "name": "stderr",
     "output_type": "stream",
     "text": [
      "2020-08-10 13:36:02.174 | DEBUG    | pkg.multi_partner_learning:log_collaborative_round_partner_result:513 - Epoch 08/09 > Minibatch 02/02 > Partner id #0 (0/2) > val_acc: 0.77\n",
      "2020-08-10 13:36:07.849 | DEBUG    | pkg.multi_partner_learning:log_collaborative_round_partner_result:513 - Epoch 08/09 > Minibatch 02/02 > Partner id #1 (1/2) > val_acc: 0.77\n",
      "2020-08-10 13:36:14.289 | DEBUG    | pkg.multi_partner_learning:log_collaborative_round_partner_result:513 - Epoch 08/09 > Minibatch 02/02 > Partner id #2 (2/2) > val_acc: 0.76\n",
      "2020-08-10 13:36:14.293 | DEBUG    | pkg.multi_partner_learning:compute_collaborative_round_fedavg:303 - End of fedavg collaborative round.\n",
      "2020-08-10 13:36:16.460 | INFO     | pkg.multi_partner_learning:compute_test_score:184 -    Model evaluation at the end of the epoch: ['0.507', '0.767']\n",
      "2020-08-10 13:36:16.461 | DEBUG    | pkg.multi_partner_learning:compute_test_score:187 -       Checking if early stopping criteria are met:\n",
      "2020-08-10 13:36:16.462 | DEBUG    | pkg.multi_partner_learning:compute_test_score:197 -          -> Early stopping criteria are not met, continuing with training.\n",
      "2020-08-10 13:36:16.473 | DEBUG    | pkg.multi_partner_learning:compute_collaborative_round_fedavg:259 - Start new fedavg collaborative round ...\n",
      "2020-08-10 13:36:16.474 | DEBUG    | pkg.multi_partner_learning:compute_collaborative_round_fedavg:271 - (fedavg) Minibatch n°0 of epoch n°9, init aggregated model for each partner with models from previous round\n",
      "2020-08-10 13:36:24.800 | DEBUG    | pkg.multi_partner_learning:log_collaborative_round_partner_result:513 - Epoch 09/09 > Minibatch 00/02 > Partner id #0 (0/2) > val_acc: 0.77\n",
      "2020-08-10 13:36:30.292 | DEBUG    | pkg.multi_partner_learning:log_collaborative_round_partner_result:513 - Epoch 09/09 > Minibatch 00/02 > Partner id #1 (1/2) > val_acc: 0.77\n",
      "2020-08-10 13:36:36.250 | DEBUG    | pkg.multi_partner_learning:log_collaborative_round_partner_result:513 - Epoch 09/09 > Minibatch 00/02 > Partner id #2 (2/2) > val_acc: 0.76\n",
      "2020-08-10 13:36:36.254 | DEBUG    | pkg.multi_partner_learning:compute_collaborative_round_fedavg:303 - End of fedavg collaborative round.\n",
      "2020-08-10 13:36:36.255 | DEBUG    | pkg.multi_partner_learning:compute_collaborative_round_fedavg:259 - Start new fedavg collaborative round ...\n",
      "2020-08-10 13:36:36.255 | DEBUG    | pkg.multi_partner_learning:compute_collaborative_round_fedavg:271 - (fedavg) Minibatch n°1 of epoch n°9, init aggregated model for each partner with models from previous round\n",
      "2020-08-10 13:36:45.686 | DEBUG    | pkg.multi_partner_learning:log_collaborative_round_partner_result:513 - Epoch 09/09 > Minibatch 01/02 > Partner id #0 (0/2) > val_acc: 0.77\n",
      "2020-08-10 13:36:51.325 | DEBUG    | pkg.multi_partner_learning:log_collaborative_round_partner_result:513 - Epoch 09/09 > Minibatch 01/02 > Partner id #1 (1/2) > val_acc: 0.77\n",
      "2020-08-10 13:36:57.212 | DEBUG    | pkg.multi_partner_learning:log_collaborative_round_partner_result:513 - Epoch 09/09 > Minibatch 01/02 > Partner id #2 (2/2) > val_acc: 0.76\n",
      "2020-08-10 13:36:57.216 | DEBUG    | pkg.multi_partner_learning:compute_collaborative_round_fedavg:303 - End of fedavg collaborative round.\n",
      "2020-08-10 13:36:57.217 | DEBUG    | pkg.multi_partner_learning:compute_collaborative_round_fedavg:259 - Start new fedavg collaborative round ...\n",
      "2020-08-10 13:36:57.217 | DEBUG    | pkg.multi_partner_learning:compute_collaborative_round_fedavg:271 - (fedavg) Minibatch n°2 of epoch n°9, init aggregated model for each partner with models from previous round\n",
      "2020-08-10 13:37:05.858 | DEBUG    | pkg.multi_partner_learning:log_collaborative_round_partner_result:513 - Epoch 09/09 > Minibatch 02/02 > Partner id #0 (0/2) > val_acc: 0.77\n",
      "2020-08-10 13:37:11.746 | DEBUG    | pkg.multi_partner_learning:log_collaborative_round_partner_result:513 - Epoch 09/09 > Minibatch 02/02 > Partner id #1 (1/2) > val_acc: 0.77\n",
      "2020-08-10 13:37:17.306 | DEBUG    | pkg.multi_partner_learning:log_collaborative_round_partner_result:513 - Epoch 09/09 > Minibatch 02/02 > Partner id #2 (2/2) > val_acc: 0.77\n",
      "2020-08-10 13:37:17.310 | DEBUG    | pkg.multi_partner_learning:compute_collaborative_round_fedavg:303 - End of fedavg collaborative round.\n",
      "2020-08-10 13:37:19.525 | INFO     | pkg.multi_partner_learning:compute_test_score:184 -    Model evaluation at the end of the epoch: ['0.499', '0.773']\n",
      "2020-08-10 13:37:19.526 | DEBUG    | pkg.multi_partner_learning:compute_test_score:187 -       Checking if early stopping criteria are met:\n",
      "2020-08-10 13:37:19.526 | DEBUG    | pkg.multi_partner_learning:compute_test_score:197 -          -> Early stopping criteria are not met, continuing with training.\n",
      "2020-08-10 13:37:19.527 | INFO     | pkg.multi_partner_learning:compute_test_score:200 - ### Evaluating model on test data:\n",
      "2020-08-10 13:37:22.607 | INFO     | pkg.multi_partner_learning:compute_test_score:203 -    Model metrics names: ['loss', 'accuracy']\n",
      "2020-08-10 13:37:22.608 | INFO     | pkg.multi_partner_learning:compute_test_score:204 -    Model metrics values: ['0.503', '0.771']\n",
      "2020-08-10 13:37:22.762 | INFO     | pkg.multi_partner_learning:compute_test_score:212 - Training and evaluation on multiple partners: done.\n"
     ]
    },
    {
     "data": {
      "text/plain": [
       "0"
      ]
     },
     "execution_count": 20,
     "metadata": {},
     "output_type": "execute_result"
    }
   ],
   "source": [
    "main.run_scenario(current_scenario)"
   ]
  },
  {
   "cell_type": "markdown",
   "metadata": {},
   "source": [
    "# Results"
   ]
  },
  {
   "cell_type": "code",
   "execution_count": 21,
   "metadata": {},
   "outputs": [
    {
     "name": "stdout",
     "output_type": "stream",
     "text": [
      "Index(['aggregation_weighting', 'dataset_fraction_per_partner', 'dataset_name',\n",
      "       'epoch_count', 'final_relative_nb_samples',\n",
      "       'gradient_updates_per_pass_count', 'is_early_stopping',\n",
      "       'learning_computation_time_sec', 'minibatch_count',\n",
      "       'mpl_nb_epochs_done', 'mpl_test_score',\n",
      "       'multi_partner_learning_approach', 'nb_samples_used', 'partners_count',\n",
      "       'samples_split_description', 'scenario_name', 'short_scenario_name',\n",
      "       'test_data_samples_count', 'train_data_samples_count', 'random_state',\n",
      "       'scenario_id'],\n",
      "      dtype='object')\n"
     ]
    }
   ],
   "source": [
    "df_results = current_scenario.to_dataframe()\n",
    "df_results[\"random_state\"] = 1\n",
    "df_results[\"scenario_id\"] = 1\n",
    "print(df_results.columns)"
   ]
  },
  {
   "cell_type": "code",
   "execution_count": 22,
   "metadata": {},
   "outputs": [
    {
     "name": "stdout",
     "output_type": "stream",
     "text": [
      "0    0.77085\n",
      "Name: mpl_test_score, dtype: float64\n"
     ]
    }
   ],
   "source": [
    "print(df_results.mpl_test_score)"
   ]
  },
  {
   "cell_type": "code",
   "execution_count": 23,
   "metadata": {},
   "outputs": [
    {
     "name": "stdout",
     "output_type": "stream",
     "text": [
      "<pkg.multi_partner_learning.MultiPartnerLearning object at 0x000002D3FA65C648>\n"
     ]
    }
   ],
   "source": [
    "print(current_scenario.mpl)"
   ]
  },
  {
   "cell_type": "markdown",
   "metadata": {},
   "source": [
    "# Extract model "
   ]
  },
  {
   "cell_type": "code",
   "execution_count": 24,
   "metadata": {},
   "outputs": [],
   "source": [
    "model = current_scenario.mpl.get_model()"
   ]
  },
  {
   "cell_type": "code",
   "execution_count": 25,
   "metadata": {},
   "outputs": [
    {
     "name": "stdout",
     "output_type": "stream",
     "text": [
      "40000/40000 [==============================] - 25s 631us/step\n"
     ]
    },
    {
     "data": {
      "text/plain": [
       "[0.5026198272585869, 0.7708500027656555]"
      ]
     },
     "execution_count": 25,
     "metadata": {},
     "output_type": "execute_result"
    }
   ],
   "source": [
    "model.evaluate(X_test, preprocess_dataset_labels(y_test))"
   ]
  },
  {
   "cell_type": "markdown",
   "metadata": {},
   "source": [
    "Seems nice as a federated learning result"
   ]
  },
  {
   "cell_type": "code",
   "execution_count": null,
   "metadata": {},
   "outputs": [],
   "source": []
  },
  {
   "cell_type": "code",
   "execution_count": null,
   "metadata": {},
   "outputs": [],
   "source": []
  },
  {
   "cell_type": "code",
   "execution_count": null,
   "metadata": {},
   "outputs": [],
   "source": []
  },
  {
   "cell_type": "code",
   "execution_count": null,
   "metadata": {},
   "outputs": [],
   "source": []
  },
  {
   "cell_type": "code",
   "execution_count": null,
   "metadata": {},
   "outputs": [],
   "source": []
  },
  {
   "cell_type": "code",
   "execution_count": null,
   "metadata": {},
   "outputs": [],
   "source": []
  },
  {
   "cell_type": "code",
   "execution_count": null,
   "metadata": {},
   "outputs": [],
   "source": []
  },
  {
   "cell_type": "code",
   "execution_count": null,
   "metadata": {},
   "outputs": [],
   "source": []
  }
 ],
 "metadata": {
  "kernelspec": {
   "display_name": "Python 3",
   "language": "python",
   "name": "python3"
  },
  "language_info": {
   "codemirror_mode": {
    "name": "ipython",
    "version": 3
   },
   "file_extension": ".py",
   "mimetype": "text/x-python",
   "name": "python",
   "nbconvert_exporter": "python",
   "pygments_lexer": "ipython3",
   "version": "3.7.6"
  }
 },
 "nbformat": 4,
 "nbformat_minor": 4
}
