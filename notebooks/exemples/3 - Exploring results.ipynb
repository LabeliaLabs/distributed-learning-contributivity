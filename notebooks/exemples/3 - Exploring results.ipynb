{
 "cells": [
  {
   "cell_type": "markdown",
   "metadata": {},
   "source": [
    "# Exploring metrics after training\n",
    "\n",
    "With this exemple, we dive deeper into our results and compare each partner performance against the federated model"
   ]
  },
  {
   "cell_type": "code",
   "execution_count": 1,
   "metadata": {},
   "outputs": [
    {
     "name": "stderr",
     "output_type": "stream",
     "text": [
      "Using TensorFlow backend.\n"
     ]
    }
   ],
   "source": [
    "# imports\n",
    "import numpy as np\n",
    "from pathlib import Path\n",
    "import pandas as pd\n",
    "import seaborn as sns\n",
    "sns.set()\n",
    "\n",
    "from keras.models import Sequential\n",
    "from keras.layers import Dense, Dropout, Activation, Flatten, Conv2D, MaxPooling2D\n",
    "from keras.utils import np_utils\n",
    "from keras.datasets import mnist\n",
    "\n",
    "# Object and methodes needed in order to run a collaborative round\n",
    "from pkg.dataset import Dataset\n",
    "from pkg.scenario import Scenario\n",
    "from pkg.main import run_scenario"
   ]
  },
  {
   "cell_type": "markdown",
   "metadata": {},
   "source": [
    "## quick scenario run "
   ]
  },
  {
   "cell_type": "code",
   "execution_count": 2,
   "metadata": {},
   "outputs": [
    {
     "name": "stderr",
     "output_type": "stream",
     "text": [
      "2020-08-13 10:21:35.152 | DEBUG    | pkg.scenario:__init__:52 - Dataset selected: mnist\n",
      "2020-08-13 10:21:35.153 | DEBUG    | pkg.scenario:__init__:87 - Computation use the full dataset for scenario #1\n",
      "2020-08-13 10:21:35.231 | INFO     | pkg.scenario:__init__:279 - ### Description of data scenario configured:\n",
      "2020-08-13 10:21:35.232 | INFO     | pkg.scenario:__init__:280 -    Number of partners defined: 3\n",
      "2020-08-13 10:21:35.233 | INFO     | pkg.scenario:__init__:281 -    Data distribution scenario chosen: random\n",
      "2020-08-13 10:21:35.233 | INFO     | pkg.scenario:__init__:282 -    Multi-partner learning approach: fedavg\n",
      "2020-08-13 10:21:35.233 | INFO     | pkg.scenario:__init__:283 -    Weighting option: uniform\n",
      "2020-08-13 10:21:35.234 | INFO     | pkg.scenario:__init__:284 -    Iterations parameters: 20 epochs > 3 mini-batches > 8 gradient updates per pass\n",
      "2020-08-13 10:21:35.235 | INFO     | pkg.scenario:__init__:290 - ### Data loaded: mnist\n",
      "2020-08-13 10:21:35.235 | INFO     | pkg.scenario:__init__:291 -    48000 train data with 48000 labels\n",
      "2020-08-13 10:21:35.236 | INFO     | pkg.scenario:__init__:292 -    12000 val data with 12000 labels\n",
      "2020-08-13 10:21:35.236 | INFO     | pkg.scenario:__init__:293 -    10000 test data with 10000 labels\n"
     ]
    }
   ],
   "source": [
    "scenario_params = {\n",
    "    'partners_count': 3,\n",
    "    'amounts_per_partner': [0.2, 0.5, 0.3],\n",
    "}\n",
    "\n",
    "scenario_params['epoch_count'] = 20\n",
    "scenario_params['minibatch_count'] = 3\n",
    "\n",
    "experiment_path = Path(r\"C:\\GitHub\\distributed-learning-contributivity\\experiments\\MNIST_experiment\")\n",
    "\n",
    "current_scenario = Scenario(\n",
    "        scenario_params,\n",
    "        experiment_path\n",
    "    )\n",
    "\n",
    "(X_train, y_train), (X_test, y_test) = mnist.load_data()\n",
    "\n",
    "X_train = X_train.reshape(X_train.shape[0],  28, 28, 1)\n",
    "X_test = X_test.reshape(X_test.shape[0], 28, 28, 1)\n",
    "X_train = X_train.astype('float32')\n",
    "X_test = X_test.astype('float32')\n",
    "X_train /= 255\n",
    "X_test /= 255\n",
    "\n",
    "input_shape = (28, 28, 1)\n",
    "num_classes = 10\n",
    "\n",
    "\n",
    "def preprocess_dataset_labels(y):\n",
    "    y = np_utils.to_categorical(y, 10)\n",
    "    return y\n",
    "\n",
    "\n",
    "def generate_new_model_for_dataset():\n",
    "    model = Sequential()\n",
    "    # add Convolutional layers\n",
    "    model.add(Conv2D(filters=32, kernel_size=(3,3), activation='relu', padding='same',\n",
    "                     input_shape=input_shape))\n",
    "    model.add(MaxPooling2D(pool_size=(2,2)))\n",
    "    model.add(Conv2D(filters=64, kernel_size=(3,3), activation='relu', padding='same'))\n",
    "    model.add(MaxPooling2D(pool_size=(2,2)))\n",
    "    model.add(Conv2D(filters=64, kernel_size=(3,3), activation='relu', padding='same'))\n",
    "    model.add(MaxPooling2D(pool_size=(2,2)))    \n",
    "    model.add(Flatten())\n",
    "    # Densely connected layers\n",
    "    model.add(Dense(128, activation='relu'))\n",
    "    # output layer\n",
    "    model.add(Dense(num_classes, activation='softmax'))\n",
    "    # compile with adam optimizer & categorical_crossentropy loss function\n",
    "    model.compile(optimizer='adam', loss='categorical_crossentropy', metrics=['accuracy'])\n",
    "    return model\n",
    "\n",
    "\n",
    "current_scenario.dataset = Dataset(\n",
    "    \"my_dataset\",\n",
    "    X_train,\n",
    "    X_test,\n",
    "    y_train,\n",
    "    y_test,\n",
    "    input_shape,\n",
    "    num_classes,\n",
    "    preprocess_dataset_labels,\n",
    "    generate_new_model_for_dataset\n",
    ")\n",
    "\n",
    "# Legacy\n",
    "current_scenario.partners_list = []\n",
    "\n",
    "\n",
    "current_scenario.dataset.train_val_split()"
   ]
  },
  {
   "cell_type": "code",
   "execution_count": 3,
   "metadata": {},
   "outputs": [
    {
     "name": "stderr",
     "output_type": "stream",
     "text": [
      "2020-08-13 10:21:35.783 | INFO     | pkg.scenario:split_data:534 - ### Splitting data among partners:\n",
      "2020-08-13 10:21:35.784 | INFO     | pkg.scenario:split_data:535 -    Simple split performed.\n",
      "2020-08-13 10:21:35.785 | INFO     | pkg.scenario:split_data:536 -    Nb of samples split amongst partners: 38880\n",
      "2020-08-13 10:21:35.785 | INFO     | pkg.scenario:split_data:538 -    Partner #0: 7776 samples with labels [0, 1, 2, 3, 4, 5, 6, 7, 8, 9]\n",
      "2020-08-13 10:21:35.786 | INFO     | pkg.scenario:split_data:538 -    Partner #1: 19440 samples with labels [0, 1, 2, 3, 4, 5, 6, 7, 8, 9]\n",
      "2020-08-13 10:21:35.786 | INFO     | pkg.scenario:split_data:538 -    Partner #2: 11664 samples with labels [0, 1, 2, 3, 4, 5, 6, 7, 8, 9]\n",
      "2020-08-13 10:21:36.614 | DEBUG    | pkg.scenario:compute_batch_sizes:582 -    Compute batch sizes, partner #0: 324\n",
      "2020-08-13 10:21:36.615 | DEBUG    | pkg.scenario:compute_batch_sizes:582 -    Compute batch sizes, partner #1: 810\n",
      "2020-08-13 10:21:36.616 | DEBUG    | pkg.scenario:compute_batch_sizes:582 -    Compute batch sizes, partner #2: 486\n",
      "2020-08-13 10:21:36.616 | DEBUG    | pkg.scenario:preprocess_scenarios_data:587 - ## Pre-processing datasets of the scenario for keras CNN:\n",
      "2020-08-13 10:21:36.617 | DEBUG    | pkg.scenario:preprocess_scenarios_data:591 -    Central early stopping validation set: done.\n",
      "2020-08-13 10:21:36.618 | DEBUG    | pkg.scenario:preprocess_scenarios_data:593 -    Central testset: done.\n",
      "2020-08-13 10:21:36.619 | DEBUG    | pkg.scenario:preprocess_scenarios_data:615 -    Partner #0: done.\n",
      "2020-08-13 10:21:36.621 | DEBUG    | pkg.scenario:preprocess_scenarios_data:615 -    Partner #1: done.\n",
      "2020-08-13 10:21:36.622 | DEBUG    | pkg.scenario:preprocess_scenarios_data:615 -    Partner #2: done.\n",
      "2020-08-13 10:21:36.622 | DEBUG    | pkg.multi_partner_learning:__init__:69 - MultiPartnerLearning object instantiated.\n",
      "2020-08-13 10:21:36.623 | INFO     | pkg.multi_partner_learning:compute_test_score:135 - ## Training and evaluating model on partners with ids: ['#0', '#1', '#2']\n",
      "2020-08-13 10:21:36.705 | DEBUG    | pkg.multi_partner_learning:compute_collaborative_round_fedavg:259 - Start new fedavg collaborative round ...\n",
      "2020-08-13 10:21:36.705 | DEBUG    | pkg.multi_partner_learning:compute_collaborative_round_fedavg:268 - (fedavg) Very first minibatch of epoch n°0, init new models for each partner\n",
      "2020-08-13 10:21:59.604 | DEBUG    | pkg.multi_partner_learning:log_collaborative_round_partner_result:513 - Epoch 00/19 > Minibatch 00/02 > Partner id #0 (0/2) > val_acc: 0.59\n",
      "2020-08-13 10:22:00.855 | DEBUG    | pkg.multi_partner_learning:log_collaborative_round_partner_result:513 - Epoch 00/19 > Minibatch 00/02 > Partner id #1 (1/2) > val_acc: 0.54\n",
      "2020-08-13 10:22:01.936 | DEBUG    | pkg.multi_partner_learning:log_collaborative_round_partner_result:513 - Epoch 00/19 > Minibatch 00/02 > Partner id #2 (2/2) > val_acc: 0.51\n",
      "2020-08-13 10:22:01.939 | DEBUG    | pkg.multi_partner_learning:compute_collaborative_round_fedavg:303 - End of fedavg collaborative round.\n",
      "2020-08-13 10:22:01.940 | DEBUG    | pkg.multi_partner_learning:compute_collaborative_round_fedavg:259 - Start new fedavg collaborative round ...\n",
      "2020-08-13 10:22:01.940 | DEBUG    | pkg.multi_partner_learning:compute_collaborative_round_fedavg:271 - (fedavg) Minibatch n°1 of epoch n°0, init aggregated model for each partner with models from previous round\n",
      "2020-08-13 10:22:03.001 | DEBUG    | pkg.multi_partner_learning:log_collaborative_round_partner_result:513 - Epoch 00/19 > Minibatch 01/02 > Partner id #0 (0/2) > val_acc: 0.72\n",
      "2020-08-13 10:22:03.868 | DEBUG    | pkg.multi_partner_learning:log_collaborative_round_partner_result:513 - Epoch 00/19 > Minibatch 01/02 > Partner id #1 (1/2) > val_acc: 0.76\n",
      "2020-08-13 10:22:04.616 | DEBUG    | pkg.multi_partner_learning:log_collaborative_round_partner_result:513 - Epoch 00/19 > Minibatch 01/02 > Partner id #2 (2/2) > val_acc: 0.75\n",
      "2020-08-13 10:22:04.619 | DEBUG    | pkg.multi_partner_learning:compute_collaborative_round_fedavg:303 - End of fedavg collaborative round.\n",
      "2020-08-13 10:22:04.619 | DEBUG    | pkg.multi_partner_learning:compute_collaborative_round_fedavg:259 - Start new fedavg collaborative round ...\n",
      "2020-08-13 10:22:04.620 | DEBUG    | pkg.multi_partner_learning:compute_collaborative_round_fedavg:271 - (fedavg) Minibatch n°2 of epoch n°0, init aggregated model for each partner with models from previous round\n",
      "2020-08-13 10:22:05.772 | DEBUG    | pkg.multi_partner_learning:log_collaborative_round_partner_result:513 - Epoch 00/19 > Minibatch 02/02 > Partner id #0 (0/2) > val_acc: 0.73\n",
      "2020-08-13 10:22:06.617 | DEBUG    | pkg.multi_partner_learning:log_collaborative_round_partner_result:513 - Epoch 00/19 > Minibatch 02/02 > Partner id #1 (1/2) > val_acc: 0.8\n",
      "2020-08-13 10:22:07.363 | DEBUG    | pkg.multi_partner_learning:log_collaborative_round_partner_result:513 - Epoch 00/19 > Minibatch 02/02 > Partner id #2 (2/2) > val_acc: 0.81\n",
      "2020-08-13 10:22:07.367 | DEBUG    | pkg.multi_partner_learning:compute_collaborative_round_fedavg:303 - End of fedavg collaborative round.\n",
      "2020-08-13 10:22:07.684 | INFO     | pkg.multi_partner_learning:compute_test_score:184 -    Model evaluation at the end of the epoch: ['0.724', '0.817']\n",
      "2020-08-13 10:22:07.685 | DEBUG    | pkg.multi_partner_learning:compute_test_score:187 -       Checking if early stopping criteria are met:\n",
      "2020-08-13 10:22:07.685 | DEBUG    | pkg.multi_partner_learning:compute_test_score:197 -          -> Early stopping criteria are not met, continuing with training.\n",
      "2020-08-13 10:22:07.743 | DEBUG    | pkg.multi_partner_learning:compute_collaborative_round_fedavg:259 - Start new fedavg collaborative round ...\n",
      "2020-08-13 10:22:07.744 | DEBUG    | pkg.multi_partner_learning:compute_collaborative_round_fedavg:271 - (fedavg) Minibatch n°0 of epoch n°1, init aggregated model for each partner with models from previous round\n",
      "2020-08-13 10:22:08.920 | DEBUG    | pkg.multi_partner_learning:log_collaborative_round_partner_result:513 - Epoch 01/19 > Minibatch 00/02 > Partner id #0 (0/2) > val_acc: 0.84\n",
      "2020-08-13 10:22:09.844 | DEBUG    | pkg.multi_partner_learning:log_collaborative_round_partner_result:513 - Epoch 01/19 > Minibatch 00/02 > Partner id #1 (1/2) > val_acc: 0.84\n",
      "2020-08-13 10:22:10.570 | DEBUG    | pkg.multi_partner_learning:log_collaborative_round_partner_result:513 - Epoch 01/19 > Minibatch 00/02 > Partner id #2 (2/2) > val_acc: 0.83\n",
      "2020-08-13 10:22:10.573 | DEBUG    | pkg.multi_partner_learning:compute_collaborative_round_fedavg:303 - End of fedavg collaborative round.\n",
      "2020-08-13 10:22:10.574 | DEBUG    | pkg.multi_partner_learning:compute_collaborative_round_fedavg:259 - Start new fedavg collaborative round ...\n",
      "2020-08-13 10:22:10.574 | DEBUG    | pkg.multi_partner_learning:compute_collaborative_round_fedavg:271 - (fedavg) Minibatch n°1 of epoch n°1, init aggregated model for each partner with models from previous round\n",
      "2020-08-13 10:22:11.629 | DEBUG    | pkg.multi_partner_learning:log_collaborative_round_partner_result:513 - Epoch 01/19 > Minibatch 01/02 > Partner id #0 (0/2) > val_acc: 0.84\n",
      "2020-08-13 10:22:12.443 | DEBUG    | pkg.multi_partner_learning:log_collaborative_round_partner_result:513 - Epoch 01/19 > Minibatch 01/02 > Partner id #1 (1/2) > val_acc: 0.85\n",
      "2020-08-13 10:22:13.204 | DEBUG    | pkg.multi_partner_learning:log_collaborative_round_partner_result:513 - Epoch 01/19 > Minibatch 01/02 > Partner id #2 (2/2) > val_acc: 0.82\n",
      "2020-08-13 10:22:13.208 | DEBUG    | pkg.multi_partner_learning:compute_collaborative_round_fedavg:303 - End of fedavg collaborative round.\n",
      "2020-08-13 10:22:13.208 | DEBUG    | pkg.multi_partner_learning:compute_collaborative_round_fedavg:259 - Start new fedavg collaborative round ...\n",
      "2020-08-13 10:22:13.209 | DEBUG    | pkg.multi_partner_learning:compute_collaborative_round_fedavg:271 - (fedavg) Minibatch n°2 of epoch n°1, init aggregated model for each partner with models from previous round\n",
      "2020-08-13 10:22:14.341 | DEBUG    | pkg.multi_partner_learning:log_collaborative_round_partner_result:513 - Epoch 01/19 > Minibatch 02/02 > Partner id #0 (0/2) > val_acc: 0.88\n",
      "2020-08-13 10:22:15.109 | DEBUG    | pkg.multi_partner_learning:log_collaborative_round_partner_result:513 - Epoch 01/19 > Minibatch 02/02 > Partner id #1 (1/2) > val_acc: 0.86\n"
     ]
    },
    {
     "name": "stderr",
     "output_type": "stream",
     "text": [
      "2020-08-13 10:22:15.993 | DEBUG    | pkg.multi_partner_learning:log_collaborative_round_partner_result:513 - Epoch 01/19 > Minibatch 02/02 > Partner id #2 (2/2) > val_acc: 0.87\n",
      "2020-08-13 10:22:15.996 | DEBUG    | pkg.multi_partner_learning:compute_collaborative_round_fedavg:303 - End of fedavg collaborative round.\n",
      "2020-08-13 10:22:16.287 | INFO     | pkg.multi_partner_learning:compute_test_score:184 -    Model evaluation at the end of the epoch: ['0.432', '0.875']\n",
      "2020-08-13 10:22:16.288 | DEBUG    | pkg.multi_partner_learning:compute_test_score:187 -       Checking if early stopping criteria are met:\n",
      "2020-08-13 10:22:16.288 | DEBUG    | pkg.multi_partner_learning:compute_test_score:197 -          -> Early stopping criteria are not met, continuing with training.\n",
      "2020-08-13 10:22:16.344 | DEBUG    | pkg.multi_partner_learning:compute_collaborative_round_fedavg:259 - Start new fedavg collaborative round ...\n",
      "2020-08-13 10:22:16.345 | DEBUG    | pkg.multi_partner_learning:compute_collaborative_round_fedavg:271 - (fedavg) Minibatch n°0 of epoch n°2, init aggregated model for each partner with models from previous round\n",
      "2020-08-13 10:22:17.411 | DEBUG    | pkg.multi_partner_learning:log_collaborative_round_partner_result:513 - Epoch 02/19 > Minibatch 00/02 > Partner id #0 (0/2) > val_acc: 0.88\n",
      "2020-08-13 10:22:18.171 | DEBUG    | pkg.multi_partner_learning:log_collaborative_round_partner_result:513 - Epoch 02/19 > Minibatch 00/02 > Partner id #1 (1/2) > val_acc: 0.87\n",
      "2020-08-13 10:22:18.904 | DEBUG    | pkg.multi_partner_learning:log_collaborative_round_partner_result:513 - Epoch 02/19 > Minibatch 00/02 > Partner id #2 (2/2) > val_acc: 0.88\n",
      "2020-08-13 10:22:18.907 | DEBUG    | pkg.multi_partner_learning:compute_collaborative_round_fedavg:303 - End of fedavg collaborative round.\n",
      "2020-08-13 10:22:18.907 | DEBUG    | pkg.multi_partner_learning:compute_collaborative_round_fedavg:259 - Start new fedavg collaborative round ...\n",
      "2020-08-13 10:22:18.908 | DEBUG    | pkg.multi_partner_learning:compute_collaborative_round_fedavg:271 - (fedavg) Minibatch n°1 of epoch n°2, init aggregated model for each partner with models from previous round\n",
      "2020-08-13 10:22:19.962 | DEBUG    | pkg.multi_partner_learning:log_collaborative_round_partner_result:513 - Epoch 02/19 > Minibatch 01/02 > Partner id #0 (0/2) > val_acc: 0.88\n",
      "2020-08-13 10:22:20.728 | DEBUG    | pkg.multi_partner_learning:log_collaborative_round_partner_result:513 - Epoch 02/19 > Minibatch 01/02 > Partner id #1 (1/2) > val_acc: 0.92\n",
      "2020-08-13 10:22:21.497 | DEBUG    | pkg.multi_partner_learning:log_collaborative_round_partner_result:513 - Epoch 02/19 > Minibatch 01/02 > Partner id #2 (2/2) > val_acc: 0.92\n",
      "2020-08-13 10:22:21.501 | DEBUG    | pkg.multi_partner_learning:compute_collaborative_round_fedavg:303 - End of fedavg collaborative round.\n",
      "2020-08-13 10:22:21.501 | DEBUG    | pkg.multi_partner_learning:compute_collaborative_round_fedavg:259 - Start new fedavg collaborative round ...\n",
      "2020-08-13 10:22:21.502 | DEBUG    | pkg.multi_partner_learning:compute_collaborative_round_fedavg:271 - (fedavg) Minibatch n°2 of epoch n°2, init aggregated model for each partner with models from previous round\n",
      "2020-08-13 10:22:22.575 | DEBUG    | pkg.multi_partner_learning:log_collaborative_round_partner_result:513 - Epoch 02/19 > Minibatch 02/02 > Partner id #0 (0/2) > val_acc: 0.92\n",
      "2020-08-13 10:22:23.633 | DEBUG    | pkg.multi_partner_learning:log_collaborative_round_partner_result:513 - Epoch 02/19 > Minibatch 02/02 > Partner id #1 (1/2) > val_acc: 0.92\n",
      "2020-08-13 10:22:24.442 | DEBUG    | pkg.multi_partner_learning:log_collaborative_round_partner_result:513 - Epoch 02/19 > Minibatch 02/02 > Partner id #2 (2/2) > val_acc: 0.91\n",
      "2020-08-13 10:22:24.445 | DEBUG    | pkg.multi_partner_learning:compute_collaborative_round_fedavg:303 - End of fedavg collaborative round.\n",
      "2020-08-13 10:22:24.765 | INFO     | pkg.multi_partner_learning:compute_test_score:184 -    Model evaluation at the end of the epoch: ['0.264', '0.925']\n",
      "2020-08-13 10:22:24.766 | DEBUG    | pkg.multi_partner_learning:compute_test_score:187 -       Checking if early stopping criteria are met:\n",
      "2020-08-13 10:22:24.766 | DEBUG    | pkg.multi_partner_learning:compute_test_score:197 -          -> Early stopping criteria are not met, continuing with training.\n",
      "2020-08-13 10:22:24.819 | DEBUG    | pkg.multi_partner_learning:compute_collaborative_round_fedavg:259 - Start new fedavg collaborative round ...\n",
      "2020-08-13 10:22:24.820 | DEBUG    | pkg.multi_partner_learning:compute_collaborative_round_fedavg:271 - (fedavg) Minibatch n°0 of epoch n°3, init aggregated model for each partner with models from previous round\n",
      "2020-08-13 10:22:25.918 | DEBUG    | pkg.multi_partner_learning:log_collaborative_round_partner_result:513 - Epoch 03/19 > Minibatch 00/02 > Partner id #0 (0/2) > val_acc: 0.93\n",
      "2020-08-13 10:22:26.693 | DEBUG    | pkg.multi_partner_learning:log_collaborative_round_partner_result:513 - Epoch 03/19 > Minibatch 00/02 > Partner id #1 (1/2) > val_acc: 0.93\n",
      "2020-08-13 10:22:27.422 | DEBUG    | pkg.multi_partner_learning:log_collaborative_round_partner_result:513 - Epoch 03/19 > Minibatch 00/02 > Partner id #2 (2/2) > val_acc: 0.92\n",
      "2020-08-13 10:22:27.425 | DEBUG    | pkg.multi_partner_learning:compute_collaborative_round_fedavg:303 - End of fedavg collaborative round.\n",
      "2020-08-13 10:22:27.426 | DEBUG    | pkg.multi_partner_learning:compute_collaborative_round_fedavg:259 - Start new fedavg collaborative round ...\n",
      "2020-08-13 10:22:27.426 | DEBUG    | pkg.multi_partner_learning:compute_collaborative_round_fedavg:271 - (fedavg) Minibatch n°1 of epoch n°3, init aggregated model for each partner with models from previous round\n",
      "2020-08-13 10:22:28.465 | DEBUG    | pkg.multi_partner_learning:log_collaborative_round_partner_result:513 - Epoch 03/19 > Minibatch 01/02 > Partner id #0 (0/2) > val_acc: 0.94\n",
      "2020-08-13 10:22:29.231 | DEBUG    | pkg.multi_partner_learning:log_collaborative_round_partner_result:513 - Epoch 03/19 > Minibatch 01/02 > Partner id #1 (1/2) > val_acc: 0.95\n",
      "2020-08-13 10:22:30.155 | DEBUG    | pkg.multi_partner_learning:log_collaborative_round_partner_result:513 - Epoch 03/19 > Minibatch 01/02 > Partner id #2 (2/2) > val_acc: 0.95\n",
      "2020-08-13 10:22:30.158 | DEBUG    | pkg.multi_partner_learning:compute_collaborative_round_fedavg:303 - End of fedavg collaborative round.\n",
      "2020-08-13 10:22:30.159 | DEBUG    | pkg.multi_partner_learning:compute_collaborative_round_fedavg:259 - Start new fedavg collaborative round ...\n",
      "2020-08-13 10:22:30.159 | DEBUG    | pkg.multi_partner_learning:compute_collaborative_round_fedavg:271 - (fedavg) Minibatch n°2 of epoch n°3, init aggregated model for each partner with models from previous round\n",
      "2020-08-13 10:22:31.222 | DEBUG    | pkg.multi_partner_learning:log_collaborative_round_partner_result:513 - Epoch 03/19 > Minibatch 02/02 > Partner id #0 (0/2) > val_acc: 0.93\n",
      "2020-08-13 10:22:31.991 | DEBUG    | pkg.multi_partner_learning:log_collaborative_round_partner_result:513 - Epoch 03/19 > Minibatch 02/02 > Partner id #1 (1/2) > val_acc: 0.95\n",
      "2020-08-13 10:22:32.733 | DEBUG    | pkg.multi_partner_learning:log_collaborative_round_partner_result:513 - Epoch 03/19 > Minibatch 02/02 > Partner id #2 (2/2) > val_acc: 0.95\n",
      "2020-08-13 10:22:32.736 | DEBUG    | pkg.multi_partner_learning:compute_collaborative_round_fedavg:303 - End of fedavg collaborative round.\n",
      "2020-08-13 10:22:33.029 | INFO     | pkg.multi_partner_learning:compute_test_score:184 -    Model evaluation at the end of the epoch: ['0.185', '0.948']\n",
      "2020-08-13 10:22:33.030 | DEBUG    | pkg.multi_partner_learning:compute_test_score:187 -       Checking if early stopping criteria are met:\n",
      "2020-08-13 10:22:33.030 | DEBUG    | pkg.multi_partner_learning:compute_test_score:197 -          -> Early stopping criteria are not met, continuing with training.\n",
      "2020-08-13 10:22:33.084 | DEBUG    | pkg.multi_partner_learning:compute_collaborative_round_fedavg:259 - Start new fedavg collaborative round ...\n",
      "2020-08-13 10:22:33.085 | DEBUG    | pkg.multi_partner_learning:compute_collaborative_round_fedavg:271 - (fedavg) Minibatch n°0 of epoch n°4, init aggregated model for each partner with models from previous round\n"
     ]
    },
    {
     "name": "stderr",
     "output_type": "stream",
     "text": [
      "2020-08-13 10:22:34.143 | DEBUG    | pkg.multi_partner_learning:log_collaborative_round_partner_result:513 - Epoch 04/19 > Minibatch 00/02 > Partner id #0 (0/2) > val_acc: 0.95\n",
      "2020-08-13 10:22:34.925 | DEBUG    | pkg.multi_partner_learning:log_collaborative_round_partner_result:513 - Epoch 04/19 > Minibatch 00/02 > Partner id #1 (1/2) > val_acc: 0.95\n",
      "2020-08-13 10:22:35.655 | DEBUG    | pkg.multi_partner_learning:log_collaborative_round_partner_result:513 - Epoch 04/19 > Minibatch 00/02 > Partner id #2 (2/2) > val_acc: 0.95\n",
      "2020-08-13 10:22:35.658 | DEBUG    | pkg.multi_partner_learning:compute_collaborative_round_fedavg:303 - End of fedavg collaborative round.\n",
      "2020-08-13 10:22:35.658 | DEBUG    | pkg.multi_partner_learning:compute_collaborative_round_fedavg:259 - Start new fedavg collaborative round ...\n",
      "2020-08-13 10:22:35.659 | DEBUG    | pkg.multi_partner_learning:compute_collaborative_round_fedavg:271 - (fedavg) Minibatch n°1 of epoch n°4, init aggregated model for each partner with models from previous round\n",
      "2020-08-13 10:22:36.936 | DEBUG    | pkg.multi_partner_learning:log_collaborative_round_partner_result:513 - Epoch 04/19 > Minibatch 01/02 > Partner id #0 (0/2) > val_acc: 0.95\n",
      "2020-08-13 10:22:37.717 | DEBUG    | pkg.multi_partner_learning:log_collaborative_round_partner_result:513 - Epoch 04/19 > Minibatch 01/02 > Partner id #1 (1/2) > val_acc: 0.96\n",
      "2020-08-13 10:22:38.443 | DEBUG    | pkg.multi_partner_learning:log_collaborative_round_partner_result:513 - Epoch 04/19 > Minibatch 01/02 > Partner id #2 (2/2) > val_acc: 0.95\n",
      "2020-08-13 10:22:38.446 | DEBUG    | pkg.multi_partner_learning:compute_collaborative_round_fedavg:303 - End of fedavg collaborative round.\n",
      "2020-08-13 10:22:38.447 | DEBUG    | pkg.multi_partner_learning:compute_collaborative_round_fedavg:259 - Start new fedavg collaborative round ...\n",
      "2020-08-13 10:22:38.447 | DEBUG    | pkg.multi_partner_learning:compute_collaborative_round_fedavg:271 - (fedavg) Minibatch n°2 of epoch n°4, init aggregated model for each partner with models from previous round\n",
      "2020-08-13 10:22:39.507 | DEBUG    | pkg.multi_partner_learning:log_collaborative_round_partner_result:513 - Epoch 04/19 > Minibatch 02/02 > Partner id #0 (0/2) > val_acc: 0.95\n",
      "2020-08-13 10:22:40.270 | DEBUG    | pkg.multi_partner_learning:log_collaborative_round_partner_result:513 - Epoch 04/19 > Minibatch 02/02 > Partner id #1 (1/2) > val_acc: 0.96\n",
      "2020-08-13 10:22:40.992 | DEBUG    | pkg.multi_partner_learning:log_collaborative_round_partner_result:513 - Epoch 04/19 > Minibatch 02/02 > Partner id #2 (2/2) > val_acc: 0.96\n",
      "2020-08-13 10:22:40.995 | DEBUG    | pkg.multi_partner_learning:compute_collaborative_round_fedavg:303 - End of fedavg collaborative round.\n",
      "2020-08-13 10:22:41.282 | INFO     | pkg.multi_partner_learning:compute_test_score:184 -    Model evaluation at the end of the epoch: ['0.131', '0.960']\n",
      "2020-08-13 10:22:41.283 | DEBUG    | pkg.multi_partner_learning:compute_test_score:187 -       Checking if early stopping criteria are met:\n",
      "2020-08-13 10:22:41.283 | DEBUG    | pkg.multi_partner_learning:compute_test_score:197 -          -> Early stopping criteria are not met, continuing with training.\n",
      "2020-08-13 10:22:41.338 | DEBUG    | pkg.multi_partner_learning:compute_collaborative_round_fedavg:259 - Start new fedavg collaborative round ...\n",
      "2020-08-13 10:22:41.339 | DEBUG    | pkg.multi_partner_learning:compute_collaborative_round_fedavg:271 - (fedavg) Minibatch n°0 of epoch n°5, init aggregated model for each partner with models from previous round\n",
      "2020-08-13 10:22:42.389 | DEBUG    | pkg.multi_partner_learning:log_collaborative_round_partner_result:513 - Epoch 05/19 > Minibatch 00/02 > Partner id #0 (0/2) > val_acc: 0.96\n",
      "2020-08-13 10:22:43.170 | DEBUG    | pkg.multi_partner_learning:log_collaborative_round_partner_result:513 - Epoch 05/19 > Minibatch 00/02 > Partner id #1 (1/2) > val_acc: 0.96\n",
      "2020-08-13 10:22:44.075 | DEBUG    | pkg.multi_partner_learning:log_collaborative_round_partner_result:513 - Epoch 05/19 > Minibatch 00/02 > Partner id #2 (2/2) > val_acc: 0.97\n",
      "2020-08-13 10:22:44.078 | DEBUG    | pkg.multi_partner_learning:compute_collaborative_round_fedavg:303 - End of fedavg collaborative round.\n",
      "2020-08-13 10:22:44.079 | DEBUG    | pkg.multi_partner_learning:compute_collaborative_round_fedavg:259 - Start new fedavg collaborative round ...\n",
      "2020-08-13 10:22:44.080 | DEBUG    | pkg.multi_partner_learning:compute_collaborative_round_fedavg:271 - (fedavg) Minibatch n°1 of epoch n°5, init aggregated model for each partner with models from previous round\n",
      "2020-08-13 10:22:45.163 | DEBUG    | pkg.multi_partner_learning:log_collaborative_round_partner_result:513 - Epoch 05/19 > Minibatch 01/02 > Partner id #0 (0/2) > val_acc: 0.96\n",
      "2020-08-13 10:22:45.951 | DEBUG    | pkg.multi_partner_learning:log_collaborative_round_partner_result:513 - Epoch 05/19 > Minibatch 01/02 > Partner id #1 (1/2) > val_acc: 0.96\n",
      "2020-08-13 10:22:46.678 | DEBUG    | pkg.multi_partner_learning:log_collaborative_round_partner_result:513 - Epoch 05/19 > Minibatch 01/02 > Partner id #2 (2/2) > val_acc: 0.95\n",
      "2020-08-13 10:22:46.681 | DEBUG    | pkg.multi_partner_learning:compute_collaborative_round_fedavg:303 - End of fedavg collaborative round.\n",
      "2020-08-13 10:22:46.682 | DEBUG    | pkg.multi_partner_learning:compute_collaborative_round_fedavg:259 - Start new fedavg collaborative round ...\n",
      "2020-08-13 10:22:46.682 | DEBUG    | pkg.multi_partner_learning:compute_collaborative_round_fedavg:271 - (fedavg) Minibatch n°2 of epoch n°5, init aggregated model for each partner with models from previous round\n",
      "2020-08-13 10:22:47.741 | DEBUG    | pkg.multi_partner_learning:log_collaborative_round_partner_result:513 - Epoch 05/19 > Minibatch 02/02 > Partner id #0 (0/2) > val_acc: 0.97\n",
      "2020-08-13 10:22:48.504 | DEBUG    | pkg.multi_partner_learning:log_collaborative_round_partner_result:513 - Epoch 05/19 > Minibatch 02/02 > Partner id #1 (1/2) > val_acc: 0.97\n",
      "2020-08-13 10:22:49.230 | DEBUG    | pkg.multi_partner_learning:log_collaborative_round_partner_result:513 - Epoch 05/19 > Minibatch 02/02 > Partner id #2 (2/2) > val_acc: 0.96\n",
      "2020-08-13 10:22:49.233 | DEBUG    | pkg.multi_partner_learning:compute_collaborative_round_fedavg:303 - End of fedavg collaborative round.\n",
      "2020-08-13 10:22:49.528 | INFO     | pkg.multi_partner_learning:compute_test_score:184 -    Model evaluation at the end of the epoch: ['0.102', '0.969']\n",
      "2020-08-13 10:22:49.529 | DEBUG    | pkg.multi_partner_learning:compute_test_score:187 -       Checking if early stopping criteria are met:\n",
      "2020-08-13 10:22:49.529 | DEBUG    | pkg.multi_partner_learning:compute_test_score:197 -          -> Early stopping criteria are not met, continuing with training.\n",
      "2020-08-13 10:22:49.588 | DEBUG    | pkg.multi_partner_learning:compute_collaborative_round_fedavg:259 - Start new fedavg collaborative round ...\n",
      "2020-08-13 10:22:49.589 | DEBUG    | pkg.multi_partner_learning:compute_collaborative_round_fedavg:271 - (fedavg) Minibatch n°0 of epoch n°6, init aggregated model for each partner with models from previous round\n",
      "2020-08-13 10:22:50.882 | DEBUG    | pkg.multi_partner_learning:log_collaborative_round_partner_result:513 - Epoch 06/19 > Minibatch 00/02 > Partner id #0 (0/2) > val_acc: 0.97\n",
      "2020-08-13 10:22:51.657 | DEBUG    | pkg.multi_partner_learning:log_collaborative_round_partner_result:513 - Epoch 06/19 > Minibatch 00/02 > Partner id #1 (1/2) > val_acc: 0.97\n",
      "2020-08-13 10:22:52.400 | DEBUG    | pkg.multi_partner_learning:log_collaborative_round_partner_result:513 - Epoch 06/19 > Minibatch 00/02 > Partner id #2 (2/2) > val_acc: 0.97\n",
      "2020-08-13 10:22:52.403 | DEBUG    | pkg.multi_partner_learning:compute_collaborative_round_fedavg:303 - End of fedavg collaborative round.\n",
      "2020-08-13 10:22:52.404 | DEBUG    | pkg.multi_partner_learning:compute_collaborative_round_fedavg:259 - Start new fedavg collaborative round ...\n",
      "2020-08-13 10:22:52.405 | DEBUG    | pkg.multi_partner_learning:compute_collaborative_round_fedavg:271 - (fedavg) Minibatch n°1 of epoch n°6, init aggregated model for each partner with models from previous round\n",
      "2020-08-13 10:22:53.537 | DEBUG    | pkg.multi_partner_learning:log_collaborative_round_partner_result:513 - Epoch 06/19 > Minibatch 01/02 > Partner id #0 (0/2) > val_acc: 0.96\n"
     ]
    },
    {
     "name": "stderr",
     "output_type": "stream",
     "text": [
      "2020-08-13 10:22:54.305 | DEBUG    | pkg.multi_partner_learning:log_collaborative_round_partner_result:513 - Epoch 06/19 > Minibatch 01/02 > Partner id #1 (1/2) > val_acc: 0.97\n",
      "2020-08-13 10:22:55.053 | DEBUG    | pkg.multi_partner_learning:log_collaborative_round_partner_result:513 - Epoch 06/19 > Minibatch 01/02 > Partner id #2 (2/2) > val_acc: 0.97\n",
      "2020-08-13 10:22:55.057 | DEBUG    | pkg.multi_partner_learning:compute_collaborative_round_fedavg:303 - End of fedavg collaborative round.\n",
      "2020-08-13 10:22:55.057 | DEBUG    | pkg.multi_partner_learning:compute_collaborative_round_fedavg:259 - Start new fedavg collaborative round ...\n",
      "2020-08-13 10:22:55.058 | DEBUG    | pkg.multi_partner_learning:compute_collaborative_round_fedavg:271 - (fedavg) Minibatch n°2 of epoch n°6, init aggregated model for each partner with models from previous round\n",
      "2020-08-13 10:22:56.281 | DEBUG    | pkg.multi_partner_learning:log_collaborative_round_partner_result:513 - Epoch 06/19 > Minibatch 02/02 > Partner id #0 (0/2) > val_acc: 0.97\n",
      "2020-08-13 10:22:57.054 | DEBUG    | pkg.multi_partner_learning:log_collaborative_round_partner_result:513 - Epoch 06/19 > Minibatch 02/02 > Partner id #1 (1/2) > val_acc: 0.96\n",
      "2020-08-13 10:22:57.815 | DEBUG    | pkg.multi_partner_learning:log_collaborative_round_partner_result:513 - Epoch 06/19 > Minibatch 02/02 > Partner id #2 (2/2) > val_acc: 0.97\n",
      "2020-08-13 10:22:57.818 | DEBUG    | pkg.multi_partner_learning:compute_collaborative_round_fedavg:303 - End of fedavg collaborative round.\n",
      "2020-08-13 10:22:58.119 | INFO     | pkg.multi_partner_learning:compute_test_score:184 -    Model evaluation at the end of the epoch: ['0.095', '0.972']\n",
      "2020-08-13 10:22:58.120 | DEBUG    | pkg.multi_partner_learning:compute_test_score:187 -       Checking if early stopping criteria are met:\n",
      "2020-08-13 10:22:58.120 | DEBUG    | pkg.multi_partner_learning:compute_test_score:197 -          -> Early stopping criteria are not met, continuing with training.\n",
      "2020-08-13 10:22:58.185 | DEBUG    | pkg.multi_partner_learning:compute_collaborative_round_fedavg:259 - Start new fedavg collaborative round ...\n",
      "2020-08-13 10:22:58.186 | DEBUG    | pkg.multi_partner_learning:compute_collaborative_round_fedavg:271 - (fedavg) Minibatch n°0 of epoch n°7, init aggregated model for each partner with models from previous round\n",
      "2020-08-13 10:22:59.261 | DEBUG    | pkg.multi_partner_learning:log_collaborative_round_partner_result:513 - Epoch 07/19 > Minibatch 00/02 > Partner id #0 (0/2) > val_acc: 0.97\n",
      "2020-08-13 10:23:00.026 | DEBUG    | pkg.multi_partner_learning:log_collaborative_round_partner_result:513 - Epoch 07/19 > Minibatch 00/02 > Partner id #1 (1/2) > val_acc: 0.96\n",
      "2020-08-13 10:23:00.755 | DEBUG    | pkg.multi_partner_learning:log_collaborative_round_partner_result:513 - Epoch 07/19 > Minibatch 00/02 > Partner id #2 (2/2) > val_acc: 0.97\n",
      "2020-08-13 10:23:00.758 | DEBUG    | pkg.multi_partner_learning:compute_collaborative_round_fedavg:303 - End of fedavg collaborative round.\n",
      "2020-08-13 10:23:00.758 | DEBUG    | pkg.multi_partner_learning:compute_collaborative_round_fedavg:259 - Start new fedavg collaborative round ...\n",
      "2020-08-13 10:23:00.759 | DEBUG    | pkg.multi_partner_learning:compute_collaborative_round_fedavg:271 - (fedavg) Minibatch n°1 of epoch n°7, init aggregated model for each partner with models from previous round\n",
      "2020-08-13 10:23:01.816 | DEBUG    | pkg.multi_partner_learning:log_collaborative_round_partner_result:513 - Epoch 07/19 > Minibatch 01/02 > Partner id #0 (0/2) > val_acc: 0.97\n",
      "2020-08-13 10:23:02.784 | DEBUG    | pkg.multi_partner_learning:log_collaborative_round_partner_result:513 - Epoch 07/19 > Minibatch 01/02 > Partner id #1 (1/2) > val_acc: 0.98\n",
      "2020-08-13 10:23:03.514 | DEBUG    | pkg.multi_partner_learning:log_collaborative_round_partner_result:513 - Epoch 07/19 > Minibatch 01/02 > Partner id #2 (2/2) > val_acc: 0.97\n",
      "2020-08-13 10:23:03.517 | DEBUG    | pkg.multi_partner_learning:compute_collaborative_round_fedavg:303 - End of fedavg collaborative round.\n",
      "2020-08-13 10:23:03.518 | DEBUG    | pkg.multi_partner_learning:compute_collaborative_round_fedavg:259 - Start new fedavg collaborative round ...\n",
      "2020-08-13 10:23:03.519 | DEBUG    | pkg.multi_partner_learning:compute_collaborative_round_fedavg:271 - (fedavg) Minibatch n°2 of epoch n°7, init aggregated model for each partner with models from previous round\n",
      "2020-08-13 10:23:04.569 | DEBUG    | pkg.multi_partner_learning:log_collaborative_round_partner_result:513 - Epoch 07/19 > Minibatch 02/02 > Partner id #0 (0/2) > val_acc: 0.97\n",
      "2020-08-13 10:23:05.339 | DEBUG    | pkg.multi_partner_learning:log_collaborative_round_partner_result:513 - Epoch 07/19 > Minibatch 02/02 > Partner id #1 (1/2) > val_acc: 0.98\n",
      "2020-08-13 10:23:06.068 | DEBUG    | pkg.multi_partner_learning:log_collaborative_round_partner_result:513 - Epoch 07/19 > Minibatch 02/02 > Partner id #2 (2/2) > val_acc: 0.98\n",
      "2020-08-13 10:23:06.072 | DEBUG    | pkg.multi_partner_learning:compute_collaborative_round_fedavg:303 - End of fedavg collaborative round.\n",
      "2020-08-13 10:23:06.365 | INFO     | pkg.multi_partner_learning:compute_test_score:184 -    Model evaluation at the end of the epoch: ['0.077', '0.978']\n",
      "2020-08-13 10:23:06.365 | DEBUG    | pkg.multi_partner_learning:compute_test_score:187 -       Checking if early stopping criteria are met:\n",
      "2020-08-13 10:23:06.366 | DEBUG    | pkg.multi_partner_learning:compute_test_score:197 -          -> Early stopping criteria are not met, continuing with training.\n",
      "2020-08-13 10:23:06.419 | DEBUG    | pkg.multi_partner_learning:compute_collaborative_round_fedavg:259 - Start new fedavg collaborative round ...\n",
      "2020-08-13 10:23:06.420 | DEBUG    | pkg.multi_partner_learning:compute_collaborative_round_fedavg:271 - (fedavg) Minibatch n°0 of epoch n°8, init aggregated model for each partner with models from previous round\n",
      "2020-08-13 10:23:07.521 | DEBUG    | pkg.multi_partner_learning:log_collaborative_round_partner_result:513 - Epoch 08/19 > Minibatch 00/02 > Partner id #0 (0/2) > val_acc: 0.97\n",
      "2020-08-13 10:23:08.292 | DEBUG    | pkg.multi_partner_learning:log_collaborative_round_partner_result:513 - Epoch 08/19 > Minibatch 00/02 > Partner id #1 (1/2) > val_acc: 0.97\n",
      "2020-08-13 10:23:09.028 | DEBUG    | pkg.multi_partner_learning:log_collaborative_round_partner_result:513 - Epoch 08/19 > Minibatch 00/02 > Partner id #2 (2/2) > val_acc: 0.98\n",
      "2020-08-13 10:23:09.032 | DEBUG    | pkg.multi_partner_learning:compute_collaborative_round_fedavg:303 - End of fedavg collaborative round.\n",
      "2020-08-13 10:23:09.033 | DEBUG    | pkg.multi_partner_learning:compute_collaborative_round_fedavg:259 - Start new fedavg collaborative round ...\n",
      "2020-08-13 10:23:09.033 | DEBUG    | pkg.multi_partner_learning:compute_collaborative_round_fedavg:271 - (fedavg) Minibatch n°1 of epoch n°8, init aggregated model for each partner with models from previous round\n",
      "2020-08-13 10:23:10.317 | DEBUG    | pkg.multi_partner_learning:log_collaborative_round_partner_result:513 - Epoch 08/19 > Minibatch 01/02 > Partner id #0 (0/2) > val_acc: 0.97\n",
      "2020-08-13 10:23:11.084 | DEBUG    | pkg.multi_partner_learning:log_collaborative_round_partner_result:513 - Epoch 08/19 > Minibatch 01/02 > Partner id #1 (1/2) > val_acc: 0.97\n",
      "2020-08-13 10:23:11.813 | DEBUG    | pkg.multi_partner_learning:log_collaborative_round_partner_result:513 - Epoch 08/19 > Minibatch 01/02 > Partner id #2 (2/2) > val_acc: 0.98\n",
      "2020-08-13 10:23:11.816 | DEBUG    | pkg.multi_partner_learning:compute_collaborative_round_fedavg:303 - End of fedavg collaborative round.\n",
      "2020-08-13 10:23:11.816 | DEBUG    | pkg.multi_partner_learning:compute_collaborative_round_fedavg:259 - Start new fedavg collaborative round ...\n",
      "2020-08-13 10:23:11.817 | DEBUG    | pkg.multi_partner_learning:compute_collaborative_round_fedavg:271 - (fedavg) Minibatch n°2 of epoch n°8, init aggregated model for each partner with models from previous round\n",
      "2020-08-13 10:23:12.882 | DEBUG    | pkg.multi_partner_learning:log_collaborative_round_partner_result:513 - Epoch 08/19 > Minibatch 02/02 > Partner id #0 (0/2) > val_acc: 0.97\n",
      "2020-08-13 10:23:13.649 | DEBUG    | pkg.multi_partner_learning:log_collaborative_round_partner_result:513 - Epoch 08/19 > Minibatch 02/02 > Partner id #1 (1/2) > val_acc: 0.97\n"
     ]
    },
    {
     "name": "stderr",
     "output_type": "stream",
     "text": [
      "2020-08-13 10:23:14.381 | DEBUG    | pkg.multi_partner_learning:log_collaborative_round_partner_result:513 - Epoch 08/19 > Minibatch 02/02 > Partner id #2 (2/2) > val_acc: 0.98\n",
      "2020-08-13 10:23:14.384 | DEBUG    | pkg.multi_partner_learning:compute_collaborative_round_fedavg:303 - End of fedavg collaborative round.\n",
      "2020-08-13 10:23:14.677 | INFO     | pkg.multi_partner_learning:compute_test_score:184 -    Model evaluation at the end of the epoch: ['0.070', '0.980']\n",
      "2020-08-13 10:23:14.677 | DEBUG    | pkg.multi_partner_learning:compute_test_score:187 -       Checking if early stopping criteria are met:\n",
      "2020-08-13 10:23:14.678 | DEBUG    | pkg.multi_partner_learning:compute_test_score:197 -          -> Early stopping criteria are not met, continuing with training.\n",
      "2020-08-13 10:23:14.734 | DEBUG    | pkg.multi_partner_learning:compute_collaborative_round_fedavg:259 - Start new fedavg collaborative round ...\n",
      "2020-08-13 10:23:14.735 | DEBUG    | pkg.multi_partner_learning:compute_collaborative_round_fedavg:271 - (fedavg) Minibatch n°0 of epoch n°9, init aggregated model for each partner with models from previous round\n",
      "2020-08-13 10:23:15.973 | DEBUG    | pkg.multi_partner_learning:log_collaborative_round_partner_result:513 - Epoch 09/19 > Minibatch 00/02 > Partner id #0 (0/2) > val_acc: 0.98\n",
      "2020-08-13 10:23:16.767 | DEBUG    | pkg.multi_partner_learning:log_collaborative_round_partner_result:513 - Epoch 09/19 > Minibatch 00/02 > Partner id #1 (1/2) > val_acc: 0.98\n",
      "2020-08-13 10:23:17.490 | DEBUG    | pkg.multi_partner_learning:log_collaborative_round_partner_result:513 - Epoch 09/19 > Minibatch 00/02 > Partner id #2 (2/2) > val_acc: 0.98\n",
      "2020-08-13 10:23:17.493 | DEBUG    | pkg.multi_partner_learning:compute_collaborative_round_fedavg:303 - End of fedavg collaborative round.\n",
      "2020-08-13 10:23:17.493 | DEBUG    | pkg.multi_partner_learning:compute_collaborative_round_fedavg:259 - Start new fedavg collaborative round ...\n",
      "2020-08-13 10:23:17.494 | DEBUG    | pkg.multi_partner_learning:compute_collaborative_round_fedavg:271 - (fedavg) Minibatch n°1 of epoch n°9, init aggregated model for each partner with models from previous round\n",
      "2020-08-13 10:23:18.555 | DEBUG    | pkg.multi_partner_learning:log_collaborative_round_partner_result:513 - Epoch 09/19 > Minibatch 01/02 > Partner id #0 (0/2) > val_acc: 0.98\n",
      "2020-08-13 10:23:19.322 | DEBUG    | pkg.multi_partner_learning:log_collaborative_round_partner_result:513 - Epoch 09/19 > Minibatch 01/02 > Partner id #1 (1/2) > val_acc: 0.98\n",
      "2020-08-13 10:23:20.047 | DEBUG    | pkg.multi_partner_learning:log_collaborative_round_partner_result:513 - Epoch 09/19 > Minibatch 01/02 > Partner id #2 (2/2) > val_acc: 0.97\n",
      "2020-08-13 10:23:20.049 | DEBUG    | pkg.multi_partner_learning:compute_collaborative_round_fedavg:303 - End of fedavg collaborative round.\n",
      "2020-08-13 10:23:20.050 | DEBUG    | pkg.multi_partner_learning:compute_collaborative_round_fedavg:259 - Start new fedavg collaborative round ...\n",
      "2020-08-13 10:23:20.050 | DEBUG    | pkg.multi_partner_learning:compute_collaborative_round_fedavg:271 - (fedavg) Minibatch n°2 of epoch n°9, init aggregated model for each partner with models from previous round\n",
      "2020-08-13 10:23:21.254 | DEBUG    | pkg.multi_partner_learning:log_collaborative_round_partner_result:513 - Epoch 09/19 > Minibatch 02/02 > Partner id #0 (0/2) > val_acc: 0.98\n",
      "2020-08-13 10:23:22.026 | DEBUG    | pkg.multi_partner_learning:log_collaborative_round_partner_result:513 - Epoch 09/19 > Minibatch 02/02 > Partner id #1 (1/2) > val_acc: 0.98\n",
      "2020-08-13 10:23:22.756 | DEBUG    | pkg.multi_partner_learning:log_collaborative_round_partner_result:513 - Epoch 09/19 > Minibatch 02/02 > Partner id #2 (2/2) > val_acc: 0.98\n",
      "2020-08-13 10:23:22.759 | DEBUG    | pkg.multi_partner_learning:compute_collaborative_round_fedavg:303 - End of fedavg collaborative round.\n",
      "2020-08-13 10:23:23.053 | INFO     | pkg.multi_partner_learning:compute_test_score:184 -    Model evaluation at the end of the epoch: ['0.065', '0.980']\n",
      "2020-08-13 10:23:23.054 | DEBUG    | pkg.multi_partner_learning:compute_test_score:187 -       Checking if early stopping criteria are met:\n",
      "2020-08-13 10:23:23.055 | DEBUG    | pkg.multi_partner_learning:compute_test_score:197 -          -> Early stopping criteria are not met, continuing with training.\n",
      "2020-08-13 10:23:23.112 | DEBUG    | pkg.multi_partner_learning:compute_collaborative_round_fedavg:259 - Start new fedavg collaborative round ...\n",
      "2020-08-13 10:23:23.113 | DEBUG    | pkg.multi_partner_learning:compute_collaborative_round_fedavg:271 - (fedavg) Minibatch n°0 of epoch n°10, init aggregated model for each partner with models from previous round\n",
      "2020-08-13 10:23:24.178 | DEBUG    | pkg.multi_partner_learning:log_collaborative_round_partner_result:513 - Epoch 10/19 > Minibatch 00/02 > Partner id #0 (0/2) > val_acc: 0.97\n",
      "2020-08-13 10:23:24.940 | DEBUG    | pkg.multi_partner_learning:log_collaborative_round_partner_result:513 - Epoch 10/19 > Minibatch 00/02 > Partner id #1 (1/2) > val_acc: 0.98\n",
      "2020-08-13 10:23:25.665 | DEBUG    | pkg.multi_partner_learning:log_collaborative_round_partner_result:513 - Epoch 10/19 > Minibatch 00/02 > Partner id #2 (2/2) > val_acc: 0.98\n",
      "2020-08-13 10:23:25.668 | DEBUG    | pkg.multi_partner_learning:compute_collaborative_round_fedavg:303 - End of fedavg collaborative round.\n",
      "2020-08-13 10:23:25.669 | DEBUG    | pkg.multi_partner_learning:compute_collaborative_round_fedavg:259 - Start new fedavg collaborative round ...\n",
      "2020-08-13 10:23:25.669 | DEBUG    | pkg.multi_partner_learning:compute_collaborative_round_fedavg:271 - (fedavg) Minibatch n°1 of epoch n°10, init aggregated model for each partner with models from previous round\n",
      "2020-08-13 10:23:26.734 | DEBUG    | pkg.multi_partner_learning:log_collaborative_round_partner_result:513 - Epoch 10/19 > Minibatch 01/02 > Partner id #0 (0/2) > val_acc: 0.98\n",
      "2020-08-13 10:23:27.497 | DEBUG    | pkg.multi_partner_learning:log_collaborative_round_partner_result:513 - Epoch 10/19 > Minibatch 01/02 > Partner id #1 (1/2) > val_acc: 0.98\n",
      "2020-08-13 10:23:28.413 | DEBUG    | pkg.multi_partner_learning:log_collaborative_round_partner_result:513 - Epoch 10/19 > Minibatch 01/02 > Partner id #2 (2/2) > val_acc: 0.98\n",
      "2020-08-13 10:23:28.416 | DEBUG    | pkg.multi_partner_learning:compute_collaborative_round_fedavg:303 - End of fedavg collaborative round.\n",
      "2020-08-13 10:23:28.417 | DEBUG    | pkg.multi_partner_learning:compute_collaborative_round_fedavg:259 - Start new fedavg collaborative round ...\n",
      "2020-08-13 10:23:28.417 | DEBUG    | pkg.multi_partner_learning:compute_collaborative_round_fedavg:271 - (fedavg) Minibatch n°2 of epoch n°10, init aggregated model for each partner with models from previous round\n",
      "2020-08-13 10:23:29.487 | DEBUG    | pkg.multi_partner_learning:log_collaborative_round_partner_result:513 - Epoch 10/19 > Minibatch 02/02 > Partner id #0 (0/2) > val_acc: 0.98\n",
      "2020-08-13 10:23:30.249 | DEBUG    | pkg.multi_partner_learning:log_collaborative_round_partner_result:513 - Epoch 10/19 > Minibatch 02/02 > Partner id #1 (1/2) > val_acc: 0.98\n",
      "2020-08-13 10:23:30.982 | DEBUG    | pkg.multi_partner_learning:log_collaborative_round_partner_result:513 - Epoch 10/19 > Minibatch 02/02 > Partner id #2 (2/2) > val_acc: 0.97\n",
      "2020-08-13 10:23:30.985 | DEBUG    | pkg.multi_partner_learning:compute_collaborative_round_fedavg:303 - End of fedavg collaborative round.\n",
      "2020-08-13 10:23:31.272 | INFO     | pkg.multi_partner_learning:compute_test_score:184 -    Model evaluation at the end of the epoch: ['0.060', '0.983']\n",
      "2020-08-13 10:23:31.273 | DEBUG    | pkg.multi_partner_learning:compute_test_score:187 -       Checking if early stopping criteria are met:\n",
      "2020-08-13 10:23:31.274 | DEBUG    | pkg.multi_partner_learning:compute_test_score:197 -          -> Early stopping criteria are not met, continuing with training.\n",
      "2020-08-13 10:23:31.330 | DEBUG    | pkg.multi_partner_learning:compute_collaborative_round_fedavg:259 - Start new fedavg collaborative round ...\n",
      "2020-08-13 10:23:31.331 | DEBUG    | pkg.multi_partner_learning:compute_collaborative_round_fedavg:271 - (fedavg) Minibatch n°0 of epoch n°11, init aggregated model for each partner with models from previous round\n"
     ]
    },
    {
     "name": "stderr",
     "output_type": "stream",
     "text": [
      "2020-08-13 10:23:32.384 | DEBUG    | pkg.multi_partner_learning:log_collaborative_round_partner_result:513 - Epoch 11/19 > Minibatch 00/02 > Partner id #0 (0/2) > val_acc: 0.98\n",
      "2020-08-13 10:23:33.145 | DEBUG    | pkg.multi_partner_learning:log_collaborative_round_partner_result:513 - Epoch 11/19 > Minibatch 00/02 > Partner id #1 (1/2) > val_acc: 0.98\n",
      "2020-08-13 10:23:33.869 | DEBUG    | pkg.multi_partner_learning:log_collaborative_round_partner_result:513 - Epoch 11/19 > Minibatch 00/02 > Partner id #2 (2/2) > val_acc: 0.98\n",
      "2020-08-13 10:23:33.872 | DEBUG    | pkg.multi_partner_learning:compute_collaborative_round_fedavg:303 - End of fedavg collaborative round.\n",
      "2020-08-13 10:23:33.873 | DEBUG    | pkg.multi_partner_learning:compute_collaborative_round_fedavg:259 - Start new fedavg collaborative round ...\n",
      "2020-08-13 10:23:33.873 | DEBUG    | pkg.multi_partner_learning:compute_collaborative_round_fedavg:271 - (fedavg) Minibatch n°1 of epoch n°11, init aggregated model for each partner with models from previous round\n",
      "2020-08-13 10:23:35.158 | DEBUG    | pkg.multi_partner_learning:log_collaborative_round_partner_result:513 - Epoch 11/19 > Minibatch 01/02 > Partner id #0 (0/2) > val_acc: 0.98\n",
      "2020-08-13 10:23:35.924 | DEBUG    | pkg.multi_partner_learning:log_collaborative_round_partner_result:513 - Epoch 11/19 > Minibatch 01/02 > Partner id #1 (1/2) > val_acc: 0.98\n",
      "2020-08-13 10:23:36.649 | DEBUG    | pkg.multi_partner_learning:log_collaborative_round_partner_result:513 - Epoch 11/19 > Minibatch 01/02 > Partner id #2 (2/2) > val_acc: 0.98\n",
      "2020-08-13 10:23:36.652 | DEBUG    | pkg.multi_partner_learning:compute_collaborative_round_fedavg:303 - End of fedavg collaborative round.\n",
      "2020-08-13 10:23:36.653 | DEBUG    | pkg.multi_partner_learning:compute_collaborative_round_fedavg:259 - Start new fedavg collaborative round ...\n",
      "2020-08-13 10:23:36.653 | DEBUG    | pkg.multi_partner_learning:compute_collaborative_round_fedavg:271 - (fedavg) Minibatch n°2 of epoch n°11, init aggregated model for each partner with models from previous round\n",
      "2020-08-13 10:23:37.734 | DEBUG    | pkg.multi_partner_learning:log_collaborative_round_partner_result:513 - Epoch 11/19 > Minibatch 02/02 > Partner id #0 (0/2) > val_acc: 0.98\n",
      "2020-08-13 10:23:38.500 | DEBUG    | pkg.multi_partner_learning:log_collaborative_round_partner_result:513 - Epoch 11/19 > Minibatch 02/02 > Partner id #1 (1/2) > val_acc: 0.98\n",
      "2020-08-13 10:23:39.223 | DEBUG    | pkg.multi_partner_learning:log_collaborative_round_partner_result:513 - Epoch 11/19 > Minibatch 02/02 > Partner id #2 (2/2) > val_acc: 0.98\n",
      "2020-08-13 10:23:39.227 | DEBUG    | pkg.multi_partner_learning:compute_collaborative_round_fedavg:303 - End of fedavg collaborative round.\n",
      "2020-08-13 10:23:39.521 | INFO     | pkg.multi_partner_learning:compute_test_score:184 -    Model evaluation at the end of the epoch: ['0.054', '0.984']\n",
      "2020-08-13 10:23:39.522 | DEBUG    | pkg.multi_partner_learning:compute_test_score:187 -       Checking if early stopping criteria are met:\n",
      "2020-08-13 10:23:39.523 | DEBUG    | pkg.multi_partner_learning:compute_test_score:197 -          -> Early stopping criteria are not met, continuing with training.\n",
      "2020-08-13 10:23:39.578 | DEBUG    | pkg.multi_partner_learning:compute_collaborative_round_fedavg:259 - Start new fedavg collaborative round ...\n",
      "2020-08-13 10:23:39.579 | DEBUG    | pkg.multi_partner_learning:compute_collaborative_round_fedavg:271 - (fedavg) Minibatch n°0 of epoch n°12, init aggregated model for each partner with models from previous round\n",
      "2020-08-13 10:23:40.649 | DEBUG    | pkg.multi_partner_learning:log_collaborative_round_partner_result:513 - Epoch 12/19 > Minibatch 00/02 > Partner id #0 (0/2) > val_acc: 0.98\n",
      "2020-08-13 10:23:41.590 | DEBUG    | pkg.multi_partner_learning:log_collaborative_round_partner_result:513 - Epoch 12/19 > Minibatch 00/02 > Partner id #1 (1/2) > val_acc: 0.98\n",
      "2020-08-13 10:23:42.322 | DEBUG    | pkg.multi_partner_learning:log_collaborative_round_partner_result:513 - Epoch 12/19 > Minibatch 00/02 > Partner id #2 (2/2) > val_acc: 0.98\n",
      "2020-08-13 10:23:42.326 | DEBUG    | pkg.multi_partner_learning:compute_collaborative_round_fedavg:303 - End of fedavg collaborative round.\n",
      "2020-08-13 10:23:42.327 | DEBUG    | pkg.multi_partner_learning:compute_collaborative_round_fedavg:259 - Start new fedavg collaborative round ...\n",
      "2020-08-13 10:23:42.327 | DEBUG    | pkg.multi_partner_learning:compute_collaborative_round_fedavg:271 - (fedavg) Minibatch n°1 of epoch n°12, init aggregated model for each partner with models from previous round\n",
      "2020-08-13 10:23:43.396 | DEBUG    | pkg.multi_partner_learning:log_collaborative_round_partner_result:513 - Epoch 12/19 > Minibatch 01/02 > Partner id #0 (0/2) > val_acc: 0.98\n",
      "2020-08-13 10:23:44.155 | DEBUG    | pkg.multi_partner_learning:log_collaborative_round_partner_result:513 - Epoch 12/19 > Minibatch 01/02 > Partner id #1 (1/2) > val_acc: 0.98\n",
      "2020-08-13 10:23:44.881 | DEBUG    | pkg.multi_partner_learning:log_collaborative_round_partner_result:513 - Epoch 12/19 > Minibatch 01/02 > Partner id #2 (2/2) > val_acc: 0.98\n",
      "2020-08-13 10:23:44.884 | DEBUG    | pkg.multi_partner_learning:compute_collaborative_round_fedavg:303 - End of fedavg collaborative round.\n",
      "2020-08-13 10:23:44.885 | DEBUG    | pkg.multi_partner_learning:compute_collaborative_round_fedavg:259 - Start new fedavg collaborative round ...\n",
      "2020-08-13 10:23:44.885 | DEBUG    | pkg.multi_partner_learning:compute_collaborative_round_fedavg:271 - (fedavg) Minibatch n°2 of epoch n°12, init aggregated model for each partner with models from previous round\n",
      "2020-08-13 10:23:45.955 | DEBUG    | pkg.multi_partner_learning:log_collaborative_round_partner_result:513 - Epoch 12/19 > Minibatch 02/02 > Partner id #0 (0/2) > val_acc: 0.98\n",
      "2020-08-13 10:23:46.722 | DEBUG    | pkg.multi_partner_learning:log_collaborative_round_partner_result:513 - Epoch 12/19 > Minibatch 02/02 > Partner id #1 (1/2) > val_acc: 0.98\n",
      "2020-08-13 10:23:47.446 | DEBUG    | pkg.multi_partner_learning:log_collaborative_round_partner_result:513 - Epoch 12/19 > Minibatch 02/02 > Partner id #2 (2/2) > val_acc: 0.98\n",
      "2020-08-13 10:23:47.449 | DEBUG    | pkg.multi_partner_learning:compute_collaborative_round_fedavg:303 - End of fedavg collaborative round.\n",
      "2020-08-13 10:23:47.962 | INFO     | pkg.multi_partner_learning:compute_test_score:184 -    Model evaluation at the end of the epoch: ['0.049', '0.986']\n",
      "2020-08-13 10:23:47.962 | DEBUG    | pkg.multi_partner_learning:compute_test_score:187 -       Checking if early stopping criteria are met:\n",
      "2020-08-13 10:23:47.963 | DEBUG    | pkg.multi_partner_learning:compute_test_score:197 -          -> Early stopping criteria are not met, continuing with training.\n",
      "2020-08-13 10:23:48.020 | DEBUG    | pkg.multi_partner_learning:compute_collaborative_round_fedavg:259 - Start new fedavg collaborative round ...\n",
      "2020-08-13 10:23:48.020 | DEBUG    | pkg.multi_partner_learning:compute_collaborative_round_fedavg:271 - (fedavg) Minibatch n°0 of epoch n°13, init aggregated model for each partner with models from previous round\n",
      "2020-08-13 10:23:49.077 | DEBUG    | pkg.multi_partner_learning:log_collaborative_round_partner_result:513 - Epoch 13/19 > Minibatch 00/02 > Partner id #0 (0/2) > val_acc: 0.97\n",
      "2020-08-13 10:23:49.836 | DEBUG    | pkg.multi_partner_learning:log_collaborative_round_partner_result:513 - Epoch 13/19 > Minibatch 00/02 > Partner id #1 (1/2) > val_acc: 0.98\n",
      "2020-08-13 10:23:50.572 | DEBUG    | pkg.multi_partner_learning:log_collaborative_round_partner_result:513 - Epoch 13/19 > Minibatch 00/02 > Partner id #2 (2/2) > val_acc: 0.98\n",
      "2020-08-13 10:23:50.575 | DEBUG    | pkg.multi_partner_learning:compute_collaborative_round_fedavg:303 - End of fedavg collaborative round.\n",
      "2020-08-13 10:23:50.575 | DEBUG    | pkg.multi_partner_learning:compute_collaborative_round_fedavg:259 - Start new fedavg collaborative round ...\n",
      "2020-08-13 10:23:50.576 | DEBUG    | pkg.multi_partner_learning:compute_collaborative_round_fedavg:271 - (fedavg) Minibatch n°1 of epoch n°13, init aggregated model for each partner with models from previous round\n",
      "2020-08-13 10:23:51.638 | DEBUG    | pkg.multi_partner_learning:log_collaborative_round_partner_result:513 - Epoch 13/19 > Minibatch 01/02 > Partner id #0 (0/2) > val_acc: 0.98\n"
     ]
    },
    {
     "name": "stderr",
     "output_type": "stream",
     "text": [
      "2020-08-13 10:23:52.395 | DEBUG    | pkg.multi_partner_learning:log_collaborative_round_partner_result:513 - Epoch 13/19 > Minibatch 01/02 > Partner id #1 (1/2) > val_acc: 0.98\n",
      "2020-08-13 10:23:53.130 | DEBUG    | pkg.multi_partner_learning:log_collaborative_round_partner_result:513 - Epoch 13/19 > Minibatch 01/02 > Partner id #2 (2/2) > val_acc: 0.98\n",
      "2020-08-13 10:23:53.133 | DEBUG    | pkg.multi_partner_learning:compute_collaborative_round_fedavg:303 - End of fedavg collaborative round.\n",
      "2020-08-13 10:23:53.133 | DEBUG    | pkg.multi_partner_learning:compute_collaborative_round_fedavg:259 - Start new fedavg collaborative round ...\n",
      "2020-08-13 10:23:53.134 | DEBUG    | pkg.multi_partner_learning:compute_collaborative_round_fedavg:271 - (fedavg) Minibatch n°2 of epoch n°13, init aggregated model for each partner with models from previous round\n",
      "2020-08-13 10:23:54.332 | DEBUG    | pkg.multi_partner_learning:log_collaborative_round_partner_result:513 - Epoch 13/19 > Minibatch 02/02 > Partner id #0 (0/2) > val_acc: 0.98\n",
      "2020-08-13 10:23:55.096 | DEBUG    | pkg.multi_partner_learning:log_collaborative_round_partner_result:513 - Epoch 13/19 > Minibatch 02/02 > Partner id #1 (1/2) > val_acc: 0.98\n",
      "2020-08-13 10:23:55.832 | DEBUG    | pkg.multi_partner_learning:log_collaborative_round_partner_result:513 - Epoch 13/19 > Minibatch 02/02 > Partner id #2 (2/2) > val_acc: 0.98\n",
      "2020-08-13 10:23:55.835 | DEBUG    | pkg.multi_partner_learning:compute_collaborative_round_fedavg:303 - End of fedavg collaborative round.\n",
      "2020-08-13 10:23:56.127 | INFO     | pkg.multi_partner_learning:compute_test_score:184 -    Model evaluation at the end of the epoch: ['0.046', '0.988']\n",
      "2020-08-13 10:23:56.128 | DEBUG    | pkg.multi_partner_learning:compute_test_score:187 -       Checking if early stopping criteria are met:\n",
      "2020-08-13 10:23:56.129 | DEBUG    | pkg.multi_partner_learning:compute_test_score:197 -          -> Early stopping criteria are not met, continuing with training.\n",
      "2020-08-13 10:23:56.185 | DEBUG    | pkg.multi_partner_learning:compute_collaborative_round_fedavg:259 - Start new fedavg collaborative round ...\n",
      "2020-08-13 10:23:56.186 | DEBUG    | pkg.multi_partner_learning:compute_collaborative_round_fedavg:271 - (fedavg) Minibatch n°0 of epoch n°14, init aggregated model for each partner with models from previous round\n",
      "2020-08-13 10:23:57.245 | DEBUG    | pkg.multi_partner_learning:log_collaborative_round_partner_result:513 - Epoch 14/19 > Minibatch 00/02 > Partner id #0 (0/2) > val_acc: 0.98\n",
      "2020-08-13 10:23:58.010 | DEBUG    | pkg.multi_partner_learning:log_collaborative_round_partner_result:513 - Epoch 14/19 > Minibatch 00/02 > Partner id #1 (1/2) > val_acc: 0.98\n",
      "2020-08-13 10:23:58.747 | DEBUG    | pkg.multi_partner_learning:log_collaborative_round_partner_result:513 - Epoch 14/19 > Minibatch 00/02 > Partner id #2 (2/2) > val_acc: 0.98\n",
      "2020-08-13 10:23:58.750 | DEBUG    | pkg.multi_partner_learning:compute_collaborative_round_fedavg:303 - End of fedavg collaborative round.\n",
      "2020-08-13 10:23:58.751 | DEBUG    | pkg.multi_partner_learning:compute_collaborative_round_fedavg:259 - Start new fedavg collaborative round ...\n",
      "2020-08-13 10:23:58.751 | DEBUG    | pkg.multi_partner_learning:compute_collaborative_round_fedavg:271 - (fedavg) Minibatch n°1 of epoch n°14, init aggregated model for each partner with models from previous round\n",
      "2020-08-13 10:23:59.886 | DEBUG    | pkg.multi_partner_learning:log_collaborative_round_partner_result:513 - Epoch 14/19 > Minibatch 01/02 > Partner id #0 (0/2) > val_acc: 0.98\n",
      "2020-08-13 10:24:00.898 | DEBUG    | pkg.multi_partner_learning:log_collaborative_round_partner_result:513 - Epoch 14/19 > Minibatch 01/02 > Partner id #1 (1/2) > val_acc: 0.98\n",
      "2020-08-13 10:24:01.689 | DEBUG    | pkg.multi_partner_learning:log_collaborative_round_partner_result:513 - Epoch 14/19 > Minibatch 01/02 > Partner id #2 (2/2) > val_acc: 0.98\n",
      "2020-08-13 10:24:01.693 | DEBUG    | pkg.multi_partner_learning:compute_collaborative_round_fedavg:303 - End of fedavg collaborative round.\n",
      "2020-08-13 10:24:01.693 | DEBUG    | pkg.multi_partner_learning:compute_collaborative_round_fedavg:259 - Start new fedavg collaborative round ...\n",
      "2020-08-13 10:24:01.694 | DEBUG    | pkg.multi_partner_learning:compute_collaborative_round_fedavg:271 - (fedavg) Minibatch n°2 of epoch n°14, init aggregated model for each partner with models from previous round\n",
      "2020-08-13 10:24:02.779 | DEBUG    | pkg.multi_partner_learning:log_collaborative_round_partner_result:513 - Epoch 14/19 > Minibatch 02/02 > Partner id #0 (0/2) > val_acc: 0.98\n",
      "2020-08-13 10:24:03.580 | DEBUG    | pkg.multi_partner_learning:log_collaborative_round_partner_result:513 - Epoch 14/19 > Minibatch 02/02 > Partner id #1 (1/2) > val_acc: 0.98\n",
      "2020-08-13 10:24:04.351 | DEBUG    | pkg.multi_partner_learning:log_collaborative_round_partner_result:513 - Epoch 14/19 > Minibatch 02/02 > Partner id #2 (2/2) > val_acc: 0.98\n",
      "2020-08-13 10:24:04.355 | DEBUG    | pkg.multi_partner_learning:compute_collaborative_round_fedavg:303 - End of fedavg collaborative round.\n",
      "2020-08-13 10:24:04.702 | INFO     | pkg.multi_partner_learning:compute_test_score:184 -    Model evaluation at the end of the epoch: ['0.046', '0.987']\n",
      "2020-08-13 10:24:04.703 | DEBUG    | pkg.multi_partner_learning:compute_test_score:187 -       Checking if early stopping criteria are met:\n",
      "2020-08-13 10:24:04.703 | DEBUG    | pkg.multi_partner_learning:compute_test_score:197 -          -> Early stopping criteria are not met, continuing with training.\n",
      "2020-08-13 10:24:04.765 | DEBUG    | pkg.multi_partner_learning:compute_collaborative_round_fedavg:259 - Start new fedavg collaborative round ...\n",
      "2020-08-13 10:24:04.766 | DEBUG    | pkg.multi_partner_learning:compute_collaborative_round_fedavg:271 - (fedavg) Minibatch n°0 of epoch n°15, init aggregated model for each partner with models from previous round\n",
      "2020-08-13 10:24:06.229 | DEBUG    | pkg.multi_partner_learning:log_collaborative_round_partner_result:513 - Epoch 15/19 > Minibatch 00/02 > Partner id #0 (0/2) > val_acc: 0.98\n",
      "2020-08-13 10:24:07.200 | DEBUG    | pkg.multi_partner_learning:log_collaborative_round_partner_result:513 - Epoch 15/19 > Minibatch 00/02 > Partner id #1 (1/2) > val_acc: 0.98\n",
      "2020-08-13 10:24:08.229 | DEBUG    | pkg.multi_partner_learning:log_collaborative_round_partner_result:513 - Epoch 15/19 > Minibatch 00/02 > Partner id #2 (2/2) > val_acc: 0.98\n",
      "2020-08-13 10:24:08.233 | DEBUG    | pkg.multi_partner_learning:compute_collaborative_round_fedavg:303 - End of fedavg collaborative round.\n",
      "2020-08-13 10:24:08.233 | DEBUG    | pkg.multi_partner_learning:compute_collaborative_round_fedavg:259 - Start new fedavg collaborative round ...\n",
      "2020-08-13 10:24:08.234 | DEBUG    | pkg.multi_partner_learning:compute_collaborative_round_fedavg:271 - (fedavg) Minibatch n°1 of epoch n°15, init aggregated model for each partner with models from previous round\n",
      "2020-08-13 10:24:09.410 | DEBUG    | pkg.multi_partner_learning:log_collaborative_round_partner_result:513 - Epoch 15/19 > Minibatch 01/02 > Partner id #0 (0/2) > val_acc: 0.98\n",
      "2020-08-13 10:24:10.326 | DEBUG    | pkg.multi_partner_learning:log_collaborative_round_partner_result:513 - Epoch 15/19 > Minibatch 01/02 > Partner id #1 (1/2) > val_acc: 0.99\n",
      "2020-08-13 10:24:11.153 | DEBUG    | pkg.multi_partner_learning:log_collaborative_round_partner_result:513 - Epoch 15/19 > Minibatch 01/02 > Partner id #2 (2/2) > val_acc: 0.98\n",
      "2020-08-13 10:24:11.157 | DEBUG    | pkg.multi_partner_learning:compute_collaborative_round_fedavg:303 - End of fedavg collaborative round.\n",
      "2020-08-13 10:24:11.158 | DEBUG    | pkg.multi_partner_learning:compute_collaborative_round_fedavg:259 - Start new fedavg collaborative round ...\n",
      "2020-08-13 10:24:11.158 | DEBUG    | pkg.multi_partner_learning:compute_collaborative_round_fedavg:271 - (fedavg) Minibatch n°2 of epoch n°15, init aggregated model for each partner with models from previous round\n",
      "2020-08-13 10:24:12.315 | DEBUG    | pkg.multi_partner_learning:log_collaborative_round_partner_result:513 - Epoch 15/19 > Minibatch 02/02 > Partner id #0 (0/2) > val_acc: 0.99\n",
      "2020-08-13 10:24:13.118 | DEBUG    | pkg.multi_partner_learning:log_collaborative_round_partner_result:513 - Epoch 15/19 > Minibatch 02/02 > Partner id #1 (1/2) > val_acc: 0.98\n"
     ]
    },
    {
     "name": "stderr",
     "output_type": "stream",
     "text": [
      "2020-08-13 10:24:14.056 | DEBUG    | pkg.multi_partner_learning:log_collaborative_round_partner_result:513 - Epoch 15/19 > Minibatch 02/02 > Partner id #2 (2/2) > val_acc: 0.98\n",
      "2020-08-13 10:24:14.061 | DEBUG    | pkg.multi_partner_learning:compute_collaborative_round_fedavg:303 - End of fedavg collaborative round.\n",
      "2020-08-13 10:24:14.409 | INFO     | pkg.multi_partner_learning:compute_test_score:184 -    Model evaluation at the end of the epoch: ['0.041', '0.988']\n",
      "2020-08-13 10:24:14.410 | DEBUG    | pkg.multi_partner_learning:compute_test_score:187 -       Checking if early stopping criteria are met:\n",
      "2020-08-13 10:24:14.410 | DEBUG    | pkg.multi_partner_learning:compute_test_score:197 -          -> Early stopping criteria are not met, continuing with training.\n",
      "2020-08-13 10:24:14.476 | DEBUG    | pkg.multi_partner_learning:compute_collaborative_round_fedavg:259 - Start new fedavg collaborative round ...\n",
      "2020-08-13 10:24:14.477 | DEBUG    | pkg.multi_partner_learning:compute_collaborative_round_fedavg:271 - (fedavg) Minibatch n°0 of epoch n°16, init aggregated model for each partner with models from previous round\n",
      "2020-08-13 10:24:16.117 | DEBUG    | pkg.multi_partner_learning:log_collaborative_round_partner_result:513 - Epoch 16/19 > Minibatch 00/02 > Partner id #0 (0/2) > val_acc: 0.98\n",
      "2020-08-13 10:24:17.238 | DEBUG    | pkg.multi_partner_learning:log_collaborative_round_partner_result:513 - Epoch 16/19 > Minibatch 00/02 > Partner id #1 (1/2) > val_acc: 0.99\n",
      "2020-08-13 10:24:18.150 | DEBUG    | pkg.multi_partner_learning:log_collaborative_round_partner_result:513 - Epoch 16/19 > Minibatch 00/02 > Partner id #2 (2/2) > val_acc: 0.99\n",
      "2020-08-13 10:24:18.153 | DEBUG    | pkg.multi_partner_learning:compute_collaborative_round_fedavg:303 - End of fedavg collaborative round.\n",
      "2020-08-13 10:24:18.154 | DEBUG    | pkg.multi_partner_learning:compute_collaborative_round_fedavg:259 - Start new fedavg collaborative round ...\n",
      "2020-08-13 10:24:18.154 | DEBUG    | pkg.multi_partner_learning:compute_collaborative_round_fedavg:271 - (fedavg) Minibatch n°1 of epoch n°16, init aggregated model for each partner with models from previous round\n",
      "2020-08-13 10:24:19.391 | DEBUG    | pkg.multi_partner_learning:log_collaborative_round_partner_result:513 - Epoch 16/19 > Minibatch 01/02 > Partner id #0 (0/2) > val_acc: 0.98\n",
      "2020-08-13 10:24:20.268 | DEBUG    | pkg.multi_partner_learning:log_collaborative_round_partner_result:513 - Epoch 16/19 > Minibatch 01/02 > Partner id #1 (1/2) > val_acc: 0.98\n",
      "2020-08-13 10:24:21.095 | DEBUG    | pkg.multi_partner_learning:log_collaborative_round_partner_result:513 - Epoch 16/19 > Minibatch 01/02 > Partner id #2 (2/2) > val_acc: 0.99\n",
      "2020-08-13 10:24:21.098 | DEBUG    | pkg.multi_partner_learning:compute_collaborative_round_fedavg:303 - End of fedavg collaborative round.\n",
      "2020-08-13 10:24:21.100 | DEBUG    | pkg.multi_partner_learning:compute_collaborative_round_fedavg:259 - Start new fedavg collaborative round ...\n",
      "2020-08-13 10:24:21.100 | DEBUG    | pkg.multi_partner_learning:compute_collaborative_round_fedavg:271 - (fedavg) Minibatch n°2 of epoch n°16, init aggregated model for each partner with models from previous round\n",
      "2020-08-13 10:24:22.269 | DEBUG    | pkg.multi_partner_learning:log_collaborative_round_partner_result:513 - Epoch 16/19 > Minibatch 02/02 > Partner id #0 (0/2) > val_acc: 0.98\n",
      "2020-08-13 10:24:23.260 | DEBUG    | pkg.multi_partner_learning:log_collaborative_round_partner_result:513 - Epoch 16/19 > Minibatch 02/02 > Partner id #1 (1/2) > val_acc: 0.98\n",
      "2020-08-13 10:24:24.054 | DEBUG    | pkg.multi_partner_learning:log_collaborative_round_partner_result:513 - Epoch 16/19 > Minibatch 02/02 > Partner id #2 (2/2) > val_acc: 0.99\n",
      "2020-08-13 10:24:24.057 | DEBUG    | pkg.multi_partner_learning:compute_collaborative_round_fedavg:303 - End of fedavg collaborative round.\n",
      "2020-08-13 10:24:24.364 | INFO     | pkg.multi_partner_learning:compute_test_score:184 -    Model evaluation at the end of the epoch: ['0.047', '0.987']\n",
      "2020-08-13 10:24:24.365 | DEBUG    | pkg.multi_partner_learning:compute_test_score:187 -       Checking if early stopping criteria are met:\n",
      "2020-08-13 10:24:24.365 | DEBUG    | pkg.multi_partner_learning:compute_test_score:197 -          -> Early stopping criteria are not met, continuing with training.\n",
      "2020-08-13 10:24:24.418 | DEBUG    | pkg.multi_partner_learning:compute_collaborative_round_fedavg:259 - Start new fedavg collaborative round ...\n",
      "2020-08-13 10:24:24.419 | DEBUG    | pkg.multi_partner_learning:compute_collaborative_round_fedavg:271 - (fedavg) Minibatch n°0 of epoch n°17, init aggregated model for each partner with models from previous round\n",
      "2020-08-13 10:24:25.502 | DEBUG    | pkg.multi_partner_learning:log_collaborative_round_partner_result:513 - Epoch 17/19 > Minibatch 00/02 > Partner id #0 (0/2) > val_acc: 0.98\n",
      "2020-08-13 10:24:26.314 | DEBUG    | pkg.multi_partner_learning:log_collaborative_round_partner_result:513 - Epoch 17/19 > Minibatch 00/02 > Partner id #1 (1/2) > val_acc: 0.98\n",
      "2020-08-13 10:24:27.080 | DEBUG    | pkg.multi_partner_learning:log_collaborative_round_partner_result:513 - Epoch 17/19 > Minibatch 00/02 > Partner id #2 (2/2) > val_acc: 0.99\n",
      "2020-08-13 10:24:27.083 | DEBUG    | pkg.multi_partner_learning:compute_collaborative_round_fedavg:303 - End of fedavg collaborative round.\n",
      "2020-08-13 10:24:27.084 | DEBUG    | pkg.multi_partner_learning:compute_collaborative_round_fedavg:259 - Start new fedavg collaborative round ...\n",
      "2020-08-13 10:24:27.084 | DEBUG    | pkg.multi_partner_learning:compute_collaborative_round_fedavg:271 - (fedavg) Minibatch n°1 of epoch n°17, init aggregated model for each partner with models from previous round\n",
      "2020-08-13 10:24:28.196 | DEBUG    | pkg.multi_partner_learning:log_collaborative_round_partner_result:513 - Epoch 17/19 > Minibatch 01/02 > Partner id #0 (0/2) > val_acc: 0.98\n",
      "2020-08-13 10:24:28.991 | DEBUG    | pkg.multi_partner_learning:log_collaborative_round_partner_result:513 - Epoch 17/19 > Minibatch 01/02 > Partner id #1 (1/2) > val_acc: 0.99\n",
      "2020-08-13 10:24:29.933 | DEBUG    | pkg.multi_partner_learning:log_collaborative_round_partner_result:513 - Epoch 17/19 > Minibatch 01/02 > Partner id #2 (2/2) > val_acc: 0.98\n",
      "2020-08-13 10:24:29.937 | DEBUG    | pkg.multi_partner_learning:compute_collaborative_round_fedavg:303 - End of fedavg collaborative round.\n",
      "2020-08-13 10:24:29.937 | DEBUG    | pkg.multi_partner_learning:compute_collaborative_round_fedavg:259 - Start new fedavg collaborative round ...\n",
      "2020-08-13 10:24:29.938 | DEBUG    | pkg.multi_partner_learning:compute_collaborative_round_fedavg:271 - (fedavg) Minibatch n°2 of epoch n°17, init aggregated model for each partner with models from previous round\n",
      "2020-08-13 10:24:31.050 | DEBUG    | pkg.multi_partner_learning:log_collaborative_round_partner_result:513 - Epoch 17/19 > Minibatch 02/02 > Partner id #0 (0/2) > val_acc: 0.98\n",
      "2020-08-13 10:24:31.860 | DEBUG    | pkg.multi_partner_learning:log_collaborative_round_partner_result:513 - Epoch 17/19 > Minibatch 02/02 > Partner id #1 (1/2) > val_acc: 0.99\n",
      "2020-08-13 10:24:32.688 | DEBUG    | pkg.multi_partner_learning:log_collaborative_round_partner_result:513 - Epoch 17/19 > Minibatch 02/02 > Partner id #2 (2/2) > val_acc: 0.98\n",
      "2020-08-13 10:24:32.691 | DEBUG    | pkg.multi_partner_learning:compute_collaborative_round_fedavg:303 - End of fedavg collaborative round.\n",
      "2020-08-13 10:24:33.006 | INFO     | pkg.multi_partner_learning:compute_test_score:184 -    Model evaluation at the end of the epoch: ['0.043', '0.988']\n",
      "2020-08-13 10:24:33.007 | DEBUG    | pkg.multi_partner_learning:compute_test_score:187 -       Checking if early stopping criteria are met:\n",
      "2020-08-13 10:24:33.007 | DEBUG    | pkg.multi_partner_learning:compute_test_score:197 -          -> Early stopping criteria are not met, continuing with training.\n",
      "2020-08-13 10:24:33.059 | DEBUG    | pkg.multi_partner_learning:compute_collaborative_round_fedavg:259 - Start new fedavg collaborative round ...\n",
      "2020-08-13 10:24:33.060 | DEBUG    | pkg.multi_partner_learning:compute_collaborative_round_fedavg:271 - (fedavg) Minibatch n°0 of epoch n°18, init aggregated model for each partner with models from previous round\n"
     ]
    },
    {
     "name": "stderr",
     "output_type": "stream",
     "text": [
      "2020-08-13 10:24:34.184 | DEBUG    | pkg.multi_partner_learning:log_collaborative_round_partner_result:513 - Epoch 18/19 > Minibatch 00/02 > Partner id #0 (0/2) > val_acc: 0.98\n",
      "2020-08-13 10:24:34.965 | DEBUG    | pkg.multi_partner_learning:log_collaborative_round_partner_result:513 - Epoch 18/19 > Minibatch 00/02 > Partner id #1 (1/2) > val_acc: 0.99\n",
      "2020-08-13 10:24:35.755 | DEBUG    | pkg.multi_partner_learning:log_collaborative_round_partner_result:513 - Epoch 18/19 > Minibatch 00/02 > Partner id #2 (2/2) > val_acc: 0.99\n",
      "2020-08-13 10:24:35.759 | DEBUG    | pkg.multi_partner_learning:compute_collaborative_round_fedavg:303 - End of fedavg collaborative round.\n",
      "2020-08-13 10:24:35.760 | DEBUG    | pkg.multi_partner_learning:compute_collaborative_round_fedavg:259 - Start new fedavg collaborative round ...\n",
      "2020-08-13 10:24:35.761 | DEBUG    | pkg.multi_partner_learning:compute_collaborative_round_fedavg:271 - (fedavg) Minibatch n°1 of epoch n°18, init aggregated model for each partner with models from previous round\n",
      "2020-08-13 10:24:37.126 | DEBUG    | pkg.multi_partner_learning:log_collaborative_round_partner_result:513 - Epoch 18/19 > Minibatch 01/02 > Partner id #0 (0/2) > val_acc: 0.99\n",
      "2020-08-13 10:24:37.916 | DEBUG    | pkg.multi_partner_learning:log_collaborative_round_partner_result:513 - Epoch 18/19 > Minibatch 01/02 > Partner id #1 (1/2) > val_acc: 0.99\n",
      "2020-08-13 10:24:38.652 | DEBUG    | pkg.multi_partner_learning:log_collaborative_round_partner_result:513 - Epoch 18/19 > Minibatch 01/02 > Partner id #2 (2/2) > val_acc: 0.98\n",
      "2020-08-13 10:24:38.656 | DEBUG    | pkg.multi_partner_learning:compute_collaborative_round_fedavg:303 - End of fedavg collaborative round.\n",
      "2020-08-13 10:24:38.657 | DEBUG    | pkg.multi_partner_learning:compute_collaborative_round_fedavg:259 - Start new fedavg collaborative round ...\n",
      "2020-08-13 10:24:38.657 | DEBUG    | pkg.multi_partner_learning:compute_collaborative_round_fedavg:271 - (fedavg) Minibatch n°2 of epoch n°18, init aggregated model for each partner with models from previous round\n",
      "2020-08-13 10:24:39.805 | DEBUG    | pkg.multi_partner_learning:log_collaborative_round_partner_result:513 - Epoch 18/19 > Minibatch 02/02 > Partner id #0 (0/2) > val_acc: 0.98\n",
      "2020-08-13 10:24:40.609 | DEBUG    | pkg.multi_partner_learning:log_collaborative_round_partner_result:513 - Epoch 18/19 > Minibatch 02/02 > Partner id #1 (1/2) > val_acc: 0.99\n",
      "2020-08-13 10:24:41.417 | DEBUG    | pkg.multi_partner_learning:log_collaborative_round_partner_result:513 - Epoch 18/19 > Minibatch 02/02 > Partner id #2 (2/2) > val_acc: 0.99\n",
      "2020-08-13 10:24:41.421 | DEBUG    | pkg.multi_partner_learning:compute_collaborative_round_fedavg:303 - End of fedavg collaborative round.\n",
      "2020-08-13 10:24:41.751 | INFO     | pkg.multi_partner_learning:compute_test_score:184 -    Model evaluation at the end of the epoch: ['0.041', '0.989']\n",
      "2020-08-13 10:24:41.752 | DEBUG    | pkg.multi_partner_learning:compute_test_score:187 -       Checking if early stopping criteria are met:\n",
      "2020-08-13 10:24:41.752 | DEBUG    | pkg.multi_partner_learning:compute_test_score:197 -          -> Early stopping criteria are not met, continuing with training.\n",
      "2020-08-13 10:24:41.810 | DEBUG    | pkg.multi_partner_learning:compute_collaborative_round_fedavg:259 - Start new fedavg collaborative round ...\n",
      "2020-08-13 10:24:41.811 | DEBUG    | pkg.multi_partner_learning:compute_collaborative_round_fedavg:271 - (fedavg) Minibatch n°0 of epoch n°19, init aggregated model for each partner with models from previous round\n",
      "2020-08-13 10:24:42.914 | DEBUG    | pkg.multi_partner_learning:log_collaborative_round_partner_result:513 - Epoch 19/19 > Minibatch 00/02 > Partner id #0 (0/2) > val_acc: 0.98\n",
      "2020-08-13 10:24:43.910 | DEBUG    | pkg.multi_partner_learning:log_collaborative_round_partner_result:513 - Epoch 19/19 > Minibatch 00/02 > Partner id #1 (1/2) > val_acc: 0.99\n",
      "2020-08-13 10:24:44.672 | DEBUG    | pkg.multi_partner_learning:log_collaborative_round_partner_result:513 - Epoch 19/19 > Minibatch 00/02 > Partner id #2 (2/2) > val_acc: 0.98\n",
      "2020-08-13 10:24:44.676 | DEBUG    | pkg.multi_partner_learning:compute_collaborative_round_fedavg:303 - End of fedavg collaborative round.\n",
      "2020-08-13 10:24:44.676 | DEBUG    | pkg.multi_partner_learning:compute_collaborative_round_fedavg:259 - Start new fedavg collaborative round ...\n",
      "2020-08-13 10:24:44.677 | DEBUG    | pkg.multi_partner_learning:compute_collaborative_round_fedavg:271 - (fedavg) Minibatch n°1 of epoch n°19, init aggregated model for each partner with models from previous round\n",
      "2020-08-13 10:24:45.742 | DEBUG    | pkg.multi_partner_learning:log_collaborative_round_partner_result:513 - Epoch 19/19 > Minibatch 01/02 > Partner id #0 (0/2) > val_acc: 0.98\n",
      "2020-08-13 10:24:46.508 | DEBUG    | pkg.multi_partner_learning:log_collaborative_round_partner_result:513 - Epoch 19/19 > Minibatch 01/02 > Partner id #1 (1/2) > val_acc: 0.99\n",
      "2020-08-13 10:24:47.248 | DEBUG    | pkg.multi_partner_learning:log_collaborative_round_partner_result:513 - Epoch 19/19 > Minibatch 01/02 > Partner id #2 (2/2) > val_acc: 0.98\n",
      "2020-08-13 10:24:47.251 | DEBUG    | pkg.multi_partner_learning:compute_collaborative_round_fedavg:303 - End of fedavg collaborative round.\n",
      "2020-08-13 10:24:47.252 | DEBUG    | pkg.multi_partner_learning:compute_collaborative_round_fedavg:259 - Start new fedavg collaborative round ...\n",
      "2020-08-13 10:24:47.252 | DEBUG    | pkg.multi_partner_learning:compute_collaborative_round_fedavg:271 - (fedavg) Minibatch n°2 of epoch n°19, init aggregated model for each partner with models from previous round\n",
      "2020-08-13 10:24:48.343 | DEBUG    | pkg.multi_partner_learning:log_collaborative_round_partner_result:513 - Epoch 19/19 > Minibatch 02/02 > Partner id #0 (0/2) > val_acc: 0.98\n",
      "2020-08-13 10:24:49.117 | DEBUG    | pkg.multi_partner_learning:log_collaborative_round_partner_result:513 - Epoch 19/19 > Minibatch 02/02 > Partner id #1 (1/2) > val_acc: 0.98\n",
      "2020-08-13 10:24:49.861 | DEBUG    | pkg.multi_partner_learning:log_collaborative_round_partner_result:513 - Epoch 19/19 > Minibatch 02/02 > Partner id #2 (2/2) > val_acc: 0.98\n",
      "2020-08-13 10:24:49.864 | DEBUG    | pkg.multi_partner_learning:compute_collaborative_round_fedavg:303 - End of fedavg collaborative round.\n",
      "2020-08-13 10:24:50.158 | INFO     | pkg.multi_partner_learning:compute_test_score:184 -    Model evaluation at the end of the epoch: ['0.045', '0.987']\n",
      "2020-08-13 10:24:50.159 | DEBUG    | pkg.multi_partner_learning:compute_test_score:187 -       Checking if early stopping criteria are met:\n",
      "2020-08-13 10:24:50.160 | DEBUG    | pkg.multi_partner_learning:compute_test_score:197 -          -> Early stopping criteria are not met, continuing with training.\n",
      "2020-08-13 10:24:50.160 | INFO     | pkg.multi_partner_learning:compute_test_score:200 - ### Evaluating model on test data:\n",
      "2020-08-13 10:24:50.380 | INFO     | pkg.multi_partner_learning:compute_test_score:203 -    Model metrics names: ['loss', 'accuracy']\n",
      "2020-08-13 10:24:50.381 | INFO     | pkg.multi_partner_learning:compute_test_score:204 -    Model metrics values: ['0.038', '0.988']\n",
      "2020-08-13 10:24:50.821 | INFO     | pkg.multi_partner_learning:compute_test_score:212 - Training and evaluation on multiple partners: done.\n"
     ]
    },
    {
     "data": {
      "text/plain": [
       "0"
      ]
     },
     "execution_count": 3,
     "metadata": {},
     "output_type": "execute_result"
    }
   ],
   "source": [
    "run_scenario(current_scenario)"
   ]
  },
  {
   "cell_type": "markdown",
   "metadata": {},
   "source": [
    "## Let's play  a bit more with results\n",
    "\n",
    "First, let's see how our loss behaves"
   ]
  },
  {
   "cell_type": "code",
   "execution_count": 4,
   "metadata": {},
   "outputs": [
    {
     "name": "stdout",
     "output_type": "stream",
     "text": [
      "[0.7236998823483785, 0.4319887046813965, 0.26377644832928976, 0.18499465934435527, 0.13111243363221486, 0.10244900031884512, 0.0952973905801773, 0.0765085033873717, 0.07033714682857195, 0.065457606981198, 0.05962629428505897, 0.05413424588739872, 0.04940927962462107, 0.04633407136797905, 0.04627195978164673, 0.04085339292883873, 0.04690235684812069, 0.04343816109498342, 0.041184709700445334, 0.044959537650148075]\n"
     ]
    }
   ],
   "source": [
    "losses = current_scenario.mpl.loss_collective_models\n",
    "print(losses)"
   ]
  },
  {
   "cell_type": "code",
   "execution_count": 5,
   "metadata": {},
   "outputs": [
    {
     "data": {
      "text/plain": [
       "<matplotlib.axes._subplots.AxesSubplot at 0x1677fbeb948>"
      ]
     },
     "execution_count": 5,
     "metadata": {},
     "output_type": "execute_result"
    },
    {
     "data": {
      "image/png": "[encoded data removed]",
      "text/plain": [
       "<Figure size 432x288 with 1 Axes>"
      ]
     },
     "metadata": {},
     "output_type": "display_data"
    }
   ],
   "source": [
    "y = range(len(losses))\n",
    "x = losses\n",
    "\n",
    "sns.lineplot(x=x, y=y)        "
   ]
  },
  {
   "cell_type": "markdown",
   "metadata": {},
   "source": [
    "### Let's see how our accuracy score goes between each partner and compare it with aggregated model performance\n",
    "\n",
    "First, let's see every accuracy value on each minibatch, for each partner on epoch 1-3"
   ]
  },
  {
   "cell_type": "code",
   "execution_count": 6,
   "metadata": {},
   "outputs": [
    {
     "name": "stdout",
     "output_type": "stream",
     "text": [
      "[[[0.59200001 0.53791666 0.51183331]\n",
      "  [0.71858335 0.75933331 0.75033331]\n",
      "  [0.72683334 0.80075002 0.80558336]]\n",
      "\n",
      " [[0.84441668 0.84249997 0.83324999]\n",
      "  [0.83891666 0.85283333 0.82233334]\n",
      "  [0.87766665 0.86291665 0.86874998]]\n",
      "\n",
      " [[0.88158333 0.87300003 0.88266665]\n",
      "  [0.88116664 0.91841668 0.91624999]\n",
      "  [0.91608334 0.92025    0.91441667]]]\n"
     ]
    }
   ],
   "source": [
    "x= current_scenario.mpl.score_matrix_per_partner\n",
    "print(x[:3]) "
   ]
  },
  {
   "cell_type": "markdown",
   "metadata": {},
   "source": [
    "This is a lot of information to deal with, for now, we will only work with the first minibatch of each epoch"
   ]
  },
  {
   "cell_type": "code",
   "execution_count": 7,
   "metadata": {},
   "outputs": [
    {
     "name": "stdout",
     "output_type": "stream",
     "text": [
      "[[0.59200001 0.71858335 0.72683334]\n",
      " [0.84441668 0.83891666 0.87766665]\n",
      " [0.88158333 0.88116664 0.91608334]]\n"
     ]
    }
   ],
   "source": [
    "x = x[:,:,0]\n",
    "print(x[:3])"
   ]
  },
  {
   "cell_type": "markdown",
   "metadata": {},
   "source": [
    "now let's pack this information in a single dataframe"
   ]
  },
  {
   "cell_type": "code",
   "execution_count": 8,
   "metadata": {},
   "outputs": [
    {
     "data": {
      "text/plain": [
       "<seaborn.axisgrid.FacetGrid at 0x1677fc09b88>"
      ]
     },
     "execution_count": 8,
     "metadata": {},
     "output_type": "execute_result"
    },
    {
     "data": {
      "image/png": "[encoded data removed]",
      "text/plain": [
       "<Figure size 443.85x360 with 1 Axes>"
      ]
     },
     "metadata": {},
     "output_type": "display_data"
    }
   ],
   "source": [
    "d = {\n",
    "    'partner 0' : x[:,0],\n",
    "    'partner 1' : x[:,1],\n",
    "    'partner 2' : x[:,2]\n",
    "}\n",
    "\n",
    "df = pd.DataFrame(d)\n",
    "\n",
    "\n",
    "sns.relplot(data = df, kind = \"line\")"
   ]
  },
  {
   "cell_type": "markdown",
   "metadata": {},
   "source": [
    "### Now let's compare this result to our averaged model\n"
   ]
  },
  {
   "cell_type": "code",
   "execution_count": 9,
   "metadata": {},
   "outputs": [
    {
     "name": "stdout",
     "output_type": "stream",
     "text": [
      "[[0.06566667 0.56916666 0.76208335 0.81699997]\n",
      " [0.81699997 0.84516668 0.85000002 0.87466669]\n",
      " [0.87466669 0.88658333 0.91825002 0.92508334]\n",
      " [0.92508334 0.92791665 0.95008332 0.94841665]\n",
      " [0.94841665 0.95508331 0.96258336 0.95966667]\n",
      " [0.95966667 0.96799999 0.96416664 0.96941668]\n",
      " [0.96941668 0.97149998 0.97166669 0.97241664]\n",
      " [0.97241664 0.97191668 0.97808331 0.97841668]\n",
      " [0.97841668 0.97758335 0.97991669 0.97958332]\n",
      " [0.97958332 0.98075002 0.98083335 0.97958332]\n",
      " [0.97958332 0.98199999 0.98441666 0.98341668]\n",
      " [0.98341668 0.98283333 0.98425001 0.98416668]\n",
      " [0.98416668 0.98441666 0.98516667 0.98633331]\n",
      " [0.98633331 0.98633331 0.98683333 0.98766667]\n",
      " [0.98766667 0.98666668 0.98641664 0.98675001]\n",
      " [0.98675001 0.98733336 0.98724997 0.98791665]\n",
      " [0.98791665 0.98833334 0.98866665 0.98699999]\n",
      " [0.98699999 0.98791665 0.98799998 0.98808336]\n",
      " [0.98808336 0.98566669 0.98716664 0.98916668]\n",
      " [0.98916668 0.98691666 0.98833334 0.98708332]]\n"
     ]
    }
   ],
   "source": [
    "x_collective = current_scenario.mpl.score_matrix_collective_models\n",
    "\n",
    "print(x_collective)"
   ]
  },
  {
   "cell_type": "markdown",
   "metadata": {},
   "source": [
    "We will just focus ourselves on the first mini batch of each epoch again"
   ]
  },
  {
   "cell_type": "code",
   "execution_count": 10,
   "metadata": {},
   "outputs": [
    {
     "name": "stdout",
     "output_type": "stream",
     "text": [
      "           0\n",
      "0   0.065667\n",
      "1   0.817000\n",
      "2   0.874667\n",
      "3   0.925083\n",
      "4   0.948417\n",
      "5   0.959667\n",
      "6   0.969417\n",
      "7   0.972417\n",
      "8   0.978417\n",
      "9   0.979583\n",
      "10  0.979583\n",
      "11  0.983417\n",
      "12  0.984167\n",
      "13  0.986333\n",
      "14  0.987667\n",
      "15  0.986750\n",
      "16  0.987917\n",
      "17  0.987000\n",
      "18  0.988083\n",
      "19  0.989167\n"
     ]
    },
    {
     "data": {
      "text/plain": [
       "<seaborn.axisgrid.FacetGrid at 0x1678115e108>"
      ]
     },
     "execution_count": 10,
     "metadata": {},
     "output_type": "execute_result"
    },
    {
     "data": {
      "image/png": "[encoded data removed]",
      "text/plain": [
       "<Figure size 405.725x360 with 1 Axes>"
      ]
     },
     "metadata": {},
     "output_type": "display_data"
    }
   ],
   "source": [
    "x_collective = x_collective[:,0]\n",
    "\n",
    "df_collective = pd.DataFrame(x_collective)\n",
    "\n",
    "\n",
    "print(df_collective)\n",
    "\n",
    "sns.relplot(data = df_collective, kind = \"line\")"
   ]
  },
  {
   "cell_type": "markdown",
   "metadata": {},
   "source": [
    "### Now let's compare this model to each partner's model :"
   ]
  },
  {
   "cell_type": "code",
   "execution_count": 11,
   "metadata": {},
   "outputs": [],
   "source": [
    "d = {\n",
    "    'partner 0' : x[:,0],\n",
    "    'partner 1' : x[:,1],\n",
    "    'partner 2' : x[:,2],\n",
    "    'Averaged model' : x_collective\n",
    "}"
   ]
  },
  {
   "cell_type": "code",
   "execution_count": 12,
   "metadata": {},
   "outputs": [
    {
     "data": {
      "text/plain": [
       "<seaborn.axisgrid.FacetGrid at 0x16758322248>"
      ]
     },
     "execution_count": 12,
     "metadata": {},
     "output_type": "execute_result"
    },
    {
     "data": {
      "image/png": "[encoded data removed]",
      "text/plain": [
       "<Figure size 479.975x360 with 1 Axes>"
      ]
     },
     "metadata": {},
     "output_type": "display_data"
    }
   ],
   "source": [
    "df = pd.DataFrame(d)\n",
    "\n",
    "\n",
    "sns.relplot(data = df, kind = \"line\")"
   ]
  },
  {
   "cell_type": "markdown",
   "metadata": {},
   "source": [
    "### Let's ommit the begining"
   ]
  },
  {
   "cell_type": "code",
   "execution_count": 13,
   "metadata": {},
   "outputs": [
    {
     "data": {
      "text/plain": [
       "<seaborn.axisgrid.FacetGrid at 0x16756d31888>"
      ]
     },
     "execution_count": 13,
     "metadata": {},
     "output_type": "execute_result"
    },
    {
     "data": {
      "image/png": "[encoded data removed]",
      "text/plain": [
       "<Figure size 479.975x360 with 1 Axes>"
      ]
     },
     "metadata": {},
     "output_type": "display_data"
    }
   ],
   "source": [
    "df = df.iloc[3:]\n",
    "sns.relplot(data = df, kind = \"line\")"
   ]
  },
  {
   "cell_type": "markdown",
   "metadata": {},
   "source": [
    "### Results \n",
    "\n",
    "The averaged model seems to perform poorly at the start but become better as the training continues"
   ]
  },
  {
   "cell_type": "code",
   "execution_count": null,
   "metadata": {},
   "outputs": [],
   "source": []
  }
 ],
 "metadata": {
  "kernelspec": {
   "display_name": "Python 3",
   "language": "python",
   "name": "python3"
  },
  "language_info": {
   "codemirror_mode": {
    "name": "ipython",
    "version": 3
   },
   "file_extension": ".py",
   "mimetype": "text/x-python",
   "name": "python",
   "nbconvert_exporter": "python",
   "pygments_lexer": "ipython3",
   "version": "3.7.6"
  }
 },
 "nbformat": 4,
 "nbformat_minor": 4
}
