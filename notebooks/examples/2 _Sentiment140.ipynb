{
 "cells": [
  {
   "cell_type": "markdown",
   "metadata": {},
   "source": [
    "# Sentiment140\n",
    "\n",
    "In this notebook, we try to predict the polarity of a twit.\n",
    "\n",
    "https://medium.com/@alyafey22/sentiment-classification-from-keras-to-the-browser-7eda0d87cdc6\n",
    "\n",
    "\n",
    "On this one, we use the sentiment140 dataset with a heavier preprocessing to display how much freedom is available to the end-user."
   ]
  },
  {
   "cell_type": "code",
   "execution_count": 1,
   "metadata": {},
   "outputs": [
    {
     "name": "stderr",
     "output_type": "stream",
     "text": [
      "Using TensorFlow backend.\n"
     ]
    }
   ],
   "source": [
    "# imports\n",
    "import matplotlib.pyplot as plt\n",
    "from loguru import logger\n",
    "import tensorflow as tf\n",
    "import pandas as pd \n",
    "import numpy as np\n",
    "from sklearn.model_selection import train_test_split\n",
    "\n",
    "from pathlib import Path\n",
    "import re\n",
    "\n",
    "\n",
    "from keras.models import Sequential\n",
    "from keras.layers import Dense, Dropout, Activation, Flatten, GRU, Embedding\n",
    "from keras.utils import np_utils\n",
    "\n",
    "from subtest.dataset import Dataset\n",
    "from subtest.scenario import Scenario, run_scenario"
   ]
  },
  {
   "cell_type": "markdown",
   "metadata": {},
   "source": [
    "# Download and unzip data if needed"
   ]
  },
  {
   "cell_type": "code",
   "execution_count": null,
   "metadata": {},
   "outputs": [
    {
     "name": "stderr",
     "output_type": "stream",
     "text": [
      "  % Total    % Received % Xferd  Average Speed   Time    Time     Time  Current\n",
      "                                 Dload  Upload   Total   Spent    Left  Speed\n",
      "\n",
      "  0     0    0     0    0     0      0      0 --:--:-- --:--:-- --:--:--     0\n",
      "  0 77.5M    0 16384    0     0  17192      0  1:18:52 --:--:--  1:18:52 17192\n",
      "  1 77.5M    1 1568k    0     0   804k      0  0:01:38  0:00:01  0:01:37  804k\n",
      " 10 77.5M   10 8544k    0     0  2936k      0  0:00:27  0:00:02  0:00:25 2936k\n",
      " 19 77.5M   19 14.9M    0     0  3916k      0  0:00:20  0:00:03  0:00:17 3916k\n",
      " 29 77.5M   29 22.9M    0     0  4782k      0  0:00:16  0:00:04  0:00:12 4782k\n",
      " 40 77.5M   40 31.5M    0     0  5468k      0  0:00:14  0:00:05  0:00:09 6517k\n",
      " 52 77.5M   52 40.7M    0     0  6012k      0  0:00:13  0:00:06  0:00:07 8051k\n",
      " 66 77.5M   66 51.9M    0     0  6725k      0  0:00:11  0:00:07  0:00:04 8930k\n",
      " 80 77.5M   80 62.2M    0     0  7055k      0  0:00:11  0:00:09  0:00:02 9440k\n",
      " 91 77.5M   91 71.1M    0     0  7359k      0  0:00:10  0:00:09  0:00:01 9900k\n",
      "100 77.5M  100 77.5M    0     0  7634k      0  0:00:10  0:00:10 --:--:-- 10.2M\n"
     ]
    }
   ],
   "source": [
    "!curl https://cs.stanford.edu/people/alecmgo/trainingandtestdata.zip --output trainingandtestdata.zip\n",
    "!unzip trainingandtestdata.zip"
   ]
  },
  {
   "cell_type": "markdown",
   "metadata": {},
   "source": [
    "# Define preprocessing functions"
   ]
  },
  {
   "cell_type": "code",
   "execution_count": 2,
   "metadata": {},
   "outputs": [],
   "source": [
    "def process(txt):\n",
    "    out = re.sub(r'[^a-zA-Z0-9\\s]', '', txt)\n",
    "    out = out.split()\n",
    "    out = [word.lower() for word in out]\n",
    "    return out\n",
    "\n",
    "def getMax(data):\n",
    "    max_tokens = 0 \n",
    "    for txt in data:\n",
    "        if max_tokens < len(txt.split()):\n",
    "            max_tokens = len(txt.split())\n",
    "    return max_tokens\n",
    "\n",
    "\n",
    "def tokenize(thresh = 5):\n",
    "    count  = dict()\n",
    "    idx = 1\n",
    "    word_index = dict()\n",
    "    for txt in x:\n",
    "        words = process(txt)\n",
    "        for word in words:\n",
    "            if word in count.keys():\n",
    "                count[word] += 1\n",
    "            else:\n",
    "                count[word]  = 1\n",
    "    most_counts = [word for word in count.keys() if count[word]>=thresh]\n",
    "    for word in most_counts:\n",
    "        word_index[word] = idx\n",
    "        idx+=1\n",
    "    return word_index\n",
    "\n",
    "\n",
    "def create_sequences(data):\n",
    "    tokens = []\n",
    "    for txt in data:\n",
    "        words = process(txt)\n",
    "        seq = [0] * max_tokens\n",
    "        i = 0 \n",
    "        for word in words:\n",
    "            start = max_tokens-len(words)\n",
    "            if word.lower() in word_index.keys():\n",
    "                seq[i+start] = word_index[word]\n",
    "            i+=1\n",
    "        tokens.append(seq)        \n",
    "    return np.array(tokens)\n",
    "\n",
    "def preprocess_dataset_labels(y):\n",
    "    y = np.array([e/4 for e in y])\n",
    "    return y"
   ]
  },
  {
   "cell_type": "markdown",
   "metadata": {},
   "source": [
    "# Create dataset"
   ]
  },
  {
   "cell_type": "code",
   "execution_count": 3,
   "metadata": {},
   "outputs": [],
   "source": [
    "df_train = pd.read_csv(\"training.1600000.processed.noemoticon.csv\", encoding = \"raw_unicode_escape\", header=None)\n",
    "df_test = pd.read_csv(\"testdata.manual.2009.06.14.csv\", encoding = \"raw_unicode_escape\",  header=None)\n",
    "\n",
    "df_train.columns = [\"polarity\", \"id\", \"date\", \"query\", \"user\", \"text\"]\n",
    "df_test.columns = [\"polarity\", \"id\", \"date\", \"query\", \"user\", \"text\"]\n",
    "\n",
    "# We keep only a fraction of the whole dataset\n",
    "\n",
    "df_train = df_train.sample(frac = 0.1)\n",
    "\n",
    "x = df_train[\"text\"]\n",
    "y = df_train[\"polarity\"]\n",
    "\n",
    "x = np.array(x)\n",
    "y = np.array(y)"
   ]
  },
  {
   "cell_type": "code",
   "execution_count": 4,
   "metadata": {},
   "outputs": [
    {
     "name": "stdout",
     "output_type": "stream",
     "text": [
      "length of the dictionary  15224\n",
      "max token  38\n",
      "num classes 2\n"
     ]
    }
   ],
   "source": [
    "max_tokens = getMax(x)\n",
    "\n",
    "num_words = None\n",
    "word_index = tokenize()\n",
    "num_words = len(word_index)\n",
    "\n",
    "input_shape = max_tokens\n",
    "num_classes = len(np.unique(y))\n",
    "\n",
    "\n",
    "print('length of the dictionary ',len(word_index))\n",
    "print('max token ', max_tokens) \n",
    "print('num classes', num_classes)"
   ]
  },
  {
   "cell_type": "code",
   "execution_count": 5,
   "metadata": {},
   "outputs": [],
   "source": [
    "(X_train, X_test) = train_test_split(create_sequences(x), shuffle = False)\n",
    "(y_train, y_test) = train_test_split(y, shuffle = False)"
   ]
  },
  {
   "cell_type": "markdown",
   "metadata": {},
   "source": [
    "# Create custom scenario"
   ]
  },
  {
   "cell_type": "code",
   "execution_count": 6,
   "metadata": {},
   "outputs": [
    {
     "name": "stderr",
     "output_type": "stream",
     "text": [
      "2020-08-19 13:34:02.069 | DEBUG    | subtest.scenario:__init__:54 - Dataset selected: mnist\n",
      "2020-08-19 13:34:02.070 | DEBUG    | subtest.scenario:__init__:89 - Computation use the full dataset for scenario #1\n",
      "2020-08-19 13:34:02.167 | INFO     | subtest.scenario:__init__:281 - ### Description of data scenario configured:\n",
      "2020-08-19 13:34:02.168 | INFO     | subtest.scenario:__init__:282 -    Number of partners defined: 3\n",
      "2020-08-19 13:34:02.169 | INFO     | subtest.scenario:__init__:283 -    Data distribution scenario chosen: random\n",
      "2020-08-19 13:34:02.169 | INFO     | subtest.scenario:__init__:284 -    Multi-partner learning approach: fedavg\n",
      "2020-08-19 13:34:02.170 | INFO     | subtest.scenario:__init__:285 -    Weighting option: uniform\n",
      "2020-08-19 13:34:02.170 | INFO     | subtest.scenario:__init__:286 -    Iterations parameters: 10 epochs > 3 mini-batches > 8 gradient updates per pass\n",
      "2020-08-19 13:34:02.171 | INFO     | subtest.scenario:__init__:292 - ### Data loaded: mnist\n",
      "2020-08-19 13:34:02.171 | INFO     | subtest.scenario:__init__:293 -    48000 train data with 48000 labels\n",
      "2020-08-19 13:34:02.171 | INFO     | subtest.scenario:__init__:294 -    12000 val data with 12000 labels\n",
      "2020-08-19 13:34:02.172 | INFO     | subtest.scenario:__init__:295 -    10000 test data with 10000 labels\n"
     ]
    }
   ],
   "source": [
    "scenario_params = {\n",
    "    'partners_count': 3,\n",
    "    'amounts_per_partner': [0.2, 0.5, 0.3],\n",
    "}\n",
    "\n",
    "scenario_params['epoch_count'] = 10\n",
    "scenario_params['minibatch_count'] = 3\n",
    "\n",
    "# Every other parametter will be set to its default value\n",
    "\n",
    "experiment_path = Path(r\"C:\\GitHub\\distributed-learning-contributivity\\experiments\\nlp\")\n",
    "\n",
    "current_scenario = Scenario(\n",
    "        scenario_params,\n",
    "        experiment_path\n",
    "    )"
   ]
  },
  {
   "cell_type": "markdown",
   "metadata": {},
   "source": [
    "# Create Model"
   ]
  },
  {
   "cell_type": "code",
   "execution_count": 7,
   "metadata": {},
   "outputs": [],
   "source": [
    "def generate_new_model_for_dataset():\n",
    "    model = Sequential()\n",
    "    embedding_size = 8\n",
    "    model.add(Embedding(input_dim=num_words,\n",
    "                    output_dim=embedding_size,\n",
    "                    input_length=max_tokens,\n",
    "                    name='layer_embedding'))\n",
    "\n",
    "    model.add(GRU(units=16, name = \"gru_1\",return_sequences=True))\n",
    "    model.add(GRU(units=8, name = \"gru_2\" ,return_sequences=True))\n",
    "    model.add(GRU(units=4, name= \"gru_3\"))\n",
    "    model.add(Dense(1, activation='sigmoid',name=\"dense_1\"))\n",
    "    model.compile(loss='binary_crossentropy',\n",
    "              optimizer=\"Adam\",\n",
    "              metrics=['accuracy'])\n",
    "    return model"
   ]
  },
  {
   "cell_type": "markdown",
   "metadata": {},
   "source": [
    "# Assignate dataset to scenario"
   ]
  },
  {
   "cell_type": "code",
   "execution_count": 8,
   "metadata": {},
   "outputs": [],
   "source": [
    "current_scenario.dataset = Dataset(\n",
    "    \"my_dataset\",\n",
    "    X_train,\n",
    "    X_test,\n",
    "    y_train,\n",
    "    y_test,\n",
    "    input_shape,\n",
    "    num_classes,\n",
    "    preprocess_dataset_labels,\n",
    "    generate_new_model_for_dataset\n",
    ")"
   ]
  },
  {
   "cell_type": "markdown",
   "metadata": {},
   "source": [
    "# Split train and validation sets"
   ]
  },
  {
   "cell_type": "code",
   "execution_count": 9,
   "metadata": {},
   "outputs": [],
   "source": [
    "current_scenario.dataset.train_val_split()"
   ]
  },
  {
   "cell_type": "markdown",
   "metadata": {},
   "source": [
    "# Run scenario"
   ]
  },
  {
   "cell_type": "code",
   "execution_count": 11,
   "metadata": {},
   "outputs": [
    {
     "name": "stderr",
     "output_type": "stream",
     "text": [
      "2020-08-19 13:34:02.488 | INFO     | subtest.scenario:split_data:536 - ### Splitting data among partners:\n",
      "2020-08-19 13:34:02.488 | INFO     | subtest.scenario:split_data:537 -    Simple split performed.\n",
      "2020-08-19 13:34:02.488 | INFO     | subtest.scenario:split_data:538 -    Nb of samples split amongst partners: 77760\n",
      "2020-08-19 13:34:02.488 | INFO     | subtest.scenario:split_data:540 -    Partner #0: 15552 samples with labels [0, 4]\n",
      "2020-08-19 13:34:02.494 | INFO     | subtest.scenario:split_data:540 -    Partner #1: 38880 samples with labels [0, 4]\n",
      "2020-08-19 13:34:02.494 | INFO     | subtest.scenario:split_data:540 -    Partner #2: 23328 samples with labels [0, 4]\n",
      "2020-08-19 13:34:02.810 | DEBUG    | subtest.scenario:compute_batch_sizes:584 -    Compute batch sizes, partner #0: 648\n",
      "2020-08-19 13:34:02.811 | DEBUG    | subtest.scenario:compute_batch_sizes:584 -    Compute batch sizes, partner #1: 1620\n",
      "2020-08-19 13:34:02.811 | DEBUG    | subtest.scenario:compute_batch_sizes:584 -    Compute batch sizes, partner #2: 972\n",
      "2020-08-19 13:34:02.812 | DEBUG    | subtest.scenario:preprocess_scenarios_data:589 - ## Pre-processing datasets of the scenario for keras CNN:\n",
      "2020-08-19 13:34:02.825 | DEBUG    | subtest.scenario:preprocess_scenarios_data:593 -    Central early stopping validation set: done.\n",
      "2020-08-19 13:34:02.846 | DEBUG    | subtest.scenario:preprocess_scenarios_data:595 -    Central testset: done.\n",
      "2020-08-19 13:34:02.856 | DEBUG    | subtest.scenario:preprocess_scenarios_data:617 -    Partner #0: done.\n",
      "2020-08-19 13:34:02.878 | DEBUG    | subtest.scenario:preprocess_scenarios_data:617 -    Partner #1: done.\n",
      "2020-08-19 13:34:02.893 | DEBUG    | subtest.scenario:preprocess_scenarios_data:617 -    Partner #2: done.\n",
      "2020-08-19 13:34:02.894 | DEBUG    | subtest.multi_partner_learning:__init__:69 - MultiPartnerLearning object instantiated.\n",
      "2020-08-19 13:34:02.895 | INFO     | subtest.multi_partner_learning:compute_test_score:135 - ## Training and evaluating model on partners with ids: ['#0', '#1', '#2']\n",
      "2020-08-19 13:34:02.906 | DEBUG    | subtest.multi_partner_learning:compute_collaborative_round_fedavg:259 - Start new fedavg collaborative round ...\n",
      "2020-08-19 13:34:02.906 | DEBUG    | subtest.multi_partner_learning:compute_collaborative_round_fedavg:268 - (fedavg) Very first minibatch of epoch n°0, init new models for each partner\n",
      "C:\\ProgramData\\Anaconda3\\lib\\site-packages\\tensorflow\\python\\framework\\indexed_slices.py:434: UserWarning: Converting sparse IndexedSlices to a dense Tensor of unknown shape. This may consume a large amount of memory.\n",
      "  \"Converting sparse IndexedSlices to a dense Tensor of unknown shape. \"\n",
      "2020-08-19 13:34:20.784 | DEBUG    | subtest.multi_partner_learning:log_collaborative_round_partner_result:513 - Epoch 00/09 > Minibatch 00/02 > Partner id #0 (0/2) > val_acc: 0.52\n",
      "2020-08-19 13:34:26.190 | DEBUG    | subtest.multi_partner_learning:log_collaborative_round_partner_result:513 - Epoch 00/09 > Minibatch 00/02 > Partner id #1 (1/2) > val_acc: 0.5\n",
      "2020-08-19 13:34:31.810 | DEBUG    | subtest.multi_partner_learning:log_collaborative_round_partner_result:513 - Epoch 00/09 > Minibatch 00/02 > Partner id #2 (2/2) > val_acc: 0.5\n",
      "2020-08-19 13:34:31.813 | DEBUG    | subtest.multi_partner_learning:compute_collaborative_round_fedavg:303 - End of fedavg collaborative round.\n",
      "2020-08-19 13:34:31.814 | DEBUG    | subtest.multi_partner_learning:compute_collaborative_round_fedavg:259 - Start new fedavg collaborative round ...\n",
      "2020-08-19 13:34:31.814 | DEBUG    | subtest.multi_partner_learning:compute_collaborative_round_fedavg:271 - (fedavg) Minibatch n°1 of epoch n°0, init aggregated model for each partner with models from previous round\n",
      "2020-08-19 13:34:40.354 | DEBUG    | subtest.multi_partner_learning:log_collaborative_round_partner_result:513 - Epoch 00/09 > Minibatch 01/02 > Partner id #0 (0/2) > val_acc: 0.51\n",
      "2020-08-19 13:34:45.689 | DEBUG    | subtest.multi_partner_learning:log_collaborative_round_partner_result:513 - Epoch 00/09 > Minibatch 01/02 > Partner id #1 (1/2) > val_acc: 0.59\n",
      "2020-08-19 13:34:51.176 | DEBUG    | subtest.multi_partner_learning:log_collaborative_round_partner_result:513 - Epoch 00/09 > Minibatch 01/02 > Partner id #2 (2/2) > val_acc: 0.54\n",
      "2020-08-19 13:34:51.179 | DEBUG    | subtest.multi_partner_learning:compute_collaborative_round_fedavg:303 - End of fedavg collaborative round.\n",
      "2020-08-19 13:34:51.180 | DEBUG    | subtest.multi_partner_learning:compute_collaborative_round_fedavg:259 - Start new fedavg collaborative round ...\n",
      "2020-08-19 13:34:51.180 | DEBUG    | subtest.multi_partner_learning:compute_collaborative_round_fedavg:271 - (fedavg) Minibatch n°2 of epoch n°0, init aggregated model for each partner with models from previous round\n",
      "2020-08-19 13:34:59.236 | DEBUG    | subtest.multi_partner_learning:log_collaborative_round_partner_result:513 - Epoch 00/09 > Minibatch 02/02 > Partner id #0 (0/2) > val_acc: 0.58\n",
      "2020-08-19 13:35:04.220 | DEBUG    | subtest.multi_partner_learning:log_collaborative_round_partner_result:513 - Epoch 00/09 > Minibatch 02/02 > Partner id #1 (1/2) > val_acc: 0.52\n",
      "2020-08-19 13:35:09.648 | DEBUG    | subtest.multi_partner_learning:log_collaborative_round_partner_result:513 - Epoch 00/09 > Minibatch 02/02 > Partner id #2 (2/2) > val_acc: 0.55\n",
      "2020-08-19 13:35:09.651 | DEBUG    | subtest.multi_partner_learning:compute_collaborative_round_fedavg:303 - End of fedavg collaborative round.\n",
      "2020-08-19 13:35:11.748 | INFO     | subtest.multi_partner_learning:compute_test_score:184 -    Model evaluation at the end of the epoch: ['0.692', '0.574']\n",
      "2020-08-19 13:35:11.748 | DEBUG    | subtest.multi_partner_learning:compute_test_score:187 -       Checking if early stopping criteria are met:\n",
      "2020-08-19 13:35:11.749 | DEBUG    | subtest.multi_partner_learning:compute_test_score:197 -          -> Early stopping criteria are not met, continuing with training.\n",
      "2020-08-19 13:35:11.760 | DEBUG    | subtest.multi_partner_learning:compute_collaborative_round_fedavg:259 - Start new fedavg collaborative round ...\n",
      "2020-08-19 13:35:11.761 | DEBUG    | subtest.multi_partner_learning:compute_collaborative_round_fedavg:271 - (fedavg) Minibatch n°0 of epoch n°1, init aggregated model for each partner with models from previous round\n",
      "2020-08-19 13:35:19.568 | DEBUG    | subtest.multi_partner_learning:log_collaborative_round_partner_result:513 - Epoch 01/09 > Minibatch 00/02 > Partner id #0 (0/2) > val_acc: 0.58\n",
      "2020-08-19 13:35:24.815 | DEBUG    | subtest.multi_partner_learning:log_collaborative_round_partner_result:513 - Epoch 01/09 > Minibatch 00/02 > Partner id #1 (1/2) > val_acc: 0.62\n",
      "2020-08-19 13:35:30.318 | DEBUG    | subtest.multi_partner_learning:log_collaborative_round_partner_result:513 - Epoch 01/09 > Minibatch 00/02 > Partner id #2 (2/2) > val_acc: 0.52\n",
      "2020-08-19 13:35:30.320 | DEBUG    | subtest.multi_partner_learning:compute_collaborative_round_fedavg:303 - End of fedavg collaborative round.\n",
      "2020-08-19 13:35:30.321 | DEBUG    | subtest.multi_partner_learning:compute_collaborative_round_fedavg:259 - Start new fedavg collaborative round ...\n",
      "2020-08-19 13:35:30.321 | DEBUG    | subtest.multi_partner_learning:compute_collaborative_round_fedavg:271 - (fedavg) Minibatch n°1 of epoch n°1, init aggregated model for each partner with models from previous round\n",
      "2020-08-19 13:35:38.155 | DEBUG    | subtest.multi_partner_learning:log_collaborative_round_partner_result:513 - Epoch 01/09 > Minibatch 01/02 > Partner id #0 (0/2) > val_acc: 0.61\n",
      "2020-08-19 13:35:43.477 | DEBUG    | subtest.multi_partner_learning:log_collaborative_round_partner_result:513 - Epoch 01/09 > Minibatch 01/02 > Partner id #1 (1/2) > val_acc: 0.62\n",
      "2020-08-19 13:35:48.859 | DEBUG    | subtest.multi_partner_learning:log_collaborative_round_partner_result:513 - Epoch 01/09 > Minibatch 01/02 > Partner id #2 (2/2) > val_acc: 0.62\n",
      "2020-08-19 13:35:48.862 | DEBUG    | subtest.multi_partner_learning:compute_collaborative_round_fedavg:303 - End of fedavg collaborative round.\n",
      "2020-08-19 13:35:48.863 | DEBUG    | subtest.multi_partner_learning:compute_collaborative_round_fedavg:259 - Start new fedavg collaborative round ...\n",
      "2020-08-19 13:35:48.863 | DEBUG    | subtest.multi_partner_learning:compute_collaborative_round_fedavg:271 - (fedavg) Minibatch n°2 of epoch n°1, init aggregated model for each partner with models from previous round\n"
     ]
    },
    {
     "name": "stderr",
     "output_type": "stream",
     "text": [
      "2020-08-19 13:35:57.097 | DEBUG    | subtest.multi_partner_learning:log_collaborative_round_partner_result:513 - Epoch 01/09 > Minibatch 02/02 > Partner id #0 (0/2) > val_acc: 0.62\n",
      "2020-08-19 13:36:02.204 | DEBUG    | subtest.multi_partner_learning:log_collaborative_round_partner_result:513 - Epoch 01/09 > Minibatch 02/02 > Partner id #1 (1/2) > val_acc: 0.63\n",
      "2020-08-19 13:36:07.704 | DEBUG    | subtest.multi_partner_learning:log_collaborative_round_partner_result:513 - Epoch 01/09 > Minibatch 02/02 > Partner id #2 (2/2) > val_acc: 0.63\n",
      "2020-08-19 13:36:07.707 | DEBUG    | subtest.multi_partner_learning:compute_collaborative_round_fedavg:303 - End of fedavg collaborative round.\n",
      "2020-08-19 13:36:09.896 | INFO     | subtest.multi_partner_learning:compute_test_score:184 -    Model evaluation at the end of the epoch: ['0.685', '0.631']\n",
      "2020-08-19 13:36:09.897 | DEBUG    | subtest.multi_partner_learning:compute_test_score:187 -       Checking if early stopping criteria are met:\n",
      "2020-08-19 13:36:09.898 | DEBUG    | subtest.multi_partner_learning:compute_test_score:197 -          -> Early stopping criteria are not met, continuing with training.\n",
      "2020-08-19 13:36:09.911 | DEBUG    | subtest.multi_partner_learning:compute_collaborative_round_fedavg:259 - Start new fedavg collaborative round ...\n",
      "2020-08-19 13:36:09.912 | DEBUG    | subtest.multi_partner_learning:compute_collaborative_round_fedavg:271 - (fedavg) Minibatch n°0 of epoch n°2, init aggregated model for each partner with models from previous round\n",
      "2020-08-19 13:36:18.141 | DEBUG    | subtest.multi_partner_learning:log_collaborative_round_partner_result:513 - Epoch 02/09 > Minibatch 00/02 > Partner id #0 (0/2) > val_acc: 0.61\n",
      "2020-08-19 13:36:24.037 | DEBUG    | subtest.multi_partner_learning:log_collaborative_round_partner_result:513 - Epoch 02/09 > Minibatch 00/02 > Partner id #1 (1/2) > val_acc: 0.63\n",
      "2020-08-19 13:36:29.383 | DEBUG    | subtest.multi_partner_learning:log_collaborative_round_partner_result:513 - Epoch 02/09 > Minibatch 00/02 > Partner id #2 (2/2) > val_acc: 0.63\n",
      "2020-08-19 13:36:29.386 | DEBUG    | subtest.multi_partner_learning:compute_collaborative_round_fedavg:303 - End of fedavg collaborative round.\n",
      "2020-08-19 13:36:29.387 | DEBUG    | subtest.multi_partner_learning:compute_collaborative_round_fedavg:259 - Start new fedavg collaborative round ...\n",
      "2020-08-19 13:36:29.387 | DEBUG    | subtest.multi_partner_learning:compute_collaborative_round_fedavg:271 - (fedavg) Minibatch n°1 of epoch n°2, init aggregated model for each partner with models from previous round\n",
      "2020-08-19 13:36:37.427 | DEBUG    | subtest.multi_partner_learning:log_collaborative_round_partner_result:513 - Epoch 02/09 > Minibatch 01/02 > Partner id #0 (0/2) > val_acc: 0.62\n",
      "2020-08-19 13:36:42.969 | DEBUG    | subtest.multi_partner_learning:log_collaborative_round_partner_result:513 - Epoch 02/09 > Minibatch 01/02 > Partner id #1 (1/2) > val_acc: 0.61\n",
      "2020-08-19 13:36:48.542 | DEBUG    | subtest.multi_partner_learning:log_collaborative_round_partner_result:513 - Epoch 02/09 > Minibatch 01/02 > Partner id #2 (2/2) > val_acc: 0.6\n",
      "2020-08-19 13:36:48.546 | DEBUG    | subtest.multi_partner_learning:compute_collaborative_round_fedavg:303 - End of fedavg collaborative round.\n",
      "2020-08-19 13:36:48.547 | DEBUG    | subtest.multi_partner_learning:compute_collaborative_round_fedavg:259 - Start new fedavg collaborative round ...\n",
      "2020-08-19 13:36:48.547 | DEBUG    | subtest.multi_partner_learning:compute_collaborative_round_fedavg:271 - (fedavg) Minibatch n°2 of epoch n°2, init aggregated model for each partner with models from previous round\n",
      "2020-08-19 13:36:56.448 | DEBUG    | subtest.multi_partner_learning:log_collaborative_round_partner_result:513 - Epoch 02/09 > Minibatch 02/02 > Partner id #0 (0/2) > val_acc: 0.63\n",
      "2020-08-19 13:37:01.774 | DEBUG    | subtest.multi_partner_learning:log_collaborative_round_partner_result:513 - Epoch 02/09 > Minibatch 02/02 > Partner id #1 (1/2) > val_acc: 0.64\n",
      "2020-08-19 13:37:07.366 | DEBUG    | subtest.multi_partner_learning:log_collaborative_round_partner_result:513 - Epoch 02/09 > Minibatch 02/02 > Partner id #2 (2/2) > val_acc: 0.62\n",
      "2020-08-19 13:37:07.369 | DEBUG    | subtest.multi_partner_learning:compute_collaborative_round_fedavg:303 - End of fedavg collaborative round.\n",
      "2020-08-19 13:37:09.448 | INFO     | subtest.multi_partner_learning:compute_test_score:184 -    Model evaluation at the end of the epoch: ['0.666', '0.629']\n",
      "2020-08-19 13:37:09.449 | DEBUG    | subtest.multi_partner_learning:compute_test_score:187 -       Checking if early stopping criteria are met:\n",
      "2020-08-19 13:37:09.449 | DEBUG    | subtest.multi_partner_learning:compute_test_score:197 -          -> Early stopping criteria are not met, continuing with training.\n",
      "2020-08-19 13:37:09.461 | DEBUG    | subtest.multi_partner_learning:compute_collaborative_round_fedavg:259 - Start new fedavg collaborative round ...\n",
      "2020-08-19 13:37:09.462 | DEBUG    | subtest.multi_partner_learning:compute_collaborative_round_fedavg:271 - (fedavg) Minibatch n°0 of epoch n°3, init aggregated model for each partner with models from previous round\n",
      "2020-08-19 13:37:17.354 | DEBUG    | subtest.multi_partner_learning:log_collaborative_round_partner_result:513 - Epoch 03/09 > Minibatch 00/02 > Partner id #0 (0/2) > val_acc: 0.64\n",
      "2020-08-19 13:37:22.696 | DEBUG    | subtest.multi_partner_learning:log_collaborative_round_partner_result:513 - Epoch 03/09 > Minibatch 00/02 > Partner id #1 (1/2) > val_acc: 0.63\n",
      "2020-08-19 13:37:28.415 | DEBUG    | subtest.multi_partner_learning:log_collaborative_round_partner_result:513 - Epoch 03/09 > Minibatch 00/02 > Partner id #2 (2/2) > val_acc: 0.63\n",
      "2020-08-19 13:37:28.419 | DEBUG    | subtest.multi_partner_learning:compute_collaborative_round_fedavg:303 - End of fedavg collaborative round.\n",
      "2020-08-19 13:37:28.420 | DEBUG    | subtest.multi_partner_learning:compute_collaborative_round_fedavg:259 - Start new fedavg collaborative round ...\n",
      "2020-08-19 13:37:28.420 | DEBUG    | subtest.multi_partner_learning:compute_collaborative_round_fedavg:271 - (fedavg) Minibatch n°1 of epoch n°3, init aggregated model for each partner with models from previous round\n",
      "2020-08-19 13:37:37.502 | DEBUG    | subtest.multi_partner_learning:log_collaborative_round_partner_result:513 - Epoch 03/09 > Minibatch 01/02 > Partner id #0 (0/2) > val_acc: 0.64\n",
      "2020-08-19 13:37:43.214 | DEBUG    | subtest.multi_partner_learning:log_collaborative_round_partner_result:513 - Epoch 03/09 > Minibatch 01/02 > Partner id #1 (1/2) > val_acc: 0.65\n",
      "2020-08-19 13:37:48.809 | DEBUG    | subtest.multi_partner_learning:log_collaborative_round_partner_result:513 - Epoch 03/09 > Minibatch 01/02 > Partner id #2 (2/2) > val_acc: 0.65\n",
      "2020-08-19 13:37:48.813 | DEBUG    | subtest.multi_partner_learning:compute_collaborative_round_fedavg:303 - End of fedavg collaborative round.\n",
      "2020-08-19 13:37:48.813 | DEBUG    | subtest.multi_partner_learning:compute_collaborative_round_fedavg:259 - Start new fedavg collaborative round ...\n",
      "2020-08-19 13:37:48.814 | DEBUG    | subtest.multi_partner_learning:compute_collaborative_round_fedavg:271 - (fedavg) Minibatch n°2 of epoch n°3, init aggregated model for each partner with models from previous round\n",
      "2020-08-19 13:37:57.165 | DEBUG    | subtest.multi_partner_learning:log_collaborative_round_partner_result:513 - Epoch 03/09 > Minibatch 02/02 > Partner id #0 (0/2) > val_acc: 0.66\n",
      "2020-08-19 13:38:02.993 | DEBUG    | subtest.multi_partner_learning:log_collaborative_round_partner_result:513 - Epoch 03/09 > Minibatch 02/02 > Partner id #1 (1/2) > val_acc: 0.66\n",
      "2020-08-19 13:38:08.849 | DEBUG    | subtest.multi_partner_learning:log_collaborative_round_partner_result:513 - Epoch 03/09 > Minibatch 02/02 > Partner id #2 (2/2) > val_acc: 0.66\n",
      "2020-08-19 13:38:08.852 | DEBUG    | subtest.multi_partner_learning:compute_collaborative_round_fedavg:303 - End of fedavg collaborative round.\n",
      "2020-08-19 13:38:11.049 | INFO     | subtest.multi_partner_learning:compute_test_score:184 -    Model evaluation at the end of the epoch: ['0.632', '0.659']\n",
      "2020-08-19 13:38:11.050 | DEBUG    | subtest.multi_partner_learning:compute_test_score:187 -       Checking if early stopping criteria are met:\n"
     ]
    },
    {
     "name": "stderr",
     "output_type": "stream",
     "text": [
      "2020-08-19 13:38:11.051 | DEBUG    | subtest.multi_partner_learning:compute_test_score:197 -          -> Early stopping criteria are not met, continuing with training.\n",
      "2020-08-19 13:38:11.062 | DEBUG    | subtest.multi_partner_learning:compute_collaborative_round_fedavg:259 - Start new fedavg collaborative round ...\n",
      "2020-08-19 13:38:11.063 | DEBUG    | subtest.multi_partner_learning:compute_collaborative_round_fedavg:271 - (fedavg) Minibatch n°0 of epoch n°4, init aggregated model for each partner with models from previous round\n",
      "2020-08-19 13:38:19.324 | DEBUG    | subtest.multi_partner_learning:log_collaborative_round_partner_result:513 - Epoch 04/09 > Minibatch 00/02 > Partner id #0 (0/2) > val_acc: 0.67\n",
      "2020-08-19 13:38:24.926 | DEBUG    | subtest.multi_partner_learning:log_collaborative_round_partner_result:513 - Epoch 04/09 > Minibatch 00/02 > Partner id #1 (1/2) > val_acc: 0.67\n",
      "2020-08-19 13:38:31.121 | DEBUG    | subtest.multi_partner_learning:log_collaborative_round_partner_result:513 - Epoch 04/09 > Minibatch 00/02 > Partner id #2 (2/2) > val_acc: 0.67\n",
      "2020-08-19 13:38:31.125 | DEBUG    | subtest.multi_partner_learning:compute_collaborative_round_fedavg:303 - End of fedavg collaborative round.\n",
      "2020-08-19 13:38:31.126 | DEBUG    | subtest.multi_partner_learning:compute_collaborative_round_fedavg:259 - Start new fedavg collaborative round ...\n",
      "2020-08-19 13:38:31.126 | DEBUG    | subtest.multi_partner_learning:compute_collaborative_round_fedavg:271 - (fedavg) Minibatch n°1 of epoch n°4, init aggregated model for each partner with models from previous round\n",
      "2020-08-19 13:38:39.251 | DEBUG    | subtest.multi_partner_learning:log_collaborative_round_partner_result:513 - Epoch 04/09 > Minibatch 01/02 > Partner id #0 (0/2) > val_acc: 0.69\n",
      "2020-08-19 13:38:44.749 | DEBUG    | subtest.multi_partner_learning:log_collaborative_round_partner_result:513 - Epoch 04/09 > Minibatch 01/02 > Partner id #1 (1/2) > val_acc: 0.69\n",
      "2020-08-19 13:38:50.381 | DEBUG    | subtest.multi_partner_learning:log_collaborative_round_partner_result:513 - Epoch 04/09 > Minibatch 01/02 > Partner id #2 (2/2) > val_acc: 0.68\n",
      "2020-08-19 13:38:50.384 | DEBUG    | subtest.multi_partner_learning:compute_collaborative_round_fedavg:303 - End of fedavg collaborative round.\n",
      "2020-08-19 13:38:50.385 | DEBUG    | subtest.multi_partner_learning:compute_collaborative_round_fedavg:259 - Start new fedavg collaborative round ...\n",
      "2020-08-19 13:38:50.385 | DEBUG    | subtest.multi_partner_learning:compute_collaborative_round_fedavg:271 - (fedavg) Minibatch n°2 of epoch n°4, init aggregated model for each partner with models from previous round\n",
      "2020-08-19 13:38:58.836 | DEBUG    | subtest.multi_partner_learning:log_collaborative_round_partner_result:513 - Epoch 04/09 > Minibatch 02/02 > Partner id #0 (0/2) > val_acc: 0.7\n",
      "2020-08-19 13:39:04.196 | DEBUG    | subtest.multi_partner_learning:log_collaborative_round_partner_result:513 - Epoch 04/09 > Minibatch 02/02 > Partner id #1 (1/2) > val_acc: 0.71\n",
      "2020-08-19 13:39:09.798 | DEBUG    | subtest.multi_partner_learning:log_collaborative_round_partner_result:513 - Epoch 04/09 > Minibatch 02/02 > Partner id #2 (2/2) > val_acc: 0.7\n",
      "2020-08-19 13:39:09.803 | DEBUG    | subtest.multi_partner_learning:compute_collaborative_round_fedavg:303 - End of fedavg collaborative round.\n",
      "2020-08-19 13:39:11.913 | INFO     | subtest.multi_partner_learning:compute_test_score:184 -    Model evaluation at the end of the epoch: ['0.586', '0.706']\n",
      "2020-08-19 13:39:11.914 | DEBUG    | subtest.multi_partner_learning:compute_test_score:187 -       Checking if early stopping criteria are met:\n",
      "2020-08-19 13:39:11.915 | DEBUG    | subtest.multi_partner_learning:compute_test_score:197 -          -> Early stopping criteria are not met, continuing with training.\n",
      "2020-08-19 13:39:11.927 | DEBUG    | subtest.multi_partner_learning:compute_collaborative_round_fedavg:259 - Start new fedavg collaborative round ...\n",
      "2020-08-19 13:39:11.927 | DEBUG    | subtest.multi_partner_learning:compute_collaborative_round_fedavg:271 - (fedavg) Minibatch n°0 of epoch n°5, init aggregated model for each partner with models from previous round\n",
      "2020-08-19 13:39:20.050 | DEBUG    | subtest.multi_partner_learning:log_collaborative_round_partner_result:513 - Epoch 05/09 > Minibatch 00/02 > Partner id #0 (0/2) > val_acc: 0.71\n",
      "2020-08-19 13:39:26.093 | DEBUG    | subtest.multi_partner_learning:log_collaborative_round_partner_result:513 - Epoch 05/09 > Minibatch 00/02 > Partner id #1 (1/2) > val_acc: 0.72\n",
      "2020-08-19 13:39:31.759 | DEBUG    | subtest.multi_partner_learning:log_collaborative_round_partner_result:513 - Epoch 05/09 > Minibatch 00/02 > Partner id #2 (2/2) > val_acc: 0.72\n",
      "2020-08-19 13:39:31.762 | DEBUG    | subtest.multi_partner_learning:compute_collaborative_round_fedavg:303 - End of fedavg collaborative round.\n",
      "2020-08-19 13:39:31.763 | DEBUG    | subtest.multi_partner_learning:compute_collaborative_round_fedavg:259 - Start new fedavg collaborative round ...\n",
      "2020-08-19 13:39:31.763 | DEBUG    | subtest.multi_partner_learning:compute_collaborative_round_fedavg:271 - (fedavg) Minibatch n°1 of epoch n°5, init aggregated model for each partner with models from previous round\n",
      "2020-08-19 13:39:40.040 | DEBUG    | subtest.multi_partner_learning:log_collaborative_round_partner_result:513 - Epoch 05/09 > Minibatch 01/02 > Partner id #0 (0/2) > val_acc: 0.71\n",
      "2020-08-19 13:39:45.977 | DEBUG    | subtest.multi_partner_learning:log_collaborative_round_partner_result:513 - Epoch 05/09 > Minibatch 01/02 > Partner id #1 (1/2) > val_acc: 0.72\n",
      "2020-08-19 13:39:51.686 | DEBUG    | subtest.multi_partner_learning:log_collaborative_round_partner_result:513 - Epoch 05/09 > Minibatch 01/02 > Partner id #2 (2/2) > val_acc: 0.73\n",
      "2020-08-19 13:39:51.689 | DEBUG    | subtest.multi_partner_learning:compute_collaborative_round_fedavg:303 - End of fedavg collaborative round.\n",
      "2020-08-19 13:39:51.690 | DEBUG    | subtest.multi_partner_learning:compute_collaborative_round_fedavg:259 - Start new fedavg collaborative round ...\n",
      "2020-08-19 13:39:51.690 | DEBUG    | subtest.multi_partner_learning:compute_collaborative_round_fedavg:271 - (fedavg) Minibatch n°2 of epoch n°5, init aggregated model for each partner with models from previous round\n",
      "2020-08-19 13:39:59.723 | DEBUG    | subtest.multi_partner_learning:log_collaborative_round_partner_result:513 - Epoch 05/09 > Minibatch 02/02 > Partner id #0 (0/2) > val_acc: 0.73\n",
      "2020-08-19 13:40:04.823 | DEBUG    | subtest.multi_partner_learning:log_collaborative_round_partner_result:513 - Epoch 05/09 > Minibatch 02/02 > Partner id #1 (1/2) > val_acc: 0.73\n",
      "2020-08-19 13:40:10.612 | DEBUG    | subtest.multi_partner_learning:log_collaborative_round_partner_result:513 - Epoch 05/09 > Minibatch 02/02 > Partner id #2 (2/2) > val_acc: 0.73\n",
      "2020-08-19 13:40:10.616 | DEBUG    | subtest.multi_partner_learning:compute_collaborative_round_fedavg:303 - End of fedavg collaborative round.\n",
      "2020-08-19 13:40:12.744 | INFO     | subtest.multi_partner_learning:compute_test_score:184 -    Model evaluation at the end of the epoch: ['0.557', '0.731']\n",
      "2020-08-19 13:40:12.745 | DEBUG    | subtest.multi_partner_learning:compute_test_score:187 -       Checking if early stopping criteria are met:\n",
      "2020-08-19 13:40:12.745 | DEBUG    | subtest.multi_partner_learning:compute_test_score:197 -          -> Early stopping criteria are not met, continuing with training.\n",
      "2020-08-19 13:40:12.758 | DEBUG    | subtest.multi_partner_learning:compute_collaborative_round_fedavg:259 - Start new fedavg collaborative round ...\n",
      "2020-08-19 13:40:12.759 | DEBUG    | subtest.multi_partner_learning:compute_collaborative_round_fedavg:271 - (fedavg) Minibatch n°0 of epoch n°6, init aggregated model for each partner with models from previous round\n",
      "2020-08-19 13:40:21.113 | DEBUG    | subtest.multi_partner_learning:log_collaborative_round_partner_result:513 - Epoch 06/09 > Minibatch 00/02 > Partner id #0 (0/2) > val_acc: 0.73\n",
      "2020-08-19 13:40:26.883 | DEBUG    | subtest.multi_partner_learning:log_collaborative_round_partner_result:513 - Epoch 06/09 > Minibatch 00/02 > Partner id #1 (1/2) > val_acc: 0.73\n",
      "2020-08-19 13:40:32.505 | DEBUG    | subtest.multi_partner_learning:log_collaborative_round_partner_result:513 - Epoch 06/09 > Minibatch 00/02 > Partner id #2 (2/2) > val_acc: 0.73\n"
     ]
    },
    {
     "name": "stderr",
     "output_type": "stream",
     "text": [
      "2020-08-19 13:40:32.509 | DEBUG    | subtest.multi_partner_learning:compute_collaborative_round_fedavg:303 - End of fedavg collaborative round.\n",
      "2020-08-19 13:40:32.510 | DEBUG    | subtest.multi_partner_learning:compute_collaborative_round_fedavg:259 - Start new fedavg collaborative round ...\n",
      "2020-08-19 13:40:32.510 | DEBUG    | subtest.multi_partner_learning:compute_collaborative_round_fedavg:271 - (fedavg) Minibatch n°1 of epoch n°6, init aggregated model for each partner with models from previous round\n",
      "2020-08-19 13:40:41.343 | DEBUG    | subtest.multi_partner_learning:log_collaborative_round_partner_result:513 - Epoch 06/09 > Minibatch 01/02 > Partner id #0 (0/2) > val_acc: 0.74\n",
      "2020-08-19 13:40:46.754 | DEBUG    | subtest.multi_partner_learning:log_collaborative_round_partner_result:513 - Epoch 06/09 > Minibatch 01/02 > Partner id #1 (1/2) > val_acc: 0.74\n",
      "2020-08-19 13:40:52.246 | DEBUG    | subtest.multi_partner_learning:log_collaborative_round_partner_result:513 - Epoch 06/09 > Minibatch 01/02 > Partner id #2 (2/2) > val_acc: 0.73\n",
      "2020-08-19 13:40:52.250 | DEBUG    | subtest.multi_partner_learning:compute_collaborative_round_fedavg:303 - End of fedavg collaborative round.\n",
      "2020-08-19 13:40:52.251 | DEBUG    | subtest.multi_partner_learning:compute_collaborative_round_fedavg:259 - Start new fedavg collaborative round ...\n",
      "2020-08-19 13:40:52.251 | DEBUG    | subtest.multi_partner_learning:compute_collaborative_round_fedavg:271 - (fedavg) Minibatch n°2 of epoch n°6, init aggregated model for each partner with models from previous round\n",
      "2020-08-19 13:41:00.398 | DEBUG    | subtest.multi_partner_learning:log_collaborative_round_partner_result:513 - Epoch 06/09 > Minibatch 02/02 > Partner id #0 (0/2) > val_acc: 0.74\n",
      "2020-08-19 13:41:06.051 | DEBUG    | subtest.multi_partner_learning:log_collaborative_round_partner_result:513 - Epoch 06/09 > Minibatch 02/02 > Partner id #1 (1/2) > val_acc: 0.74\n",
      "2020-08-19 13:41:11.864 | DEBUG    | subtest.multi_partner_learning:log_collaborative_round_partner_result:513 - Epoch 06/09 > Minibatch 02/02 > Partner id #2 (2/2) > val_acc: 0.74\n",
      "2020-08-19 13:41:11.867 | DEBUG    | subtest.multi_partner_learning:compute_collaborative_round_fedavg:303 - End of fedavg collaborative round.\n",
      "2020-08-19 13:41:14.066 | INFO     | subtest.multi_partner_learning:compute_test_score:184 -    Model evaluation at the end of the epoch: ['0.541', '0.743']\n",
      "2020-08-19 13:41:14.067 | DEBUG    | subtest.multi_partner_learning:compute_test_score:187 -       Checking if early stopping criteria are met:\n",
      "2020-08-19 13:41:14.067 | DEBUG    | subtest.multi_partner_learning:compute_test_score:197 -          -> Early stopping criteria are not met, continuing with training.\n",
      "2020-08-19 13:41:14.080 | DEBUG    | subtest.multi_partner_learning:compute_collaborative_round_fedavg:259 - Start new fedavg collaborative round ...\n",
      "2020-08-19 13:41:14.081 | DEBUG    | subtest.multi_partner_learning:compute_collaborative_round_fedavg:271 - (fedavg) Minibatch n°0 of epoch n°7, init aggregated model for each partner with models from previous round\n",
      "2020-08-19 13:41:22.450 | DEBUG    | subtest.multi_partner_learning:log_collaborative_round_partner_result:513 - Epoch 07/09 > Minibatch 00/02 > Partner id #0 (0/2) > val_acc: 0.75\n",
      "2020-08-19 13:41:27.740 | DEBUG    | subtest.multi_partner_learning:log_collaborative_round_partner_result:513 - Epoch 07/09 > Minibatch 00/02 > Partner id #1 (1/2) > val_acc: 0.74\n",
      "2020-08-19 13:41:33.273 | DEBUG    | subtest.multi_partner_learning:log_collaborative_round_partner_result:513 - Epoch 07/09 > Minibatch 00/02 > Partner id #2 (2/2) > val_acc: 0.75\n",
      "2020-08-19 13:41:33.277 | DEBUG    | subtest.multi_partner_learning:compute_collaborative_round_fedavg:303 - End of fedavg collaborative round.\n",
      "2020-08-19 13:41:33.278 | DEBUG    | subtest.multi_partner_learning:compute_collaborative_round_fedavg:259 - Start new fedavg collaborative round ...\n",
      "2020-08-19 13:41:33.278 | DEBUG    | subtest.multi_partner_learning:compute_collaborative_round_fedavg:271 - (fedavg) Minibatch n°1 of epoch n°7, init aggregated model for each partner with models from previous round\n",
      "2020-08-19 13:41:42.380 | DEBUG    | subtest.multi_partner_learning:log_collaborative_round_partner_result:513 - Epoch 07/09 > Minibatch 01/02 > Partner id #0 (0/2) > val_acc: 0.75\n",
      "2020-08-19 13:41:47.793 | DEBUG    | subtest.multi_partner_learning:log_collaborative_round_partner_result:513 - Epoch 07/09 > Minibatch 01/02 > Partner id #1 (1/2) > val_acc: 0.75\n",
      "2020-08-19 13:41:53.496 | DEBUG    | subtest.multi_partner_learning:log_collaborative_round_partner_result:513 - Epoch 07/09 > Minibatch 01/02 > Partner id #2 (2/2) > val_acc: 0.75\n",
      "2020-08-19 13:41:53.500 | DEBUG    | subtest.multi_partner_learning:compute_collaborative_round_fedavg:303 - End of fedavg collaborative round.\n",
      "2020-08-19 13:41:53.501 | DEBUG    | subtest.multi_partner_learning:compute_collaborative_round_fedavg:259 - Start new fedavg collaborative round ...\n",
      "2020-08-19 13:41:53.501 | DEBUG    | subtest.multi_partner_learning:compute_collaborative_round_fedavg:271 - (fedavg) Minibatch n°2 of epoch n°7, init aggregated model for each partner with models from previous round\n",
      "2020-08-19 13:42:02.134 | DEBUG    | subtest.multi_partner_learning:log_collaborative_round_partner_result:513 - Epoch 07/09 > Minibatch 02/02 > Partner id #0 (0/2) > val_acc: 0.75\n",
      "2020-08-19 13:42:07.614 | DEBUG    | subtest.multi_partner_learning:log_collaborative_round_partner_result:513 - Epoch 07/09 > Minibatch 02/02 > Partner id #1 (1/2) > val_acc: 0.75\n",
      "2020-08-19 13:42:13.367 | DEBUG    | subtest.multi_partner_learning:log_collaborative_round_partner_result:513 - Epoch 07/09 > Minibatch 02/02 > Partner id #2 (2/2) > val_acc: 0.75\n",
      "2020-08-19 13:42:13.371 | DEBUG    | subtest.multi_partner_learning:compute_collaborative_round_fedavg:303 - End of fedavg collaborative round.\n",
      "2020-08-19 13:42:15.603 | INFO     | subtest.multi_partner_learning:compute_test_score:184 -    Model evaluation at the end of the epoch: ['0.528', '0.751']\n",
      "2020-08-19 13:42:15.604 | DEBUG    | subtest.multi_partner_learning:compute_test_score:187 -       Checking if early stopping criteria are met:\n",
      "2020-08-19 13:42:15.604 | DEBUG    | subtest.multi_partner_learning:compute_test_score:197 -          -> Early stopping criteria are not met, continuing with training.\n",
      "2020-08-19 13:42:15.617 | DEBUG    | subtest.multi_partner_learning:compute_collaborative_round_fedavg:259 - Start new fedavg collaborative round ...\n",
      "2020-08-19 13:42:15.617 | DEBUG    | subtest.multi_partner_learning:compute_collaborative_round_fedavg:271 - (fedavg) Minibatch n°0 of epoch n°8, init aggregated model for each partner with models from previous round\n",
      "2020-08-19 13:42:24.046 | DEBUG    | subtest.multi_partner_learning:log_collaborative_round_partner_result:513 - Epoch 08/09 > Minibatch 00/02 > Partner id #0 (0/2) > val_acc: 0.75\n",
      "2020-08-19 13:42:30.289 | DEBUG    | subtest.multi_partner_learning:log_collaborative_round_partner_result:513 - Epoch 08/09 > Minibatch 00/02 > Partner id #1 (1/2) > val_acc: 0.75\n",
      "2020-08-19 13:42:35.949 | DEBUG    | subtest.multi_partner_learning:log_collaborative_round_partner_result:513 - Epoch 08/09 > Minibatch 00/02 > Partner id #2 (2/2) > val_acc: 0.76\n",
      "2020-08-19 13:42:35.952 | DEBUG    | subtest.multi_partner_learning:compute_collaborative_round_fedavg:303 - End of fedavg collaborative round.\n",
      "2020-08-19 13:42:35.953 | DEBUG    | subtest.multi_partner_learning:compute_collaborative_round_fedavg:259 - Start new fedavg collaborative round ...\n",
      "2020-08-19 13:42:35.953 | DEBUG    | subtest.multi_partner_learning:compute_collaborative_round_fedavg:271 - (fedavg) Minibatch n°1 of epoch n°8, init aggregated model for each partner with models from previous round\n",
      "2020-08-19 13:42:44.146 | DEBUG    | subtest.multi_partner_learning:log_collaborative_round_partner_result:513 - Epoch 08/09 > Minibatch 01/02 > Partner id #0 (0/2) > val_acc: 0.76\n",
      "2020-08-19 13:42:49.643 | DEBUG    | subtest.multi_partner_learning:log_collaborative_round_partner_result:513 - Epoch 08/09 > Minibatch 01/02 > Partner id #1 (1/2) > val_acc: 0.76\n",
      "2020-08-19 13:42:54.963 | DEBUG    | subtest.multi_partner_learning:log_collaborative_round_partner_result:513 - Epoch 08/09 > Minibatch 01/02 > Partner id #2 (2/2) > val_acc: 0.76\n"
     ]
    },
    {
     "name": "stderr",
     "output_type": "stream",
     "text": [
      "2020-08-19 13:42:54.966 | DEBUG    | subtest.multi_partner_learning:compute_collaborative_round_fedavg:303 - End of fedavg collaborative round.\n",
      "2020-08-19 13:42:54.967 | DEBUG    | subtest.multi_partner_learning:compute_collaborative_round_fedavg:259 - Start new fedavg collaborative round ...\n",
      "2020-08-19 13:42:54.967 | DEBUG    | subtest.multi_partner_learning:compute_collaborative_round_fedavg:271 - (fedavg) Minibatch n°2 of epoch n°8, init aggregated model for each partner with models from previous round\n",
      "2020-08-19 13:43:02.974 | DEBUG    | subtest.multi_partner_learning:log_collaborative_round_partner_result:513 - Epoch 08/09 > Minibatch 02/02 > Partner id #0 (0/2) > val_acc: 0.75\n",
      "2020-08-19 13:43:08.427 | DEBUG    | subtest.multi_partner_learning:log_collaborative_round_partner_result:513 - Epoch 08/09 > Minibatch 02/02 > Partner id #1 (1/2) > val_acc: 0.76\n",
      "2020-08-19 13:43:14.035 | DEBUG    | subtest.multi_partner_learning:log_collaborative_round_partner_result:513 - Epoch 08/09 > Minibatch 02/02 > Partner id #2 (2/2) > val_acc: 0.76\n",
      "2020-08-19 13:43:14.039 | DEBUG    | subtest.multi_partner_learning:compute_collaborative_round_fedavg:303 - End of fedavg collaborative round.\n",
      "2020-08-19 13:43:16.205 | INFO     | subtest.multi_partner_learning:compute_test_score:184 -    Model evaluation at the end of the epoch: ['0.518', '0.759']\n",
      "2020-08-19 13:43:16.205 | DEBUG    | subtest.multi_partner_learning:compute_test_score:187 -       Checking if early stopping criteria are met:\n",
      "2020-08-19 13:43:16.206 | DEBUG    | subtest.multi_partner_learning:compute_test_score:197 -          -> Early stopping criteria are not met, continuing with training.\n",
      "2020-08-19 13:43:16.219 | DEBUG    | subtest.multi_partner_learning:compute_collaborative_round_fedavg:259 - Start new fedavg collaborative round ...\n",
      "2020-08-19 13:43:16.219 | DEBUG    | subtest.multi_partner_learning:compute_collaborative_round_fedavg:271 - (fedavg) Minibatch n°0 of epoch n°9, init aggregated model for each partner with models from previous round\n",
      "2020-08-19 13:43:24.419 | DEBUG    | subtest.multi_partner_learning:log_collaborative_round_partner_result:513 - Epoch 09/09 > Minibatch 00/02 > Partner id #0 (0/2) > val_acc: 0.76\n",
      "2020-08-19 13:43:29.731 | DEBUG    | subtest.multi_partner_learning:log_collaborative_round_partner_result:513 - Epoch 09/09 > Minibatch 00/02 > Partner id #1 (1/2) > val_acc: 0.76\n",
      "2020-08-19 13:43:35.325 | DEBUG    | subtest.multi_partner_learning:log_collaborative_round_partner_result:513 - Epoch 09/09 > Minibatch 00/02 > Partner id #2 (2/2) > val_acc: 0.76\n",
      "2020-08-19 13:43:35.328 | DEBUG    | subtest.multi_partner_learning:compute_collaborative_round_fedavg:303 - End of fedavg collaborative round.\n",
      "2020-08-19 13:43:35.329 | DEBUG    | subtest.multi_partner_learning:compute_collaborative_round_fedavg:259 - Start new fedavg collaborative round ...\n",
      "2020-08-19 13:43:35.330 | DEBUG    | subtest.multi_partner_learning:compute_collaborative_round_fedavg:271 - (fedavg) Minibatch n°1 of epoch n°9, init aggregated model for each partner with models from previous round\n",
      "2020-08-19 13:43:44.359 | DEBUG    | subtest.multi_partner_learning:log_collaborative_round_partner_result:513 - Epoch 09/09 > Minibatch 01/02 > Partner id #0 (0/2) > val_acc: 0.76\n",
      "2020-08-19 13:43:49.713 | DEBUG    | subtest.multi_partner_learning:log_collaborative_round_partner_result:513 - Epoch 09/09 > Minibatch 01/02 > Partner id #1 (1/2) > val_acc: 0.76\n",
      "2020-08-19 13:43:55.310 | DEBUG    | subtest.multi_partner_learning:log_collaborative_round_partner_result:513 - Epoch 09/09 > Minibatch 01/02 > Partner id #2 (2/2) > val_acc: 0.76\n",
      "2020-08-19 13:43:55.313 | DEBUG    | subtest.multi_partner_learning:compute_collaborative_round_fedavg:303 - End of fedavg collaborative round.\n",
      "2020-08-19 13:43:55.314 | DEBUG    | subtest.multi_partner_learning:compute_collaborative_round_fedavg:259 - Start new fedavg collaborative round ...\n",
      "2020-08-19 13:43:55.314 | DEBUG    | subtest.multi_partner_learning:compute_collaborative_round_fedavg:271 - (fedavg) Minibatch n°2 of epoch n°9, init aggregated model for each partner with models from previous round\n",
      "2020-08-19 13:44:03.627 | DEBUG    | subtest.multi_partner_learning:log_collaborative_round_partner_result:513 - Epoch 09/09 > Minibatch 02/02 > Partner id #0 (0/2) > val_acc: 0.76\n",
      "2020-08-19 13:44:09.471 | DEBUG    | subtest.multi_partner_learning:log_collaborative_round_partner_result:513 - Epoch 09/09 > Minibatch 02/02 > Partner id #1 (1/2) > val_acc: 0.76\n",
      "2020-08-19 13:44:15.056 | DEBUG    | subtest.multi_partner_learning:log_collaborative_round_partner_result:513 - Epoch 09/09 > Minibatch 02/02 > Partner id #2 (2/2) > val_acc: 0.76\n",
      "2020-08-19 13:44:15.060 | DEBUG    | subtest.multi_partner_learning:compute_collaborative_round_fedavg:303 - End of fedavg collaborative round.\n",
      "2020-08-19 13:44:17.249 | INFO     | subtest.multi_partner_learning:compute_test_score:184 -    Model evaluation at the end of the epoch: ['0.510', '0.763']\n",
      "2020-08-19 13:44:17.250 | DEBUG    | subtest.multi_partner_learning:compute_test_score:187 -       Checking if early stopping criteria are met:\n",
      "2020-08-19 13:44:17.251 | DEBUG    | subtest.multi_partner_learning:compute_test_score:197 -          -> Early stopping criteria are not met, continuing with training.\n",
      "2020-08-19 13:44:17.251 | INFO     | subtest.multi_partner_learning:compute_test_score:200 - ### Evaluating model on test data:\n",
      "2020-08-19 13:44:20.365 | INFO     | subtest.multi_partner_learning:compute_test_score:203 -    Model metrics names: ['loss', 'accuracy']\n",
      "2020-08-19 13:44:20.366 | INFO     | subtest.multi_partner_learning:compute_test_score:204 -    Model metrics values: ['0.504', '0.768']\n",
      "2020-08-19 13:44:20.536 | INFO     | subtest.multi_partner_learning:compute_test_score:212 - Training and evaluation on multiple partners: done.\n"
     ]
    },
    {
     "data": {
      "text/plain": [
       "0"
      ]
     },
     "execution_count": 11,
     "metadata": {},
     "output_type": "execute_result"
    }
   ],
   "source": [
    "run_scenario(current_scenario)"
   ]
  },
  {
   "cell_type": "markdown",
   "metadata": {},
   "source": [
    "# Results"
   ]
  },
  {
   "cell_type": "code",
   "execution_count": 12,
   "metadata": {},
   "outputs": [
    {
     "name": "stdout",
     "output_type": "stream",
     "text": [
      "0    0.76815\n",
      "Name: mpl_test_score, dtype: float64\n"
     ]
    }
   ],
   "source": [
    "df_results = current_scenario.to_dataframe()\n",
    "print(df_results.mpl_test_score)"
   ]
  },
  {
   "cell_type": "code",
   "execution_count": null,
   "metadata": {},
   "outputs": [],
   "source": []
  }
 ],
 "metadata": {
  "kernelspec": {
   "display_name": "Python 3",
   "language": "python",
   "name": "python3"
  },
  "language_info": {
   "codemirror_mode": {
    "name": "ipython",
    "version": 3
   },
   "file_extension": ".py",
   "mimetype": "text/x-python",
   "name": "python",
   "nbconvert_exporter": "python",
   "pygments_lexer": "ipython3",
   "version": "3.8.2"
  }
 },
 "nbformat": 4,
 "nbformat_minor": 4
}
