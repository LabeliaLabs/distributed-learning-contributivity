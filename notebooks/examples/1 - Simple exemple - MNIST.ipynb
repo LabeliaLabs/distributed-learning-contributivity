{
 "cells": [
  {
   "cell_type": "markdown",
   "metadata": {},
   "source": [
    "# MNIST \n",
    "\n",
    "This exemple is an implementation of federated learning using Substra's Distributed Learning Contributivity.\n",
    "\n",
    "This is based on both [existing resources on MNIST](https://medium.com/@mjbhobe/mnist-digits-classification-with-keras-ed6c2374bd0e) and [precedent implementation of this dataset for the standalone application](https://github.com/SubstraFoundation/distributed-learning-contributivity/blob/master/datasets/dataset_mnist.py).\n",
    "\n",
    "This notebook will be focused on importing manually the dataset, do a bit of preprocessing and build our objects to run a collaborative round.\n",
    "\n",
    "\n",
    "## Prerequisites\n",
    "\n",
    "In order to run this example, you'll need to:\n",
    "\n",
    "* use python 3.7 +\n",
    "* install requierements from the requirements.txt file\n",
    "* install this package https://test.pypi.org/project/pkg-test-distributed-learning-contributivity/0.0.5/\n",
    "\n"
   ]
  },
  {
   "cell_type": "code",
   "execution_count": 34,
   "metadata": {
    "scrolled": false
   },
   "outputs": [
    {
     "name": "stdout",
     "output_type": "stream",
     "text": [
      "Looking in indexes: https://test.pypi.org/simple/\n",
      "Collecting subtest==0.0.0.6\n",
      "  Downloading https://test-files.pythonhosted.org/packages/60/b6/5d165a9f0244b7901f13dd74c7040d358f3bc0fba12235ef73a6d075d2b7/subtest-0.0.0.6-py3-none-any.whl (93 kB)\n",
      "Requirement already satisfied: matplotlib==3.1.3 in c:\\programdata\\anaconda3\\lib\\site-packages (from subtest==0.0.0.6) (3.1.3)\n",
      "Requirement already satisfied: numpy==1.19.0 in c:\\programdata\\anaconda3\\lib\\site-packages (from subtest==0.0.0.6) (1.19.0)\n",
      "Requirement already satisfied: loguru==0.4.1 in c:\\programdata\\anaconda3\\lib\\site-packages (from subtest==0.0.0.6) (0.4.1)\n",
      "Requirement already satisfied: seaborn==0.10.0 in c:\\programdata\\anaconda3\\lib\\site-packages (from subtest==0.0.0.6) (0.10.0)\n",
      "Requirement already satisfied: pandas==1.0.5 in c:\\programdata\\anaconda3\\lib\\site-packages (from subtest==0.0.0.6) (1.0.5)\n",
      "Requirement already satisfied: scikit-learn==0.22.1 in c:\\programdata\\anaconda3\\lib\\site-packages (from subtest==0.0.0.6) (0.22.1)\n",
      "Requirement already satisfied: pytest==5.4.3 in c:\\programdata\\anaconda3\\lib\\site-packages (from subtest==0.0.0.6) (5.4.3)\n",
      "Requirement already satisfied: tensorflow==2.2.0 in c:\\programdata\\anaconda3\\lib\\site-packages (from subtest==0.0.0.6) (2.2.0)\n",
      "Requirement already satisfied: Keras==2.3.1 in c:\\programdata\\anaconda3\\lib\\site-packages (from subtest==0.0.0.6) (2.3.1)\n",
      "Requirement already satisfied: scipy==1.4.1 in c:\\programdata\\anaconda3\\lib\\site-packages (from subtest==0.0.0.6) (1.4.1)\n",
      "Requirement already satisfied: ruamel.yaml==0.16.10 in c:\\programdata\\anaconda3\\lib\\site-packages (from subtest==0.0.0.6) (0.16.10)\n",
      "Requirement already satisfied: cycler>=0.10 in c:\\programdata\\anaconda3\\lib\\site-packages (from matplotlib==3.1.3->subtest==0.0.0.6) (0.10.0)\n",
      "Requirement already satisfied: pyparsing!=2.0.4,!=2.1.2,!=2.1.6,>=2.0.1 in c:\\programdata\\anaconda3\\lib\\site-packages (from matplotlib==3.1.3->subtest==0.0.0.6) (2.4.6)\n",
      "Requirement already satisfied: kiwisolver>=1.0.1 in c:\\programdata\\anaconda3\\lib\\site-packages (from matplotlib==3.1.3->subtest==0.0.0.6) (1.1.0)\n",
      "Requirement already satisfied: python-dateutil>=2.1 in c:\\programdata\\anaconda3\\lib\\site-packages (from matplotlib==3.1.3->subtest==0.0.0.6) (2.8.1)\n",
      "Requirement already satisfied: colorama>=0.3.4; sys_platform == \"win32\" in c:\\programdata\\anaconda3\\lib\\site-packages (from loguru==0.4.1->subtest==0.0.0.6) (0.4.3)\n",
      "Requirement already satisfied: win32-setctime>=1.0.0; sys_platform == \"win32\" in c:\\programdata\\anaconda3\\lib\\site-packages (from loguru==0.4.1->subtest==0.0.0.6) (1.0.1)\n",
      "Requirement already satisfied: pytz>=2017.2 in c:\\programdata\\anaconda3\\lib\\site-packages (from pandas==1.0.5->subtest==0.0.0.6) (2019.3)\n",
      "Requirement already satisfied: joblib>=0.11 in c:\\programdata\\anaconda3\\lib\\site-packages (from scikit-learn==0.22.1->subtest==0.0.0.6) (0.14.1)\n",
      "Requirement already satisfied: more-itertools>=4.0.0 in c:\\programdata\\anaconda3\\lib\\site-packages (from pytest==5.4.3->subtest==0.0.0.6) (8.2.0)\n",
      "Requirement already satisfied: pluggy<1.0,>=0.12 in c:\\programdata\\anaconda3\\lib\\site-packages (from pytest==5.4.3->subtest==0.0.0.6) (0.13.1)\n",
      "Requirement already satisfied: py>=1.5.0 in c:\\programdata\\anaconda3\\lib\\site-packages (from pytest==5.4.3->subtest==0.0.0.6) (1.8.1)\n",
      "Requirement already satisfied: attrs>=17.4.0 in c:\\programdata\\anaconda3\\lib\\site-packages (from pytest==5.4.3->subtest==0.0.0.6) (19.3.0)\n",
      "Requirement already satisfied: packaging in c:\\programdata\\anaconda3\\lib\\site-packages (from pytest==5.4.3->subtest==0.0.0.6) (20.1)\n",
      "Requirement already satisfied: importlib-metadata>=0.12; python_version < \"3.8\" in c:\\programdata\\anaconda3\\lib\\site-packages (from pytest==5.4.3->subtest==0.0.0.6) (1.5.0)\n",
      "Requirement already satisfied: atomicwrites>=1.0; sys_platform == \"win32\" in c:\\programdata\\anaconda3\\lib\\site-packages (from pytest==5.4.3->subtest==0.0.0.6) (1.3.0)\n",
      "Requirement already satisfied: wcwidth in c:\\programdata\\anaconda3\\lib\\site-packages (from pytest==5.4.3->subtest==0.0.0.6) (0.1.8)\n",
      "Requirement already satisfied: six>=1.12.0 in c:\\programdata\\anaconda3\\lib\\site-packages (from tensorflow==2.2.0->subtest==0.0.0.6) (1.14.0)\n",
      "Requirement already satisfied: google-pasta>=0.1.8 in c:\\programdata\\anaconda3\\lib\\site-packages (from tensorflow==2.2.0->subtest==0.0.0.6) (0.2.0)\n",
      "Requirement already satisfied: grpcio>=1.8.6 in c:\\programdata\\anaconda3\\lib\\site-packages (from tensorflow==2.2.0->subtest==0.0.0.6) (1.30.0)\n",
      "Requirement already satisfied: wheel>=0.26; python_version >= \"3\" in c:\\programdata\\anaconda3\\lib\\site-packages (from tensorflow==2.2.0->subtest==0.0.0.6) (0.34.2)\n",
      "Requirement already satisfied: termcolor>=1.1.0 in c:\\programdata\\anaconda3\\lib\\site-packages (from tensorflow==2.2.0->subtest==0.0.0.6) (1.1.0)\n",
      "Requirement already satisfied: protobuf>=3.8.0 in c:\\programdata\\anaconda3\\lib\\site-packages (from tensorflow==2.2.0->subtest==0.0.0.6) (3.12.2)\n",
      "Requirement already satisfied: astunparse==1.6.3 in c:\\programdata\\anaconda3\\lib\\site-packages (from tensorflow==2.2.0->subtest==0.0.0.6) (1.6.3)\n",
      "Requirement already satisfied: opt-einsum>=2.3.2 in c:\\programdata\\anaconda3\\lib\\site-packages (from tensorflow==2.2.0->subtest==0.0.0.6) (3.2.1)\n",
      "Requirement already satisfied: wrapt>=1.11.1 in c:\\programdata\\anaconda3\\lib\\site-packages (from tensorflow==2.2.0->subtest==0.0.0.6) (1.11.2)\n",
      "Requirement already satisfied: absl-py>=0.7.0 in c:\\programdata\\anaconda3\\lib\\site-packages (from tensorflow==2.2.0->subtest==0.0.0.6) (0.9.0)\n",
      "Requirement already satisfied: tensorboard<2.3.0,>=2.2.0 in c:\\programdata\\anaconda3\\lib\\site-packages (from tensorflow==2.2.0->subtest==0.0.0.6) (2.2.2)\n",
      "Requirement already satisfied: h5py<2.11.0,>=2.10.0 in c:\\programdata\\anaconda3\\lib\\site-packages (from tensorflow==2.2.0->subtest==0.0.0.6) (2.10.0)\n",
      "Requirement already satisfied: gast==0.3.3 in c:\\programdata\\anaconda3\\lib\\site-packages (from tensorflow==2.2.0->subtest==0.0.0.6) (0.3.3)\n",
      "Requirement already satisfied: keras-preprocessing>=1.1.0 in c:\\programdata\\anaconda3\\lib\\site-packages (from tensorflow==2.2.0->subtest==0.0.0.6) (1.1.2)\n",
      "Requirement already satisfied: tensorflow-estimator<2.3.0,>=2.2.0 in c:\\programdata\\anaconda3\\lib\\site-packages (from tensorflow==2.2.0->subtest==0.0.0.6) (2.2.0)\n",
      "Requirement already satisfied: keras-applications>=1.0.6 in c:\\programdata\\anaconda3\\lib\\site-packages (from Keras==2.3.1->subtest==0.0.0.6) (1.0.8)\n",
      "Requirement already satisfied: pyyaml in c:\\programdata\\anaconda3\\lib\\site-packages (from Keras==2.3.1->subtest==0.0.0.6) (5.3)\n",
      "Requirement already satisfied: ruamel.yaml.clib>=0.1.2; platform_python_implementation == \"CPython\" and python_version < \"3.9\" in c:\\programdata\\anaconda3\\lib\\site-packages (from ruamel.yaml==0.16.10->subtest==0.0.0.6) (0.2.0)\n",
      "Requirement already satisfied: setuptools in c:\\programdata\\anaconda3\\lib\\site-packages (from kiwisolver>=1.0.1->matplotlib==3.1.3->subtest==0.0.0.6) (45.2.0.post20200210)\n",
      "Requirement already satisfied: zipp>=0.5 in c:\\programdata\\anaconda3\\lib\\site-packages (from importlib-metadata>=0.12; python_version < \"3.8\"->pytest==5.4.3->subtest==0.0.0.6) (2.2.0)\n",
      "Requirement already satisfied: werkzeug>=0.11.15 in c:\\programdata\\anaconda3\\lib\\site-packages (from tensorboard<2.3.0,>=2.2.0->tensorflow==2.2.0->subtest==0.0.0.6) (1.0.0)\n",
      "Requirement already satisfied: google-auth<2,>=1.6.3 in c:\\programdata\\anaconda3\\lib\\site-packages (from tensorboard<2.3.0,>=2.2.0->tensorflow==2.2.0->subtest==0.0.0.6) (1.18.0)\n",
      "Requirement already satisfied: google-auth-oauthlib<0.5,>=0.4.1 in c:\\programdata\\anaconda3\\lib\\site-packages (from tensorboard<2.3.0,>=2.2.0->tensorflow==2.2.0->subtest==0.0.0.6) (0.4.1)\n",
      "Requirement already satisfied: markdown>=2.6.8 in c:\\programdata\\anaconda3\\lib\\site-packages (from tensorboard<2.3.0,>=2.2.0->tensorflow==2.2.0->subtest==0.0.0.6) (3.2.2)\n",
      "Requirement already satisfied: tensorboard-plugin-wit>=1.6.0 in c:\\programdata\\anaconda3\\lib\\site-packages (from tensorboard<2.3.0,>=2.2.0->tensorflow==2.2.0->subtest==0.0.0.6) (1.7.0)\n",
      "Requirement already satisfied: requests<3,>=2.21.0 in c:\\programdata\\anaconda3\\lib\\site-packages (from tensorboard<2.3.0,>=2.2.0->tensorflow==2.2.0->subtest==0.0.0.6) (2.22.0)\n",
      "Requirement already satisfied: pyasn1-modules>=0.2.1 in c:\\programdata\\anaconda3\\lib\\site-packages (from google-auth<2,>=1.6.3->tensorboard<2.3.0,>=2.2.0->tensorflow==2.2.0->subtest==0.0.0.6) (0.2.8)\n",
      "Requirement already satisfied: rsa<5,>=3.1.4; python_version >= \"3\" in c:\\programdata\\anaconda3\\lib\\site-packages (from google-auth<2,>=1.6.3->tensorboard<2.3.0,>=2.2.0->tensorflow==2.2.0->subtest==0.0.0.6) (4.6)\n",
      "Requirement already satisfied: cachetools<5.0,>=2.0.0 in c:\\programdata\\anaconda3\\lib\\site-packages (from google-auth<2,>=1.6.3->tensorboard<2.3.0,>=2.2.0->tensorflow==2.2.0->subtest==0.0.0.6) (4.1.1)\n",
      "Requirement already satisfied: requests-oauthlib>=0.7.0 in c:\\programdata\\anaconda3\\lib\\site-packages (from google-auth-oauthlib<0.5,>=0.4.1->tensorboard<2.3.0,>=2.2.0->tensorflow==2.2.0->subtest==0.0.0.6) (1.3.0)\n",
      "Requirement already satisfied: chardet<3.1.0,>=3.0.2 in c:\\programdata\\anaconda3\\lib\\site-packages (from requests<3,>=2.21.0->tensorboard<2.3.0,>=2.2.0->tensorflow==2.2.0->subtest==0.0.0.6) (3.0.4)\n",
      "Requirement already satisfied: urllib3!=1.25.0,!=1.25.1,<1.26,>=1.21.1 in c:\\programdata\\anaconda3\\lib\\site-packages (from requests<3,>=2.21.0->tensorboard<2.3.0,>=2.2.0->tensorflow==2.2.0->subtest==0.0.0.6) (1.25.8)\n",
      "Requirement already satisfied: idna<2.9,>=2.5 in c:\\programdata\\anaconda3\\lib\\site-packages (from requests<3,>=2.21.0->tensorboard<2.3.0,>=2.2.0->tensorflow==2.2.0->subtest==0.0.0.6) (2.8)\n",
      "Requirement already satisfied: certifi>=2017.4.17 in c:\\programdata\\anaconda3\\lib\\site-packages (from requests<3,>=2.21.0->tensorboard<2.3.0,>=2.2.0->tensorflow==2.2.0->subtest==0.0.0.6) (2019.11.28)\n",
      "Requirement already satisfied: pyasn1<0.5.0,>=0.4.6 in c:\\programdata\\anaconda3\\lib\\site-packages (from pyasn1-modules>=0.2.1->google-auth<2,>=1.6.3->tensorboard<2.3.0,>=2.2.0->tensorflow==2.2.0->subtest==0.0.0.6) (0.4.8)\n",
      "Requirement already satisfied: oauthlib>=3.0.0 in c:\\programdata\\anaconda3\\lib\\site-packages (from requests-oauthlib>=0.7.0->google-auth-oauthlib<0.5,>=0.4.1->tensorboard<2.3.0,>=2.2.0->tensorflow==2.2.0->subtest==0.0.0.6) (3.1.0)\n",
      "Installing collected packages: subtest\n",
      "  Attempting uninstall: subtest\n",
      "    Found existing installation: subtest 0.0.0.5\n",
      "    Uninstalling subtest-0.0.0.5:\n",
      "      Successfully uninstalled subtest-0.0.0.5\n",
      "Successfully installed subtest-0.0.0.6\n"
     ]
    },
    {
     "name": "stderr",
     "output_type": "stream",
     "text": [
      "ERROR: subtest 0.0.0.6 has requirement ruamel.yaml==0.16.10, but you'll have ruamel-yaml 0.15.87 which is incompatible.\n"
     ]
    }
   ],
   "source": [
    "!pip install -r requirements.txt\n",
    "!pip install -i https://test.pypi.org/simple/ subtest==0.0.0.6"
   ]
  },
  {
   "cell_type": "code",
   "execution_count": 24,
   "metadata": {},
   "outputs": [],
   "source": [
    "# imports\n",
    "import numpy as np\n",
    "from pathlib import Path\n",
    "import pandas as pd\n",
    "import seaborn as sns\n",
    "sns.set()\n",
    "\n",
    "from keras.models import Sequential\n",
    "from keras.layers import Dense, Dropout, Activation, Flatten, Conv2D, MaxPooling2D\n",
    "from keras.utils import np_utils\n",
    "from keras.datasets import mnist"
   ]
  },
  {
   "cell_type": "code",
   "execution_count": 36,
   "metadata": {},
   "outputs": [],
   "source": [
    "# Object and methodes needed in order to run a collaborative round\n",
    "from subtest.dataset import Dataset\n",
    "from subtest.scenario import Scenario, run_scenario"
   ]
  },
  {
   "cell_type": "markdown",
   "metadata": {},
   "source": [
    "# Create custom scenario handling mandatory parametters\n",
    "\n",
    "These parametter describe how many partners will be created and how much proportion they will have in the dataset.\n",
    "\n",
    "We can use more advanced samples split options in order to finely tune the data distribution between partners."
   ]
  },
  {
   "cell_type": "code",
   "execution_count": 37,
   "metadata": {},
   "outputs": [],
   "source": [
    "scenario_params = {\n",
    "    'partners_count': 3,\n",
    "    'amounts_per_partner': [0.2, 0.5, 0.3],\n",
    "}"
   ]
  },
  {
   "cell_type": "markdown",
   "metadata": {},
   "source": [
    "# Set values for optinal parametters\n",
    "\n",
    "We want our training to go for 10 epochs and 3 minibatches per epoch."
   ]
  },
  {
   "cell_type": "code",
   "execution_count": 38,
   "metadata": {},
   "outputs": [],
   "source": [
    "scenario_params['epoch_count'] = 10\n",
    "scenario_params['minibatch_count'] = 3"
   ]
  },
  {
   "cell_type": "markdown",
   "metadata": {},
   "source": [
    "#### Every other parametter will be set to its default value\n",
    "\n",
    "We might consider :\n",
    "\n",
    "- Datas will be split randomly between partner\n",
    "- The learning approach is 'fedavg' for federated averaging \n",
    "- Weights will be averaged uniformally, different weights can be applyed for each partner\n",
    "\n",
    "The learning approachs are built-in paramatter that can be set easly. There are currrently 4 differents approachs.\n",
    "\n",
    "\n",
    "#### More details at : https://github.com/SubstraFoundation/distributed-learning-contributivity"
   ]
  },
  {
   "cell_type": "markdown",
   "metadata": {},
   "source": [
    "# Define scenario\n",
    "\n",
    "We specify our experiment path used to output graphs and results.\n",
    "\n",
    "We can now create the scenario that will handle every parametter"
   ]
  },
  {
   "cell_type": "code",
   "execution_count": 39,
   "metadata": {},
   "outputs": [
    {
     "name": "stderr",
     "output_type": "stream",
     "text": [
      "2020-08-19 12:12:52.677 | DEBUG    | subtest.scenario:__init__:54 - Dataset selected: mnist\n",
      "2020-08-19 12:12:52.677 | DEBUG    | subtest.scenario:__init__:89 - Computation use the full dataset for scenario #1\n",
      "2020-08-19 12:12:52.740 | INFO     | subtest.scenario:__init__:281 - ### Description of data scenario configured:\n",
      "2020-08-19 12:12:52.740 | INFO     | subtest.scenario:__init__:282 -    Number of partners defined: 3\n",
      "2020-08-19 12:12:52.741 | INFO     | subtest.scenario:__init__:283 -    Data distribution scenario chosen: random\n",
      "2020-08-19 12:12:52.741 | INFO     | subtest.scenario:__init__:284 -    Multi-partner learning approach: fedavg\n",
      "2020-08-19 12:12:52.742 | INFO     | subtest.scenario:__init__:285 -    Weighting option: uniform\n",
      "2020-08-19 12:12:52.742 | INFO     | subtest.scenario:__init__:286 -    Iterations parameters: 10 epochs > 3 mini-batches > 8 gradient updates per pass\n",
      "2020-08-19 12:12:52.742 | INFO     | subtest.scenario:__init__:292 - ### Data loaded: mnist\n",
      "2020-08-19 12:12:52.743 | INFO     | subtest.scenario:__init__:293 -    48000 train data with 48000 labels\n",
      "2020-08-19 12:12:52.743 | INFO     | subtest.scenario:__init__:294 -    12000 val data with 12000 labels\n",
      "2020-08-19 12:12:52.744 | INFO     | subtest.scenario:__init__:295 -    10000 test data with 10000 labels\n"
     ]
    }
   ],
   "source": [
    "experiment_path = Path(r\"C:\\GitHub\\distributed-learning-contributivity\\experiments\\MNIST_experiment\")\n",
    "\n",
    "current_scenario = Scenario(\n",
    "        scenario_params,\n",
    "        experiment_path\n",
    "    )"
   ]
  },
  {
   "cell_type": "markdown",
   "metadata": {},
   "source": [
    "# Create Data Set\n",
    "\n",
    "For this experiment we use the well known MNIST dataset.\n",
    "\n",
    "This exemple is also avilable using the standalone app specifying in the config file : dataset_name: - 'mnist'"
   ]
  },
  {
   "cell_type": "code",
   "execution_count": 40,
   "metadata": {},
   "outputs": [],
   "source": [
    "(X_train, y_train), (X_test, y_test) = mnist.load_data()\n",
    "\n",
    "X_train = X_train.reshape(X_train.shape[0],  28, 28, 1)\n",
    "X_test = X_test.reshape(X_test.shape[0], 28, 28, 1)\n",
    "X_train = X_train.astype('float32')\n",
    "X_test = X_test.astype('float32')\n",
    "X_train /= 255\n",
    "X_test /= 255\n",
    "\n",
    "input_shape = (28, 28, 1)\n",
    "num_classes = 10"
   ]
  },
  {
   "cell_type": "markdown",
   "metadata": {},
   "source": [
    "# Create Preprocessing function"
   ]
  },
  {
   "cell_type": "code",
   "execution_count": 41,
   "metadata": {},
   "outputs": [],
   "source": [
    "def preprocess_dataset_labels(y):\n",
    "    y = np_utils.to_categorical(y, 10)\n",
    "    return y"
   ]
  },
  {
   "cell_type": "markdown",
   "metadata": {},
   "source": [
    "# Create Model"
   ]
  },
  {
   "cell_type": "code",
   "execution_count": 42,
   "metadata": {},
   "outputs": [],
   "source": [
    "def generate_new_model_for_dataset():\n",
    "    model = Sequential()\n",
    "    # add Convolutional layers\n",
    "    model.add(Conv2D(filters=32, kernel_size=(3,3), activation='relu', padding='same',\n",
    "                     input_shape=input_shape))\n",
    "    model.add(MaxPooling2D(pool_size=(2,2)))\n",
    "    model.add(Conv2D(filters=64, kernel_size=(3,3), activation='relu', padding='same'))\n",
    "    model.add(MaxPooling2D(pool_size=(2,2)))\n",
    "    model.add(Conv2D(filters=64, kernel_size=(3,3), activation='relu', padding='same'))\n",
    "    model.add(MaxPooling2D(pool_size=(2,2)))    \n",
    "    model.add(Flatten())\n",
    "    # Densely connected layers\n",
    "    model.add(Dense(128, activation='relu'))\n",
    "    # output layer\n",
    "    model.add(Dense(num_classes, activation='softmax'))\n",
    "    # compile with adam optimizer & categorical_crossentropy loss function\n",
    "    model.compile(optimizer='adam', loss='categorical_crossentropy', metrics=['accuracy'])\n",
    "    return model"
   ]
  },
  {
   "cell_type": "markdown",
   "metadata": {},
   "source": [
    "# Assignate dataset to scenario"
   ]
  },
  {
   "cell_type": "code",
   "execution_count": 43,
   "metadata": {},
   "outputs": [],
   "source": [
    "current_scenario.dataset = Dataset(\n",
    "    \"my_dataset\",\n",
    "    X_train,\n",
    "    X_test,\n",
    "    y_train,\n",
    "    y_test,\n",
    "    input_shape,\n",
    "    num_classes,\n",
    "    preprocess_dataset_labels,\n",
    "    generate_new_model_for_dataset\n",
    ")\n",
    "\n",
    "# Legacy\n",
    "current_scenario.partners_list = []"
   ]
  },
  {
   "cell_type": "markdown",
   "metadata": {},
   "source": [
    "# Split train and validation sets\n",
    "\n",
    "This is a mandatory step to provide an unbiaised evaluation of the model performance."
   ]
  },
  {
   "cell_type": "code",
   "execution_count": 44,
   "metadata": {},
   "outputs": [],
   "source": [
    "current_scenario.dataset.train_val_split()"
   ]
  },
  {
   "cell_type": "markdown",
   "metadata": {},
   "source": [
    "# Run scenario\n",
    "\n",
    "The actual training phase of our federated learning exemple ! "
   ]
  },
  {
   "cell_type": "code",
   "execution_count": 45,
   "metadata": {},
   "outputs": [
    {
     "name": "stderr",
     "output_type": "stream",
     "text": [
      "2020-08-19 12:12:53.270 | INFO     | subtest.scenario:split_data:536 - ### Splitting data among partners:\n",
      "2020-08-19 12:12:53.270 | INFO     | subtest.scenario:split_data:537 -    Simple split performed.\n",
      "2020-08-19 12:12:53.271 | INFO     | subtest.scenario:split_data:538 -    Nb of samples split amongst partners: 38880\n",
      "2020-08-19 12:12:53.272 | INFO     | subtest.scenario:split_data:540 -    Partner #0: 7776 samples with labels [0, 1, 2, 3, 4, 5, 6, 7, 8, 9]\n",
      "2020-08-19 12:12:53.272 | INFO     | subtest.scenario:split_data:540 -    Partner #1: 19440 samples with labels [0, 1, 2, 3, 4, 5, 6, 7, 8, 9]\n",
      "2020-08-19 12:12:53.272 | INFO     | subtest.scenario:split_data:540 -    Partner #2: 11664 samples with labels [0, 1, 2, 3, 4, 5, 6, 7, 8, 9]\n",
      "2020-08-19 12:12:53.464 | DEBUG    | subtest.scenario:compute_batch_sizes:584 -    Compute batch sizes, partner #0: 324\n",
      "2020-08-19 12:12:53.465 | DEBUG    | subtest.scenario:compute_batch_sizes:584 -    Compute batch sizes, partner #1: 810\n",
      "2020-08-19 12:12:53.465 | DEBUG    | subtest.scenario:compute_batch_sizes:584 -    Compute batch sizes, partner #2: 486\n",
      "2020-08-19 12:12:53.465 | DEBUG    | subtest.scenario:preprocess_scenarios_data:589 - ## Pre-processing datasets of the scenario for keras CNN:\n",
      "2020-08-19 12:12:53.466 | DEBUG    | subtest.scenario:preprocess_scenarios_data:593 -    Central early stopping validation set: done.\n",
      "2020-08-19 12:12:53.467 | DEBUG    | subtest.scenario:preprocess_scenarios_data:595 -    Central testset: done.\n",
      "2020-08-19 12:12:53.468 | DEBUG    | subtest.scenario:preprocess_scenarios_data:617 -    Partner #0: done.\n",
      "2020-08-19 12:12:53.469 | DEBUG    | subtest.scenario:preprocess_scenarios_data:617 -    Partner #1: done.\n",
      "2020-08-19 12:12:53.470 | DEBUG    | subtest.scenario:preprocess_scenarios_data:617 -    Partner #2: done.\n",
      "2020-08-19 12:12:53.470 | DEBUG    | subtest.multi_partner_learning:__init__:69 - MultiPartnerLearning object instantiated.\n",
      "2020-08-19 12:12:53.471 | INFO     | subtest.multi_partner_learning:compute_test_score:135 - ## Training and evaluating model on partners with ids: ['#0', '#1', '#2']\n",
      "2020-08-19 12:12:53.539 | DEBUG    | subtest.multi_partner_learning:compute_collaborative_round_fedavg:259 - Start new fedavg collaborative round ...\n",
      "2020-08-19 12:12:53.540 | DEBUG    | subtest.multi_partner_learning:compute_collaborative_round_fedavg:268 - (fedavg) Very first minibatch of epoch n°0, init new models for each partner\n",
      "2020-08-19 12:13:21.071 | DEBUG    | subtest.multi_partner_learning:log_collaborative_round_partner_result:513 - Epoch 00/09 > Minibatch 00/02 > Partner id #0 (0/2) > val_acc: 0.59\n",
      "2020-08-19 12:13:22.223 | DEBUG    | subtest.multi_partner_learning:log_collaborative_round_partner_result:513 - Epoch 00/09 > Minibatch 00/02 > Partner id #1 (1/2) > val_acc: 0.54\n",
      "2020-08-19 12:13:23.305 | DEBUG    | subtest.multi_partner_learning:log_collaborative_round_partner_result:513 - Epoch 00/09 > Minibatch 00/02 > Partner id #2 (2/2) > val_acc: 0.49\n",
      "2020-08-19 12:13:23.308 | DEBUG    | subtest.multi_partner_learning:compute_collaborative_round_fedavg:303 - End of fedavg collaborative round.\n",
      "2020-08-19 12:13:23.309 | DEBUG    | subtest.multi_partner_learning:compute_collaborative_round_fedavg:259 - Start new fedavg collaborative round ...\n",
      "2020-08-19 12:13:23.309 | DEBUG    | subtest.multi_partner_learning:compute_collaborative_round_fedavg:271 - (fedavg) Minibatch n°1 of epoch n°0, init aggregated model for each partner with models from previous round\n",
      "2020-08-19 12:13:24.308 | DEBUG    | subtest.multi_partner_learning:log_collaborative_round_partner_result:513 - Epoch 00/09 > Minibatch 01/02 > Partner id #0 (0/2) > val_acc: 0.73\n",
      "2020-08-19 12:13:25.044 | DEBUG    | subtest.multi_partner_learning:log_collaborative_round_partner_result:513 - Epoch 00/09 > Minibatch 01/02 > Partner id #1 (1/2) > val_acc: 0.76\n",
      "2020-08-19 12:13:25.742 | DEBUG    | subtest.multi_partner_learning:log_collaborative_round_partner_result:513 - Epoch 00/09 > Minibatch 01/02 > Partner id #2 (2/2) > val_acc: 0.74\n",
      "2020-08-19 12:13:25.744 | DEBUG    | subtest.multi_partner_learning:compute_collaborative_round_fedavg:303 - End of fedavg collaborative round.\n",
      "2020-08-19 12:13:25.745 | DEBUG    | subtest.multi_partner_learning:compute_collaborative_round_fedavg:259 - Start new fedavg collaborative round ...\n",
      "2020-08-19 12:13:25.745 | DEBUG    | subtest.multi_partner_learning:compute_collaborative_round_fedavg:271 - (fedavg) Minibatch n°2 of epoch n°0, init aggregated model for each partner with models from previous round\n",
      "2020-08-19 12:13:26.742 | DEBUG    | subtest.multi_partner_learning:log_collaborative_round_partner_result:513 - Epoch 00/09 > Minibatch 02/02 > Partner id #0 (0/2) > val_acc: 0.73\n",
      "2020-08-19 12:13:27.478 | DEBUG    | subtest.multi_partner_learning:log_collaborative_round_partner_result:513 - Epoch 00/09 > Minibatch 02/02 > Partner id #1 (1/2) > val_acc: 0.78\n",
      "2020-08-19 12:13:28.295 | DEBUG    | subtest.multi_partner_learning:log_collaborative_round_partner_result:513 - Epoch 00/09 > Minibatch 02/02 > Partner id #2 (2/2) > val_acc: 0.78\n",
      "2020-08-19 12:13:28.298 | DEBUG    | subtest.multi_partner_learning:compute_collaborative_round_fedavg:303 - End of fedavg collaborative round.\n",
      "2020-08-19 12:13:28.587 | INFO     | subtest.multi_partner_learning:compute_test_score:184 -    Model evaluation at the end of the epoch: ['0.754', '0.789']\n",
      "2020-08-19 12:13:28.587 | DEBUG    | subtest.multi_partner_learning:compute_test_score:187 -       Checking if early stopping criteria are met:\n",
      "2020-08-19 12:13:28.588 | DEBUG    | subtest.multi_partner_learning:compute_test_score:197 -          -> Early stopping criteria are not met, continuing with training.\n",
      "2020-08-19 12:13:28.640 | DEBUG    | subtest.multi_partner_learning:compute_collaborative_round_fedavg:259 - Start new fedavg collaborative round ...\n",
      "2020-08-19 12:13:28.640 | DEBUG    | subtest.multi_partner_learning:compute_collaborative_round_fedavg:271 - (fedavg) Minibatch n°0 of epoch n°1, init aggregated model for each partner with models from previous round\n",
      "2020-08-19 12:13:29.637 | DEBUG    | subtest.multi_partner_learning:log_collaborative_round_partner_result:513 - Epoch 01/09 > Minibatch 00/02 > Partner id #0 (0/2) > val_acc: 0.77\n",
      "2020-08-19 12:13:30.360 | DEBUG    | subtest.multi_partner_learning:log_collaborative_round_partner_result:513 - Epoch 01/09 > Minibatch 00/02 > Partner id #1 (1/2) > val_acc: 0.79\n",
      "2020-08-19 12:13:31.051 | DEBUG    | subtest.multi_partner_learning:log_collaborative_round_partner_result:513 - Epoch 01/09 > Minibatch 00/02 > Partner id #2 (2/2) > val_acc: 0.83\n",
      "2020-08-19 12:13:31.054 | DEBUG    | subtest.multi_partner_learning:compute_collaborative_round_fedavg:303 - End of fedavg collaborative round.\n",
      "2020-08-19 12:13:31.055 | DEBUG    | subtest.multi_partner_learning:compute_collaborative_round_fedavg:259 - Start new fedavg collaborative round ...\n",
      "2020-08-19 12:13:31.055 | DEBUG    | subtest.multi_partner_learning:compute_collaborative_round_fedavg:271 - (fedavg) Minibatch n°1 of epoch n°1, init aggregated model for each partner with models from previous round\n",
      "2020-08-19 12:13:32.068 | DEBUG    | subtest.multi_partner_learning:log_collaborative_round_partner_result:513 - Epoch 01/09 > Minibatch 01/02 > Partner id #0 (0/2) > val_acc: 0.82\n",
      "2020-08-19 12:13:32.788 | DEBUG    | subtest.multi_partner_learning:log_collaborative_round_partner_result:513 - Epoch 01/09 > Minibatch 01/02 > Partner id #1 (1/2) > val_acc: 0.84\n",
      "2020-08-19 12:13:33.483 | DEBUG    | subtest.multi_partner_learning:log_collaborative_round_partner_result:513 - Epoch 01/09 > Minibatch 01/02 > Partner id #2 (2/2) > val_acc: 0.88\n",
      "2020-08-19 12:13:33.486 | DEBUG    | subtest.multi_partner_learning:compute_collaborative_round_fedavg:303 - End of fedavg collaborative round.\n",
      "2020-08-19 12:13:33.486 | DEBUG    | subtest.multi_partner_learning:compute_collaborative_round_fedavg:259 - Start new fedavg collaborative round ...\n",
      "2020-08-19 12:13:33.486 | DEBUG    | subtest.multi_partner_learning:compute_collaborative_round_fedavg:271 - (fedavg) Minibatch n°2 of epoch n°1, init aggregated model for each partner with models from previous round\n",
      "2020-08-19 12:13:34.681 | DEBUG    | subtest.multi_partner_learning:log_collaborative_round_partner_result:513 - Epoch 01/09 > Minibatch 02/02 > Partner id #0 (0/2) > val_acc: 0.85\n"
     ]
    },
    {
     "name": "stderr",
     "output_type": "stream",
     "text": [
      "2020-08-19 12:13:35.413 | DEBUG    | subtest.multi_partner_learning:log_collaborative_round_partner_result:513 - Epoch 01/09 > Minibatch 02/02 > Partner id #1 (1/2) > val_acc: 0.85\n",
      "2020-08-19 12:13:36.122 | DEBUG    | subtest.multi_partner_learning:log_collaborative_round_partner_result:513 - Epoch 01/09 > Minibatch 02/02 > Partner id #2 (2/2) > val_acc: 0.85\n",
      "2020-08-19 12:13:36.125 | DEBUG    | subtest.multi_partner_learning:compute_collaborative_round_fedavg:303 - End of fedavg collaborative round.\n",
      "2020-08-19 12:13:36.420 | INFO     | subtest.multi_partner_learning:compute_test_score:184 -    Model evaluation at the end of the epoch: ['0.472', '0.858']\n",
      "2020-08-19 12:13:36.421 | DEBUG    | subtest.multi_partner_learning:compute_test_score:187 -       Checking if early stopping criteria are met:\n",
      "2020-08-19 12:13:36.422 | DEBUG    | subtest.multi_partner_learning:compute_test_score:197 -          -> Early stopping criteria are not met, continuing with training.\n",
      "2020-08-19 12:13:36.477 | DEBUG    | subtest.multi_partner_learning:compute_collaborative_round_fedavg:259 - Start new fedavg collaborative round ...\n",
      "2020-08-19 12:13:36.478 | DEBUG    | subtest.multi_partner_learning:compute_collaborative_round_fedavg:271 - (fedavg) Minibatch n°0 of epoch n°2, init aggregated model for each partner with models from previous round\n",
      "2020-08-19 12:13:37.503 | DEBUG    | subtest.multi_partner_learning:log_collaborative_round_partner_result:513 - Epoch 02/09 > Minibatch 00/02 > Partner id #0 (0/2) > val_acc: 0.89\n",
      "2020-08-19 12:13:38.224 | DEBUG    | subtest.multi_partner_learning:log_collaborative_round_partner_result:513 - Epoch 02/09 > Minibatch 00/02 > Partner id #1 (1/2) > val_acc: 0.9\n",
      "2020-08-19 12:13:38.930 | DEBUG    | subtest.multi_partner_learning:log_collaborative_round_partner_result:513 - Epoch 02/09 > Minibatch 00/02 > Partner id #2 (2/2) > val_acc: 0.88\n",
      "2020-08-19 12:13:38.932 | DEBUG    | subtest.multi_partner_learning:compute_collaborative_round_fedavg:303 - End of fedavg collaborative round.\n",
      "2020-08-19 12:13:38.933 | DEBUG    | subtest.multi_partner_learning:compute_collaborative_round_fedavg:259 - Start new fedavg collaborative round ...\n",
      "2020-08-19 12:13:38.933 | DEBUG    | subtest.multi_partner_learning:compute_collaborative_round_fedavg:271 - (fedavg) Minibatch n°1 of epoch n°2, init aggregated model for each partner with models from previous round\n",
      "2020-08-19 12:13:39.949 | DEBUG    | subtest.multi_partner_learning:log_collaborative_round_partner_result:513 - Epoch 02/09 > Minibatch 01/02 > Partner id #0 (0/2) > val_acc: 0.88\n",
      "2020-08-19 12:13:40.962 | DEBUG    | subtest.multi_partner_learning:log_collaborative_round_partner_result:513 - Epoch 02/09 > Minibatch 01/02 > Partner id #1 (1/2) > val_acc: 0.92\n",
      "2020-08-19 12:13:41.702 | DEBUG    | subtest.multi_partner_learning:log_collaborative_round_partner_result:513 - Epoch 02/09 > Minibatch 01/02 > Partner id #2 (2/2) > val_acc: 0.9\n",
      "2020-08-19 12:13:41.706 | DEBUG    | subtest.multi_partner_learning:compute_collaborative_round_fedavg:303 - End of fedavg collaborative round.\n",
      "2020-08-19 12:13:41.706 | DEBUG    | subtest.multi_partner_learning:compute_collaborative_round_fedavg:259 - Start new fedavg collaborative round ...\n",
      "2020-08-19 12:13:41.706 | DEBUG    | subtest.multi_partner_learning:compute_collaborative_round_fedavg:271 - (fedavg) Minibatch n°2 of epoch n°2, init aggregated model for each partner with models from previous round\n",
      "2020-08-19 12:13:42.758 | DEBUG    | subtest.multi_partner_learning:log_collaborative_round_partner_result:513 - Epoch 02/09 > Minibatch 02/02 > Partner id #0 (0/2) > val_acc: 0.91\n",
      "2020-08-19 12:13:43.517 | DEBUG    | subtest.multi_partner_learning:log_collaborative_round_partner_result:513 - Epoch 02/09 > Minibatch 02/02 > Partner id #1 (1/2) > val_acc: 0.91\n",
      "2020-08-19 12:13:44.224 | DEBUG    | subtest.multi_partner_learning:log_collaborative_round_partner_result:513 - Epoch 02/09 > Minibatch 02/02 > Partner id #2 (2/2) > val_acc: 0.92\n",
      "2020-08-19 12:13:44.227 | DEBUG    | subtest.multi_partner_learning:compute_collaborative_round_fedavg:303 - End of fedavg collaborative round.\n",
      "2020-08-19 12:13:44.509 | INFO     | subtest.multi_partner_learning:compute_test_score:184 -    Model evaluation at the end of the epoch: ['0.278', '0.918']\n",
      "2020-08-19 12:13:44.510 | DEBUG    | subtest.multi_partner_learning:compute_test_score:187 -       Checking if early stopping criteria are met:\n",
      "2020-08-19 12:13:44.510 | DEBUG    | subtest.multi_partner_learning:compute_test_score:197 -          -> Early stopping criteria are not met, continuing with training.\n",
      "2020-08-19 12:13:44.563 | DEBUG    | subtest.multi_partner_learning:compute_collaborative_round_fedavg:259 - Start new fedavg collaborative round ...\n",
      "2020-08-19 12:13:44.563 | DEBUG    | subtest.multi_partner_learning:compute_collaborative_round_fedavg:271 - (fedavg) Minibatch n°0 of epoch n°3, init aggregated model for each partner with models from previous round\n",
      "2020-08-19 12:13:45.604 | DEBUG    | subtest.multi_partner_learning:log_collaborative_round_partner_result:513 - Epoch 03/09 > Minibatch 00/02 > Partner id #0 (0/2) > val_acc: 0.92\n",
      "2020-08-19 12:13:46.345 | DEBUG    | subtest.multi_partner_learning:log_collaborative_round_partner_result:513 - Epoch 03/09 > Minibatch 00/02 > Partner id #1 (1/2) > val_acc: 0.93\n",
      "2020-08-19 12:13:47.252 | DEBUG    | subtest.multi_partner_learning:log_collaborative_round_partner_result:513 - Epoch 03/09 > Minibatch 00/02 > Partner id #2 (2/2) > val_acc: 0.92\n",
      "2020-08-19 12:13:47.255 | DEBUG    | subtest.multi_partner_learning:compute_collaborative_round_fedavg:303 - End of fedavg collaborative round.\n",
      "2020-08-19 12:13:47.256 | DEBUG    | subtest.multi_partner_learning:compute_collaborative_round_fedavg:259 - Start new fedavg collaborative round ...\n",
      "2020-08-19 12:13:47.256 | DEBUG    | subtest.multi_partner_learning:compute_collaborative_round_fedavg:271 - (fedavg) Minibatch n°1 of epoch n°3, init aggregated model for each partner with models from previous round\n",
      "2020-08-19 12:13:48.370 | DEBUG    | subtest.multi_partner_learning:log_collaborative_round_partner_result:513 - Epoch 03/09 > Minibatch 01/02 > Partner id #0 (0/2) > val_acc: 0.94\n",
      "2020-08-19 12:13:49.140 | DEBUG    | subtest.multi_partner_learning:log_collaborative_round_partner_result:513 - Epoch 03/09 > Minibatch 01/02 > Partner id #1 (1/2) > val_acc: 0.95\n",
      "2020-08-19 12:13:49.858 | DEBUG    | subtest.multi_partner_learning:log_collaborative_round_partner_result:513 - Epoch 03/09 > Minibatch 01/02 > Partner id #2 (2/2) > val_acc: 0.94\n",
      "2020-08-19 12:13:49.861 | DEBUG    | subtest.multi_partner_learning:compute_collaborative_round_fedavg:303 - End of fedavg collaborative round.\n",
      "2020-08-19 12:13:49.861 | DEBUG    | subtest.multi_partner_learning:compute_collaborative_round_fedavg:259 - Start new fedavg collaborative round ...\n",
      "2020-08-19 12:13:49.862 | DEBUG    | subtest.multi_partner_learning:compute_collaborative_round_fedavg:271 - (fedavg) Minibatch n°2 of epoch n°3, init aggregated model for each partner with models from previous round\n",
      "2020-08-19 12:13:50.855 | DEBUG    | subtest.multi_partner_learning:log_collaborative_round_partner_result:513 - Epoch 03/09 > Minibatch 02/02 > Partner id #0 (0/2) > val_acc: 0.93\n",
      "2020-08-19 12:13:51.613 | DEBUG    | subtest.multi_partner_learning:log_collaborative_round_partner_result:513 - Epoch 03/09 > Minibatch 02/02 > Partner id #1 (1/2) > val_acc: 0.95\n",
      "2020-08-19 12:13:52.336 | DEBUG    | subtest.multi_partner_learning:log_collaborative_round_partner_result:513 - Epoch 03/09 > Minibatch 02/02 > Partner id #2 (2/2) > val_acc: 0.95\n",
      "2020-08-19 12:13:52.339 | DEBUG    | subtest.multi_partner_learning:compute_collaborative_round_fedavg:303 - End of fedavg collaborative round.\n",
      "2020-08-19 12:13:52.614 | INFO     | subtest.multi_partner_learning:compute_test_score:184 -    Model evaluation at the end of the epoch: ['0.185', '0.946']\n",
      "2020-08-19 12:13:52.614 | DEBUG    | subtest.multi_partner_learning:compute_test_score:187 -       Checking if early stopping criteria are met:\n",
      "2020-08-19 12:13:52.615 | DEBUG    | subtest.multi_partner_learning:compute_test_score:197 -          -> Early stopping criteria are not met, continuing with training.\n"
     ]
    },
    {
     "name": "stderr",
     "output_type": "stream",
     "text": [
      "2020-08-19 12:13:52.670 | DEBUG    | subtest.multi_partner_learning:compute_collaborative_round_fedavg:259 - Start new fedavg collaborative round ...\n",
      "2020-08-19 12:13:52.670 | DEBUG    | subtest.multi_partner_learning:compute_collaborative_round_fedavg:271 - (fedavg) Minibatch n°0 of epoch n°4, init aggregated model for each partner with models from previous round\n",
      "2020-08-19 12:13:53.846 | DEBUG    | subtest.multi_partner_learning:log_collaborative_round_partner_result:513 - Epoch 04/09 > Minibatch 00/02 > Partner id #0 (0/2) > val_acc: 0.96\n",
      "2020-08-19 12:13:54.601 | DEBUG    | subtest.multi_partner_learning:log_collaborative_round_partner_result:513 - Epoch 04/09 > Minibatch 00/02 > Partner id #1 (1/2) > val_acc: 0.95\n",
      "2020-08-19 12:13:55.299 | DEBUG    | subtest.multi_partner_learning:log_collaborative_round_partner_result:513 - Epoch 04/09 > Minibatch 00/02 > Partner id #2 (2/2) > val_acc: 0.95\n",
      "2020-08-19 12:13:55.302 | DEBUG    | subtest.multi_partner_learning:compute_collaborative_round_fedavg:303 - End of fedavg collaborative round.\n",
      "2020-08-19 12:13:55.302 | DEBUG    | subtest.multi_partner_learning:compute_collaborative_round_fedavg:259 - Start new fedavg collaborative round ...\n",
      "2020-08-19 12:13:55.303 | DEBUG    | subtest.multi_partner_learning:compute_collaborative_round_fedavg:271 - (fedavg) Minibatch n°1 of epoch n°4, init aggregated model for each partner with models from previous round\n",
      "2020-08-19 12:13:56.312 | DEBUG    | subtest.multi_partner_learning:log_collaborative_round_partner_result:513 - Epoch 04/09 > Minibatch 01/02 > Partner id #0 (0/2) > val_acc: 0.95\n",
      "2020-08-19 12:13:57.041 | DEBUG    | subtest.multi_partner_learning:log_collaborative_round_partner_result:513 - Epoch 04/09 > Minibatch 01/02 > Partner id #1 (1/2) > val_acc: 0.96\n",
      "2020-08-19 12:13:57.730 | DEBUG    | subtest.multi_partner_learning:log_collaborative_round_partner_result:513 - Epoch 04/09 > Minibatch 01/02 > Partner id #2 (2/2) > val_acc: 0.95\n",
      "2020-08-19 12:13:57.732 | DEBUG    | subtest.multi_partner_learning:compute_collaborative_round_fedavg:303 - End of fedavg collaborative round.\n",
      "2020-08-19 12:13:57.733 | DEBUG    | subtest.multi_partner_learning:compute_collaborative_round_fedavg:259 - Start new fedavg collaborative round ...\n",
      "2020-08-19 12:13:57.734 | DEBUG    | subtest.multi_partner_learning:compute_collaborative_round_fedavg:271 - (fedavg) Minibatch n°2 of epoch n°4, init aggregated model for each partner with models from previous round\n",
      "2020-08-19 12:13:58.856 | DEBUG    | subtest.multi_partner_learning:log_collaborative_round_partner_result:513 - Epoch 04/09 > Minibatch 02/02 > Partner id #0 (0/2) > val_acc: 0.95\n",
      "2020-08-19 12:13:59.586 | DEBUG    | subtest.multi_partner_learning:log_collaborative_round_partner_result:513 - Epoch 04/09 > Minibatch 02/02 > Partner id #1 (1/2) > val_acc: 0.96\n",
      "2020-08-19 12:14:00.321 | DEBUG    | subtest.multi_partner_learning:log_collaborative_round_partner_result:513 - Epoch 04/09 > Minibatch 02/02 > Partner id #2 (2/2) > val_acc: 0.96\n",
      "2020-08-19 12:14:00.324 | DEBUG    | subtest.multi_partner_learning:compute_collaborative_round_fedavg:303 - End of fedavg collaborative round.\n",
      "2020-08-19 12:14:00.603 | INFO     | subtest.multi_partner_learning:compute_test_score:184 -    Model evaluation at the end of the epoch: ['0.134', '0.959']\n",
      "2020-08-19 12:14:00.604 | DEBUG    | subtest.multi_partner_learning:compute_test_score:187 -       Checking if early stopping criteria are met:\n",
      "2020-08-19 12:14:00.604 | DEBUG    | subtest.multi_partner_learning:compute_test_score:197 -          -> Early stopping criteria are not met, continuing with training.\n",
      "2020-08-19 12:14:00.656 | DEBUG    | subtest.multi_partner_learning:compute_collaborative_round_fedavg:259 - Start new fedavg collaborative round ...\n",
      "2020-08-19 12:14:00.657 | DEBUG    | subtest.multi_partner_learning:compute_collaborative_round_fedavg:271 - (fedavg) Minibatch n°0 of epoch n°5, init aggregated model for each partner with models from previous round\n",
      "2020-08-19 12:14:01.645 | DEBUG    | subtest.multi_partner_learning:log_collaborative_round_partner_result:513 - Epoch 05/09 > Minibatch 00/02 > Partner id #0 (0/2) > val_acc: 0.96\n",
      "2020-08-19 12:14:02.406 | DEBUG    | subtest.multi_partner_learning:log_collaborative_round_partner_result:513 - Epoch 05/09 > Minibatch 00/02 > Partner id #1 (1/2) > val_acc: 0.96\n",
      "2020-08-19 12:14:03.094 | DEBUG    | subtest.multi_partner_learning:log_collaborative_round_partner_result:513 - Epoch 05/09 > Minibatch 00/02 > Partner id #2 (2/2) > val_acc: 0.96\n",
      "2020-08-19 12:14:03.097 | DEBUG    | subtest.multi_partner_learning:compute_collaborative_round_fedavg:303 - End of fedavg collaborative round.\n",
      "2020-08-19 12:14:03.097 | DEBUG    | subtest.multi_partner_learning:compute_collaborative_round_fedavg:259 - Start new fedavg collaborative round ...\n",
      "2020-08-19 12:14:03.098 | DEBUG    | subtest.multi_partner_learning:compute_collaborative_round_fedavg:271 - (fedavg) Minibatch n°1 of epoch n°5, init aggregated model for each partner with models from previous round\n",
      "2020-08-19 12:14:04.089 | DEBUG    | subtest.multi_partner_learning:log_collaborative_round_partner_result:513 - Epoch 05/09 > Minibatch 01/02 > Partner id #0 (0/2) > val_acc: 0.96\n",
      "2020-08-19 12:14:04.990 | DEBUG    | subtest.multi_partner_learning:log_collaborative_round_partner_result:513 - Epoch 05/09 > Minibatch 01/02 > Partner id #1 (1/2) > val_acc: 0.96\n",
      "2020-08-19 12:14:05.681 | DEBUG    | subtest.multi_partner_learning:log_collaborative_round_partner_result:513 - Epoch 05/09 > Minibatch 01/02 > Partner id #2 (2/2) > val_acc: 0.96\n",
      "2020-08-19 12:14:05.684 | DEBUG    | subtest.multi_partner_learning:compute_collaborative_round_fedavg:303 - End of fedavg collaborative round.\n",
      "2020-08-19 12:14:05.685 | DEBUG    | subtest.multi_partner_learning:compute_collaborative_round_fedavg:259 - Start new fedavg collaborative round ...\n",
      "2020-08-19 12:14:05.685 | DEBUG    | subtest.multi_partner_learning:compute_collaborative_round_fedavg:271 - (fedavg) Minibatch n°2 of epoch n°5, init aggregated model for each partner with models from previous round\n",
      "2020-08-19 12:14:06.685 | DEBUG    | subtest.multi_partner_learning:log_collaborative_round_partner_result:513 - Epoch 05/09 > Minibatch 02/02 > Partner id #0 (0/2) > val_acc: 0.97\n",
      "2020-08-19 12:14:07.435 | DEBUG    | subtest.multi_partner_learning:log_collaborative_round_partner_result:513 - Epoch 05/09 > Minibatch 02/02 > Partner id #1 (1/2) > val_acc: 0.96\n",
      "2020-08-19 12:14:08.123 | DEBUG    | subtest.multi_partner_learning:log_collaborative_round_partner_result:513 - Epoch 05/09 > Minibatch 02/02 > Partner id #2 (2/2) > val_acc: 0.95\n",
      "2020-08-19 12:14:08.126 | DEBUG    | subtest.multi_partner_learning:compute_collaborative_round_fedavg:303 - End of fedavg collaborative round.\n",
      "2020-08-19 12:14:08.404 | INFO     | subtest.multi_partner_learning:compute_test_score:184 -    Model evaluation at the end of the epoch: ['0.101', '0.970']\n",
      "2020-08-19 12:14:08.405 | DEBUG    | subtest.multi_partner_learning:compute_test_score:187 -       Checking if early stopping criteria are met:\n",
      "2020-08-19 12:14:08.405 | DEBUG    | subtest.multi_partner_learning:compute_test_score:197 -          -> Early stopping criteria are not met, continuing with training.\n",
      "2020-08-19 12:14:08.456 | DEBUG    | subtest.multi_partner_learning:compute_collaborative_round_fedavg:259 - Start new fedavg collaborative round ...\n",
      "2020-08-19 12:14:08.456 | DEBUG    | subtest.multi_partner_learning:compute_collaborative_round_fedavg:271 - (fedavg) Minibatch n°0 of epoch n°6, init aggregated model for each partner with models from previous round\n",
      "2020-08-19 12:14:09.455 | DEBUG    | subtest.multi_partner_learning:log_collaborative_round_partner_result:513 - Epoch 06/09 > Minibatch 00/02 > Partner id #0 (0/2) > val_acc: 0.97\n",
      "2020-08-19 12:14:10.198 | DEBUG    | subtest.multi_partner_learning:log_collaborative_round_partner_result:513 - Epoch 06/09 > Minibatch 00/02 > Partner id #1 (1/2) > val_acc: 0.96\n",
      "2020-08-19 12:14:10.887 | DEBUG    | subtest.multi_partner_learning:log_collaborative_round_partner_result:513 - Epoch 06/09 > Minibatch 00/02 > Partner id #2 (2/2) > val_acc: 0.97\n",
      "2020-08-19 12:14:10.890 | DEBUG    | subtest.multi_partner_learning:compute_collaborative_round_fedavg:303 - End of fedavg collaborative round.\n"
     ]
    },
    {
     "name": "stderr",
     "output_type": "stream",
     "text": [
      "2020-08-19 12:14:10.890 | DEBUG    | subtest.multi_partner_learning:compute_collaborative_round_fedavg:259 - Start new fedavg collaborative round ...\n",
      "2020-08-19 12:14:10.891 | DEBUG    | subtest.multi_partner_learning:compute_collaborative_round_fedavg:271 - (fedavg) Minibatch n°1 of epoch n°6, init aggregated model for each partner with models from previous round\n",
      "2020-08-19 12:14:12.050 | DEBUG    | subtest.multi_partner_learning:log_collaborative_round_partner_result:513 - Epoch 06/09 > Minibatch 01/02 > Partner id #0 (0/2) > val_acc: 0.97\n",
      "2020-08-19 12:14:12.772 | DEBUG    | subtest.multi_partner_learning:log_collaborative_round_partner_result:513 - Epoch 06/09 > Minibatch 01/02 > Partner id #1 (1/2) > val_acc: 0.97\n",
      "2020-08-19 12:14:13.463 | DEBUG    | subtest.multi_partner_learning:log_collaborative_round_partner_result:513 - Epoch 06/09 > Minibatch 01/02 > Partner id #2 (2/2) > val_acc: 0.97\n",
      "2020-08-19 12:14:13.466 | DEBUG    | subtest.multi_partner_learning:compute_collaborative_round_fedavg:303 - End of fedavg collaborative round.\n",
      "2020-08-19 12:14:13.467 | DEBUG    | subtest.multi_partner_learning:compute_collaborative_round_fedavg:259 - Start new fedavg collaborative round ...\n",
      "2020-08-19 12:14:13.467 | DEBUG    | subtest.multi_partner_learning:compute_collaborative_round_fedavg:271 - (fedavg) Minibatch n°2 of epoch n°6, init aggregated model for each partner with models from previous round\n",
      "2020-08-19 12:14:14.458 | DEBUG    | subtest.multi_partner_learning:log_collaborative_round_partner_result:513 - Epoch 06/09 > Minibatch 02/02 > Partner id #0 (0/2) > val_acc: 0.97\n",
      "2020-08-19 12:14:15.177 | DEBUG    | subtest.multi_partner_learning:log_collaborative_round_partner_result:513 - Epoch 06/09 > Minibatch 02/02 > Partner id #1 (1/2) > val_acc: 0.96\n",
      "2020-08-19 12:14:15.871 | DEBUG    | subtest.multi_partner_learning:log_collaborative_round_partner_result:513 - Epoch 06/09 > Minibatch 02/02 > Partner id #2 (2/2) > val_acc: 0.97\n",
      "2020-08-19 12:14:15.874 | DEBUG    | subtest.multi_partner_learning:compute_collaborative_round_fedavg:303 - End of fedavg collaborative round.\n",
      "2020-08-19 12:14:16.149 | INFO     | subtest.multi_partner_learning:compute_test_score:184 -    Model evaluation at the end of the epoch: ['0.096', '0.973']\n",
      "2020-08-19 12:14:16.150 | DEBUG    | subtest.multi_partner_learning:compute_test_score:187 -       Checking if early stopping criteria are met:\n",
      "2020-08-19 12:14:16.150 | DEBUG    | subtest.multi_partner_learning:compute_test_score:197 -          -> Early stopping criteria are not met, continuing with training.\n",
      "2020-08-19 12:14:16.202 | DEBUG    | subtest.multi_partner_learning:compute_collaborative_round_fedavg:259 - Start new fedavg collaborative round ...\n",
      "2020-08-19 12:14:16.203 | DEBUG    | subtest.multi_partner_learning:compute_collaborative_round_fedavg:271 - (fedavg) Minibatch n°0 of epoch n°7, init aggregated model for each partner with models from previous round\n",
      "2020-08-19 12:14:17.390 | DEBUG    | subtest.multi_partner_learning:log_collaborative_round_partner_result:513 - Epoch 07/09 > Minibatch 00/02 > Partner id #0 (0/2) > val_acc: 0.96\n",
      "2020-08-19 12:14:18.114 | DEBUG    | subtest.multi_partner_learning:log_collaborative_round_partner_result:513 - Epoch 07/09 > Minibatch 00/02 > Partner id #1 (1/2) > val_acc: 0.96\n",
      "2020-08-19 12:14:18.806 | DEBUG    | subtest.multi_partner_learning:log_collaborative_round_partner_result:513 - Epoch 07/09 > Minibatch 00/02 > Partner id #2 (2/2) > val_acc: 0.97\n",
      "2020-08-19 12:14:18.810 | DEBUG    | subtest.multi_partner_learning:compute_collaborative_round_fedavg:303 - End of fedavg collaborative round.\n",
      "2020-08-19 12:14:18.810 | DEBUG    | subtest.multi_partner_learning:compute_collaborative_round_fedavg:259 - Start new fedavg collaborative round ...\n",
      "2020-08-19 12:14:18.810 | DEBUG    | subtest.multi_partner_learning:compute_collaborative_round_fedavg:271 - (fedavg) Minibatch n°1 of epoch n°7, init aggregated model for each partner with models from previous round\n",
      "2020-08-19 12:14:19.805 | DEBUG    | subtest.multi_partner_learning:log_collaborative_round_partner_result:513 - Epoch 07/09 > Minibatch 01/02 > Partner id #0 (0/2) > val_acc: 0.97\n",
      "2020-08-19 12:14:20.524 | DEBUG    | subtest.multi_partner_learning:log_collaborative_round_partner_result:513 - Epoch 07/09 > Minibatch 01/02 > Partner id #1 (1/2) > val_acc: 0.97\n",
      "2020-08-19 12:14:21.214 | DEBUG    | subtest.multi_partner_learning:log_collaborative_round_partner_result:513 - Epoch 07/09 > Minibatch 01/02 > Partner id #2 (2/2) > val_acc: 0.98\n",
      "2020-08-19 12:14:21.217 | DEBUG    | subtest.multi_partner_learning:compute_collaborative_round_fedavg:303 - End of fedavg collaborative round.\n",
      "2020-08-19 12:14:21.218 | DEBUG    | subtest.multi_partner_learning:compute_collaborative_round_fedavg:259 - Start new fedavg collaborative round ...\n",
      "2020-08-19 12:14:21.218 | DEBUG    | subtest.multi_partner_learning:compute_collaborative_round_fedavg:271 - (fedavg) Minibatch n°2 of epoch n°7, init aggregated model for each partner with models from previous round\n",
      "2020-08-19 12:14:22.223 | DEBUG    | subtest.multi_partner_learning:log_collaborative_round_partner_result:513 - Epoch 07/09 > Minibatch 02/02 > Partner id #0 (0/2) > val_acc: 0.97\n",
      "2020-08-19 12:14:23.073 | DEBUG    | subtest.multi_partner_learning:log_collaborative_round_partner_result:513 - Epoch 07/09 > Minibatch 02/02 > Partner id #1 (1/2) > val_acc: 0.98\n",
      "2020-08-19 12:14:23.768 | DEBUG    | subtest.multi_partner_learning:log_collaborative_round_partner_result:513 - Epoch 07/09 > Minibatch 02/02 > Partner id #2 (2/2) > val_acc: 0.97\n",
      "2020-08-19 12:14:23.771 | DEBUG    | subtest.multi_partner_learning:compute_collaborative_round_fedavg:303 - End of fedavg collaborative round.\n",
      "2020-08-19 12:14:24.046 | INFO     | subtest.multi_partner_learning:compute_test_score:184 -    Model evaluation at the end of the epoch: ['0.079', '0.979']\n",
      "2020-08-19 12:14:24.047 | DEBUG    | subtest.multi_partner_learning:compute_test_score:187 -       Checking if early stopping criteria are met:\n",
      "2020-08-19 12:14:24.047 | DEBUG    | subtest.multi_partner_learning:compute_test_score:197 -          -> Early stopping criteria are not met, continuing with training.\n",
      "2020-08-19 12:14:24.100 | DEBUG    | subtest.multi_partner_learning:compute_collaborative_round_fedavg:259 - Start new fedavg collaborative round ...\n",
      "2020-08-19 12:14:24.100 | DEBUG    | subtest.multi_partner_learning:compute_collaborative_round_fedavg:271 - (fedavg) Minibatch n°0 of epoch n°8, init aggregated model for each partner with models from previous round\n",
      "2020-08-19 12:14:25.102 | DEBUG    | subtest.multi_partner_learning:log_collaborative_round_partner_result:513 - Epoch 08/09 > Minibatch 00/02 > Partner id #0 (0/2) > val_acc: 0.97\n",
      "2020-08-19 12:14:25.846 | DEBUG    | subtest.multi_partner_learning:log_collaborative_round_partner_result:513 - Epoch 08/09 > Minibatch 00/02 > Partner id #1 (1/2) > val_acc: 0.98\n",
      "2020-08-19 12:14:26.541 | DEBUG    | subtest.multi_partner_learning:log_collaborative_round_partner_result:513 - Epoch 08/09 > Minibatch 00/02 > Partner id #2 (2/2) > val_acc: 0.98\n",
      "2020-08-19 12:14:26.544 | DEBUG    | subtest.multi_partner_learning:compute_collaborative_round_fedavg:303 - End of fedavg collaborative round.\n",
      "2020-08-19 12:14:26.545 | DEBUG    | subtest.multi_partner_learning:compute_collaborative_round_fedavg:259 - Start new fedavg collaborative round ...\n",
      "2020-08-19 12:14:26.545 | DEBUG    | subtest.multi_partner_learning:compute_collaborative_round_fedavg:271 - (fedavg) Minibatch n°1 of epoch n°8, init aggregated model for each partner with models from previous round\n",
      "2020-08-19 12:14:27.535 | DEBUG    | subtest.multi_partner_learning:log_collaborative_round_partner_result:513 - Epoch 08/09 > Minibatch 01/02 > Partner id #0 (0/2) > val_acc: 0.98\n",
      "2020-08-19 12:14:28.287 | DEBUG    | subtest.multi_partner_learning:log_collaborative_round_partner_result:513 - Epoch 08/09 > Minibatch 01/02 > Partner id #1 (1/2) > val_acc: 0.98\n",
      "2020-08-19 12:14:28.983 | DEBUG    | subtest.multi_partner_learning:log_collaborative_round_partner_result:513 - Epoch 08/09 > Minibatch 01/02 > Partner id #2 (2/2) > val_acc: 0.98\n",
      "2020-08-19 12:14:28.985 | DEBUG    | subtest.multi_partner_learning:compute_collaborative_round_fedavg:303 - End of fedavg collaborative round.\n"
     ]
    },
    {
     "name": "stderr",
     "output_type": "stream",
     "text": [
      "2020-08-19 12:14:28.986 | DEBUG    | subtest.multi_partner_learning:compute_collaborative_round_fedavg:259 - Start new fedavg collaborative round ...\n",
      "2020-08-19 12:14:28.986 | DEBUG    | subtest.multi_partner_learning:compute_collaborative_round_fedavg:271 - (fedavg) Minibatch n°2 of epoch n°8, init aggregated model for each partner with models from previous round\n",
      "2020-08-19 12:14:30.169 | DEBUG    | subtest.multi_partner_learning:log_collaborative_round_partner_result:513 - Epoch 08/09 > Minibatch 02/02 > Partner id #0 (0/2) > val_acc: 0.97\n",
      "2020-08-19 12:14:30.919 | DEBUG    | subtest.multi_partner_learning:log_collaborative_round_partner_result:513 - Epoch 08/09 > Minibatch 02/02 > Partner id #1 (1/2) > val_acc: 0.98\n",
      "2020-08-19 12:14:31.617 | DEBUG    | subtest.multi_partner_learning:log_collaborative_round_partner_result:513 - Epoch 08/09 > Minibatch 02/02 > Partner id #2 (2/2) > val_acc: 0.98\n",
      "2020-08-19 12:14:31.620 | DEBUG    | subtest.multi_partner_learning:compute_collaborative_round_fedavg:303 - End of fedavg collaborative round.\n",
      "2020-08-19 12:14:31.897 | INFO     | subtest.multi_partner_learning:compute_test_score:184 -    Model evaluation at the end of the epoch: ['0.069', '0.979']\n",
      "2020-08-19 12:14:31.897 | DEBUG    | subtest.multi_partner_learning:compute_test_score:187 -       Checking if early stopping criteria are met:\n",
      "2020-08-19 12:14:31.898 | DEBUG    | subtest.multi_partner_learning:compute_test_score:197 -          -> Early stopping criteria are not met, continuing with training.\n",
      "2020-08-19 12:14:31.950 | DEBUG    | subtest.multi_partner_learning:compute_collaborative_round_fedavg:259 - Start new fedavg collaborative round ...\n",
      "2020-08-19 12:14:31.951 | DEBUG    | subtest.multi_partner_learning:compute_collaborative_round_fedavg:271 - (fedavg) Minibatch n°0 of epoch n°9, init aggregated model for each partner with models from previous round\n",
      "2020-08-19 12:14:32.948 | DEBUG    | subtest.multi_partner_learning:log_collaborative_round_partner_result:513 - Epoch 09/09 > Minibatch 00/02 > Partner id #0 (0/2) > val_acc: 0.98\n",
      "2020-08-19 12:14:33.686 | DEBUG    | subtest.multi_partner_learning:log_collaborative_round_partner_result:513 - Epoch 09/09 > Minibatch 00/02 > Partner id #1 (1/2) > val_acc: 0.97\n",
      "2020-08-19 12:14:34.377 | DEBUG    | subtest.multi_partner_learning:log_collaborative_round_partner_result:513 - Epoch 09/09 > Minibatch 00/02 > Partner id #2 (2/2) > val_acc: 0.98\n",
      "2020-08-19 12:14:34.380 | DEBUG    | subtest.multi_partner_learning:compute_collaborative_round_fedavg:303 - End of fedavg collaborative round.\n",
      "2020-08-19 12:14:34.380 | DEBUG    | subtest.multi_partner_learning:compute_collaborative_round_fedavg:259 - Start new fedavg collaborative round ...\n",
      "2020-08-19 12:14:34.381 | DEBUG    | subtest.multi_partner_learning:compute_collaborative_round_fedavg:271 - (fedavg) Minibatch n°1 of epoch n°9, init aggregated model for each partner with models from previous round\n",
      "2020-08-19 12:14:35.378 | DEBUG    | subtest.multi_partner_learning:log_collaborative_round_partner_result:513 - Epoch 09/09 > Minibatch 01/02 > Partner id #0 (0/2) > val_acc: 0.98\n",
      "2020-08-19 12:14:36.285 | DEBUG    | subtest.multi_partner_learning:log_collaborative_round_partner_result:513 - Epoch 09/09 > Minibatch 01/02 > Partner id #1 (1/2) > val_acc: 0.98\n",
      "2020-08-19 12:14:36.977 | DEBUG    | subtest.multi_partner_learning:log_collaborative_round_partner_result:513 - Epoch 09/09 > Minibatch 01/02 > Partner id #2 (2/2) > val_acc: 0.98\n",
      "2020-08-19 12:14:36.980 | DEBUG    | subtest.multi_partner_learning:compute_collaborative_round_fedavg:303 - End of fedavg collaborative round.\n",
      "2020-08-19 12:14:36.980 | DEBUG    | subtest.multi_partner_learning:compute_collaborative_round_fedavg:259 - Start new fedavg collaborative round ...\n",
      "2020-08-19 12:14:36.981 | DEBUG    | subtest.multi_partner_learning:compute_collaborative_round_fedavg:271 - (fedavg) Minibatch n°2 of epoch n°9, init aggregated model for each partner with models from previous round\n",
      "2020-08-19 12:14:37.973 | DEBUG    | subtest.multi_partner_learning:log_collaborative_round_partner_result:513 - Epoch 09/09 > Minibatch 02/02 > Partner id #0 (0/2) > val_acc: 0.98\n",
      "2020-08-19 12:14:38.730 | DEBUG    | subtest.multi_partner_learning:log_collaborative_round_partner_result:513 - Epoch 09/09 > Minibatch 02/02 > Partner id #1 (1/2) > val_acc: 0.98\n",
      "2020-08-19 12:14:39.430 | DEBUG    | subtest.multi_partner_learning:log_collaborative_round_partner_result:513 - Epoch 09/09 > Minibatch 02/02 > Partner id #2 (2/2) > val_acc: 0.98\n",
      "2020-08-19 12:14:39.433 | DEBUG    | subtest.multi_partner_learning:compute_collaborative_round_fedavg:303 - End of fedavg collaborative round.\n",
      "2020-08-19 12:14:39.706 | INFO     | subtest.multi_partner_learning:compute_test_score:184 -    Model evaluation at the end of the epoch: ['0.064', '0.981']\n",
      "2020-08-19 12:14:39.707 | DEBUG    | subtest.multi_partner_learning:compute_test_score:187 -       Checking if early stopping criteria are met:\n",
      "2020-08-19 12:14:39.707 | DEBUG    | subtest.multi_partner_learning:compute_test_score:197 -          -> Early stopping criteria are not met, continuing with training.\n",
      "2020-08-19 12:14:39.708 | INFO     | subtest.multi_partner_learning:compute_test_score:200 - ### Evaluating model on test data:\n",
      "2020-08-19 12:14:39.905 | INFO     | subtest.multi_partner_learning:compute_test_score:203 -    Model metrics names: ['loss', 'accuracy']\n",
      "2020-08-19 12:14:39.905 | INFO     | subtest.multi_partner_learning:compute_test_score:204 -    Model metrics values: ['0.054', '0.981']\n",
      "2020-08-19 12:14:40.106 | INFO     | subtest.multi_partner_learning:compute_test_score:212 - Training and evaluation on multiple partners: done.\n"
     ]
    },
    {
     "data": {
      "text/plain": [
       "0"
      ]
     },
     "execution_count": 45,
     "metadata": {},
     "output_type": "execute_result"
    }
   ],
   "source": [
    "run_scenario(current_scenario)"
   ]
  },
  {
   "cell_type": "markdown",
   "metadata": {},
   "source": [
    "# Results\n",
    "\n",
    "We can see every parametter used pre and post training."
   ]
  },
  {
   "cell_type": "code",
   "execution_count": 46,
   "metadata": {},
   "outputs": [
    {
     "name": "stdout",
     "output_type": "stream",
     "text": [
      "Index(['aggregation_weighting', 'dataset_fraction_per_partner', 'dataset_name',\n",
      "       'epoch_count', 'final_relative_nb_samples',\n",
      "       'gradient_updates_per_pass_count', 'is_early_stopping',\n",
      "       'learning_computation_time_sec', 'minibatch_count',\n",
      "       'mpl_nb_epochs_done', 'mpl_test_score',\n",
      "       'multi_partner_learning_approach', 'nb_samples_used', 'partners_count',\n",
      "       'samples_split_description', 'scenario_name', 'short_scenario_name',\n",
      "       'test_data_samples_count', 'train_data_samples_count'],\n",
      "      dtype='object')\n"
     ]
    }
   ],
   "source": [
    "df_results = current_scenario.to_dataframe()\n",
    "print(df_results.columns)"
   ]
  },
  {
   "cell_type": "markdown",
   "metadata": {},
   "source": [
    "#### Our score :"
   ]
  },
  {
   "cell_type": "code",
   "execution_count": 47,
   "metadata": {},
   "outputs": [
    {
     "name": "stdout",
     "output_type": "stream",
     "text": [
      "Approach used : fedavg\n",
      "Model accuracy : 0.9812999963760376\n",
      "0    uniform\n",
      "Name: aggregation_weighting, dtype: object\n"
     ]
    }
   ],
   "source": [
    "print(\"Approach used :\", df_results.multi_partner_learning_approach[0])\n",
    "print(\"Model accuracy :\", df_results.mpl_test_score[0])\n",
    "print(df_results.aggregation_weighting)"
   ]
  },
  {
   "cell_type": "markdown",
   "metadata": {},
   "source": [
    "## Extract model \n",
    "\n",
    "We can extract our model and save it for actual use"
   ]
  },
  {
   "cell_type": "code",
   "execution_count": 48,
   "metadata": {},
   "outputs": [],
   "source": [
    "model = current_scenario.mpl.get_model()"
   ]
  },
  {
   "cell_type": "code",
   "execution_count": 49,
   "metadata": {},
   "outputs": [
    {
     "name": "stdout",
     "output_type": "stream",
     "text": [
      "10000/10000 [==============================] - 1s 72us/step\n"
     ]
    },
    {
     "data": {
      "text/plain": [
       "[0.05420466448860243, 0.9812999963760376]"
      ]
     },
     "execution_count": 49,
     "metadata": {},
     "output_type": "execute_result"
    }
   ],
   "source": [
    "model.evaluate(X_test, preprocess_dataset_labels(y_test))"
   ]
  },
  {
   "cell_type": "markdown",
   "metadata": {},
   "source": [
    "## Let's play  a bit more with results\n",
    "\n",
    "First, let's see how our loss behaves"
   ]
  },
  {
   "cell_type": "code",
   "execution_count": 50,
   "metadata": {},
   "outputs": [
    {
     "name": "stdout",
     "output_type": "stream",
     "text": [
      "[0.7538483274777731, 0.47222468225161235, 0.2783281849225362, 0.18476901535193124, 0.13436979361375173, 0.10136696583032608, 0.09608102879921596, 0.07877941395839055, 0.06860512799024582, 0.06405391338467598]\n"
     ]
    }
   ],
   "source": [
    "losses = current_scenario.mpl.loss_collective_models\n",
    "print(losses)"
   ]
  },
  {
   "cell_type": "code",
   "execution_count": 51,
   "metadata": {},
   "outputs": [
    {
     "data": {
      "text/plain": [
       "<matplotlib.axes._subplots.AxesSubplot at 0x208665d0cc8>"
      ]
     },
     "execution_count": 51,
     "metadata": {},
     "output_type": "execute_result"
    },
    {
     "data": {
      "image/png": "[encoded data removed]",
      "text/plain": [
       "<Figure size 432x288 with 1 Axes>"
      ]
     },
     "metadata": {},
     "output_type": "display_data"
    }
   ],
   "source": [
    "y = range(len(losses))\n",
    "x = losses\n",
    "\n",
    "sns.lineplot(x=x, y=y)        "
   ]
  },
  {
   "cell_type": "markdown",
   "metadata": {},
   "source": [
    "### Let's see how our accuracy score goes between each partner and compare it with aggregated model performance"
   ]
  },
  {
   "cell_type": "code",
   "execution_count": 52,
   "metadata": {},
   "outputs": [
    {
     "name": "stdout",
     "output_type": "stream",
     "text": [
      "[[[0.59208333 0.53775001 0.49266666]\n",
      "  [0.73141664 0.75641668 0.73883331]\n",
      "  [0.73408335 0.77675003 0.77733332]]\n",
      "\n",
      " [[0.77416664 0.78841668 0.82833332]\n",
      "  [0.82366669 0.84025002 0.87708336]\n",
      "  [0.85083336 0.85441667 0.85366666]]\n",
      "\n",
      " [[0.89233333 0.89583331 0.87966669]\n",
      "  [0.87583333 0.91883332 0.90041667]\n",
      "  [0.9058333  0.91241664 0.91858333]]\n",
      "\n",
      " [[0.92416668 0.92891669 0.92374998]\n",
      "  [0.94008332 0.94800001 0.94383335]\n",
      "  [0.93058336 0.94641668 0.94966668]]\n",
      "\n",
      " [[0.95525002 0.94975001 0.95300001]\n",
      "  [0.95275003 0.95875001 0.95191669]\n",
      "  [0.94891667 0.95891666 0.95908332]]\n",
      "\n",
      " [[0.96474999 0.95966667 0.96200001]\n",
      "  [0.95924997 0.96074998 0.95966667]\n",
      "  [0.96808332 0.96491665 0.94999999]]\n",
      "\n",
      " [[0.96883333 0.96324998 0.96908331]\n",
      "  [0.96841669 0.96908331 0.96950001]\n",
      "  [0.96799999 0.96108335 0.97158331]]\n",
      "\n",
      " [[0.96241665 0.96474999 0.96541667]\n",
      "  [0.97066665 0.97366667 0.97500002]\n",
      "  [0.96875    0.97683334 0.97383332]]\n",
      "\n",
      " [[0.96683335 0.97899997 0.97575003]\n",
      "  [0.97516668 0.97675002 0.97675002]\n",
      "  [0.97358334 0.97575003 0.97649997]]\n",
      "\n",
      " [[0.97841668 0.97458333 0.97500002]\n",
      "  [0.97941667 0.98025    0.97516668]\n",
      "  [0.97825003 0.97675002 0.97675002]]]\n"
     ]
    }
   ],
   "source": [
    "x= current_scenario.mpl.score_matrix_per_partner\n",
    "print(x)"
   ]
  },
  {
   "cell_type": "markdown",
   "metadata": {},
   "source": [
    "This is a lot of information to deal with, for now, we will only work with the first minibatch of each epoch"
   ]
  },
  {
   "cell_type": "code",
   "execution_count": 53,
   "metadata": {},
   "outputs": [
    {
     "name": "stdout",
     "output_type": "stream",
     "text": [
      "[[0.59208333 0.73141664 0.73408335]\n",
      " [0.77416664 0.82366669 0.85083336]\n",
      " [0.89233333 0.87583333 0.9058333 ]\n",
      " [0.92416668 0.94008332 0.93058336]\n",
      " [0.95525002 0.95275003 0.94891667]\n",
      " [0.96474999 0.95924997 0.96808332]\n",
      " [0.96883333 0.96841669 0.96799999]\n",
      " [0.96241665 0.97066665 0.96875   ]\n",
      " [0.96683335 0.97516668 0.97358334]\n",
      " [0.97841668 0.97941667 0.97825003]]\n"
     ]
    }
   ],
   "source": [
    "x = x[:,:,0]\n",
    "print(x)"
   ]
  },
  {
   "cell_type": "markdown",
   "metadata": {},
   "source": [
    "now let's pack this information in a single dataframe"
   ]
  },
  {
   "cell_type": "code",
   "execution_count": 54,
   "metadata": {},
   "outputs": [
    {
     "data": {
      "text/plain": [
       "<seaborn.axisgrid.FacetGrid at 0x2071e4c1b48>"
      ]
     },
     "execution_count": 54,
     "metadata": {},
     "output_type": "execute_result"
    },
    {
     "data": {
      "image/png": "[encoded data removed]",
      "text/plain": [
       "<Figure size 443.85x360 with 1 Axes>"
      ]
     },
     "metadata": {},
     "output_type": "display_data"
    }
   ],
   "source": [
    "p0 = (x[:,0])\n",
    "p1 = (x[:,1])\n",
    "p2 = (x[:,2])\n",
    "\n",
    "d = {\n",
    "    'partner 0' : p0,\n",
    "    'partner 1' : p1,\n",
    "    'partner 2' : p2\n",
    "}\n",
    "\n",
    "df = pd.DataFrame(d)\n",
    "\n",
    "\n",
    "sns.relplot(data = df, kind = \"line\")"
   ]
  },
  {
   "cell_type": "markdown",
   "metadata": {},
   "source": [
    "### Now let's compare this result to our averaged model"
   ]
  },
  {
   "cell_type": "code",
   "execution_count": 55,
   "metadata": {},
   "outputs": [
    {
     "name": "stdout",
     "output_type": "stream",
     "text": [
      "[[0.06566667 0.55691665 0.75566667 0.78850001]\n",
      " [0.78850001 0.84675002 0.85641664 0.85833335]\n",
      " [0.85833335 0.89583331 0.91224998 0.91766667]\n",
      " [0.91766667 0.92975003 0.94941664 0.94599998]\n",
      " [0.94599998 0.95583332 0.96233332 0.95899999]\n",
      " [0.95899999 0.96583331 0.96608335 0.96950001]\n",
      " [0.96950001 0.97025001 0.97216666 0.97324997]\n",
      " [0.97324997 0.96899998 0.97933334 0.97858334]\n",
      " [0.97858334 0.977      0.98008335 0.97933334]\n",
      " [0.97933334 0.98141664 0.98133332 0.98058331]]\n"
     ]
    }
   ],
   "source": [
    "x_collective = current_scenario.mpl.score_matrix_collective_models\n",
    "\n",
    "print(x_collective)\n",
    "\n"
   ]
  },
  {
   "cell_type": "markdown",
   "metadata": {},
   "source": [
    "We will just focus ourselves on the first mini batch of each epoch again"
   ]
  },
  {
   "cell_type": "code",
   "execution_count": 56,
   "metadata": {},
   "outputs": [
    {
     "name": "stdout",
     "output_type": "stream",
     "text": [
      "          0\n",
      "0  0.065667\n",
      "1  0.788500\n",
      "2  0.858333\n",
      "3  0.917667\n",
      "4  0.946000\n",
      "5  0.959000\n",
      "6  0.969500\n",
      "7  0.973250\n",
      "8  0.978583\n",
      "9  0.979333\n"
     ]
    },
    {
     "data": {
      "text/plain": [
       "<seaborn.axisgrid.FacetGrid at 0x20895d473c8>"
      ]
     },
     "execution_count": 56,
     "metadata": {},
     "output_type": "execute_result"
    },
    {
     "data": {
      "image/png": "[encoded data removed]",
      "text/plain": [
       "<Figure size 405.725x360 with 1 Axes>"
      ]
     },
     "metadata": {},
     "output_type": "display_data"
    }
   ],
   "source": [
    "x_collective = x_collective[:,0]\n",
    "\n",
    "df_collective = pd.DataFrame(x_collective)\n",
    "\n",
    "\n",
    "print(df_collective)\n",
    "\n",
    "sns.relplot(data = df_collective, kind = \"line\")"
   ]
  },
  {
   "cell_type": "markdown",
   "metadata": {},
   "source": [
    "### Now let's compare this model to each partner's model :"
   ]
  },
  {
   "cell_type": "code",
   "execution_count": 57,
   "metadata": {},
   "outputs": [],
   "source": [
    "d = {\n",
    "    'partner 0' : p0,\n",
    "    'partner 1' : p1,\n",
    "    'partner 2' : p2,\n",
    "    'Averaged model' : x_collective\n",
    "}"
   ]
  },
  {
   "cell_type": "code",
   "execution_count": 58,
   "metadata": {},
   "outputs": [
    {
     "data": {
      "text/plain": [
       "<seaborn.axisgrid.FacetGrid at 0x2087459e148>"
      ]
     },
     "execution_count": 58,
     "metadata": {},
     "output_type": "execute_result"
    },
    {
     "data": {
      "image/png": "[encoded data removed]",
      "text/plain": [
       "<Figure size 479.975x360 with 1 Axes>"
      ]
     },
     "metadata": {},
     "output_type": "display_data"
    }
   ],
   "source": [
    "df = pd.DataFrame(d)\n",
    "\n",
    "\n",
    "sns.relplot(data = df, kind = \"line\")"
   ]
  },
  {
   "cell_type": "markdown",
   "metadata": {},
   "source": [
    "### Let's ommit the begining"
   ]
  },
  {
   "cell_type": "code",
   "execution_count": 59,
   "metadata": {},
   "outputs": [
    {
     "data": {
      "text/plain": [
       "<seaborn.axisgrid.FacetGrid at 0x2071e5449c8>"
      ]
     },
     "execution_count": 59,
     "metadata": {},
     "output_type": "execute_result"
    },
    {
     "data": {
      "image/png": "[encoded data removed]",
      "text/plain": [
       "<Figure size 479.975x360 with 1 Axes>"
      ]
     },
     "metadata": {},
     "output_type": "display_data"
    }
   ],
   "source": [
    "df = df.iloc[3:]\n",
    "sns.relplot(data = df, kind = \"line\")"
   ]
  },
  {
   "cell_type": "markdown",
   "metadata": {},
   "source": [
    "# The averaged model seems to perform poorly at the start but become better as the training continues"
   ]
  },
  {
   "cell_type": "code",
   "execution_count": null,
   "metadata": {},
   "outputs": [],
   "source": []
  }
 ],
 "metadata": {
  "kernelspec": {
   "display_name": "Python 3",
   "language": "python",
   "name": "python3"
  },
  "language_info": {
   "codemirror_mode": {
    "name": "ipython",
    "version": 3
   },
   "file_extension": ".py",
   "mimetype": "text/x-python",
   "name": "python",
   "nbconvert_exporter": "python",
   "pygments_lexer": "ipython3",
   "version": "3.7.6"
  }
 },
 "nbformat": 4,
 "nbformat_minor": 4
}
