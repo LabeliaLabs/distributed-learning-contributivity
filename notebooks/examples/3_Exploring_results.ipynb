{
  "nbformat": 4,
  "nbformat_minor": 0,
  "metadata": {
    "kernelspec": {
      "display_name": "Python 3",
      "language": "python",
      "name": "python3"
    },
    "language_info": {
      "codemirror_mode": {
        "name": "ipython",
        "version": 3
      },
      "file_extension": ".py",
      "mimetype": "text/x-python",
      "name": "python",
      "nbconvert_exporter": "python",
      "pygments_lexer": "ipython3",
      "version": "3.7.6"
    },
    "colab": {
      "name": "3_Exploring_results.ipynb",
      "provenance": []
    },
    "accelerator": "GPU"
  },
  "cells": [
    {
      "cell_type": "markdown",
      "metadata": {
        "id": "1KRUXjMXoRAd",
        "colab_type": "text"
      },
      "source": [
        "# Exploring metrics after training\n",
        "\n",
        "In this example, we dive deeper into our results and compare each partner performance against the federated model"
      ]
    },
    {
      "cell_type": "code",
      "metadata": {
        "id": "rcxGtEY2oR8m",
        "colab_type": "code",
        "colab": {
          "base_uri": "https://localhost:8080/",
          "height": 1000
        },
        "outputId": "a3e7fe77-bc8f-4a2a-ddc6-0a5fb2fbc378"
      },
      "source": [
        "!wget https://raw.githubusercontent.com/SubstraFoundation/distributed-learning-contributivity/Moving-functions/requirements.txt\n",
        "!pip install -r requirements.txt\n",
        "!pip install -i https://test.pypi.org/simple/ subtest==0.0.0.8"
      ],
      "execution_count": 1,
      "outputs": [
        {
          "output_type": "stream",
          "text": [
            "--2020-08-26 11:57:37--  https://raw.githubusercontent.com/SubstraFoundation/distributed-learning-contributivity/Moving-functions/requirements.txt\n",
            "Resolving raw.githubusercontent.com (raw.githubusercontent.com)... 151.101.0.133, 151.101.64.133, 151.101.128.133, ...\n",
            "Connecting to raw.githubusercontent.com (raw.githubusercontent.com)|151.101.0.133|:443... connected.\n",
            "HTTP request sent, awaiting response... 200 OK\n",
            "Length: 176 [text/plain]\n",
            "Saving to: ‘requirements.txt’\n",
            "\n",
            "requirements.txt    100%[===================>]     176  --.-KB/s    in 0s      \n",
            "\n",
            "2020-08-26 11:57:37 (12.0 MB/s) - ‘requirements.txt’ saved [176/176]\n",
            "\n",
            "Collecting Keras==2.3.1\n",
            "\u001b[?25l  Downloading https://files.pythonhosted.org/packages/ad/fd/6bfe87920d7f4fd475acd28500a42482b6b84479832bdc0fe9e589a60ceb/Keras-2.3.1-py2.py3-none-any.whl (377kB)\n",
            "\u001b[K     |████████████████████████████████| 378kB 4.7MB/s \n",
            "\u001b[?25hCollecting matplotlib==3.1.3\n",
            "\u001b[?25l  Downloading https://files.pythonhosted.org/packages/7e/07/4b361d6d0f4e08942575f83a11d33f36897e1aae4279046606dd1808778a/matplotlib-3.1.3-cp36-cp36m-manylinux1_x86_64.whl (13.1MB)\n",
            "\u001b[K     |████████████████████████████████| 13.1MB 233kB/s \n",
            "\u001b[?25hCollecting numpy==1.19.0\n",
            "\u001b[?25l  Downloading https://files.pythonhosted.org/packages/93/0b/71ae818646c1a80fbe6776d41f480649523ed31243f1f34d9d7e41d70195/numpy-1.19.0-cp36-cp36m-manylinux2010_x86_64.whl (14.6MB)\n",
            "\u001b[K     |████████████████████████████████| 14.6MB 209kB/s \n",
            "\u001b[?25hRequirement already satisfied: scipy==1.4.1 in /usr/local/lib/python3.6/dist-packages (from -r requirements.txt (line 4)) (1.4.1)\n",
            "Collecting scikit-learn==0.22.1\n",
            "\u001b[?25l  Downloading https://files.pythonhosted.org/packages/d1/48/e9fa9e252abcd1447eff6f9257636af31758a6e46fd5ce5d3c879f6907cb/scikit_learn-0.22.1-cp36-cp36m-manylinux1_x86_64.whl (7.0MB)\n",
            "\u001b[K     |████████████████████████████████| 7.1MB 45.2MB/s \n",
            "\u001b[?25hRequirement already satisfied: pandas==1.0.5 in /usr/local/lib/python3.6/dist-packages (from -r requirements.txt (line 6)) (1.0.5)\n",
            "Collecting seaborn==0.10.0\n",
            "\u001b[?25l  Downloading https://files.pythonhosted.org/packages/70/bd/5e6bf595fe6ee0f257ae49336dd180768c1ed3d7c7155b2fdf894c1c808a/seaborn-0.10.0-py3-none-any.whl (215kB)\n",
            "\u001b[K     |████████████████████████████████| 225kB 55.6MB/s \n",
            "\u001b[?25hCollecting loguru==0.4.1\n",
            "\u001b[?25l  Downloading https://files.pythonhosted.org/packages/b2/f4/2c8b94025c6e30bdb331c7ee628dc152771845aedff35f0365c2a4dacd42/loguru-0.4.1-py3-none-any.whl (54kB)\n",
            "\u001b[K     |████████████████████████████████| 61kB 9.7MB/s \n",
            "\u001b[?25hCollecting tensorflow==2.2.0\n",
            "\u001b[?25l  Downloading https://files.pythonhosted.org/packages/3d/be/679ce5254a8c8d07470efb4a4c00345fae91f766e64f1c2aece8796d7218/tensorflow-2.2.0-cp36-cp36m-manylinux2010_x86_64.whl (516.2MB)\n",
            "\u001b[K     |████████████████████████████████| 516.2MB 30kB/s \n",
            "\u001b[?25hCollecting ruamel.yaml==0.16.10\n",
            "\u001b[?25l  Downloading https://files.pythonhosted.org/packages/a6/92/59af3e38227b9cc14520bf1e59516d99ceca53e3b8448094248171e9432b/ruamel.yaml-0.16.10-py2.py3-none-any.whl (111kB)\n",
            "\u001b[K     |████████████████████████████████| 112kB 55.8MB/s \n",
            "\u001b[?25hCollecting pytest==5.4.3\n",
            "\u001b[?25l  Downloading https://files.pythonhosted.org/packages/9f/f3/0a83558da436a081344aa6c8b85ea5b5f05071214106036ce341b7769b0b/pytest-5.4.3-py3-none-any.whl (248kB)\n",
            "\u001b[K     |████████████████████████████████| 256kB 59.4MB/s \n",
            "\u001b[?25hRequirement already satisfied: six>=1.9.0 in /usr/local/lib/python3.6/dist-packages (from Keras==2.3.1->-r requirements.txt (line 1)) (1.15.0)\n",
            "Collecting keras-applications>=1.0.6\n",
            "\u001b[?25l  Downloading https://files.pythonhosted.org/packages/71/e3/19762fdfc62877ae9102edf6342d71b28fbfd9dea3d2f96a882ce099b03f/Keras_Applications-1.0.8-py3-none-any.whl (50kB)\n",
            "\u001b[K     |████████████████████████████████| 51kB 8.6MB/s \n",
            "\u001b[?25hRequirement already satisfied: h5py in /usr/local/lib/python3.6/dist-packages (from Keras==2.3.1->-r requirements.txt (line 1)) (2.10.0)\n",
            "Requirement already satisfied: keras-preprocessing>=1.0.5 in /usr/local/lib/python3.6/dist-packages (from Keras==2.3.1->-r requirements.txt (line 1)) (1.1.2)\n",
            "Requirement already satisfied: pyyaml in /usr/local/lib/python3.6/dist-packages (from Keras==2.3.1->-r requirements.txt (line 1)) (3.13)\n",
            "Requirement already satisfied: pyparsing!=2.0.4,!=2.1.2,!=2.1.6,>=2.0.1 in /usr/local/lib/python3.6/dist-packages (from matplotlib==3.1.3->-r requirements.txt (line 2)) (2.4.7)\n",
            "Requirement already satisfied: kiwisolver>=1.0.1 in /usr/local/lib/python3.6/dist-packages (from matplotlib==3.1.3->-r requirements.txt (line 2)) (1.2.0)\n",
            "Requirement already satisfied: cycler>=0.10 in /usr/local/lib/python3.6/dist-packages (from matplotlib==3.1.3->-r requirements.txt (line 2)) (0.10.0)\n",
            "Requirement already satisfied: python-dateutil>=2.1 in /usr/local/lib/python3.6/dist-packages (from matplotlib==3.1.3->-r requirements.txt (line 2)) (2.8.1)\n",
            "Requirement already satisfied: joblib>=0.11 in /usr/local/lib/python3.6/dist-packages (from scikit-learn==0.22.1->-r requirements.txt (line 5)) (0.16.0)\n",
            "Requirement already satisfied: pytz>=2017.2 in /usr/local/lib/python3.6/dist-packages (from pandas==1.0.5->-r requirements.txt (line 6)) (2018.9)\n",
            "Collecting aiocontextvars>=0.2.0; python_version < \"3.7\"\n",
            "  Downloading https://files.pythonhosted.org/packages/db/c1/7a723e8d988de0a2e623927396e54b6831b68cb80dce468c945b849a9385/aiocontextvars-0.2.2-py2.py3-none-any.whl\n",
            "Collecting tensorflow-estimator<2.3.0,>=2.2.0\n",
            "\u001b[?25l  Downloading https://files.pythonhosted.org/packages/a4/f5/926ae53d6a226ec0fda5208e0e581cffed895ccc89e36ba76a8e60895b78/tensorflow_estimator-2.2.0-py2.py3-none-any.whl (454kB)\n",
            "\u001b[K     |████████████████████████████████| 460kB 53.3MB/s \n",
            "\u001b[?25hRequirement already satisfied: grpcio>=1.8.6 in /usr/local/lib/python3.6/dist-packages (from tensorflow==2.2.0->-r requirements.txt (line 9)) (1.31.0)\n",
            "Requirement already satisfied: gast==0.3.3 in /usr/local/lib/python3.6/dist-packages (from tensorflow==2.2.0->-r requirements.txt (line 9)) (0.3.3)\n",
            "Requirement already satisfied: opt-einsum>=2.3.2 in /usr/local/lib/python3.6/dist-packages (from tensorflow==2.2.0->-r requirements.txt (line 9)) (3.3.0)\n",
            "Requirement already satisfied: protobuf>=3.8.0 in /usr/local/lib/python3.6/dist-packages (from tensorflow==2.2.0->-r requirements.txt (line 9)) (3.12.4)\n",
            "Requirement already satisfied: wrapt>=1.11.1 in /usr/local/lib/python3.6/dist-packages (from tensorflow==2.2.0->-r requirements.txt (line 9)) (1.12.1)\n",
            "Requirement already satisfied: astunparse==1.6.3 in /usr/local/lib/python3.6/dist-packages (from tensorflow==2.2.0->-r requirements.txt (line 9)) (1.6.3)\n",
            "Requirement already satisfied: termcolor>=1.1.0 in /usr/local/lib/python3.6/dist-packages (from tensorflow==2.2.0->-r requirements.txt (line 9)) (1.1.0)\n",
            "Collecting tensorboard<2.3.0,>=2.2.0\n",
            "\u001b[?25l  Downloading https://files.pythonhosted.org/packages/1d/74/0a6fcb206dcc72a6da9a62dd81784bfdbff5fedb099982861dc2219014fb/tensorboard-2.2.2-py3-none-any.whl (3.0MB)\n",
            "\u001b[K     |████████████████████████████████| 3.0MB 49.4MB/s \n",
            "\u001b[?25hRequirement already satisfied: wheel>=0.26; python_version >= \"3\" in /usr/local/lib/python3.6/dist-packages (from tensorflow==2.2.0->-r requirements.txt (line 9)) (0.35.1)\n",
            "Requirement already satisfied: absl-py>=0.7.0 in /usr/local/lib/python3.6/dist-packages (from tensorflow==2.2.0->-r requirements.txt (line 9)) (0.8.1)\n",
            "Requirement already satisfied: google-pasta>=0.1.8 in /usr/local/lib/python3.6/dist-packages (from tensorflow==2.2.0->-r requirements.txt (line 9)) (0.2.0)\n",
            "Collecting ruamel.yaml.clib>=0.1.2; platform_python_implementation == \"CPython\" and python_version < \"3.9\"\n",
            "\u001b[?25l  Downloading https://files.pythonhosted.org/packages/53/77/4bcd63f362bcb6c8f4f06253c11f9772f64189bf08cf3f40c5ccbda9e561/ruamel.yaml.clib-0.2.0-cp36-cp36m-manylinux1_x86_64.whl (548kB)\n",
            "\u001b[K     |████████████████████████████████| 552kB 49.2MB/s \n",
            "\u001b[?25hRequirement already satisfied: py>=1.5.0 in /usr/local/lib/python3.6/dist-packages (from pytest==5.4.3->-r requirements.txt (line 11)) (1.9.0)\n",
            "Requirement already satisfied: wcwidth in /usr/local/lib/python3.6/dist-packages (from pytest==5.4.3->-r requirements.txt (line 11)) (0.2.5)\n",
            "Requirement already satisfied: attrs>=17.4.0 in /usr/local/lib/python3.6/dist-packages (from pytest==5.4.3->-r requirements.txt (line 11)) (20.1.0)\n",
            "Requirement already satisfied: importlib-metadata>=0.12; python_version < \"3.8\" in /usr/local/lib/python3.6/dist-packages (from pytest==5.4.3->-r requirements.txt (line 11)) (1.7.0)\n",
            "Requirement already satisfied: more-itertools>=4.0.0 in /usr/local/lib/python3.6/dist-packages (from pytest==5.4.3->-r requirements.txt (line 11)) (8.4.0)\n",
            "Collecting pluggy<1.0,>=0.12\n",
            "  Downloading https://files.pythonhosted.org/packages/a0/28/85c7aa31b80d150b772fbe4a229487bc6644da9ccb7e427dd8cc60cb8a62/pluggy-0.13.1-py2.py3-none-any.whl\n",
            "Requirement already satisfied: packaging in /usr/local/lib/python3.6/dist-packages (from pytest==5.4.3->-r requirements.txt (line 11)) (20.4)\n",
            "Collecting contextvars==2.4; python_version < \"3.7\"\n",
            "  Downloading https://files.pythonhosted.org/packages/83/96/55b82d9f13763be9d672622e1b8106c85acb83edd7cc2fa5bc67cd9877e9/contextvars-2.4.tar.gz\n",
            "Requirement already satisfied: setuptools in /usr/local/lib/python3.6/dist-packages (from protobuf>=3.8.0->tensorflow==2.2.0->-r requirements.txt (line 9)) (49.6.0)\n",
            "Requirement already satisfied: tensorboard-plugin-wit>=1.6.0 in /usr/local/lib/python3.6/dist-packages (from tensorboard<2.3.0,>=2.2.0->tensorflow==2.2.0->-r requirements.txt (line 9)) (1.7.0)\n",
            "Requirement already satisfied: markdown>=2.6.8 in /usr/local/lib/python3.6/dist-packages (from tensorboard<2.3.0,>=2.2.0->tensorflow==2.2.0->-r requirements.txt (line 9)) (3.2.2)\n",
            "Requirement already satisfied: google-auth<2,>=1.6.3 in /usr/local/lib/python3.6/dist-packages (from tensorboard<2.3.0,>=2.2.0->tensorflow==2.2.0->-r requirements.txt (line 9)) (1.17.2)\n",
            "Requirement already satisfied: requests<3,>=2.21.0 in /usr/local/lib/python3.6/dist-packages (from tensorboard<2.3.0,>=2.2.0->tensorflow==2.2.0->-r requirements.txt (line 9)) (2.23.0)\n",
            "Requirement already satisfied: werkzeug>=0.11.15 in /usr/local/lib/python3.6/dist-packages (from tensorboard<2.3.0,>=2.2.0->tensorflow==2.2.0->-r requirements.txt (line 9)) (1.0.1)\n",
            "Requirement already satisfied: google-auth-oauthlib<0.5,>=0.4.1 in /usr/local/lib/python3.6/dist-packages (from tensorboard<2.3.0,>=2.2.0->tensorflow==2.2.0->-r requirements.txt (line 9)) (0.4.1)\n",
            "Requirement already satisfied: zipp>=0.5 in /usr/local/lib/python3.6/dist-packages (from importlib-metadata>=0.12; python_version < \"3.8\"->pytest==5.4.3->-r requirements.txt (line 11)) (3.1.0)\n",
            "Collecting immutables>=0.9\n",
            "\u001b[?25l  Downloading https://files.pythonhosted.org/packages/99/e0/ea6fd4697120327d26773b5a84853f897a68e33d3f9376b00a8ff96e4f63/immutables-0.14-cp36-cp36m-manylinux1_x86_64.whl (98kB)\n",
            "\u001b[K     |████████████████████████████████| 102kB 13.1MB/s \n",
            "\u001b[?25hRequirement already satisfied: pyasn1-modules>=0.2.1 in /usr/local/lib/python3.6/dist-packages (from google-auth<2,>=1.6.3->tensorboard<2.3.0,>=2.2.0->tensorflow==2.2.0->-r requirements.txt (line 9)) (0.2.8)\n",
            "Requirement already satisfied: cachetools<5.0,>=2.0.0 in /usr/local/lib/python3.6/dist-packages (from google-auth<2,>=1.6.3->tensorboard<2.3.0,>=2.2.0->tensorflow==2.2.0->-r requirements.txt (line 9)) (4.1.1)\n",
            "Requirement already satisfied: rsa<5,>=3.1.4; python_version >= \"3\" in /usr/local/lib/python3.6/dist-packages (from google-auth<2,>=1.6.3->tensorboard<2.3.0,>=2.2.0->tensorflow==2.2.0->-r requirements.txt (line 9)) (4.6)\n",
            "Requirement already satisfied: chardet<4,>=3.0.2 in /usr/local/lib/python3.6/dist-packages (from requests<3,>=2.21.0->tensorboard<2.3.0,>=2.2.0->tensorflow==2.2.0->-r requirements.txt (line 9)) (3.0.4)\n",
            "Requirement already satisfied: idna<3,>=2.5 in /usr/local/lib/python3.6/dist-packages (from requests<3,>=2.21.0->tensorboard<2.3.0,>=2.2.0->tensorflow==2.2.0->-r requirements.txt (line 9)) (2.10)\n",
            "Requirement already satisfied: certifi>=2017.4.17 in /usr/local/lib/python3.6/dist-packages (from requests<3,>=2.21.0->tensorboard<2.3.0,>=2.2.0->tensorflow==2.2.0->-r requirements.txt (line 9)) (2020.6.20)\n",
            "Requirement already satisfied: urllib3!=1.25.0,!=1.25.1,<1.26,>=1.21.1 in /usr/local/lib/python3.6/dist-packages (from requests<3,>=2.21.0->tensorboard<2.3.0,>=2.2.0->tensorflow==2.2.0->-r requirements.txt (line 9)) (1.24.3)\n",
            "Requirement already satisfied: requests-oauthlib>=0.7.0 in /usr/local/lib/python3.6/dist-packages (from google-auth-oauthlib<0.5,>=0.4.1->tensorboard<2.3.0,>=2.2.0->tensorflow==2.2.0->-r requirements.txt (line 9)) (1.3.0)\n",
            "Requirement already satisfied: pyasn1<0.5.0,>=0.4.6 in /usr/local/lib/python3.6/dist-packages (from pyasn1-modules>=0.2.1->google-auth<2,>=1.6.3->tensorboard<2.3.0,>=2.2.0->tensorflow==2.2.0->-r requirements.txt (line 9)) (0.4.8)\n",
            "Requirement already satisfied: oauthlib>=3.0.0 in /usr/local/lib/python3.6/dist-packages (from requests-oauthlib>=0.7.0->google-auth-oauthlib<0.5,>=0.4.1->tensorboard<2.3.0,>=2.2.0->tensorflow==2.2.0->-r requirements.txt (line 9)) (3.1.0)\n",
            "Building wheels for collected packages: contextvars\n",
            "  Building wheel for contextvars (setup.py) ... \u001b[?25l\u001b[?25hdone\n",
            "  Created wheel for contextvars: filename=contextvars-2.4-cp36-none-any.whl size=7666 sha256=5e789d12f4038251de183f6b1a462441d69984400b6bb75e38a98c21ade6fdf8\n",
            "  Stored in directory: /root/.cache/pip/wheels/a5/7d/68/1ebae2668bda2228686e3c1cf16f2c2384cea6e9334ad5f6de\n",
            "Successfully built contextvars\n",
            "\u001b[31mERROR: datascience 0.10.6 has requirement folium==0.2.1, but you'll have folium 0.8.3 which is incompatible.\u001b[0m\n",
            "\u001b[31mERROR: albumentations 0.1.12 has requirement imgaug<0.2.7,>=0.2.5, but you'll have imgaug 0.2.9 which is incompatible.\u001b[0m\n",
            "Installing collected packages: numpy, keras-applications, Keras, matplotlib, scikit-learn, seaborn, immutables, contextvars, aiocontextvars, loguru, tensorflow-estimator, tensorboard, tensorflow, ruamel.yaml.clib, ruamel.yaml, pluggy, pytest\n",
            "  Found existing installation: numpy 1.18.5\n",
            "    Uninstalling numpy-1.18.5:\n",
            "      Successfully uninstalled numpy-1.18.5\n",
            "  Found existing installation: Keras 2.4.3\n",
            "    Uninstalling Keras-2.4.3:\n",
            "      Successfully uninstalled Keras-2.4.3\n",
            "  Found existing installation: matplotlib 3.2.2\n",
            "    Uninstalling matplotlib-3.2.2:\n",
            "      Successfully uninstalled matplotlib-3.2.2\n",
            "  Found existing installation: scikit-learn 0.22.2.post1\n",
            "    Uninstalling scikit-learn-0.22.2.post1:\n",
            "      Successfully uninstalled scikit-learn-0.22.2.post1\n",
            "  Found existing installation: seaborn 0.10.1\n",
            "    Uninstalling seaborn-0.10.1:\n",
            "      Successfully uninstalled seaborn-0.10.1\n",
            "  Found existing installation: tensorflow-estimator 2.3.0\n",
            "    Uninstalling tensorflow-estimator-2.3.0:\n",
            "      Successfully uninstalled tensorflow-estimator-2.3.0\n",
            "  Found existing installation: tensorboard 2.3.0\n",
            "    Uninstalling tensorboard-2.3.0:\n",
            "      Successfully uninstalled tensorboard-2.3.0\n",
            "  Found existing installation: tensorflow 2.3.0\n",
            "    Uninstalling tensorflow-2.3.0:\n",
            "      Successfully uninstalled tensorflow-2.3.0\n",
            "  Found existing installation: pluggy 0.7.1\n",
            "    Uninstalling pluggy-0.7.1:\n",
            "      Successfully uninstalled pluggy-0.7.1\n",
            "  Found existing installation: pytest 3.6.4\n",
            "    Uninstalling pytest-3.6.4:\n",
            "      Successfully uninstalled pytest-3.6.4\n",
            "Successfully installed Keras-2.3.1 aiocontextvars-0.2.2 contextvars-2.4 immutables-0.14 keras-applications-1.0.8 loguru-0.4.1 matplotlib-3.1.3 numpy-1.19.0 pluggy-0.13.1 pytest-5.4.3 ruamel.yaml-0.16.10 ruamel.yaml.clib-0.2.0 scikit-learn-0.22.1 seaborn-0.10.0 tensorboard-2.2.2 tensorflow-2.2.0 tensorflow-estimator-2.2.0\n"
          ],
          "name": "stdout"
        },
        {
          "output_type": "display_data",
          "data": {
            "application/vnd.colab-display-data+json": {
              "pip_warning": {
                "packages": [
                  "matplotlib",
                  "mpl_toolkits",
                  "numpy"
                ]
              }
            }
          },
          "metadata": {
            "tags": []
          }
        },
        {
          "output_type": "stream",
          "text": [
            "Looking in indexes: https://test.pypi.org/simple/\n",
            "Collecting subtest==0.0.0.8\n",
            "\u001b[?25l  Downloading https://test-files.pythonhosted.org/packages/9f/62/c90051a4e9247eb15f8ac5af1dc92ff7cfbd6ccfbbc763499398c99af44a/subtest-0.0.0.8-py3-none-any.whl (43kB)\n",
            "\u001b[K     |████████████████████████████████| 51kB 2.5MB/s \n",
            "\u001b[?25hRequirement already satisfied: tensorflow==2.2.0 in /usr/local/lib/python3.6/dist-packages (from subtest==0.0.0.8) (2.2.0)\n",
            "Requirement already satisfied: scipy==1.4.1 in /usr/local/lib/python3.6/dist-packages (from subtest==0.0.0.8) (1.4.1)\n",
            "Requirement already satisfied: numpy==1.19.0 in /usr/local/lib/python3.6/dist-packages (from subtest==0.0.0.8) (1.19.0)\n",
            "Requirement already satisfied: Keras==2.3.1 in /usr/local/lib/python3.6/dist-packages (from subtest==0.0.0.8) (2.3.1)\n",
            "Requirement already satisfied: ruamel.yaml==0.16.10 in /usr/local/lib/python3.6/dist-packages (from subtest==0.0.0.8) (0.16.10)\n",
            "Requirement already satisfied: scikit-learn==0.22.1 in /usr/local/lib/python3.6/dist-packages (from subtest==0.0.0.8) (0.22.1)\n",
            "Requirement already satisfied: seaborn==0.10.0 in /usr/local/lib/python3.6/dist-packages (from subtest==0.0.0.8) (0.10.0)\n",
            "Requirement already satisfied: loguru==0.4.1 in /usr/local/lib/python3.6/dist-packages (from subtest==0.0.0.8) (0.4.1)\n",
            "Requirement already satisfied: matplotlib==3.1.3 in /usr/local/lib/python3.6/dist-packages (from subtest==0.0.0.8) (3.1.3)\n",
            "Requirement already satisfied: pandas==1.0.5 in /usr/local/lib/python3.6/dist-packages (from subtest==0.0.0.8) (1.0.5)\n",
            "Requirement already satisfied: pytest==5.4.3 in /usr/local/lib/python3.6/dist-packages (from subtest==0.0.0.8) (5.4.3)\n",
            "Requirement already satisfied: protobuf>=3.8.0 in /usr/local/lib/python3.6/dist-packages (from tensorflow==2.2.0->subtest==0.0.0.8) (3.12.4)\n",
            "Requirement already satisfied: tensorflow-estimator<2.3.0,>=2.2.0 in /usr/local/lib/python3.6/dist-packages (from tensorflow==2.2.0->subtest==0.0.0.8) (2.2.0)\n",
            "Requirement already satisfied: opt-einsum>=2.3.2 in /usr/local/lib/python3.6/dist-packages (from tensorflow==2.2.0->subtest==0.0.0.8) (3.3.0)\n",
            "Requirement already satisfied: six>=1.12.0 in /usr/local/lib/python3.6/dist-packages (from tensorflow==2.2.0->subtest==0.0.0.8) (1.15.0)\n",
            "Requirement already satisfied: wrapt>=1.11.1 in /usr/local/lib/python3.6/dist-packages (from tensorflow==2.2.0->subtest==0.0.0.8) (1.12.1)\n",
            "Requirement already satisfied: absl-py>=0.7.0 in /usr/local/lib/python3.6/dist-packages (from tensorflow==2.2.0->subtest==0.0.0.8) (0.8.1)\n",
            "Requirement already satisfied: h5py<2.11.0,>=2.10.0 in /usr/local/lib/python3.6/dist-packages (from tensorflow==2.2.0->subtest==0.0.0.8) (2.10.0)\n",
            "Requirement already satisfied: tensorboard<2.3.0,>=2.2.0 in /usr/local/lib/python3.6/dist-packages (from tensorflow==2.2.0->subtest==0.0.0.8) (2.2.2)\n",
            "Requirement already satisfied: google-pasta>=0.1.8 in /usr/local/lib/python3.6/dist-packages (from tensorflow==2.2.0->subtest==0.0.0.8) (0.2.0)\n",
            "Requirement already satisfied: gast==0.3.3 in /usr/local/lib/python3.6/dist-packages (from tensorflow==2.2.0->subtest==0.0.0.8) (0.3.3)\n",
            "Requirement already satisfied: wheel>=0.26; python_version >= \"3\" in /usr/local/lib/python3.6/dist-packages (from tensorflow==2.2.0->subtest==0.0.0.8) (0.35.1)\n",
            "Requirement already satisfied: keras-preprocessing>=1.1.0 in /usr/local/lib/python3.6/dist-packages (from tensorflow==2.2.0->subtest==0.0.0.8) (1.1.2)\n",
            "Requirement already satisfied: astunparse==1.6.3 in /usr/local/lib/python3.6/dist-packages (from tensorflow==2.2.0->subtest==0.0.0.8) (1.6.3)\n",
            "Requirement already satisfied: termcolor>=1.1.0 in /usr/local/lib/python3.6/dist-packages (from tensorflow==2.2.0->subtest==0.0.0.8) (1.1.0)\n",
            "Requirement already satisfied: grpcio>=1.8.6 in /usr/local/lib/python3.6/dist-packages (from tensorflow==2.2.0->subtest==0.0.0.8) (1.31.0)\n",
            "Requirement already satisfied: pyyaml in /usr/local/lib/python3.6/dist-packages (from Keras==2.3.1->subtest==0.0.0.8) (3.13)\n",
            "Requirement already satisfied: keras-applications>=1.0.6 in /usr/local/lib/python3.6/dist-packages (from Keras==2.3.1->subtest==0.0.0.8) (1.0.8)\n",
            "Requirement already satisfied: ruamel.yaml.clib>=0.1.2; platform_python_implementation == \"CPython\" and python_version < \"3.9\" in /usr/local/lib/python3.6/dist-packages (from ruamel.yaml==0.16.10->subtest==0.0.0.8) (0.2.0)\n",
            "Requirement already satisfied: joblib>=0.11 in /usr/local/lib/python3.6/dist-packages (from scikit-learn==0.22.1->subtest==0.0.0.8) (0.16.0)\n",
            "Requirement already satisfied: aiocontextvars>=0.2.0; python_version < \"3.7\" in /usr/local/lib/python3.6/dist-packages (from loguru==0.4.1->subtest==0.0.0.8) (0.2.2)\n",
            "Requirement already satisfied: pyparsing!=2.0.4,!=2.1.2,!=2.1.6,>=2.0.1 in /usr/local/lib/python3.6/dist-packages (from matplotlib==3.1.3->subtest==0.0.0.8) (2.4.7)\n",
            "Requirement already satisfied: cycler>=0.10 in /usr/local/lib/python3.6/dist-packages (from matplotlib==3.1.3->subtest==0.0.0.8) (0.10.0)\n",
            "Requirement already satisfied: python-dateutil>=2.1 in /usr/local/lib/python3.6/dist-packages (from matplotlib==3.1.3->subtest==0.0.0.8) (2.8.1)\n",
            "Requirement already satisfied: kiwisolver>=1.0.1 in /usr/local/lib/python3.6/dist-packages (from matplotlib==3.1.3->subtest==0.0.0.8) (1.2.0)\n",
            "Requirement already satisfied: pytz>=2017.2 in /usr/local/lib/python3.6/dist-packages (from pandas==1.0.5->subtest==0.0.0.8) (2018.9)\n",
            "Requirement already satisfied: attrs>=17.4.0 in /usr/local/lib/python3.6/dist-packages (from pytest==5.4.3->subtest==0.0.0.8) (20.1.0)\n",
            "Requirement already satisfied: more-itertools>=4.0.0 in /usr/local/lib/python3.6/dist-packages (from pytest==5.4.3->subtest==0.0.0.8) (8.4.0)\n",
            "Requirement already satisfied: importlib-metadata>=0.12; python_version < \"3.8\" in /usr/local/lib/python3.6/dist-packages (from pytest==5.4.3->subtest==0.0.0.8) (1.7.0)\n",
            "Requirement already satisfied: py>=1.5.0 in /usr/local/lib/python3.6/dist-packages (from pytest==5.4.3->subtest==0.0.0.8) (1.9.0)\n",
            "Requirement already satisfied: wcwidth in /usr/local/lib/python3.6/dist-packages (from pytest==5.4.3->subtest==0.0.0.8) (0.2.5)\n",
            "Requirement already satisfied: packaging in /usr/local/lib/python3.6/dist-packages (from pytest==5.4.3->subtest==0.0.0.8) (20.4)\n",
            "Requirement already satisfied: pluggy<1.0,>=0.12 in /usr/local/lib/python3.6/dist-packages (from pytest==5.4.3->subtest==0.0.0.8) (0.13.1)\n",
            "Requirement already satisfied: setuptools in /usr/local/lib/python3.6/dist-packages (from protobuf>=3.8.0->tensorflow==2.2.0->subtest==0.0.0.8) (49.6.0)\n",
            "Requirement already satisfied: markdown>=2.6.8 in /usr/local/lib/python3.6/dist-packages (from tensorboard<2.3.0,>=2.2.0->tensorflow==2.2.0->subtest==0.0.0.8) (3.2.2)\n",
            "Requirement already satisfied: tensorboard-plugin-wit>=1.6.0 in /usr/local/lib/python3.6/dist-packages (from tensorboard<2.3.0,>=2.2.0->tensorflow==2.2.0->subtest==0.0.0.8) (1.7.0)\n",
            "Requirement already satisfied: werkzeug>=0.11.15 in /usr/local/lib/python3.6/dist-packages (from tensorboard<2.3.0,>=2.2.0->tensorflow==2.2.0->subtest==0.0.0.8) (1.0.1)\n",
            "Requirement already satisfied: google-auth-oauthlib<0.5,>=0.4.1 in /usr/local/lib/python3.6/dist-packages (from tensorboard<2.3.0,>=2.2.0->tensorflow==2.2.0->subtest==0.0.0.8) (0.4.1)\n",
            "Requirement already satisfied: requests<3,>=2.21.0 in /usr/local/lib/python3.6/dist-packages (from tensorboard<2.3.0,>=2.2.0->tensorflow==2.2.0->subtest==0.0.0.8) (2.23.0)\n",
            "Requirement already satisfied: google-auth<2,>=1.6.3 in /usr/local/lib/python3.6/dist-packages (from tensorboard<2.3.0,>=2.2.0->tensorflow==2.2.0->subtest==0.0.0.8) (1.17.2)\n",
            "Requirement already satisfied: contextvars==2.4; python_version < \"3.7\" in /usr/local/lib/python3.6/dist-packages (from aiocontextvars>=0.2.0; python_version < \"3.7\"->loguru==0.4.1->subtest==0.0.0.8) (2.4)\n",
            "Requirement already satisfied: zipp>=0.5 in /usr/local/lib/python3.6/dist-packages (from importlib-metadata>=0.12; python_version < \"3.8\"->pytest==5.4.3->subtest==0.0.0.8) (3.1.0)\n",
            "Requirement already satisfied: requests-oauthlib>=0.7.0 in /usr/local/lib/python3.6/dist-packages (from google-auth-oauthlib<0.5,>=0.4.1->tensorboard<2.3.0,>=2.2.0->tensorflow==2.2.0->subtest==0.0.0.8) (1.3.0)\n",
            "Requirement already satisfied: idna<3,>=2.5 in /usr/local/lib/python3.6/dist-packages (from requests<3,>=2.21.0->tensorboard<2.3.0,>=2.2.0->tensorflow==2.2.0->subtest==0.0.0.8) (2.10)\n",
            "Requirement already satisfied: urllib3!=1.25.0,!=1.25.1,<1.26,>=1.21.1 in /usr/local/lib/python3.6/dist-packages (from requests<3,>=2.21.0->tensorboard<2.3.0,>=2.2.0->tensorflow==2.2.0->subtest==0.0.0.8) (1.24.3)\n",
            "Requirement already satisfied: certifi>=2017.4.17 in /usr/local/lib/python3.6/dist-packages (from requests<3,>=2.21.0->tensorboard<2.3.0,>=2.2.0->tensorflow==2.2.0->subtest==0.0.0.8) (2020.6.20)\n",
            "Requirement already satisfied: chardet<4,>=3.0.2 in /usr/local/lib/python3.6/dist-packages (from requests<3,>=2.21.0->tensorboard<2.3.0,>=2.2.0->tensorflow==2.2.0->subtest==0.0.0.8) (3.0.4)\n",
            "Requirement already satisfied: pyasn1-modules>=0.2.1 in /usr/local/lib/python3.6/dist-packages (from google-auth<2,>=1.6.3->tensorboard<2.3.0,>=2.2.0->tensorflow==2.2.0->subtest==0.0.0.8) (0.2.8)\n",
            "Requirement already satisfied: rsa<5,>=3.1.4; python_version >= \"3\" in /usr/local/lib/python3.6/dist-packages (from google-auth<2,>=1.6.3->tensorboard<2.3.0,>=2.2.0->tensorflow==2.2.0->subtest==0.0.0.8) (4.6)\n",
            "Requirement already satisfied: cachetools<5.0,>=2.0.0 in /usr/local/lib/python3.6/dist-packages (from google-auth<2,>=1.6.3->tensorboard<2.3.0,>=2.2.0->tensorflow==2.2.0->subtest==0.0.0.8) (4.1.1)\n",
            "Requirement already satisfied: immutables>=0.9 in /usr/local/lib/python3.6/dist-packages (from contextvars==2.4; python_version < \"3.7\"->aiocontextvars>=0.2.0; python_version < \"3.7\"->loguru==0.4.1->subtest==0.0.0.8) (0.14)\n",
            "Requirement already satisfied: oauthlib>=3.0.0 in /usr/local/lib/python3.6/dist-packages (from requests-oauthlib>=0.7.0->google-auth-oauthlib<0.5,>=0.4.1->tensorboard<2.3.0,>=2.2.0->tensorflow==2.2.0->subtest==0.0.0.8) (3.1.0)\n",
            "Requirement already satisfied: pyasn1<0.5.0,>=0.4.6 in /usr/local/lib/python3.6/dist-packages (from pyasn1-modules>=0.2.1->google-auth<2,>=1.6.3->tensorboard<2.3.0,>=2.2.0->tensorflow==2.2.0->subtest==0.0.0.8) (0.4.8)\n",
            "Installing collected packages: subtest\n",
            "Successfully installed subtest-0.0.0.8\n"
          ],
          "name": "stdout"
        }
      ]
    },
    {
      "cell_type": "code",
      "metadata": {
        "id": "k7uYw7cYoRAe",
        "colab_type": "code",
        "colab": {
          "base_uri": "https://localhost:8080/",
          "height": 160
        },
        "outputId": "7c3870f3-34af-49ef-b4ba-e599e94f4a25"
      },
      "source": [
        "# imports\n",
        "import numpy as np\n",
        "from pathlib import Path\n",
        "import pandas as pd\n",
        "import seaborn as sns\n",
        "sns.set()\n",
        "\n",
        "from keras.models import Sequential\n",
        "from keras.layers import Dense, Dropout, Activation, Flatten, Conv2D, MaxPooling2D\n",
        "from keras.utils import np_utils\n",
        "from keras.datasets import mnist\n",
        "\n",
        "# Object and methodes needed in order to run a collaborative round\n",
        "from subtest.dataset import Dataset\n",
        "from subtest.scenario import Scenario, run_scenario"
      ],
      "execution_count": 2,
      "outputs": [
        {
          "output_type": "stream",
          "text": [
            "/usr/local/lib/python3.6/dist-packages/statsmodels/tools/_testing.py:19: FutureWarning: pandas.util.testing is deprecated. Use the functions in the public API at pandas.testing instead.\n",
            "  import pandas.util.testing as tm\n",
            "Using TensorFlow backend.\n"
          ],
          "name": "stderr"
        },
        {
          "output_type": "stream",
          "text": [
            "Downloading data from https://s3.amazonaws.com/img-datasets/mnist.npz\n",
            "11493376/11490434 [==============================] - 1s 0us/step\n",
            "Downloading data from https://www.cs.toronto.edu/~kriz/cifar-10-python.tar.gz\n",
            "170500096/170498071 [==============================] - 4s 0us/step\n"
          ],
          "name": "stdout"
        }
      ]
    },
    {
      "cell_type": "markdown",
      "metadata": {
        "id": "6jZGhhIkoRAj",
        "colab_type": "text"
      },
      "source": [
        "## Quick scenario run "
      ]
    },
    {
      "cell_type": "code",
      "metadata": {
        "id": "8T7wK4P4oRAj",
        "colab_type": "code",
        "colab": {
          "base_uri": "https://localhost:8080/",
          "height": 228
        },
        "outputId": "3c945d75-6831-4d7b-de9c-f0f237d65453"
      },
      "source": [
        "scenario_params = {\n",
        "    'partners_count': 3,\n",
        "    'amounts_per_partner': [0.2, 0.5, 0.3],\n",
        "}\n",
        "\n",
        "scenario_params['epoch_count'] = 20\n",
        "scenario_params['minibatch_count'] = 3\n",
        "\n",
        "current_scenario = Scenario(scenario_params)\n",
        "\n",
        "(X_train, y_train), (X_test, y_test) = mnist.load_data()\n",
        "\n",
        "X_train = X_train.reshape(X_train.shape[0],  28, 28, 1)\n",
        "X_test = X_test.reshape(X_test.shape[0], 28, 28, 1)\n",
        "X_train = X_train.astype('float32')\n",
        "X_test = X_test.astype('float32')\n",
        "X_train /= 255\n",
        "X_test /= 255\n",
        "\n",
        "input_shape = (28, 28, 1)\n",
        "num_classes = 10\n",
        "\n",
        "\n",
        "def preprocess_dataset_labels(y):\n",
        "    y = np_utils.to_categorical(y, 10)\n",
        "    return y\n",
        "\n",
        "\n",
        "def generate_new_model_for_dataset():\n",
        "    model = Sequential()\n",
        "    # add Convolutional layers\n",
        "    model.add(Conv2D(filters=32, kernel_size=(3,3), activation='relu', padding='same',\n",
        "                     input_shape=input_shape))\n",
        "    model.add(MaxPooling2D(pool_size=(2,2)))\n",
        "    model.add(Conv2D(filters=64, kernel_size=(3,3), activation='relu', padding='same'))\n",
        "    model.add(MaxPooling2D(pool_size=(2,2)))\n",
        "    model.add(Conv2D(filters=64, kernel_size=(3,3), activation='relu', padding='same'))\n",
        "    model.add(MaxPooling2D(pool_size=(2,2)))    \n",
        "    model.add(Flatten())\n",
        "    # Densely connected layers\n",
        "    model.add(Dense(128, activation='relu'))\n",
        "    # output layer\n",
        "    model.add(Dense(num_classes, activation='softmax'))\n",
        "    # compile with adam optimizer & categorical_crossentropy loss function\n",
        "    model.compile(optimizer='adam', loss='categorical_crossentropy', metrics=['accuracy'])\n",
        "    return model\n",
        "\n",
        "\n",
        "current_scenario.dataset = Dataset(\n",
        "    \"my_dataset\",\n",
        "    X_train,\n",
        "    X_test,\n",
        "    y_train,\n",
        "    y_test,\n",
        "    input_shape,\n",
        "    num_classes,\n",
        "    preprocess_dataset_labels,\n",
        "    generate_new_model_for_dataset\n",
        ")\n",
        "\n",
        "current_scenario.dataset.train_val_split()"
      ],
      "execution_count": 3,
      "outputs": [
        {
          "output_type": "stream",
          "text": [
            "2020-08-26 11:59:41.534 | DEBUG    | subtest.scenario:__init__:58 - Dataset selected: mnist\n",
            "2020-08-26 11:59:41.535 | DEBUG    | subtest.scenario:__init__:93 - Computation use the full dataset for scenario #1\n",
            "2020-08-26 11:59:41.630 | INFO     | subtest.scenario:__init__:282 - ### Description of data scenario configured:\n",
            "2020-08-26 11:59:41.631 | INFO     | subtest.scenario:__init__:283 -    Number of partners defined: 3\n",
            "2020-08-26 11:59:41.632 | INFO     | subtest.scenario:__init__:284 -    Data distribution scenario chosen: random\n",
            "2020-08-26 11:59:41.632 | INFO     | subtest.scenario:__init__:285 -    Multi-partner learning approach: fedavg\n",
            "2020-08-26 11:59:41.633 | INFO     | subtest.scenario:__init__:286 -    Weighting option: uniform\n",
            "2020-08-26 11:59:41.634 | INFO     | subtest.scenario:__init__:287 -    Iterations parameters: 20 epochs > 3 mini-batches > 8 gradient updates per pass\n",
            "2020-08-26 11:59:41.634 | INFO     | subtest.scenario:__init__:293 - ### Data loaded: mnist\n",
            "2020-08-26 11:59:41.635 | INFO     | subtest.scenario:__init__:294 -    48000 train data with 48000 labels\n",
            "2020-08-26 11:59:41.636 | INFO     | subtest.scenario:__init__:295 -    12000 val data with 12000 labels\n",
            "2020-08-26 11:59:41.637 | INFO     | subtest.scenario:__init__:296 -    10000 test data with 10000 labels\n"
          ],
          "name": "stderr"
        }
      ]
    },
    {
      "cell_type": "code",
      "metadata": {
        "id": "Mx1APciOoRAp",
        "colab_type": "code",
        "colab": {
          "base_uri": "https://localhost:8080/",
          "height": 1000
        },
        "outputId": "f34b13aa-4771-4a74-a800-a4b9fa41fb79"
      },
      "source": [
        "run_scenario(current_scenario)"
      ],
      "execution_count": 4,
      "outputs": [
        {
          "output_type": "stream",
          "text": [
            "2020-08-26 11:59:42.346 | INFO     | subtest.scenario:split_data:537 - ### Splitting data among partners:\n",
            "2020-08-26 11:59:42.348 | INFO     | subtest.scenario:split_data:538 -    Simple split performed.\n",
            "2020-08-26 11:59:42.349 | INFO     | subtest.scenario:split_data:539 -    Nb of samples split amongst partners: 38880\n",
            "2020-08-26 11:59:42.350 | INFO     | subtest.scenario:split_data:541 -    Partner #0: 7776 samples with labels [0, 1, 2, 3, 4, 5, 6, 7, 8, 9]\n",
            "2020-08-26 11:59:42.352 | INFO     | subtest.scenario:split_data:541 -    Partner #1: 19440 samples with labels [0, 1, 2, 3, 4, 5, 6, 7, 8, 9]\n",
            "2020-08-26 11:59:42.354 | INFO     | subtest.scenario:split_data:541 -    Partner #2: 11664 samples with labels [0, 1, 2, 3, 4, 5, 6, 7, 8, 9]\n",
            "2020-08-26 11:59:42.659 | DEBUG    | subtest.scenario:compute_batch_sizes:585 -    Compute batch sizes, partner #0: 324\n",
            "2020-08-26 11:59:42.660 | DEBUG    | subtest.scenario:compute_batch_sizes:585 -    Compute batch sizes, partner #1: 810\n",
            "2020-08-26 11:59:42.663 | DEBUG    | subtest.scenario:compute_batch_sizes:585 -    Compute batch sizes, partner #2: 486\n",
            "2020-08-26 11:59:42.664 | DEBUG    | subtest.scenario:preprocess_scenarios_data:590 - ## Pre-processing datasets of the scenario for keras CNN:\n",
            "2020-08-26 11:59:42.665 | DEBUG    | subtest.scenario:preprocess_scenarios_data:594 -    Central early stopping validation set: done.\n",
            "2020-08-26 11:59:42.667 | DEBUG    | subtest.scenario:preprocess_scenarios_data:596 -    Central testset: done.\n",
            "2020-08-26 11:59:42.669 | DEBUG    | subtest.scenario:preprocess_scenarios_data:618 -    Partner #0: done.\n",
            "2020-08-26 11:59:42.671 | DEBUG    | subtest.scenario:preprocess_scenarios_data:618 -    Partner #1: done.\n",
            "2020-08-26 11:59:42.673 | DEBUG    | subtest.scenario:preprocess_scenarios_data:618 -    Partner #2: done.\n",
            "2020-08-26 11:59:42.674 | DEBUG    | subtest.multi_partner_learning:__init__:69 - MultiPartnerLearning object instantiated.\n",
            "2020-08-26 11:59:42.675 | INFO     | subtest.multi_partner_learning:compute_test_score:135 - ## Training and evaluating model on partners with ids: ['#0', '#1', '#2']\n",
            "2020-08-26 11:59:42.712 | DEBUG    | subtest.multi_partner_learning:compute_collaborative_round_fedavg:259 - Start new fedavg collaborative round ...\n",
            "2020-08-26 11:59:42.713 | DEBUG    | subtest.multi_partner_learning:compute_collaborative_round_fedavg:268 - (fedavg) Very first minibatch of epoch n°0, init new models for each partner\n",
            "2020-08-26 11:59:51.780 | DEBUG    | subtest.multi_partner_learning:log_collaborative_round_partner_result:513 - Epoch 00/19 > Minibatch 00/02 > Partner id #0 (0/2) > val_acc: 0.55\n",
            "2020-08-26 11:59:52.770 | DEBUG    | subtest.multi_partner_learning:log_collaborative_round_partner_result:513 - Epoch 00/19 > Minibatch 00/02 > Partner id #1 (1/2) > val_acc: 0.6\n",
            "2020-08-26 11:59:53.693 | DEBUG    | subtest.multi_partner_learning:log_collaborative_round_partner_result:513 - Epoch 00/19 > Minibatch 00/02 > Partner id #2 (2/2) > val_acc: 0.49\n",
            "2020-08-26 11:59:53.701 | DEBUG    | subtest.multi_partner_learning:compute_collaborative_round_fedavg:303 - End of fedavg collaborative round.\n",
            "2020-08-26 11:59:53.702 | DEBUG    | subtest.multi_partner_learning:compute_collaborative_round_fedavg:259 - Start new fedavg collaborative round ...\n",
            "2020-08-26 11:59:53.708 | DEBUG    | subtest.multi_partner_learning:compute_collaborative_round_fedavg:271 - (fedavg) Minibatch n°1 of epoch n°0, init aggregated model for each partner with models from previous round\n",
            "2020-08-26 11:59:55.069 | DEBUG    | subtest.multi_partner_learning:log_collaborative_round_partner_result:513 - Epoch 00/19 > Minibatch 01/02 > Partner id #0 (0/2) > val_acc: 0.73\n",
            "2020-08-26 11:59:55.939 | DEBUG    | subtest.multi_partner_learning:log_collaborative_round_partner_result:513 - Epoch 00/19 > Minibatch 01/02 > Partner id #1 (1/2) > val_acc: 0.74\n",
            "2020-08-26 11:59:56.778 | DEBUG    | subtest.multi_partner_learning:log_collaborative_round_partner_result:513 - Epoch 00/19 > Minibatch 01/02 > Partner id #2 (2/2) > val_acc: 0.75\n",
            "2020-08-26 11:59:56.789 | DEBUG    | subtest.multi_partner_learning:compute_collaborative_round_fedavg:303 - End of fedavg collaborative round.\n",
            "2020-08-26 11:59:56.790 | DEBUG    | subtest.multi_partner_learning:compute_collaborative_round_fedavg:259 - Start new fedavg collaborative round ...\n",
            "2020-08-26 11:59:56.796 | DEBUG    | subtest.multi_partner_learning:compute_collaborative_round_fedavg:271 - (fedavg) Minibatch n°2 of epoch n°0, init aggregated model for each partner with models from previous round\n",
            "2020-08-26 11:59:57.999 | DEBUG    | subtest.multi_partner_learning:log_collaborative_round_partner_result:513 - Epoch 00/19 > Minibatch 02/02 > Partner id #0 (0/2) > val_acc: 0.78\n",
            "2020-08-26 11:59:58.848 | DEBUG    | subtest.multi_partner_learning:log_collaborative_round_partner_result:513 - Epoch 00/19 > Minibatch 02/02 > Partner id #1 (1/2) > val_acc: 0.77\n",
            "2020-08-26 11:59:59.699 | DEBUG    | subtest.multi_partner_learning:log_collaborative_round_partner_result:513 - Epoch 00/19 > Minibatch 02/02 > Partner id #2 (2/2) > val_acc: 0.81\n",
            "2020-08-26 11:59:59.705 | DEBUG    | subtest.multi_partner_learning:compute_collaborative_round_fedavg:303 - End of fedavg collaborative round.\n",
            "2020-08-26 12:00:00.007 | INFO     | subtest.multi_partner_learning:compute_test_score:184 -    Model evaluation at the end of the epoch: ['0.725', '0.809']\n",
            "2020-08-26 12:00:00.008 | DEBUG    | subtest.multi_partner_learning:compute_test_score:187 -       Checking if early stopping criteria are met:\n",
            "2020-08-26 12:00:00.009 | DEBUG    | subtest.multi_partner_learning:compute_test_score:197 -          -> Early stopping criteria are not met, continuing with training.\n",
            "2020-08-26 12:00:00.138 | DEBUG    | subtest.multi_partner_learning:compute_collaborative_round_fedavg:259 - Start new fedavg collaborative round ...\n",
            "2020-08-26 12:00:00.139 | DEBUG    | subtest.multi_partner_learning:compute_collaborative_round_fedavg:271 - (fedavg) Minibatch n°0 of epoch n°1, init aggregated model for each partner with models from previous round\n",
            "2020-08-26 12:00:01.544 | DEBUG    | subtest.multi_partner_learning:log_collaborative_round_partner_result:513 - Epoch 01/19 > Minibatch 00/02 > Partner id #0 (0/2) > val_acc: 0.79\n",
            "2020-08-26 12:00:02.414 | DEBUG    | subtest.multi_partner_learning:log_collaborative_round_partner_result:513 - Epoch 01/19 > Minibatch 00/02 > Partner id #1 (1/2) > val_acc: 0.8\n",
            "2020-08-26 12:00:03.264 | DEBUG    | subtest.multi_partner_learning:log_collaborative_round_partner_result:513 - Epoch 01/19 > Minibatch 00/02 > Partner id #2 (2/2) > val_acc: 0.83\n",
            "2020-08-26 12:00:03.269 | DEBUG    | subtest.multi_partner_learning:compute_collaborative_round_fedavg:303 - End of fedavg collaborative round.\n",
            "2020-08-26 12:00:03.270 | DEBUG    | subtest.multi_partner_learning:compute_collaborative_round_fedavg:259 - Start new fedavg collaborative round ...\n",
            "2020-08-26 12:00:03.271 | DEBUG    | subtest.multi_partner_learning:compute_collaborative_round_fedavg:271 - (fedavg) Minibatch n°1 of epoch n°1, init aggregated model for each partner with models from previous round\n",
            "2020-08-26 12:00:04.501 | DEBUG    | subtest.multi_partner_learning:log_collaborative_round_partner_result:513 - Epoch 01/19 > Minibatch 01/02 > Partner id #0 (0/2) > val_acc: 0.87\n",
            "2020-08-26 12:00:05.365 | DEBUG    | subtest.multi_partner_learning:log_collaborative_round_partner_result:513 - Epoch 01/19 > Minibatch 01/02 > Partner id #1 (1/2) > val_acc: 0.85\n",
            "2020-08-26 12:00:06.205 | DEBUG    | subtest.multi_partner_learning:log_collaborative_round_partner_result:513 - Epoch 01/19 > Minibatch 01/02 > Partner id #2 (2/2) > val_acc: 0.86\n",
            "2020-08-26 12:00:06.211 | DEBUG    | subtest.multi_partner_learning:compute_collaborative_round_fedavg:303 - End of fedavg collaborative round.\n",
            "2020-08-26 12:00:06.212 | DEBUG    | subtest.multi_partner_learning:compute_collaborative_round_fedavg:259 - Start new fedavg collaborative round ...\n",
            "2020-08-26 12:00:06.212 | DEBUG    | subtest.multi_partner_learning:compute_collaborative_round_fedavg:271 - (fedavg) Minibatch n°2 of epoch n°1, init aggregated model for each partner with models from previous round\n",
            "2020-08-26 12:00:07.413 | DEBUG    | subtest.multi_partner_learning:log_collaborative_round_partner_result:513 - Epoch 01/19 > Minibatch 02/02 > Partner id #0 (0/2) > val_acc: 0.85\n",
            "2020-08-26 12:00:08.494 | DEBUG    | subtest.multi_partner_learning:log_collaborative_round_partner_result:513 - Epoch 01/19 > Minibatch 02/02 > Partner id #1 (1/2) > val_acc: 0.9\n",
            "2020-08-26 12:00:09.354 | DEBUG    | subtest.multi_partner_learning:log_collaborative_round_partner_result:513 - Epoch 01/19 > Minibatch 02/02 > Partner id #2 (2/2) > val_acc: 0.84\n",
            "2020-08-26 12:00:09.362 | DEBUG    | subtest.multi_partner_learning:compute_collaborative_round_fedavg:303 - End of fedavg collaborative round.\n",
            "2020-08-26 12:00:09.672 | INFO     | subtest.multi_partner_learning:compute_test_score:184 -    Model evaluation at the end of the epoch: ['0.424', '0.885']\n",
            "2020-08-26 12:00:09.673 | DEBUG    | subtest.multi_partner_learning:compute_test_score:187 -       Checking if early stopping criteria are met:\n",
            "2020-08-26 12:00:09.678 | DEBUG    | subtest.multi_partner_learning:compute_test_score:197 -          -> Early stopping criteria are not met, continuing with training.\n",
            "2020-08-26 12:00:09.756 | DEBUG    | subtest.multi_partner_learning:compute_collaborative_round_fedavg:259 - Start new fedavg collaborative round ...\n",
            "2020-08-26 12:00:09.758 | DEBUG    | subtest.multi_partner_learning:compute_collaborative_round_fedavg:271 - (fedavg) Minibatch n°0 of epoch n°2, init aggregated model for each partner with models from previous round\n",
            "2020-08-26 12:00:10.975 | DEBUG    | subtest.multi_partner_learning:log_collaborative_round_partner_result:513 - Epoch 02/19 > Minibatch 00/02 > Partner id #0 (0/2) > val_acc: 0.88\n",
            "2020-08-26 12:00:11.848 | DEBUG    | subtest.multi_partner_learning:log_collaborative_round_partner_result:513 - Epoch 02/19 > Minibatch 00/02 > Partner id #1 (1/2) > val_acc: 0.9\n",
            "2020-08-26 12:00:12.699 | DEBUG    | subtest.multi_partner_learning:log_collaborative_round_partner_result:513 - Epoch 02/19 > Minibatch 00/02 > Partner id #2 (2/2) > val_acc: 0.89\n",
            "2020-08-26 12:00:12.706 | DEBUG    | subtest.multi_partner_learning:compute_collaborative_round_fedavg:303 - End of fedavg collaborative round.\n",
            "2020-08-26 12:00:12.707 | DEBUG    | subtest.multi_partner_learning:compute_collaborative_round_fedavg:259 - Start new fedavg collaborative round ...\n",
            "2020-08-26 12:00:12.707 | DEBUG    | subtest.multi_partner_learning:compute_collaborative_round_fedavg:271 - (fedavg) Minibatch n°1 of epoch n°2, init aggregated model for each partner with models from previous round\n",
            "2020-08-26 12:00:13.916 | DEBUG    | subtest.multi_partner_learning:log_collaborative_round_partner_result:513 - Epoch 02/19 > Minibatch 01/02 > Partner id #0 (0/2) > val_acc: 0.89\n",
            "2020-08-26 12:00:14.763 | DEBUG    | subtest.multi_partner_learning:log_collaborative_round_partner_result:513 - Epoch 02/19 > Minibatch 01/02 > Partner id #1 (1/2) > val_acc: 0.91\n",
            "2020-08-26 12:00:15.600 | DEBUG    | subtest.multi_partner_learning:log_collaborative_round_partner_result:513 - Epoch 02/19 > Minibatch 01/02 > Partner id #2 (2/2) > val_acc: 0.9\n",
            "2020-08-26 12:00:15.606 | DEBUG    | subtest.multi_partner_learning:compute_collaborative_round_fedavg:303 - End of fedavg collaborative round.\n",
            "2020-08-26 12:00:15.607 | DEBUG    | subtest.multi_partner_learning:compute_collaborative_round_fedavg:259 - Start new fedavg collaborative round ...\n",
            "2020-08-26 12:00:15.611 | DEBUG    | subtest.multi_partner_learning:compute_collaborative_round_fedavg:271 - (fedavg) Minibatch n°2 of epoch n°2, init aggregated model for each partner with models from previous round\n",
            "2020-08-26 12:00:17.116 | DEBUG    | subtest.multi_partner_learning:log_collaborative_round_partner_result:513 - Epoch 02/19 > Minibatch 02/02 > Partner id #0 (0/2) > val_acc: 0.9\n",
            "2020-08-26 12:00:18.002 | DEBUG    | subtest.multi_partner_learning:log_collaborative_round_partner_result:513 - Epoch 02/19 > Minibatch 02/02 > Partner id #1 (1/2) > val_acc: 0.92\n",
            "2020-08-26 12:00:18.859 | DEBUG    | subtest.multi_partner_learning:log_collaborative_round_partner_result:513 - Epoch 02/19 > Minibatch 02/02 > Partner id #2 (2/2) > val_acc: 0.91\n",
            "2020-08-26 12:00:18.866 | DEBUG    | subtest.multi_partner_learning:compute_collaborative_round_fedavg:303 - End of fedavg collaborative round.\n",
            "2020-08-26 12:00:19.169 | INFO     | subtest.multi_partner_learning:compute_test_score:184 -    Model evaluation at the end of the epoch: ['0.292', '0.914']\n",
            "2020-08-26 12:00:19.169 | DEBUG    | subtest.multi_partner_learning:compute_test_score:187 -       Checking if early stopping criteria are met:\n",
            "2020-08-26 12:00:19.170 | DEBUG    | subtest.multi_partner_learning:compute_test_score:197 -          -> Early stopping criteria are not met, continuing with training.\n",
            "2020-08-26 12:00:19.274 | DEBUG    | subtest.multi_partner_learning:compute_collaborative_round_fedavg:259 - Start new fedavg collaborative round ...\n",
            "2020-08-26 12:00:19.275 | DEBUG    | subtest.multi_partner_learning:compute_collaborative_round_fedavg:271 - (fedavg) Minibatch n°0 of epoch n°3, init aggregated model for each partner with models from previous round\n",
            "2020-08-26 12:00:20.515 | DEBUG    | subtest.multi_partner_learning:log_collaborative_round_partner_result:513 - Epoch 03/19 > Minibatch 00/02 > Partner id #0 (0/2) > val_acc: 0.93\n",
            "2020-08-26 12:00:21.386 | DEBUG    | subtest.multi_partner_learning:log_collaborative_round_partner_result:513 - Epoch 03/19 > Minibatch 00/02 > Partner id #1 (1/2) > val_acc: 0.93\n",
            "2020-08-26 12:00:22.277 | DEBUG    | subtest.multi_partner_learning:log_collaborative_round_partner_result:513 - Epoch 03/19 > Minibatch 00/02 > Partner id #2 (2/2) > val_acc: 0.93\n",
            "2020-08-26 12:00:22.283 | DEBUG    | subtest.multi_partner_learning:compute_collaborative_round_fedavg:303 - End of fedavg collaborative round.\n",
            "2020-08-26 12:00:22.284 | DEBUG    | subtest.multi_partner_learning:compute_collaborative_round_fedavg:259 - Start new fedavg collaborative round ...\n",
            "2020-08-26 12:00:22.285 | DEBUG    | subtest.multi_partner_learning:compute_collaborative_round_fedavg:271 - (fedavg) Minibatch n°1 of epoch n°3, init aggregated model for each partner with models from previous round\n",
            "2020-08-26 12:00:23.491 | DEBUG    | subtest.multi_partner_learning:log_collaborative_round_partner_result:513 - Epoch 03/19 > Minibatch 01/02 > Partner id #0 (0/2) > val_acc: 0.93\n",
            "2020-08-26 12:00:24.346 | DEBUG    | subtest.multi_partner_learning:log_collaborative_round_partner_result:513 - Epoch 03/19 > Minibatch 01/02 > Partner id #1 (1/2) > val_acc: 0.94\n",
            "2020-08-26 12:00:25.491 | DEBUG    | subtest.multi_partner_learning:log_collaborative_round_partner_result:513 - Epoch 03/19 > Minibatch 01/02 > Partner id #2 (2/2) > val_acc: 0.95\n",
            "2020-08-26 12:00:25.495 | DEBUG    | subtest.multi_partner_learning:compute_collaborative_round_fedavg:303 - End of fedavg collaborative round.\n",
            "2020-08-26 12:00:25.497 | DEBUG    | subtest.multi_partner_learning:compute_collaborative_round_fedavg:259 - Start new fedavg collaborative round ...\n",
            "2020-08-26 12:00:25.501 | DEBUG    | subtest.multi_partner_learning:compute_collaborative_round_fedavg:271 - (fedavg) Minibatch n°2 of epoch n°3, init aggregated model for each partner with models from previous round\n",
            "2020-08-26 12:00:26.725 | DEBUG    | subtest.multi_partner_learning:log_collaborative_round_partner_result:513 - Epoch 03/19 > Minibatch 02/02 > Partner id #0 (0/2) > val_acc: 0.94\n",
            "2020-08-26 12:00:27.609 | DEBUG    | subtest.multi_partner_learning:log_collaborative_round_partner_result:513 - Epoch 03/19 > Minibatch 02/02 > Partner id #1 (1/2) > val_acc: 0.95\n",
            "2020-08-26 12:00:28.471 | DEBUG    | subtest.multi_partner_learning:log_collaborative_round_partner_result:513 - Epoch 03/19 > Minibatch 02/02 > Partner id #2 (2/2) > val_acc: 0.94\n",
            "2020-08-26 12:00:28.478 | DEBUG    | subtest.multi_partner_learning:compute_collaborative_round_fedavg:303 - End of fedavg collaborative round.\n",
            "2020-08-26 12:00:28.788 | INFO     | subtest.multi_partner_learning:compute_test_score:184 -    Model evaluation at the end of the epoch: ['0.175', '0.947']\n",
            "2020-08-26 12:00:28.789 | DEBUG    | subtest.multi_partner_learning:compute_test_score:187 -       Checking if early stopping criteria are met:\n",
            "2020-08-26 12:00:28.790 | DEBUG    | subtest.multi_partner_learning:compute_test_score:197 -          -> Early stopping criteria are not met, continuing with training.\n",
            "2020-08-26 12:00:28.832 | DEBUG    | subtest.multi_partner_learning:compute_collaborative_round_fedavg:259 - Start new fedavg collaborative round ...\n",
            "2020-08-26 12:00:28.833 | DEBUG    | subtest.multi_partner_learning:compute_collaborative_round_fedavg:271 - (fedavg) Minibatch n°0 of epoch n°4, init aggregated model for each partner with models from previous round\n",
            "2020-08-26 12:00:30.148 | DEBUG    | subtest.multi_partner_learning:log_collaborative_round_partner_result:513 - Epoch 04/19 > Minibatch 00/02 > Partner id #0 (0/2) > val_acc: 0.95\n",
            "2020-08-26 12:00:31.037 | DEBUG    | subtest.multi_partner_learning:log_collaborative_round_partner_result:513 - Epoch 04/19 > Minibatch 00/02 > Partner id #1 (1/2) > val_acc: 0.95\n",
            "2020-08-26 12:00:31.916 | DEBUG    | subtest.multi_partner_learning:log_collaborative_round_partner_result:513 - Epoch 04/19 > Minibatch 00/02 > Partner id #2 (2/2) > val_acc: 0.95\n",
            "2020-08-26 12:00:31.924 | DEBUG    | subtest.multi_partner_learning:compute_collaborative_round_fedavg:303 - End of fedavg collaborative round.\n",
            "2020-08-26 12:00:31.927 | DEBUG    | subtest.multi_partner_learning:compute_collaborative_round_fedavg:259 - Start new fedavg collaborative round ...\n",
            "2020-08-26 12:00:31.930 | DEBUG    | subtest.multi_partner_learning:compute_collaborative_round_fedavg:271 - (fedavg) Minibatch n°1 of epoch n°4, init aggregated model for each partner with models from previous round\n",
            "2020-08-26 12:00:33.201 | DEBUG    | subtest.multi_partner_learning:log_collaborative_round_partner_result:513 - Epoch 04/19 > Minibatch 01/02 > Partner id #0 (0/2) > val_acc: 0.95\n",
            "2020-08-26 12:00:34.411 | DEBUG    | subtest.multi_partner_learning:log_collaborative_round_partner_result:513 - Epoch 04/19 > Minibatch 01/02 > Partner id #1 (1/2) > val_acc: 0.95\n",
            "2020-08-26 12:00:35.293 | DEBUG    | subtest.multi_partner_learning:log_collaborative_round_partner_result:513 - Epoch 04/19 > Minibatch 01/02 > Partner id #2 (2/2) > val_acc: 0.95\n",
            "2020-08-26 12:00:35.300 | DEBUG    | subtest.multi_partner_learning:compute_collaborative_round_fedavg:303 - End of fedavg collaborative round.\n",
            "2020-08-26 12:00:35.301 | DEBUG    | subtest.multi_partner_learning:compute_collaborative_round_fedavg:259 - Start new fedavg collaborative round ...\n",
            "2020-08-26 12:00:35.306 | DEBUG    | subtest.multi_partner_learning:compute_collaborative_round_fedavg:271 - (fedavg) Minibatch n°2 of epoch n°4, init aggregated model for each partner with models from previous round\n",
            "2020-08-26 12:00:36.616 | DEBUG    | subtest.multi_partner_learning:log_collaborative_round_partner_result:513 - Epoch 04/19 > Minibatch 02/02 > Partner id #0 (0/2) > val_acc: 0.95\n",
            "2020-08-26 12:00:37.520 | DEBUG    | subtest.multi_partner_learning:log_collaborative_round_partner_result:513 - Epoch 04/19 > Minibatch 02/02 > Partner id #1 (1/2) > val_acc: 0.96\n",
            "2020-08-26 12:00:38.412 | DEBUG    | subtest.multi_partner_learning:log_collaborative_round_partner_result:513 - Epoch 04/19 > Minibatch 02/02 > Partner id #2 (2/2) > val_acc: 0.96\n",
            "2020-08-26 12:00:38.417 | DEBUG    | subtest.multi_partner_learning:compute_collaborative_round_fedavg:303 - End of fedavg collaborative round.\n",
            "2020-08-26 12:00:38.752 | INFO     | subtest.multi_partner_learning:compute_test_score:184 -    Model evaluation at the end of the epoch: ['0.136', '0.959']\n",
            "2020-08-26 12:00:38.753 | DEBUG    | subtest.multi_partner_learning:compute_test_score:187 -       Checking if early stopping criteria are met:\n",
            "2020-08-26 12:00:38.754 | DEBUG    | subtest.multi_partner_learning:compute_test_score:197 -          -> Early stopping criteria are not met, continuing with training.\n",
            "2020-08-26 12:00:38.797 | DEBUG    | subtest.multi_partner_learning:compute_collaborative_round_fedavg:259 - Start new fedavg collaborative round ...\n",
            "2020-08-26 12:00:38.799 | DEBUG    | subtest.multi_partner_learning:compute_collaborative_round_fedavg:271 - (fedavg) Minibatch n°0 of epoch n°5, init aggregated model for each partner with models from previous round\n",
            "2020-08-26 12:00:40.066 | DEBUG    | subtest.multi_partner_learning:log_collaborative_round_partner_result:513 - Epoch 05/19 > Minibatch 00/02 > Partner id #0 (0/2) > val_acc: 0.96\n",
            "2020-08-26 12:00:40.928 | DEBUG    | subtest.multi_partner_learning:log_collaborative_round_partner_result:513 - Epoch 05/19 > Minibatch 00/02 > Partner id #1 (1/2) > val_acc: 0.97\n",
            "2020-08-26 12:00:41.777 | DEBUG    | subtest.multi_partner_learning:log_collaborative_round_partner_result:513 - Epoch 05/19 > Minibatch 00/02 > Partner id #2 (2/2) > val_acc: 0.96\n",
            "2020-08-26 12:00:41.784 | DEBUG    | subtest.multi_partner_learning:compute_collaborative_round_fedavg:303 - End of fedavg collaborative round.\n",
            "2020-08-26 12:00:41.785 | DEBUG    | subtest.multi_partner_learning:compute_collaborative_round_fedavg:259 - Start new fedavg collaborative round ...\n",
            "2020-08-26 12:00:41.790 | DEBUG    | subtest.multi_partner_learning:compute_collaborative_round_fedavg:271 - (fedavg) Minibatch n°1 of epoch n°5, init aggregated model for each partner with models from previous round\n",
            "2020-08-26 12:00:43.321 | DEBUG    | subtest.multi_partner_learning:log_collaborative_round_partner_result:513 - Epoch 05/19 > Minibatch 01/02 > Partner id #0 (0/2) > val_acc: 0.95\n",
            "2020-08-26 12:00:44.197 | DEBUG    | subtest.multi_partner_learning:log_collaborative_round_partner_result:513 - Epoch 05/19 > Minibatch 01/02 > Partner id #1 (1/2) > val_acc: 0.96\n",
            "2020-08-26 12:00:45.049 | DEBUG    | subtest.multi_partner_learning:log_collaborative_round_partner_result:513 - Epoch 05/19 > Minibatch 01/02 > Partner id #2 (2/2) > val_acc: 0.95\n",
            "2020-08-26 12:00:45.054 | DEBUG    | subtest.multi_partner_learning:compute_collaborative_round_fedavg:303 - End of fedavg collaborative round.\n",
            "2020-08-26 12:00:45.055 | DEBUG    | subtest.multi_partner_learning:compute_collaborative_round_fedavg:259 - Start new fedavg collaborative round ...\n",
            "2020-08-26 12:00:45.056 | DEBUG    | subtest.multi_partner_learning:compute_collaborative_round_fedavg:271 - (fedavg) Minibatch n°2 of epoch n°5, init aggregated model for each partner with models from previous round\n",
            "2020-08-26 12:00:46.280 | DEBUG    | subtest.multi_partner_learning:log_collaborative_round_partner_result:513 - Epoch 05/19 > Minibatch 02/02 > Partner id #0 (0/2) > val_acc: 0.97\n",
            "2020-08-26 12:00:47.137 | DEBUG    | subtest.multi_partner_learning:log_collaborative_round_partner_result:513 - Epoch 05/19 > Minibatch 02/02 > Partner id #1 (1/2) > val_acc: 0.96\n",
            "2020-08-26 12:00:47.983 | DEBUG    | subtest.multi_partner_learning:log_collaborative_round_partner_result:513 - Epoch 05/19 > Minibatch 02/02 > Partner id #2 (2/2) > val_acc: 0.96\n",
            "2020-08-26 12:00:47.991 | DEBUG    | subtest.multi_partner_learning:compute_collaborative_round_fedavg:303 - End of fedavg collaborative round.\n",
            "2020-08-26 12:00:48.294 | INFO     | subtest.multi_partner_learning:compute_test_score:184 -    Model evaluation at the end of the epoch: ['0.112', '0.966']\n",
            "2020-08-26 12:00:48.296 | DEBUG    | subtest.multi_partner_learning:compute_test_score:187 -       Checking if early stopping criteria are met:\n",
            "2020-08-26 12:00:48.300 | DEBUG    | subtest.multi_partner_learning:compute_test_score:197 -          -> Early stopping criteria are not met, continuing with training.\n",
            "2020-08-26 12:00:48.340 | DEBUG    | subtest.multi_partner_learning:compute_collaborative_round_fedavg:259 - Start new fedavg collaborative round ...\n",
            "2020-08-26 12:00:48.341 | DEBUG    | subtest.multi_partner_learning:compute_collaborative_round_fedavg:271 - (fedavg) Minibatch n°0 of epoch n°6, init aggregated model for each partner with models from previous round\n",
            "2020-08-26 12:00:49.533 | DEBUG    | subtest.multi_partner_learning:log_collaborative_round_partner_result:513 - Epoch 06/19 > Minibatch 00/02 > Partner id #0 (0/2) > val_acc: 0.97\n",
            "2020-08-26 12:00:50.660 | DEBUG    | subtest.multi_partner_learning:log_collaborative_round_partner_result:513 - Epoch 06/19 > Minibatch 00/02 > Partner id #1 (1/2) > val_acc: 0.97\n",
            "2020-08-26 12:00:51.523 | DEBUG    | subtest.multi_partner_learning:log_collaborative_round_partner_result:513 - Epoch 06/19 > Minibatch 00/02 > Partner id #2 (2/2) > val_acc: 0.97\n",
            "2020-08-26 12:00:51.529 | DEBUG    | subtest.multi_partner_learning:compute_collaborative_round_fedavg:303 - End of fedavg collaborative round.\n",
            "2020-08-26 12:00:51.529 | DEBUG    | subtest.multi_partner_learning:compute_collaborative_round_fedavg:259 - Start new fedavg collaborative round ...\n",
            "2020-08-26 12:00:51.533 | DEBUG    | subtest.multi_partner_learning:compute_collaborative_round_fedavg:271 - (fedavg) Minibatch n°1 of epoch n°6, init aggregated model for each partner with models from previous round\n",
            "2020-08-26 12:00:52.756 | DEBUG    | subtest.multi_partner_learning:log_collaborative_round_partner_result:513 - Epoch 06/19 > Minibatch 01/02 > Partner id #0 (0/2) > val_acc: 0.96\n",
            "2020-08-26 12:00:53.618 | DEBUG    | subtest.multi_partner_learning:log_collaborative_round_partner_result:513 - Epoch 06/19 > Minibatch 01/02 > Partner id #1 (1/2) > val_acc: 0.97\n",
            "2020-08-26 12:00:54.471 | DEBUG    | subtest.multi_partner_learning:log_collaborative_round_partner_result:513 - Epoch 06/19 > Minibatch 01/02 > Partner id #2 (2/2) > val_acc: 0.97\n",
            "2020-08-26 12:00:54.479 | DEBUG    | subtest.multi_partner_learning:compute_collaborative_round_fedavg:303 - End of fedavg collaborative round.\n",
            "2020-08-26 12:00:54.482 | DEBUG    | subtest.multi_partner_learning:compute_collaborative_round_fedavg:259 - Start new fedavg collaborative round ...\n",
            "2020-08-26 12:00:54.483 | DEBUG    | subtest.multi_partner_learning:compute_collaborative_round_fedavg:271 - (fedavg) Minibatch n°2 of epoch n°6, init aggregated model for each partner with models from previous round\n",
            "2020-08-26 12:00:55.721 | DEBUG    | subtest.multi_partner_learning:log_collaborative_round_partner_result:513 - Epoch 06/19 > Minibatch 02/02 > Partner id #0 (0/2) > val_acc: 0.97\n",
            "2020-08-26 12:00:56.590 | DEBUG    | subtest.multi_partner_learning:log_collaborative_round_partner_result:513 - Epoch 06/19 > Minibatch 02/02 > Partner id #1 (1/2) > val_acc: 0.96\n",
            "2020-08-26 12:00:57.430 | DEBUG    | subtest.multi_partner_learning:log_collaborative_round_partner_result:513 - Epoch 06/19 > Minibatch 02/02 > Partner id #2 (2/2) > val_acc: 0.97\n",
            "2020-08-26 12:00:57.437 | DEBUG    | subtest.multi_partner_learning:compute_collaborative_round_fedavg:303 - End of fedavg collaborative round.\n",
            "2020-08-26 12:00:57.748 | INFO     | subtest.multi_partner_learning:compute_test_score:184 -    Model evaluation at the end of the epoch: ['0.099', '0.973']\n",
            "2020-08-26 12:00:57.749 | DEBUG    | subtest.multi_partner_learning:compute_test_score:187 -       Checking if early stopping criteria are met:\n",
            "2020-08-26 12:00:57.750 | DEBUG    | subtest.multi_partner_learning:compute_test_score:197 -          -> Early stopping criteria are not met, continuing with training.\n",
            "2020-08-26 12:00:57.791 | DEBUG    | subtest.multi_partner_learning:compute_collaborative_round_fedavg:259 - Start new fedavg collaborative round ...\n",
            "2020-08-26 12:00:57.792 | DEBUG    | subtest.multi_partner_learning:compute_collaborative_round_fedavg:271 - (fedavg) Minibatch n°0 of epoch n°7, init aggregated model for each partner with models from previous round\n",
            "2020-08-26 12:00:59.310 | DEBUG    | subtest.multi_partner_learning:log_collaborative_round_partner_result:513 - Epoch 07/19 > Minibatch 00/02 > Partner id #0 (0/2) > val_acc: 0.96\n",
            "2020-08-26 12:01:00.189 | DEBUG    | subtest.multi_partner_learning:log_collaborative_round_partner_result:513 - Epoch 07/19 > Minibatch 00/02 > Partner id #1 (1/2) > val_acc: 0.97\n",
            "2020-08-26 12:01:01.044 | DEBUG    | subtest.multi_partner_learning:log_collaborative_round_partner_result:513 - Epoch 07/19 > Minibatch 00/02 > Partner id #2 (2/2) > val_acc: 0.96\n",
            "2020-08-26 12:01:01.050 | DEBUG    | subtest.multi_partner_learning:compute_collaborative_round_fedavg:303 - End of fedavg collaborative round.\n",
            "2020-08-26 12:01:01.051 | DEBUG    | subtest.multi_partner_learning:compute_collaborative_round_fedavg:259 - Start new fedavg collaborative round ...\n",
            "2020-08-26 12:01:01.055 | DEBUG    | subtest.multi_partner_learning:compute_collaborative_round_fedavg:271 - (fedavg) Minibatch n°1 of epoch n°7, init aggregated model for each partner with models from previous round\n",
            "2020-08-26 12:01:02.270 | DEBUG    | subtest.multi_partner_learning:log_collaborative_round_partner_result:513 - Epoch 07/19 > Minibatch 01/02 > Partner id #0 (0/2) > val_acc: 0.97\n",
            "2020-08-26 12:01:03.142 | DEBUG    | subtest.multi_partner_learning:log_collaborative_round_partner_result:513 - Epoch 07/19 > Minibatch 01/02 > Partner id #1 (1/2) > val_acc: 0.97\n",
            "2020-08-26 12:01:03.984 | DEBUG    | subtest.multi_partner_learning:log_collaborative_round_partner_result:513 - Epoch 07/19 > Minibatch 01/02 > Partner id #2 (2/2) > val_acc: 0.98\n",
            "2020-08-26 12:01:03.989 | DEBUG    | subtest.multi_partner_learning:compute_collaborative_round_fedavg:303 - End of fedavg collaborative round.\n",
            "2020-08-26 12:01:03.991 | DEBUG    | subtest.multi_partner_learning:compute_collaborative_round_fedavg:259 - Start new fedavg collaborative round ...\n",
            "2020-08-26 12:01:03.992 | DEBUG    | subtest.multi_partner_learning:compute_collaborative_round_fedavg:271 - (fedavg) Minibatch n°2 of epoch n°7, init aggregated model for each partner with models from previous round\n",
            "2020-08-26 12:01:05.207 | DEBUG    | subtest.multi_partner_learning:log_collaborative_round_partner_result:513 - Epoch 07/19 > Minibatch 02/02 > Partner id #0 (0/2) > val_acc: 0.97\n",
            "2020-08-26 12:01:06.281 | DEBUG    | subtest.multi_partner_learning:log_collaborative_round_partner_result:513 - Epoch 07/19 > Minibatch 02/02 > Partner id #1 (1/2) > val_acc: 0.98\n",
            "2020-08-26 12:01:07.139 | DEBUG    | subtest.multi_partner_learning:log_collaborative_round_partner_result:513 - Epoch 07/19 > Minibatch 02/02 > Partner id #2 (2/2) > val_acc: 0.97\n",
            "2020-08-26 12:01:07.145 | DEBUG    | subtest.multi_partner_learning:compute_collaborative_round_fedavg:303 - End of fedavg collaborative round.\n",
            "2020-08-26 12:01:07.453 | INFO     | subtest.multi_partner_learning:compute_test_score:184 -    Model evaluation at the end of the epoch: ['0.082', '0.977']\n",
            "2020-08-26 12:01:07.454 | DEBUG    | subtest.multi_partner_learning:compute_test_score:187 -       Checking if early stopping criteria are met:\n",
            "2020-08-26 12:01:07.458 | DEBUG    | subtest.multi_partner_learning:compute_test_score:197 -          -> Early stopping criteria are not met, continuing with training.\n",
            "2020-08-26 12:01:07.497 | DEBUG    | subtest.multi_partner_learning:compute_collaborative_round_fedavg:259 - Start new fedavg collaborative round ...\n",
            "2020-08-26 12:01:07.498 | DEBUG    | subtest.multi_partner_learning:compute_collaborative_round_fedavg:271 - (fedavg) Minibatch n°0 of epoch n°8, init aggregated model for each partner with models from previous round\n",
            "2020-08-26 12:01:08.717 | DEBUG    | subtest.multi_partner_learning:log_collaborative_round_partner_result:513 - Epoch 08/19 > Minibatch 00/02 > Partner id #0 (0/2) > val_acc: 0.97\n",
            "2020-08-26 12:01:09.574 | DEBUG    | subtest.multi_partner_learning:log_collaborative_round_partner_result:513 - Epoch 08/19 > Minibatch 00/02 > Partner id #1 (1/2) > val_acc: 0.98\n",
            "2020-08-26 12:01:10.475 | DEBUG    | subtest.multi_partner_learning:log_collaborative_round_partner_result:513 - Epoch 08/19 > Minibatch 00/02 > Partner id #2 (2/2) > val_acc: 0.98\n",
            "2020-08-26 12:01:10.482 | DEBUG    | subtest.multi_partner_learning:compute_collaborative_round_fedavg:303 - End of fedavg collaborative round.\n",
            "2020-08-26 12:01:10.483 | DEBUG    | subtest.multi_partner_learning:compute_collaborative_round_fedavg:259 - Start new fedavg collaborative round ...\n",
            "2020-08-26 12:01:10.486 | DEBUG    | subtest.multi_partner_learning:compute_collaborative_round_fedavg:271 - (fedavg) Minibatch n°1 of epoch n°8, init aggregated model for each partner with models from previous round\n",
            "2020-08-26 12:01:11.690 | DEBUG    | subtest.multi_partner_learning:log_collaborative_round_partner_result:513 - Epoch 08/19 > Minibatch 01/02 > Partner id #0 (0/2) > val_acc: 0.97\n",
            "2020-08-26 12:01:12.547 | DEBUG    | subtest.multi_partner_learning:log_collaborative_round_partner_result:513 - Epoch 08/19 > Minibatch 01/02 > Partner id #1 (1/2) > val_acc: 0.97\n",
            "2020-08-26 12:01:13.403 | DEBUG    | subtest.multi_partner_learning:log_collaborative_round_partner_result:513 - Epoch 08/19 > Minibatch 01/02 > Partner id #2 (2/2) > val_acc: 0.98\n",
            "2020-08-26 12:01:13.410 | DEBUG    | subtest.multi_partner_learning:compute_collaborative_round_fedavg:303 - End of fedavg collaborative round.\n",
            "2020-08-26 12:01:13.411 | DEBUG    | subtest.multi_partner_learning:compute_collaborative_round_fedavg:259 - Start new fedavg collaborative round ...\n",
            "2020-08-26 12:01:13.415 | DEBUG    | subtest.multi_partner_learning:compute_collaborative_round_fedavg:271 - (fedavg) Minibatch n°2 of epoch n°8, init aggregated model for each partner with models from previous round\n",
            "2020-08-26 12:01:14.954 | DEBUG    | subtest.multi_partner_learning:log_collaborative_round_partner_result:513 - Epoch 08/19 > Minibatch 02/02 > Partner id #0 (0/2) > val_acc: 0.97\n",
            "2020-08-26 12:01:15.847 | DEBUG    | subtest.multi_partner_learning:log_collaborative_round_partner_result:513 - Epoch 08/19 > Minibatch 02/02 > Partner id #1 (1/2) > val_acc: 0.97\n",
            "2020-08-26 12:01:16.694 | DEBUG    | subtest.multi_partner_learning:log_collaborative_round_partner_result:513 - Epoch 08/19 > Minibatch 02/02 > Partner id #2 (2/2) > val_acc: 0.98\n",
            "2020-08-26 12:01:16.702 | DEBUG    | subtest.multi_partner_learning:compute_collaborative_round_fedavg:303 - End of fedavg collaborative round.\n",
            "2020-08-26 12:01:17.013 | INFO     | subtest.multi_partner_learning:compute_test_score:184 -    Model evaluation at the end of the epoch: ['0.072', '0.979']\n",
            "2020-08-26 12:01:17.014 | DEBUG    | subtest.multi_partner_learning:compute_test_score:187 -       Checking if early stopping criteria are met:\n",
            "2020-08-26 12:01:17.019 | DEBUG    | subtest.multi_partner_learning:compute_test_score:197 -          -> Early stopping criteria are not met, continuing with training.\n",
            "2020-08-26 12:01:17.060 | DEBUG    | subtest.multi_partner_learning:compute_collaborative_round_fedavg:259 - Start new fedavg collaborative round ...\n",
            "2020-08-26 12:01:17.061 | DEBUG    | subtest.multi_partner_learning:compute_collaborative_round_fedavg:271 - (fedavg) Minibatch n°0 of epoch n°9, init aggregated model for each partner with models from previous round\n",
            "2020-08-26 12:01:18.268 | DEBUG    | subtest.multi_partner_learning:log_collaborative_round_partner_result:513 - Epoch 09/19 > Minibatch 00/02 > Partner id #0 (0/2) > val_acc: 0.97\n",
            "2020-08-26 12:01:19.124 | DEBUG    | subtest.multi_partner_learning:log_collaborative_round_partner_result:513 - Epoch 09/19 > Minibatch 00/02 > Partner id #1 (1/2) > val_acc: 0.98\n",
            "2020-08-26 12:01:19.974 | DEBUG    | subtest.multi_partner_learning:log_collaborative_round_partner_result:513 - Epoch 09/19 > Minibatch 00/02 > Partner id #2 (2/2) > val_acc: 0.97\n",
            "2020-08-26 12:01:19.981 | DEBUG    | subtest.multi_partner_learning:compute_collaborative_round_fedavg:303 - End of fedavg collaborative round.\n",
            "2020-08-26 12:01:19.981 | DEBUG    | subtest.multi_partner_learning:compute_collaborative_round_fedavg:259 - Start new fedavg collaborative round ...\n",
            "2020-08-26 12:01:19.983 | DEBUG    | subtest.multi_partner_learning:compute_collaborative_round_fedavg:271 - (fedavg) Minibatch n°1 of epoch n°9, init aggregated model for each partner with models from previous round\n",
            "2020-08-26 12:01:21.203 | DEBUG    | subtest.multi_partner_learning:log_collaborative_round_partner_result:513 - Epoch 09/19 > Minibatch 01/02 > Partner id #0 (0/2) > val_acc: 0.98\n",
            "2020-08-26 12:01:22.061 | DEBUG    | subtest.multi_partner_learning:log_collaborative_round_partner_result:513 - Epoch 09/19 > Minibatch 01/02 > Partner id #1 (1/2) > val_acc: 0.98\n",
            "2020-08-26 12:01:23.188 | DEBUG    | subtest.multi_partner_learning:log_collaborative_round_partner_result:513 - Epoch 09/19 > Minibatch 01/02 > Partner id #2 (2/2) > val_acc: 0.97\n",
            "2020-08-26 12:01:23.194 | DEBUG    | subtest.multi_partner_learning:compute_collaborative_round_fedavg:303 - End of fedavg collaborative round.\n",
            "2020-08-26 12:01:23.195 | DEBUG    | subtest.multi_partner_learning:compute_collaborative_round_fedavg:259 - Start new fedavg collaborative round ...\n",
            "2020-08-26 12:01:23.199 | DEBUG    | subtest.multi_partner_learning:compute_collaborative_round_fedavg:271 - (fedavg) Minibatch n°2 of epoch n°9, init aggregated model for each partner with models from previous round\n",
            "2020-08-26 12:01:24.429 | DEBUG    | subtest.multi_partner_learning:log_collaborative_round_partner_result:513 - Epoch 09/19 > Minibatch 02/02 > Partner id #0 (0/2) > val_acc: 0.98\n",
            "2020-08-26 12:01:25.316 | DEBUG    | subtest.multi_partner_learning:log_collaborative_round_partner_result:513 - Epoch 09/19 > Minibatch 02/02 > Partner id #1 (1/2) > val_acc: 0.98\n",
            "2020-08-26 12:01:26.169 | DEBUG    | subtest.multi_partner_learning:log_collaborative_round_partner_result:513 - Epoch 09/19 > Minibatch 02/02 > Partner id #2 (2/2) > val_acc: 0.98\n",
            "2020-08-26 12:01:26.174 | DEBUG    | subtest.multi_partner_learning:compute_collaborative_round_fedavg:303 - End of fedavg collaborative round.\n",
            "2020-08-26 12:01:26.469 | INFO     | subtest.multi_partner_learning:compute_test_score:184 -    Model evaluation at the end of the epoch: ['0.067', '0.980']\n",
            "2020-08-26 12:01:26.470 | DEBUG    | subtest.multi_partner_learning:compute_test_score:187 -       Checking if early stopping criteria are met:\n",
            "2020-08-26 12:01:26.475 | DEBUG    | subtest.multi_partner_learning:compute_test_score:197 -          -> Early stopping criteria are not met, continuing with training.\n",
            "2020-08-26 12:01:26.514 | DEBUG    | subtest.multi_partner_learning:compute_collaborative_round_fedavg:259 - Start new fedavg collaborative round ...\n",
            "2020-08-26 12:01:26.515 | DEBUG    | subtest.multi_partner_learning:compute_collaborative_round_fedavg:271 - (fedavg) Minibatch n°0 of epoch n°10, init aggregated model for each partner with models from previous round\n",
            "2020-08-26 12:01:27.725 | DEBUG    | subtest.multi_partner_learning:log_collaborative_round_partner_result:513 - Epoch 10/19 > Minibatch 00/02 > Partner id #0 (0/2) > val_acc: 0.97\n",
            "2020-08-26 12:01:28.589 | DEBUG    | subtest.multi_partner_learning:log_collaborative_round_partner_result:513 - Epoch 10/19 > Minibatch 00/02 > Partner id #1 (1/2) > val_acc: 0.98\n",
            "2020-08-26 12:01:29.429 | DEBUG    | subtest.multi_partner_learning:log_collaborative_round_partner_result:513 - Epoch 10/19 > Minibatch 00/02 > Partner id #2 (2/2) > val_acc: 0.98\n",
            "2020-08-26 12:01:29.436 | DEBUG    | subtest.multi_partner_learning:compute_collaborative_round_fedavg:303 - End of fedavg collaborative round.\n",
            "2020-08-26 12:01:29.436 | DEBUG    | subtest.multi_partner_learning:compute_collaborative_round_fedavg:259 - Start new fedavg collaborative round ...\n",
            "2020-08-26 12:01:29.437 | DEBUG    | subtest.multi_partner_learning:compute_collaborative_round_fedavg:271 - (fedavg) Minibatch n°1 of epoch n°10, init aggregated model for each partner with models from previous round\n",
            "2020-08-26 12:01:30.631 | DEBUG    | subtest.multi_partner_learning:log_collaborative_round_partner_result:513 - Epoch 10/19 > Minibatch 01/02 > Partner id #0 (0/2) > val_acc: 0.98\n",
            "2020-08-26 12:01:31.798 | DEBUG    | subtest.multi_partner_learning:log_collaborative_round_partner_result:513 - Epoch 10/19 > Minibatch 01/02 > Partner id #1 (1/2) > val_acc: 0.98\n",
            "2020-08-26 12:01:32.666 | DEBUG    | subtest.multi_partner_learning:log_collaborative_round_partner_result:513 - Epoch 10/19 > Minibatch 01/02 > Partner id #2 (2/2) > val_acc: 0.98\n",
            "2020-08-26 12:01:32.670 | DEBUG    | subtest.multi_partner_learning:compute_collaborative_round_fedavg:303 - End of fedavg collaborative round.\n",
            "2020-08-26 12:01:32.671 | DEBUG    | subtest.multi_partner_learning:compute_collaborative_round_fedavg:259 - Start new fedavg collaborative round ...\n",
            "2020-08-26 12:01:32.672 | DEBUG    | subtest.multi_partner_learning:compute_collaborative_round_fedavg:271 - (fedavg) Minibatch n°2 of epoch n°10, init aggregated model for each partner with models from previous round\n",
            "2020-08-26 12:01:33.906 | DEBUG    | subtest.multi_partner_learning:log_collaborative_round_partner_result:513 - Epoch 10/19 > Minibatch 02/02 > Partner id #0 (0/2) > val_acc: 0.98\n",
            "2020-08-26 12:01:34.774 | DEBUG    | subtest.multi_partner_learning:log_collaborative_round_partner_result:513 - Epoch 10/19 > Minibatch 02/02 > Partner id #1 (1/2) > val_acc: 0.98\n",
            "2020-08-26 12:01:35.634 | DEBUG    | subtest.multi_partner_learning:log_collaborative_round_partner_result:513 - Epoch 10/19 > Minibatch 02/02 > Partner id #2 (2/2) > val_acc: 0.98\n",
            "2020-08-26 12:01:35.641 | DEBUG    | subtest.multi_partner_learning:compute_collaborative_round_fedavg:303 - End of fedavg collaborative round.\n",
            "2020-08-26 12:01:35.941 | INFO     | subtest.multi_partner_learning:compute_test_score:184 -    Model evaluation at the end of the epoch: ['0.058', '0.983']\n",
            "2020-08-26 12:01:35.942 | DEBUG    | subtest.multi_partner_learning:compute_test_score:187 -       Checking if early stopping criteria are met:\n",
            "2020-08-26 12:01:35.946 | DEBUG    | subtest.multi_partner_learning:compute_test_score:197 -          -> Early stopping criteria are not met, continuing with training.\n",
            "2020-08-26 12:01:35.983 | DEBUG    | subtest.multi_partner_learning:compute_collaborative_round_fedavg:259 - Start new fedavg collaborative round ...\n",
            "2020-08-26 12:01:35.984 | DEBUG    | subtest.multi_partner_learning:compute_collaborative_round_fedavg:271 - (fedavg) Minibatch n°0 of epoch n°11, init aggregated model for each partner with models from previous round\n",
            "2020-08-26 12:01:37.211 | DEBUG    | subtest.multi_partner_learning:log_collaborative_round_partner_result:513 - Epoch 11/19 > Minibatch 00/02 > Partner id #0 (0/2) > val_acc: 0.98\n",
            "2020-08-26 12:01:38.083 | DEBUG    | subtest.multi_partner_learning:log_collaborative_round_partner_result:513 - Epoch 11/19 > Minibatch 00/02 > Partner id #1 (1/2) > val_acc: 0.98\n",
            "2020-08-26 12:01:38.925 | DEBUG    | subtest.multi_partner_learning:log_collaborative_round_partner_result:513 - Epoch 11/19 > Minibatch 00/02 > Partner id #2 (2/2) > val_acc: 0.98\n",
            "2020-08-26 12:01:38.932 | DEBUG    | subtest.multi_partner_learning:compute_collaborative_round_fedavg:303 - End of fedavg collaborative round.\n",
            "2020-08-26 12:01:38.933 | DEBUG    | subtest.multi_partner_learning:compute_collaborative_round_fedavg:259 - Start new fedavg collaborative round ...\n",
            "2020-08-26 12:01:38.934 | DEBUG    | subtest.multi_partner_learning:compute_collaborative_round_fedavg:271 - (fedavg) Minibatch n°1 of epoch n°11, init aggregated model for each partner with models from previous round\n",
            "2020-08-26 12:01:40.478 | DEBUG    | subtest.multi_partner_learning:log_collaborative_round_partner_result:513 - Epoch 11/19 > Minibatch 01/02 > Partner id #0 (0/2) > val_acc: 0.98\n",
            "2020-08-26 12:01:41.333 | DEBUG    | subtest.multi_partner_learning:log_collaborative_round_partner_result:513 - Epoch 11/19 > Minibatch 01/02 > Partner id #1 (1/2) > val_acc: 0.98\n",
            "2020-08-26 12:01:42.183 | DEBUG    | subtest.multi_partner_learning:log_collaborative_round_partner_result:513 - Epoch 11/19 > Minibatch 01/02 > Partner id #2 (2/2) > val_acc: 0.98\n",
            "2020-08-26 12:01:42.189 | DEBUG    | subtest.multi_partner_learning:compute_collaborative_round_fedavg:303 - End of fedavg collaborative round.\n",
            "2020-08-26 12:01:42.191 | DEBUG    | subtest.multi_partner_learning:compute_collaborative_round_fedavg:259 - Start new fedavg collaborative round ...\n",
            "2020-08-26 12:01:42.192 | DEBUG    | subtest.multi_partner_learning:compute_collaborative_round_fedavg:271 - (fedavg) Minibatch n°2 of epoch n°11, init aggregated model for each partner with models from previous round\n",
            "2020-08-26 12:01:43.415 | DEBUG    | subtest.multi_partner_learning:log_collaborative_round_partner_result:513 - Epoch 11/19 > Minibatch 02/02 > Partner id #0 (0/2) > val_acc: 0.98\n",
            "2020-08-26 12:01:44.305 | DEBUG    | subtest.multi_partner_learning:log_collaborative_round_partner_result:513 - Epoch 11/19 > Minibatch 02/02 > Partner id #1 (1/2) > val_acc: 0.98\n",
            "2020-08-26 12:01:45.157 | DEBUG    | subtest.multi_partner_learning:log_collaborative_round_partner_result:513 - Epoch 11/19 > Minibatch 02/02 > Partner id #2 (2/2) > val_acc: 0.98\n",
            "2020-08-26 12:01:45.164 | DEBUG    | subtest.multi_partner_learning:compute_collaborative_round_fedavg:303 - End of fedavg collaborative round.\n",
            "2020-08-26 12:01:45.474 | INFO     | subtest.multi_partner_learning:compute_test_score:184 -    Model evaluation at the end of the epoch: ['0.054', '0.985']\n",
            "2020-08-26 12:01:45.475 | DEBUG    | subtest.multi_partner_learning:compute_test_score:187 -       Checking if early stopping criteria are met:\n",
            "2020-08-26 12:01:45.476 | DEBUG    | subtest.multi_partner_learning:compute_test_score:197 -          -> Early stopping criteria are not met, continuing with training.\n",
            "2020-08-26 12:01:45.516 | DEBUG    | subtest.multi_partner_learning:compute_collaborative_round_fedavg:259 - Start new fedavg collaborative round ...\n",
            "2020-08-26 12:01:45.517 | DEBUG    | subtest.multi_partner_learning:compute_collaborative_round_fedavg:271 - (fedavg) Minibatch n°0 of epoch n°12, init aggregated model for each partner with models from previous round\n",
            "2020-08-26 12:01:46.745 | DEBUG    | subtest.multi_partner_learning:log_collaborative_round_partner_result:513 - Epoch 12/19 > Minibatch 00/02 > Partner id #0 (0/2) > val_acc: 0.97\n",
            "2020-08-26 12:01:47.889 | DEBUG    | subtest.multi_partner_learning:log_collaborative_round_partner_result:513 - Epoch 12/19 > Minibatch 00/02 > Partner id #1 (1/2) > val_acc: 0.98\n",
            "2020-08-26 12:01:48.763 | DEBUG    | subtest.multi_partner_learning:log_collaborative_round_partner_result:513 - Epoch 12/19 > Minibatch 00/02 > Partner id #2 (2/2) > val_acc: 0.98\n",
            "2020-08-26 12:01:48.768 | DEBUG    | subtest.multi_partner_learning:compute_collaborative_round_fedavg:303 - End of fedavg collaborative round.\n",
            "2020-08-26 12:01:48.769 | DEBUG    | subtest.multi_partner_learning:compute_collaborative_round_fedavg:259 - Start new fedavg collaborative round ...\n",
            "2020-08-26 12:01:48.771 | DEBUG    | subtest.multi_partner_learning:compute_collaborative_round_fedavg:271 - (fedavg) Minibatch n°1 of epoch n°12, init aggregated model for each partner with models from previous round\n",
            "2020-08-26 12:01:49.991 | DEBUG    | subtest.multi_partner_learning:log_collaborative_round_partner_result:513 - Epoch 12/19 > Minibatch 01/02 > Partner id #0 (0/2) > val_acc: 0.98\n",
            "2020-08-26 12:01:50.865 | DEBUG    | subtest.multi_partner_learning:log_collaborative_round_partner_result:513 - Epoch 12/19 > Minibatch 01/02 > Partner id #1 (1/2) > val_acc: 0.98\n",
            "2020-08-26 12:01:51.731 | DEBUG    | subtest.multi_partner_learning:log_collaborative_round_partner_result:513 - Epoch 12/19 > Minibatch 01/02 > Partner id #2 (2/2) > val_acc: 0.98\n",
            "2020-08-26 12:01:51.737 | DEBUG    | subtest.multi_partner_learning:compute_collaborative_round_fedavg:303 - End of fedavg collaborative round.\n",
            "2020-08-26 12:01:51.737 | DEBUG    | subtest.multi_partner_learning:compute_collaborative_round_fedavg:259 - Start new fedavg collaborative round ...\n",
            "2020-08-26 12:01:51.738 | DEBUG    | subtest.multi_partner_learning:compute_collaborative_round_fedavg:271 - (fedavg) Minibatch n°2 of epoch n°12, init aggregated model for each partner with models from previous round\n",
            "2020-08-26 12:01:52.962 | DEBUG    | subtest.multi_partner_learning:log_collaborative_round_partner_result:513 - Epoch 12/19 > Minibatch 02/02 > Partner id #0 (0/2) > val_acc: 0.98\n",
            "2020-08-26 12:01:53.856 | DEBUG    | subtest.multi_partner_learning:log_collaborative_round_partner_result:513 - Epoch 12/19 > Minibatch 02/02 > Partner id #1 (1/2) > val_acc: 0.98\n",
            "2020-08-26 12:01:54.736 | DEBUG    | subtest.multi_partner_learning:log_collaborative_round_partner_result:513 - Epoch 12/19 > Minibatch 02/02 > Partner id #2 (2/2) > val_acc: 0.98\n",
            "2020-08-26 12:01:54.742 | DEBUG    | subtest.multi_partner_learning:compute_collaborative_round_fedavg:303 - End of fedavg collaborative round.\n",
            "2020-08-26 12:01:55.045 | INFO     | subtest.multi_partner_learning:compute_test_score:184 -    Model evaluation at the end of the epoch: ['0.050', '0.987']\n",
            "2020-08-26 12:01:55.046 | DEBUG    | subtest.multi_partner_learning:compute_test_score:187 -       Checking if early stopping criteria are met:\n",
            "2020-08-26 12:01:55.047 | DEBUG    | subtest.multi_partner_learning:compute_test_score:197 -          -> Early stopping criteria are not met, continuing with training.\n",
            "2020-08-26 12:01:55.089 | DEBUG    | subtest.multi_partner_learning:compute_collaborative_round_fedavg:259 - Start new fedavg collaborative round ...\n",
            "2020-08-26 12:01:55.090 | DEBUG    | subtest.multi_partner_learning:compute_collaborative_round_fedavg:271 - (fedavg) Minibatch n°0 of epoch n°13, init aggregated model for each partner with models from previous round\n",
            "2020-08-26 12:01:56.636 | DEBUG    | subtest.multi_partner_learning:log_collaborative_round_partner_result:513 - Epoch 13/19 > Minibatch 00/02 > Partner id #0 (0/2) > val_acc: 0.98\n",
            "2020-08-26 12:01:57.501 | DEBUG    | subtest.multi_partner_learning:log_collaborative_round_partner_result:513 - Epoch 13/19 > Minibatch 00/02 > Partner id #1 (1/2) > val_acc: 0.98\n",
            "2020-08-26 12:01:58.386 | DEBUG    | subtest.multi_partner_learning:log_collaborative_round_partner_result:513 - Epoch 13/19 > Minibatch 00/02 > Partner id #2 (2/2) > val_acc: 0.98\n",
            "2020-08-26 12:01:58.393 | DEBUG    | subtest.multi_partner_learning:compute_collaborative_round_fedavg:303 - End of fedavg collaborative round.\n",
            "2020-08-26 12:01:58.398 | DEBUG    | subtest.multi_partner_learning:compute_collaborative_round_fedavg:259 - Start new fedavg collaborative round ...\n",
            "2020-08-26 12:01:58.399 | DEBUG    | subtest.multi_partner_learning:compute_collaborative_round_fedavg:271 - (fedavg) Minibatch n°1 of epoch n°13, init aggregated model for each partner with models from previous round\n",
            "2020-08-26 12:01:59.629 | DEBUG    | subtest.multi_partner_learning:log_collaborative_round_partner_result:513 - Epoch 13/19 > Minibatch 01/02 > Partner id #0 (0/2) > val_acc: 0.98\n",
            "2020-08-26 12:02:00.506 | DEBUG    | subtest.multi_partner_learning:log_collaborative_round_partner_result:513 - Epoch 13/19 > Minibatch 01/02 > Partner id #1 (1/2) > val_acc: 0.98\n",
            "2020-08-26 12:02:01.371 | DEBUG    | subtest.multi_partner_learning:log_collaborative_round_partner_result:513 - Epoch 13/19 > Minibatch 01/02 > Partner id #2 (2/2) > val_acc: 0.98\n",
            "2020-08-26 12:02:01.378 | DEBUG    | subtest.multi_partner_learning:compute_collaborative_round_fedavg:303 - End of fedavg collaborative round.\n",
            "2020-08-26 12:02:01.379 | DEBUG    | subtest.multi_partner_learning:compute_collaborative_round_fedavg:259 - Start new fedavg collaborative round ...\n",
            "2020-08-26 12:02:01.383 | DEBUG    | subtest.multi_partner_learning:compute_collaborative_round_fedavg:271 - (fedavg) Minibatch n°2 of epoch n°13, init aggregated model for each partner with models from previous round\n",
            "2020-08-26 12:02:02.623 | DEBUG    | subtest.multi_partner_learning:log_collaborative_round_partner_result:513 - Epoch 13/19 > Minibatch 02/02 > Partner id #0 (0/2) > val_acc: 0.98\n",
            "2020-08-26 12:02:03.718 | DEBUG    | subtest.multi_partner_learning:log_collaborative_round_partner_result:513 - Epoch 13/19 > Minibatch 02/02 > Partner id #1 (1/2) > val_acc: 0.98\n",
            "2020-08-26 12:02:04.602 | DEBUG    | subtest.multi_partner_learning:log_collaborative_round_partner_result:513 - Epoch 13/19 > Minibatch 02/02 > Partner id #2 (2/2) > val_acc: 0.98\n",
            "2020-08-26 12:02:04.609 | DEBUG    | subtest.multi_partner_learning:compute_collaborative_round_fedavg:303 - End of fedavg collaborative round.\n",
            "2020-08-26 12:02:04.915 | INFO     | subtest.multi_partner_learning:compute_test_score:184 -    Model evaluation at the end of the epoch: ['0.050', '0.986']\n",
            "2020-08-26 12:02:04.916 | DEBUG    | subtest.multi_partner_learning:compute_test_score:187 -       Checking if early stopping criteria are met:\n",
            "2020-08-26 12:02:04.921 | DEBUG    | subtest.multi_partner_learning:compute_test_score:197 -          -> Early stopping criteria are not met, continuing with training.\n",
            "2020-08-26 12:02:04.961 | DEBUG    | subtest.multi_partner_learning:compute_collaborative_round_fedavg:259 - Start new fedavg collaborative round ...\n",
            "2020-08-26 12:02:04.962 | DEBUG    | subtest.multi_partner_learning:compute_collaborative_round_fedavg:271 - (fedavg) Minibatch n°0 of epoch n°14, init aggregated model for each partner with models from previous round\n",
            "2020-08-26 12:02:06.158 | DEBUG    | subtest.multi_partner_learning:log_collaborative_round_partner_result:513 - Epoch 14/19 > Minibatch 00/02 > Partner id #0 (0/2) > val_acc: 0.98\n",
            "2020-08-26 12:02:07.020 | DEBUG    | subtest.multi_partner_learning:log_collaborative_round_partner_result:513 - Epoch 14/19 > Minibatch 00/02 > Partner id #1 (1/2) > val_acc: 0.98\n",
            "2020-08-26 12:02:07.877 | DEBUG    | subtest.multi_partner_learning:log_collaborative_round_partner_result:513 - Epoch 14/19 > Minibatch 00/02 > Partner id #2 (2/2) > val_acc: 0.98\n",
            "2020-08-26 12:02:07.884 | DEBUG    | subtest.multi_partner_learning:compute_collaborative_round_fedavg:303 - End of fedavg collaborative round.\n",
            "2020-08-26 12:02:07.885 | DEBUG    | subtest.multi_partner_learning:compute_collaborative_round_fedavg:259 - Start new fedavg collaborative round ...\n",
            "2020-08-26 12:02:07.889 | DEBUG    | subtest.multi_partner_learning:compute_collaborative_round_fedavg:271 - (fedavg) Minibatch n°1 of epoch n°14, init aggregated model for each partner with models from previous round\n",
            "2020-08-26 12:02:09.114 | DEBUG    | subtest.multi_partner_learning:log_collaborative_round_partner_result:513 - Epoch 14/19 > Minibatch 01/02 > Partner id #0 (0/2) > val_acc: 0.98\n",
            "2020-08-26 12:02:09.969 | DEBUG    | subtest.multi_partner_learning:log_collaborative_round_partner_result:513 - Epoch 14/19 > Minibatch 01/02 > Partner id #1 (1/2) > val_acc: 0.98\n",
            "2020-08-26 12:02:10.804 | DEBUG    | subtest.multi_partner_learning:log_collaborative_round_partner_result:513 - Epoch 14/19 > Minibatch 01/02 > Partner id #2 (2/2) > val_acc: 0.98\n",
            "2020-08-26 12:02:10.810 | DEBUG    | subtest.multi_partner_learning:compute_collaborative_round_fedavg:303 - End of fedavg collaborative round.\n",
            "2020-08-26 12:02:10.811 | DEBUG    | subtest.multi_partner_learning:compute_collaborative_round_fedavg:259 - Start new fedavg collaborative round ...\n",
            "2020-08-26 12:02:10.813 | DEBUG    | subtest.multi_partner_learning:compute_collaborative_round_fedavg:271 - (fedavg) Minibatch n°2 of epoch n°14, init aggregated model for each partner with models from previous round\n",
            "2020-08-26 12:02:12.354 | DEBUG    | subtest.multi_partner_learning:log_collaborative_round_partner_result:513 - Epoch 14/19 > Minibatch 02/02 > Partner id #0 (0/2) > val_acc: 0.98\n",
            "2020-08-26 12:02:13.236 | DEBUG    | subtest.multi_partner_learning:log_collaborative_round_partner_result:513 - Epoch 14/19 > Minibatch 02/02 > Partner id #1 (1/2) > val_acc: 0.98\n",
            "2020-08-26 12:02:14.088 | DEBUG    | subtest.multi_partner_learning:log_collaborative_round_partner_result:513 - Epoch 14/19 > Minibatch 02/02 > Partner id #2 (2/2) > val_acc: 0.98\n",
            "2020-08-26 12:02:14.094 | DEBUG    | subtest.multi_partner_learning:compute_collaborative_round_fedavg:303 - End of fedavg collaborative round.\n",
            "2020-08-26 12:02:14.391 | INFO     | subtest.multi_partner_learning:compute_test_score:184 -    Model evaluation at the end of the epoch: ['0.048', '0.986']\n",
            "2020-08-26 12:02:14.392 | DEBUG    | subtest.multi_partner_learning:compute_test_score:187 -       Checking if early stopping criteria are met:\n",
            "2020-08-26 12:02:14.396 | DEBUG    | subtest.multi_partner_learning:compute_test_score:197 -          -> Early stopping criteria are not met, continuing with training.\n",
            "2020-08-26 12:02:14.434 | DEBUG    | subtest.multi_partner_learning:compute_collaborative_round_fedavg:259 - Start new fedavg collaborative round ...\n",
            "2020-08-26 12:02:14.434 | DEBUG    | subtest.multi_partner_learning:compute_collaborative_round_fedavg:271 - (fedavg) Minibatch n°0 of epoch n°15, init aggregated model for each partner with models from previous round\n",
            "2020-08-26 12:02:15.660 | DEBUG    | subtest.multi_partner_learning:log_collaborative_round_partner_result:513 - Epoch 15/19 > Minibatch 00/02 > Partner id #0 (0/2) > val_acc: 0.98\n",
            "2020-08-26 12:02:16.519 | DEBUG    | subtest.multi_partner_learning:log_collaborative_round_partner_result:513 - Epoch 15/19 > Minibatch 00/02 > Partner id #1 (1/2) > val_acc: 0.98\n",
            "2020-08-26 12:02:17.364 | DEBUG    | subtest.multi_partner_learning:log_collaborative_round_partner_result:513 - Epoch 15/19 > Minibatch 00/02 > Partner id #2 (2/2) > val_acc: 0.98\n",
            "2020-08-26 12:02:17.374 | DEBUG    | subtest.multi_partner_learning:compute_collaborative_round_fedavg:303 - End of fedavg collaborative round.\n",
            "2020-08-26 12:02:17.375 | DEBUG    | subtest.multi_partner_learning:compute_collaborative_round_fedavg:259 - Start new fedavg collaborative round ...\n",
            "2020-08-26 12:02:17.377 | DEBUG    | subtest.multi_partner_learning:compute_collaborative_round_fedavg:271 - (fedavg) Minibatch n°1 of epoch n°15, init aggregated model for each partner with models from previous round\n",
            "2020-08-26 12:02:18.596 | DEBUG    | subtest.multi_partner_learning:log_collaborative_round_partner_result:513 - Epoch 15/19 > Minibatch 01/02 > Partner id #0 (0/2) > val_acc: 0.98\n",
            "2020-08-26 12:02:19.453 | DEBUG    | subtest.multi_partner_learning:log_collaborative_round_partner_result:513 - Epoch 15/19 > Minibatch 01/02 > Partner id #1 (1/2) > val_acc: 0.99\n",
            "2020-08-26 12:02:20.580 | DEBUG    | subtest.multi_partner_learning:log_collaborative_round_partner_result:513 - Epoch 15/19 > Minibatch 01/02 > Partner id #2 (2/2) > val_acc: 0.98\n",
            "2020-08-26 12:02:20.587 | DEBUG    | subtest.multi_partner_learning:compute_collaborative_round_fedavg:303 - End of fedavg collaborative round.\n",
            "2020-08-26 12:02:20.587 | DEBUG    | subtest.multi_partner_learning:compute_collaborative_round_fedavg:259 - Start new fedavg collaborative round ...\n",
            "2020-08-26 12:02:20.592 | DEBUG    | subtest.multi_partner_learning:compute_collaborative_round_fedavg:271 - (fedavg) Minibatch n°2 of epoch n°15, init aggregated model for each partner with models from previous round\n",
            "2020-08-26 12:02:21.804 | DEBUG    | subtest.multi_partner_learning:log_collaborative_round_partner_result:513 - Epoch 15/19 > Minibatch 02/02 > Partner id #0 (0/2) > val_acc: 0.98\n",
            "2020-08-26 12:02:22.669 | DEBUG    | subtest.multi_partner_learning:log_collaborative_round_partner_result:513 - Epoch 15/19 > Minibatch 02/02 > Partner id #1 (1/2) > val_acc: 0.98\n",
            "2020-08-26 12:02:23.524 | DEBUG    | subtest.multi_partner_learning:log_collaborative_round_partner_result:513 - Epoch 15/19 > Minibatch 02/02 > Partner id #2 (2/2) > val_acc: 0.98\n",
            "2020-08-26 12:02:23.530 | DEBUG    | subtest.multi_partner_learning:compute_collaborative_round_fedavg:303 - End of fedavg collaborative round.\n",
            "2020-08-26 12:02:23.841 | INFO     | subtest.multi_partner_learning:compute_test_score:184 -    Model evaluation at the end of the epoch: ['0.043', '0.987']\n",
            "2020-08-26 12:02:23.842 | DEBUG    | subtest.multi_partner_learning:compute_test_score:187 -       Checking if early stopping criteria are met:\n",
            "2020-08-26 12:02:23.847 | DEBUG    | subtest.multi_partner_learning:compute_test_score:197 -          -> Early stopping criteria are not met, continuing with training.\n",
            "2020-08-26 12:02:23.886 | DEBUG    | subtest.multi_partner_learning:compute_collaborative_round_fedavg:259 - Start new fedavg collaborative round ...\n",
            "2020-08-26 12:02:23.887 | DEBUG    | subtest.multi_partner_learning:compute_collaborative_round_fedavg:271 - (fedavg) Minibatch n°0 of epoch n°16, init aggregated model for each partner with models from previous round\n",
            "2020-08-26 12:02:25.128 | DEBUG    | subtest.multi_partner_learning:log_collaborative_round_partner_result:513 - Epoch 16/19 > Minibatch 00/02 > Partner id #0 (0/2) > val_acc: 0.98\n",
            "2020-08-26 12:02:26.005 | DEBUG    | subtest.multi_partner_learning:log_collaborative_round_partner_result:513 - Epoch 16/19 > Minibatch 00/02 > Partner id #1 (1/2) > val_acc: 0.98\n",
            "2020-08-26 12:02:26.858 | DEBUG    | subtest.multi_partner_learning:log_collaborative_round_partner_result:513 - Epoch 16/19 > Minibatch 00/02 > Partner id #2 (2/2) > val_acc: 0.99\n",
            "2020-08-26 12:02:26.865 | DEBUG    | subtest.multi_partner_learning:compute_collaborative_round_fedavg:303 - End of fedavg collaborative round.\n",
            "2020-08-26 12:02:26.866 | DEBUG    | subtest.multi_partner_learning:compute_collaborative_round_fedavg:259 - Start new fedavg collaborative round ...\n",
            "2020-08-26 12:02:26.869 | DEBUG    | subtest.multi_partner_learning:compute_collaborative_round_fedavg:271 - (fedavg) Minibatch n°1 of epoch n°16, init aggregated model for each partner with models from previous round\n",
            "2020-08-26 12:02:28.076 | DEBUG    | subtest.multi_partner_learning:log_collaborative_round_partner_result:513 - Epoch 16/19 > Minibatch 01/02 > Partner id #0 (0/2) > val_acc: 0.98\n",
            "2020-08-26 12:02:29.259 | DEBUG    | subtest.multi_partner_learning:log_collaborative_round_partner_result:513 - Epoch 16/19 > Minibatch 01/02 > Partner id #1 (1/2) > val_acc: 0.98\n",
            "2020-08-26 12:02:30.109 | DEBUG    | subtest.multi_partner_learning:log_collaborative_round_partner_result:513 - Epoch 16/19 > Minibatch 01/02 > Partner id #2 (2/2) > val_acc: 0.99\n",
            "2020-08-26 12:02:30.116 | DEBUG    | subtest.multi_partner_learning:compute_collaborative_round_fedavg:303 - End of fedavg collaborative round.\n",
            "2020-08-26 12:02:30.117 | DEBUG    | subtest.multi_partner_learning:compute_collaborative_round_fedavg:259 - Start new fedavg collaborative round ...\n",
            "2020-08-26 12:02:30.117 | DEBUG    | subtest.multi_partner_learning:compute_collaborative_round_fedavg:271 - (fedavg) Minibatch n°2 of epoch n°16, init aggregated model for each partner with models from previous round\n",
            "2020-08-26 12:02:31.336 | DEBUG    | subtest.multi_partner_learning:log_collaborative_round_partner_result:513 - Epoch 16/19 > Minibatch 02/02 > Partner id #0 (0/2) > val_acc: 0.98\n",
            "2020-08-26 12:02:32.196 | DEBUG    | subtest.multi_partner_learning:log_collaborative_round_partner_result:513 - Epoch 16/19 > Minibatch 02/02 > Partner id #1 (1/2) > val_acc: 0.99\n",
            "2020-08-26 12:02:33.047 | DEBUG    | subtest.multi_partner_learning:log_collaborative_round_partner_result:513 - Epoch 16/19 > Minibatch 02/02 > Partner id #2 (2/2) > val_acc: 0.99\n",
            "2020-08-26 12:02:33.054 | DEBUG    | subtest.multi_partner_learning:compute_collaborative_round_fedavg:303 - End of fedavg collaborative round.\n",
            "2020-08-26 12:02:33.351 | INFO     | subtest.multi_partner_learning:compute_test_score:184 -    Model evaluation at the end of the epoch: ['0.049', '0.986']\n",
            "2020-08-26 12:02:33.352 | DEBUG    | subtest.multi_partner_learning:compute_test_score:187 -       Checking if early stopping criteria are met:\n",
            "2020-08-26 12:02:33.353 | DEBUG    | subtest.multi_partner_learning:compute_test_score:197 -          -> Early stopping criteria are not met, continuing with training.\n",
            "2020-08-26 12:02:33.391 | DEBUG    | subtest.multi_partner_learning:compute_collaborative_round_fedavg:259 - Start new fedavg collaborative round ...\n",
            "2020-08-26 12:02:33.391 | DEBUG    | subtest.multi_partner_learning:compute_collaborative_round_fedavg:271 - (fedavg) Minibatch n°0 of epoch n°17, init aggregated model for each partner with models from previous round\n",
            "2020-08-26 12:02:34.590 | DEBUG    | subtest.multi_partner_learning:log_collaborative_round_partner_result:513 - Epoch 17/19 > Minibatch 00/02 > Partner id #0 (0/2) > val_acc: 0.98\n",
            "2020-08-26 12:02:35.468 | DEBUG    | subtest.multi_partner_learning:log_collaborative_round_partner_result:513 - Epoch 17/19 > Minibatch 00/02 > Partner id #1 (1/2) > val_acc: 0.98\n",
            "2020-08-26 12:02:36.326 | DEBUG    | subtest.multi_partner_learning:log_collaborative_round_partner_result:513 - Epoch 17/19 > Minibatch 00/02 > Partner id #2 (2/2) > val_acc: 0.98\n",
            "2020-08-26 12:02:36.333 | DEBUG    | subtest.multi_partner_learning:compute_collaborative_round_fedavg:303 - End of fedavg collaborative round.\n",
            "2020-08-26 12:02:36.334 | DEBUG    | subtest.multi_partner_learning:compute_collaborative_round_fedavg:259 - Start new fedavg collaborative round ...\n",
            "2020-08-26 12:02:36.335 | DEBUG    | subtest.multi_partner_learning:compute_collaborative_round_fedavg:271 - (fedavg) Minibatch n°1 of epoch n°17, init aggregated model for each partner with models from previous round\n",
            "2020-08-26 12:02:37.877 | DEBUG    | subtest.multi_partner_learning:log_collaborative_round_partner_result:513 - Epoch 17/19 > Minibatch 01/02 > Partner id #0 (0/2) > val_acc: 0.98\n",
            "2020-08-26 12:02:38.759 | DEBUG    | subtest.multi_partner_learning:log_collaborative_round_partner_result:513 - Epoch 17/19 > Minibatch 01/02 > Partner id #1 (1/2) > val_acc: 0.99\n",
            "2020-08-26 12:02:39.600 | DEBUG    | subtest.multi_partner_learning:log_collaborative_round_partner_result:513 - Epoch 17/19 > Minibatch 01/02 > Partner id #2 (2/2) > val_acc: 0.98\n",
            "2020-08-26 12:02:39.607 | DEBUG    | subtest.multi_partner_learning:compute_collaborative_round_fedavg:303 - End of fedavg collaborative round.\n",
            "2020-08-26 12:02:39.608 | DEBUG    | subtest.multi_partner_learning:compute_collaborative_round_fedavg:259 - Start new fedavg collaborative round ...\n",
            "2020-08-26 12:02:39.609 | DEBUG    | subtest.multi_partner_learning:compute_collaborative_round_fedavg:271 - (fedavg) Minibatch n°2 of epoch n°17, init aggregated model for each partner with models from previous round\n",
            "2020-08-26 12:02:40.819 | DEBUG    | subtest.multi_partner_learning:log_collaborative_round_partner_result:513 - Epoch 17/19 > Minibatch 02/02 > Partner id #0 (0/2) > val_acc: 0.98\n",
            "2020-08-26 12:02:41.693 | DEBUG    | subtest.multi_partner_learning:log_collaborative_round_partner_result:513 - Epoch 17/19 > Minibatch 02/02 > Partner id #1 (1/2) > val_acc: 0.98\n",
            "2020-08-26 12:02:42.540 | DEBUG    | subtest.multi_partner_learning:log_collaborative_round_partner_result:513 - Epoch 17/19 > Minibatch 02/02 > Partner id #2 (2/2) > val_acc: 0.98\n",
            "2020-08-26 12:02:42.547 | DEBUG    | subtest.multi_partner_learning:compute_collaborative_round_fedavg:303 - End of fedavg collaborative round.\n",
            "2020-08-26 12:02:42.847 | INFO     | subtest.multi_partner_learning:compute_test_score:184 -    Model evaluation at the end of the epoch: ['0.046', '0.987']\n",
            "2020-08-26 12:02:42.848 | DEBUG    | subtest.multi_partner_learning:compute_test_score:187 -       Checking if early stopping criteria are met:\n",
            "2020-08-26 12:02:42.853 | DEBUG    | subtest.multi_partner_learning:compute_test_score:197 -          -> Early stopping criteria are not met, continuing with training.\n",
            "2020-08-26 12:02:42.892 | DEBUG    | subtest.multi_partner_learning:compute_collaborative_round_fedavg:259 - Start new fedavg collaborative round ...\n",
            "2020-08-26 12:02:42.893 | DEBUG    | subtest.multi_partner_learning:compute_collaborative_round_fedavg:271 - (fedavg) Minibatch n°0 of epoch n°18, init aggregated model for each partner with models from previous round\n",
            "2020-08-26 12:02:44.085 | DEBUG    | subtest.multi_partner_learning:log_collaborative_round_partner_result:513 - Epoch 18/19 > Minibatch 00/02 > Partner id #0 (0/2) > val_acc: 0.98\n",
            "2020-08-26 12:02:45.227 | DEBUG    | subtest.multi_partner_learning:log_collaborative_round_partner_result:513 - Epoch 18/19 > Minibatch 00/02 > Partner id #1 (1/2) > val_acc: 0.99\n",
            "2020-08-26 12:02:46.125 | DEBUG    | subtest.multi_partner_learning:log_collaborative_round_partner_result:513 - Epoch 18/19 > Minibatch 00/02 > Partner id #2 (2/2) > val_acc: 0.99\n",
            "2020-08-26 12:02:46.131 | DEBUG    | subtest.multi_partner_learning:compute_collaborative_round_fedavg:303 - End of fedavg collaborative round.\n",
            "2020-08-26 12:02:46.132 | DEBUG    | subtest.multi_partner_learning:compute_collaborative_round_fedavg:259 - Start new fedavg collaborative round ...\n",
            "2020-08-26 12:02:46.133 | DEBUG    | subtest.multi_partner_learning:compute_collaborative_round_fedavg:271 - (fedavg) Minibatch n°1 of epoch n°18, init aggregated model for each partner with models from previous round\n",
            "2020-08-26 12:02:47.351 | DEBUG    | subtest.multi_partner_learning:log_collaborative_round_partner_result:513 - Epoch 18/19 > Minibatch 01/02 > Partner id #0 (0/2) > val_acc: 0.98\n",
            "2020-08-26 12:02:48.214 | DEBUG    | subtest.multi_partner_learning:log_collaborative_round_partner_result:513 - Epoch 18/19 > Minibatch 01/02 > Partner id #1 (1/2) > val_acc: 0.99\n",
            "2020-08-26 12:02:49.068 | DEBUG    | subtest.multi_partner_learning:log_collaborative_round_partner_result:513 - Epoch 18/19 > Minibatch 01/02 > Partner id #2 (2/2) > val_acc: 0.98\n",
            "2020-08-26 12:02:49.074 | DEBUG    | subtest.multi_partner_learning:compute_collaborative_round_fedavg:303 - End of fedavg collaborative round.\n",
            "2020-08-26 12:02:49.075 | DEBUG    | subtest.multi_partner_learning:compute_collaborative_round_fedavg:259 - Start new fedavg collaborative round ...\n",
            "2020-08-26 12:02:49.079 | DEBUG    | subtest.multi_partner_learning:compute_collaborative_round_fedavg:271 - (fedavg) Minibatch n°2 of epoch n°18, init aggregated model for each partner with models from previous round\n",
            "2020-08-26 12:02:50.277 | DEBUG    | subtest.multi_partner_learning:log_collaborative_round_partner_result:513 - Epoch 18/19 > Minibatch 02/02 > Partner id #0 (0/2) > val_acc: 0.98\n",
            "2020-08-26 12:02:51.138 | DEBUG    | subtest.multi_partner_learning:log_collaborative_round_partner_result:513 - Epoch 18/19 > Minibatch 02/02 > Partner id #1 (1/2) > val_acc: 0.99\n",
            "2020-08-26 12:02:51.976 | DEBUG    | subtest.multi_partner_learning:log_collaborative_round_partner_result:513 - Epoch 18/19 > Minibatch 02/02 > Partner id #2 (2/2) > val_acc: 0.99\n",
            "2020-08-26 12:02:51.982 | DEBUG    | subtest.multi_partner_learning:compute_collaborative_round_fedavg:303 - End of fedavg collaborative round.\n",
            "2020-08-26 12:02:52.275 | INFO     | subtest.multi_partner_learning:compute_test_score:184 -    Model evaluation at the end of the epoch: ['0.041', '0.989']\n",
            "2020-08-26 12:02:52.276 | DEBUG    | subtest.multi_partner_learning:compute_test_score:187 -       Checking if early stopping criteria are met:\n",
            "2020-08-26 12:02:52.277 | DEBUG    | subtest.multi_partner_learning:compute_test_score:197 -          -> Early stopping criteria are not met, continuing with training.\n",
            "2020-08-26 12:02:52.316 | DEBUG    | subtest.multi_partner_learning:compute_collaborative_round_fedavg:259 - Start new fedavg collaborative round ...\n",
            "2020-08-26 12:02:52.317 | DEBUG    | subtest.multi_partner_learning:compute_collaborative_round_fedavg:271 - (fedavg) Minibatch n°0 of epoch n°19, init aggregated model for each partner with models from previous round\n",
            "2020-08-26 12:02:53.844 | DEBUG    | subtest.multi_partner_learning:log_collaborative_round_partner_result:513 - Epoch 19/19 > Minibatch 00/02 > Partner id #0 (0/2) > val_acc: 0.98\n",
            "2020-08-26 12:02:54.707 | DEBUG    | subtest.multi_partner_learning:log_collaborative_round_partner_result:513 - Epoch 19/19 > Minibatch 00/02 > Partner id #1 (1/2) > val_acc: 0.98\n",
            "2020-08-26 12:02:55.558 | DEBUG    | subtest.multi_partner_learning:log_collaborative_round_partner_result:513 - Epoch 19/19 > Minibatch 00/02 > Partner id #2 (2/2) > val_acc: 0.98\n",
            "2020-08-26 12:02:55.562 | DEBUG    | subtest.multi_partner_learning:compute_collaborative_round_fedavg:303 - End of fedavg collaborative round.\n",
            "2020-08-26 12:02:55.564 | DEBUG    | subtest.multi_partner_learning:compute_collaborative_round_fedavg:259 - Start new fedavg collaborative round ...\n",
            "2020-08-26 12:02:55.565 | DEBUG    | subtest.multi_partner_learning:compute_collaborative_round_fedavg:271 - (fedavg) Minibatch n°1 of epoch n°19, init aggregated model for each partner with models from previous round\n",
            "2020-08-26 12:02:56.788 | DEBUG    | subtest.multi_partner_learning:log_collaborative_round_partner_result:513 - Epoch 19/19 > Minibatch 01/02 > Partner id #0 (0/2) > val_acc: 0.98\n",
            "2020-08-26 12:02:57.641 | DEBUG    | subtest.multi_partner_learning:log_collaborative_round_partner_result:513 - Epoch 19/19 > Minibatch 01/02 > Partner id #1 (1/2) > val_acc: 0.99\n",
            "2020-08-26 12:02:58.491 | DEBUG    | subtest.multi_partner_learning:log_collaborative_round_partner_result:513 - Epoch 19/19 > Minibatch 01/02 > Partner id #2 (2/2) > val_acc: 0.98\n",
            "2020-08-26 12:02:58.496 | DEBUG    | subtest.multi_partner_learning:compute_collaborative_round_fedavg:303 - End of fedavg collaborative round.\n",
            "2020-08-26 12:02:58.498 | DEBUG    | subtest.multi_partner_learning:compute_collaborative_round_fedavg:259 - Start new fedavg collaborative round ...\n",
            "2020-08-26 12:02:58.502 | DEBUG    | subtest.multi_partner_learning:compute_collaborative_round_fedavg:271 - (fedavg) Minibatch n°2 of epoch n°19, init aggregated model for each partner with models from previous round\n",
            "2020-08-26 12:02:59.709 | DEBUG    | subtest.multi_partner_learning:log_collaborative_round_partner_result:513 - Epoch 19/19 > Minibatch 02/02 > Partner id #0 (0/2) > val_acc: 0.98\n",
            "2020-08-26 12:03:00.793 | DEBUG    | subtest.multi_partner_learning:log_collaborative_round_partner_result:513 - Epoch 19/19 > Minibatch 02/02 > Partner id #1 (1/2) > val_acc: 0.98\n",
            "2020-08-26 12:03:01.667 | DEBUG    | subtest.multi_partner_learning:log_collaborative_round_partner_result:513 - Epoch 19/19 > Minibatch 02/02 > Partner id #2 (2/2) > val_acc: 0.98\n",
            "2020-08-26 12:03:01.674 | DEBUG    | subtest.multi_partner_learning:compute_collaborative_round_fedavg:303 - End of fedavg collaborative round.\n",
            "2020-08-26 12:03:01.986 | INFO     | subtest.multi_partner_learning:compute_test_score:184 -    Model evaluation at the end of the epoch: ['0.049', '0.986']\n",
            "2020-08-26 12:03:01.987 | DEBUG    | subtest.multi_partner_learning:compute_test_score:187 -       Checking if early stopping criteria are met:\n",
            "2020-08-26 12:03:01.991 | DEBUG    | subtest.multi_partner_learning:compute_test_score:197 -          -> Early stopping criteria are not met, continuing with training.\n",
            "2020-08-26 12:03:01.992 | INFO     | subtest.multi_partner_learning:compute_test_score:200 - ### Evaluating model on test data:\n",
            "2020-08-26 12:03:02.130 | INFO     | subtest.multi_partner_learning:compute_test_score:203 -    Model metrics names: ['loss', 'accuracy']\n",
            "2020-08-26 12:03:02.131 | INFO     | subtest.multi_partner_learning:compute_test_score:204 -    Model metrics values: ['0.041', '0.986']\n",
            "2020-08-26 12:03:02.482 | INFO     | subtest.multi_partner_learning:compute_test_score:212 - Training and evaluation on multiple partners: done.\n"
          ],
          "name": "stderr"
        },
        {
          "output_type": "execute_result",
          "data": {
            "text/plain": [
              "0"
            ]
          },
          "metadata": {
            "tags": []
          },
          "execution_count": 4
        }
      ]
    },
    {
      "cell_type": "markdown",
      "metadata": {
        "id": "zEmFZtrpoRAs",
        "colab_type": "text"
      },
      "source": [
        "## Let's play  a bit more with the results\n",
        "\n",
        "First, let's see how our loss behaves"
      ]
    },
    {
      "cell_type": "code",
      "metadata": {
        "id": "RHsK2_fnoRAt",
        "colab_type": "code",
        "colab": {
          "base_uri": "https://localhost:8080/",
          "height": 54
        },
        "outputId": "45639432-4fb0-49fc-cfa4-bbc2b7c2cd87"
      },
      "source": [
        "losses = current_scenario.mpl.loss_collective_models\n",
        "print(losses)"
      ],
      "execution_count": 5,
      "outputs": [
        {
          "output_type": "stream",
          "text": [
            "[0.7246013363202413, 0.4239598858356476, 0.29185992566744484, 0.17471819365024566, 0.13561829618612925, 0.11245284730196, 0.09873731760183971, 0.08153030655781428, 0.07199945332606633, 0.06661586263775826, 0.057607334246238075, 0.05434472371637821, 0.050003364970286686, 0.050359763503074646, 0.04793964476386706, 0.042741909022132554, 0.04883911690115929, 0.045783267865578334, 0.041294588242967924, 0.049410043726364775]\n"
          ],
          "name": "stdout"
        }
      ]
    },
    {
      "cell_type": "code",
      "metadata": {
        "id": "_av7AIKIoRAv",
        "colab_type": "code",
        "colab": {
          "base_uri": "https://localhost:8080/",
          "height": 286
        },
        "outputId": "2ceb09f6-a143-44c0-84ae-1457b53f7969"
      },
      "source": [
        "x = range(len(losses))\n",
        "y = losses\n",
        "\n",
        "sns.lineplot(x=x, y=y)        "
      ],
      "execution_count": 6,
      "outputs": [
        {
          "output_type": "execute_result",
          "data": {
            "text/plain": [
              "<matplotlib.axes._subplots.AxesSubplot at 0x7ff18c697208>"
            ]
          },
          "metadata": {
            "tags": []
          },
          "execution_count": 6
        },
        {
          "output_type": "display_data",
          "data": {
            "image/png": "[encoded data removed]",
            "text/plain": [
              "<Figure size 432x288 with 1 Axes>"
            ]
          },
          "metadata": {
            "tags": []
          }
        }
      ]
    },
    {
      "cell_type": "markdown",
      "metadata": {
        "id": "ySFRWk45oRAx",
        "colab_type": "text"
      },
      "source": [
        "### Let's see how our accuracy score goes between each partner and compare it with aggregated model performance\n",
        "\n",
        "First, let's see every accuracy value on each minibatch, for each partner on epoch 1-3"
      ]
    },
    {
      "cell_type": "code",
      "metadata": {
        "id": "BLGwoIcWoRAy",
        "colab_type": "code",
        "colab": {
          "base_uri": "https://localhost:8080/",
          "height": 210
        },
        "outputId": "665c8635-7ee2-4a03-9d43-e08d45ecfc79"
      },
      "source": [
        "x= current_scenario.mpl.score_matrix_per_partner\n",
        "print(x[:3]) "
      ],
      "execution_count": 7,
      "outputs": [
        {
          "output_type": "stream",
          "text": [
            "[[[0.54633331 0.59583336 0.493     ]\n",
            "  [0.73425001 0.7446667  0.74650002]\n",
            "  [0.77625    0.77391666 0.80608332]]\n",
            "\n",
            " [[0.79166669 0.80266666 0.82725   ]\n",
            "  [0.87358332 0.85100001 0.86183333]\n",
            "  [0.85250002 0.90058333 0.83758336]]\n",
            "\n",
            " [[0.87658334 0.89525002 0.89074999]\n",
            "  [0.88883334 0.90658331 0.89783335]\n",
            "  [0.90275002 0.91624999 0.91350001]]]\n"
          ],
          "name": "stdout"
        }
      ]
    },
    {
      "cell_type": "markdown",
      "metadata": {
        "id": "-Dtis6JKoRA0",
        "colab_type": "text"
      },
      "source": [
        "This is a lot of information to deal with, for now, we will only work with the first minibatch of each epoch"
      ]
    },
    {
      "cell_type": "code",
      "metadata": {
        "id": "1vAsuX7DoRA0",
        "colab_type": "code",
        "colab": {
          "base_uri": "https://localhost:8080/",
          "height": 70
        },
        "outputId": "f6a4dca8-aa59-45ee-c1ad-e1c94c9c7993"
      },
      "source": [
        "x = x[:,:,0]\n",
        "print(x[:3])"
      ],
      "execution_count": 8,
      "outputs": [
        {
          "output_type": "stream",
          "text": [
            "[[0.54633331 0.73425001 0.77625   ]\n",
            " [0.79166669 0.87358332 0.85250002]\n",
            " [0.87658334 0.88883334 0.90275002]]\n"
          ],
          "name": "stdout"
        }
      ]
    },
    {
      "cell_type": "markdown",
      "metadata": {
        "id": "tHsoyNxCoRA2",
        "colab_type": "text"
      },
      "source": [
        "Now let's pack this information into a single dataframe"
      ]
    },
    {
      "cell_type": "code",
      "metadata": {
        "id": "bUhJYlJtoRA3",
        "colab_type": "code",
        "colab": {
          "base_uri": "https://localhost:8080/",
          "height": 382
        },
        "outputId": "8df91190-e370-4c3b-ba89-e75847c00db7"
      },
      "source": [
        "d = {\n",
        "    'partner 0' : x[:,0],\n",
        "    'partner 1' : x[:,1],\n",
        "    'partner 2' : x[:,2]\n",
        "}\n",
        "\n",
        "df = pd.DataFrame(d)\n",
        "\n",
        "sns.relplot(data = df, kind = \"line\")"
      ],
      "execution_count": 9,
      "outputs": [
        {
          "output_type": "execute_result",
          "data": {
            "text/plain": [
              "<seaborn.axisgrid.FacetGrid at 0x7ff18cc89550>"
            ]
          },
          "metadata": {
            "tags": []
          },
          "execution_count": 9
        },
        {
          "output_type": "display_data",
          "data": {
            "image/png": "[encoded data removed]",
            "text/plain": [
              "<Figure size 451.35x360 with 1 Axes>"
            ]
          },
          "metadata": {
            "tags": []
          }
        }
      ]
    },
    {
      "cell_type": "markdown",
      "metadata": {
        "id": "N7EGx38loRA5",
        "colab_type": "text"
      },
      "source": [
        "### Now let's compare this result to our averaged model"
      ]
    },
    {
      "cell_type": "code",
      "metadata": {
        "id": "-DjRu_RQoRA5",
        "colab_type": "code",
        "colab": {
          "base_uri": "https://localhost:8080/",
          "height": 369
        },
        "outputId": "ef893588-c1e1-492c-81fe-a9f5846ec551"
      },
      "source": [
        "x_collective = current_scenario.mpl.score_matrix_collective_models\n",
        "\n",
        "print(x_collective)"
      ],
      "execution_count": 10,
      "outputs": [
        {
          "output_type": "stream",
          "text": [
            "[[0.06566667 0.54658335 0.75758332 0.80916667]\n",
            " [0.80916667 0.82833332 0.87424999 0.88475001]\n",
            " [0.88475001 0.89183331 0.90758336 0.91425002]\n",
            " [0.91425002 0.93416667 0.94641668 0.94700003]\n",
            " [0.94700003 0.95333332 0.95933336 0.95899999]\n",
            " [0.95899999 0.96675003 0.96316665 0.96633333]\n",
            " [0.96633333 0.97333336 0.97183335 0.97266668]\n",
            " [0.97266668 0.96933335 0.97833335 0.97708333]\n",
            " [0.97708333 0.977      0.98066664 0.97941667]\n",
            " [0.97941667 0.98183334 0.98049998 0.97966665]\n",
            " [0.97966665 0.98258334 0.98408335 0.98341668]\n",
            " [0.98341668 0.98275    0.98325002 0.98500001]\n",
            " [0.98500001 0.98474997 0.98483336 0.98650002]\n",
            " [0.98650002 0.98691666 0.98641664 0.98583335]\n",
            " [0.98583335 0.98575002 0.98624998 0.98624998]\n",
            " [0.98624998 0.98724997 0.98783332 0.98741668]\n",
            " [0.98741668 0.98750001 0.98833334 0.98583335]\n",
            " [0.98583335 0.98791665 0.98783332 0.98666668]\n",
            " [0.98666668 0.98675001 0.986      0.98858333]\n",
            " [0.98858333 0.98733336 0.98799998 0.986     ]]\n"
          ],
          "name": "stdout"
        }
      ]
    },
    {
      "cell_type": "markdown",
      "metadata": {
        "id": "imie_6BVoRA7",
        "colab_type": "text"
      },
      "source": [
        "We will just focus ourselves on the first mini batch of each epoch again"
      ]
    },
    {
      "cell_type": "code",
      "metadata": {
        "id": "xLnKVshBoRA7",
        "colab_type": "code",
        "colab": {
          "base_uri": "https://localhost:8080/",
          "height": 752
        },
        "outputId": "65f1e4d9-2178-4eaf-ba13-15bb8132dec5"
      },
      "source": [
        "x_collective = x_collective[:,0]\n",
        "\n",
        "df_collective = pd.DataFrame(x_collective)\n",
        "\n",
        "\n",
        "print(df_collective)\n",
        "\n",
        "sns.relplot(data = df_collective, kind = \"line\")"
      ],
      "execution_count": 11,
      "outputs": [
        {
          "output_type": "stream",
          "text": [
            "           0\n",
            "0   0.065667\n",
            "1   0.809167\n",
            "2   0.884750\n",
            "3   0.914250\n",
            "4   0.947000\n",
            "5   0.959000\n",
            "6   0.966333\n",
            "7   0.972667\n",
            "8   0.977083\n",
            "9   0.979417\n",
            "10  0.979667\n",
            "11  0.983417\n",
            "12  0.985000\n",
            "13  0.986500\n",
            "14  0.985833\n",
            "15  0.986250\n",
            "16  0.987417\n",
            "17  0.985833\n",
            "18  0.986667\n",
            "19  0.988583\n"
          ],
          "name": "stdout"
        },
        {
          "output_type": "execute_result",
          "data": {
            "text/plain": [
              "<seaborn.axisgrid.FacetGrid at 0x7ff1a42c3668>"
            ]
          },
          "metadata": {
            "tags": []
          },
          "execution_count": 11
        },
        {
          "output_type": "display_data",
          "data": {
            "image/png": "[encoded data removed]",
            "text/plain": [
              "<Figure size 406.6x360 with 1 Axes>"
            ]
          },
          "metadata": {
            "tags": []
          }
        }
      ]
    },
    {
      "cell_type": "markdown",
      "metadata": {
        "id": "AyWafZmjoRA9",
        "colab_type": "text"
      },
      "source": [
        "### Now let's compare this model to each partner's model :"
      ]
    },
    {
      "cell_type": "code",
      "metadata": {
        "id": "HvkniegKoRA-",
        "colab_type": "code",
        "colab": {}
      },
      "source": [
        "d = {\n",
        "    'partner 0' : x[:,0],\n",
        "    'partner 1' : x[:,1],\n",
        "    'partner 2' : x[:,2],\n",
        "    'Averaged model' : x_collective\n",
        "}"
      ],
      "execution_count": 12,
      "outputs": []
    },
    {
      "cell_type": "code",
      "metadata": {
        "id": "_m3C1biGoRBA",
        "colab_type": "code",
        "colab": {
          "base_uri": "https://localhost:8080/",
          "height": 382
        },
        "outputId": "20df1f57-2263-4556-b2cd-7087d225bcba"
      },
      "source": [
        "df = pd.DataFrame(d)\n",
        "\n",
        "\n",
        "sns.relplot(data = df, kind = \"line\")"
      ],
      "execution_count": 13,
      "outputs": [
        {
          "output_type": "execute_result",
          "data": {
            "text/plain": [
              "<seaborn.axisgrid.FacetGrid at 0x7ff18deb9160>"
            ]
          },
          "metadata": {
            "tags": []
          },
          "execution_count": 13
        },
        {
          "output_type": "display_data",
          "data": {
            "image/png": "[encoded data removed]",
            "text/plain": [
              "<Figure size 490.1x360 with 1 Axes>"
            ]
          },
          "metadata": {
            "tags": []
          }
        }
      ]
    },
    {
      "cell_type": "markdown",
      "metadata": {
        "id": "zB1q2hDToRBD",
        "colab_type": "text"
      },
      "source": [
        "### Let's ommit the begining"
      ]
    },
    {
      "cell_type": "code",
      "metadata": {
        "id": "TBVvCw41oRBE",
        "colab_type": "code",
        "colab": {
          "base_uri": "https://localhost:8080/",
          "height": 382
        },
        "outputId": "c9525301-a680-4ba2-9e3c-33a253575c23"
      },
      "source": [
        "df = df.iloc[3:]\n",
        "sns.relplot(data = df, kind = \"line\")"
      ],
      "execution_count": 14,
      "outputs": [
        {
          "output_type": "execute_result",
          "data": {
            "text/plain": [
              "<seaborn.axisgrid.FacetGrid at 0x7ff18cd34048>"
            ]
          },
          "metadata": {
            "tags": []
          },
          "execution_count": 14
        },
        {
          "output_type": "display_data",
          "data": {
            "image/png": "[encoded data removed]",
            "text/plain": [
              "<Figure size 490.1x360 with 1 Axes>"
            ]
          },
          "metadata": {
            "tags": []
          }
        }
      ]
    },
    {
      "cell_type": "markdown",
      "metadata": {
        "id": "Irx66JEioRBG",
        "colab_type": "text"
      },
      "source": [
        "### Results \n",
        "\n",
        "The averaged model seems to perform poorly at the start but become better as the training continues"
      ]
    },
    {
      "cell_type": "code",
      "metadata": {
        "id": "GnlGXnvfoRBG",
        "colab_type": "code",
        "colab": {}
      },
      "source": [
        ""
      ],
      "execution_count": 14,
      "outputs": []
    }
  ]
}