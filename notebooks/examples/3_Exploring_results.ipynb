{
 "cells": [
  {
   "cell_type": "markdown",
   "metadata": {},
   "source": [
    "# Exploring metrics after training\n",
    "\n",
    "In this example, we dive deeper into our results and compare each partner performance against the federated model"
   ]
  },
  {
   "cell_type": "code",
   "execution_count": 2,
   "metadata": {},
   "outputs": [],
   "source": [
    "# imports\n",
    "import numpy as np\n",
    "from pathlib import Path\n",
    "import pandas as pd\n",
    "import seaborn as sns\n",
    "sns.set()\n",
    "\n",
    "from keras.models import Sequential\n",
    "from keras.layers import Dense, Dropout, Activation, Flatten, Conv2D, MaxPooling2D\n",
    "from keras.utils import np_utils\n",
    "from keras.datasets import mnist\n",
    "\n",
    "# Object and methodes needed in order to run a collaborative round\n",
    "from subtest.dataset import Dataset\n",
    "from subtest.scenario import Scenario, run_scenario"
   ]
  },
  {
   "cell_type": "markdown",
   "metadata": {},
   "source": [
    "## Quick scenario run "
   ]
  },
  {
   "cell_type": "code",
   "execution_count": 3,
   "metadata": {},
   "outputs": [
    {
     "name": "stderr",
     "output_type": "stream",
     "text": [
      "2020-08-21 09:38:44.024 | DEBUG    | subtest.scenario:__init__:54 - Dataset selected: mnist\n",
      "2020-08-21 09:38:44.025 | DEBUG    | subtest.scenario:__init__:89 - Computation use the full dataset for scenario #1\n",
      "2020-08-21 09:38:44.085 | INFO     | subtest.scenario:__init__:281 - ### Description of data scenario configured:\n",
      "2020-08-21 09:38:44.085 | INFO     | subtest.scenario:__init__:282 -    Number of partners defined: 3\n",
      "2020-08-21 09:38:44.086 | INFO     | subtest.scenario:__init__:283 -    Data distribution scenario chosen: random\n",
      "2020-08-21 09:38:44.086 | INFO     | subtest.scenario:__init__:284 -    Multi-partner learning approach: fedavg\n",
      "2020-08-21 09:38:44.087 | INFO     | subtest.scenario:__init__:285 -    Weighting option: uniform\n",
      "2020-08-21 09:38:44.087 | INFO     | subtest.scenario:__init__:286 -    Iterations parameters: 20 epochs > 3 mini-batches > 8 gradient updates per pass\n",
      "2020-08-21 09:38:44.087 | INFO     | subtest.scenario:__init__:292 - ### Data loaded: mnist\n",
      "2020-08-21 09:38:44.088 | INFO     | subtest.scenario:__init__:293 -    48000 train data with 48000 labels\n",
      "2020-08-21 09:38:44.088 | INFO     | subtest.scenario:__init__:294 -    12000 val data with 12000 labels\n",
      "2020-08-21 09:38:44.088 | INFO     | subtest.scenario:__init__:295 -    10000 test data with 10000 labels\n"
     ]
    }
   ],
   "source": [
    "scenario_params = {\n",
    "    'partners_count': 3,\n",
    "    'amounts_per_partner': [0.2, 0.5, 0.3],\n",
    "}\n",
    "\n",
    "scenario_params['epoch_count'] = 20\n",
    "scenario_params['minibatch_count'] = 3\n",
    "\n",
    "current_scenario = Scenario(scenario_params)\n",
    "\n",
    "(X_train, y_train), (X_test, y_test) = mnist.load_data()\n",
    "\n",
    "X_train = X_train.reshape(X_train.shape[0],  28, 28, 1)\n",
    "X_test = X_test.reshape(X_test.shape[0], 28, 28, 1)\n",
    "X_train = X_train.astype('float32')\n",
    "X_test = X_test.astype('float32')\n",
    "X_train /= 255\n",
    "X_test /= 255\n",
    "\n",
    "input_shape = (28, 28, 1)\n",
    "num_classes = 10\n",
    "\n",
    "\n",
    "def preprocess_dataset_labels(y):\n",
    "    y = np_utils.to_categorical(y, 10)\n",
    "    return y\n",
    "\n",
    "\n",
    "def generate_new_model_for_dataset():\n",
    "    model = Sequential()\n",
    "    # add Convolutional layers\n",
    "    model.add(Conv2D(filters=32, kernel_size=(3,3), activation='relu', padding='same',\n",
    "                     input_shape=input_shape))\n",
    "    model.add(MaxPooling2D(pool_size=(2,2)))\n",
    "    model.add(Conv2D(filters=64, kernel_size=(3,3), activation='relu', padding='same'))\n",
    "    model.add(MaxPooling2D(pool_size=(2,2)))\n",
    "    model.add(Conv2D(filters=64, kernel_size=(3,3), activation='relu', padding='same'))\n",
    "    model.add(MaxPooling2D(pool_size=(2,2)))    \n",
    "    model.add(Flatten())\n",
    "    # Densely connected layers\n",
    "    model.add(Dense(128, activation='relu'))\n",
    "    # output layer\n",
    "    model.add(Dense(num_classes, activation='softmax'))\n",
    "    # compile with adam optimizer & categorical_crossentropy loss function\n",
    "    model.compile(optimizer='adam', loss='categorical_crossentropy', metrics=['accuracy'])\n",
    "    return model\n",
    "\n",
    "\n",
    "current_scenario.dataset = Dataset(\n",
    "    \"my_dataset\",\n",
    "    X_train,\n",
    "    X_test,\n",
    "    y_train,\n",
    "    y_test,\n",
    "    input_shape,\n",
    "    num_classes,\n",
    "    preprocess_dataset_labels,\n",
    "    generate_new_model_for_dataset\n",
    ")\n",
    "\n",
    "current_scenario.dataset.train_val_split()"
   ]
  },
  {
   "cell_type": "code",
   "execution_count": 3,
   "metadata": {},
   "outputs": [
    {
     "name": "stderr",
     "output_type": "stream",
     "text": [
      "2020-08-19 13:45:56.577 | INFO     | subtest.scenario:split_data:536 - ### Splitting data among partners:\n",
      "2020-08-19 13:45:56.578 | INFO     | subtest.scenario:split_data:537 -    Simple split performed.\n",
      "2020-08-19 13:45:56.578 | INFO     | subtest.scenario:split_data:538 -    Nb of samples split amongst partners: 38880\n",
      "2020-08-19 13:45:56.579 | INFO     | subtest.scenario:split_data:540 -    Partner #0: 7776 samples with labels [0, 1, 2, 3, 4, 5, 6, 7, 8, 9]\n",
      "2020-08-19 13:45:56.579 | INFO     | subtest.scenario:split_data:540 -    Partner #1: 19440 samples with labels [0, 1, 2, 3, 4, 5, 6, 7, 8, 9]\n",
      "2020-08-19 13:45:56.580 | INFO     | subtest.scenario:split_data:540 -    Partner #2: 11664 samples with labels [0, 1, 2, 3, 4, 5, 6, 7, 8, 9]\n",
      "2020-08-19 13:45:56.829 | DEBUG    | subtest.scenario:compute_batch_sizes:584 -    Compute batch sizes, partner #0: 324\n",
      "2020-08-19 13:45:56.829 | DEBUG    | subtest.scenario:compute_batch_sizes:584 -    Compute batch sizes, partner #1: 810\n",
      "2020-08-19 13:45:56.830 | DEBUG    | subtest.scenario:compute_batch_sizes:584 -    Compute batch sizes, partner #2: 486\n",
      "2020-08-19 13:45:56.830 | DEBUG    | subtest.scenario:preprocess_scenarios_data:589 - ## Pre-processing datasets of the scenario for keras CNN:\n",
      "2020-08-19 13:45:56.831 | DEBUG    | subtest.scenario:preprocess_scenarios_data:593 -    Central early stopping validation set: done.\n",
      "2020-08-19 13:45:56.832 | DEBUG    | subtest.scenario:preprocess_scenarios_data:595 -    Central testset: done.\n",
      "2020-08-19 13:45:56.833 | DEBUG    | subtest.scenario:preprocess_scenarios_data:617 -    Partner #0: done.\n",
      "2020-08-19 13:45:56.834 | DEBUG    | subtest.scenario:preprocess_scenarios_data:617 -    Partner #1: done.\n",
      "2020-08-19 13:45:56.835 | DEBUG    | subtest.scenario:preprocess_scenarios_data:617 -    Partner #2: done.\n",
      "2020-08-19 13:45:56.836 | DEBUG    | subtest.multi_partner_learning:__init__:69 - MultiPartnerLearning object instantiated.\n",
      "2020-08-19 13:45:56.836 | INFO     | subtest.multi_partner_learning:compute_test_score:135 - ## Training and evaluating model on partners with ids: ['#0', '#1', '#2']\n",
      "2020-08-19 13:45:56.881 | DEBUG    | subtest.multi_partner_learning:compute_collaborative_round_fedavg:259 - Start new fedavg collaborative round ...\n",
      "2020-08-19 13:45:56.881 | DEBUG    | subtest.multi_partner_learning:compute_collaborative_round_fedavg:268 - (fedavg) Very first minibatch of epoch n°0, init new models for each partner\n",
      "2020-08-19 13:46:04.611 | DEBUG    | subtest.multi_partner_learning:log_collaborative_round_partner_result:513 - Epoch 00/19 > Minibatch 00/02 > Partner id #0 (0/2) > val_acc: 0.55\n",
      "2020-08-19 13:46:05.949 | DEBUG    | subtest.multi_partner_learning:log_collaborative_round_partner_result:513 - Epoch 00/19 > Minibatch 00/02 > Partner id #1 (1/2) > val_acc: 0.57\n",
      "2020-08-19 13:46:07.058 | DEBUG    | subtest.multi_partner_learning:log_collaborative_round_partner_result:513 - Epoch 00/19 > Minibatch 00/02 > Partner id #2 (2/2) > val_acc: 0.51\n",
      "2020-08-19 13:46:07.061 | DEBUG    | subtest.multi_partner_learning:compute_collaborative_round_fedavg:303 - End of fedavg collaborative round.\n",
      "2020-08-19 13:46:07.061 | DEBUG    | subtest.multi_partner_learning:compute_collaborative_round_fedavg:259 - Start new fedavg collaborative round ...\n",
      "2020-08-19 13:46:07.062 | DEBUG    | subtest.multi_partner_learning:compute_collaborative_round_fedavg:271 - (fedavg) Minibatch n°1 of epoch n°0, init aggregated model for each partner with models from previous round\n",
      "2020-08-19 13:46:08.125 | DEBUG    | subtest.multi_partner_learning:log_collaborative_round_partner_result:513 - Epoch 00/19 > Minibatch 01/02 > Partner id #0 (0/2) > val_acc: 0.74\n",
      "2020-08-19 13:46:09.002 | DEBUG    | subtest.multi_partner_learning:log_collaborative_round_partner_result:513 - Epoch 00/19 > Minibatch 01/02 > Partner id #1 (1/2) > val_acc: 0.74\n",
      "2020-08-19 13:46:09.748 | DEBUG    | subtest.multi_partner_learning:log_collaborative_round_partner_result:513 - Epoch 00/19 > Minibatch 01/02 > Partner id #2 (2/2) > val_acc: 0.75\n",
      "2020-08-19 13:46:09.751 | DEBUG    | subtest.multi_partner_learning:compute_collaborative_round_fedavg:303 - End of fedavg collaborative round.\n",
      "2020-08-19 13:46:09.752 | DEBUG    | subtest.multi_partner_learning:compute_collaborative_round_fedavg:259 - Start new fedavg collaborative round ...\n",
      "2020-08-19 13:46:09.752 | DEBUG    | subtest.multi_partner_learning:compute_collaborative_round_fedavg:271 - (fedavg) Minibatch n°2 of epoch n°0, init aggregated model for each partner with models from previous round\n",
      "2020-08-19 13:46:10.826 | DEBUG    | subtest.multi_partner_learning:log_collaborative_round_partner_result:513 - Epoch 00/19 > Minibatch 02/02 > Partner id #0 (0/2) > val_acc: 0.78\n",
      "2020-08-19 13:46:11.627 | DEBUG    | subtest.multi_partner_learning:log_collaborative_round_partner_result:513 - Epoch 00/19 > Minibatch 02/02 > Partner id #1 (1/2) > val_acc: 0.79\n",
      "2020-08-19 13:46:12.382 | DEBUG    | subtest.multi_partner_learning:log_collaborative_round_partner_result:513 - Epoch 00/19 > Minibatch 02/02 > Partner id #2 (2/2) > val_acc: 0.8\n",
      "2020-08-19 13:46:12.385 | DEBUG    | subtest.multi_partner_learning:compute_collaborative_round_fedavg:303 - End of fedavg collaborative round.\n",
      "2020-08-19 13:46:12.684 | INFO     | subtest.multi_partner_learning:compute_test_score:184 -    Model evaluation at the end of the epoch: ['0.711', '0.811']\n",
      "2020-08-19 13:46:12.684 | DEBUG    | subtest.multi_partner_learning:compute_test_score:187 -       Checking if early stopping criteria are met:\n",
      "2020-08-19 13:46:12.685 | DEBUG    | subtest.multi_partner_learning:compute_test_score:197 -          -> Early stopping criteria are not met, continuing with training.\n",
      "2020-08-19 13:46:12.742 | DEBUG    | subtest.multi_partner_learning:compute_collaborative_round_fedavg:259 - Start new fedavg collaborative round ...\n",
      "2020-08-19 13:46:12.743 | DEBUG    | subtest.multi_partner_learning:compute_collaborative_round_fedavg:271 - (fedavg) Minibatch n°0 of epoch n°1, init aggregated model for each partner with models from previous round\n",
      "2020-08-19 13:46:13.834 | DEBUG    | subtest.multi_partner_learning:log_collaborative_round_partner_result:513 - Epoch 01/19 > Minibatch 00/02 > Partner id #0 (0/2) > val_acc: 0.72\n",
      "2020-08-19 13:46:14.746 | DEBUG    | subtest.multi_partner_learning:log_collaborative_round_partner_result:513 - Epoch 01/19 > Minibatch 00/02 > Partner id #1 (1/2) > val_acc: 0.72\n",
      "2020-08-19 13:46:15.495 | DEBUG    | subtest.multi_partner_learning:log_collaborative_round_partner_result:513 - Epoch 01/19 > Minibatch 00/02 > Partner id #2 (2/2) > val_acc: 0.83\n",
      "2020-08-19 13:46:15.498 | DEBUG    | subtest.multi_partner_learning:compute_collaborative_round_fedavg:303 - End of fedavg collaborative round.\n",
      "2020-08-19 13:46:15.498 | DEBUG    | subtest.multi_partner_learning:compute_collaborative_round_fedavg:259 - Start new fedavg collaborative round ...\n",
      "2020-08-19 13:46:15.499 | DEBUG    | subtest.multi_partner_learning:compute_collaborative_round_fedavg:271 - (fedavg) Minibatch n°1 of epoch n°1, init aggregated model for each partner with models from previous round\n",
      "2020-08-19 13:46:16.581 | DEBUG    | subtest.multi_partner_learning:log_collaborative_round_partner_result:513 - Epoch 01/19 > Minibatch 01/02 > Partner id #0 (0/2) > val_acc: 0.85\n",
      "2020-08-19 13:46:17.373 | DEBUG    | subtest.multi_partner_learning:log_collaborative_round_partner_result:513 - Epoch 01/19 > Minibatch 01/02 > Partner id #1 (1/2) > val_acc: 0.81\n",
      "2020-08-19 13:46:18.125 | DEBUG    | subtest.multi_partner_learning:log_collaborative_round_partner_result:513 - Epoch 01/19 > Minibatch 01/02 > Partner id #2 (2/2) > val_acc: 0.81\n",
      "2020-08-19 13:46:18.127 | DEBUG    | subtest.multi_partner_learning:compute_collaborative_round_fedavg:303 - End of fedavg collaborative round.\n",
      "2020-08-19 13:46:18.128 | DEBUG    | subtest.multi_partner_learning:compute_collaborative_round_fedavg:259 - Start new fedavg collaborative round ...\n",
      "2020-08-19 13:46:18.128 | DEBUG    | subtest.multi_partner_learning:compute_collaborative_round_fedavg:271 - (fedavg) Minibatch n°2 of epoch n°1, init aggregated model for each partner with models from previous round\n",
      "2020-08-19 13:46:19.212 | DEBUG    | subtest.multi_partner_learning:log_collaborative_round_partner_result:513 - Epoch 01/19 > Minibatch 02/02 > Partner id #0 (0/2) > val_acc: 0.87\n"
     ]
    },
    {
     "name": "stderr",
     "output_type": "stream",
     "text": [
      "2020-08-19 13:46:20.014 | DEBUG    | subtest.multi_partner_learning:log_collaborative_round_partner_result:513 - Epoch 01/19 > Minibatch 02/02 > Partner id #1 (1/2) > val_acc: 0.89\n",
      "2020-08-19 13:46:20.897 | DEBUG    | subtest.multi_partner_learning:log_collaborative_round_partner_result:513 - Epoch 01/19 > Minibatch 02/02 > Partner id #2 (2/2) > val_acc: 0.89\n",
      "2020-08-19 13:46:20.900 | DEBUG    | subtest.multi_partner_learning:compute_collaborative_round_fedavg:303 - End of fedavg collaborative round.\n",
      "2020-08-19 13:46:21.201 | INFO     | subtest.multi_partner_learning:compute_test_score:184 -    Model evaluation at the end of the epoch: ['0.401', '0.896']\n",
      "2020-08-19 13:46:21.201 | DEBUG    | subtest.multi_partner_learning:compute_test_score:187 -       Checking if early stopping criteria are met:\n",
      "2020-08-19 13:46:21.202 | DEBUG    | subtest.multi_partner_learning:compute_test_score:197 -          -> Early stopping criteria are not met, continuing with training.\n",
      "2020-08-19 13:46:21.257 | DEBUG    | subtest.multi_partner_learning:compute_collaborative_round_fedavg:259 - Start new fedavg collaborative round ...\n",
      "2020-08-19 13:46:21.258 | DEBUG    | subtest.multi_partner_learning:compute_collaborative_round_fedavg:271 - (fedavg) Minibatch n°0 of epoch n°2, init aggregated model for each partner with models from previous round\n",
      "2020-08-19 13:46:22.332 | DEBUG    | subtest.multi_partner_learning:log_collaborative_round_partner_result:513 - Epoch 02/19 > Minibatch 00/02 > Partner id #0 (0/2) > val_acc: 0.88\n",
      "2020-08-19 13:46:23.121 | DEBUG    | subtest.multi_partner_learning:log_collaborative_round_partner_result:513 - Epoch 02/19 > Minibatch 00/02 > Partner id #1 (1/2) > val_acc: 0.9\n",
      "2020-08-19 13:46:23.881 | DEBUG    | subtest.multi_partner_learning:log_collaborative_round_partner_result:513 - Epoch 02/19 > Minibatch 00/02 > Partner id #2 (2/2) > val_acc: 0.88\n",
      "2020-08-19 13:46:23.883 | DEBUG    | subtest.multi_partner_learning:compute_collaborative_round_fedavg:303 - End of fedavg collaborative round.\n",
      "2020-08-19 13:46:23.884 | DEBUG    | subtest.multi_partner_learning:compute_collaborative_round_fedavg:259 - Start new fedavg collaborative round ...\n",
      "2020-08-19 13:46:23.884 | DEBUG    | subtest.multi_partner_learning:compute_collaborative_round_fedavg:271 - (fedavg) Minibatch n°1 of epoch n°2, init aggregated model for each partner with models from previous round\n",
      "2020-08-19 13:46:24.977 | DEBUG    | subtest.multi_partner_learning:log_collaborative_round_partner_result:513 - Epoch 02/19 > Minibatch 01/02 > Partner id #0 (0/2) > val_acc: 0.92\n",
      "2020-08-19 13:46:25.781 | DEBUG    | subtest.multi_partner_learning:log_collaborative_round_partner_result:513 - Epoch 02/19 > Minibatch 01/02 > Partner id #1 (1/2) > val_acc: 0.92\n",
      "2020-08-19 13:46:26.545 | DEBUG    | subtest.multi_partner_learning:log_collaborative_round_partner_result:513 - Epoch 02/19 > Minibatch 01/02 > Partner id #2 (2/2) > val_acc: 0.91\n",
      "2020-08-19 13:46:26.548 | DEBUG    | subtest.multi_partner_learning:compute_collaborative_round_fedavg:303 - End of fedavg collaborative round.\n",
      "2020-08-19 13:46:26.549 | DEBUG    | subtest.multi_partner_learning:compute_collaborative_round_fedavg:259 - Start new fedavg collaborative round ...\n",
      "2020-08-19 13:46:26.549 | DEBUG    | subtest.multi_partner_learning:compute_collaborative_round_fedavg:271 - (fedavg) Minibatch n°2 of epoch n°2, init aggregated model for each partner with models from previous round\n",
      "2020-08-19 13:46:27.647 | DEBUG    | subtest.multi_partner_learning:log_collaborative_round_partner_result:513 - Epoch 02/19 > Minibatch 02/02 > Partner id #0 (0/2) > val_acc: 0.92\n",
      "2020-08-19 13:46:28.633 | DEBUG    | subtest.multi_partner_learning:log_collaborative_round_partner_result:513 - Epoch 02/19 > Minibatch 02/02 > Partner id #1 (1/2) > val_acc: 0.93\n",
      "2020-08-19 13:46:29.387 | DEBUG    | subtest.multi_partner_learning:log_collaborative_round_partner_result:513 - Epoch 02/19 > Minibatch 02/02 > Partner id #2 (2/2) > val_acc: 0.93\n",
      "2020-08-19 13:46:29.390 | DEBUG    | subtest.multi_partner_learning:compute_collaborative_round_fedavg:303 - End of fedavg collaborative round.\n",
      "2020-08-19 13:46:29.688 | INFO     | subtest.multi_partner_learning:compute_test_score:184 -    Model evaluation at the end of the epoch: ['0.233', '0.933']\n",
      "2020-08-19 13:46:29.689 | DEBUG    | subtest.multi_partner_learning:compute_test_score:187 -       Checking if early stopping criteria are met:\n",
      "2020-08-19 13:46:29.690 | DEBUG    | subtest.multi_partner_learning:compute_test_score:197 -          -> Early stopping criteria are not met, continuing with training.\n",
      "2020-08-19 13:46:29.744 | DEBUG    | subtest.multi_partner_learning:compute_collaborative_round_fedavg:259 - Start new fedavg collaborative round ...\n",
      "2020-08-19 13:46:29.745 | DEBUG    | subtest.multi_partner_learning:compute_collaborative_round_fedavg:271 - (fedavg) Minibatch n°0 of epoch n°3, init aggregated model for each partner with models from previous round\n",
      "2020-08-19 13:46:30.834 | DEBUG    | subtest.multi_partner_learning:log_collaborative_round_partner_result:513 - Epoch 03/19 > Minibatch 00/02 > Partner id #0 (0/2) > val_acc: 0.93\n",
      "2020-08-19 13:46:31.630 | DEBUG    | subtest.multi_partner_learning:log_collaborative_round_partner_result:513 - Epoch 03/19 > Minibatch 00/02 > Partner id #1 (1/2) > val_acc: 0.94\n",
      "2020-08-19 13:46:32.382 | DEBUG    | subtest.multi_partner_learning:log_collaborative_round_partner_result:513 - Epoch 03/19 > Minibatch 00/02 > Partner id #2 (2/2) > val_acc: 0.93\n",
      "2020-08-19 13:46:32.386 | DEBUG    | subtest.multi_partner_learning:compute_collaborative_round_fedavg:303 - End of fedavg collaborative round.\n",
      "2020-08-19 13:46:32.387 | DEBUG    | subtest.multi_partner_learning:compute_collaborative_round_fedavg:259 - Start new fedavg collaborative round ...\n",
      "2020-08-19 13:46:32.387 | DEBUG    | subtest.multi_partner_learning:compute_collaborative_round_fedavg:271 - (fedavg) Minibatch n°1 of epoch n°3, init aggregated model for each partner with models from previous round\n",
      "2020-08-19 13:46:33.473 | DEBUG    | subtest.multi_partner_learning:log_collaborative_round_partner_result:513 - Epoch 03/19 > Minibatch 01/02 > Partner id #0 (0/2) > val_acc: 0.93\n",
      "2020-08-19 13:46:34.271 | DEBUG    | subtest.multi_partner_learning:log_collaborative_round_partner_result:513 - Epoch 03/19 > Minibatch 01/02 > Partner id #1 (1/2) > val_acc: 0.94\n",
      "2020-08-19 13:46:35.026 | DEBUG    | subtest.multi_partner_learning:log_collaborative_round_partner_result:513 - Epoch 03/19 > Minibatch 01/02 > Partner id #2 (2/2) > val_acc: 0.94\n",
      "2020-08-19 13:46:35.029 | DEBUG    | subtest.multi_partner_learning:compute_collaborative_round_fedavg:303 - End of fedavg collaborative round.\n",
      "2020-08-19 13:46:35.029 | DEBUG    | subtest.multi_partner_learning:compute_collaborative_round_fedavg:259 - Start new fedavg collaborative round ...\n",
      "2020-08-19 13:46:35.030 | DEBUG    | subtest.multi_partner_learning:compute_collaborative_round_fedavg:271 - (fedavg) Minibatch n°2 of epoch n°3, init aggregated model for each partner with models from previous round\n",
      "2020-08-19 13:46:36.352 | DEBUG    | subtest.multi_partner_learning:log_collaborative_round_partner_result:513 - Epoch 03/19 > Minibatch 02/02 > Partner id #0 (0/2) > val_acc: 0.95\n",
      "2020-08-19 13:46:37.152 | DEBUG    | subtest.multi_partner_learning:log_collaborative_round_partner_result:513 - Epoch 03/19 > Minibatch 02/02 > Partner id #1 (1/2) > val_acc: 0.95\n",
      "2020-08-19 13:46:37.917 | DEBUG    | subtest.multi_partner_learning:log_collaborative_round_partner_result:513 - Epoch 03/19 > Minibatch 02/02 > Partner id #2 (2/2) > val_acc: 0.95\n",
      "2020-08-19 13:46:37.920 | DEBUG    | subtest.multi_partner_learning:compute_collaborative_round_fedavg:303 - End of fedavg collaborative round.\n",
      "2020-08-19 13:46:38.222 | INFO     | subtest.multi_partner_learning:compute_test_score:184 -    Model evaluation at the end of the epoch: ['0.165', '0.954']\n",
      "2020-08-19 13:46:38.223 | DEBUG    | subtest.multi_partner_learning:compute_test_score:187 -       Checking if early stopping criteria are met:\n",
      "2020-08-19 13:46:38.223 | DEBUG    | subtest.multi_partner_learning:compute_test_score:197 -          -> Early stopping criteria are not met, continuing with training.\n"
     ]
    },
    {
     "name": "stderr",
     "output_type": "stream",
     "text": [
      "2020-08-19 13:46:38.279 | DEBUG    | subtest.multi_partner_learning:compute_collaborative_round_fedavg:259 - Start new fedavg collaborative round ...\n",
      "2020-08-19 13:46:38.279 | DEBUG    | subtest.multi_partner_learning:compute_collaborative_round_fedavg:271 - (fedavg) Minibatch n°0 of epoch n°4, init aggregated model for each partner with models from previous round\n",
      "2020-08-19 13:46:39.370 | DEBUG    | subtest.multi_partner_learning:log_collaborative_round_partner_result:513 - Epoch 04/19 > Minibatch 00/02 > Partner id #0 (0/2) > val_acc: 0.95\n",
      "2020-08-19 13:46:40.171 | DEBUG    | subtest.multi_partner_learning:log_collaborative_round_partner_result:513 - Epoch 04/19 > Minibatch 00/02 > Partner id #1 (1/2) > val_acc: 0.94\n",
      "2020-08-19 13:46:40.930 | DEBUG    | subtest.multi_partner_learning:log_collaborative_round_partner_result:513 - Epoch 04/19 > Minibatch 00/02 > Partner id #2 (2/2) > val_acc: 0.95\n",
      "2020-08-19 13:46:40.934 | DEBUG    | subtest.multi_partner_learning:compute_collaborative_round_fedavg:303 - End of fedavg collaborative round.\n",
      "2020-08-19 13:46:40.935 | DEBUG    | subtest.multi_partner_learning:compute_collaborative_round_fedavg:259 - Start new fedavg collaborative round ...\n",
      "2020-08-19 13:46:40.935 | DEBUG    | subtest.multi_partner_learning:compute_collaborative_round_fedavg:271 - (fedavg) Minibatch n°1 of epoch n°4, init aggregated model for each partner with models from previous round\n",
      "2020-08-19 13:46:42.192 | DEBUG    | subtest.multi_partner_learning:log_collaborative_round_partner_result:513 - Epoch 04/19 > Minibatch 01/02 > Partner id #0 (0/2) > val_acc: 0.95\n",
      "2020-08-19 13:46:42.995 | DEBUG    | subtest.multi_partner_learning:log_collaborative_round_partner_result:513 - Epoch 04/19 > Minibatch 01/02 > Partner id #1 (1/2) > val_acc: 0.95\n",
      "2020-08-19 13:46:43.758 | DEBUG    | subtest.multi_partner_learning:log_collaborative_round_partner_result:513 - Epoch 04/19 > Minibatch 01/02 > Partner id #2 (2/2) > val_acc: 0.95\n",
      "2020-08-19 13:46:43.761 | DEBUG    | subtest.multi_partner_learning:compute_collaborative_round_fedavg:303 - End of fedavg collaborative round.\n",
      "2020-08-19 13:46:43.761 | DEBUG    | subtest.multi_partner_learning:compute_collaborative_round_fedavg:259 - Start new fedavg collaborative round ...\n",
      "2020-08-19 13:46:43.762 | DEBUG    | subtest.multi_partner_learning:compute_collaborative_round_fedavg:271 - (fedavg) Minibatch n°2 of epoch n°4, init aggregated model for each partner with models from previous round\n",
      "2020-08-19 13:46:44.857 | DEBUG    | subtest.multi_partner_learning:log_collaborative_round_partner_result:513 - Epoch 04/19 > Minibatch 02/02 > Partner id #0 (0/2) > val_acc: 0.95\n",
      "2020-08-19 13:46:45.655 | DEBUG    | subtest.multi_partner_learning:log_collaborative_round_partner_result:513 - Epoch 04/19 > Minibatch 02/02 > Partner id #1 (1/2) > val_acc: 0.95\n",
      "2020-08-19 13:46:46.404 | DEBUG    | subtest.multi_partner_learning:log_collaborative_round_partner_result:513 - Epoch 04/19 > Minibatch 02/02 > Partner id #2 (2/2) > val_acc: 0.96\n",
      "2020-08-19 13:46:46.407 | DEBUG    | subtest.multi_partner_learning:compute_collaborative_round_fedavg:303 - End of fedavg collaborative round.\n",
      "2020-08-19 13:46:46.709 | INFO     | subtest.multi_partner_learning:compute_test_score:184 -    Model evaluation at the end of the epoch: ['0.135', '0.961']\n",
      "2020-08-19 13:46:46.710 | DEBUG    | subtest.multi_partner_learning:compute_test_score:187 -       Checking if early stopping criteria are met:\n",
      "2020-08-19 13:46:46.710 | DEBUG    | subtest.multi_partner_learning:compute_test_score:197 -          -> Early stopping criteria are not met, continuing with training.\n",
      "2020-08-19 13:46:46.767 | DEBUG    | subtest.multi_partner_learning:compute_collaborative_round_fedavg:259 - Start new fedavg collaborative round ...\n",
      "2020-08-19 13:46:46.768 | DEBUG    | subtest.multi_partner_learning:compute_collaborative_round_fedavg:271 - (fedavg) Minibatch n°0 of epoch n°5, init aggregated model for each partner with models from previous round\n",
      "2020-08-19 13:46:47.854 | DEBUG    | subtest.multi_partner_learning:log_collaborative_round_partner_result:513 - Epoch 05/19 > Minibatch 00/02 > Partner id #0 (0/2) > val_acc: 0.96\n",
      "2020-08-19 13:46:48.647 | DEBUG    | subtest.multi_partner_learning:log_collaborative_round_partner_result:513 - Epoch 05/19 > Minibatch 00/02 > Partner id #1 (1/2) > val_acc: 0.96\n",
      "2020-08-19 13:46:49.583 | DEBUG    | subtest.multi_partner_learning:log_collaborative_round_partner_result:513 - Epoch 05/19 > Minibatch 00/02 > Partner id #2 (2/2) > val_acc: 0.96\n",
      "2020-08-19 13:46:49.587 | DEBUG    | subtest.multi_partner_learning:compute_collaborative_round_fedavg:303 - End of fedavg collaborative round.\n",
      "2020-08-19 13:46:49.587 | DEBUG    | subtest.multi_partner_learning:compute_collaborative_round_fedavg:259 - Start new fedavg collaborative round ...\n",
      "2020-08-19 13:46:49.588 | DEBUG    | subtest.multi_partner_learning:compute_collaborative_round_fedavg:271 - (fedavg) Minibatch n°1 of epoch n°5, init aggregated model for each partner with models from previous round\n",
      "2020-08-19 13:46:50.688 | DEBUG    | subtest.multi_partner_learning:log_collaborative_round_partner_result:513 - Epoch 05/19 > Minibatch 01/02 > Partner id #0 (0/2) > val_acc: 0.95\n",
      "2020-08-19 13:46:51.485 | DEBUG    | subtest.multi_partner_learning:log_collaborative_round_partner_result:513 - Epoch 05/19 > Minibatch 01/02 > Partner id #1 (1/2) > val_acc: 0.96\n",
      "2020-08-19 13:46:52.232 | DEBUG    | subtest.multi_partner_learning:log_collaborative_round_partner_result:513 - Epoch 05/19 > Minibatch 01/02 > Partner id #2 (2/2) > val_acc: 0.95\n",
      "2020-08-19 13:46:52.235 | DEBUG    | subtest.multi_partner_learning:compute_collaborative_round_fedavg:303 - End of fedavg collaborative round.\n",
      "2020-08-19 13:46:52.236 | DEBUG    | subtest.multi_partner_learning:compute_collaborative_round_fedavg:259 - Start new fedavg collaborative round ...\n",
      "2020-08-19 13:46:52.236 | DEBUG    | subtest.multi_partner_learning:compute_collaborative_round_fedavg:271 - (fedavg) Minibatch n°2 of epoch n°5, init aggregated model for each partner with models from previous round\n",
      "2020-08-19 13:46:53.331 | DEBUG    | subtest.multi_partner_learning:log_collaborative_round_partner_result:513 - Epoch 05/19 > Minibatch 02/02 > Partner id #0 (0/2) > val_acc: 0.97\n",
      "2020-08-19 13:46:54.125 | DEBUG    | subtest.multi_partner_learning:log_collaborative_round_partner_result:513 - Epoch 05/19 > Minibatch 02/02 > Partner id #1 (1/2) > val_acc: 0.96\n",
      "2020-08-19 13:46:55.004 | DEBUG    | subtest.multi_partner_learning:log_collaborative_round_partner_result:513 - Epoch 05/19 > Minibatch 02/02 > Partner id #2 (2/2) > val_acc: 0.95\n",
      "2020-08-19 13:46:55.007 | DEBUG    | subtest.multi_partner_learning:compute_collaborative_round_fedavg:303 - End of fedavg collaborative round.\n",
      "2020-08-19 13:46:55.304 | INFO     | subtest.multi_partner_learning:compute_test_score:184 -    Model evaluation at the end of the epoch: ['0.107', '0.969']\n",
      "2020-08-19 13:46:55.305 | DEBUG    | subtest.multi_partner_learning:compute_test_score:187 -       Checking if early stopping criteria are met:\n",
      "2020-08-19 13:46:55.305 | DEBUG    | subtest.multi_partner_learning:compute_test_score:197 -          -> Early stopping criteria are not met, continuing with training.\n",
      "2020-08-19 13:46:55.361 | DEBUG    | subtest.multi_partner_learning:compute_collaborative_round_fedavg:259 - Start new fedavg collaborative round ...\n",
      "2020-08-19 13:46:55.361 | DEBUG    | subtest.multi_partner_learning:compute_collaborative_round_fedavg:271 - (fedavg) Minibatch n°0 of epoch n°6, init aggregated model for each partner with models from previous round\n",
      "2020-08-19 13:46:56.448 | DEBUG    | subtest.multi_partner_learning:log_collaborative_round_partner_result:513 - Epoch 06/19 > Minibatch 00/02 > Partner id #0 (0/2) > val_acc: 0.96\n",
      "2020-08-19 13:46:57.242 | DEBUG    | subtest.multi_partner_learning:log_collaborative_round_partner_result:513 - Epoch 06/19 > Minibatch 00/02 > Partner id #1 (1/2) > val_acc: 0.97\n",
      "2020-08-19 13:46:57.997 | DEBUG    | subtest.multi_partner_learning:log_collaborative_round_partner_result:513 - Epoch 06/19 > Minibatch 00/02 > Partner id #2 (2/2) > val_acc: 0.97\n",
      "2020-08-19 13:46:58.000 | DEBUG    | subtest.multi_partner_learning:compute_collaborative_round_fedavg:303 - End of fedavg collaborative round.\n"
     ]
    },
    {
     "name": "stderr",
     "output_type": "stream",
     "text": [
      "2020-08-19 13:46:58.000 | DEBUG    | subtest.multi_partner_learning:compute_collaborative_round_fedavg:259 - Start new fedavg collaborative round ...\n",
      "2020-08-19 13:46:58.001 | DEBUG    | subtest.multi_partner_learning:compute_collaborative_round_fedavg:271 - (fedavg) Minibatch n°1 of epoch n°6, init aggregated model for each partner with models from previous round\n",
      "2020-08-19 13:46:59.081 | DEBUG    | subtest.multi_partner_learning:log_collaborative_round_partner_result:513 - Epoch 06/19 > Minibatch 01/02 > Partner id #0 (0/2) > val_acc: 0.97\n",
      "2020-08-19 13:46:59.878 | DEBUG    | subtest.multi_partner_learning:log_collaborative_round_partner_result:513 - Epoch 06/19 > Minibatch 01/02 > Partner id #1 (1/2) > val_acc: 0.97\n",
      "2020-08-19 13:47:00.635 | DEBUG    | subtest.multi_partner_learning:log_collaborative_round_partner_result:513 - Epoch 06/19 > Minibatch 01/02 > Partner id #2 (2/2) > val_acc: 0.97\n",
      "2020-08-19 13:47:00.638 | DEBUG    | subtest.multi_partner_learning:compute_collaborative_round_fedavg:303 - End of fedavg collaborative round.\n",
      "2020-08-19 13:47:00.639 | DEBUG    | subtest.multi_partner_learning:compute_collaborative_round_fedavg:259 - Start new fedavg collaborative round ...\n",
      "2020-08-19 13:47:00.639 | DEBUG    | subtest.multi_partner_learning:compute_collaborative_round_fedavg:271 - (fedavg) Minibatch n°2 of epoch n°6, init aggregated model for each partner with models from previous round\n",
      "2020-08-19 13:47:01.720 | DEBUG    | subtest.multi_partner_learning:log_collaborative_round_partner_result:513 - Epoch 06/19 > Minibatch 02/02 > Partner id #0 (0/2) > val_acc: 0.97\n",
      "2020-08-19 13:47:02.713 | DEBUG    | subtest.multi_partner_learning:log_collaborative_round_partner_result:513 - Epoch 06/19 > Minibatch 02/02 > Partner id #1 (1/2) > val_acc: 0.97\n",
      "2020-08-19 13:47:03.463 | DEBUG    | subtest.multi_partner_learning:log_collaborative_round_partner_result:513 - Epoch 06/19 > Minibatch 02/02 > Partner id #2 (2/2) > val_acc: 0.97\n",
      "2020-08-19 13:47:03.466 | DEBUG    | subtest.multi_partner_learning:compute_collaborative_round_fedavg:303 - End of fedavg collaborative round.\n",
      "2020-08-19 13:47:03.765 | INFO     | subtest.multi_partner_learning:compute_test_score:184 -    Model evaluation at the end of the epoch: ['0.096', '0.972']\n",
      "2020-08-19 13:47:03.765 | DEBUG    | subtest.multi_partner_learning:compute_test_score:187 -       Checking if early stopping criteria are met:\n",
      "2020-08-19 13:47:03.766 | DEBUG    | subtest.multi_partner_learning:compute_test_score:197 -          -> Early stopping criteria are not met, continuing with training.\n",
      "2020-08-19 13:47:03.822 | DEBUG    | subtest.multi_partner_learning:compute_collaborative_round_fedavg:259 - Start new fedavg collaborative round ...\n",
      "2020-08-19 13:47:03.823 | DEBUG    | subtest.multi_partner_learning:compute_collaborative_round_fedavg:271 - (fedavg) Minibatch n°0 of epoch n°7, init aggregated model for each partner with models from previous round\n",
      "2020-08-19 13:47:04.914 | DEBUG    | subtest.multi_partner_learning:log_collaborative_round_partner_result:513 - Epoch 07/19 > Minibatch 00/02 > Partner id #0 (0/2) > val_acc: 0.97\n",
      "2020-08-19 13:47:05.707 | DEBUG    | subtest.multi_partner_learning:log_collaborative_round_partner_result:513 - Epoch 07/19 > Minibatch 00/02 > Partner id #1 (1/2) > val_acc: 0.97\n",
      "2020-08-19 13:47:06.457 | DEBUG    | subtest.multi_partner_learning:log_collaborative_round_partner_result:513 - Epoch 07/19 > Minibatch 00/02 > Partner id #2 (2/2) > val_acc: 0.97\n",
      "2020-08-19 13:47:06.460 | DEBUG    | subtest.multi_partner_learning:compute_collaborative_round_fedavg:303 - End of fedavg collaborative round.\n",
      "2020-08-19 13:47:06.461 | DEBUG    | subtest.multi_partner_learning:compute_collaborative_round_fedavg:259 - Start new fedavg collaborative round ...\n",
      "2020-08-19 13:47:06.462 | DEBUG    | subtest.multi_partner_learning:compute_collaborative_round_fedavg:271 - (fedavg) Minibatch n°1 of epoch n°7, init aggregated model for each partner with models from previous round\n",
      "2020-08-19 13:47:07.550 | DEBUG    | subtest.multi_partner_learning:log_collaborative_round_partner_result:513 - Epoch 07/19 > Minibatch 01/02 > Partner id #0 (0/2) > val_acc: 0.96\n",
      "2020-08-19 13:47:08.348 | DEBUG    | subtest.multi_partner_learning:log_collaborative_round_partner_result:513 - Epoch 07/19 > Minibatch 01/02 > Partner id #1 (1/2) > val_acc: 0.97\n",
      "2020-08-19 13:47:09.265 | DEBUG    | subtest.multi_partner_learning:log_collaborative_round_partner_result:513 - Epoch 07/19 > Minibatch 01/02 > Partner id #2 (2/2) > val_acc: 0.97\n",
      "2020-08-19 13:47:09.269 | DEBUG    | subtest.multi_partner_learning:compute_collaborative_round_fedavg:303 - End of fedavg collaborative round.\n",
      "2020-08-19 13:47:09.269 | DEBUG    | subtest.multi_partner_learning:compute_collaborative_round_fedavg:259 - Start new fedavg collaborative round ...\n",
      "2020-08-19 13:47:09.270 | DEBUG    | subtest.multi_partner_learning:compute_collaborative_round_fedavg:271 - (fedavg) Minibatch n°2 of epoch n°7, init aggregated model for each partner with models from previous round\n",
      "2020-08-19 13:47:10.357 | DEBUG    | subtest.multi_partner_learning:log_collaborative_round_partner_result:513 - Epoch 07/19 > Minibatch 02/02 > Partner id #0 (0/2) > val_acc: 0.97\n",
      "2020-08-19 13:47:11.156 | DEBUG    | subtest.multi_partner_learning:log_collaborative_round_partner_result:513 - Epoch 07/19 > Minibatch 02/02 > Partner id #1 (1/2) > val_acc: 0.98\n",
      "2020-08-19 13:47:11.908 | DEBUG    | subtest.multi_partner_learning:log_collaborative_round_partner_result:513 - Epoch 07/19 > Minibatch 02/02 > Partner id #2 (2/2) > val_acc: 0.97\n",
      "2020-08-19 13:47:11.911 | DEBUG    | subtest.multi_partner_learning:compute_collaborative_round_fedavg:303 - End of fedavg collaborative round.\n",
      "2020-08-19 13:47:12.210 | INFO     | subtest.multi_partner_learning:compute_test_score:184 -    Model evaluation at the end of the epoch: ['0.080', '0.977']\n",
      "2020-08-19 13:47:12.210 | DEBUG    | subtest.multi_partner_learning:compute_test_score:187 -       Checking if early stopping criteria are met:\n",
      "2020-08-19 13:47:12.211 | DEBUG    | subtest.multi_partner_learning:compute_test_score:197 -          -> Early stopping criteria are not met, continuing with training.\n",
      "2020-08-19 13:47:12.266 | DEBUG    | subtest.multi_partner_learning:compute_collaborative_round_fedavg:259 - Start new fedavg collaborative round ...\n",
      "2020-08-19 13:47:12.267 | DEBUG    | subtest.multi_partner_learning:compute_collaborative_round_fedavg:271 - (fedavg) Minibatch n°0 of epoch n°8, init aggregated model for each partner with models from previous round\n",
      "2020-08-19 13:47:13.345 | DEBUG    | subtest.multi_partner_learning:log_collaborative_round_partner_result:513 - Epoch 08/19 > Minibatch 00/02 > Partner id #0 (0/2) > val_acc: 0.97\n",
      "2020-08-19 13:47:14.139 | DEBUG    | subtest.multi_partner_learning:log_collaborative_round_partner_result:513 - Epoch 08/19 > Minibatch 00/02 > Partner id #1 (1/2) > val_acc: 0.97\n",
      "2020-08-19 13:47:14.887 | DEBUG    | subtest.multi_partner_learning:log_collaborative_round_partner_result:513 - Epoch 08/19 > Minibatch 00/02 > Partner id #2 (2/2) > val_acc: 0.97\n",
      "2020-08-19 13:47:14.890 | DEBUG    | subtest.multi_partner_learning:compute_collaborative_round_fedavg:303 - End of fedavg collaborative round.\n",
      "2020-08-19 13:47:14.891 | DEBUG    | subtest.multi_partner_learning:compute_collaborative_round_fedavg:259 - Start new fedavg collaborative round ...\n",
      "2020-08-19 13:47:14.891 | DEBUG    | subtest.multi_partner_learning:compute_collaborative_round_fedavg:271 - (fedavg) Minibatch n°1 of epoch n°8, init aggregated model for each partner with models from previous round\n",
      "2020-08-19 13:47:16.174 | DEBUG    | subtest.multi_partner_learning:log_collaborative_round_partner_result:513 - Epoch 08/19 > Minibatch 01/02 > Partner id #0 (0/2) > val_acc: 0.97\n",
      "2020-08-19 13:47:16.974 | DEBUG    | subtest.multi_partner_learning:log_collaborative_round_partner_result:513 - Epoch 08/19 > Minibatch 01/02 > Partner id #1 (1/2) > val_acc: 0.97\n",
      "2020-08-19 13:47:17.730 | DEBUG    | subtest.multi_partner_learning:log_collaborative_round_partner_result:513 - Epoch 08/19 > Minibatch 01/02 > Partner id #2 (2/2) > val_acc: 0.97\n",
      "2020-08-19 13:47:17.733 | DEBUG    | subtest.multi_partner_learning:compute_collaborative_round_fedavg:303 - End of fedavg collaborative round.\n"
     ]
    },
    {
     "name": "stderr",
     "output_type": "stream",
     "text": [
      "2020-08-19 13:47:17.734 | DEBUG    | subtest.multi_partner_learning:compute_collaborative_round_fedavg:259 - Start new fedavg collaborative round ...\n",
      "2020-08-19 13:47:17.735 | DEBUG    | subtest.multi_partner_learning:compute_collaborative_round_fedavg:271 - (fedavg) Minibatch n°2 of epoch n°8, init aggregated model for each partner with models from previous round\n",
      "2020-08-19 13:47:18.822 | DEBUG    | subtest.multi_partner_learning:log_collaborative_round_partner_result:513 - Epoch 08/19 > Minibatch 02/02 > Partner id #0 (0/2) > val_acc: 0.98\n",
      "2020-08-19 13:47:19.614 | DEBUG    | subtest.multi_partner_learning:log_collaborative_round_partner_result:513 - Epoch 08/19 > Minibatch 02/02 > Partner id #1 (1/2) > val_acc: 0.98\n",
      "2020-08-19 13:47:20.359 | DEBUG    | subtest.multi_partner_learning:log_collaborative_round_partner_result:513 - Epoch 08/19 > Minibatch 02/02 > Partner id #2 (2/2) > val_acc: 0.98\n",
      "2020-08-19 13:47:20.362 | DEBUG    | subtest.multi_partner_learning:compute_collaborative_round_fedavg:303 - End of fedavg collaborative round.\n",
      "2020-08-19 13:47:20.657 | INFO     | subtest.multi_partner_learning:compute_test_score:184 -    Model evaluation at the end of the epoch: ['0.071', '0.979']\n",
      "2020-08-19 13:47:20.658 | DEBUG    | subtest.multi_partner_learning:compute_test_score:187 -       Checking if early stopping criteria are met:\n",
      "2020-08-19 13:47:20.659 | DEBUG    | subtest.multi_partner_learning:compute_test_score:197 -          -> Early stopping criteria are not met, continuing with training.\n",
      "2020-08-19 13:47:20.714 | DEBUG    | subtest.multi_partner_learning:compute_collaborative_round_fedavg:259 - Start new fedavg collaborative round ...\n",
      "2020-08-19 13:47:20.715 | DEBUG    | subtest.multi_partner_learning:compute_collaborative_round_fedavg:271 - (fedavg) Minibatch n°0 of epoch n°9, init aggregated model for each partner with models from previous round\n",
      "2020-08-19 13:47:21.797 | DEBUG    | subtest.multi_partner_learning:log_collaborative_round_partner_result:513 - Epoch 09/19 > Minibatch 00/02 > Partner id #0 (0/2) > val_acc: 0.98\n",
      "2020-08-19 13:47:22.586 | DEBUG    | subtest.multi_partner_learning:log_collaborative_round_partner_result:513 - Epoch 09/19 > Minibatch 00/02 > Partner id #1 (1/2) > val_acc: 0.98\n",
      "2020-08-19 13:47:23.496 | DEBUG    | subtest.multi_partner_learning:log_collaborative_round_partner_result:513 - Epoch 09/19 > Minibatch 00/02 > Partner id #2 (2/2) > val_acc: 0.97\n",
      "2020-08-19 13:47:23.498 | DEBUG    | subtest.multi_partner_learning:compute_collaborative_round_fedavg:303 - End of fedavg collaborative round.\n",
      "2020-08-19 13:47:23.499 | DEBUG    | subtest.multi_partner_learning:compute_collaborative_round_fedavg:259 - Start new fedavg collaborative round ...\n",
      "2020-08-19 13:47:23.499 | DEBUG    | subtest.multi_partner_learning:compute_collaborative_round_fedavg:271 - (fedavg) Minibatch n°1 of epoch n°9, init aggregated model for each partner with models from previous round\n",
      "2020-08-19 13:47:24.597 | DEBUG    | subtest.multi_partner_learning:log_collaborative_round_partner_result:513 - Epoch 09/19 > Minibatch 01/02 > Partner id #0 (0/2) > val_acc: 0.98\n",
      "2020-08-19 13:47:25.389 | DEBUG    | subtest.multi_partner_learning:log_collaborative_round_partner_result:513 - Epoch 09/19 > Minibatch 01/02 > Partner id #1 (1/2) > val_acc: 0.98\n",
      "2020-08-19 13:47:26.135 | DEBUG    | subtest.multi_partner_learning:log_collaborative_round_partner_result:513 - Epoch 09/19 > Minibatch 01/02 > Partner id #2 (2/2) > val_acc: 0.97\n",
      "2020-08-19 13:47:26.137 | DEBUG    | subtest.multi_partner_learning:compute_collaborative_round_fedavg:303 - End of fedavg collaborative round.\n",
      "2020-08-19 13:47:26.138 | DEBUG    | subtest.multi_partner_learning:compute_collaborative_round_fedavg:259 - Start new fedavg collaborative round ...\n",
      "2020-08-19 13:47:26.139 | DEBUG    | subtest.multi_partner_learning:compute_collaborative_round_fedavg:271 - (fedavg) Minibatch n°2 of epoch n°9, init aggregated model for each partner with models from previous round\n",
      "2020-08-19 13:47:27.220 | DEBUG    | subtest.multi_partner_learning:log_collaborative_round_partner_result:513 - Epoch 09/19 > Minibatch 02/02 > Partner id #0 (0/2) > val_acc: 0.97\n",
      "2020-08-19 13:47:28.023 | DEBUG    | subtest.multi_partner_learning:log_collaborative_round_partner_result:513 - Epoch 09/19 > Minibatch 02/02 > Partner id #1 (1/2) > val_acc: 0.98\n",
      "2020-08-19 13:47:28.777 | DEBUG    | subtest.multi_partner_learning:log_collaborative_round_partner_result:513 - Epoch 09/19 > Minibatch 02/02 > Partner id #2 (2/2) > val_acc: 0.98\n",
      "2020-08-19 13:47:28.781 | DEBUG    | subtest.multi_partner_learning:compute_collaborative_round_fedavg:303 - End of fedavg collaborative round.\n",
      "2020-08-19 13:47:29.074 | INFO     | subtest.multi_partner_learning:compute_test_score:184 -    Model evaluation at the end of the epoch: ['0.065', '0.981']\n",
      "2020-08-19 13:47:29.075 | DEBUG    | subtest.multi_partner_learning:compute_test_score:187 -       Checking if early stopping criteria are met:\n",
      "2020-08-19 13:47:29.075 | DEBUG    | subtest.multi_partner_learning:compute_test_score:197 -          -> Early stopping criteria are not met, continuing with training.\n",
      "2020-08-19 13:47:29.129 | DEBUG    | subtest.multi_partner_learning:compute_collaborative_round_fedavg:259 - Start new fedavg collaborative round ...\n",
      "2020-08-19 13:47:29.130 | DEBUG    | subtest.multi_partner_learning:compute_collaborative_round_fedavg:271 - (fedavg) Minibatch n°0 of epoch n°10, init aggregated model for each partner with models from previous round\n",
      "2020-08-19 13:47:30.405 | DEBUG    | subtest.multi_partner_learning:log_collaborative_round_partner_result:513 - Epoch 10/19 > Minibatch 00/02 > Partner id #0 (0/2) > val_acc: 0.97\n",
      "2020-08-19 13:47:31.201 | DEBUG    | subtest.multi_partner_learning:log_collaborative_round_partner_result:513 - Epoch 10/19 > Minibatch 00/02 > Partner id #1 (1/2) > val_acc: 0.98\n",
      "2020-08-19 13:47:31.956 | DEBUG    | subtest.multi_partner_learning:log_collaborative_round_partner_result:513 - Epoch 10/19 > Minibatch 00/02 > Partner id #2 (2/2) > val_acc: 0.98\n",
      "2020-08-19 13:47:31.959 | DEBUG    | subtest.multi_partner_learning:compute_collaborative_round_fedavg:303 - End of fedavg collaborative round.\n",
      "2020-08-19 13:47:31.960 | DEBUG    | subtest.multi_partner_learning:compute_collaborative_round_fedavg:259 - Start new fedavg collaborative round ...\n",
      "2020-08-19 13:47:31.960 | DEBUG    | subtest.multi_partner_learning:compute_collaborative_round_fedavg:271 - (fedavg) Minibatch n°1 of epoch n°10, init aggregated model for each partner with models from previous round\n",
      "2020-08-19 13:47:33.046 | DEBUG    | subtest.multi_partner_learning:log_collaborative_round_partner_result:513 - Epoch 10/19 > Minibatch 01/02 > Partner id #0 (0/2) > val_acc: 0.98\n",
      "2020-08-19 13:47:33.889 | DEBUG    | subtest.multi_partner_learning:log_collaborative_round_partner_result:513 - Epoch 10/19 > Minibatch 01/02 > Partner id #1 (1/2) > val_acc: 0.98\n",
      "2020-08-19 13:47:34.678 | DEBUG    | subtest.multi_partner_learning:log_collaborative_round_partner_result:513 - Epoch 10/19 > Minibatch 01/02 > Partner id #2 (2/2) > val_acc: 0.97\n",
      "2020-08-19 13:47:34.681 | DEBUG    | subtest.multi_partner_learning:compute_collaborative_round_fedavg:303 - End of fedavg collaborative round.\n",
      "2020-08-19 13:47:34.682 | DEBUG    | subtest.multi_partner_learning:compute_collaborative_round_fedavg:259 - Start new fedavg collaborative round ...\n",
      "2020-08-19 13:47:34.682 | DEBUG    | subtest.multi_partner_learning:compute_collaborative_round_fedavg:271 - (fedavg) Minibatch n°2 of epoch n°10, init aggregated model for each partner with models from previous round\n",
      "2020-08-19 13:47:36.004 | DEBUG    | subtest.multi_partner_learning:log_collaborative_round_partner_result:513 - Epoch 10/19 > Minibatch 02/02 > Partner id #0 (0/2) > val_acc: 0.98\n",
      "2020-08-19 13:47:36.801 | DEBUG    | subtest.multi_partner_learning:log_collaborative_round_partner_result:513 - Epoch 10/19 > Minibatch 02/02 > Partner id #1 (1/2) > val_acc: 0.98\n",
      "2020-08-19 13:47:37.546 | DEBUG    | subtest.multi_partner_learning:log_collaborative_round_partner_result:513 - Epoch 10/19 > Minibatch 02/02 > Partner id #2 (2/2) > val_acc: 0.98\n",
      "2020-08-19 13:47:37.549 | DEBUG    | subtest.multi_partner_learning:compute_collaborative_round_fedavg:303 - End of fedavg collaborative round.\n"
     ]
    },
    {
     "name": "stderr",
     "output_type": "stream",
     "text": [
      "2020-08-19 13:47:37.835 | INFO     | subtest.multi_partner_learning:compute_test_score:184 -    Model evaluation at the end of the epoch: ['0.060', '0.983']\n",
      "2020-08-19 13:47:37.836 | DEBUG    | subtest.multi_partner_learning:compute_test_score:187 -       Checking if early stopping criteria are met:\n",
      "2020-08-19 13:47:37.837 | DEBUG    | subtest.multi_partner_learning:compute_test_score:197 -          -> Early stopping criteria are not met, continuing with training.\n",
      "2020-08-19 13:47:37.892 | DEBUG    | subtest.multi_partner_learning:compute_collaborative_round_fedavg:259 - Start new fedavg collaborative round ...\n",
      "2020-08-19 13:47:37.892 | DEBUG    | subtest.multi_partner_learning:compute_collaborative_round_fedavg:271 - (fedavg) Minibatch n°0 of epoch n°11, init aggregated model for each partner with models from previous round\n",
      "2020-08-19 13:47:38.996 | DEBUG    | subtest.multi_partner_learning:log_collaborative_round_partner_result:513 - Epoch 11/19 > Minibatch 00/02 > Partner id #0 (0/2) > val_acc: 0.98\n",
      "2020-08-19 13:47:39.830 | DEBUG    | subtest.multi_partner_learning:log_collaborative_round_partner_result:513 - Epoch 11/19 > Minibatch 00/02 > Partner id #1 (1/2) > val_acc: 0.98\n",
      "2020-08-19 13:47:40.582 | DEBUG    | subtest.multi_partner_learning:log_collaborative_round_partner_result:513 - Epoch 11/19 > Minibatch 00/02 > Partner id #2 (2/2) > val_acc: 0.98\n",
      "2020-08-19 13:47:40.585 | DEBUG    | subtest.multi_partner_learning:compute_collaborative_round_fedavg:303 - End of fedavg collaborative round.\n",
      "2020-08-19 13:47:40.586 | DEBUG    | subtest.multi_partner_learning:compute_collaborative_round_fedavg:259 - Start new fedavg collaborative round ...\n",
      "2020-08-19 13:47:40.586 | DEBUG    | subtest.multi_partner_learning:compute_collaborative_round_fedavg:271 - (fedavg) Minibatch n°1 of epoch n°11, init aggregated model for each partner with models from previous round\n",
      "2020-08-19 13:47:41.803 | DEBUG    | subtest.multi_partner_learning:log_collaborative_round_partner_result:513 - Epoch 11/19 > Minibatch 01/02 > Partner id #0 (0/2) > val_acc: 0.97\n",
      "2020-08-19 13:47:42.820 | DEBUG    | subtest.multi_partner_learning:log_collaborative_round_partner_result:513 - Epoch 11/19 > Minibatch 01/02 > Partner id #1 (1/2) > val_acc: 0.98\n",
      "2020-08-19 13:47:43.625 | DEBUG    | subtest.multi_partner_learning:log_collaborative_round_partner_result:513 - Epoch 11/19 > Minibatch 01/02 > Partner id #2 (2/2) > val_acc: 0.98\n",
      "2020-08-19 13:47:43.628 | DEBUG    | subtest.multi_partner_learning:compute_collaborative_round_fedavg:303 - End of fedavg collaborative round.\n",
      "2020-08-19 13:47:43.629 | DEBUG    | subtest.multi_partner_learning:compute_collaborative_round_fedavg:259 - Start new fedavg collaborative round ...\n",
      "2020-08-19 13:47:43.629 | DEBUG    | subtest.multi_partner_learning:compute_collaborative_round_fedavg:271 - (fedavg) Minibatch n°2 of epoch n°11, init aggregated model for each partner with models from previous round\n",
      "2020-08-19 13:47:44.779 | DEBUG    | subtest.multi_partner_learning:log_collaborative_round_partner_result:513 - Epoch 11/19 > Minibatch 02/02 > Partner id #0 (0/2) > val_acc: 0.98\n",
      "2020-08-19 13:47:45.587 | DEBUG    | subtest.multi_partner_learning:log_collaborative_round_partner_result:513 - Epoch 11/19 > Minibatch 02/02 > Partner id #1 (1/2) > val_acc: 0.98\n",
      "2020-08-19 13:47:46.357 | DEBUG    | subtest.multi_partner_learning:log_collaborative_round_partner_result:513 - Epoch 11/19 > Minibatch 02/02 > Partner id #2 (2/2) > val_acc: 0.98\n",
      "2020-08-19 13:47:46.360 | DEBUG    | subtest.multi_partner_learning:compute_collaborative_round_fedavg:303 - End of fedavg collaborative round.\n",
      "2020-08-19 13:47:46.669 | INFO     | subtest.multi_partner_learning:compute_test_score:184 -    Model evaluation at the end of the epoch: ['0.056', '0.984']\n",
      "2020-08-19 13:47:46.670 | DEBUG    | subtest.multi_partner_learning:compute_test_score:187 -       Checking if early stopping criteria are met:\n",
      "2020-08-19 13:47:46.670 | DEBUG    | subtest.multi_partner_learning:compute_test_score:197 -          -> Early stopping criteria are not met, continuing with training.\n",
      "2020-08-19 13:47:46.726 | DEBUG    | subtest.multi_partner_learning:compute_collaborative_round_fedavg:259 - Start new fedavg collaborative round ...\n",
      "2020-08-19 13:47:46.727 | DEBUG    | subtest.multi_partner_learning:compute_collaborative_round_fedavg:271 - (fedavg) Minibatch n°0 of epoch n°12, init aggregated model for each partner with models from previous round\n",
      "2020-08-19 13:47:47.818 | DEBUG    | subtest.multi_partner_learning:log_collaborative_round_partner_result:513 - Epoch 12/19 > Minibatch 00/02 > Partner id #0 (0/2) > val_acc: 0.98\n",
      "2020-08-19 13:47:48.612 | DEBUG    | subtest.multi_partner_learning:log_collaborative_round_partner_result:513 - Epoch 12/19 > Minibatch 00/02 > Partner id #1 (1/2) > val_acc: 0.98\n",
      "2020-08-19 13:47:49.375 | DEBUG    | subtest.multi_partner_learning:log_collaborative_round_partner_result:513 - Epoch 12/19 > Minibatch 00/02 > Partner id #2 (2/2) > val_acc: 0.98\n",
      "2020-08-19 13:47:49.377 | DEBUG    | subtest.multi_partner_learning:compute_collaborative_round_fedavg:303 - End of fedavg collaborative round.\n",
      "2020-08-19 13:47:49.378 | DEBUG    | subtest.multi_partner_learning:compute_collaborative_round_fedavg:259 - Start new fedavg collaborative round ...\n",
      "2020-08-19 13:47:49.378 | DEBUG    | subtest.multi_partner_learning:compute_collaborative_round_fedavg:271 - (fedavg) Minibatch n°1 of epoch n°12, init aggregated model for each partner with models from previous round\n",
      "2020-08-19 13:47:50.665 | DEBUG    | subtest.multi_partner_learning:log_collaborative_round_partner_result:513 - Epoch 12/19 > Minibatch 01/02 > Partner id #0 (0/2) > val_acc: 0.98\n",
      "2020-08-19 13:47:51.471 | DEBUG    | subtest.multi_partner_learning:log_collaborative_round_partner_result:513 - Epoch 12/19 > Minibatch 01/02 > Partner id #1 (1/2) > val_acc: 0.98\n",
      "2020-08-19 13:47:52.227 | DEBUG    | subtest.multi_partner_learning:log_collaborative_round_partner_result:513 - Epoch 12/19 > Minibatch 01/02 > Partner id #2 (2/2) > val_acc: 0.98\n",
      "2020-08-19 13:47:52.230 | DEBUG    | subtest.multi_partner_learning:compute_collaborative_round_fedavg:303 - End of fedavg collaborative round.\n",
      "2020-08-19 13:47:52.230 | DEBUG    | subtest.multi_partner_learning:compute_collaborative_round_fedavg:259 - Start new fedavg collaborative round ...\n",
      "2020-08-19 13:47:52.231 | DEBUG    | subtest.multi_partner_learning:compute_collaborative_round_fedavg:271 - (fedavg) Minibatch n°2 of epoch n°12, init aggregated model for each partner with models from previous round\n",
      "2020-08-19 13:47:53.325 | DEBUG    | subtest.multi_partner_learning:log_collaborative_round_partner_result:513 - Epoch 12/19 > Minibatch 02/02 > Partner id #0 (0/2) > val_acc: 0.98\n",
      "2020-08-19 13:47:54.124 | DEBUG    | subtest.multi_partner_learning:log_collaborative_round_partner_result:513 - Epoch 12/19 > Minibatch 02/02 > Partner id #1 (1/2) > val_acc: 0.98\n",
      "2020-08-19 13:47:54.877 | DEBUG    | subtest.multi_partner_learning:log_collaborative_round_partner_result:513 - Epoch 12/19 > Minibatch 02/02 > Partner id #2 (2/2) > val_acc: 0.98\n",
      "2020-08-19 13:47:54.879 | DEBUG    | subtest.multi_partner_learning:compute_collaborative_round_fedavg:303 - End of fedavg collaborative round.\n",
      "2020-08-19 13:47:55.176 | INFO     | subtest.multi_partner_learning:compute_test_score:184 -    Model evaluation at the end of the epoch: ['0.052', '0.985']\n",
      "2020-08-19 13:47:55.177 | DEBUG    | subtest.multi_partner_learning:compute_test_score:187 -       Checking if early stopping criteria are met:\n",
      "2020-08-19 13:47:55.177 | DEBUG    | subtest.multi_partner_learning:compute_test_score:197 -          -> Early stopping criteria are not met, continuing with training.\n",
      "2020-08-19 13:47:55.234 | DEBUG    | subtest.multi_partner_learning:compute_collaborative_round_fedavg:259 - Start new fedavg collaborative round ...\n",
      "2020-08-19 13:47:55.235 | DEBUG    | subtest.multi_partner_learning:compute_collaborative_round_fedavg:271 - (fedavg) Minibatch n°0 of epoch n°13, init aggregated model for each partner with models from previous round\n",
      "2020-08-19 13:47:56.479 | DEBUG    | subtest.multi_partner_learning:log_collaborative_round_partner_result:513 - Epoch 13/19 > Minibatch 00/02 > Partner id #0 (0/2) > val_acc: 0.98\n"
     ]
    },
    {
     "name": "stderr",
     "output_type": "stream",
     "text": [
      "2020-08-19 13:47:57.276 | DEBUG    | subtest.multi_partner_learning:log_collaborative_round_partner_result:513 - Epoch 13/19 > Minibatch 00/02 > Partner id #1 (1/2) > val_acc: 0.98\n",
      "2020-08-19 13:47:58.033 | DEBUG    | subtest.multi_partner_learning:log_collaborative_round_partner_result:513 - Epoch 13/19 > Minibatch 00/02 > Partner id #2 (2/2) > val_acc: 0.98\n",
      "2020-08-19 13:47:58.036 | DEBUG    | subtest.multi_partner_learning:compute_collaborative_round_fedavg:303 - End of fedavg collaborative round.\n",
      "2020-08-19 13:47:58.037 | DEBUG    | subtest.multi_partner_learning:compute_collaborative_round_fedavg:259 - Start new fedavg collaborative round ...\n",
      "2020-08-19 13:47:58.037 | DEBUG    | subtest.multi_partner_learning:compute_collaborative_round_fedavg:271 - (fedavg) Minibatch n°1 of epoch n°13, init aggregated model for each partner with models from previous round\n",
      "2020-08-19 13:47:59.147 | DEBUG    | subtest.multi_partner_learning:log_collaborative_round_partner_result:513 - Epoch 13/19 > Minibatch 01/02 > Partner id #0 (0/2) > val_acc: 0.98\n",
      "2020-08-19 13:47:59.954 | DEBUG    | subtest.multi_partner_learning:log_collaborative_round_partner_result:513 - Epoch 13/19 > Minibatch 01/02 > Partner id #1 (1/2) > val_acc: 0.98\n",
      "2020-08-19 13:48:00.713 | DEBUG    | subtest.multi_partner_learning:log_collaborative_round_partner_result:513 - Epoch 13/19 > Minibatch 01/02 > Partner id #2 (2/2) > val_acc: 0.98\n",
      "2020-08-19 13:48:00.716 | DEBUG    | subtest.multi_partner_learning:compute_collaborative_round_fedavg:303 - End of fedavg collaborative round.\n",
      "2020-08-19 13:48:00.717 | DEBUG    | subtest.multi_partner_learning:compute_collaborative_round_fedavg:259 - Start new fedavg collaborative round ...\n",
      "2020-08-19 13:48:00.717 | DEBUG    | subtest.multi_partner_learning:compute_collaborative_round_fedavg:271 - (fedavg) Minibatch n°2 of epoch n°13, init aggregated model for each partner with models from previous round\n",
      "2020-08-19 13:48:01.799 | DEBUG    | subtest.multi_partner_learning:log_collaborative_round_partner_result:513 - Epoch 13/19 > Minibatch 02/02 > Partner id #0 (0/2) > val_acc: 0.98\n",
      "2020-08-19 13:48:02.727 | DEBUG    | subtest.multi_partner_learning:log_collaborative_round_partner_result:513 - Epoch 13/19 > Minibatch 02/02 > Partner id #1 (1/2) > val_acc: 0.98\n",
      "2020-08-19 13:48:03.487 | DEBUG    | subtest.multi_partner_learning:log_collaborative_round_partner_result:513 - Epoch 13/19 > Minibatch 02/02 > Partner id #2 (2/2) > val_acc: 0.98\n",
      "2020-08-19 13:48:03.490 | DEBUG    | subtest.multi_partner_learning:compute_collaborative_round_fedavg:303 - End of fedavg collaborative round.\n",
      "2020-08-19 13:48:03.789 | INFO     | subtest.multi_partner_learning:compute_test_score:184 -    Model evaluation at the end of the epoch: ['0.048', '0.987']\n",
      "2020-08-19 13:48:03.790 | DEBUG    | subtest.multi_partner_learning:compute_test_score:187 -       Checking if early stopping criteria are met:\n",
      "2020-08-19 13:48:03.791 | DEBUG    | subtest.multi_partner_learning:compute_test_score:197 -          -> Early stopping criteria are not met, continuing with training.\n",
      "2020-08-19 13:48:03.849 | DEBUG    | subtest.multi_partner_learning:compute_collaborative_round_fedavg:259 - Start new fedavg collaborative round ...\n",
      "2020-08-19 13:48:03.850 | DEBUG    | subtest.multi_partner_learning:compute_collaborative_round_fedavg:271 - (fedavg) Minibatch n°0 of epoch n°14, init aggregated model for each partner with models from previous round\n",
      "2020-08-19 13:48:04.946 | DEBUG    | subtest.multi_partner_learning:log_collaborative_round_partner_result:513 - Epoch 14/19 > Minibatch 00/02 > Partner id #0 (0/2) > val_acc: 0.98\n",
      "2020-08-19 13:48:05.742 | DEBUG    | subtest.multi_partner_learning:log_collaborative_round_partner_result:513 - Epoch 14/19 > Minibatch 00/02 > Partner id #1 (1/2) > val_acc: 0.98\n",
      "2020-08-19 13:48:06.488 | DEBUG    | subtest.multi_partner_learning:log_collaborative_round_partner_result:513 - Epoch 14/19 > Minibatch 00/02 > Partner id #2 (2/2) > val_acc: 0.98\n",
      "2020-08-19 13:48:06.491 | DEBUG    | subtest.multi_partner_learning:compute_collaborative_round_fedavg:303 - End of fedavg collaborative round.\n",
      "2020-08-19 13:48:06.491 | DEBUG    | subtest.multi_partner_learning:compute_collaborative_round_fedavg:259 - Start new fedavg collaborative round ...\n",
      "2020-08-19 13:48:06.492 | DEBUG    | subtest.multi_partner_learning:compute_collaborative_round_fedavg:271 - (fedavg) Minibatch n°1 of epoch n°14, init aggregated model for each partner with models from previous round\n",
      "2020-08-19 13:48:07.583 | DEBUG    | subtest.multi_partner_learning:log_collaborative_round_partner_result:513 - Epoch 14/19 > Minibatch 01/02 > Partner id #0 (0/2) > val_acc: 0.98\n",
      "2020-08-19 13:48:08.382 | DEBUG    | subtest.multi_partner_learning:log_collaborative_round_partner_result:513 - Epoch 14/19 > Minibatch 01/02 > Partner id #1 (1/2) > val_acc: 0.98\n",
      "2020-08-19 13:48:09.139 | DEBUG    | subtest.multi_partner_learning:log_collaborative_round_partner_result:513 - Epoch 14/19 > Minibatch 01/02 > Partner id #2 (2/2) > val_acc: 0.98\n",
      "2020-08-19 13:48:09.142 | DEBUG    | subtest.multi_partner_learning:compute_collaborative_round_fedavg:303 - End of fedavg collaborative round.\n",
      "2020-08-19 13:48:09.143 | DEBUG    | subtest.multi_partner_learning:compute_collaborative_round_fedavg:259 - Start new fedavg collaborative round ...\n",
      "2020-08-19 13:48:09.143 | DEBUG    | subtest.multi_partner_learning:compute_collaborative_round_fedavg:271 - (fedavg) Minibatch n°2 of epoch n°14, init aggregated model for each partner with models from previous round\n",
      "2020-08-19 13:48:10.427 | DEBUG    | subtest.multi_partner_learning:log_collaborative_round_partner_result:513 - Epoch 14/19 > Minibatch 02/02 > Partner id #0 (0/2) > val_acc: 0.98\n",
      "2020-08-19 13:48:11.227 | DEBUG    | subtest.multi_partner_learning:log_collaborative_round_partner_result:513 - Epoch 14/19 > Minibatch 02/02 > Partner id #1 (1/2) > val_acc: 0.98\n",
      "2020-08-19 13:48:11.972 | DEBUG    | subtest.multi_partner_learning:log_collaborative_round_partner_result:513 - Epoch 14/19 > Minibatch 02/02 > Partner id #2 (2/2) > val_acc: 0.98\n",
      "2020-08-19 13:48:11.975 | DEBUG    | subtest.multi_partner_learning:compute_collaborative_round_fedavg:303 - End of fedavg collaborative round.\n",
      "2020-08-19 13:48:12.273 | INFO     | subtest.multi_partner_learning:compute_test_score:184 -    Model evaluation at the end of the epoch: ['0.047', '0.986']\n",
      "2020-08-19 13:48:12.274 | DEBUG    | subtest.multi_partner_learning:compute_test_score:187 -       Checking if early stopping criteria are met:\n",
      "2020-08-19 13:48:12.274 | DEBUG    | subtest.multi_partner_learning:compute_test_score:197 -          -> Early stopping criteria are not met, continuing with training.\n",
      "2020-08-19 13:48:12.331 | DEBUG    | subtest.multi_partner_learning:compute_collaborative_round_fedavg:259 - Start new fedavg collaborative round ...\n",
      "2020-08-19 13:48:12.332 | DEBUG    | subtest.multi_partner_learning:compute_collaborative_round_fedavg:271 - (fedavg) Minibatch n°0 of epoch n°15, init aggregated model for each partner with models from previous round\n",
      "2020-08-19 13:48:13.416 | DEBUG    | subtest.multi_partner_learning:log_collaborative_round_partner_result:513 - Epoch 15/19 > Minibatch 00/02 > Partner id #0 (0/2) > val_acc: 0.98\n",
      "2020-08-19 13:48:14.203 | DEBUG    | subtest.multi_partner_learning:log_collaborative_round_partner_result:513 - Epoch 15/19 > Minibatch 00/02 > Partner id #1 (1/2) > val_acc: 0.98\n",
      "2020-08-19 13:48:14.941 | DEBUG    | subtest.multi_partner_learning:log_collaborative_round_partner_result:513 - Epoch 15/19 > Minibatch 00/02 > Partner id #2 (2/2) > val_acc: 0.98\n",
      "2020-08-19 13:48:14.944 | DEBUG    | subtest.multi_partner_learning:compute_collaborative_round_fedavg:303 - End of fedavg collaborative round.\n",
      "2020-08-19 13:48:14.944 | DEBUG    | subtest.multi_partner_learning:compute_collaborative_round_fedavg:259 - Start new fedavg collaborative round ...\n",
      "2020-08-19 13:48:14.945 | DEBUG    | subtest.multi_partner_learning:compute_collaborative_round_fedavg:271 - (fedavg) Minibatch n°1 of epoch n°15, init aggregated model for each partner with models from previous round\n",
      "2020-08-19 13:48:16.030 | DEBUG    | subtest.multi_partner_learning:log_collaborative_round_partner_result:513 - Epoch 15/19 > Minibatch 01/02 > Partner id #0 (0/2) > val_acc: 0.98\n"
     ]
    },
    {
     "name": "stderr",
     "output_type": "stream",
     "text": [
      "2020-08-19 13:48:16.993 | DEBUG    | subtest.multi_partner_learning:log_collaborative_round_partner_result:513 - Epoch 15/19 > Minibatch 01/02 > Partner id #1 (1/2) > val_acc: 0.99\n",
      "2020-08-19 13:48:17.746 | DEBUG    | subtest.multi_partner_learning:log_collaborative_round_partner_result:513 - Epoch 15/19 > Minibatch 01/02 > Partner id #2 (2/2) > val_acc: 0.99\n",
      "2020-08-19 13:48:17.749 | DEBUG    | subtest.multi_partner_learning:compute_collaborative_round_fedavg:303 - End of fedavg collaborative round.\n",
      "2020-08-19 13:48:17.749 | DEBUG    | subtest.multi_partner_learning:compute_collaborative_round_fedavg:259 - Start new fedavg collaborative round ...\n",
      "2020-08-19 13:48:17.750 | DEBUG    | subtest.multi_partner_learning:compute_collaborative_round_fedavg:271 - (fedavg) Minibatch n°2 of epoch n°15, init aggregated model for each partner with models from previous round\n",
      "2020-08-19 13:48:18.833 | DEBUG    | subtest.multi_partner_learning:log_collaborative_round_partner_result:513 - Epoch 15/19 > Minibatch 02/02 > Partner id #0 (0/2) > val_acc: 0.98\n",
      "2020-08-19 13:48:19.632 | DEBUG    | subtest.multi_partner_learning:log_collaborative_round_partner_result:513 - Epoch 15/19 > Minibatch 02/02 > Partner id #1 (1/2) > val_acc: 0.98\n",
      "2020-08-19 13:48:20.387 | DEBUG    | subtest.multi_partner_learning:log_collaborative_round_partner_result:513 - Epoch 15/19 > Minibatch 02/02 > Partner id #2 (2/2) > val_acc: 0.99\n",
      "2020-08-19 13:48:20.391 | DEBUG    | subtest.multi_partner_learning:compute_collaborative_round_fedavg:303 - End of fedavg collaborative round.\n",
      "2020-08-19 13:48:20.694 | INFO     | subtest.multi_partner_learning:compute_test_score:184 -    Model evaluation at the end of the epoch: ['0.043', '0.988']\n",
      "2020-08-19 13:48:20.694 | DEBUG    | subtest.multi_partner_learning:compute_test_score:187 -       Checking if early stopping criteria are met:\n",
      "2020-08-19 13:48:20.695 | DEBUG    | subtest.multi_partner_learning:compute_test_score:197 -          -> Early stopping criteria are not met, continuing with training.\n",
      "2020-08-19 13:48:20.751 | DEBUG    | subtest.multi_partner_learning:compute_collaborative_round_fedavg:259 - Start new fedavg collaborative round ...\n",
      "2020-08-19 13:48:20.752 | DEBUG    | subtest.multi_partner_learning:compute_collaborative_round_fedavg:271 - (fedavg) Minibatch n°0 of epoch n°16, init aggregated model for each partner with models from previous round\n",
      "2020-08-19 13:48:21.842 | DEBUG    | subtest.multi_partner_learning:log_collaborative_round_partner_result:513 - Epoch 16/19 > Minibatch 00/02 > Partner id #0 (0/2) > val_acc: 0.98\n",
      "2020-08-19 13:48:22.640 | DEBUG    | subtest.multi_partner_learning:log_collaborative_round_partner_result:513 - Epoch 16/19 > Minibatch 00/02 > Partner id #1 (1/2) > val_acc: 0.99\n",
      "2020-08-19 13:48:23.548 | DEBUG    | subtest.multi_partner_learning:log_collaborative_round_partner_result:513 - Epoch 16/19 > Minibatch 00/02 > Partner id #2 (2/2) > val_acc: 0.99\n",
      "2020-08-19 13:48:23.551 | DEBUG    | subtest.multi_partner_learning:compute_collaborative_round_fedavg:303 - End of fedavg collaborative round.\n",
      "2020-08-19 13:48:23.552 | DEBUG    | subtest.multi_partner_learning:compute_collaborative_round_fedavg:259 - Start new fedavg collaborative round ...\n",
      "2020-08-19 13:48:23.552 | DEBUG    | subtest.multi_partner_learning:compute_collaborative_round_fedavg:271 - (fedavg) Minibatch n°1 of epoch n°16, init aggregated model for each partner with models from previous round\n",
      "2020-08-19 13:48:24.657 | DEBUG    | subtest.multi_partner_learning:log_collaborative_round_partner_result:513 - Epoch 16/19 > Minibatch 01/02 > Partner id #0 (0/2) > val_acc: 0.98\n",
      "2020-08-19 13:48:25.453 | DEBUG    | subtest.multi_partner_learning:log_collaborative_round_partner_result:513 - Epoch 16/19 > Minibatch 01/02 > Partner id #1 (1/2) > val_acc: 0.98\n",
      "2020-08-19 13:48:26.203 | DEBUG    | subtest.multi_partner_learning:log_collaborative_round_partner_result:513 - Epoch 16/19 > Minibatch 01/02 > Partner id #2 (2/2) > val_acc: 0.98\n",
      "2020-08-19 13:48:26.206 | DEBUG    | subtest.multi_partner_learning:compute_collaborative_round_fedavg:303 - End of fedavg collaborative round.\n",
      "2020-08-19 13:48:26.206 | DEBUG    | subtest.multi_partner_learning:compute_collaborative_round_fedavg:259 - Start new fedavg collaborative round ...\n",
      "2020-08-19 13:48:26.207 | DEBUG    | subtest.multi_partner_learning:compute_collaborative_round_fedavg:271 - (fedavg) Minibatch n°2 of epoch n°16, init aggregated model for each partner with models from previous round\n",
      "2020-08-19 13:48:27.293 | DEBUG    | subtest.multi_partner_learning:log_collaborative_round_partner_result:513 - Epoch 16/19 > Minibatch 02/02 > Partner id #0 (0/2) > val_acc: 0.98\n",
      "2020-08-19 13:48:28.090 | DEBUG    | subtest.multi_partner_learning:log_collaborative_round_partner_result:513 - Epoch 16/19 > Minibatch 02/02 > Partner id #1 (1/2) > val_acc: 0.99\n",
      "2020-08-19 13:48:28.839 | DEBUG    | subtest.multi_partner_learning:log_collaborative_round_partner_result:513 - Epoch 16/19 > Minibatch 02/02 > Partner id #2 (2/2) > val_acc: 0.99\n",
      "2020-08-19 13:48:28.842 | DEBUG    | subtest.multi_partner_learning:compute_collaborative_round_fedavg:303 - End of fedavg collaborative round.\n",
      "2020-08-19 13:48:29.136 | INFO     | subtest.multi_partner_learning:compute_test_score:184 -    Model evaluation at the end of the epoch: ['0.047', '0.987']\n",
      "2020-08-19 13:48:29.137 | DEBUG    | subtest.multi_partner_learning:compute_test_score:187 -       Checking if early stopping criteria are met:\n",
      "2020-08-19 13:48:29.137 | DEBUG    | subtest.multi_partner_learning:compute_test_score:197 -          -> Early stopping criteria are not met, continuing with training.\n",
      "2020-08-19 13:48:29.194 | DEBUG    | subtest.multi_partner_learning:compute_collaborative_round_fedavg:259 - Start new fedavg collaborative round ...\n",
      "2020-08-19 13:48:29.195 | DEBUG    | subtest.multi_partner_learning:compute_collaborative_round_fedavg:271 - (fedavg) Minibatch n°0 of epoch n°17, init aggregated model for each partner with models from previous round\n",
      "2020-08-19 13:48:30.475 | DEBUG    | subtest.multi_partner_learning:log_collaborative_round_partner_result:513 - Epoch 17/19 > Minibatch 00/02 > Partner id #0 (0/2) > val_acc: 0.98\n",
      "2020-08-19 13:48:31.270 | DEBUG    | subtest.multi_partner_learning:log_collaborative_round_partner_result:513 - Epoch 17/19 > Minibatch 00/02 > Partner id #1 (1/2) > val_acc: 0.98\n",
      "2020-08-19 13:48:32.024 | DEBUG    | subtest.multi_partner_learning:log_collaborative_round_partner_result:513 - Epoch 17/19 > Minibatch 00/02 > Partner id #2 (2/2) > val_acc: 0.98\n",
      "2020-08-19 13:48:32.028 | DEBUG    | subtest.multi_partner_learning:compute_collaborative_round_fedavg:303 - End of fedavg collaborative round.\n",
      "2020-08-19 13:48:32.028 | DEBUG    | subtest.multi_partner_learning:compute_collaborative_round_fedavg:259 - Start new fedavg collaborative round ...\n",
      "2020-08-19 13:48:32.029 | DEBUG    | subtest.multi_partner_learning:compute_collaborative_round_fedavg:271 - (fedavg) Minibatch n°1 of epoch n°17, init aggregated model for each partner with models from previous round\n",
      "2020-08-19 13:48:33.120 | DEBUG    | subtest.multi_partner_learning:log_collaborative_round_partner_result:513 - Epoch 17/19 > Minibatch 01/02 > Partner id #0 (0/2) > val_acc: 0.98\n",
      "2020-08-19 13:48:33.914 | DEBUG    | subtest.multi_partner_learning:log_collaborative_round_partner_result:513 - Epoch 17/19 > Minibatch 01/02 > Partner id #1 (1/2) > val_acc: 0.99\n",
      "2020-08-19 13:48:34.668 | DEBUG    | subtest.multi_partner_learning:log_collaborative_round_partner_result:513 - Epoch 17/19 > Minibatch 01/02 > Partner id #2 (2/2) > val_acc: 0.98\n",
      "2020-08-19 13:48:34.671 | DEBUG    | subtest.multi_partner_learning:compute_collaborative_round_fedavg:303 - End of fedavg collaborative round.\n",
      "2020-08-19 13:48:34.672 | DEBUG    | subtest.multi_partner_learning:compute_collaborative_round_fedavg:259 - Start new fedavg collaborative round ...\n",
      "2020-08-19 13:48:34.673 | DEBUG    | subtest.multi_partner_learning:compute_collaborative_round_fedavg:271 - (fedavg) Minibatch n°2 of epoch n°17, init aggregated model for each partner with models from previous round\n",
      "2020-08-19 13:48:35.893 | DEBUG    | subtest.multi_partner_learning:log_collaborative_round_partner_result:513 - Epoch 17/19 > Minibatch 02/02 > Partner id #0 (0/2) > val_acc: 0.98\n"
     ]
    },
    {
     "name": "stderr",
     "output_type": "stream",
     "text": [
      "2020-08-19 13:48:36.701 | DEBUG    | subtest.multi_partner_learning:log_collaborative_round_partner_result:513 - Epoch 17/19 > Minibatch 02/02 > Partner id #1 (1/2) > val_acc: 0.99\n",
      "2020-08-19 13:48:37.452 | DEBUG    | subtest.multi_partner_learning:log_collaborative_round_partner_result:513 - Epoch 17/19 > Minibatch 02/02 > Partner id #2 (2/2) > val_acc: 0.98\n",
      "2020-08-19 13:48:37.456 | DEBUG    | subtest.multi_partner_learning:compute_collaborative_round_fedavg:303 - End of fedavg collaborative round.\n",
      "2020-08-19 13:48:37.760 | INFO     | subtest.multi_partner_learning:compute_test_score:184 -    Model evaluation at the end of the epoch: ['0.045', '0.987']\n",
      "2020-08-19 13:48:37.761 | DEBUG    | subtest.multi_partner_learning:compute_test_score:187 -       Checking if early stopping criteria are met:\n",
      "2020-08-19 13:48:37.761 | DEBUG    | subtest.multi_partner_learning:compute_test_score:197 -          -> Early stopping criteria are not met, continuing with training.\n",
      "2020-08-19 13:48:37.818 | DEBUG    | subtest.multi_partner_learning:compute_collaborative_round_fedavg:259 - Start new fedavg collaborative round ...\n",
      "2020-08-19 13:48:37.819 | DEBUG    | subtest.multi_partner_learning:compute_collaborative_round_fedavg:271 - (fedavg) Minibatch n°0 of epoch n°18, init aggregated model for each partner with models from previous round\n",
      "2020-08-19 13:48:38.911 | DEBUG    | subtest.multi_partner_learning:log_collaborative_round_partner_result:513 - Epoch 18/19 > Minibatch 00/02 > Partner id #0 (0/2) > val_acc: 0.98\n",
      "2020-08-19 13:48:39.704 | DEBUG    | subtest.multi_partner_learning:log_collaborative_round_partner_result:513 - Epoch 18/19 > Minibatch 00/02 > Partner id #1 (1/2) > val_acc: 0.99\n",
      "2020-08-19 13:48:40.453 | DEBUG    | subtest.multi_partner_learning:log_collaborative_round_partner_result:513 - Epoch 18/19 > Minibatch 00/02 > Partner id #2 (2/2) > val_acc: 0.99\n",
      "2020-08-19 13:48:40.457 | DEBUG    | subtest.multi_partner_learning:compute_collaborative_round_fedavg:303 - End of fedavg collaborative round.\n",
      "2020-08-19 13:48:40.457 | DEBUG    | subtest.multi_partner_learning:compute_collaborative_round_fedavg:259 - Start new fedavg collaborative round ...\n",
      "2020-08-19 13:48:40.458 | DEBUG    | subtest.multi_partner_learning:compute_collaborative_round_fedavg:271 - (fedavg) Minibatch n°1 of epoch n°18, init aggregated model for each partner with models from previous round\n",
      "2020-08-19 13:48:41.543 | DEBUG    | subtest.multi_partner_learning:log_collaborative_round_partner_result:513 - Epoch 18/19 > Minibatch 01/02 > Partner id #0 (0/2) > val_acc: 0.99\n",
      "2020-08-19 13:48:42.343 | DEBUG    | subtest.multi_partner_learning:log_collaborative_round_partner_result:513 - Epoch 18/19 > Minibatch 01/02 > Partner id #1 (1/2) > val_acc: 0.99\n",
      "2020-08-19 13:48:43.255 | DEBUG    | subtest.multi_partner_learning:log_collaborative_round_partner_result:513 - Epoch 18/19 > Minibatch 01/02 > Partner id #2 (2/2) > val_acc: 0.98\n",
      "2020-08-19 13:48:43.259 | DEBUG    | subtest.multi_partner_learning:compute_collaborative_round_fedavg:303 - End of fedavg collaborative round.\n",
      "2020-08-19 13:48:43.259 | DEBUG    | subtest.multi_partner_learning:compute_collaborative_round_fedavg:259 - Start new fedavg collaborative round ...\n",
      "2020-08-19 13:48:43.259 | DEBUG    | subtest.multi_partner_learning:compute_collaborative_round_fedavg:271 - (fedavg) Minibatch n°2 of epoch n°18, init aggregated model for each partner with models from previous round\n",
      "2020-08-19 13:48:44.356 | DEBUG    | subtest.multi_partner_learning:log_collaborative_round_partner_result:513 - Epoch 18/19 > Minibatch 02/02 > Partner id #0 (0/2) > val_acc: 0.98\n",
      "2020-08-19 13:48:45.155 | DEBUG    | subtest.multi_partner_learning:log_collaborative_round_partner_result:513 - Epoch 18/19 > Minibatch 02/02 > Partner id #1 (1/2) > val_acc: 0.98\n",
      "2020-08-19 13:48:45.910 | DEBUG    | subtest.multi_partner_learning:log_collaborative_round_partner_result:513 - Epoch 18/19 > Minibatch 02/02 > Partner id #2 (2/2) > val_acc: 0.99\n",
      "2020-08-19 13:48:45.913 | DEBUG    | subtest.multi_partner_learning:compute_collaborative_round_fedavg:303 - End of fedavg collaborative round.\n",
      "2020-08-19 13:48:46.212 | INFO     | subtest.multi_partner_learning:compute_test_score:184 -    Model evaluation at the end of the epoch: ['0.040', '0.988']\n",
      "2020-08-19 13:48:46.213 | DEBUG    | subtest.multi_partner_learning:compute_test_score:187 -       Checking if early stopping criteria are met:\n",
      "2020-08-19 13:48:46.214 | DEBUG    | subtest.multi_partner_learning:compute_test_score:197 -          -> Early stopping criteria are not met, continuing with training.\n",
      "2020-08-19 13:48:46.270 | DEBUG    | subtest.multi_partner_learning:compute_collaborative_round_fedavg:259 - Start new fedavg collaborative round ...\n",
      "2020-08-19 13:48:46.271 | DEBUG    | subtest.multi_partner_learning:compute_collaborative_round_fedavg:271 - (fedavg) Minibatch n°0 of epoch n°19, init aggregated model for each partner with models from previous round\n",
      "2020-08-19 13:48:47.359 | DEBUG    | subtest.multi_partner_learning:log_collaborative_round_partner_result:513 - Epoch 19/19 > Minibatch 00/02 > Partner id #0 (0/2) > val_acc: 0.98\n",
      "2020-08-19 13:48:48.152 | DEBUG    | subtest.multi_partner_learning:log_collaborative_round_partner_result:513 - Epoch 19/19 > Minibatch 00/02 > Partner id #1 (1/2) > val_acc: 0.99\n",
      "2020-08-19 13:48:48.899 | DEBUG    | subtest.multi_partner_learning:log_collaborative_round_partner_result:513 - Epoch 19/19 > Minibatch 00/02 > Partner id #2 (2/2) > val_acc: 0.98\n",
      "2020-08-19 13:48:48.901 | DEBUG    | subtest.multi_partner_learning:compute_collaborative_round_fedavg:303 - End of fedavg collaborative round.\n",
      "2020-08-19 13:48:48.902 | DEBUG    | subtest.multi_partner_learning:compute_collaborative_round_fedavg:259 - Start new fedavg collaborative round ...\n",
      "2020-08-19 13:48:48.902 | DEBUG    | subtest.multi_partner_learning:compute_collaborative_round_fedavg:271 - (fedavg) Minibatch n°1 of epoch n°19, init aggregated model for each partner with models from previous round\n",
      "2020-08-19 13:48:50.191 | DEBUG    | subtest.multi_partner_learning:log_collaborative_round_partner_result:513 - Epoch 19/19 > Minibatch 01/02 > Partner id #0 (0/2) > val_acc: 0.98\n",
      "2020-08-19 13:48:50.993 | DEBUG    | subtest.multi_partner_learning:log_collaborative_round_partner_result:513 - Epoch 19/19 > Minibatch 01/02 > Partner id #1 (1/2) > val_acc: 0.99\n",
      "2020-08-19 13:48:51.751 | DEBUG    | subtest.multi_partner_learning:log_collaborative_round_partner_result:513 - Epoch 19/19 > Minibatch 01/02 > Partner id #2 (2/2) > val_acc: 0.98\n",
      "2020-08-19 13:48:51.754 | DEBUG    | subtest.multi_partner_learning:compute_collaborative_round_fedavg:303 - End of fedavg collaborative round.\n",
      "2020-08-19 13:48:51.755 | DEBUG    | subtest.multi_partner_learning:compute_collaborative_round_fedavg:259 - Start new fedavg collaborative round ...\n",
      "2020-08-19 13:48:51.756 | DEBUG    | subtest.multi_partner_learning:compute_collaborative_round_fedavg:271 - (fedavg) Minibatch n°2 of epoch n°19, init aggregated model for each partner with models from previous round\n",
      "2020-08-19 13:48:52.857 | DEBUG    | subtest.multi_partner_learning:log_collaborative_round_partner_result:513 - Epoch 19/19 > Minibatch 02/02 > Partner id #0 (0/2) > val_acc: 0.98\n",
      "2020-08-19 13:48:53.658 | DEBUG    | subtest.multi_partner_learning:log_collaborative_round_partner_result:513 - Epoch 19/19 > Minibatch 02/02 > Partner id #1 (1/2) > val_acc: 0.98\n",
      "2020-08-19 13:48:54.425 | DEBUG    | subtest.multi_partner_learning:log_collaborative_round_partner_result:513 - Epoch 19/19 > Minibatch 02/02 > Partner id #2 (2/2) > val_acc: 0.98\n",
      "2020-08-19 13:48:54.428 | DEBUG    | subtest.multi_partner_learning:compute_collaborative_round_fedavg:303 - End of fedavg collaborative round.\n",
      "2020-08-19 13:48:54.734 | INFO     | subtest.multi_partner_learning:compute_test_score:184 -    Model evaluation at the end of the epoch: ['0.048', '0.986']\n",
      "2020-08-19 13:48:54.735 | DEBUG    | subtest.multi_partner_learning:compute_test_score:187 -       Checking if early stopping criteria are met:\n",
      "2020-08-19 13:48:54.736 | DEBUG    | subtest.multi_partner_learning:compute_test_score:197 -          -> Early stopping criteria are not met, continuing with training.\n"
     ]
    },
    {
     "name": "stderr",
     "output_type": "stream",
     "text": [
      "2020-08-19 13:48:54.736 | INFO     | subtest.multi_partner_learning:compute_test_score:200 - ### Evaluating model on test data:\n",
      "2020-08-19 13:48:54.966 | INFO     | subtest.multi_partner_learning:compute_test_score:203 -    Model metrics names: ['loss', 'accuracy']\n",
      "2020-08-19 13:48:54.967 | INFO     | subtest.multi_partner_learning:compute_test_score:204 -    Model metrics values: ['0.041', '0.987']\n",
      "2020-08-19 13:48:55.199 | INFO     | subtest.multi_partner_learning:compute_test_score:212 - Training and evaluation on multiple partners: done.\n"
     ]
    },
    {
     "data": {
      "text/plain": [
       "0"
      ]
     },
     "execution_count": 3,
     "metadata": {},
     "output_type": "execute_result"
    }
   ],
   "source": [
    "run_scenario(current_scenario)"
   ]
  },
  {
   "cell_type": "markdown",
   "metadata": {},
   "source": [
    "## Let's play  a bit more with the results\n",
    "\n",
    "First, let's see how our loss behaves"
   ]
  },
  {
   "cell_type": "code",
   "execution_count": 4,
   "metadata": {},
   "outputs": [
    {
     "name": "stdout",
     "output_type": "stream",
     "text": [
      "[0.7112064383824667, 0.40071558554967246, 0.23271952585379282, 0.16545267379283904, 0.1349064653714498, 0.10740008962154389, 0.09630769807100296, 0.07953248739242554, 0.07054527393976848, 0.06468366202712059, 0.06039136552810669, 0.056070049916704494, 0.05242728239297867, 0.04849264366428058, 0.047016125599543254, 0.04279360789060593, 0.04652458814283212, 0.04523593420783679, 0.04036673008898894, 0.04823912021517754]\n"
     ]
    }
   ],
   "source": [
    "losses = current_scenario.mpl.loss_collective_models\n",
    "print(losses)"
   ]
  },
  {
   "cell_type": "code",
   "execution_count": 5,
   "metadata": {},
   "outputs": [
    {
     "data": {
      "text/plain": [
       "<matplotlib.axes._subplots.AxesSubplot at 0x1849f16c408>"
      ]
     },
     "execution_count": 5,
     "metadata": {},
     "output_type": "execute_result"
    },
    {
     "data": {
      "image/png": "[encoded data removed]",
      "text/plain": [
       "<Figure size 432x288 with 1 Axes>"
      ]
     },
     "metadata": {},
     "output_type": "display_data"
    }
   ],
   "source": [
    "x = range(len(losses))\n",
    "y = losses\n",
    "\n",
    "sns.lineplot(x=x, y=y)        "
   ]
  },
  {
   "cell_type": "markdown",
   "metadata": {},
   "source": [
    "### Let's see how our accuracy score goes between each partner and compare it with aggregated model performance\n",
    "\n",
    "First, let's see every accuracy value on each minibatch, for each partner on epoch 1-3"
   ]
  },
  {
   "cell_type": "code",
   "execution_count": 6,
   "metadata": {},
   "outputs": [
    {
     "name": "stdout",
     "output_type": "stream",
     "text": [
      "[[[0.54874998 0.57249999 0.51183331]\n",
      "  [0.73516667 0.74266666 0.7504167 ]\n",
      "  [0.78383332 0.79408336 0.79533333]]\n",
      "\n",
      " [[0.72425002 0.7245     0.8326667 ]\n",
      "  [0.84549999 0.81475002 0.80725002]\n",
      "  [0.86941665 0.89125001 0.89166665]]\n",
      "\n",
      " [[0.88349998 0.89583331 0.87866664]\n",
      "  [0.91891664 0.92308331 0.9095    ]\n",
      "  [0.91583335 0.93241668 0.92591667]]]\n"
     ]
    }
   ],
   "source": [
    "x= current_scenario.mpl.score_matrix_per_partner\n",
    "print(x[:3]) "
   ]
  },
  {
   "cell_type": "markdown",
   "metadata": {},
   "source": [
    "This is a lot of information to deal with, for now, we will only work with the first minibatch of each epoch"
   ]
  },
  {
   "cell_type": "code",
   "execution_count": 7,
   "metadata": {},
   "outputs": [
    {
     "name": "stdout",
     "output_type": "stream",
     "text": [
      "[[0.54874998 0.73516667 0.78383332]\n",
      " [0.72425002 0.84549999 0.86941665]\n",
      " [0.88349998 0.91891664 0.91583335]]\n"
     ]
    }
   ],
   "source": [
    "x = x[:,:,0]\n",
    "print(x[:3])"
   ]
  },
  {
   "cell_type": "markdown",
   "metadata": {},
   "source": [
    "Now let's pack this information into a single dataframe"
   ]
  },
  {
   "cell_type": "code",
   "execution_count": 8,
   "metadata": {},
   "outputs": [
    {
     "data": {
      "text/plain": [
       "<seaborn.axisgrid.FacetGrid at 0x18486e0a748>"
      ]
     },
     "execution_count": 8,
     "metadata": {},
     "output_type": "execute_result"
    },
    {
     "data": {
      "image/png": "[encoded data removed]",
      "text/plain": [
       "<Figure size 443.85x360 with 1 Axes>"
      ]
     },
     "metadata": {},
     "output_type": "display_data"
    }
   ],
   "source": [
    "d = {\n",
    "    'partner 0' : x[:,0],\n",
    "    'partner 1' : x[:,1],\n",
    "    'partner 2' : x[:,2]\n",
    "}\n",
    "\n",
    "df = pd.DataFrame(d)\n",
    "\n",
    "sns.relplot(data = df, kind = \"line\")"
   ]
  },
  {
   "cell_type": "markdown",
   "metadata": {},
   "source": [
    "### Now let's compare this result to our averaged model"
   ]
  },
  {
   "cell_type": "code",
   "execution_count": 9,
   "metadata": {},
   "outputs": [
    {
     "name": "stdout",
     "output_type": "stream",
     "text": [
      "[[0.06566667 0.55874997 0.75999999 0.81108332]\n",
      " [0.81108332 0.79133332 0.83908331 0.89600003]\n",
      " [0.89600003 0.89625001 0.92774999 0.9325    ]\n",
      " [0.9325     0.94383335 0.94566667 0.95383334]\n",
      " [0.95383334 0.95466667 0.96116668 0.96074998]\n",
      " [0.96074998 0.96508336 0.96399999 0.96899998]\n",
      " [0.96899998 0.96799999 0.97216666 0.97233331]\n",
      " [0.97233331 0.97258335 0.97683334 0.97724998]\n",
      " [0.97724998 0.97691667 0.97966665 0.97941667]\n",
      " [0.97941667 0.98058331 0.97991669 0.98075002]\n",
      " [0.98075002 0.98158336 0.98333335 0.98283333]\n",
      " [0.98283333 0.98224998 0.98199999 0.98358333]\n",
      " [0.98358333 0.98366666 0.98441666 0.98549998]\n",
      " [0.98549998 0.98583335 0.98608333 0.98675001]\n",
      " [0.98675001 0.98658335 0.98633331 0.98608333]\n",
      " [0.98608333 0.98733336 0.98783332 0.98774999]\n",
      " [0.98774999 0.98783332 0.98858333 0.98666668]\n",
      " [0.98666668 0.98658335 0.98716664 0.98683333]\n",
      " [0.98683333 0.98733336 0.98699999 0.98783332]\n",
      " [0.98783332 0.98825002 0.98724997 0.986     ]]\n"
     ]
    }
   ],
   "source": [
    "x_collective = current_scenario.mpl.score_matrix_collective_models\n",
    "\n",
    "print(x_collective)"
   ]
  },
  {
   "cell_type": "markdown",
   "metadata": {},
   "source": [
    "We will just focus ourselves on the first mini batch of each epoch again"
   ]
  },
  {
   "cell_type": "code",
   "execution_count": 10,
   "metadata": {},
   "outputs": [
    {
     "name": "stdout",
     "output_type": "stream",
     "text": [
      "           0\n",
      "0   0.065667\n",
      "1   0.811083\n",
      "2   0.896000\n",
      "3   0.932500\n",
      "4   0.953833\n",
      "5   0.960750\n",
      "6   0.969000\n",
      "7   0.972333\n",
      "8   0.977250\n",
      "9   0.979417\n",
      "10  0.980750\n",
      "11  0.982833\n",
      "12  0.983583\n",
      "13  0.985500\n",
      "14  0.986750\n",
      "15  0.986083\n",
      "16  0.987750\n",
      "17  0.986667\n",
      "18  0.986833\n",
      "19  0.987833\n"
     ]
    },
    {
     "data": {
      "text/plain": [
       "<seaborn.axisgrid.FacetGrid at 0x1848724f588>"
      ]
     },
     "execution_count": 10,
     "metadata": {},
     "output_type": "execute_result"
    },
    {
     "data": {
      "image/png": "[encoded data removed]",
      "text/plain": [
       "<Figure size 405.725x360 with 1 Axes>"
      ]
     },
     "metadata": {},
     "output_type": "display_data"
    }
   ],
   "source": [
    "x_collective = x_collective[:,0]\n",
    "\n",
    "df_collective = pd.DataFrame(x_collective)\n",
    "\n",
    "\n",
    "print(df_collective)\n",
    "\n",
    "sns.relplot(data = df_collective, kind = \"line\")"
   ]
  },
  {
   "cell_type": "markdown",
   "metadata": {},
   "source": [
    "### Now let's compare this model to each partner's model :"
   ]
  },
  {
   "cell_type": "code",
   "execution_count": 11,
   "metadata": {},
   "outputs": [],
   "source": [
    "d = {\n",
    "    'partner 0' : x[:,0],\n",
    "    'partner 1' : x[:,1],\n",
    "    'partner 2' : x[:,2],\n",
    "    'Averaged model' : x_collective\n",
    "}"
   ]
  },
  {
   "cell_type": "code",
   "execution_count": 12,
   "metadata": {},
   "outputs": [
    {
     "data": {
      "text/plain": [
       "<seaborn.axisgrid.FacetGrid at 0x1848724fa08>"
      ]
     },
     "execution_count": 12,
     "metadata": {},
     "output_type": "execute_result"
    },
    {
     "data": {
      "image/png": "[encoded data removed]",
      "text/plain": [
       "<Figure size 479.975x360 with 1 Axes>"
      ]
     },
     "metadata": {},
     "output_type": "display_data"
    }
   ],
   "source": [
    "df = pd.DataFrame(d)\n",
    "\n",
    "\n",
    "sns.relplot(data = df, kind = \"line\")"
   ]
  },
  {
   "cell_type": "markdown",
   "metadata": {},
   "source": [
    "### Let's ommit the begining"
   ]
  },
  {
   "cell_type": "code",
   "execution_count": 13,
   "metadata": {},
   "outputs": [
    {
     "data": {
      "text/plain": [
       "<seaborn.axisgrid.FacetGrid at 0x1849eb77d88>"
      ]
     },
     "execution_count": 13,
     "metadata": {},
     "output_type": "execute_result"
    },
    {
     "data": {
      "image/png": "[encoded data removed]",
      "text/plain": [
       "<Figure size 479.975x360 with 1 Axes>"
      ]
     },
     "metadata": {},
     "output_type": "display_data"
    }
   ],
   "source": [
    "df = df.iloc[3:]\n",
    "sns.relplot(data = df, kind = \"line\")"
   ]
  },
  {
   "cell_type": "markdown",
   "metadata": {},
   "source": [
    "### Results \n",
    "\n",
    "The averaged model seems to perform poorly at the start but become better as the training continues"
   ]
  },
  {
   "cell_type": "code",
   "execution_count": null,
   "metadata": {},
   "outputs": [],
   "source": []
  }
 ],
 "metadata": {
  "kernelspec": {
   "display_name": "Python 3",
   "language": "python",
   "name": "python3"
  },
  "language_info": {
   "codemirror_mode": {
    "name": "ipython",
    "version": 3
   },
   "file_extension": ".py",
   "mimetype": "text/x-python",
   "name": "python",
   "nbconvert_exporter": "python",
   "pygments_lexer": "ipython3",
   "version": "3.7.6"
  }
 },
 "nbformat": 4,
 "nbformat_minor": 4
}
