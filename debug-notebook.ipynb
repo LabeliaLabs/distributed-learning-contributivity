{
 "cells": [
  {
   "cell_type": "code",
   "execution_count": 1,
   "metadata": {},
   "outputs": [
    {
     "name": "stderr",
     "output_type": "stream",
     "text": [
      "2021-04-09 23:07:53.165 | INFO     | mplc.utils:init_gpu_config:107 - No GPU found\n"
     ]
    }
   ],
   "source": [
    "\n",
    "from mplc import mpl_utils\n",
    "from mplc import constants\n",
    "from mplc.experiment import Experiment\n",
    "from mplc.scenario import Scenario\n",
    "from mplc.experiment import init_experiment_from_config_file"
   ]
  },
  {
   "cell_type": "code",
   "execution_count": 2,
   "metadata": {},
   "outputs": [
    {
     "name": "stdout",
     "output_type": "stream",
     "text": [
      "2021-04-09 23:07:54.097 | INFO     | mplc.dataset:shorten_dataset_proportion:83 - We don't use the full dataset: only 20.0%\n",
      "2021-04-09 23:07:54.135 | INFO     | mplc.splitter:split:44 - ### Splitting data among partners:\n",
      "2021-04-09 23:07:54.135 | INFO     | mplc.splitter:split:45 - Train data split:\n",
      "2021-04-09 23:07:55.667 | INFO     | mplc.splitter:split:58 -    Partner #0: 2160 samples with labels [7 8 9]\n",
      "2021-04-09 23:07:55.667 | INFO     | mplc.splitter:split:58 -    Partner #1: 8640 samples with labels [0 1 2 3 4 5 6 7]\n",
      "2021-04-09 23:07:55.668 | INFO     | mplc.scenario:log_scenario_description:407 - Description of data scenario configured:\n",
      "2021-04-09 23:07:55.668 | INFO     | mplc.scenario:log_scenario_description:408 -    Number of partners defined: 2\n",
      "2021-04-09 23:07:55.668 | INFO     | mplc.scenario:log_scenario_description:409 -    Data distribution scenario chosen: Stratified samples split\n",
      "2021-04-09 23:07:55.668 | INFO     | mplc.scenario:log_scenario_description:410 -    Multi-partner learning approach: ensembling\n",
      "2021-04-09 23:07:55.668 | INFO     | mplc.scenario:log_scenario_description:411 -    Weighting option: data-volume\n",
      "2021-04-09 23:07:55.669 | INFO     | mplc.scenario:log_scenario_description:412 -    Iterations parameters: 2 epochs > 2 mini-batches > 8 gradient updates per pass\n",
      "2021-04-09 23:07:55.669 | INFO     | mplc.scenario:log_scenario_description:418 - Data loaded: mnist\n",
      "2021-04-09 23:07:55.669 | INFO     | mplc.scenario:log_scenario_description:423 -    10800 train data with 10800 labels\n",
      "2021-04-09 23:07:55.669 | INFO     | mplc.scenario:log_scenario_description:426 -    1200 val data with 1200 labels\n",
      "2021-04-09 23:07:55.669 | INFO     | mplc.scenario:log_scenario_description:429 -    10000 test data with 10000 labels\n",
      "2021-04-09 23:07:55.669 | INFO     | mplc.experiment:run:142 - Now running experiment experiment_2021-04-09_23h07\n",
      "2021-04-09 23:07:55.686 | INFO     | mplc.experiment:run:151 - (Experiment experiment_2021-04-09_23h07) Now starting repeat 1/1\n",
      "2021-04-09 23:07:55.687 | INFO     | mplc.experiment:run:156 - (Experiment experiment_2021-04-09_23h07, repeat 1/1) Now running scenario 1/1\n",
      "2021-04-09 23:07:55.688 | INFO     | mplc.splitter:split:44 - ### Splitting data among partners:\n",
      "2021-04-09 23:07:55.689 | INFO     | mplc.splitter:split:45 - Train data split:\n",
      "2021-04-09 23:07:57.044 | INFO     | mplc.splitter:split:58 -    Partner #0: 2160 samples with labels [7 8 9]\n",
      "2021-04-09 23:07:57.046 | INFO     | mplc.splitter:split:58 -    Partner #1: 8640 samples with labels [0 1 2 3 4 5 6 7]\n",
      "2021-04-09 23:07:57.047 | INFO     | mplc.scenario:log_scenario_description:407 - Description of data scenario configured:\n",
      "2021-04-09 23:07:57.048 | INFO     | mplc.scenario:log_scenario_description:408 -    Number of partners defined: 2\n",
      "2021-04-09 23:07:57.048 | INFO     | mplc.scenario:log_scenario_description:409 -    Data distribution scenario chosen: Stratified samples split\n",
      "2021-04-09 23:07:57.048 | INFO     | mplc.scenario:log_scenario_description:410 -    Multi-partner learning approach: ensembling\n",
      "2021-04-09 23:07:57.049 | INFO     | mplc.scenario:log_scenario_description:411 -    Weighting option: data-volume\n",
      "2021-04-09 23:07:57.049 | INFO     | mplc.scenario:log_scenario_description:412 -    Iterations parameters: 2 epochs > 2 mini-batches > 8 gradient updates per pass\n",
      "2021-04-09 23:07:57.050 | INFO     | mplc.scenario:log_scenario_description:418 - Data loaded: mnist\n",
      "2021-04-09 23:07:57.050 | INFO     | mplc.scenario:log_scenario_description:423 -    10800 train data with 10800 labels\n",
      "2021-04-09 23:07:57.050 | INFO     | mplc.scenario:log_scenario_description:426 -    1200 val data with 1200 labels\n",
      "2021-04-09 23:07:57.051 | INFO     | mplc.scenario:log_scenario_description:429 -    10000 test data with 10000 labels\n",
      "2021-04-09 23:08:00.223 | INFO     | mplc.scenario:run:558 - Now starting running scenario scenario_0_repeat_0_2021-04-09_23h07_e41\n",
      "2021-04-09 23:08:00.282 | INFO     | mplc.multi_partner_learning:init_model:129 - Init new model\n",
      "2021-04-09 23:08:00.285 | INFO     | mplc.multi_partner_learning:__init__:86 - ## Preparation of model's training on partners with ids: ['#0', '#1']\n",
      "2021-04-09 23:08:00.380 | INFO     | mplc.multi_partner_learning:__init__:627 - Init EnsemblePredictionsModel model\n",
      "2021-04-09 23:08:03.774 | INFO     | mplc.multi_partner_learning:log_partner_perf:163 - Epoch 00/01 > Minibatch 00/01 > Partner partner_id #0 (0/1) > val_acc: 0.18\n",
      "2021-04-09 23:08:09.083 | INFO     | mplc.multi_partner_learning:log_partner_perf:163 - Epoch 00/01 > Minibatch 00/01 > Partner partner_id #1 (1/1) > val_acc: 0.74\n",
      "2021-04-09 23:08:11.665 | INFO     | mplc.multi_partner_learning:log_partner_perf:163 - Epoch 01/01 > Minibatch 00/01 > Partner partner_id #0 (0/1) > val_acc: 0.25\n",
      "2021-04-09 23:08:16.975 | INFO     | mplc.multi_partner_learning:log_partner_perf:163 - Epoch 01/01 > Minibatch 00/01 > Partner partner_id #1 (1/1) > val_acc: 0.76\n",
      "2021-04-09 23:08:16.981 | INFO     | mplc.multi_partner_learning:eval_and_log_final_model_test_perf:198 - ### Evaluating model on test data:\n",
      "2021-04-09 23:08:19.399 | INFO     | mplc.multi_partner_learning:eval_and_log_final_model_test_perf:221 -    Model metrics names: ['loss', 'accuracy']\n",
      "2021-04-09 23:08:19.400 | INFO     | mplc.multi_partner_learning:eval_and_log_final_model_test_perf:222 -    Model metrics values: ['0.831', '0.792']\n",
      "2021-04-09 23:08:19.400 | INFO     | mplc.multi_partner_learning:fit:266 - Training and evaluation on multiple partners: done. (19.019 seconds)\n"
     ]
    },
    {
     "name": "stderr",
     "output_type": "stream",
     "text": [
      "/Users/rgoussault/env/contrib/lib/python3.7/site-packages/numpy/core/_asarray.py:136: VisibleDeprecationWarning: Creating an ndarray from ragged nested sequences (which is a list-or-tuple of lists-or-tuples-or ndarrays with different lengths or shapes) is deprecated. If you meant to do this, you must specify 'dtype=object' when creating the ndarray\n",
      "  return array(a, dtype, copy=False, order=order, subok=True)\n"
     ]
    },
    {
     "name": "stdout",
     "output_type": "stream",
     "text": [
      "2021-04-09 23:08:19.782 | INFO     | mplc.experiment:run:175 - (Experiment experiment_2021-04-09_23h07, repeat 1/1, scenario 1/1) Results saved to results.csv in folder experiments/experiment_2021-04-09_23h07\n"
     ]
    }
   ],
   "source": [
    "\n",
    "exp = Experiment()\n",
    "exp.add_scenario(Scenario(2, [0.2, 0.8], epoch_count=2, minibatch_count=2, dataset_name='mnist',samples_split_option=\"stratified\",\n",
    "                                   dataset_proportion=0.2, multi_partner_learning_approach=\"ensembling\"))\n",
    "exp.run()"
   ]
  },
  {
   "cell_type": "code",
   "execution_count": 3,
   "metadata": {},
   "outputs": [
    {
     "data": {
      "text/plain": [
       "[<mplc.scenario.Scenario at 0x10d798450>]"
      ]
     },
     "execution_count": 3,
     "metadata": {},
     "output_type": "execute_result"
    }
   ],
   "source": [
    "exp.scenarios_list"
   ]
  },
  {
   "cell_type": "code",
   "execution_count": 4,
   "metadata": {},
   "outputs": [
    {
     "data": {
      "text/plain": [
       "0    0.7921\n",
       "Name: mpl_test_score, dtype: float64"
      ]
     },
     "execution_count": 4,
     "metadata": {},
     "output_type": "execute_result"
    }
   ],
   "source": [
    "exp.result.mpl_test_score\n"
   ]
  },
  {
   "cell_type": "code",
   "execution_count": null,
   "metadata": {},
   "outputs": [],
   "source": []
  }
 ],
 "metadata": {
  "kernelspec": {
   "display_name": "kernel_contrib",
   "language": "python",
   "name": "kernel_contrib"
  },
  "language_info": {
   "codemirror_mode": {
    "name": "ipython",
    "version": 3
   },
   "file_extension": ".py",
   "mimetype": "text/x-python",
   "name": "python",
   "nbconvert_exporter": "python",
   "pygments_lexer": "ipython3",
   "version": "3.7.10"
  }
 },
 "nbformat": 4,
 "nbformat_minor": 4
}
