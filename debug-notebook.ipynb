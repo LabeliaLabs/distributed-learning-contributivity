{
 "cells": [
  {
   "cell_type": "code",
   "execution_count": 5,
   "metadata": {},
   "outputs": [],
   "source": [
    "\n",
    "from mplc import mpl_utils\n",
    "from mplc import constants\n",
    "from mplc.experiment import Experiment\n",
    "from mplc.scenario import Scenario\n",
    "from mplc.experiment import init_experiment_from_config_file"
   ]
  },
  {
   "cell_type": "code",
   "execution_count": 6,
   "metadata": {},
   "outputs": [
    {
     "name": "stdout",
     "output_type": "stream",
     "text": [
      "2021-02-28 21:17:37.879 | INFO     | mplc.dataset:shorten_dataset_proportion:83 - We don't use the full dataset: only 20.0%\n",
      "2021-02-28 21:17:37.927 | INFO     | mplc.splitter:split:44 - ### Splitting data among partners:\n",
      "2021-02-28 21:17:37.927 | INFO     | mplc.splitter:split:45 - Train data split:\n",
      "2021-02-28 21:17:39.489 | INFO     | mplc.splitter:split:57 -    Partner #0: 2700 samples with labels [7 8 9]\n",
      "2021-02-28 21:17:39.490 | INFO     | mplc.splitter:split:57 -    Partner #1: 2700 samples with labels [4 5 6 7]\n",
      "2021-02-28 21:17:39.491 | INFO     | mplc.splitter:split:57 -    Partner #2: 2700 samples with labels [2 3 4]\n",
      "2021-02-28 21:17:39.492 | INFO     | mplc.splitter:split:57 -    Partner #3: 2700 samples with labels [0 1 2]\n",
      "2021-02-28 21:17:39.496 | INFO     | mplc.scenario:log_scenario_description:407 - Description of data scenario configured:\n",
      "2021-02-28 21:17:39.497 | INFO     | mplc.scenario:log_scenario_description:408 -    Number of partners defined: 4\n",
      "2021-02-28 21:17:39.497 | INFO     | mplc.scenario:log_scenario_description:409 -    Data distribution scenario chosen: Stratified samples split\n",
      "2021-02-28 21:17:39.498 | INFO     | mplc.scenario:log_scenario_description:410 -    Multi-partner learning approach: ensembling\n",
      "2021-02-28 21:17:39.499 | INFO     | mplc.scenario:log_scenario_description:411 -    Weighting option: data-volume\n",
      "2021-02-28 21:17:39.500 | INFO     | mplc.scenario:log_scenario_description:412 -    Iterations parameters: 4 epochs > 2 mini-batches > 8 gradient updates per pass\n",
      "2021-02-28 21:17:39.500 | INFO     | mplc.scenario:log_scenario_description:418 - Data loaded: mnist\n",
      "2021-02-28 21:17:39.501 | INFO     | mplc.scenario:log_scenario_description:422 -    10800 train data with 10800 labels\n",
      "2021-02-28 21:17:39.501 | INFO     | mplc.scenario:log_scenario_description:425 -    1200 val data with 1200 labels\n",
      "2021-02-28 21:17:39.502 | INFO     | mplc.scenario:log_scenario_description:428 -    10000 test data with 10000 labels\n",
      "2021-02-28 21:17:39.503 | INFO     | mplc.experiment:run:142 - Now running experiment experiment_2021-02-28_21h17\n",
      "2021-02-28 21:17:39.524 | INFO     | mplc.experiment:run:151 - (Experiment experiment_2021-02-28_21h17) Now starting repeat 1/1\n",
      "2021-02-28 21:17:39.525 | INFO     | mplc.experiment:run:156 - (Experiment experiment_2021-02-28_21h17, repeat 1/1) Now running scenario 1/1\n",
      "2021-02-28 21:17:39.526 | INFO     | mplc.splitter:split:44 - ### Splitting data among partners:\n",
      "2021-02-28 21:17:39.526 | INFO     | mplc.splitter:split:45 - Train data split:\n",
      "2021-02-28 21:17:41.089 | INFO     | mplc.splitter:split:57 -    Partner #0: 2700 samples with labels [7 8 9]\n",
      "2021-02-28 21:17:41.090 | INFO     | mplc.splitter:split:57 -    Partner #1: 2700 samples with labels [4 5 6 7]\n",
      "2021-02-28 21:17:41.091 | INFO     | mplc.splitter:split:57 -    Partner #2: 2700 samples with labels [2 3 4]\n",
      "2021-02-28 21:17:41.092 | INFO     | mplc.splitter:split:57 -    Partner #3: 2700 samples with labels [0 1 2]\n",
      "2021-02-28 21:17:41.095 | INFO     | mplc.scenario:log_scenario_description:407 - Description of data scenario configured:\n",
      "2021-02-28 21:17:41.096 | INFO     | mplc.scenario:log_scenario_description:408 -    Number of partners defined: 4\n",
      "2021-02-28 21:17:41.097 | INFO     | mplc.scenario:log_scenario_description:409 -    Data distribution scenario chosen: Stratified samples split\n",
      "2021-02-28 21:17:41.097 | INFO     | mplc.scenario:log_scenario_description:410 -    Multi-partner learning approach: ensembling\n",
      "2021-02-28 21:17:41.098 | INFO     | mplc.scenario:log_scenario_description:411 -    Weighting option: data-volume\n",
      "2021-02-28 21:17:41.099 | INFO     | mplc.scenario:log_scenario_description:412 -    Iterations parameters: 4 epochs > 2 mini-batches > 8 gradient updates per pass\n",
      "2021-02-28 21:17:41.100 | INFO     | mplc.scenario:log_scenario_description:418 - Data loaded: mnist\n",
      "2021-02-28 21:17:41.101 | INFO     | mplc.scenario:log_scenario_description:422 -    10800 train data with 10800 labels\n",
      "2021-02-28 21:17:41.101 | INFO     | mplc.scenario:log_scenario_description:425 -    1200 val data with 1200 labels\n",
      "2021-02-28 21:17:41.102 | INFO     | mplc.scenario:log_scenario_description:428 -    10000 test data with 10000 labels\n",
      "2021-02-28 21:17:44.353 | INFO     | mplc.scenario:run:558 - Now starting running scenario scenario_0_repeat_0_2021-02-28_21h17_9b9\n",
      "2021-02-28 21:17:44.395 | INFO     | mplc.multi_partner_learning:init_model:129 - Init new model\n",
      "2021-02-28 21:17:44.397 | INFO     | mplc.multi_partner_learning:__init__:85 - ## Preparation of model's training on partners with ids: ['#0', '#1', '#2', '#3']\n",
      "2021-02-28 21:17:44.572 | INFO     | mplc.multi_partner_learning:__init__:630 - Init EnsemblePredictionsModel model\n",
      "2021-02-28 21:17:48.256 | INFO     | mplc.multi_partner_learning:log_partner_perf:163 - Epoch 00/03 > Minibatch 00/01 > Partner partner_id #0 (0/3) > val_acc: 0.27\n",
      "2021-02-28 21:17:51.164 | INFO     | mplc.multi_partner_learning:log_partner_perf:163 - Epoch 00/03 > Minibatch 00/01 > Partner partner_id #1 (1/3) > val_acc: 0.36\n",
      "2021-02-28 21:17:53.887 | INFO     | mplc.multi_partner_learning:log_partner_perf:163 - Epoch 00/03 > Minibatch 00/01 > Partner partner_id #2 (2/3) > val_acc: 0.28\n",
      "2021-02-28 21:17:56.674 | INFO     | mplc.multi_partner_learning:log_partner_perf:163 - Epoch 00/03 > Minibatch 00/01 > Partner partner_id #3 (3/3) > val_acc: 0.3\n",
      "2021-02-28 21:18:00.190 | INFO     | mplc.multi_partner_learning:log_partner_perf:163 - Epoch 01/03 > Minibatch 00/01 > Partner partner_id #0 (0/3) > val_acc: 0.28\n",
      "2021-02-28 21:18:02.781 | INFO     | mplc.multi_partner_learning:log_partner_perf:163 - Epoch 01/03 > Minibatch 00/01 > Partner partner_id #1 (1/3) > val_acc: 0.35\n",
      "2021-02-28 21:18:05.591 | INFO     | mplc.multi_partner_learning:log_partner_perf:163 - Epoch 01/03 > Minibatch 00/01 > Partner partner_id #2 (2/3) > val_acc: 0.29\n",
      "2021-02-28 21:18:08.608 | INFO     | mplc.multi_partner_learning:log_partner_perf:163 - Epoch 01/03 > Minibatch 00/01 > Partner partner_id #3 (3/3) > val_acc: 0.31\n",
      "2021-02-28 21:18:12.233 | INFO     | mplc.multi_partner_learning:log_partner_perf:163 - Epoch 02/03 > Minibatch 00/01 > Partner partner_id #0 (0/3) > val_acc: 0.29\n",
      "2021-02-28 21:18:14.704 | INFO     | mplc.multi_partner_learning:log_partner_perf:163 - Epoch 02/03 > Minibatch 00/01 > Partner partner_id #1 (1/3) > val_acc: 0.38\n",
      "2021-02-28 21:18:17.257 | INFO     | mplc.multi_partner_learning:log_partner_perf:163 - Epoch 02/03 > Minibatch 00/01 > Partner partner_id #2 (2/3) > val_acc: 0.29\n",
      "2021-02-28 21:18:19.924 | INFO     | mplc.multi_partner_learning:log_partner_perf:163 - Epoch 02/03 > Minibatch 00/01 > Partner partner_id #3 (3/3) > val_acc: 0.31\n",
      "2021-02-28 21:18:23.474 | INFO     | mplc.multi_partner_learning:log_partner_perf:163 - Epoch 03/03 > Minibatch 00/01 > Partner partner_id #0 (0/3) > val_acc: 0.29\n",
      "2021-02-28 21:18:26.219 | INFO     | mplc.multi_partner_learning:log_partner_perf:163 - Epoch 03/03 > Minibatch 00/01 > Partner partner_id #1 (1/3) > val_acc: 0.38\n",
      "2021-02-28 21:18:29.088 | INFO     | mplc.multi_partner_learning:log_partner_perf:163 - Epoch 03/03 > Minibatch 00/01 > Partner partner_id #2 (2/3) > val_acc: 0.29\n",
      "2021-02-28 21:18:31.914 | INFO     | mplc.multi_partner_learning:log_partner_perf:163 - Epoch 03/03 > Minibatch 00/01 > Partner partner_id #3 (3/3) > val_acc: 0.31\n",
      "2021-02-28 21:18:31.917 | INFO     | mplc.multi_partner_learning:eval_and_log_final_model_test_perf:198 - ### Evaluating model on test data:\n",
      "2021-02-28 21:18:36.789 | INFO     | mplc.multi_partner_learning:eval_and_log_final_model_test_perf:221 -    Model metrics names: ['loss', 'accuracy']\n",
      "2021-02-28 21:18:36.789 | INFO     | mplc.multi_partner_learning:eval_and_log_final_model_test_perf:222 -    Model metrics values: ['1.231', '0.676']\n",
      "2021-02-28 21:18:36.790 | INFO     | mplc.multi_partner_learning:fit:266 - Training and evaluation on multiple partners: done. (52.217 seconds)\n"
     ]
    },
    {
     "name": "stderr",
     "output_type": "stream",
     "text": [
      "/Users/rgoussault/Library/Python/3.8/lib/python/site-packages/numpy/core/_asarray.py:136: VisibleDeprecationWarning: Creating an ndarray from ragged nested sequences (which is a list-or-tuple of lists-or-tuples-or ndarrays with different lengths or shapes) is deprecated. If you meant to do this, you must specify 'dtype=object' when creating the ndarray\n",
      "  return array(a, dtype, copy=False, order=order, subok=True)\n"
     ]
    },
    {
     "name": "stdout",
     "output_type": "stream",
     "text": [
      "2021-02-28 21:18:37.508 | INFO     | mplc.experiment:run:174 - (Experiment experiment_2021-02-28_21h17, repeat 1/1, scenario 1/1) Results saved to results.csv in folder experiments/experiment_2021-02-28_21h17\n"
     ]
    }
   ],
   "source": [
    "\n",
    "exp = Experiment()\n",
    "exp.add_scenario(Scenario(4, [0.25,0.25,0.25,0.25], epoch_count=4, minibatch_count=2, dataset_name='mnist',samples_split_option=\"stratified\",\n",
    "                                   dataset_proportion=0.2, multi_partner_learning_approach=\"ensembling\"))\n",
    "exp.run()"
   ]
  },
  {
   "cell_type": "code",
   "execution_count": 7,
   "metadata": {},
   "outputs": [
    {
     "data": {
      "text/plain": [
       "[<mplc.scenario.Scenario at 0x10ec9c640>]"
      ]
     },
     "execution_count": 7,
     "metadata": {},
     "output_type": "execute_result"
    }
   ],
   "source": [
    "exp.scenarios_list"
   ]
  },
  {
   "cell_type": "code",
   "execution_count": 8,
   "metadata": {},
   "outputs": [
    {
     "data": {
      "text/plain": [
       "0    0.6761\n",
       "Name: mpl_test_score, dtype: float64"
      ]
     },
     "execution_count": 8,
     "metadata": {},
     "output_type": "execute_result"
    }
   ],
   "source": [
    "exp.result.mpl_test_score\n"
   ]
  }
 ],
 "metadata": {
  "kernelspec": {
   "display_name": "Python 3",
   "language": "python",
   "name": "python3"
  },
  "language_info": {
   "codemirror_mode": {
    "name": "ipython",
    "version": 3
   },
   "file_extension": ".py",
   "mimetype": "text/x-python",
   "name": "python",
   "nbconvert_exporter": "python",
   "pygments_lexer": "ipython3",
   "version": "3.8.2"
  }
 },
 "nbformat": 4,
 "nbformat_minor": 4
}
