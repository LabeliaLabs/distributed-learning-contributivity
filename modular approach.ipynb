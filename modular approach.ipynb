{
 "cells": [
  {
   "cell_type": "markdown",
   "metadata": {},
   "source": [
    "# Modular approach\n",
    "\n",
    "On this noteboook, we try to add and preprocess our own dataset manually and make our own config\n",
    "\n",
    "\n",
    "https://elitedatascience.com/keras-tutorial-deep-learning-in-python\n",
    "\n",
    "https://medium.com/@mjbhobe/mnist-digits-classification-with-keras-ed6c2374bd0e"
   ]
  },
  {
   "cell_type": "code",
   "execution_count": 1,
   "metadata": {},
   "outputs": [
    {
     "name": "stderr",
     "output_type": "stream",
     "text": [
      "Using TensorFlow backend.\n"
     ]
    }
   ],
   "source": [
    "# imports\n",
    "import matplotlib.pyplot as plt\n",
    "from loguru import logger\n",
    "import tensorflow as tf\n",
    "\n",
    "import main\n",
    "import multi_partner_learning\n",
    "import scenario\n",
    "import utils\n",
    "from dataset import Dataset\n",
    "\n",
    "from pathlib import Path\n",
    "\n",
    "\n",
    "import numpy as np\n",
    " \n",
    "from keras.models import Sequential\n",
    "from keras.layers import Dense, Dropout, Activation, Flatten\n",
    "from keras.layers import Conv2D, MaxPooling2D\n",
    "from keras.utils import np_utils\n",
    "from keras.datasets import mnist"
   ]
  },
  {
   "cell_type": "markdown",
   "metadata": {},
   "source": [
    "# Create custom scenario from mandatory parametters"
   ]
  },
  {
   "cell_type": "code",
   "execution_count": 2,
   "metadata": {},
   "outputs": [],
   "source": [
    "scenario_params = {\n",
    "    'partners_count': 3,\n",
    "    'amounts_per_partner': [0.2, 0.5, 0.3],\n",
    "    'samples_split_option': ['basic', 'random']\n",
    "}"
   ]
  },
  {
   "cell_type": "markdown",
   "metadata": {},
   "source": [
    "# Set values for optinal parametters"
   ]
  },
  {
   "cell_type": "code",
   "execution_count": 3,
   "metadata": {},
   "outputs": [],
   "source": [
    "scenario_params['epoch_count'] = 10\n",
    "scenario_params['minibatch_count'] = 3"
   ]
  },
  {
   "cell_type": "markdown",
   "metadata": {},
   "source": [
    "#### Every other parametter will be set to its default value"
   ]
  },
  {
   "cell_type": "code",
   "execution_count": 4,
   "metadata": {},
   "outputs": [],
   "source": [
    "experiment_path = Path(r\"C:\\GitHub\\distributed-learning-contributivity\\experiments\\trash\")"
   ]
  },
  {
   "cell_type": "code",
   "execution_count": 5,
   "metadata": {},
   "outputs": [
    {
     "name": "stderr",
     "output_type": "stream",
     "text": [
      "2020-08-05 14:18:36.660 | DEBUG    | scenario:__init__:52 - Dataset selected: mnist\n",
      "2020-08-05 14:18:36.660 | DEBUG    | scenario:__init__:87 - Computation use the full dataset for scenario #1\n",
      "2020-08-05 14:18:36.727 | INFO     | scenario:__init__:279 - ### Description of data scenario configured:\n",
      "2020-08-05 14:18:36.728 | INFO     | scenario:__init__:280 -    Number of partners defined: 3\n",
      "2020-08-05 14:18:36.728 | INFO     | scenario:__init__:281 -    Data distribution scenario chosen: random\n",
      "2020-08-05 14:18:36.729 | INFO     | scenario:__init__:282 -    Multi-partner learning approach: fedavg\n",
      "2020-08-05 14:18:36.729 | INFO     | scenario:__init__:283 -    Weighting option: uniform\n",
      "2020-08-05 14:18:36.730 | INFO     | scenario:__init__:284 -    Iterations parameters: 10 epochs > 3 mini-batches > 8 gradient updates per pass\n",
      "2020-08-05 14:18:36.730 | INFO     | scenario:__init__:290 - ### Data loaded: mnist\n",
      "2020-08-05 14:18:36.731 | INFO     | scenario:__init__:291 -    48000 train data with 48000 labels\n",
      "2020-08-05 14:18:36.731 | INFO     | scenario:__init__:292 -    12000 val data with 12000 labels\n",
      "2020-08-05 14:18:36.732 | INFO     | scenario:__init__:293 -    10000 test data with 10000 labels\n"
     ]
    }
   ],
   "source": [
    "current_scenario = scenario.Scenario(\n",
    "        scenario_params,\n",
    "        experiment_path\n",
    "    )"
   ]
  },
  {
   "cell_type": "markdown",
   "metadata": {},
   "source": [
    "# Create Data Set"
   ]
  },
  {
   "cell_type": "code",
   "execution_count": 6,
   "metadata": {},
   "outputs": [],
   "source": [
    "(X_train, y_train), (X_test, y_test) = mnist.load_data()\n",
    "\n",
    "\n",
    "X_train = X_train.reshape(X_train.shape[0],  28, 28, 1)\n",
    "X_test = X_test.reshape(X_test.shape[0], 28, 28, 1)\n",
    "X_train = X_train.astype('float32')\n",
    "X_test = X_test.astype('float32')\n",
    "X_train /= 255\n",
    "X_test /= 255\n",
    "\n",
    "input_shape = (28, 28, 1)\n",
    "num_classes = 10"
   ]
  },
  {
   "cell_type": "markdown",
   "metadata": {},
   "source": [
    "# Create Preprocessing function"
   ]
  },
  {
   "cell_type": "code",
   "execution_count": 7,
   "metadata": {},
   "outputs": [],
   "source": [
    "def preprocess_dataset_labels(y):\n",
    "    y = np_utils.to_categorical(y, 10)\n",
    "    return y"
   ]
  },
  {
   "cell_type": "markdown",
   "metadata": {},
   "source": [
    "# Create Model"
   ]
  },
  {
   "cell_type": "code",
   "execution_count": 8,
   "metadata": {},
   "outputs": [],
   "source": [
    "def generate_new_model_for_dataset():\n",
    "    model = Sequential()\n",
    "    # add Convolutional layers\n",
    "    model.add(Conv2D(filters=32, kernel_size=(3,3), activation='relu', padding='same',\n",
    "                     input_shape=input_shape))\n",
    "    model.add(MaxPooling2D(pool_size=(2,2)))\n",
    "    model.add(Conv2D(filters=64, kernel_size=(3,3), activation='relu', padding='same'))\n",
    "    model.add(MaxPooling2D(pool_size=(2,2)))\n",
    "    model.add(Conv2D(filters=64, kernel_size=(3,3), activation='relu', padding='same'))\n",
    "    model.add(MaxPooling2D(pool_size=(2,2)))    \n",
    "    model.add(Flatten())\n",
    "    # Densely connected layers\n",
    "    model.add(Dense(128, activation='relu'))\n",
    "    # output layer\n",
    "    model.add(Dense(num_classes, activation='softmax'))\n",
    "    # compile with adam optimizer & categorical_crossentropy loss function\n",
    "    model.compile(optimizer='adam', loss='categorical_crossentropy', metrics=['accuracy'])\n",
    "    return model"
   ]
  },
  {
   "cell_type": "markdown",
   "metadata": {},
   "source": [
    "# Assignate dataset to scenario"
   ]
  },
  {
   "cell_type": "code",
   "execution_count": 9,
   "metadata": {},
   "outputs": [],
   "source": [
    "current_scenario.dataset = Dataset(\n",
    "    \"my_dataset\",\n",
    "    X_train,\n",
    "    X_test,\n",
    "    y_train,\n",
    "    y_test,\n",
    "    input_shape,\n",
    "    num_classes,\n",
    "    preprocess_dataset_labels,\n",
    "    generate_new_model_for_dataset\n",
    ")"
   ]
  },
  {
   "cell_type": "code",
   "execution_count": 10,
   "metadata": {},
   "outputs": [
    {
     "name": "stdout",
     "output_type": "stream",
     "text": [
      "my_dataset\n"
     ]
    }
   ],
   "source": [
    "# Check Scenario name\n",
    "print(current_scenario.dataset.name)"
   ]
  },
  {
   "cell_type": "markdown",
   "metadata": {},
   "source": [
    "# Split train and validation sets"
   ]
  },
  {
   "cell_type": "code",
   "execution_count": 11,
   "metadata": {},
   "outputs": [],
   "source": [
    "current_scenario.dataset.train_val_split()"
   ]
  },
  {
   "cell_type": "markdown",
   "metadata": {},
   "source": [
    "# Legacy "
   ]
  },
  {
   "cell_type": "code",
   "execution_count": 12,
   "metadata": {},
   "outputs": [],
   "source": [
    "current_scenario.partners_list = []"
   ]
  },
  {
   "cell_type": "markdown",
   "metadata": {},
   "source": [
    "# Run scenario"
   ]
  },
  {
   "cell_type": "code",
   "execution_count": 13,
   "metadata": {},
   "outputs": [
    {
     "name": "stderr",
     "output_type": "stream",
     "text": [
      "2020-08-05 14:18:37.359 | INFO     | scenario:split_data:534 - ### Splitting data among partners:\n",
      "2020-08-05 14:18:37.360 | INFO     | scenario:split_data:535 -    Simple split performed.\n",
      "2020-08-05 14:18:37.360 | INFO     | scenario:split_data:536 -    Nb of samples split amongst partners: 38880\n",
      "2020-08-05 14:18:37.361 | INFO     | scenario:split_data:538 -    Partner #0: 7776 samples with labels [0, 1, 2, 3, 4, 5, 6, 7, 8, 9]\n",
      "2020-08-05 14:18:37.361 | INFO     | scenario:split_data:538 -    Partner #1: 19440 samples with labels [0, 1, 2, 3, 4, 5, 6, 7, 8, 9]\n",
      "2020-08-05 14:18:37.362 | INFO     | scenario:split_data:538 -    Partner #2: 11664 samples with labels [0, 1, 2, 3, 4, 5, 6, 7, 8, 9]\n",
      "2020-08-05 14:18:37.497 | DEBUG    | scenario:compute_batch_sizes:582 -    Compute batch sizes, partner #0: 324\n",
      "2020-08-05 14:18:37.498 | DEBUG    | scenario:compute_batch_sizes:582 -    Compute batch sizes, partner #1: 810\n",
      "2020-08-05 14:18:37.498 | DEBUG    | scenario:compute_batch_sizes:582 -    Compute batch sizes, partner #2: 486\n",
      "2020-08-05 14:18:37.499 | DEBUG    | scenario:preprocess_scenarios_data:587 - ## Pre-processing datasets of the scenario for keras CNN:\n",
      "2020-08-05 14:18:37.500 | DEBUG    | scenario:preprocess_scenarios_data:591 -    Central early stopping validation set: done.\n",
      "2020-08-05 14:18:37.500 | DEBUG    | scenario:preprocess_scenarios_data:593 -    Central testset: done.\n",
      "2020-08-05 14:18:37.501 | DEBUG    | scenario:preprocess_scenarios_data:615 -    Partner #0: done.\n",
      "2020-08-05 14:18:37.502 | DEBUG    | scenario:preprocess_scenarios_data:615 -    Partner #1: done.\n",
      "2020-08-05 14:18:37.503 | DEBUG    | scenario:preprocess_scenarios_data:615 -    Partner #2: done.\n",
      "2020-08-05 14:18:37.504 | DEBUG    | multi_partner_learning:__init__:69 - MultiPartnerLearning object instantiated.\n",
      "2020-08-05 14:18:37.504 | INFO     | multi_partner_learning:compute_test_score:135 - ## Training and evaluating model on partners with ids: ['#0', '#1', '#2']\n",
      "2020-08-05 14:18:37.551 | DEBUG    | multi_partner_learning:compute_collaborative_round_fedavg:259 - Start new fedavg collaborative round ...\n",
      "2020-08-05 14:18:37.552 | DEBUG    | multi_partner_learning:compute_collaborative_round_fedavg:268 - (fedavg) Very first minibatch of epoch n°0, init new models for each partner\n",
      "2020-08-05 14:18:41.707 | DEBUG    | multi_partner_learning:log_collaborative_round_partner_result:530 - Epoch 00/09 > Minibatch 00/02 > Partner id #0 (0/2) > val_acc: 0.55\n",
      "2020-08-05 14:18:42.937 | DEBUG    | multi_partner_learning:log_collaborative_round_partner_result:530 - Epoch 00/09 > Minibatch 00/02 > Partner id #1 (1/2) > val_acc: 0.54\n",
      "2020-08-05 14:18:44.021 | DEBUG    | multi_partner_learning:log_collaborative_round_partner_result:530 - Epoch 00/09 > Minibatch 00/02 > Partner id #2 (2/2) > val_acc: 0.51\n",
      "2020-08-05 14:18:44.024 | DEBUG    | multi_partner_learning:compute_collaborative_round_fedavg:303 - End of fedavg collaborative round.\n",
      "2020-08-05 14:18:44.024 | DEBUG    | multi_partner_learning:compute_collaborative_round_fedavg:259 - Start new fedavg collaborative round ...\n",
      "2020-08-05 14:18:44.024 | DEBUG    | multi_partner_learning:compute_collaborative_round_fedavg:271 - (fedavg) Minibatch n°1 of epoch n°0, init aggregated model for each partner with models from previous round\n",
      "2020-08-05 14:18:45.085 | DEBUG    | multi_partner_learning:log_collaborative_round_partner_result:530 - Epoch 00/09 > Minibatch 01/02 > Partner id #0 (0/2) > val_acc: 0.72\n",
      "2020-08-05 14:18:45.834 | DEBUG    | multi_partner_learning:log_collaborative_round_partner_result:530 - Epoch 00/09 > Minibatch 01/02 > Partner id #1 (1/2) > val_acc: 0.74\n",
      "2020-08-05 14:18:46.643 | DEBUG    | multi_partner_learning:log_collaborative_round_partner_result:530 - Epoch 00/09 > Minibatch 01/02 > Partner id #2 (2/2) > val_acc: 0.75\n",
      "2020-08-05 14:18:46.646 | DEBUG    | multi_partner_learning:compute_collaborative_round_fedavg:303 - End of fedavg collaborative round.\n",
      "2020-08-05 14:18:46.647 | DEBUG    | multi_partner_learning:compute_collaborative_round_fedavg:259 - Start new fedavg collaborative round ...\n",
      "2020-08-05 14:18:46.648 | DEBUG    | multi_partner_learning:compute_collaborative_round_fedavg:271 - (fedavg) Minibatch n°2 of epoch n°0, init aggregated model for each partner with models from previous round\n",
      "2020-08-05 14:18:47.666 | DEBUG    | multi_partner_learning:log_collaborative_round_partner_result:530 - Epoch 00/09 > Minibatch 02/02 > Partner id #0 (0/2) > val_acc: 0.77\n",
      "2020-08-05 14:18:48.420 | DEBUG    | multi_partner_learning:log_collaborative_round_partner_result:530 - Epoch 00/09 > Minibatch 02/02 > Partner id #1 (1/2) > val_acc: 0.79\n",
      "2020-08-05 14:18:49.140 | DEBUG    | multi_partner_learning:log_collaborative_round_partner_result:530 - Epoch 00/09 > Minibatch 02/02 > Partner id #2 (2/2) > val_acc: 0.78\n",
      "2020-08-05 14:18:49.143 | DEBUG    | multi_partner_learning:compute_collaborative_round_fedavg:303 - End of fedavg collaborative round.\n",
      "2020-08-05 14:18:49.430 | INFO     | multi_partner_learning:compute_test_score:184 -    Model evaluation at the end of the epoch: ['0.720', '0.814']\n",
      "2020-08-05 14:18:49.431 | DEBUG    | multi_partner_learning:compute_test_score:187 -       Checking if early stopping criteria are met:\n",
      "2020-08-05 14:18:49.432 | DEBUG    | multi_partner_learning:compute_test_score:197 -          -> Early stopping criteria are not met, continuing with training.\n",
      "2020-08-05 14:18:49.488 | DEBUG    | multi_partner_learning:compute_collaborative_round_fedavg:259 - Start new fedavg collaborative round ...\n",
      "2020-08-05 14:18:49.489 | DEBUG    | multi_partner_learning:compute_collaborative_round_fedavg:271 - (fedavg) Minibatch n°0 of epoch n°1, init aggregated model for each partner with models from previous round\n",
      "2020-08-05 14:18:50.529 | DEBUG    | multi_partner_learning:log_collaborative_round_partner_result:530 - Epoch 01/09 > Minibatch 00/02 > Partner id #0 (0/2) > val_acc: 0.79\n",
      "2020-08-05 14:18:51.285 | DEBUG    | multi_partner_learning:log_collaborative_round_partner_result:530 - Epoch 01/09 > Minibatch 00/02 > Partner id #1 (1/2) > val_acc: 0.76\n",
      "2020-08-05 14:18:52.118 | DEBUG    | multi_partner_learning:log_collaborative_round_partner_result:530 - Epoch 01/09 > Minibatch 00/02 > Partner id #2 (2/2) > val_acc: 0.85\n",
      "2020-08-05 14:18:52.124 | DEBUG    | multi_partner_learning:compute_collaborative_round_fedavg:303 - End of fedavg collaborative round.\n",
      "2020-08-05 14:18:52.124 | DEBUG    | multi_partner_learning:compute_collaborative_round_fedavg:259 - Start new fedavg collaborative round ...\n",
      "2020-08-05 14:18:52.124 | DEBUG    | multi_partner_learning:compute_collaborative_round_fedavg:271 - (fedavg) Minibatch n°1 of epoch n°1, init aggregated model for each partner with models from previous round\n",
      "2020-08-05 14:18:53.141 | DEBUG    | multi_partner_learning:log_collaborative_round_partner_result:530 - Epoch 01/09 > Minibatch 01/02 > Partner id #0 (0/2) > val_acc: 0.84\n",
      "2020-08-05 14:18:53.887 | DEBUG    | multi_partner_learning:log_collaborative_round_partner_result:530 - Epoch 01/09 > Minibatch 01/02 > Partner id #1 (1/2) > val_acc: 0.83\n",
      "2020-08-05 14:18:54.599 | DEBUG    | multi_partner_learning:log_collaborative_round_partner_result:530 - Epoch 01/09 > Minibatch 01/02 > Partner id #2 (2/2) > val_acc: 0.88\n",
      "2020-08-05 14:18:54.601 | DEBUG    | multi_partner_learning:compute_collaborative_round_fedavg:303 - End of fedavg collaborative round.\n",
      "2020-08-05 14:18:54.602 | DEBUG    | multi_partner_learning:compute_collaborative_round_fedavg:259 - Start new fedavg collaborative round ...\n",
      "2020-08-05 14:18:54.602 | DEBUG    | multi_partner_learning:compute_collaborative_round_fedavg:271 - (fedavg) Minibatch n°2 of epoch n°1, init aggregated model for each partner with models from previous round\n",
      "2020-08-05 14:18:55.609 | DEBUG    | multi_partner_learning:log_collaborative_round_partner_result:530 - Epoch 01/09 > Minibatch 02/02 > Partner id #0 (0/2) > val_acc: 0.88\n",
      "2020-08-05 14:18:56.362 | DEBUG    | multi_partner_learning:log_collaborative_round_partner_result:530 - Epoch 01/09 > Minibatch 02/02 > Partner id #1 (1/2) > val_acc: 0.89\n",
      "2020-08-05 14:18:57.064 | DEBUG    | multi_partner_learning:log_collaborative_round_partner_result:530 - Epoch 01/09 > Minibatch 02/02 > Partner id #2 (2/2) > val_acc: 0.87\n"
     ]
    },
    {
     "name": "stderr",
     "output_type": "stream",
     "text": [
      "2020-08-05 14:18:57.078 | DEBUG    | multi_partner_learning:compute_collaborative_round_fedavg:303 - End of fedavg collaborative round.\n",
      "2020-08-05 14:18:57.360 | INFO     | multi_partner_learning:compute_test_score:184 -    Model evaluation at the end of the epoch: ['0.395', '0.895']\n",
      "2020-08-05 14:18:57.361 | DEBUG    | multi_partner_learning:compute_test_score:187 -       Checking if early stopping criteria are met:\n",
      "2020-08-05 14:18:57.361 | DEBUG    | multi_partner_learning:compute_test_score:197 -          -> Early stopping criteria are not met, continuing with training.\n",
      "2020-08-05 14:18:57.416 | DEBUG    | multi_partner_learning:compute_collaborative_round_fedavg:259 - Start new fedavg collaborative round ...\n",
      "2020-08-05 14:18:57.417 | DEBUG    | multi_partner_learning:compute_collaborative_round_fedavg:271 - (fedavg) Minibatch n°0 of epoch n°2, init aggregated model for each partner with models from previous round\n",
      "2020-08-05 14:18:58.628 | DEBUG    | multi_partner_learning:log_collaborative_round_partner_result:530 - Epoch 02/09 > Minibatch 00/02 > Partner id #0 (0/2) > val_acc: 0.9\n",
      "2020-08-05 14:18:59.369 | DEBUG    | multi_partner_learning:log_collaborative_round_partner_result:530 - Epoch 02/09 > Minibatch 00/02 > Partner id #1 (1/2) > val_acc: 0.9\n",
      "2020-08-05 14:19:00.113 | DEBUG    | multi_partner_learning:log_collaborative_round_partner_result:530 - Epoch 02/09 > Minibatch 00/02 > Partner id #2 (2/2) > val_acc: 0.88\n",
      "2020-08-05 14:19:00.117 | DEBUG    | multi_partner_learning:compute_collaborative_round_fedavg:303 - End of fedavg collaborative round.\n",
      "2020-08-05 14:19:00.118 | DEBUG    | multi_partner_learning:compute_collaborative_round_fedavg:259 - Start new fedavg collaborative round ...\n",
      "2020-08-05 14:19:00.118 | DEBUG    | multi_partner_learning:compute_collaborative_round_fedavg:271 - (fedavg) Minibatch n°1 of epoch n°2, init aggregated model for each partner with models from previous round\n",
      "2020-08-05 14:19:01.134 | DEBUG    | multi_partner_learning:log_collaborative_round_partner_result:530 - Epoch 02/09 > Minibatch 01/02 > Partner id #0 (0/2) > val_acc: 0.92\n",
      "2020-08-05 14:19:01.905 | DEBUG    | multi_partner_learning:log_collaborative_round_partner_result:530 - Epoch 02/09 > Minibatch 01/02 > Partner id #1 (1/2) > val_acc: 0.92\n",
      "2020-08-05 14:19:02.624 | DEBUG    | multi_partner_learning:log_collaborative_round_partner_result:530 - Epoch 02/09 > Minibatch 01/02 > Partner id #2 (2/2) > val_acc: 0.91\n",
      "2020-08-05 14:19:02.627 | DEBUG    | multi_partner_learning:compute_collaborative_round_fedavg:303 - End of fedavg collaborative round.\n",
      "2020-08-05 14:19:02.628 | DEBUG    | multi_partner_learning:compute_collaborative_round_fedavg:259 - Start new fedavg collaborative round ...\n",
      "2020-08-05 14:19:02.628 | DEBUG    | multi_partner_learning:compute_collaborative_round_fedavg:271 - (fedavg) Minibatch n°2 of epoch n°2, init aggregated model for each partner with models from previous round\n",
      "2020-08-05 14:19:03.730 | DEBUG    | multi_partner_learning:log_collaborative_round_partner_result:530 - Epoch 02/09 > Minibatch 02/02 > Partner id #0 (0/2) > val_acc: 0.91\n",
      "2020-08-05 14:19:04.698 | DEBUG    | multi_partner_learning:log_collaborative_round_partner_result:530 - Epoch 02/09 > Minibatch 02/02 > Partner id #1 (1/2) > val_acc: 0.92\n",
      "2020-08-05 14:19:05.482 | DEBUG    | multi_partner_learning:log_collaborative_round_partner_result:530 - Epoch 02/09 > Minibatch 02/02 > Partner id #2 (2/2) > val_acc: 0.93\n",
      "2020-08-05 14:19:05.485 | DEBUG    | multi_partner_learning:compute_collaborative_round_fedavg:303 - End of fedavg collaborative round.\n",
      "2020-08-05 14:19:05.784 | INFO     | multi_partner_learning:compute_test_score:184 -    Model evaluation at the end of the epoch: ['0.255', '0.933']\n",
      "2020-08-05 14:19:05.784 | DEBUG    | multi_partner_learning:compute_test_score:187 -       Checking if early stopping criteria are met:\n",
      "2020-08-05 14:19:05.785 | DEBUG    | multi_partner_learning:compute_test_score:197 -          -> Early stopping criteria are not met, continuing with training.\n",
      "2020-08-05 14:19:05.840 | DEBUG    | multi_partner_learning:compute_collaborative_round_fedavg:259 - Start new fedavg collaborative round ...\n",
      "2020-08-05 14:19:05.841 | DEBUG    | multi_partner_learning:compute_collaborative_round_fedavg:271 - (fedavg) Minibatch n°0 of epoch n°3, init aggregated model for each partner with models from previous round\n",
      "2020-08-05 14:19:06.898 | DEBUG    | multi_partner_learning:log_collaborative_round_partner_result:530 - Epoch 03/09 > Minibatch 00/02 > Partner id #0 (0/2) > val_acc: 0.93\n",
      "2020-08-05 14:19:07.656 | DEBUG    | multi_partner_learning:log_collaborative_round_partner_result:530 - Epoch 03/09 > Minibatch 00/02 > Partner id #1 (1/2) > val_acc: 0.93\n",
      "2020-08-05 14:19:08.406 | DEBUG    | multi_partner_learning:log_collaborative_round_partner_result:530 - Epoch 03/09 > Minibatch 00/02 > Partner id #2 (2/2) > val_acc: 0.93\n",
      "2020-08-05 14:19:08.409 | DEBUG    | multi_partner_learning:compute_collaborative_round_fedavg:303 - End of fedavg collaborative round.\n",
      "2020-08-05 14:19:08.409 | DEBUG    | multi_partner_learning:compute_collaborative_round_fedavg:259 - Start new fedavg collaborative round ...\n",
      "2020-08-05 14:19:08.410 | DEBUG    | multi_partner_learning:compute_collaborative_round_fedavg:271 - (fedavg) Minibatch n°1 of epoch n°3, init aggregated model for each partner with models from previous round\n",
      "2020-08-05 14:19:09.442 | DEBUG    | multi_partner_learning:log_collaborative_round_partner_result:530 - Epoch 03/09 > Minibatch 01/02 > Partner id #0 (0/2) > val_acc: 0.93\n",
      "2020-08-05 14:19:10.195 | DEBUG    | multi_partner_learning:log_collaborative_round_partner_result:530 - Epoch 03/09 > Minibatch 01/02 > Partner id #1 (1/2) > val_acc: 0.94\n",
      "2020-08-05 14:19:11.102 | DEBUG    | multi_partner_learning:log_collaborative_round_partner_result:530 - Epoch 03/09 > Minibatch 01/02 > Partner id #2 (2/2) > val_acc: 0.93\n",
      "2020-08-05 14:19:11.105 | DEBUG    | multi_partner_learning:compute_collaborative_round_fedavg:303 - End of fedavg collaborative round.\n",
      "2020-08-05 14:19:11.106 | DEBUG    | multi_partner_learning:compute_collaborative_round_fedavg:259 - Start new fedavg collaborative round ...\n",
      "2020-08-05 14:19:11.106 | DEBUG    | multi_partner_learning:compute_collaborative_round_fedavg:271 - (fedavg) Minibatch n°2 of epoch n°3, init aggregated model for each partner with models from previous round\n",
      "2020-08-05 14:19:12.211 | DEBUG    | multi_partner_learning:log_collaborative_round_partner_result:530 - Epoch 03/09 > Minibatch 02/02 > Partner id #0 (0/2) > val_acc: 0.94\n",
      "2020-08-05 14:19:12.994 | DEBUG    | multi_partner_learning:log_collaborative_round_partner_result:530 - Epoch 03/09 > Minibatch 02/02 > Partner id #1 (1/2) > val_acc: 0.95\n",
      "2020-08-05 14:19:13.726 | DEBUG    | multi_partner_learning:log_collaborative_round_partner_result:530 - Epoch 03/09 > Minibatch 02/02 > Partner id #2 (2/2) > val_acc: 0.94\n",
      "2020-08-05 14:19:13.728 | DEBUG    | multi_partner_learning:compute_collaborative_round_fedavg:303 - End of fedavg collaborative round.\n",
      "2020-08-05 14:19:14.060 | INFO     | multi_partner_learning:compute_test_score:184 -    Model evaluation at the end of the epoch: ['0.187', '0.951']\n",
      "2020-08-05 14:19:14.061 | DEBUG    | multi_partner_learning:compute_test_score:187 -       Checking if early stopping criteria are met:\n",
      "2020-08-05 14:19:14.062 | DEBUG    | multi_partner_learning:compute_test_score:197 -          -> Early stopping criteria are not met, continuing with training.\n",
      "2020-08-05 14:19:14.120 | DEBUG    | multi_partner_learning:compute_collaborative_round_fedavg:259 - Start new fedavg collaborative round ...\n",
      "2020-08-05 14:19:14.121 | DEBUG    | multi_partner_learning:compute_collaborative_round_fedavg:271 - (fedavg) Minibatch n°0 of epoch n°4, init aggregated model for each partner with models from previous round\n",
      "2020-08-05 14:19:15.273 | DEBUG    | multi_partner_learning:log_collaborative_round_partner_result:530 - Epoch 04/09 > Minibatch 00/02 > Partner id #0 (0/2) > val_acc: 0.95\n",
      "2020-08-05 14:19:16.100 | DEBUG    | multi_partner_learning:log_collaborative_round_partner_result:530 - Epoch 04/09 > Minibatch 00/02 > Partner id #1 (1/2) > val_acc: 0.92\n"
     ]
    },
    {
     "name": "stderr",
     "output_type": "stream",
     "text": [
      "2020-08-05 14:19:16.866 | DEBUG    | multi_partner_learning:log_collaborative_round_partner_result:530 - Epoch 04/09 > Minibatch 00/02 > Partner id #2 (2/2) > val_acc: 0.95\n",
      "2020-08-05 14:19:16.868 | DEBUG    | multi_partner_learning:compute_collaborative_round_fedavg:303 - End of fedavg collaborative round.\n",
      "2020-08-05 14:19:16.869 | DEBUG    | multi_partner_learning:compute_collaborative_round_fedavg:259 - Start new fedavg collaborative round ...\n",
      "2020-08-05 14:19:16.869 | DEBUG    | multi_partner_learning:compute_collaborative_round_fedavg:271 - (fedavg) Minibatch n°1 of epoch n°4, init aggregated model for each partner with models from previous round\n",
      "2020-08-05 14:19:18.162 | DEBUG    | multi_partner_learning:log_collaborative_round_partner_result:530 - Epoch 04/09 > Minibatch 01/02 > Partner id #0 (0/2) > val_acc: 0.95\n",
      "2020-08-05 14:19:18.944 | DEBUG    | multi_partner_learning:log_collaborative_round_partner_result:530 - Epoch 04/09 > Minibatch 01/02 > Partner id #1 (1/2) > val_acc: 0.96\n",
      "2020-08-05 14:19:19.679 | DEBUG    | multi_partner_learning:log_collaborative_round_partner_result:530 - Epoch 04/09 > Minibatch 01/02 > Partner id #2 (2/2) > val_acc: 0.95\n",
      "2020-08-05 14:19:19.681 | DEBUG    | multi_partner_learning:compute_collaborative_round_fedavg:303 - End of fedavg collaborative round.\n",
      "2020-08-05 14:19:19.682 | DEBUG    | multi_partner_learning:compute_collaborative_round_fedavg:259 - Start new fedavg collaborative round ...\n",
      "2020-08-05 14:19:19.682 | DEBUG    | multi_partner_learning:compute_collaborative_round_fedavg:271 - (fedavg) Minibatch n°2 of epoch n°4, init aggregated model for each partner with models from previous round\n",
      "2020-08-05 14:19:20.705 | DEBUG    | multi_partner_learning:log_collaborative_round_partner_result:530 - Epoch 04/09 > Minibatch 02/02 > Partner id #0 (0/2) > val_acc: 0.94\n",
      "2020-08-05 14:19:21.527 | DEBUG    | multi_partner_learning:log_collaborative_round_partner_result:530 - Epoch 04/09 > Minibatch 02/02 > Partner id #1 (1/2) > val_acc: 0.95\n",
      "2020-08-05 14:19:22.262 | DEBUG    | multi_partner_learning:log_collaborative_round_partner_result:530 - Epoch 04/09 > Minibatch 02/02 > Partner id #2 (2/2) > val_acc: 0.96\n",
      "2020-08-05 14:19:22.264 | DEBUG    | multi_partner_learning:compute_collaborative_round_fedavg:303 - End of fedavg collaborative round.\n",
      "2020-08-05 14:19:22.551 | INFO     | multi_partner_learning:compute_test_score:184 -    Model evaluation at the end of the epoch: ['0.147', '0.956']\n",
      "2020-08-05 14:19:22.552 | DEBUG    | multi_partner_learning:compute_test_score:187 -       Checking if early stopping criteria are met:\n",
      "2020-08-05 14:19:22.552 | DEBUG    | multi_partner_learning:compute_test_score:197 -          -> Early stopping criteria are not met, continuing with training.\n",
      "2020-08-05 14:19:22.606 | DEBUG    | multi_partner_learning:compute_collaborative_round_fedavg:259 - Start new fedavg collaborative round ...\n",
      "2020-08-05 14:19:22.607 | DEBUG    | multi_partner_learning:compute_collaborative_round_fedavg:271 - (fedavg) Minibatch n°0 of epoch n°5, init aggregated model for each partner with models from previous round\n",
      "2020-08-05 14:19:23.639 | DEBUG    | multi_partner_learning:log_collaborative_round_partner_result:530 - Epoch 05/09 > Minibatch 00/02 > Partner id #0 (0/2) > val_acc: 0.96\n",
      "2020-08-05 14:19:24.574 | DEBUG    | multi_partner_learning:log_collaborative_round_partner_result:530 - Epoch 05/09 > Minibatch 00/02 > Partner id #1 (1/2) > val_acc: 0.95\n",
      "2020-08-05 14:19:25.287 | DEBUG    | multi_partner_learning:log_collaborative_round_partner_result:530 - Epoch 05/09 > Minibatch 00/02 > Partner id #2 (2/2) > val_acc: 0.94\n",
      "2020-08-05 14:19:25.290 | DEBUG    | multi_partner_learning:compute_collaborative_round_fedavg:303 - End of fedavg collaborative round.\n",
      "2020-08-05 14:19:25.290 | DEBUG    | multi_partner_learning:compute_collaborative_round_fedavg:259 - Start new fedavg collaborative round ...\n",
      "2020-08-05 14:19:25.291 | DEBUG    | multi_partner_learning:compute_collaborative_round_fedavg:271 - (fedavg) Minibatch n°1 of epoch n°5, init aggregated model for each partner with models from previous round\n",
      "2020-08-05 14:19:26.310 | DEBUG    | multi_partner_learning:log_collaborative_round_partner_result:530 - Epoch 05/09 > Minibatch 01/02 > Partner id #0 (0/2) > val_acc: 0.95\n",
      "2020-08-05 14:19:27.061 | DEBUG    | multi_partner_learning:log_collaborative_round_partner_result:530 - Epoch 05/09 > Minibatch 01/02 > Partner id #1 (1/2) > val_acc: 0.96\n",
      "2020-08-05 14:19:27.779 | DEBUG    | multi_partner_learning:log_collaborative_round_partner_result:530 - Epoch 05/09 > Minibatch 01/02 > Partner id #2 (2/2) > val_acc: 0.96\n",
      "2020-08-05 14:19:27.781 | DEBUG    | multi_partner_learning:compute_collaborative_round_fedavg:303 - End of fedavg collaborative round.\n",
      "2020-08-05 14:19:27.782 | DEBUG    | multi_partner_learning:compute_collaborative_round_fedavg:259 - Start new fedavg collaborative round ...\n",
      "2020-08-05 14:19:27.782 | DEBUG    | multi_partner_learning:compute_collaborative_round_fedavg:271 - (fedavg) Minibatch n°2 of epoch n°5, init aggregated model for each partner with models from previous round\n",
      "2020-08-05 14:19:28.818 | DEBUG    | multi_partner_learning:log_collaborative_round_partner_result:530 - Epoch 05/09 > Minibatch 02/02 > Partner id #0 (0/2) > val_acc: 0.96\n",
      "2020-08-05 14:19:29.583 | DEBUG    | multi_partner_learning:log_collaborative_round_partner_result:530 - Epoch 05/09 > Minibatch 02/02 > Partner id #1 (1/2) > val_acc: 0.96\n",
      "2020-08-05 14:19:30.450 | DEBUG    | multi_partner_learning:log_collaborative_round_partner_result:530 - Epoch 05/09 > Minibatch 02/02 > Partner id #2 (2/2) > val_acc: 0.95\n",
      "2020-08-05 14:19:30.454 | DEBUG    | multi_partner_learning:compute_collaborative_round_fedavg:303 - End of fedavg collaborative round.\n",
      "2020-08-05 14:19:30.736 | INFO     | multi_partner_learning:compute_test_score:184 -    Model evaluation at the end of the epoch: ['0.116', '0.965']\n",
      "2020-08-05 14:19:30.737 | DEBUG    | multi_partner_learning:compute_test_score:187 -       Checking if early stopping criteria are met:\n",
      "2020-08-05 14:19:30.737 | DEBUG    | multi_partner_learning:compute_test_score:197 -          -> Early stopping criteria are not met, continuing with training.\n",
      "2020-08-05 14:19:30.791 | DEBUG    | multi_partner_learning:compute_collaborative_round_fedavg:259 - Start new fedavg collaborative round ...\n",
      "2020-08-05 14:19:30.792 | DEBUG    | multi_partner_learning:compute_collaborative_round_fedavg:271 - (fedavg) Minibatch n°0 of epoch n°6, init aggregated model for each partner with models from previous round\n",
      "2020-08-05 14:19:31.837 | DEBUG    | multi_partner_learning:log_collaborative_round_partner_result:530 - Epoch 06/09 > Minibatch 00/02 > Partner id #0 (0/2) > val_acc: 0.97\n",
      "2020-08-05 14:19:32.601 | DEBUG    | multi_partner_learning:log_collaborative_round_partner_result:530 - Epoch 06/09 > Minibatch 00/02 > Partner id #1 (1/2) > val_acc: 0.96\n",
      "2020-08-05 14:19:33.314 | DEBUG    | multi_partner_learning:log_collaborative_round_partner_result:530 - Epoch 06/09 > Minibatch 00/02 > Partner id #2 (2/2) > val_acc: 0.97\n",
      "2020-08-05 14:19:33.317 | DEBUG    | multi_partner_learning:compute_collaborative_round_fedavg:303 - End of fedavg collaborative round.\n",
      "2020-08-05 14:19:33.317 | DEBUG    | multi_partner_learning:compute_collaborative_round_fedavg:259 - Start new fedavg collaborative round ...\n",
      "2020-08-05 14:19:33.318 | DEBUG    | multi_partner_learning:compute_collaborative_round_fedavg:271 - (fedavg) Minibatch n°1 of epoch n°6, init aggregated model for each partner with models from previous round\n",
      "2020-08-05 14:19:34.347 | DEBUG    | multi_partner_learning:log_collaborative_round_partner_result:530 - Epoch 06/09 > Minibatch 01/02 > Partner id #0 (0/2) > val_acc: 0.96\n",
      "2020-08-05 14:19:35.112 | DEBUG    | multi_partner_learning:log_collaborative_round_partner_result:530 - Epoch 06/09 > Minibatch 01/02 > Partner id #1 (1/2) > val_acc: 0.97\n",
      "2020-08-05 14:19:35.844 | DEBUG    | multi_partner_learning:log_collaborative_round_partner_result:530 - Epoch 06/09 > Minibatch 01/02 > Partner id #2 (2/2) > val_acc: 0.97\n",
      "2020-08-05 14:19:35.847 | DEBUG    | multi_partner_learning:compute_collaborative_round_fedavg:303 - End of fedavg collaborative round.\n"
     ]
    },
    {
     "name": "stderr",
     "output_type": "stream",
     "text": [
      "2020-08-05 14:19:35.848 | DEBUG    | multi_partner_learning:compute_collaborative_round_fedavg:259 - Start new fedavg collaborative round ...\n",
      "2020-08-05 14:19:35.848 | DEBUG    | multi_partner_learning:compute_collaborative_round_fedavg:271 - (fedavg) Minibatch n°2 of epoch n°6, init aggregated model for each partner with models from previous round\n",
      "2020-08-05 14:19:37.089 | DEBUG    | multi_partner_learning:log_collaborative_round_partner_result:530 - Epoch 06/09 > Minibatch 02/02 > Partner id #0 (0/2) > val_acc: 0.97\n",
      "2020-08-05 14:19:37.860 | DEBUG    | multi_partner_learning:log_collaborative_round_partner_result:530 - Epoch 06/09 > Minibatch 02/02 > Partner id #1 (1/2) > val_acc: 0.97\n",
      "2020-08-05 14:19:38.590 | DEBUG    | multi_partner_learning:log_collaborative_round_partner_result:530 - Epoch 06/09 > Minibatch 02/02 > Partner id #2 (2/2) > val_acc: 0.97\n",
      "2020-08-05 14:19:38.593 | DEBUG    | multi_partner_learning:compute_collaborative_round_fedavg:303 - End of fedavg collaborative round.\n",
      "2020-08-05 14:19:38.877 | INFO     | multi_partner_learning:compute_test_score:184 -    Model evaluation at the end of the epoch: ['0.093', '0.974']\n",
      "2020-08-05 14:19:38.878 | DEBUG    | multi_partner_learning:compute_test_score:187 -       Checking if early stopping criteria are met:\n",
      "2020-08-05 14:19:38.878 | DEBUG    | multi_partner_learning:compute_test_score:197 -          -> Early stopping criteria are not met, continuing with training.\n",
      "2020-08-05 14:19:38.934 | DEBUG    | multi_partner_learning:compute_collaborative_round_fedavg:259 - Start new fedavg collaborative round ...\n",
      "2020-08-05 14:19:38.935 | DEBUG    | multi_partner_learning:compute_collaborative_round_fedavg:271 - (fedavg) Minibatch n°0 of epoch n°7, init aggregated model for each partner with models from previous round\n",
      "2020-08-05 14:19:39.971 | DEBUG    | multi_partner_learning:log_collaborative_round_partner_result:530 - Epoch 07/09 > Minibatch 00/02 > Partner id #0 (0/2) > val_acc: 0.97\n",
      "2020-08-05 14:19:40.735 | DEBUG    | multi_partner_learning:log_collaborative_round_partner_result:530 - Epoch 07/09 > Minibatch 00/02 > Partner id #1 (1/2) > val_acc: 0.96\n",
      "2020-08-05 14:19:41.457 | DEBUG    | multi_partner_learning:log_collaborative_round_partner_result:530 - Epoch 07/09 > Minibatch 00/02 > Partner id #2 (2/2) > val_acc: 0.97\n",
      "2020-08-05 14:19:41.460 | DEBUG    | multi_partner_learning:compute_collaborative_round_fedavg:303 - End of fedavg collaborative round.\n",
      "2020-08-05 14:19:41.461 | DEBUG    | multi_partner_learning:compute_collaborative_round_fedavg:259 - Start new fedavg collaborative round ...\n",
      "2020-08-05 14:19:41.461 | DEBUG    | multi_partner_learning:compute_collaborative_round_fedavg:271 - (fedavg) Minibatch n°1 of epoch n°7, init aggregated model for each partner with models from previous round\n",
      "2020-08-05 14:19:42.497 | DEBUG    | multi_partner_learning:log_collaborative_round_partner_result:530 - Epoch 07/09 > Minibatch 01/02 > Partner id #0 (0/2) > val_acc: 0.96\n",
      "2020-08-05 14:19:43.255 | DEBUG    | multi_partner_learning:log_collaborative_round_partner_result:530 - Epoch 07/09 > Minibatch 01/02 > Partner id #1 (1/2) > val_acc: 0.97\n",
      "2020-08-05 14:19:44.151 | DEBUG    | multi_partner_learning:log_collaborative_round_partner_result:530 - Epoch 07/09 > Minibatch 01/02 > Partner id #2 (2/2) > val_acc: 0.97\n",
      "2020-08-05 14:19:44.154 | DEBUG    | multi_partner_learning:compute_collaborative_round_fedavg:303 - End of fedavg collaborative round.\n",
      "2020-08-05 14:19:44.154 | DEBUG    | multi_partner_learning:compute_collaborative_round_fedavg:259 - Start new fedavg collaborative round ...\n",
      "2020-08-05 14:19:44.155 | DEBUG    | multi_partner_learning:compute_collaborative_round_fedavg:271 - (fedavg) Minibatch n°2 of epoch n°7, init aggregated model for each partner with models from previous round\n",
      "2020-08-05 14:19:45.196 | DEBUG    | multi_partner_learning:log_collaborative_round_partner_result:530 - Epoch 07/09 > Minibatch 02/02 > Partner id #0 (0/2) > val_acc: 0.97\n",
      "2020-08-05 14:19:45.961 | DEBUG    | multi_partner_learning:log_collaborative_round_partner_result:530 - Epoch 07/09 > Minibatch 02/02 > Partner id #1 (1/2) > val_acc: 0.98\n",
      "2020-08-05 14:19:46.688 | DEBUG    | multi_partner_learning:log_collaborative_round_partner_result:530 - Epoch 07/09 > Minibatch 02/02 > Partner id #2 (2/2) > val_acc: 0.97\n",
      "2020-08-05 14:19:46.691 | DEBUG    | multi_partner_learning:compute_collaborative_round_fedavg:303 - End of fedavg collaborative round.\n",
      "2020-08-05 14:19:46.973 | INFO     | multi_partner_learning:compute_test_score:184 -    Model evaluation at the end of the epoch: ['0.083', '0.976']\n",
      "2020-08-05 14:19:46.974 | DEBUG    | multi_partner_learning:compute_test_score:187 -       Checking if early stopping criteria are met:\n",
      "2020-08-05 14:19:46.974 | DEBUG    | multi_partner_learning:compute_test_score:197 -          -> Early stopping criteria are not met, continuing with training.\n",
      "2020-08-05 14:19:47.029 | DEBUG    | multi_partner_learning:compute_collaborative_round_fedavg:259 - Start new fedavg collaborative round ...\n",
      "2020-08-05 14:19:47.030 | DEBUG    | multi_partner_learning:compute_collaborative_round_fedavg:271 - (fedavg) Minibatch n°0 of epoch n°8, init aggregated model for each partner with models from previous round\n",
      "2020-08-05 14:19:48.066 | DEBUG    | multi_partner_learning:log_collaborative_round_partner_result:530 - Epoch 08/09 > Minibatch 00/02 > Partner id #0 (0/2) > val_acc: 0.97\n",
      "2020-08-05 14:19:48.828 | DEBUG    | multi_partner_learning:log_collaborative_round_partner_result:530 - Epoch 08/09 > Minibatch 00/02 > Partner id #1 (1/2) > val_acc: 0.97\n",
      "2020-08-05 14:19:49.554 | DEBUG    | multi_partner_learning:log_collaborative_round_partner_result:530 - Epoch 08/09 > Minibatch 00/02 > Partner id #2 (2/2) > val_acc: 0.97\n",
      "2020-08-05 14:19:49.557 | DEBUG    | multi_partner_learning:compute_collaborative_round_fedavg:303 - End of fedavg collaborative round.\n",
      "2020-08-05 14:19:49.557 | DEBUG    | multi_partner_learning:compute_collaborative_round_fedavg:259 - Start new fedavg collaborative round ...\n",
      "2020-08-05 14:19:49.557 | DEBUG    | multi_partner_learning:compute_collaborative_round_fedavg:271 - (fedavg) Minibatch n°1 of epoch n°8, init aggregated model for each partner with models from previous round\n",
      "2020-08-05 14:19:50.819 | DEBUG    | multi_partner_learning:log_collaborative_round_partner_result:530 - Epoch 08/09 > Minibatch 01/02 > Partner id #0 (0/2) > val_acc: 0.97\n",
      "2020-08-05 14:19:51.584 | DEBUG    | multi_partner_learning:log_collaborative_round_partner_result:530 - Epoch 08/09 > Minibatch 01/02 > Partner id #1 (1/2) > val_acc: 0.97\n",
      "2020-08-05 14:19:52.310 | DEBUG    | multi_partner_learning:log_collaborative_round_partner_result:530 - Epoch 08/09 > Minibatch 01/02 > Partner id #2 (2/2) > val_acc: 0.98\n",
      "2020-08-05 14:19:52.313 | DEBUG    | multi_partner_learning:compute_collaborative_round_fedavg:303 - End of fedavg collaborative round.\n",
      "2020-08-05 14:19:52.313 | DEBUG    | multi_partner_learning:compute_collaborative_round_fedavg:259 - Start new fedavg collaborative round ...\n",
      "2020-08-05 14:19:52.314 | DEBUG    | multi_partner_learning:compute_collaborative_round_fedavg:271 - (fedavg) Minibatch n°2 of epoch n°8, init aggregated model for each partner with models from previous round\n",
      "2020-08-05 14:19:53.369 | DEBUG    | multi_partner_learning:log_collaborative_round_partner_result:530 - Epoch 08/09 > Minibatch 02/02 > Partner id #0 (0/2) > val_acc: 0.97\n",
      "2020-08-05 14:19:54.128 | DEBUG    | multi_partner_learning:log_collaborative_round_partner_result:530 - Epoch 08/09 > Minibatch 02/02 > Partner id #1 (1/2) > val_acc: 0.97\n",
      "2020-08-05 14:19:54.847 | DEBUG    | multi_partner_learning:log_collaborative_round_partner_result:530 - Epoch 08/09 > Minibatch 02/02 > Partner id #2 (2/2) > val_acc: 0.98\n",
      "2020-08-05 14:19:54.850 | DEBUG    | multi_partner_learning:compute_collaborative_round_fedavg:303 - End of fedavg collaborative round.\n",
      "2020-08-05 14:19:55.130 | INFO     | multi_partner_learning:compute_test_score:184 -    Model evaluation at the end of the epoch: ['0.072', '0.979']\n",
      "2020-08-05 14:19:55.130 | DEBUG    | multi_partner_learning:compute_test_score:187 -       Checking if early stopping criteria are met:\n"
     ]
    },
    {
     "name": "stderr",
     "output_type": "stream",
     "text": [
      "2020-08-05 14:19:55.131 | DEBUG    | multi_partner_learning:compute_test_score:197 -          -> Early stopping criteria are not met, continuing with training.\n",
      "2020-08-05 14:19:55.187 | DEBUG    | multi_partner_learning:compute_collaborative_round_fedavg:259 - Start new fedavg collaborative round ...\n",
      "2020-08-05 14:19:55.187 | DEBUG    | multi_partner_learning:compute_collaborative_round_fedavg:271 - (fedavg) Minibatch n°0 of epoch n°9, init aggregated model for each partner with models from previous round\n",
      "2020-08-05 14:19:56.399 | DEBUG    | multi_partner_learning:log_collaborative_round_partner_result:530 - Epoch 09/09 > Minibatch 00/02 > Partner id #0 (0/2) > val_acc: 0.97\n",
      "2020-08-05 14:19:57.163 | DEBUG    | multi_partner_learning:log_collaborative_round_partner_result:530 - Epoch 09/09 > Minibatch 00/02 > Partner id #1 (1/2) > val_acc: 0.98\n",
      "2020-08-05 14:19:57.882 | DEBUG    | multi_partner_learning:log_collaborative_round_partner_result:530 - Epoch 09/09 > Minibatch 00/02 > Partner id #2 (2/2) > val_acc: 0.97\n",
      "2020-08-05 14:19:57.885 | DEBUG    | multi_partner_learning:compute_collaborative_round_fedavg:303 - End of fedavg collaborative round.\n",
      "2020-08-05 14:19:57.886 | DEBUG    | multi_partner_learning:compute_collaborative_round_fedavg:259 - Start new fedavg collaborative round ...\n",
      "2020-08-05 14:19:57.886 | DEBUG    | multi_partner_learning:compute_collaborative_round_fedavg:271 - (fedavg) Minibatch n°1 of epoch n°9, init aggregated model for each partner with models from previous round\n",
      "2020-08-05 14:19:58.921 | DEBUG    | multi_partner_learning:log_collaborative_round_partner_result:530 - Epoch 09/09 > Minibatch 01/02 > Partner id #0 (0/2) > val_acc: 0.98\n",
      "2020-08-05 14:19:59.686 | DEBUG    | multi_partner_learning:log_collaborative_round_partner_result:530 - Epoch 09/09 > Minibatch 01/02 > Partner id #1 (1/2) > val_acc: 0.97\n",
      "2020-08-05 14:20:00.403 | DEBUG    | multi_partner_learning:log_collaborative_round_partner_result:530 - Epoch 09/09 > Minibatch 01/02 > Partner id #2 (2/2) > val_acc: 0.97\n",
      "2020-08-05 14:20:00.406 | DEBUG    | multi_partner_learning:compute_collaborative_round_fedavg:303 - End of fedavg collaborative round.\n",
      "2020-08-05 14:20:00.407 | DEBUG    | multi_partner_learning:compute_collaborative_round_fedavg:259 - Start new fedavg collaborative round ...\n",
      "2020-08-05 14:20:00.407 | DEBUG    | multi_partner_learning:compute_collaborative_round_fedavg:271 - (fedavg) Minibatch n°2 of epoch n°9, init aggregated model for each partner with models from previous round\n",
      "2020-08-05 14:20:01.435 | DEBUG    | multi_partner_learning:log_collaborative_round_partner_result:530 - Epoch 09/09 > Minibatch 02/02 > Partner id #0 (0/2) > val_acc: 0.98\n",
      "2020-08-05 14:20:02.338 | DEBUG    | multi_partner_learning:log_collaborative_round_partner_result:530 - Epoch 09/09 > Minibatch 02/02 > Partner id #1 (1/2) > val_acc: 0.97\n",
      "2020-08-05 14:20:03.063 | DEBUG    | multi_partner_learning:log_collaborative_round_partner_result:530 - Epoch 09/09 > Minibatch 02/02 > Partner id #2 (2/2) > val_acc: 0.98\n",
      "2020-08-05 14:20:03.065 | DEBUG    | multi_partner_learning:compute_collaborative_round_fedavg:303 - End of fedavg collaborative round.\n",
      "2020-08-05 14:20:03.348 | INFO     | multi_partner_learning:compute_test_score:184 -    Model evaluation at the end of the epoch: ['0.069', '0.979']\n",
      "2020-08-05 14:20:03.349 | DEBUG    | multi_partner_learning:compute_test_score:187 -       Checking if early stopping criteria are met:\n",
      "2020-08-05 14:20:03.349 | DEBUG    | multi_partner_learning:compute_test_score:197 -          -> Early stopping criteria are not met, continuing with training.\n",
      "2020-08-05 14:20:03.350 | INFO     | multi_partner_learning:compute_test_score:200 - ### Evaluating model on test data:\n",
      "2020-08-05 14:20:03.557 | INFO     | multi_partner_learning:compute_test_score:203 -    Model metrics names: ['loss', 'accuracy']\n",
      "2020-08-05 14:20:03.558 | INFO     | multi_partner_learning:compute_test_score:204 -    Model metrics values: ['0.057', '0.980']\n",
      "2020-08-05 14:20:03.699 | INFO     | multi_partner_learning:compute_test_score:212 - Training and evaluation on multiple partners: done.\n"
     ]
    },
    {
     "data": {
      "text/plain": [
       "0"
      ]
     },
     "execution_count": 13,
     "metadata": {},
     "output_type": "execute_result"
    }
   ],
   "source": [
    "main.run_scenario(current_scenario)"
   ]
  },
  {
   "cell_type": "markdown",
   "metadata": {},
   "source": [
    "# Results"
   ]
  },
  {
   "cell_type": "code",
   "execution_count": 14,
   "metadata": {},
   "outputs": [
    {
     "name": "stdout",
     "output_type": "stream",
     "text": [
      "Index(['aggregation_weighting', 'dataset_fraction_per_partner', 'dataset_name',\n",
      "       'epoch_count', 'final_relative_nb_samples',\n",
      "       'gradient_updates_per_pass_count', 'is_early_stopping',\n",
      "       'learning_computation_time_sec', 'minibatch_count',\n",
      "       'mpl_nb_epochs_done', 'mpl_test_score',\n",
      "       'multi_partner_learning_approach', 'nb_samples_used', 'partners_count',\n",
      "       'samples_split_description', 'scenario_name', 'short_scenario_name',\n",
      "       'test_data_samples_count', 'train_data_samples_count', 'random_state',\n",
      "       'scenario_id'],\n",
      "      dtype='object')\n"
     ]
    }
   ],
   "source": [
    "df_results = current_scenario.to_dataframe()\n",
    "df_results[\"random_state\"] = 1\n",
    "df_results[\"scenario_id\"] = 1\n",
    "print(df_results.columns)"
   ]
  },
  {
   "cell_type": "code",
   "execution_count": 15,
   "metadata": {},
   "outputs": [
    {
     "name": "stdout",
     "output_type": "stream",
     "text": [
      "0    0.9804\n",
      "Name: mpl_test_score, dtype: float64\n"
     ]
    }
   ],
   "source": [
    "print(df_results.mpl_test_score)"
   ]
  },
  {
   "cell_type": "code",
   "execution_count": 16,
   "metadata": {},
   "outputs": [
    {
     "name": "stdout",
     "output_type": "stream",
     "text": [
      "<multi_partner_learning.MultiPartnerLearning object at 0x00000203A6F24AC8>\n"
     ]
    }
   ],
   "source": [
    "print(current_scenario.mpl)"
   ]
  },
  {
   "cell_type": "markdown",
   "metadata": {},
   "source": [
    "# Extract model "
   ]
  },
  {
   "cell_type": "code",
   "execution_count": 18,
   "metadata": {},
   "outputs": [],
   "source": [
    "model = current_scenario.mpl.get_model()"
   ]
  },
  {
   "cell_type": "code",
   "execution_count": 22,
   "metadata": {},
   "outputs": [
    {
     "name": "stdout",
     "output_type": "stream",
     "text": [
      "10000/10000 [==============================] - 1s 71us/step\n"
     ]
    },
    {
     "data": {
      "text/plain": [
       "[0.05735813774690032, 0.980400025844574]"
      ]
     },
     "execution_count": 22,
     "metadata": {},
     "output_type": "execute_result"
    }
   ],
   "source": [
    "model.evaluate(X_test, preprocess_dataset_labels(y_test))"
   ]
  },
  {
   "cell_type": "markdown",
   "metadata": {},
   "source": [
    "Seems nice as a federated learning result"
   ]
  },
  {
   "cell_type": "code",
   "execution_count": null,
   "metadata": {},
   "outputs": [],
   "source": []
  }
 ],
 "metadata": {
  "kernelspec": {
   "display_name": "Python 3",
   "language": "python",
   "name": "python3"
  },
  "language_info": {
   "codemirror_mode": {
    "name": "ipython",
    "version": 3
   },
   "file_extension": ".py",
   "mimetype": "text/x-python",
   "name": "python",
   "nbconvert_exporter": "python",
   "pygments_lexer": "ipython3",
   "version": "3.7.6"
  }
 },
 "nbformat": 4,
 "nbformat_minor": 4
}
